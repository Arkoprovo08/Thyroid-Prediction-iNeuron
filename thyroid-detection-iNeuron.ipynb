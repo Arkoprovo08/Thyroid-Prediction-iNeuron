{
  "nbformat": 4,
  "nbformat_minor": 0,
  "metadata": {
    "colab": {
      "provenance": []
    },
    "kernelspec": {
      "name": "python3",
      "display_name": "Python 3"
    },
    "language_info": {
      "name": "python"
    }
  },
  "cells": [
    {
      "cell_type": "code",
      "execution_count": null,
      "metadata": {
        "colab": {
          "base_uri": "https://localhost:8080/",
          "height": 73
        },
        "id": "fWR7nTu2Y5I-",
        "outputId": "c80d7b86-330e-4b69-afa8-7050a79e2b6a"
      },
      "outputs": [
        {
          "output_type": "display_data",
          "data": {
            "text/plain": [
              "<IPython.core.display.HTML object>"
            ],
            "text/html": [
              "\n",
              "     <input type=\"file\" id=\"files-033799ff-d6b2-437e-9b1a-375326f29690\" name=\"files[]\" multiple disabled\n",
              "        style=\"border:none\" />\n",
              "     <output id=\"result-033799ff-d6b2-437e-9b1a-375326f29690\">\n",
              "      Upload widget is only available when the cell has been executed in the\n",
              "      current browser session. Please rerun this cell to enable.\n",
              "      </output>\n",
              "      <script>// Copyright 2017 Google LLC\n",
              "//\n",
              "// Licensed under the Apache License, Version 2.0 (the \"License\");\n",
              "// you may not use this file except in compliance with the License.\n",
              "// You may obtain a copy of the License at\n",
              "//\n",
              "//      http://www.apache.org/licenses/LICENSE-2.0\n",
              "//\n",
              "// Unless required by applicable law or agreed to in writing, software\n",
              "// distributed under the License is distributed on an \"AS IS\" BASIS,\n",
              "// WITHOUT WARRANTIES OR CONDITIONS OF ANY KIND, either express or implied.\n",
              "// See the License for the specific language governing permissions and\n",
              "// limitations under the License.\n",
              "\n",
              "/**\n",
              " * @fileoverview Helpers for google.colab Python module.\n",
              " */\n",
              "(function(scope) {\n",
              "function span(text, styleAttributes = {}) {\n",
              "  const element = document.createElement('span');\n",
              "  element.textContent = text;\n",
              "  for (const key of Object.keys(styleAttributes)) {\n",
              "    element.style[key] = styleAttributes[key];\n",
              "  }\n",
              "  return element;\n",
              "}\n",
              "\n",
              "// Max number of bytes which will be uploaded at a time.\n",
              "const MAX_PAYLOAD_SIZE = 100 * 1024;\n",
              "\n",
              "function _uploadFiles(inputId, outputId) {\n",
              "  const steps = uploadFilesStep(inputId, outputId);\n",
              "  const outputElement = document.getElementById(outputId);\n",
              "  // Cache steps on the outputElement to make it available for the next call\n",
              "  // to uploadFilesContinue from Python.\n",
              "  outputElement.steps = steps;\n",
              "\n",
              "  return _uploadFilesContinue(outputId);\n",
              "}\n",
              "\n",
              "// This is roughly an async generator (not supported in the browser yet),\n",
              "// where there are multiple asynchronous steps and the Python side is going\n",
              "// to poll for completion of each step.\n",
              "// This uses a Promise to block the python side on completion of each step,\n",
              "// then passes the result of the previous step as the input to the next step.\n",
              "function _uploadFilesContinue(outputId) {\n",
              "  const outputElement = document.getElementById(outputId);\n",
              "  const steps = outputElement.steps;\n",
              "\n",
              "  const next = steps.next(outputElement.lastPromiseValue);\n",
              "  return Promise.resolve(next.value.promise).then((value) => {\n",
              "    // Cache the last promise value to make it available to the next\n",
              "    // step of the generator.\n",
              "    outputElement.lastPromiseValue = value;\n",
              "    return next.value.response;\n",
              "  });\n",
              "}\n",
              "\n",
              "/**\n",
              " * Generator function which is called between each async step of the upload\n",
              " * process.\n",
              " * @param {string} inputId Element ID of the input file picker element.\n",
              " * @param {string} outputId Element ID of the output display.\n",
              " * @return {!Iterable<!Object>} Iterable of next steps.\n",
              " */\n",
              "function* uploadFilesStep(inputId, outputId) {\n",
              "  const inputElement = document.getElementById(inputId);\n",
              "  inputElement.disabled = false;\n",
              "\n",
              "  const outputElement = document.getElementById(outputId);\n",
              "  outputElement.innerHTML = '';\n",
              "\n",
              "  const pickedPromise = new Promise((resolve) => {\n",
              "    inputElement.addEventListener('change', (e) => {\n",
              "      resolve(e.target.files);\n",
              "    });\n",
              "  });\n",
              "\n",
              "  const cancel = document.createElement('button');\n",
              "  inputElement.parentElement.appendChild(cancel);\n",
              "  cancel.textContent = 'Cancel upload';\n",
              "  const cancelPromise = new Promise((resolve) => {\n",
              "    cancel.onclick = () => {\n",
              "      resolve(null);\n",
              "    };\n",
              "  });\n",
              "\n",
              "  // Wait for the user to pick the files.\n",
              "  const files = yield {\n",
              "    promise: Promise.race([pickedPromise, cancelPromise]),\n",
              "    response: {\n",
              "      action: 'starting',\n",
              "    }\n",
              "  };\n",
              "\n",
              "  cancel.remove();\n",
              "\n",
              "  // Disable the input element since further picks are not allowed.\n",
              "  inputElement.disabled = true;\n",
              "\n",
              "  if (!files) {\n",
              "    return {\n",
              "      response: {\n",
              "        action: 'complete',\n",
              "      }\n",
              "    };\n",
              "  }\n",
              "\n",
              "  for (const file of files) {\n",
              "    const li = document.createElement('li');\n",
              "    li.append(span(file.name, {fontWeight: 'bold'}));\n",
              "    li.append(span(\n",
              "        `(${file.type || 'n/a'}) - ${file.size} bytes, ` +\n",
              "        `last modified: ${\n",
              "            file.lastModifiedDate ? file.lastModifiedDate.toLocaleDateString() :\n",
              "                                    'n/a'} - `));\n",
              "    const percent = span('0% done');\n",
              "    li.appendChild(percent);\n",
              "\n",
              "    outputElement.appendChild(li);\n",
              "\n",
              "    const fileDataPromise = new Promise((resolve) => {\n",
              "      const reader = new FileReader();\n",
              "      reader.onload = (e) => {\n",
              "        resolve(e.target.result);\n",
              "      };\n",
              "      reader.readAsArrayBuffer(file);\n",
              "    });\n",
              "    // Wait for the data to be ready.\n",
              "    let fileData = yield {\n",
              "      promise: fileDataPromise,\n",
              "      response: {\n",
              "        action: 'continue',\n",
              "      }\n",
              "    };\n",
              "\n",
              "    // Use a chunked sending to avoid message size limits. See b/62115660.\n",
              "    let position = 0;\n",
              "    do {\n",
              "      const length = Math.min(fileData.byteLength - position, MAX_PAYLOAD_SIZE);\n",
              "      const chunk = new Uint8Array(fileData, position, length);\n",
              "      position += length;\n",
              "\n",
              "      const base64 = btoa(String.fromCharCode.apply(null, chunk));\n",
              "      yield {\n",
              "        response: {\n",
              "          action: 'append',\n",
              "          file: file.name,\n",
              "          data: base64,\n",
              "        },\n",
              "      };\n",
              "\n",
              "      let percentDone = fileData.byteLength === 0 ?\n",
              "          100 :\n",
              "          Math.round((position / fileData.byteLength) * 100);\n",
              "      percent.textContent = `${percentDone}% done`;\n",
              "\n",
              "    } while (position < fileData.byteLength);\n",
              "  }\n",
              "\n",
              "  // All done.\n",
              "  yield {\n",
              "    response: {\n",
              "      action: 'complete',\n",
              "    }\n",
              "  };\n",
              "}\n",
              "\n",
              "scope.google = scope.google || {};\n",
              "scope.google.colab = scope.google.colab || {};\n",
              "scope.google.colab._files = {\n",
              "  _uploadFiles,\n",
              "  _uploadFilesContinue,\n",
              "};\n",
              "})(self);\n",
              "</script> "
            ]
          },
          "metadata": {}
        },
        {
          "output_type": "stream",
          "name": "stdout",
          "text": [
            "Saving hypothyroid.csv to hypothyroid.csv\n"
          ]
        }
      ],
      "source": [
        "from google.colab import files\n",
        "uploaded = files.upload()"
      ]
    },
    {
      "cell_type": "markdown",
      "source": [
        "#data cleaning"
      ],
      "metadata": {
        "id": "a02kmrja3az8"
      }
    },
    {
      "cell_type": "code",
      "source": [
        "uploaded"
      ],
      "metadata": {
        "colab": {
          "base_uri": "https://localhost:8080/"
        },
        "id": "ot4WpbtXaKl7",
        "outputId": "99b8c170-ae0b-4579-ccf4-24d482f90f8f"
      },
      "execution_count": null,
      "outputs": [
        {
          "output_type": "execute_result",
          "data": {
            "text/plain": [
              "{'hypothyroid.csv': b'\"age\",\"sex\",\"on_thyroxine\",\"query_on_thyroxine\",\"on_antithyroid_medication\",\"sick\",\"pregnant\",\"thyroid_surgery\",\"I131_treatment\",\"query_hypothyroid\",\"query_hyperthyroid\",\"lithium\",\"goitre\",\"tumor\",\"hypopituitary\",\"psych\",\"TSH_measured\",\"TSH\",\"T3_measured\",\"T3\",\"TT4_measured\",\"TT4\",\"T4U_measured\",\"T4U\",\"FTI_measured\",\"FTI\",\"TBG_measured\",\"TBG\",\"referral_source\",\"Class\"\\n41,F,f,f,f,f,f,f,f,f,f,f,f,f,f,f,t,1.3,t,2.5,t,125,t,1.14,t,109,f,?,SVHC,negative\\n23,F,f,f,f,f,f,f,f,f,f,f,f,f,f,f,t,4.1,t,2,t,102,f,?,f,?,f,?,other,negative\\n46,M,f,f,f,f,f,f,f,f,f,f,f,f,f,f,t,0.98,f,?,t,109,t,0.91,t,120,f,?,other,negative\\n70,F,t,f,f,f,f,f,f,f,f,f,f,f,f,f,t,0.16,t,1.9,t,175,f,?,f,?,f,?,other,negative\\n70,F,f,f,f,f,f,f,f,f,f,f,f,f,f,f,t,0.72,t,1.2,t,61,t,0.87,t,70,f,?,SVI,negative\\n18,F,t,f,f,f,f,f,f,f,f,f,f,f,f,f,t,0.03,f,?,t,183,t,1.3,t,141,f,?,other,negative\\n59,F,f,f,f,f,f,f,f,f,f,f,f,f,f,f,f,?,f,?,t,72,t,0.92,t,78,f,?,other,negative\\n80,F,f,f,f,f,f,f,f,f,f,f,f,f,f,f,t,2.2,t,0.6,t,80,t,0.7,t,115,f,?,SVI,negative\\n66,F,f,f,f,f,f,f,f,f,f,f,f,t,f,f,t,0.6,t,2.2,t,123,t,0.93,t,132,f,?,SVI,negative\\n68,M,f,f,f,f,f,f,f,f,f,f,f,f,f,f,t,2.4,t,1.6,t,83,t,0.89,t,93,f,?,SVI,negative\\n84,F,f,f,f,f,f,f,f,f,f,f,f,t,f,f,t,1.1,t,2.2,t,115,t,0.95,t,121,f,?,SVI,negative\\n67,F,t,f,f,f,f,f,f,f,f,f,f,f,f,f,t,0.03,f,?,t,152,t,0.99,t,153,f,?,other,negative\\n71,F,f,f,f,t,f,f,f,f,t,f,f,f,f,f,t,0.03,t,3.8,t,171,t,1.13,t,151,f,?,other,negative\\n59,F,f,f,f,f,f,f,f,f,f,f,f,f,f,f,t,2.8,t,1.7,t,97,t,0.91,t,107,f,?,SVI,negative\\n28,M,f,f,f,f,f,f,f,f,f,f,f,f,f,f,t,3.3,t,1.8,t,109,t,0.91,t,119,f,?,SVHC,negative\\n65,F,f,f,f,f,f,f,f,t,f,f,f,f,f,f,t,12,f,?,t,99,t,1.14,t,87,f,?,other,compensated_hypothyroid\\n42,?,f,f,f,f,f,f,f,f,f,f,f,f,f,f,t,1.2,t,1.8,t,70,t,0.86,t,81,f,?,other,negative\\n63,F,f,f,f,f,f,f,f,f,f,f,f,f,f,f,t,1.5,t,1.2,t,117,t,0.96,t,121,f,?,SVI,negative\\n80,F,f,f,f,f,f,f,f,f,f,f,f,f,f,t,t,6,t,1.6,t,99,t,0.95,t,104,f,?,SVI,negative\\n28,M,f,f,f,f,f,f,f,f,f,f,f,f,f,t,t,2.1,t,2.6,t,121,t,0.94,t,130,f,?,SVHC,negative\\n51,F,t,f,f,f,f,f,f,f,f,f,f,f,f,f,t,0.1,f,?,t,130,t,0.86,t,151,f,?,other,negative\\n46,M,f,f,f,f,f,f,f,f,f,f,f,f,f,f,t,0.8,t,2.1,t,108,t,0.91,t,119,f,?,other,negative\\n81,M,f,f,f,f,f,f,f,f,f,f,f,f,f,f,t,1.9,t,0.3,t,102,t,0.96,t,106,f,?,SVI,negative\\n54,F,f,f,f,f,f,f,f,f,f,f,f,f,f,f,t,3.1,f,?,t,104,t,0.9,t,116,f,?,other,negative\\n55,M,f,f,f,f,f,f,f,f,f,f,f,f,f,f,t,0.2,t,1.8,t,134,t,1.02,t,131,f,?,SVI,negative\\n63,F,f,f,f,f,f,f,f,f,f,f,f,f,f,f,t,0.03,t,5.5,t,199,t,1.05,t,190,f,?,other,negative\\n60,M,t,f,f,f,f,f,f,f,f,f,f,f,f,f,t,13,t,1.4,t,57,t,0.62,t,92,f,?,other,negative\\n25,F,f,f,f,f,f,f,f,f,f,f,f,f,f,f,t,0.3,t,3.1,t,129,f,?,f,?,f,?,other,negative\\n73,F,f,f,f,f,f,f,f,f,f,f,f,f,f,f,t,1.9,t,1.5,t,113,t,1.06,t,106,f,?,SVI,negative\\n67,M,f,f,f,f,f,f,f,f,f,f,f,f,f,f,f,?,f,?,t,97,t,0.95,t,102,f,?,other,negative\\n34,F,f,f,f,f,t,f,f,f,t,f,f,f,f,f,t,0.035,t,2.5,t,119,t,1.55,t,76,f,?,other,negative\\n70,F,f,f,f,f,f,f,f,f,f,f,f,f,f,f,t,2.5,t,2.3,t,84,t,0.92,t,92,f,?,other,negative\\n78,F,f,f,f,f,f,f,f,f,f,f,f,f,f,f,t,0.5,t,1.9,t,81,t,0.83,t,98,f,?,SVI,negative\\n37,F,f,f,f,f,f,f,f,f,f,f,f,f,f,f,t,1.7,t,1.9,t,95,t,1.05,t,90,f,?,SVI,negative\\n85,F,f,f,f,f,f,f,f,t,f,f,f,f,f,f,t,7.3,t,2.4,t,66,t,1.09,t,61,f,?,other,negative\\n25,F,f,f,f,f,f,f,f,f,f,f,f,t,f,f,t,1.1,f,?,t,101,t,1.07,t,94,f,?,other,negative\\n26,F,f,f,f,f,f,f,f,f,f,f,f,f,f,t,t,1.8,t,2.5,t,147,t,1.13,t,129,f,?,SVHC,negative\\n58,F,f,f,f,f,f,f,f,f,f,f,f,f,f,f,t,0.26,t,2.7,t,120,t,1.27,t,95,f,?,other,negative\\n51,F,f,f,f,f,f,f,f,f,f,f,f,f,f,f,t,2.8,f,?,t,69,t,0.76,t,91,f,?,other,negative\\n64,F,f,f,f,f,f,f,f,f,f,f,f,f,f,f,f,?,f,?,f,?,f,?,f,?,f,?,other,negative\\n44,M,f,f,f,f,f,f,f,f,f,f,f,f,f,f,t,45,t,1.4,t,39,t,1.16,t,33,f,?,SVI,primary_hypothyroid\\n48,M,f,t,f,f,f,f,f,f,t,f,f,f,f,f,t,5.4,t,1.9,t,87,t,1,t,87,f,?,other,negative\\n61,F,f,f,f,f,f,f,f,f,f,f,t,f,f,f,t,0.99,t,1.5,t,63,t,0.56,t,113,f,?,SVI,negative\\n35,F,t,f,f,f,f,f,f,f,f,f,f,f,f,f,t,0.25,t,2,t,121,t,0.81,t,148,f,?,other,negative\\n70,F,f,f,f,t,f,f,f,f,f,f,f,f,f,f,t,1.1,t,1.7,t,95,t,0.68,t,140,f,?,SVI,negative\\n81,F,f,f,f,f,f,f,f,f,f,f,f,f,f,f,t,0.2,t,2.2,t,133,t,0.78,t,171,f,?,other,negative\\n83,F,f,f,f,f,f,f,f,f,f,f,f,f,f,f,t,0.92,t,0.9,t,86,t,0.76,t,113,f,?,SVI,negative\\n21,?,f,f,f,f,f,f,f,f,f,f,f,f,f,f,f,?,t,1.8,t,163,t,1.05,t,155,f,?,other,negative\\n87,F,f,f,f,f,f,f,f,f,f,f,f,f,f,f,t,0.15,t,1.7,t,162,t,0.87,t,186,f,?,SVI,negative\\n78,F,f,f,f,f,f,f,f,t,f,f,f,f,f,f,t,0.64,t,1.7,t,113,t,0.99,t,115,f,?,SVI,negative\\n64,F,f,f,f,f,f,f,f,f,f,f,f,f,f,f,t,0.035,t,1,t,103,t,0.85,t,122,f,?,SVI,negative\\n64,F,f,f,f,t,f,f,f,f,f,f,f,f,f,f,t,1,t,1.7,t,96,t,0.9,t,107,f,?,SVI,negative\\n68,M,f,f,f,f,f,f,f,f,f,f,f,f,f,f,t,0.4,t,2.2,t,117,t,0.86,t,136,f,?,SVI,negative\\n44,F,f,f,f,f,f,f,f,f,f,f,f,f,f,f,t,2.5,t,1.6,t,119,t,1.09,t,110,f,?,other,negative\\n53,F,f,f,f,f,f,f,f,f,f,f,f,t,f,f,f,?,t,2.8,f,?,f,?,f,?,f,?,SVI,negative\\n77,M,f,f,f,f,f,f,f,f,f,f,f,f,f,f,t,2,t,2.9,t,151,t,1.35,t,111,f,?,other,negative\\n27,F,f,f,f,f,f,f,f,f,f,f,f,f,f,f,t,2.6,f,?,t,112,t,1.15,t,97,f,?,other,negative\\n65,M,f,f,f,f,f,f,f,f,f,f,f,f,f,f,t,14.8,t,1.5,t,61,t,0.85,t,72,f,?,SVI,compensated_hypothyroid\\n27,F,f,f,f,f,f,f,f,f,f,f,f,f,f,f,t,15,t,1.6,t,82,t,0.82,t,100,f,?,SVI,compensated_hypothyroid\\n54,F,f,f,f,f,f,f,f,f,f,f,f,f,f,f,t,19,t,2.2,t,83,t,1.03,t,81,f,?,SVHC,compensated_hypothyroid\\n69,F,f,f,f,f,f,f,f,f,f,f,f,f,f,f,t,1.8,t,2.3,t,97,t,0.89,t,109,f,?,SVI,negative\\n42,?,f,f,f,f,f,f,f,f,f,f,f,f,f,f,t,0.02,t,2.6,t,138,t,1.58,t,88,f,?,STMW,negative\\n87,F,f,f,f,f,f,f,f,f,f,f,f,f,f,f,t,3,t,1.6,t,71,t,1.06,t,67,f,?,other,negative\\n74,M,f,f,f,f,f,f,f,f,f,f,f,f,f,f,t,1,t,2.1,t,77,t,0.91,t,84,f,?,SVI,negative\\n38,?,f,f,f,f,f,f,f,f,f,f,f,f,f,f,t,2.9,t,1.8,t,93,t,0.95,t,98,f,?,other,negative\\n66,M,f,f,f,f,f,f,f,f,f,f,f,f,f,f,t,1.3,t,1.7,t,86,t,0.91,t,94,f,?,other,negative\\n69,F,f,f,f,f,f,f,f,f,f,f,f,f,f,f,f,?,f,?,f,?,f,?,f,?,f,?,other,negative\\n76,M,f,f,f,f,f,f,f,f,f,f,f,f,f,f,t,3.2,t,0.8,t,101,t,0.99,t,103,f,?,SVHC,negative\\n44,M,f,f,f,f,f,f,f,f,f,f,f,f,f,f,t,0.2,t,1.5,t,107,t,0.79,t,135,f,?,other,negative\\n45,?,t,f,f,f,f,f,f,f,f,f,f,f,f,f,t,9,t,2.8,t,237,t,1.17,t,203,f,?,STMW,negative\\n36,F,f,f,f,f,f,f,f,f,f,f,f,f,f,f,f,?,t,2,t,96,t,0.86,t,112,f,?,other,negative\\n22,F,f,f,f,f,f,f,f,f,f,f,f,f,f,f,t,1.3,f,?,t,110,t,0.94,t,117,f,?,other,negative\\n59,F,f,f,f,t,f,f,f,f,f,f,f,f,f,f,f,?,f,?,f,?,f,?,f,?,f,?,other,negative\\n37,F,f,f,f,f,f,f,f,f,f,f,f,f,f,f,t,1.6,f,?,t,67,t,0.71,t,95,f,?,other,negative\\n65,?,f,f,f,f,f,f,f,f,f,f,f,f,f,f,t,4.3,f,?,t,88,t,0.72,t,122,f,?,SVI,negative\\n70,F,f,f,f,f,f,f,f,f,f,f,f,f,f,f,t,0.005,t,2.6,t,160,t,0.88,t,180,f,?,other,negative\\n69,F,f,f,f,f,f,f,f,f,f,f,f,f,f,f,t,0.31,f,?,t,118,t,0.83,t,142,f,?,other,negative\\n66,M,f,f,f,f,f,f,f,f,f,f,f,f,f,f,t,0.5,t,1.9,t,80,t,0.85,t,94,f,?,SVHC,negative\\n61,F,f,f,f,f,f,f,f,f,f,f,f,f,f,f,t,0.61,t,1.6,t,103,t,0.93,t,111,f,?,SVI,negative\\n44,M,f,f,f,t,f,f,f,f,f,f,f,f,f,f,t,2,t,1.3,t,136,t,0.94,t,145,f,?,SVHD,negative\\n43,M,t,f,f,f,f,f,f,f,f,f,f,f,f,f,t,0.05,f,?,t,160,t,1.03,t,156,f,?,other,negative\\n72,F,f,t,f,f,f,f,f,f,f,f,f,f,f,f,f,?,f,?,t,114,t,1.11,t,102,f,?,other,negative\\n82,F,f,f,f,f,f,f,f,f,f,f,f,f,f,f,t,1.9,t,2.9,t,116,t,1.2,t,97,f,?,SVHC,negative\\n72,?,f,f,f,f,f,f,f,f,f,f,f,f,f,f,t,4.1,t,1.6,t,94,t,0.92,t,102,f,?,other,negative\\n71,F,f,f,f,f,f,f,f,f,f,f,f,f,f,f,t,0.8,t,2.3,t,133,t,1.1,t,121,f,?,SVI,negative\\n34,?,f,f,f,f,f,f,f,f,f,f,f,t,f,f,t,7.8,t,2,t,95,t,0.99,t,96,f,?,STMW,compensated_hypothyroid\\n31,F,f,f,f,f,f,f,f,f,f,f,f,f,f,f,t,1.3,f,?,t,161,t,1.33,t,121,f,?,other,negative\\n58,M,f,f,f,f,f,f,f,f,f,f,f,f,f,f,t,0.25,t,2.4,t,102,t,0.77,t,134,f,?,other,negative\\n39,F,f,f,f,f,f,f,f,f,f,f,f,f,f,f,t,160,t,0.4,t,11,t,1.24,t,8.9,f,?,other,primary_hypothyroid\\n49,F,f,f,f,f,f,f,f,f,f,f,f,f,f,f,t,0.1,t,0.3,t,32,t,0.53,t,60,f,?,SVI,negative\\n63,F,t,f,f,f,f,f,f,f,f,f,f,f,f,f,t,0.025,t,1.6,t,124,t,0.89,t,139,f,?,other,negative\\n80,M,f,f,f,f,f,f,f,f,f,f,f,f,f,f,t,2,t,1.2,t,39,t,0.95,t,41,f,?,SVI,negative\\n26,F,f,f,f,f,f,f,f,f,f,f,f,f,f,f,f,?,f,?,f,?,f,?,f,?,f,?,other,negative\\n23,F,f,f,f,f,f,f,f,f,f,f,f,f,f,f,t,1.3,t,2.2,t,103,t,1.35,t,76,f,?,other,negative\\n39,F,f,f,f,f,f,f,f,f,t,f,f,f,f,f,t,0.25,t,2.9,t,136,t,1.44,t,94,f,?,other,negative\\n26,F,f,f,f,f,f,f,f,f,f,f,f,f,f,f,t,2,f,?,t,137,t,1.63,t,84,f,?,other,negative\\n59,?,f,f,f,f,f,f,f,f,f,f,f,f,f,f,t,1.5,f,?,t,92,t,0.93,t,99,f,?,SVI,negative\\n39,F,f,f,t,f,f,f,f,f,f,f,f,f,f,f,t,4.3,t,2.4,t,135,t,1.51,t,89,f,?,other,negative\\n69,F,f,f,f,f,f,f,f,f,f,f,f,f,f,f,t,1.4,f,?,t,123,t,0.91,t,136,f,?,SVI,negative\\n48,F,f,f,f,f,f,f,f,f,f,f,f,f,f,f,t,0.3,t,1.6,t,86,t,0.93,t,92,f,?,SVI,negative\\n28,F,f,f,f,f,f,f,f,f,f,f,f,f,f,f,t,1.3,t,1.4,t,120,t,0.82,t,146,f,?,SVI,negative\\n62,M,f,f,f,t,f,f,f,f,f,f,f,f,f,f,t,12,t,1.5,t,105,t,0.86,t,122,f,?,other,compensated_hypothyroid\\n31,M,f,f,f,f,f,f,f,f,f,f,f,f,f,f,t,1.4,t,2.3,t,150,t,1.42,t,106,f,?,SVHC,negative\\n71,F,t,f,f,f,f,f,f,f,t,f,f,f,f,f,t,0.5,f,?,t,126,t,1.02,t,124,f,?,other,negative\\n57,F,f,f,f,f,f,f,f,f,f,f,f,f,f,f,f,?,f,?,f,?,f,?,f,?,f,?,other,negative\\n78,M,f,f,f,t,f,f,f,f,f,f,f,f,f,f,t,2.1,t,1.8,t,80,t,0.72,t,111,f,?,other,negative\\n58,?,t,f,f,f,f,f,f,f,t,f,f,f,f,f,t,0.01,t,3.3,t,129,t,1.23,t,105,f,?,SVI,negative\\n18,M,f,f,f,f,f,f,f,f,f,f,f,f,f,f,f,?,t,2.4,t,86,t,1.01,t,85,f,?,other,negative\\n59,F,f,f,f,f,f,f,f,f,f,f,f,f,f,f,t,4.1,t,3.1,t,110,t,1.06,t,104,f,?,SVI,negative\\n77,M,f,f,f,f,f,f,f,f,f,f,f,f,f,f,t,0.6,t,1.2,t,146,t,0.93,t,157,f,?,SVI,negative\\n23,F,f,f,f,f,f,f,f,f,f,f,f,f,f,f,f,?,f,?,t,86,t,0.98,t,88,f,?,other,negative\\n57,M,f,f,f,f,f,f,f,f,f,f,f,f,f,t,t,1.6,t,2,t,87,t,0.61,t,143,f,?,other,negative\\n70,M,f,f,f,f,f,f,f,f,f,f,f,f,f,f,t,1.4,t,2.1,t,91,t,0.99,t,92,f,?,SVHC,negative\\n57,F,f,f,f,f,f,f,f,f,f,f,f,f,f,f,t,1.4,t,2.3,t,70,t,0.99,t,71,f,?,SVHC,negative\\n65,F,f,f,f,f,f,f,f,f,t,f,f,f,f,f,t,0.15,t,3.5,t,217,t,0.98,t,221,f,?,other,negative\\n1,?,f,f,f,f,f,f,f,f,f,f,f,f,f,f,t,8.8,t,1.9,t,113,t,0.86,t,131,f,?,STMW,compensated_hypothyroid\\n50,M,f,f,f,f,f,f,f,f,f,f,f,f,f,f,t,151,t,1,t,32,t,1.16,t,28,f,?,other,primary_hypothyroid\\n55,F,f,f,f,t,f,f,f,f,f,f,f,f,f,f,t,0.99,t,1.3,t,93,t,0.86,t,108,f,?,SVI,negative\\n44,M,f,f,f,f,f,f,f,t,f,f,f,f,f,f,t,0.04,f,?,t,141,t,1.03,t,137,f,?,other,negative\\n35,F,f,f,f,f,f,f,f,f,f,t,f,f,f,f,t,3.9,f,?,t,83,t,0.85,t,97,f,?,SVHC,negative\\n23,F,f,f,f,f,f,f,f,f,f,f,f,f,f,f,t,0.02,t,3.4,t,91,t,1.1,t,83,f,?,other,negative\\n26,F,f,t,f,f,f,f,f,f,f,f,f,f,f,f,t,9.4,f,?,t,70,t,0.95,t,74,f,?,other,compensated_hypothyroid\\n31,F,f,f,f,f,f,f,f,f,f,f,f,f,f,f,t,7.8,t,2,t,159,t,1.51,t,105,f,?,other,negative\\n72,F,f,f,f,f,f,f,f,f,f,f,f,f,f,f,t,1.6,t,2.2,t,107,t,1.12,t,96,f,?,other,negative\\n27,M,f,f,f,f,f,f,f,f,f,f,f,f,f,f,t,0.2,t,2.2,t,99,t,0.82,t,120,f,?,SVHC,negative\\n62,M,t,f,f,f,f,f,f,t,t,f,f,f,f,f,t,13,t,1.1,t,87,t,0.81,t,107,f,?,SVHC,negative\\n30,F,f,f,f,f,t,f,f,f,f,f,f,f,f,f,t,2.7,f,?,t,125,t,1.43,t,87,f,?,STMW,negative\\n76,F,t,f,f,f,f,f,f,f,f,f,f,f,f,f,t,1.1,t,2.6,t,122,t,1.25,t,98,f,?,other,negative\\n83,F,f,f,f,f,f,f,f,f,f,f,f,f,f,f,t,2.6,t,1.3,t,100,t,0.86,t,117,f,?,SVI,negative\\n72,F,f,f,f,f,f,f,f,f,f,f,f,f,f,f,t,2.3,t,2.3,t,111,t,1.14,t,97,f,?,SVI,negative\\n29,F,f,f,f,f,f,f,f,f,f,f,f,f,f,f,t,1.6,f,?,t,140,t,1.41,t,99,f,?,other,negative\\n84,F,f,f,f,f,f,f,f,f,f,f,f,f,f,f,t,0.25,t,2,t,134,t,0.79,t,170,f,?,SVI,negative\\n55,F,f,f,f,f,f,f,f,f,f,f,f,f,f,f,t,1.8,f,?,t,84,t,0.95,t,88,f,?,other,negative\\n49,F,t,f,f,f,f,f,f,f,f,f,f,f,f,f,t,0.8,t,2.5,t,205,t,1.2,t,170,f,?,other,negative\\n80,M,f,f,f,f,f,f,f,f,f,f,f,f,f,f,t,1.3,t,2.8,t,225,t,1.68,t,134,f,?,other,negative\\n75,F,f,f,f,f,f,f,f,f,f,f,f,f,f,f,t,1.6,t,1.5,t,85,t,0.94,t,90,f,?,SVI,negative\\n43,F,t,f,f,f,f,f,f,f,f,f,f,f,f,f,t,19,f,?,t,63,t,0.97,t,65,f,?,other,negative\\n19,F,f,f,f,f,f,f,f,f,f,f,f,f,f,f,f,?,f,?,t,90,t,0.89,t,101,f,?,other,negative\\n7,M,f,f,f,f,f,f,f,f,f,f,f,f,f,f,t,0.94,t,2,t,93,t,0.84,t,110,f,?,other,negative\\n79,M,f,f,f,f,f,f,f,f,f,f,f,f,f,f,t,0.2,t,1.6,t,82,t,0.8,t,104,f,?,other,negative\\n70,F,f,f,f,f,f,f,f,f,f,f,f,f,f,f,t,2.4,f,?,t,101,t,0.9,t,113,f,?,other,negative\\n59,F,f,f,f,t,f,f,f,f,f,f,f,f,f,f,t,1.7,t,1.2,t,101,t,0.9,t,112,f,?,other,negative\\n34,F,f,f,f,f,f,f,f,f,f,f,f,f,f,f,t,0.25,t,2.3,t,103,t,1.05,t,98,f,?,other,negative\\n51,M,f,f,f,f,f,t,f,f,f,f,f,f,f,f,t,1.9,t,2.2,t,74,t,0.91,t,81,f,?,other,negative\\n79,F,f,f,f,f,f,f,f,f,f,f,f,f,f,f,t,2.1,t,2.2,t,97,t,1.01,t,97,f,?,other,negative\\n37,F,f,f,f,f,f,f,f,f,f,f,f,f,f,f,t,1.6,t,2.3,t,97,t,1.04,t,93,f,?,SVHC,negative\\n53,F,f,f,f,f,f,f,f,f,f,f,f,f,f,f,t,0.045,t,1.8,t,102,t,1,t,102,f,?,other,negative\\n62,M,f,f,f,f,f,f,f,f,f,f,f,f,f,f,t,3.5,t,2,t,67,t,0.73,t,92,f,?,SVI,negative\\n30,M,f,f,f,f,f,f,f,f,f,f,f,f,f,f,t,1.1,t,3.1,t,119,t,1.08,t,109,f,?,other,negative\\n38,F,f,f,f,f,f,f,f,f,f,f,t,f,f,f,t,0.88,t,1.6,t,108,t,0.85,t,127,f,?,SVI,negative\\n17,F,f,f,f,f,f,f,f,f,t,f,f,f,f,f,f,?,f,?,f,?,f,?,f,?,f,?,other,negative\\n55,F,f,f,f,f,f,f,f,f,t,f,f,f,f,f,t,0.01,t,5.5,t,219,t,0.8,t,274,f,?,other,negative\\n72,F,f,f,f,f,f,f,f,f,f,f,f,f,f,f,t,1.1,t,2.2,t,124,t,1.08,t,115,f,?,SVI,negative\\n72,F,f,f,f,f,f,f,f,f,f,f,f,f,f,f,t,1.5,t,1.3,t,86,t,0.88,t,99,f,?,SVI,negative\\n22,?,f,f,f,f,f,f,f,f,f,f,f,f,f,f,t,1.7,t,2.2,t,93,t,1.08,t,87,f,?,other,negative\\n18,F,f,f,f,f,f,f,f,t,f,f,f,f,f,f,t,1.1,f,?,t,147,t,0.95,t,154,f,?,STMW,negative\\n57,M,f,f,f,f,f,f,f,f,f,f,f,f,f,f,f,?,f,?,t,99,t,0.99,t,100,f,?,other,negative\\n53,M,t,f,f,f,f,t,f,f,f,f,f,f,f,f,t,0.08,f,?,t,127,t,0.9,t,141,f,?,other,negative\\n75,F,f,f,f,f,f,f,f,f,f,f,f,f,f,f,t,4.5,t,1.1,t,132,t,1.01,t,131,f,?,SVI,negative\\n58,F,t,f,f,f,f,f,f,f,f,f,f,f,f,f,t,1.5,t,1.6,t,103,t,0.9,t,114,f,?,other,negative\\n21,F,f,f,f,f,f,f,f,f,f,f,f,f,f,f,t,1.6,t,2.1,t,96,t,0.85,t,112,f,?,STMW,negative\\n19,F,f,f,t,f,f,f,f,f,f,f,f,f,f,f,t,0.1,t,4.2,t,128,t,0.98,t,130,f,?,other,negative\\n59,F,t,f,f,f,f,f,f,f,f,f,f,f,f,f,t,0.01,t,2,t,113,t,0.86,t,131,f,?,other,negative\\n54,M,f,f,f,f,f,f,f,f,f,f,f,f,f,f,t,2.3,t,2.4,t,106,t,1,t,106,f,?,other,negative\\n41,F,t,f,f,f,f,f,f,f,f,f,f,f,f,f,t,6,t,1.9,t,114,t,1,t,114,f,?,other,negative\\n27,F,f,f,f,f,f,f,f,f,f,f,f,f,f,f,t,0.5,t,1.3,t,108,t,0.79,t,137,f,?,SVI,negative\\n34,F,f,f,f,f,f,f,f,f,f,f,f,f,f,f,t,0.25,t,1.6,t,107,t,1.05,t,102,f,?,SVHC,negative\\n53,M,f,f,f,f,f,f,f,f,f,f,f,f,f,f,t,1.6,t,1.9,t,96,t,0.78,t,124,f,?,SVHC,negative\\n72,M,f,f,f,f,f,f,f,f,f,f,f,f,f,f,t,0.3,t,1.9,t,104,t,1.01,t,104,f,?,SVI,negative\\n39,F,f,f,f,f,f,f,f,f,f,f,f,f,f,f,t,2.1,f,?,f,?,f,?,f,?,f,?,other,negative\\n70,M,f,f,f,t,f,f,f,f,f,f,f,f,f,f,t,0.6,t,2.6,t,144,t,1.2,t,120,f,?,SVHD,negative\\n73,F,t,f,f,f,f,f,f,f,f,f,f,f,f,f,t,3.1,t,1.5,t,120,t,0.94,t,127,f,?,SVI,negative\\n24,M,f,f,f,f,f,f,f,f,t,f,f,f,f,f,t,0.15,t,2.7,t,116,t,0.82,t,143,f,?,other,negative\\n65,F,f,f,f,f,f,f,f,f,f,f,f,f,f,f,t,0.68,t,1.4,t,101,t,0.98,t,103,f,?,SVI,negative\\n39,F,t,f,t,f,f,f,f,f,f,f,f,f,f,f,t,1.5,t,2.8,t,131,t,1.26,t,104,f,?,other,negative\\n42,F,f,f,f,f,f,f,f,f,f,f,f,f,f,f,t,3.3,t,1.7,t,56,t,0.9,t,62,f,?,SVI,negative\\n46,F,f,f,f,f,f,f,f,f,f,f,f,f,f,f,t,1.4,t,1.3,t,104,t,1.06,t,99,f,?,SVI,negative\\n15,F,f,f,f,f,f,f,f,f,f,f,f,f,f,f,t,0.7,t,1.8,t,84,t,0.98,t,86,f,?,other,negative\\n57,?,f,f,f,f,f,f,f,f,f,f,f,f,f,f,t,0.67,t,2.6,t,79,t,0.84,t,93,f,?,other,negative\\n64,F,f,f,f,f,f,f,f,f,f,f,f,t,f,f,t,1.5,t,2.3,t,116,t,1.08,t,107,f,?,other,negative\\n50,M,f,f,f,f,f,f,f,f,f,f,f,f,f,f,t,0.2,t,1.8,t,123,t,0.97,t,126,f,?,other,negative\\n61,M,f,f,f,f,f,f,f,f,f,f,f,f,f,f,t,2.2,t,1.7,t,79,t,0.78,t,101,f,?,other,negative\\n78,F,t,f,f,f,f,f,f,t,f,f,f,f,f,f,t,2.6,t,0.3,t,87,t,0.95,t,91,f,?,SVI,negative\\n69,F,f,f,f,f,f,f,f,f,f,f,f,f,f,f,t,1.5,t,1.8,t,142,t,1.13,t,125,f,?,other,negative\\n37,F,f,f,f,f,f,t,f,f,f,f,f,f,f,f,t,27,t,1.7,t,87,f,?,f,?,f,?,other,negative\\n35,M,f,f,f,f,f,f,f,f,f,f,f,f,f,f,t,1.5,t,2.3,t,98,t,0.92,t,106,f,?,other,negative\\n68,F,f,f,f,f,f,f,f,f,f,f,f,f,f,f,t,1.3,t,2.4,t,82,t,0.91,t,90,f,?,SVI,negative\\n55,F,f,t,f,f,f,f,f,f,f,f,f,f,f,f,t,1.2,t,2.4,t,95,t,1.05,t,90,f,?,SVI,negative\\n42,F,f,f,f,f,f,f,f,f,f,f,f,f,f,f,t,6.1,t,2.2,t,74,f,?,f,?,f,?,other,compensated_hypothyroid\\n37,F,t,f,f,f,f,f,f,f,f,f,f,f,f,f,t,2.1,t,2.4,t,177,t,1.46,t,122,f,?,other,negative\\n25,M,f,f,f,f,f,f,f,f,f,f,f,f,f,t,t,1.3,t,1.5,t,96,t,0.8,t,121,f,?,other,negative\\n68,M,f,f,f,f,f,f,f,f,f,f,f,f,f,f,t,0.1,t,1.8,t,80,t,0.77,t,104,f,?,SVI,negative\\n85,M,f,f,f,f,f,f,f,f,f,f,f,f,f,f,t,0.5,t,1.2,t,93,t,0.79,t,117,f,?,SVI,negative\\n68,M,f,f,f,f,f,f,f,f,f,f,f,f,f,f,t,2,t,1.5,t,110,t,0.89,t,124,f,?,SVI,negative\\n36,F,f,f,f,f,t,f,f,f,t,f,f,f,f,f,t,0.005,f,?,t,108,t,1.1,t,99,f,?,other,negative\\n45,M,f,f,f,f,f,f,f,f,f,f,f,f,f,t,t,0.75,t,2.3,t,119,t,0.94,t,126,f,?,other,negative\\n71,F,f,f,f,f,f,f,f,f,f,f,t,f,f,f,t,0.02,f,?,t,127,t,1.06,t,119,f,?,other,negative\\n83,M,f,f,f,f,f,f,f,f,f,f,f,f,f,f,t,1.6,f,?,t,120,t,1.29,t,92,f,?,other,negative\\n35,F,f,f,t,f,f,f,f,f,f,f,f,f,f,f,t,0.045,t,2.1,t,71,t,1.1,t,64,f,?,other,negative\\n32,F,t,f,f,f,t,f,f,f,t,f,f,f,f,f,t,0.025,t,3.7,t,139,t,1.34,t,104,f,?,other,negative\\n49,F,f,f,f,t,f,f,f,f,f,f,f,f,f,f,t,1,t,1.6,t,93,t,0.94,t,99,f,?,other,negative\\n46,M,f,f,f,f,f,f,f,f,f,f,f,f,f,t,t,1.1,t,2.9,t,125,t,1.02,t,122,f,?,SVHC,negative\\n80,F,f,f,t,f,f,f,f,f,f,f,f,f,f,f,t,2.2,t,1.7,t,83,t,1.11,t,76,f,?,other,negative\\n80,F,f,f,f,f,f,f,f,f,f,f,f,f,f,t,t,1.1,t,1.8,t,94,t,0.94,t,100,f,?,SVHC,negative\\n26,F,f,f,f,f,f,f,f,f,f,f,f,f,f,f,f,?,f,?,f,?,f,?,f,?,f,?,other,negative\\n68,M,f,f,f,f,f,f,f,f,f,f,f,f,f,f,t,1.9,t,2.9,t,90,t,1,t,90,f,?,SVI,negative\\n24,M,f,f,f,f,f,f,f,f,f,f,f,f,f,f,t,0.6,t,3,t,119,t,1.03,t,115,f,?,other,negative\\n21,F,f,f,f,f,f,f,f,f,t,f,f,f,f,f,f,?,f,?,f,?,f,?,f,?,f,?,other,negative\\n38,M,f,f,f,f,f,f,f,f,f,f,f,f,f,f,f,?,f,?,t,78,t,0.87,t,90,f,?,other,negative\\n55,F,t,f,f,f,f,f,f,f,f,f,f,f,f,f,t,0.05,t,2.8,t,189,t,1.66,t,114,f,?,other,negative\\n64,F,f,f,f,f,f,f,f,f,f,f,f,f,f,f,f,?,f,?,f,?,f,?,f,?,f,?,other,negative\\n60,F,f,f,f,f,f,f,f,f,f,f,f,f,f,f,t,0.55,f,?,t,180,t,1.05,t,172,f,?,other,negative\\n47,F,f,f,f,f,f,f,f,f,f,f,f,f,f,t,t,1.9,t,2.3,t,135,t,1.07,t,126,f,?,SVHC,negative\\n34,F,t,f,t,f,f,f,f,f,f,f,f,f,f,f,t,26,t,3.7,t,107,t,1.21,t,88,f,?,other,negative\\n60,M,f,f,f,f,f,f,f,f,f,f,f,f,f,f,t,5.2,f,?,t,88,t,0.95,t,92,f,?,SVI,negative\\n48,F,f,f,f,f,f,f,f,t,f,f,f,f,f,t,t,0.77,t,1.1,t,81,t,0.86,t,95,f,?,SVHC,negative\\n25,F,f,f,f,f,f,f,f,f,f,f,f,f,f,f,t,1.8,t,2.1,t,102,t,1.12,t,91,f,?,other,negative\\n53,F,t,f,f,f,f,f,f,f,f,f,f,f,f,f,t,0.07,f,?,t,171,t,1.06,t,162,f,?,other,negative\\n54,F,f,f,f,t,f,f,f,f,f,f,f,f,f,f,t,0.9,f,?,t,113,t,0.9,t,125,f,?,other,negative\\n64,F,f,f,f,f,f,f,f,f,f,f,f,f,f,f,t,0.25,f,?,t,92,t,0.91,t,101,f,?,other,negative\\n59,F,f,f,f,f,f,f,f,f,f,f,f,f,f,f,t,11.4,f,?,t,99,t,0.97,t,102,f,?,other,compensated_hypothyroid\\n32,F,f,f,f,f,f,f,f,f,f,f,f,f,f,f,t,1.4,f,?,t,108,t,1.15,t,94,f,?,other,negative\\n53,F,f,f,f,f,f,f,f,f,f,f,f,f,f,f,t,1.1,t,2.2,t,83,t,1.05,t,79,f,?,other,negative\\n66,F,f,f,f,f,f,f,f,f,t,f,f,f,f,f,t,1.1,t,1.8,t,135,t,1.09,t,124,f,?,other,negative\\n79,F,f,f,f,f,f,f,f,f,f,f,f,f,f,f,t,143,t,0.7,t,73,t,1.01,t,72,f,?,other,compensated_hypothyroid\\n38,M,f,f,f,f,f,f,f,f,f,f,f,f,f,f,t,0.05,t,4.8,t,32,f,?,f,?,f,?,other,negative\\n54,F,f,f,f,f,f,f,f,f,f,f,f,f,f,f,t,0.6,t,2.2,t,98,t,1.03,t,96,f,?,SVI,negative\\n64,F,t,f,f,f,f,f,f,f,f,f,f,f,f,f,t,1.2,t,2.3,t,177,t,1.51,t,117,f,?,other,negative\\n1,M,f,f,f,f,f,f,f,f,f,f,f,f,f,f,t,1.6,t,1.8,t,119,t,1.05,t,113,f,?,SVI,negative\\n22,F,f,f,f,f,f,f,f,f,f,f,f,f,f,f,f,?,f,?,f,?,f,?,f,?,f,?,other,negative\\n16,M,f,f,f,f,f,f,f,f,f,f,f,f,f,f,t,1.8,t,2,t,103,t,1.03,t,100,f,?,other,negative\\n70,M,f,f,f,f,f,f,f,f,t,f,f,f,f,f,f,?,f,?,f,?,f,?,f,?,f,?,other,negative\\n74,F,f,f,f,f,f,f,f,f,f,f,f,f,f,f,t,1.3,t,2.3,t,113,t,0.96,t,118,f,?,other,negative\\n44,M,f,t,f,f,f,f,f,f,f,f,t,f,f,f,t,0.1,t,0.6,t,61,t,0.86,t,71,f,?,SVI,negative\\n47,F,f,f,f,f,f,f,f,f,t,f,f,t,f,f,t,0.005,t,3,t,145,t,1.23,t,117,f,?,other,negative\\n53,F,f,f,f,f,f,f,f,f,f,f,f,f,f,f,t,0.05,t,4.3,t,184,t,1.19,t,155,f,?,other,negative\\n44,F,f,f,f,f,f,f,f,f,f,f,f,f,f,f,t,0.72,t,0.9,t,96,t,0.75,t,127,f,?,other,negative\\n76,F,f,f,f,f,f,f,f,f,f,f,f,f,f,f,t,2.4,t,0.05,t,38,t,0.52,t,73,f,?,SVI,negative\\n32,F,f,f,f,f,f,f,f,f,t,f,f,f,f,f,t,2.8,t,1.3,t,86,t,0.89,t,96,f,?,other,negative\\n52,F,f,f,f,f,f,f,f,f,f,f,f,f,f,f,t,0.03,f,?,t,163,t,0.95,t,172,f,?,other,negative\\n19,F,f,f,f,f,t,f,f,f,f,f,f,t,f,f,t,0.45,t,3.2,t,130,t,1.83,t,71,f,?,STMW,negative\\n69,M,f,f,f,f,f,f,f,f,f,f,f,f,f,f,t,1.1,t,1.6,t,99,t,0.92,t,108,f,?,other,negative\\n38,M,f,f,f,f,f,f,f,f,f,f,f,f,f,f,t,0.57,t,1.3,t,156,t,1.39,t,112,f,?,SVHC,negative\\n37,M,f,f,f,f,f,f,f,f,t,f,f,f,f,f,t,0.65,t,1.3,t,136,t,1.19,t,115,f,?,other,negative\\n80,M,f,f,f,f,f,f,f,f,f,f,f,f,f,f,t,0.15,t,2.2,t,124,t,0.81,t,152,f,?,SVI,negative\\n61,M,f,f,f,f,f,f,f,f,f,f,f,f,f,f,t,0.02,t,1.5,t,125,t,0.77,t,163,f,?,other,negative\\n71,F,f,f,f,f,f,f,f,f,f,f,f,f,f,f,t,0.3,t,2.3,t,120,t,0.8,t,149,f,?,other,negative\\n46,F,f,f,f,f,f,f,f,f,f,f,f,f,f,f,t,0.015,t,2,t,93,t,0.97,t,96,f,?,other,negative\\n24,F,f,f,f,f,f,f,f,f,f,f,f,f,f,f,t,0.4,f,?,t,142,t,1.2,t,118,f,?,other,negative\\n25,F,f,f,f,f,f,f,f,f,f,f,f,f,f,f,t,1.6,t,5.4,t,152,t,1.5,t,102,f,?,STMW,negative\\n33,F,f,f,f,f,f,f,f,t,f,f,f,f,f,f,t,16,t,1.7,t,75,f,?,f,?,f,?,other,compensated_hypothyroid\\n28,F,f,f,f,f,f,f,f,f,f,f,f,f,f,f,t,1.4,t,2.4,t,102,t,1.08,t,95,f,?,SVI,negative\\n24,M,f,f,f,f,f,f,f,f,f,f,f,f,f,f,t,2.3,t,2,t,121,t,0.81,t,149,f,?,SVI,negative\\n81,F,f,f,f,f,f,f,f,f,f,f,f,f,f,t,t,1.8,t,1.8,t,148,t,1.19,t,125,f,?,SVHC,negative\\n69,M,f,f,f,f,f,f,f,f,f,f,f,f,f,f,f,?,f,?,t,118,t,1.11,t,107,f,?,other,negative\\n28,F,f,f,t,f,f,f,f,f,t,f,f,f,f,f,t,2.4,t,2.1,t,125,f,?,f,?,f,?,other,negative\\n49,F,t,f,f,f,f,f,f,f,f,f,f,f,f,f,t,1.2,f,?,t,87,t,0.91,t,95,f,?,other,negative\\n67,M,f,f,f,f,f,f,f,f,f,f,f,f,f,f,t,1.4,t,1.5,t,95,t,0.78,t,122,f,?,SVI,negative\\n42,M,f,f,f,f,f,f,f,f,f,f,f,f,f,f,t,1,t,2.4,t,128,t,1.11,t,115,f,?,other,negative\\n63,M,f,f,f,f,f,f,f,f,f,f,f,f,f,f,t,108,t,0.4,t,14,t,0.98,t,14,f,?,SVI,primary_hypothyroid\\n19,M,f,f,f,f,f,f,f,t,f,f,f,f,f,f,t,9,t,2.2,t,117,f,?,f,?,f,?,other,compensated_hypothyroid\\n41,F,f,f,f,f,f,f,f,f,f,f,f,f,f,f,f,?,f,?,f,?,f,?,f,?,f,?,other,negative\\n31,F,f,f,f,f,f,f,f,f,f,f,f,f,f,t,t,0.1,t,1.8,t,93,f,?,f,?,f,?,SVHC,negative\\n78,M,f,f,f,f,f,f,f,f,f,f,f,f,f,f,t,2.4,t,1.3,t,87,t,0.89,t,97,f,?,SVI,negative\\n66,F,f,f,f,f,f,f,f,f,f,f,f,f,f,f,t,0.83,t,2.3,t,113,t,0.84,t,134,f,?,other,negative\\n13,M,f,f,f,f,f,f,f,f,f,f,f,f,f,f,t,2.7,t,2.8,t,110,t,1.1,t,100,f,?,other,negative\\n55,F,f,f,f,f,f,f,f,f,f,f,f,f,f,t,t,9.2,t,2.5,t,106,t,1.13,t,94,f,?,SVHC,compensated_hypothyroid\\n76,F,f,f,f,f,f,f,f,f,f,f,f,f,f,f,t,3.9,t,1.7,t,104,t,1.04,t,100,f,?,SVI,negative\\n58,F,f,f,f,f,f,f,f,f,f,f,f,f,f,f,f,?,f,?,f,?,f,?,f,?,f,?,other,negative\\n23,F,f,f,f,f,f,f,f,f,f,f,f,f,f,f,t,1.6,t,1.4,t,76,t,0.83,t,91,f,?,SVI,negative\\n26,F,f,f,f,f,f,f,f,f,f,f,f,f,f,f,t,2.1,t,2.2,t,95,t,1,t,95,f,?,other,negative\\n21,F,f,f,f,f,f,f,f,f,t,f,f,f,f,f,t,0.4,t,3.4,t,189,t,1.35,t,140,f,?,other,negative\\n72,M,f,f,f,f,f,f,f,f,f,f,f,f,f,f,t,5.4,t,1,t,75,t,0.82,t,92,f,?,SVI,negative\\n21,M,f,t,f,f,f,f,f,f,f,f,f,f,t,f,t,0.25,t,1.3,t,54,t,1.07,t,51,f,?,SVI,negative\\n19,?,f,f,f,f,f,f,f,f,f,f,f,f,f,f,f,?,t,2.2,f,?,f,?,f,?,f,?,other,negative\\n73,F,f,f,f,f,f,f,f,f,f,f,f,f,f,f,t,0.6,t,1.3,t,146,t,0.89,t,165,f,?,other,negative\\n39,M,f,f,f,f,f,f,f,f,f,f,f,f,f,t,t,1.5,f,?,t,93,t,0.75,t,125,f,?,SVHC,negative\\n72,F,f,f,f,f,f,f,f,f,f,f,f,f,f,f,t,1.9,t,1.4,t,109,t,0.95,t,116,f,?,SVI,negative\\n70,F,f,f,f,f,f,f,f,f,f,f,f,f,f,f,t,1.5,t,0.3,t,79,t,0.8,t,98,f,?,SVI,negative\\n10,M,f,f,f,f,f,f,f,f,f,f,f,f,f,f,t,2.9,t,4,t,90,t,1.11,t,81,f,?,other,negative\\n81,M,f,f,f,f,f,f,f,f,f,f,f,f,f,f,f,?,t,1.7,t,71,t,0.92,t,77,f,?,other,negative\\n82,M,f,f,f,f,f,f,f,f,f,f,f,f,f,f,t,2,t,0.4,t,58,t,0.68,t,85,f,?,SVI,negative\\n70,M,f,f,f,f,f,f,f,f,f,f,f,f,f,f,t,86,t,0.5,t,27,t,0.84,t,32,f,?,SVI,primary_hypothyroid\\n57,M,f,f,f,f,f,f,f,f,f,f,f,f,f,f,t,0.62,t,2.4,t,118,t,1.12,t,106,f,?,SVI,negative\\n43,F,f,f,f,f,f,f,f,f,f,f,f,f,f,f,t,2,t,1.8,t,121,t,0.94,t,129,f,?,SVHC,negative\\n36,F,f,f,f,f,f,f,f,f,f,f,f,f,f,f,t,0.59,f,?,t,115,t,1.2,t,96,f,?,other,negative\\n70,M,f,f,f,f,f,f,f,f,f,f,f,f,f,f,t,3,t,1.3,t,105,t,0.94,t,112,f,?,SVI,negative\\n75,F,f,f,f,f,f,f,f,f,f,f,f,f,f,f,t,1.9,t,1.4,t,107,t,0.92,t,116,f,?,other,negative\\n78,M,f,f,f,f,f,f,f,f,f,f,f,f,f,t,t,2.9,t,1.9,t,90,t,0.97,t,93,f,?,SVHC,negative\\n64,F,f,f,f,f,f,f,f,f,f,f,f,f,f,f,t,0.08,t,1.7,t,74,t,1.07,t,69,f,?,other,negative\\n74,F,f,f,f,f,f,f,f,f,f,f,f,f,f,f,t,9.1,t,2,t,72,t,0.9,t,80,f,?,other,compensated_hypothyroid\\n44,F,f,f,f,f,f,f,f,f,f,f,f,f,f,f,t,5.9,t,2.4,t,61,f,?,f,?,f,?,other,negative\\n80,M,f,f,f,f,f,f,f,f,f,f,f,f,f,f,t,3.3,t,1.3,t,93,t,0.86,t,108,f,?,SVI,negative\\n59,M,f,f,f,f,f,f,f,f,f,f,f,f,f,f,t,0.25,t,1.8,t,102,t,0.82,t,124,f,?,other,negative\\n67,F,f,f,f,f,f,f,f,f,f,f,f,f,f,f,t,52,t,1.2,t,65,t,0.92,t,71,f,?,SVI,compensated_hypothyroid\\n29,M,t,f,f,f,f,f,f,f,f,f,f,f,f,f,t,0.33,t,2.2,t,142,t,0.93,t,153,f,?,other,negative\\n49,M,f,f,f,f,f,f,f,f,f,f,f,f,f,f,t,0.7,t,2.1,t,102,t,0.93,t,110,f,?,SVI,negative\\n43,M,f,f,f,f,f,f,f,f,f,f,f,f,f,f,f,?,f,?,t,65,t,0.93,t,70,f,?,other,negative\\n47,M,f,f,f,t,f,f,f,f,f,f,f,f,f,f,t,1.5,t,1.5,t,98,t,0.86,t,113,f,?,SVI,negative\\n39,M,f,t,f,f,f,f,f,f,f,f,f,f,f,f,f,?,f,?,t,63,t,0.87,t,72,f,?,other,negative\\n28,F,f,f,f,f,f,f,f,f,f,f,f,f,f,f,t,0.8,t,3.8,t,193,t,1.93,t,100,f,?,STMW,negative\\n59,M,f,f,f,t,f,f,f,f,f,f,f,f,f,f,t,0.3,t,2.4,t,86,t,0.9,t,96,f,?,SVI,negative\\n32,F,f,f,f,f,f,f,f,f,f,f,f,f,f,f,t,0.9,t,2.3,t,129,t,1.29,t,100,f,?,STMW,negative\\n22,F,f,f,f,f,f,f,f,f,f,f,f,f,f,f,f,?,f,?,f,?,f,?,f,?,f,?,other,negative\\n80,M,f,f,f,f,f,f,f,f,f,f,f,f,f,f,t,6.1,t,1.3,t,83,t,0.88,t,95,f,?,SVI,compensated_hypothyroid\\n71,M,f,f,f,f,f,f,f,f,f,f,f,f,f,f,t,1.3,t,1.4,t,116,t,0.96,t,121,f,?,SVI,negative\\n42,F,f,f,f,f,f,f,f,f,f,f,f,f,f,f,t,31,t,0.8,t,13,t,1.19,t,11,f,?,other,primary_hypothyroid\\n57,F,f,f,f,f,f,f,f,f,f,f,f,f,f,f,f,?,t,1.6,t,57,t,1.05,t,54,f,?,other,negative\\n85,F,f,f,f,f,f,f,f,f,f,f,f,f,f,f,t,1,t,1,t,92,t,0.56,t,164,f,?,SVI,negative\\n77,F,f,f,f,f,f,f,f,f,f,f,f,f,f,f,t,3.1,t,0.9,t,105,t,0.82,t,129,f,?,SVI,negative\\n65,F,t,f,f,f,f,f,f,f,f,f,f,f,f,f,t,1.5,t,1.7,t,116,t,1.07,t,108,f,?,other,negative\\n67,F,f,f,f,f,f,f,f,f,f,f,f,f,f,f,t,1.1,t,1.2,t,90,t,0.82,t,110,f,?,SVI,negative\\n23,F,f,f,f,f,f,f,f,f,f,f,f,f,f,t,t,1.9,t,2.4,t,129,t,1.18,t,109,f,?,other,negative\\n63,M,f,f,f,t,f,f,f,f,f,f,f,f,f,f,t,1.4,t,1.4,t,90,t,0.91,t,100,f,?,SVI,negative\\n30,F,f,f,f,f,f,f,f,f,f,f,f,f,f,f,t,3,f,?,t,96,t,0.82,t,118,f,?,other,negative\\n33,M,f,f,f,f,f,f,f,f,f,f,f,f,f,f,t,1,t,2.4,t,120,t,0.98,t,123,f,?,SVHC,negative\\n29,F,f,f,f,f,f,f,f,f,f,f,f,f,f,f,t,0.1,t,2.2,t,85,t,1.06,t,80,f,?,SVHC,negative\\n60,M,f,f,f,f,f,f,f,f,f,f,f,f,f,f,t,2.3,t,2.2,t,90,t,1.04,t,87,f,?,SVHC,negative\\n45,F,f,f,f,f,f,f,f,f,f,f,f,f,f,f,t,0.6,t,1.9,t,121,t,1.04,t,116,f,?,SVI,negative\\n61,M,f,f,f,f,f,f,f,f,f,f,f,f,f,f,t,1.2,t,2.3,t,143,t,1.02,t,141,f,?,SVHC,negative\\n63,?,f,f,f,f,f,f,f,f,f,f,f,f,f,f,t,5.8,t,1.3,t,92,t,0.94,t,98,f,?,other,negative\\n67,F,t,f,f,f,f,f,f,t,f,f,f,f,f,f,t,2,t,2.5,t,133,t,1.19,t,112,f,?,other,negative\\n72,M,f,f,f,f,f,f,f,f,f,f,f,t,f,f,t,0.28,t,0.9,t,79,t,0.7,t,112,f,?,SVI,negative\\n38,F,f,f,f,f,f,f,f,f,f,f,f,f,f,f,t,1.8,t,2.5,t,101,t,1.04,t,97,f,?,SVI,negative\\n72,M,f,f,f,f,f,f,f,f,t,f,f,t,f,f,t,1.5,t,1.8,f,?,t,0.93,t,112,f,?,SVI,negative\\n55,F,t,f,f,f,f,f,f,f,f,f,f,f,f,f,t,0.005,t,1.9,t,107,t,0.74,t,144,f,?,other,negative\\n72,M,f,f,f,f,f,f,f,f,f,f,f,f,f,f,t,1.6,t,2.2,t,87,t,1.17,t,74,f,?,other,negative\\n61,F,f,t,f,f,f,f,f,f,f,f,f,f,f,f,f,?,f,?,t,63,t,0.71,t,89,f,?,other,negative\\n73,M,f,f,f,f,f,f,f,f,f,f,f,f,f,f,t,0.1,t,1.5,t,77,t,0.79,t,97,f,?,SVI,negative\\n44,M,f,f,f,f,f,f,f,f,f,f,f,f,f,f,t,0.25,f,?,t,106,t,1.02,t,105,f,?,other,negative\\n67,F,f,f,f,f,f,f,f,f,f,f,f,f,f,f,t,51,t,0.4,t,12,t,1.26,t,10,f,?,other,primary_hypothyroid\\n15,F,f,f,f,f,f,f,f,f,f,f,f,f,f,f,t,1,t,1.4,t,64,t,0.79,t,81,f,?,SVI,negative\\n72,F,t,f,f,t,f,f,f,f,f,f,f,f,f,f,t,6.3,t,1.5,t,94,t,0.92,t,102,f,?,SVHD,negative\\n59,F,f,f,f,f,f,f,f,f,f,f,f,f,f,f,t,4.4,t,2.4,t,80,t,0.98,t,81,f,?,other,negative\\n67,F,f,f,f,f,f,f,f,f,f,f,f,f,f,f,t,2.3,t,1.4,t,124,t,0.86,t,144,f,?,SVI,negative\\n38,M,f,f,f,f,f,f,f,f,f,f,f,f,f,f,t,0.4,t,2,t,91,t,0.78,t,117,f,?,SVHC,negative\\n67,M,f,f,f,f,f,f,f,f,f,f,t,f,f,f,f,?,f,?,t,101,t,1.01,t,100,f,?,other,negative\\n55,F,f,f,f,f,f,f,f,f,t,f,f,f,f,f,t,4.5,t,1.7,t,91,t,1.09,t,84,f,?,other,negative\\n45,F,f,f,f,f,f,f,f,f,f,f,f,f,f,f,t,0.08,t,4.8,t,257,t,1.2,t,214,f,?,other,negative\\n36,F,f,f,f,f,f,f,f,f,f,f,f,f,f,f,f,?,f,?,t,81,t,0.85,t,95,f,?,other,negative\\n26,M,f,f,f,f,f,f,f,f,f,f,f,f,f,t,t,0.25,t,1.8,t,120,t,0.85,t,140,f,?,SVHC,negative\\n54,M,f,t,f,f,f,f,f,f,f,f,f,f,f,f,f,?,t,1.9,t,95,t,0.88,t,109,f,?,other,negative\\n60,F,f,f,f,f,f,f,f,f,f,f,f,f,f,f,f,?,t,2.2,f,?,f,?,f,?,f,?,other,negative\\n87,F,f,f,f,f,f,f,f,f,t,f,f,f,f,f,t,0.2,t,3.4,t,164,t,0.82,t,200,f,?,other,negative\\n67,F,f,f,f,f,f,f,f,f,f,f,f,f,f,f,t,1.3,t,1.4,t,113,t,0.85,t,132,f,?,other,negative\\n27,F,f,f,f,f,f,f,f,f,f,f,f,f,f,f,t,1.8,t,2.3,t,119,t,0.99,t,120,f,?,other,negative\\n75,F,f,f,f,f,f,f,f,f,f,f,f,f,f,f,t,9.6,t,1.9,t,79,t,1,t,80,f,?,SVI,compensated_hypothyroid\\n79,F,f,f,f,f,f,f,f,f,f,f,f,f,f,f,t,0.5,t,1.6,t,128,t,0.99,t,129,f,?,SVI,negative\\n61,M,t,f,f,f,f,f,f,f,f,f,f,f,f,f,t,0.25,t,2.5,t,101,t,1,t,101,f,?,other,negative\\n44,F,f,f,f,f,f,f,f,f,f,f,f,f,f,f,t,3.4,t,1.6,t,107,t,1.15,t,93,f,?,other,negative\\n49,M,f,f,f,f,f,f,f,f,f,f,f,f,f,f,t,0.08,t,0.2,t,59,t,0.79,t,74,f,?,SVI,negative\\n58,F,t,f,f,f,f,f,f,f,f,f,f,f,f,f,t,1.5,t,1.6,t,140,t,1.1,t,127,f,?,other,negative\\n59,F,f,f,f,f,f,f,f,f,f,f,f,f,f,f,t,0.09,t,1.3,t,80,t,1.02,t,79,f,?,other,negative\\n43,F,f,f,f,f,f,f,f,f,t,f,f,f,f,f,t,1.1,t,2.3,t,140,t,1.2,t,116,f,?,other,negative\\n61,F,f,f,f,f,f,f,f,t,f,f,f,f,f,f,t,0.4,f,?,t,113,t,1.06,t,106,f,?,other,negative\\n59,M,f,f,f,f,f,f,f,f,f,f,f,f,f,f,t,1.5,t,1.8,t,147,t,1.11,t,132,f,?,SVI,negative\\n83,F,f,f,f,f,f,f,f,f,f,f,f,f,f,f,t,2.9,t,1.4,t,95,t,0.81,t,118,f,?,SVI,negative\\n75,M,f,f,f,f,f,f,f,f,f,f,f,f,f,f,t,0.04,t,0.8,t,93,t,0.58,t,160,f,?,other,negative\\n57,M,t,f,f,f,f,f,f,f,f,f,f,f,f,f,t,0.62,t,1.5,t,74,t,0.78,t,96,f,?,other,negative\\n34,F,f,f,f,f,f,f,f,f,f,f,f,f,f,f,t,2.3,t,2.5,t,121,t,1.29,t,94,f,?,SVHC,negative\\n70,M,t,f,f,f,f,f,t,f,f,f,f,f,f,f,t,2.3,t,1.2,t,107,t,1.01,t,105,f,?,other,negative\\n80,F,f,f,f,f,f,f,f,f,f,f,f,f,f,f,t,2.5,t,2.2,t,113,t,1.17,t,97,f,?,SVI,negative\\n46,F,f,f,f,f,f,f,f,f,f,f,f,f,f,f,t,0.6,t,2.3,t,101,t,0.99,t,102,f,?,SVHC,negative\\n22,F,f,f,f,f,f,f,f,f,f,f,f,f,f,f,t,0.5,t,1.7,t,83,t,0.86,t,97,f,?,other,negative\\n25,F,f,f,f,f,t,f,f,f,f,f,f,t,f,f,f,?,t,2.2,t,113,t,1.08,t,105,f,?,STMW,negative\\n50,F,f,f,f,f,f,f,f,f,f,f,f,f,f,f,t,3.1,t,1.9,t,77,t,0.8,t,97,f,?,SVI,negative\\n32,F,f,f,f,f,t,f,f,f,f,f,f,f,f,t,t,0.5,t,3,t,167,t,1.82,t,92,f,?,SVHC,negative\\n74,M,t,f,t,f,f,f,f,t,t,f,f,f,f,f,t,5.2,f,?,f,?,f,?,f,?,f,?,other,negative\\n29,F,f,f,f,f,f,t,f,f,f,f,f,f,f,f,t,24,f,?,t,63,t,1.2,t,53,f,?,other,primary_hypothyroid\\n89,F,f,f,f,f,f,f,f,f,f,f,f,f,f,f,f,?,f,?,f,?,f,?,f,?,f,?,other,negative\\n75,F,t,f,f,f,f,f,f,f,f,f,f,f,f,f,t,0.76,f,?,t,138,t,0.96,t,143,f,?,other,negative\\n68,F,f,f,f,f,f,f,f,f,t,f,f,f,f,f,t,42,t,0.2,t,18,t,1.09,t,16,f,?,SVI,primary_hypothyroid\\n23,M,f,f,f,f,f,f,f,f,f,f,f,f,f,f,t,0.03,t,2.8,t,183,t,1.23,t,149,f,?,other,negative\\n73,M,f,f,f,t,f,f,f,f,f,f,f,f,f,f,t,3.2,t,1.5,t,69,t,0.8,t,86,f,?,SVI,negative\\n18,F,f,f,f,f,f,f,f,f,f,f,f,f,f,t,t,12,t,2.2,t,94,t,0.96,t,98,f,?,other,compensated_hypothyroid\\n18,M,t,f,f,f,f,f,t,t,t,f,f,f,f,f,t,25,t,1.1,t,136,t,0.96,t,143,f,?,other,negative\\n34,F,t,f,f,f,f,f,f,t,f,f,f,f,f,f,t,0.4,f,?,t,109,t,0.91,t,120,f,?,other,negative\\n49,F,f,f,f,f,f,f,f,f,f,f,f,f,f,f,t,1.1,t,1.3,t,108,t,0.83,t,130,f,?,SVI,negative\\n64,M,f,f,f,f,f,f,f,f,f,f,f,f,f,f,t,2,t,1.3,t,124,t,0.9,t,138,f,?,SVI,negative\\n45,M,f,f,f,t,f,f,f,t,f,f,f,f,f,t,t,10,t,0.3,t,67,f,?,f,?,f,?,SVI,compensated_hypothyroid\\n56,M,f,f,f,f,f,f,f,f,f,f,f,f,f,f,t,2.2,t,1.4,t,71,t,0.72,t,99,f,?,other,negative\\n61,M,f,f,f,t,f,f,f,f,f,f,f,f,f,f,t,0.6,t,1,t,96,t,0.93,t,104,f,?,SVI,negative\\n73,F,f,f,f,f,f,f,f,f,f,f,f,f,f,f,t,4.6,t,0.8,t,91,t,0.86,t,106,f,?,SVI,negative\\n62,M,f,f,f,f,f,f,f,f,f,f,f,f,f,f,t,8.6,t,1.1,t,84,t,0.74,t,114,f,?,SVI,compensated_hypothyroid\\n37,F,f,f,f,f,f,f,f,f,f,f,f,f,f,f,f,?,f,?,t,118,t,1.04,t,112,f,?,other,negative\\n55,M,f,f,f,f,f,f,f,f,f,f,f,f,f,f,t,1.9,f,?,t,128,t,0.98,t,131,f,?,other,negative\\n63,F,f,f,f,f,f,f,f,f,f,f,f,f,f,f,t,2.7,t,0.7,t,41,t,0.6,t,69,f,?,SVI,negative\\n27,F,f,f,f,f,f,f,f,f,f,f,f,f,f,f,f,?,f,?,t,86,t,0.93,t,92,f,?,other,negative\\n32,M,f,f,f,f,f,f,f,f,f,f,f,f,f,t,t,0.15,t,2.9,t,132,t,1.14,t,116,f,?,SVHC,negative\\n58,M,t,f,f,f,f,f,f,f,f,f,f,f,f,f,t,1.2,t,1.7,t,123,t,0.96,t,129,f,?,other,negative\\n56,F,f,f,f,f,f,f,f,f,f,f,f,f,f,f,t,0.5,t,2.3,t,85,t,0.81,t,105,f,?,SVI,negative\\n43,M,f,f,f,f,f,f,f,f,f,f,f,f,f,f,t,2.2,t,2.3,t,87,t,0.93,t,94,f,?,other,negative\\n79,M,f,f,f,f,f,f,f,f,f,f,f,f,f,f,t,2.7,t,0.9,t,86,t,0.85,t,102,f,?,SVI,negative\\n23,M,f,f,f,f,f,f,f,f,f,f,f,f,f,t,t,0.66,t,2.3,t,114,t,0.88,t,129,f,?,SVHC,negative\\n70,F,f,f,f,f,f,f,f,f,f,f,f,f,f,f,t,6.2,t,1.8,t,124,t,1.11,t,112,f,?,other,compensated_hypothyroid\\n54,?,f,f,f,f,f,f,f,t,f,f,f,f,f,f,t,0.01,t,3.6,t,142,t,1.23,t,115,f,?,other,negative\\n31,F,f,f,f,f,f,f,f,f,f,f,f,t,f,f,f,?,t,3.6,t,176,t,1.43,t,123,f,?,other,negative\\n20,F,f,f,f,f,f,f,f,f,f,f,f,f,f,f,t,0.9,t,3.3,t,156,t,1.67,t,93,f,?,STMW,negative\\n39,F,f,f,f,f,f,f,f,f,f,f,f,f,f,t,t,0.79,t,1.9,t,107,t,0.99,t,108,f,?,other,negative\\n65,F,f,f,f,f,f,f,f,f,f,f,f,f,f,f,t,1.7,t,2.3,t,101,t,0.95,t,106,f,?,other,negative\\n35,?,f,f,f,f,f,f,f,f,f,f,f,f,f,f,t,28,t,2.5,f,?,f,?,f,?,f,?,other,compensated_hypothyroid\\n36,F,f,f,f,f,f,f,f,f,f,f,f,f,f,f,t,0.2,t,3,t,125,t,0.74,t,169,f,?,SVI,negative\\n49,M,f,f,f,f,f,f,f,f,f,f,f,f,f,f,t,0.86,t,2.7,t,94,f,?,f,?,f,?,other,negative\\n55,M,f,f,f,f,f,f,f,f,f,f,f,f,f,f,t,1.4,t,1.6,t,101,t,0.93,t,108,f,?,SVI,negative\\n26,F,f,f,f,f,f,f,f,f,f,f,f,f,f,f,t,2.7,t,2.8,t,96,t,0.82,t,118,f,?,other,negative\\n31,M,f,f,f,f,f,f,f,f,f,f,f,f,f,t,t,1.2,t,2.7,t,99,t,0.88,t,113,f,?,SVHC,negative\\n46,F,t,f,f,f,f,f,f,f,f,f,f,f,f,f,t,9.7,t,0.5,t,37,t,0.72,t,51,f,?,SVI,primary_hypothyroid\\n34,M,f,f,f,f,f,f,f,f,f,f,f,f,f,t,t,0.83,t,2.4,t,114,t,1.02,t,112,f,?,SVHC,negative\\n73,M,f,f,f,f,f,f,f,f,f,f,f,f,f,f,t,0.84,t,1.3,t,66,t,1.17,t,56,f,?,SVI,negative\\n50,F,f,f,f,f,f,f,f,f,f,f,f,f,f,f,t,28,t,0.2,t,33,t,0.7,t,47,f,?,SVI,primary_hypothyroid\\n75,M,f,f,f,f,f,f,f,f,f,f,f,f,f,f,t,1.3,t,2.2,t,100,t,0.97,t,104,f,?,SVI,negative\\n7,M,f,f,f,f,f,f,f,f,f,f,f,f,f,f,t,15,f,?,t,137,t,1.03,t,133,f,?,other,compensated_hypothyroid\\n50,F,f,f,f,f,f,f,f,f,f,f,f,f,f,f,t,2.8,t,1.6,t,105,t,0.8,t,131,f,?,SVI,negative\\n52,M,f,f,f,f,f,f,f,f,f,f,f,f,f,f,t,2,t,1.8,t,86,t,0.86,t,101,f,?,other,negative\\n61,F,t,f,f,f,f,f,f,t,f,f,f,f,f,f,t,17,t,2.2,t,131,t,1.22,t,108,f,?,SVI,negative\\n47,M,f,f,f,f,f,f,f,f,f,f,f,f,f,f,t,1.1,t,2.1,t,94,t,0.79,t,119,f,?,other,negative\\n45,M,f,f,f,f,f,f,f,f,f,f,f,f,f,f,t,1.1,t,2,t,63,t,0.66,t,96,f,?,SVI,negative\\n77,F,f,f,f,f,f,f,f,f,f,f,f,f,f,f,t,18,t,0.3,t,44,t,0.56,t,77,f,?,SVI,compensated_hypothyroid\\n35,M,f,f,f,f,f,f,f,f,f,f,f,f,f,f,t,0.05,t,2.3,t,112,t,1,t,112,f,?,SVI,negative\\n83,M,f,f,f,f,f,f,f,f,f,f,f,f,f,f,t,2.4,t,1.2,t,99,t,0.88,t,112,f,?,other,negative\\n37,F,f,f,f,f,f,f,f,f,f,f,f,f,f,f,t,55,t,0.9,t,45,t,1.04,t,43,f,?,other,primary_hypothyroid\\n63,F,f,f,f,f,f,f,f,f,f,f,f,f,f,f,t,14,t,0.5,t,95,t,0.83,t,114,f,?,other,compensated_hypothyroid\\n18,F,f,f,f,f,f,t,f,f,f,f,f,f,f,f,t,16,t,1.3,t,75,t,1.11,t,68,f,?,SVI,negative\\n27,F,f,f,f,f,f,f,f,f,f,f,f,f,f,f,f,?,f,?,t,141,t,1.33,t,106,f,?,other,negative\\n17,F,f,f,f,f,f,f,f,f,f,f,f,f,f,f,t,1.1,f,?,t,154,t,1.34,t,115,f,?,SVI,negative\\n71,F,f,f,f,f,f,f,f,f,f,f,f,f,f,f,t,0.3,t,2.1,t,119,t,1.03,t,116,f,?,other,negative\\n64,F,f,f,f,f,f,f,f,f,t,f,f,f,f,f,t,0.6,t,1.8,t,112,t,1.06,t,106,f,?,other,negative\\n44,M,f,f,f,f,f,f,f,f,f,f,f,f,f,f,t,3.2,t,1.9,t,99,t,0.72,t,139,f,?,SVHC,negative\\n69,F,f,f,f,f,f,f,f,f,f,f,f,f,f,f,t,0.83,t,2.4,t,123,t,1.14,t,108,f,?,SVI,negative\\n84,M,f,f,f,f,f,f,f,f,f,f,f,f,f,f,t,1.7,t,1.2,t,132,t,0.92,t,145,f,?,SVI,negative\\n45,F,f,f,f,f,f,f,f,f,f,f,f,f,f,t,t,0.94,t,2,t,102,t,0.86,t,119,f,?,SVHC,negative\\n58,F,f,f,f,f,f,f,f,f,f,f,f,f,f,f,f,?,f,?,f,?,f,?,f,?,f,?,other,negative\\n80,F,f,f,f,f,f,f,f,f,f,f,f,f,f,f,t,2.1,t,1.4,t,111,t,0.97,t,115,f,?,SVI,negative\\n26,F,t,f,f,f,f,f,f,f,f,f,f,t,f,f,t,0.08,t,1.7,t,174,t,1.23,t,142,f,?,other,negative\\n49,F,f,f,f,f,f,f,f,f,f,f,f,f,f,f,t,0.035,t,2.1,t,183,t,1.02,t,179,f,?,other,negative\\n42,F,f,f,f,f,f,f,f,f,f,f,f,f,f,f,t,2.5,t,2.1,t,121,t,1.12,t,108,f,?,SVI,negative\\n72,F,f,f,f,f,f,f,f,f,f,f,f,f,f,f,t,0.02,t,1.4,t,140,t,1.13,t,124,f,?,SVI,negative\\n59,F,f,f,f,f,f,f,f,f,f,f,f,f,f,f,t,1.4,t,1.1,t,121,t,1.11,t,109,f,?,SVI,negative\\n64,F,f,f,f,f,f,f,f,f,f,f,f,f,f,f,t,0.02,f,?,t,125,t,1.13,t,110,f,?,other,negative\\n78,F,f,f,f,f,f,f,f,f,f,f,f,f,f,f,t,10,t,2,t,69,t,0.96,t,71,f,?,SVI,compensated_hypothyroid\\n90,F,f,t,f,f,f,f,f,f,f,f,f,f,f,f,t,0.03,t,1.9,t,203,t,0.9,t,224,f,?,SVI,negative\\n33,F,f,f,f,f,f,f,f,f,t,f,f,f,f,f,t,0.16,t,5.2,t,183,t,0.83,t,220,f,?,other,negative\\n62,F,f,f,f,f,f,f,f,f,f,f,f,f,f,f,t,3.7,f,?,t,86,t,0.91,t,95,f,?,other,negative\\n41,F,f,f,f,f,f,f,f,f,f,f,f,t,f,f,f,?,f,?,f,?,f,?,f,?,f,?,other,negative\\n49,F,f,f,f,f,f,f,f,f,f,f,f,f,f,f,t,1.2,t,2.2,t,100,t,0.93,t,108,f,?,SVHC,negative\\n56,?,f,f,f,f,f,f,f,f,f,f,f,f,f,f,t,0.87,t,1.9,t,116,f,?,f,?,f,?,other,negative\\n71,F,f,f,f,f,f,f,f,f,f,f,f,f,f,f,t,6.7,t,1.9,t,91,t,1.03,t,89,f,?,SVI,compensated_hypothyroid\\n35,?,f,f,f,f,f,f,f,f,f,f,f,f,f,f,t,1.7,t,2.3,t,82,t,0.88,t,93,f,?,STMW,negative\\n59,F,f,f,f,f,f,f,f,f,f,f,f,f,f,f,t,0.02,t,1.8,t,162,t,0.99,t,164,f,?,other,negative\\n61,F,f,f,f,f,f,f,f,f,t,f,f,f,f,f,t,0.3,t,2,t,93,t,0.99,t,93,f,?,other,negative\\n55,F,f,f,f,f,f,f,f,t,f,f,f,f,f,f,t,1.9,t,2.3,t,98,t,1.03,t,95,f,?,SVI,negative\\n59,M,f,f,f,f,f,f,f,f,f,f,f,f,f,f,t,2.7,t,2.1,t,86,t,0.92,t,93,f,?,other,negative\\n78,F,f,f,f,f,f,f,f,f,f,f,f,f,f,f,t,0.74,t,0.5,t,85,t,0.77,t,110,f,?,SVI,negative\\n68,M,f,f,f,f,f,f,f,f,f,f,f,f,f,f,t,5.4,t,2.7,t,94,t,1.14,t,82,f,?,SVI,negative\\n50,F,f,f,f,f,f,f,f,f,f,f,f,f,f,f,t,7.6,t,1.7,t,128,t,1.08,t,118,f,?,other,compensated_hypothyroid\\n52,M,f,f,f,f,f,f,f,f,f,f,f,f,f,f,t,1,t,1.9,t,88,t,0.8,t,110,f,?,other,negative\\n33,?,f,f,f,f,f,f,f,f,t,f,f,f,f,f,t,0.015,t,5,t,244,t,0.67,t,362,f,?,other,negative\\n58,F,t,f,f,f,f,f,f,f,f,f,f,f,f,f,t,0.065,t,3.4,t,129,t,0.95,t,136,f,?,other,negative\\n55,F,f,f,f,f,f,f,f,f,f,f,t,f,f,f,t,0.29,f,?,t,81,t,0.7,t,116,f,?,SVI,negative\\n51,F,f,f,f,f,f,f,f,f,f,f,f,f,f,f,t,0.08,t,2.8,t,109,t,0.9,t,121,f,?,other,negative\\n24,F,f,f,f,f,f,f,f,f,f,f,f,f,f,f,t,2.6,t,1.3,t,67,t,0.88,t,76,f,?,SVI,negative\\n73,F,f,f,f,f,f,f,f,f,f,f,f,f,f,f,t,0.1,t,1.8,t,137,t,0.98,t,140,f,?,other,negative\\n27,M,f,f,f,f,f,f,f,f,f,f,f,f,f,f,t,1.6,t,1.9,t,119,t,0.89,t,134,f,?,SVI,negative\\n52,F,f,f,f,f,f,f,f,f,f,f,f,f,f,f,t,2,f,?,t,120,t,1.02,t,118,f,?,other,negative\\n67,M,f,t,f,f,f,f,f,f,f,f,f,f,f,f,f,?,f,?,t,106,t,0.92,t,115,f,?,other,negative\\n22,F,f,f,f,f,f,f,f,f,f,f,f,f,f,f,t,1,t,2.7,t,150,t,1.22,t,124,f,?,SVHC,negative\\n77,M,f,f,f,f,f,f,f,f,f,f,f,f,f,f,t,0.37,t,1.7,t,140,t,0.77,t,182,f,?,SVI,negative\\n73,F,f,f,f,f,f,f,f,f,f,f,f,t,f,f,t,0.005,t,3.6,t,119,t,0.9,t,133,f,?,other,negative\\n73,M,f,f,f,f,f,f,f,f,f,f,f,f,f,f,t,8,t,1.3,t,101,t,0.93,t,108,f,?,SVI,compensated_hypothyroid\\n25,M,f,f,f,f,f,f,f,t,f,f,f,f,f,t,t,1.5,t,2.7,t,120,t,1.31,t,91,f,?,SVHC,negative\\n76,M,f,f,f,f,f,f,f,f,f,f,f,f,f,f,t,1.8,t,1.4,t,111,t,0.78,t,142,f,?,SVI,negative\\n81,F,f,f,f,f,f,f,f,f,f,f,f,f,f,f,t,3.2,t,1.8,t,123,t,0.98,t,125,f,?,SVI,negative\\n73,M,f,f,f,t,f,f,f,f,f,f,f,f,f,f,t,3.9,t,0.9,t,62,t,0.54,t,115,f,?,SVI,negative\\n67,F,f,f,f,t,f,f,f,f,f,f,f,f,f,f,t,1.7,t,0.7,t,79,t,0.77,t,102,f,?,SVI,negative\\n39,M,f,f,f,f,f,f,f,f,f,f,f,f,f,t,t,2.6,t,3,t,125,t,1.13,t,111,f,?,SVHC,negative\\n47,M,f,f,f,f,f,f,f,f,f,f,f,f,f,f,t,2.6,f,?,t,73,t,0.79,t,92,f,?,SVHC,negative\\n61,M,t,f,f,f,f,f,f,f,f,f,f,f,f,f,t,0.005,t,2.5,t,114,t,0.93,t,122,f,?,other,negative\\n48,?,f,f,f,f,f,f,f,f,f,f,f,f,f,f,t,1.6,t,1.6,t,140,t,1.01,t,138,f,?,other,negative\\n55,F,f,f,f,f,f,f,f,f,f,f,f,f,f,f,t,2.9,t,1.5,t,88,t,0.94,t,94,f,?,other,negative\\n39,F,t,f,f,f,f,f,f,f,f,f,f,f,f,f,t,0.25,t,2.9,t,125,t,0.96,t,130,f,?,other,negative\\n47,?,f,f,f,f,f,f,f,f,f,f,f,f,f,f,t,0.005,t,2,t,128,t,0.94,t,136,f,?,other,negative\\n50,M,t,f,f,f,f,f,f,f,f,f,f,f,f,f,t,0.05,t,1.8,t,109,t,0.77,t,141,f,?,other,negative\\n45,M,f,f,f,f,f,f,f,f,f,f,f,f,f,f,t,2.1,t,1.3,t,109,t,0.89,t,122,f,?,SVI,negative\\n49,M,f,f,f,f,f,f,f,f,f,f,f,f,f,f,t,2.1,t,1.3,t,120,t,1.43,t,83,f,?,SVI,negative\\n73,F,f,f,f,f,f,f,f,f,f,f,f,f,f,f,t,0.7,f,?,t,88,t,0.82,t,107,f,?,other,negative\\n36,F,f,f,f,f,f,f,f,f,f,f,f,f,f,t,t,3.1,t,1.8,t,87,t,1.16,t,75,f,?,SVHC,negative\\n29,F,f,f,f,f,t,f,f,f,f,f,f,f,f,f,t,0.1,t,3.1,t,142,t,1.77,t,80,f,?,STMW,negative\\n77,F,t,f,f,f,f,f,f,f,f,f,f,f,f,f,t,3.5,f,?,t,114,t,1,t,115,f,?,other,negative\\n53,M,f,f,f,f,f,f,f,f,f,f,f,f,f,f,t,1.6,t,2.1,t,133,t,1.08,t,123,f,?,SVI,negative\\n65,F,f,f,f,f,f,f,f,f,f,f,f,f,f,t,t,1.6,t,2.2,t,120,t,0.85,t,141,f,?,other,negative\\n43,F,f,f,f,f,f,f,f,f,f,f,f,f,f,f,f,?,f,?,t,86,t,1.04,t,83,f,?,other,negative\\n63,F,f,f,f,f,f,f,f,f,f,f,f,f,f,f,f,?,f,?,f,?,f,?,f,?,f,?,other,negative\\n33,F,f,f,f,f,f,f,f,f,f,f,f,f,f,f,t,0.045,t,2.1,t,159,t,1.01,t,157,f,?,SVI,negative\\n43,M,f,f,f,f,f,f,f,f,f,f,f,f,f,f,t,0.9,t,1.5,t,76,t,0.81,t,93,f,?,other,negative\\n73,F,f,f,f,f,f,f,f,f,f,f,f,f,f,f,t,0.1,t,0.6,t,113,t,0.89,t,127,f,?,SVI,negative\\n46,F,f,f,f,f,f,f,f,f,f,f,f,f,f,f,f,?,f,?,t,93,t,0.91,t,102,f,?,other,negative\\n45,F,f,f,f,f,f,f,f,f,f,f,f,f,f,f,t,0.02,t,1.4,t,144,f,?,f,?,f,?,other,negative\\n82,M,f,t,f,f,f,f,f,f,f,f,f,f,f,f,t,0.15,t,1.4,t,133,t,1,t,134,f,?,SVI,negative\\n55,F,f,f,f,f,f,f,f,f,f,f,f,f,f,f,t,11,t,1.5,t,144,t,1.24,t,116,f,?,other,compensated_hypothyroid\\n43,M,f,f,f,f,f,f,f,f,f,f,f,f,f,f,t,0.1,f,?,t,62,t,0.94,t,66,f,?,other,negative\\n79,M,f,f,f,f,f,f,f,f,f,f,f,f,f,f,t,1,t,1.4,t,92,t,0.88,t,105,f,?,SVI,negative\\n59,F,f,f,f,f,f,f,f,f,f,f,f,f,f,f,t,1.2,t,2,t,110,t,0.96,t,114,f,?,SVI,negative\\n76,M,f,f,f,f,f,f,f,f,f,f,f,f,f,f,t,2.3,t,1.5,t,93,t,0.71,t,132,f,?,SVI,negative\\n65,M,f,f,f,f,f,f,f,f,f,f,f,f,f,f,t,0.4,t,1,t,154,t,1.03,t,149,f,?,other,negative\\n41,F,t,f,f,f,f,f,f,f,f,f,f,f,f,f,t,0.76,f,?,t,107,t,0.91,t,118,f,?,other,negative\\n64,F,f,t,f,f,f,f,f,f,f,f,f,f,f,f,f,?,f,?,t,145,t,0.93,t,155,f,?,other,negative\\n39,M,f,f,f,f,f,f,f,f,f,f,f,f,f,f,t,1,t,2.4,t,98,t,1.08,t,91,f,?,SVHC,negative\\n60,F,f,f,f,f,f,f,f,f,f,f,f,f,f,f,t,0.48,t,1.7,t,88,t,0.83,t,105,f,?,SVI,negative\\n67,F,f,f,f,f,f,f,f,f,f,f,f,f,f,f,t,0.5,t,1.9,t,109,t,1.01,t,108,f,?,other,negative\\n30,F,f,f,f,f,f,f,f,f,f,f,f,f,f,t,t,4.5,t,2,t,139,t,0.86,t,161,f,?,SVHC,negative\\n76,F,f,f,f,f,f,f,f,f,f,f,f,f,f,f,t,11,t,1.2,t,86,t,0.85,t,101,f,?,SVI,compensated_hypothyroid\\n37,F,t,f,f,f,f,f,f,f,f,f,f,f,f,f,t,0.61,t,1.6,t,116,t,0.91,t,127,f,?,other,negative\\n65,F,f,f,f,t,f,f,f,t,f,f,f,f,f,f,f,?,f,?,f,?,f,?,f,?,f,?,other,negative\\n32,F,f,f,f,f,f,f,f,f,f,f,f,f,f,f,t,3.5,t,1.8,t,91,t,0.9,t,101,f,?,SVI,negative\\n77,F,f,f,f,f,f,f,f,f,f,f,f,f,f,f,t,2.2,t,0.2,t,80,t,0.8,t,99,f,?,SVI,negative\\n87,M,f,f,f,f,f,f,f,f,f,f,f,f,f,f,t,0.025,t,1.6,t,134,t,0.79,t,170,f,?,other,negative\\n50,F,f,f,f,t,f,f,f,f,f,f,f,f,f,f,t,1.4,t,1.8,t,126,t,1.07,t,117,f,?,other,negative\\n48,M,f,f,f,f,f,f,f,f,f,f,f,f,f,f,f,?,f,?,t,82,t,0.93,t,88,f,?,other,negative\\n49,F,f,f,f,f,f,f,f,f,f,f,f,t,f,f,t,0.6,f,?,t,87,t,1,t,88,f,?,other,negative\\n42,F,f,f,f,f,f,f,f,f,f,f,f,f,f,f,t,0.04,t,3.5,t,158,t,1.59,t,100,f,?,STMW,negative\\n45,F,f,f,f,f,f,f,f,f,f,f,f,f,f,f,t,1.8,t,1.7,t,104,f,?,f,?,f,?,other,negative\\n38,F,f,f,f,f,f,f,f,f,f,f,f,f,f,f,t,44,t,1.7,t,59,t,1.04,t,57,f,?,other,primary_hypothyroid\\n63,F,f,f,f,f,f,f,f,f,f,f,f,f,f,f,t,2.9,f,?,t,95,t,1.08,t,88,f,?,SVI,negative\\n25,M,f,f,f,f,f,f,f,f,f,f,f,f,f,f,t,0.035,t,3.3,t,116,f,?,f,?,f,?,other,negative\\n27,F,f,f,f,f,f,f,f,f,f,f,f,f,f,f,t,1.4,t,2,t,93,t,0.91,t,102,f,?,SVI,negative\\n23,F,f,f,f,f,f,f,f,f,t,t,f,f,f,f,t,7.9,t,2.2,t,104,t,1.07,t,97,f,?,SVHC,compensated_hypothyroid\\n30,F,f,f,f,f,f,f,f,f,f,f,f,f,f,f,t,1.9,f,?,t,98,t,0.99,t,99,f,?,other,negative\\n61,M,f,f,f,f,f,f,f,f,f,f,f,f,f,f,t,1,t,2.2,t,91,t,0.87,t,105,f,?,other,negative\\n62,F,f,f,f,f,f,f,f,f,f,f,f,f,f,f,t,1.7,f,?,t,97,t,0.86,t,112,f,?,other,negative\\n76,F,f,f,f,f,f,f,f,f,f,f,f,f,f,f,t,11,t,0.8,t,60,t,1.04,t,58,f,?,SVI,primary_hypothyroid\\n26,F,f,f,f,f,t,f,f,f,f,f,f,f,f,f,t,0.3,f,?,t,151,t,1.97,t,76,f,?,other,negative\\n61,M,f,f,f,f,f,f,f,f,f,f,f,f,f,f,t,2.1,t,1.2,t,109,t,0.78,t,140,f,?,SVI,negative\\n52,F,f,f,f,f,f,f,f,f,f,f,f,f,f,f,t,0.7,t,2,t,85,t,0.89,t,96,f,?,SVHC,negative\\n70,M,f,f,f,f,f,f,f,f,f,f,f,f,f,f,t,1.1,t,1.4,t,106,t,0.92,t,115,f,?,SVI,negative\\n36,F,t,f,f,f,f,f,f,f,f,f,f,f,f,f,t,2.2,f,?,t,187,t,1.69,t,111,f,?,other,negative\\n61,F,f,f,f,f,f,f,t,f,t,f,f,f,f,f,t,3.7,t,2.4,t,77,t,1.24,t,62,f,?,other,negative\\n60,M,f,f,f,f,f,f,f,f,f,f,f,f,f,f,t,2.2,t,1.6,t,123,t,1.09,t,113,f,?,SVI,negative\\n41,M,f,f,f,f,f,f,f,f,t,f,f,f,f,f,t,0.005,t,1.5,t,100,t,1.01,t,99,f,?,SVHC,negative\\n73,F,f,f,f,f,f,f,f,f,f,f,f,f,f,f,f,?,t,2,t,87,f,?,f,?,f,?,SVI,negative\\n21,F,f,f,f,f,f,f,f,f,f,f,f,f,f,f,t,0.3,t,2.6,t,106,t,1.06,t,101,f,?,other,negative\\n47,F,f,f,f,f,f,f,f,f,f,f,f,f,f,f,t,2,f,?,t,114,t,0.89,t,129,f,?,other,negative\\n51,F,t,f,f,f,f,f,f,f,f,f,f,f,f,f,t,0.065,t,2.2,t,164,t,1.09,t,151,f,?,other,negative\\n15,F,f,f,f,f,f,f,f,f,f,f,f,f,f,f,t,0.015,t,6,t,250,t,0.8,t,312,f,?,other,negative\\n34,F,f,f,f,f,f,f,f,f,f,f,f,f,f,f,t,1,t,2.3,t,120,t,1.01,t,119,f,?,other,negative\\n76,F,f,f,f,f,f,f,f,t,t,f,f,f,f,f,t,2.5,f,?,t,118,t,1,t,118,f,?,other,negative\\n29,M,f,f,f,f,f,f,f,f,f,f,f,f,f,f,t,2.6,t,1.6,t,135,t,0.86,t,157,f,?,other,negative\\n73,M,f,f,f,f,f,f,f,f,f,f,f,f,f,t,t,1.7,t,3.6,t,115,t,1.23,t,93,f,?,SVHC,negative\\n72,F,f,f,f,f,f,f,f,f,f,f,f,f,f,f,t,15,t,2.2,t,98,t,1.29,t,76,f,?,SVI,compensated_hypothyroid\\n45,M,f,f,f,f,f,f,f,f,f,f,f,f,f,f,t,5,t,0.7,t,54,t,0.85,t,63,f,?,SVI,negative\\n28,M,f,f,f,f,f,f,f,f,f,f,f,f,f,f,t,2.2,t,2.2,t,82,t,0.94,t,87,f,?,SVHC,negative\\n23,F,f,f,f,f,f,f,f,f,f,f,f,f,f,f,t,7.2,t,3.5,t,126,t,1.38,t,92,f,?,other,compensated_hypothyroid\\n34,F,f,f,f,f,f,f,f,f,f,f,f,f,f,f,f,?,f,?,f,?,f,?,f,?,f,?,other,negative\\n63,F,f,t,f,t,f,f,f,f,f,f,f,f,f,f,t,0.2,t,0.9,t,110,t,0.82,t,134,f,?,SVI,negative\\n65,F,t,f,f,f,f,f,f,f,f,f,f,f,f,f,t,2.8,t,1.8,t,107,t,1.1,t,98,f,?,other,negative\\n54,F,f,f,f,f,f,f,f,f,t,f,f,f,f,f,t,1.4,f,?,t,98,t,1.01,t,97,f,?,other,negative\\n78,F,f,f,f,f,f,f,f,f,f,f,f,f,f,t,t,0.89,t,1.8,t,103,t,0.98,t,105,f,?,SVI,negative\\n90,F,f,f,f,f,f,f,f,f,f,f,f,f,f,f,t,1.8,t,2.4,t,73,t,1.07,t,69,f,?,other,negative\\n49,M,f,f,f,f,f,f,f,f,f,f,f,f,f,f,t,0.8,t,1.5,t,85,t,0.73,t,116,f,?,SVI,negative\\n60,F,f,f,f,t,f,f,f,f,f,f,f,f,f,f,t,1.7,t,1.7,t,109,t,0.84,t,130,f,?,SVI,negative\\n76,M,f,f,f,f,f,f,f,f,f,f,f,f,f,f,t,2.5,t,1.5,t,81,t,0.92,t,88,f,?,SVI,negative\\n79,F,f,f,f,f,f,f,f,f,f,f,f,f,f,f,t,0.4,t,2,t,143,t,1.28,t,112,f,?,other,negative\\n68,F,f,f,f,f,f,f,f,f,f,f,f,f,f,f,t,1.4,t,1.3,t,119,t,1.11,t,107,f,?,SVI,negative\\n65,F,f,f,f,f,f,f,t,t,t,f,f,f,f,f,t,1.3,t,2.1,t,162,t,1.19,t,137,f,?,other,negative\\n60,F,f,f,f,f,f,f,f,f,f,f,f,t,f,f,t,12,t,2.2,t,71,t,1.4,t,51,f,?,SVI,primary_hypothyroid\\n76,M,f,f,f,f,f,f,f,t,f,f,f,f,f,f,t,0.8,t,1.1,t,94,t,0.93,t,101,f,?,SVHD,negative\\n53,M,f,f,f,f,f,f,f,f,f,f,f,f,f,f,t,0.4,f,?,t,115,t,0.9,t,128,f,?,SVI,negative\\n63,M,f,f,f,f,f,f,f,f,f,f,f,f,f,f,t,2.7,t,2.2,t,83,f,?,f,?,f,?,other,negative\\n70,F,t,t,f,f,f,f,f,f,f,f,f,f,f,f,t,0.07,t,0.9,t,104,t,0.83,t,124,f,?,other,negative\\n59,M,f,f,f,f,f,f,f,f,f,f,f,f,f,f,t,2.4,t,1.9,t,133,t,0.99,t,134,f,?,SVHC,negative\\n21,F,f,f,f,t,f,f,f,f,f,f,f,f,f,f,f,?,f,?,f,?,f,?,f,?,f,?,other,negative\\n76,F,f,f,f,f,f,f,f,f,f,f,f,f,f,f,t,0.93,t,2.1,t,142,t,1.09,t,129,f,?,other,negative\\n42,M,f,f,t,f,f,f,f,f,f,f,f,f,f,f,t,1.1,t,1.7,t,79,t,0.88,t,90,f,?,other,negative\\n59,M,f,f,f,f,f,f,f,f,f,f,f,f,f,t,t,1.3,t,1.6,t,82,t,0.88,t,93,f,?,SVHC,negative\\n70,F,f,f,f,f,f,f,f,f,f,f,f,f,f,t,t,2.8,t,2.4,t,111,t,0.8,t,139,f,?,SVHC,negative\\n58,M,f,f,f,f,f,f,f,f,f,f,f,f,f,f,t,3.7,t,1.7,t,64,t,0.69,t,93,f,?,SVI,negative\\n29,?,f,f,f,f,f,f,f,f,f,f,f,f,f,f,t,4.4,t,1.7,t,94,t,0.97,t,97,f,?,other,negative\\n70,?,f,f,f,f,f,f,t,f,f,f,f,f,f,f,t,2.3,t,2.7,t,95,t,1.07,t,88,f,?,other,negative\\n45,F,f,f,f,f,f,f,f,f,f,f,f,f,f,f,t,0.97,t,1.1,t,77,t,0.86,t,89,f,?,SVI,negative\\n79,F,f,f,f,f,f,f,f,f,f,f,f,f,f,f,t,1.1,t,1.7,t,111,t,1.02,t,108,f,?,SVI,negative\\n40,M,f,f,f,f,f,f,f,f,f,f,f,f,f,f,t,1.6,t,2.4,t,105,t,0.83,t,125,f,?,SVI,negative\\n54,F,t,f,f,f,f,f,f,f,f,f,f,f,f,f,t,0.25,f,?,t,156,t,1.23,t,126,f,?,other,negative\\n39,M,f,f,f,f,f,f,f,f,f,f,f,f,f,f,t,3,t,2.7,t,91,t,0.92,t,98,f,?,SVHC,negative\\n49,F,t,f,f,f,f,f,f,f,f,f,f,f,f,f,t,0.12,t,2.3,t,181,t,1.11,t,164,f,?,other,negative\\n48,M,f,f,f,f,f,f,f,f,f,f,f,f,f,f,t,1.6,t,2.1,t,80,t,0.98,t,82,f,?,SVI,negative\\n75,F,f,f,f,f,f,f,f,f,f,f,f,f,f,f,t,2.4,t,2.6,t,108,t,1.05,t,102,f,?,SVI,negative\\n61,M,f,f,f,f,f,f,f,f,f,f,f,f,f,f,t,1.2,t,1.6,t,93,t,0.81,t,114,f,?,other,negative\\n46,F,f,f,f,f,f,f,f,f,f,f,f,f,f,f,t,6.4,t,2.3,t,64,t,0.98,t,65,f,?,other,compensated_hypothyroid\\n63,M,f,f,f,f,f,f,f,f,f,f,f,f,f,f,t,0.75,t,1.4,t,112,t,0.86,t,130,f,?,SVHC,negative\\n48,M,f,f,f,f,f,f,f,f,f,f,f,f,f,f,t,2.1,t,2,t,86,t,0.78,t,110,f,?,SVI,negative\\n78,M,f,f,f,f,f,f,f,f,f,f,f,f,f,f,t,1.5,t,0.8,t,108,t,0.81,t,133,f,?,SVI,negative\\n69,F,f,f,f,f,f,f,f,f,f,f,f,f,f,f,f,?,t,2.1,t,113,t,0.88,t,128,f,?,SVI,negative\\n32,F,t,f,f,t,f,f,f,f,f,f,f,f,f,f,t,0.15,t,2.4,t,135,t,1.15,t,118,f,?,other,negative\\n37,F,f,f,f,f,f,f,t,f,f,f,f,f,f,f,t,25,f,?,t,71,t,1.04,t,68,f,?,other,compensated_hypothyroid\\n53,F,f,f,f,f,f,f,f,f,f,f,f,f,f,f,t,0.045,t,2.5,t,157,t,1.07,t,147,f,?,other,negative\\n35,M,f,f,f,f,f,f,f,f,f,f,t,f,f,f,t,0.3,t,2,t,75,t,1.21,t,62,f,?,SVI,negative\\n72,F,f,f,f,f,f,f,f,f,f,f,f,f,f,f,f,?,f,?,t,98,f,?,f,?,f,?,other,negative\\n44,F,f,f,f,f,f,f,f,f,f,f,f,f,f,t,t,1.8,t,1.9,t,118,t,1.07,t,110,f,?,SVHC,negative\\n40,M,f,f,f,f,f,f,f,f,f,f,f,f,f,f,t,1.3,t,2.3,t,87,t,0.96,t,90,f,?,SVI,negative\\n69,F,t,f,f,f,f,f,f,f,f,f,f,t,f,f,t,0.015,f,?,t,176,t,1.11,t,158,f,?,other,negative\\n34,F,f,f,f,f,t,f,f,t,f,f,f,f,f,f,t,0.2,t,5,t,223,t,1.69,t,131,f,?,STMW,negative\\n66,?,f,f,f,f,f,f,f,f,f,f,f,f,f,f,t,2.5,t,1.6,t,73,t,0.8,t,92,f,?,other,negative\\n62,F,f,f,f,f,f,f,f,f,t,f,f,f,f,f,t,0.2,t,0.8,t,124,t,0.9,t,137,f,?,SVI,negative\\n54,M,f,f,f,f,f,f,f,f,f,f,f,f,f,f,t,1,t,2.4,t,107,t,1.06,t,101,f,?,other,negative\\n63,M,f,f,f,f,f,f,f,f,f,f,f,f,f,f,t,33,t,1.5,t,128,f,?,f,?,f,?,other,compensated_hypothyroid\\n27,F,f,f,f,f,f,f,f,f,f,f,f,f,f,f,t,0.02,t,5.3,t,272,t,0.97,t,281,f,?,other,negative\\n72,M,f,f,f,f,f,f,f,f,f,f,f,f,f,f,t,0.05,t,1.1,t,108,t,0.66,t,165,f,?,SVI,negative\\n40,F,f,f,f,f,f,f,f,f,f,f,f,f,f,f,t,12,f,?,t,97,t,1.01,t,97,f,?,other,compensated_hypothyroid\\n61,F,f,f,f,f,f,f,f,f,f,f,t,f,f,f,t,0.15,t,2.1,t,97,t,1.03,t,95,f,?,other,negative\\n56,F,t,f,f,f,f,f,f,t,f,f,f,f,f,f,t,0.2,t,2.1,t,136,f,?,f,?,f,?,other,negative\\n38,F,f,f,f,f,f,f,f,f,f,f,f,f,f,f,t,1.3,t,2.8,t,122,t,1.1,t,111,f,?,other,negative\\n37,F,t,f,f,f,f,f,f,f,f,f,f,f,f,f,t,0.25,t,2.5,t,111,t,0.97,t,114,f,?,other,negative\\n67,F,f,f,f,f,f,f,f,f,t,f,f,f,f,f,f,?,f,?,f,?,f,?,f,?,f,?,other,negative\\n56,F,f,f,f,f,f,f,f,f,f,f,f,f,f,f,f,?,t,2.1,t,113,t,0.94,t,120,f,?,other,negative\\n36,F,f,f,f,f,f,f,f,f,f,f,f,f,f,f,t,0.59,t,1.5,t,116,t,0.93,t,124,f,?,other,negative\\n60,M,f,f,f,f,f,f,f,f,f,f,f,f,f,f,t,1.1,t,2.2,t,107,t,0.95,t,113,f,?,SVI,negative\\n53,F,f,f,f,f,f,f,f,f,f,f,f,t,f,f,t,0.85,t,2,t,103,t,0.93,t,111,f,?,other,negative\\n29,F,f,f,f,f,f,f,f,f,f,f,f,f,f,f,t,1.3,t,2.8,t,144,t,1.17,t,123,f,?,other,negative\\n71,F,f,f,f,f,f,f,f,f,f,f,f,f,f,f,t,1.9,t,2.9,t,111,t,0.92,t,121,f,?,SVI,negative\\n58,F,f,f,f,f,f,f,f,f,f,f,f,f,f,f,t,0.015,t,2.6,t,166,t,0.8,t,207,f,?,SVI,negative\\n55,M,f,f,f,f,f,f,f,f,f,f,f,f,f,f,t,2.1,t,2.2,t,84,t,0.85,t,99,f,?,other,negative\\n22,M,f,f,f,f,f,f,f,f,f,f,f,f,f,f,t,0.2,t,2.9,t,107,t,1.01,t,106,f,?,other,negative\\n84,F,t,f,f,f,f,f,f,f,f,f,f,f,f,f,t,0.04,f,?,t,213,t,0.99,t,216,f,?,other,negative\\n64,F,t,f,f,f,f,f,f,f,f,f,f,f,f,f,f,?,f,?,f,?,f,?,f,?,f,?,other,negative\\n57,F,f,f,f,f,f,f,f,f,f,f,f,t,f,f,t,0.065,t,4.2,t,235,t,1.1,t,214,f,?,other,negative\\n85,M,f,f,f,f,f,f,f,f,f,f,f,f,f,f,t,0.25,t,2.3,t,128,t,1.06,t,121,f,?,SVI,negative\\n66,M,f,f,f,f,f,f,f,f,f,f,f,f,f,f,t,2,f,?,t,134,t,0.98,t,137,f,?,SVI,negative\\n54,F,t,f,f,f,f,f,f,f,f,f,f,f,f,f,t,0.035,t,1.9,t,100,t,1.11,t,90,f,?,other,negative\\n77,F,f,f,f,f,f,f,f,f,f,f,f,f,f,f,t,0.7,t,2.2,t,72,t,1.18,t,62,f,?,SVI,negative\\n49,F,f,f,f,f,f,f,f,f,f,f,f,f,f,f,t,2.2,t,2.3,t,92,f,?,f,?,f,?,other,negative\\n22,F,t,f,f,f,f,f,f,f,t,f,f,f,f,f,t,0.2,t,2.3,t,147,t,1.01,t,145,f,?,other,negative\\n64,F,f,f,f,f,f,f,t,f,f,f,f,f,f,f,t,1.3,t,2.6,t,118,t,1.11,t,106,f,?,other,negative\\n28,F,f,f,f,f,f,f,f,f,f,f,f,f,f,f,t,1.2,f,?,t,166,t,1.46,t,115,f,?,other,negative\\n56,F,f,f,f,f,f,f,f,f,f,f,f,f,f,f,f,?,f,?,f,?,f,?,f,?,f,?,other,negative\\n26,F,f,f,f,f,f,f,f,f,f,f,f,f,f,f,t,1.4,t,2.1,t,112,f,?,f,?,f,?,other,negative\\n28,F,f,f,f,f,f,f,f,f,f,f,f,f,f,f,t,7.1,t,1.7,t,96,t,0.89,t,108,f,?,SVI,compensated_hypothyroid\\n55,F,f,f,f,f,f,f,f,f,f,f,f,f,f,f,f,?,f,?,f,?,f,?,f,?,f,?,other,negative\\n38,F,f,f,f,t,f,f,f,f,f,f,f,f,f,f,t,2.2,f,?,t,93,t,1.15,t,81,f,?,other,negative\\n74,M,f,f,f,f,f,f,f,f,f,f,f,f,f,f,t,0.73,t,2.3,t,122,t,0.8,t,152,f,?,other,negative\\n60,F,f,f,f,t,f,f,f,f,f,f,f,f,f,f,t,2,t,2.2,t,128,t,1.24,t,103,f,?,SVHD,negative\\n44,M,f,f,f,f,f,f,f,f,f,f,f,f,f,f,t,199,t,0.6,t,10,t,1.03,t,10,f,?,SVI,primary_hypothyroid\\n42,M,f,f,f,f,f,f,f,f,f,f,f,f,f,f,t,2.8,t,2,t,68,t,0.87,t,78,f,?,other,negative\\n49,M,f,f,f,f,f,f,f,f,f,f,f,f,f,f,t,0.2,t,2,t,94,t,0.97,t,98,f,?,SVHC,negative\\n22,F,f,f,f,f,f,f,f,f,f,f,f,f,f,t,t,2.7,t,2.4,t,157,t,1.2,t,131,f,?,SVHC,negative\\n38,M,f,f,f,f,f,f,f,f,f,f,f,f,f,t,t,2,t,1.9,t,139,t,0.96,t,145,f,?,SVHC,negative\\n64,F,t,f,f,f,f,f,t,t,f,f,f,f,f,f,t,0.73,t,2,t,152,t,1.15,t,131,f,?,other,negative\\n64,F,t,f,f,f,f,f,f,f,f,f,f,f,f,f,t,1,t,1.5,t,126,t,0.86,t,147,f,?,other,negative\\n73,F,f,f,f,t,f,f,f,f,f,f,f,f,f,f,t,0.8,t,1.9,t,121,t,1.01,t,119,f,?,other,negative\\n34,F,f,f,f,f,f,f,f,f,t,f,f,f,f,f,t,19,t,3.9,t,146,t,1.16,t,125,f,?,other,compensated_hypothyroid\\n71,F,f,f,f,f,f,f,f,t,f,f,f,f,f,f,t,1.9,t,1.5,t,135,t,1.06,t,127,f,?,other,negative\\n25,F,f,f,f,f,f,t,f,f,f,f,f,f,f,f,t,14,f,?,t,81,t,0.9,t,90,f,?,other,negative\\n68,F,f,f,f,f,f,f,f,f,f,f,f,f,f,f,t,24,t,1.3,t,84,t,0.82,t,102,f,?,SVI,compensated_hypothyroid\\n72,F,t,f,f,f,f,f,f,f,f,f,f,f,f,f,t,0.005,t,2.5,t,231,t,0.92,t,251,f,?,other,negative\\n51,F,f,f,f,f,f,t,f,f,f,f,f,f,f,f,t,1,t,2.2,t,69,t,1.04,t,66,f,?,other,negative\\n31,F,f,f,f,f,f,f,f,f,f,f,f,f,f,f,t,3,t,2.1,t,86,t,0.99,t,86,f,?,STMW,negative\\n59,F,f,f,f,f,f,f,f,f,f,f,f,f,f,f,t,0.2,f,?,t,82,t,0.73,t,112,f,?,other,negative\\n77,F,f,f,f,f,f,f,f,f,f,f,f,f,f,f,t,0.07,t,0.9,t,61,t,0.99,t,61,f,?,other,negative\\n50,M,t,f,f,f,f,f,f,t,f,f,f,f,f,f,t,15,t,2,t,71,t,1.08,t,66,f,?,other,negative\\n78,M,t,f,f,f,f,f,f,f,f,f,f,f,f,f,t,8.2,f,?,f,?,f,?,f,?,f,?,other,negative\\n57,M,f,f,f,f,f,f,f,f,f,f,t,f,f,f,f,?,f,?,t,88,t,0.86,t,102,f,?,other,negative\\n31,F,f,f,f,f,f,f,f,f,f,f,f,f,f,f,t,188,t,1.3,t,63,t,1.19,t,53,f,?,other,primary_hypothyroid\\n42,M,f,f,f,f,f,f,f,f,f,f,f,f,f,f,t,0.2,t,1.9,t,151,t,0.98,t,154,f,?,SVHC,negative\\n30,M,f,t,f,f,f,f,f,f,f,f,f,f,f,f,f,?,t,1.8,t,96,t,0.93,t,103,f,?,other,negative\\n36,F,f,f,f,f,f,f,f,f,t,f,f,f,f,f,t,0.22,t,4,t,191,t,0.98,t,194,f,?,other,negative\\n73,M,f,f,f,f,f,f,f,f,f,f,f,f,f,f,t,1,t,1.4,t,48,t,1.05,t,46,f,?,SVI,negative\\n57,F,f,f,f,f,f,f,t,f,f,f,f,f,f,f,t,0.1,t,2.4,t,81,t,0.89,t,91,f,?,other,negative\\n70,F,f,f,f,t,f,f,f,f,f,f,f,f,f,f,t,0.3,t,1.8,t,98,t,0.93,t,105,f,?,SVHD,negative\\n47,F,f,f,f,f,f,f,f,f,f,f,f,f,f,f,t,11,t,2.6,t,91,f,?,f,?,f,?,other,compensated_hypothyroid\\n60,M,f,f,f,f,f,f,f,f,f,f,f,f,f,f,t,98,t,0.4,t,5.8,t,0.8,t,7,f,?,SVI,primary_hypothyroid\\n66,F,f,f,f,f,f,f,f,f,f,f,f,f,f,f,t,1.9,t,2.2,t,110,t,1.21,t,91,f,?,other,negative\\n51,F,f,f,f,f,f,f,f,f,f,f,f,f,f,f,t,0.04,t,3.7,t,169,t,1.14,t,148,f,?,SVI,negative\\n40,F,f,f,f,f,f,f,f,f,f,f,f,f,f,f,f,?,f,?,f,?,f,?,f,?,f,?,other,negative\\n74,?,f,f,f,f,f,f,f,f,f,f,f,f,f,f,t,22,t,1.2,t,71,t,1.11,t,64,f,?,SVI,primary_hypothyroid\\n72,F,f,f,f,f,f,f,f,f,f,f,f,f,f,f,t,0.08,f,?,t,133,t,0.84,t,158,f,?,other,negative\\n66,F,t,f,f,f,f,f,f,f,f,f,f,f,f,f,t,1.1,f,?,t,117,t,1.08,t,108,f,?,other,negative\\n70,F,t,f,f,f,f,f,f,f,f,f,f,f,f,f,t,0.12,f,?,t,124,t,0.96,t,129,f,?,other,negative\\n74,F,t,f,f,f,f,f,f,f,f,f,f,f,f,f,t,1.5,f,?,t,175,t,1.15,t,153,f,?,other,negative\\n21,F,f,f,f,f,t,f,f,f,f,f,f,t,f,f,t,0.2,t,2.5,t,108,t,1.13,t,96,f,?,STMW,negative\\n45,F,f,f,f,f,f,f,f,t,f,f,f,f,f,f,t,0.005,f,?,t,132,t,0.9,t,147,f,?,SVI,negative\\n55,F,f,f,f,f,f,f,f,f,f,f,f,f,f,f,t,1.6,t,1.7,t,76,t,0.65,t,116,f,?,SVHC,negative\\n62,F,f,f,f,f,f,f,f,f,f,f,f,f,f,f,t,6.6,t,2.2,t,99,t,1.16,t,85,f,?,other,compensated_hypothyroid\\n15,M,f,f,f,f,f,f,f,f,f,f,f,f,f,f,t,1.3,f,?,t,102,t,0.97,t,105,f,?,other,negative\\n85,F,f,f,f,f,f,f,f,f,f,f,f,f,f,f,t,1,t,1.1,t,110,t,1.08,t,102,f,?,SVI,negative\\n76,F,f,f,f,f,f,f,f,f,f,f,f,f,f,f,t,1,t,2.9,t,100,t,1.02,t,98,f,?,SVHC,negative\\n49,M,f,f,f,f,f,f,f,f,f,f,f,f,f,f,t,1.7,t,2.3,t,123,t,1.15,t,106,f,?,SVI,negative\\n56,M,f,f,f,f,f,f,f,f,f,f,f,f,f,f,t,0.66,t,1.7,t,114,t,0.89,t,128,f,?,SVI,negative\\n63,?,f,f,f,f,f,f,f,f,f,f,f,f,f,f,f,?,f,?,f,?,f,?,f,?,f,?,other,negative\\n71,F,f,f,f,f,f,f,f,f,f,f,f,f,f,f,t,5.1,t,1.8,t,87,t,0.89,t,98,f,?,other,negative\\n39,F,f,f,f,f,f,f,f,f,f,f,f,f,f,f,t,0.3,f,?,f,?,f,?,f,?,f,?,SVI,negative\\n34,M,f,f,f,f,f,f,f,f,f,f,f,f,f,f,t,0.01,t,2.3,t,149,t,0.88,t,169,f,?,other,negative\\n85,F,f,f,f,f,f,f,f,f,f,f,f,f,f,f,t,0.2,t,1.3,t,111,t,0.94,t,118,f,?,SVI,negative\\n66,M,f,f,f,f,f,f,f,f,f,f,f,f,f,f,t,2.3,f,?,t,78,t,1.02,t,77,f,?,SVI,negative\\n29,F,f,f,f,f,f,f,f,f,f,f,f,f,f,f,t,1.1,t,3.8,t,161,t,1.74,t,93,f,?,STMW,negative\\n46,F,f,f,f,f,f,f,f,f,t,t,f,f,f,f,t,1.7,t,1.1,t,94,t,0.91,t,103,f,?,SVI,negative\\n67,F,f,f,f,f,f,f,f,f,f,f,f,f,f,f,t,1.9,f,?,t,152,t,1.13,t,135,f,?,other,negative\\n59,F,f,f,f,f,f,f,f,f,f,f,f,t,f,f,t,0.06,t,2.5,t,121,t,1.25,t,97,f,?,other,negative\\n70,F,f,f,f,f,f,f,f,f,f,f,f,f,f,f,t,2,t,2.5,t,102,t,0.92,t,111,f,?,other,negative\\n18,?,f,f,f,f,f,f,f,f,f,f,f,f,f,f,t,1.2,t,1.9,t,83,t,1.08,t,77,f,?,STMW,negative\\n48,F,f,f,f,f,f,f,f,f,t,f,f,t,f,f,t,0.42,t,2.5,t,93,t,1.14,t,82,f,?,other,negative\\n69,F,f,f,f,f,f,f,f,f,f,f,f,f,f,f,t,1.2,t,2.3,t,135,t,1.07,t,127,f,?,other,negative\\n76,F,f,f,f,f,f,f,f,f,f,f,f,f,f,f,t,0.61,t,1.5,t,112,t,0.98,t,114,f,?,SVI,negative\\n25,M,f,f,f,f,f,f,f,f,f,f,f,f,f,f,f,?,f,?,f,?,f,?,f,?,f,?,SVHC,negative\\n45,F,f,f,f,f,f,f,t,f,f,f,f,f,f,f,t,0.065,t,4.6,t,210,t,1.11,t,190,f,?,other,negative\\n44,M,f,f,f,f,f,f,f,f,f,f,t,f,f,f,t,0.89,f,?,t,40,t,0.96,t,42,f,?,SVI,negative\\n28,F,f,f,f,f,f,f,f,f,f,f,f,f,f,t,t,2.5,t,2.9,t,86,t,1.19,t,72,f,?,SVHC,negative\\n25,F,t,f,f,f,f,f,f,f,f,f,f,f,f,f,t,0.09,t,2.2,t,181,t,1.23,t,147,f,?,other,negative\\n43,F,t,f,f,f,f,f,f,f,f,f,f,f,f,f,t,0.92,t,2.3,t,93,t,0.86,t,108,f,?,SVHC,negative\\n23,M,f,f,f,f,f,f,f,f,f,f,f,f,f,f,t,1.4,t,2,t,156,t,1.17,t,134,f,?,SVHC,negative\\n78,F,f,f,f,f,f,f,f,f,f,f,f,f,f,f,t,0.05,t,2,t,114,t,0.85,t,134,f,?,other,negative\\n23,F,f,f,f,f,f,f,f,f,f,f,f,f,f,f,f,?,f,?,t,67,t,0.98,t,68,f,?,other,negative\\n20,F,f,f,f,f,f,f,f,f,t,f,f,f,f,f,t,0.9,t,2.4,t,123,t,0.99,t,125,f,?,other,negative\\n75,F,f,f,f,f,f,f,f,f,f,f,f,f,f,f,f,?,f,?,f,?,f,?,f,?,f,?,other,negative\\n70,F,f,f,f,f,f,f,f,f,f,f,f,f,f,f,t,1.4,t,1.7,t,97,t,0.79,t,122,f,?,SVI,negative\\n71,F,f,f,f,f,f,f,f,f,f,f,f,f,f,f,t,1,t,1.7,t,79,t,0.95,t,83,f,?,other,negative\\n53,F,f,f,f,f,f,f,f,f,f,f,f,f,f,f,t,1.6,t,1.8,t,81,t,1.16,t,70,f,?,other,negative\\n71,M,f,f,f,f,f,f,f,f,f,f,f,f,f,f,t,1.2,t,2.6,t,105,t,1.02,t,103,f,?,other,negative\\n73,F,f,f,f,f,f,f,f,f,f,f,f,f,f,f,f,?,t,2.1,f,?,f,?,f,?,f,?,other,negative\\n60,F,t,f,f,f,f,f,f,f,f,f,f,f,f,f,t,0.02,t,1.6,t,155,t,0.72,t,216,f,?,other,negative\\n40,F,f,f,f,f,f,f,f,f,f,f,f,f,f,f,f,?,f,?,f,?,f,?,f,?,f,?,other,negative\\n34,M,t,f,f,f,f,f,f,f,f,f,f,f,f,f,t,3.3,t,2.7,t,104,t,1.01,t,103,f,?,other,negative\\n22,F,f,f,t,f,f,f,f,f,f,f,f,f,f,f,t,1.3,t,1.8,t,118,t,0.96,t,123,f,?,other,negative\\n66,F,f,f,f,f,f,f,f,f,t,f,f,f,f,f,t,0.005,t,1.5,t,76,t,0.85,t,89,f,?,SVI,negative\\n37,F,f,f,f,f,f,f,f,f,f,f,f,f,f,f,t,1.4,t,1.7,t,71,t,0.72,t,99,f,?,SVHC,negative\\n53,M,f,f,f,f,f,f,f,f,t,f,f,f,f,f,t,3.8,t,2.5,t,105,t,1.04,t,101,f,?,SVI,negative\\n23,M,t,f,f,f,f,f,f,t,f,f,f,f,f,f,t,0.05,t,3.3,t,232,t,1.34,t,174,f,?,other,negative\\n42,F,t,f,f,f,f,f,f,f,f,f,f,f,f,f,t,7.6,t,2.3,t,131,t,1.15,t,113,f,?,other,negative\\n67,F,f,f,f,f,f,f,f,f,f,f,f,f,f,f,t,0.15,t,2.9,t,99,t,1.14,t,88,f,?,SVI,negative\\n41,F,t,f,f,f,f,f,f,f,t,f,f,f,f,f,f,?,f,?,f,?,f,?,f,?,f,?,other,negative\\n42,F,f,f,f,f,f,f,f,f,f,f,f,f,f,f,t,5.2,t,1.4,t,58,t,0.83,t,69,f,?,SVI,negative\\n80,F,f,f,f,f,f,f,f,f,f,f,f,f,f,f,t,1.1,t,1.3,t,118,t,1.12,t,105,f,?,other,negative\\n37,F,f,f,f,f,f,f,f,f,f,f,f,f,f,f,t,1.2,t,2,t,103,t,1.09,t,95,f,?,SVI,negative\\n28,F,f,f,f,f,f,f,f,f,f,f,f,t,f,f,t,35,t,2.3,t,42,t,1.01,t,41,f,?,SVI,primary_hypothyroid\\n21,F,f,f,f,f,f,f,f,f,f,f,f,f,f,f,t,0.9,t,1.8,t,84,t,0.75,t,113,f,?,other,negative\\n43,F,f,f,f,f,f,f,f,f,f,f,f,f,f,f,t,0.89,t,2,t,94,f,?,f,?,f,?,other,negative\\n72,F,f,f,f,f,f,f,f,f,f,f,f,f,f,f,t,4,t,3.2,t,106,t,0.87,t,122,f,?,other,negative\\n54,?,f,f,f,f,f,f,f,f,f,f,f,f,f,f,t,2.7,t,1.9,t,111,t,0.99,t,112,f,?,SVI,negative\\n51,M,t,f,f,f,f,f,f,f,f,f,f,f,f,f,f,?,f,?,t,71,t,0.87,t,82,f,?,other,negative\\n70,F,f,f,f,t,f,f,f,f,f,f,f,f,f,f,t,0.78,t,1.9,t,136,t,0.9,t,152,f,?,SVI,negative\\n64,F,t,f,f,f,f,f,f,f,f,f,f,f,f,f,t,0.2,f,?,t,98,t,0.72,t,136,f,?,other,negative\\n61,?,f,f,f,f,f,f,f,f,f,f,f,f,f,f,t,0.01,t,2.1,t,159,t,1.13,t,140,f,?,SVHD,negative\\n74,M,f,f,f,f,f,f,f,f,f,f,f,f,f,t,t,1.3,t,1.8,t,96,t,1.06,t,90,f,?,SVHC,negative\\n28,F,f,f,f,f,f,f,f,f,f,f,f,f,f,f,t,0.9,t,4.5,t,204,t,2.03,t,100,f,?,STMW,negative\\n56,F,f,f,t,f,f,f,f,f,f,f,f,f,f,f,t,8.2,t,2,t,66,t,0.94,t,70,f,?,other,compensated_hypothyroid\\n59,F,f,f,f,f,f,f,f,f,f,f,f,f,f,f,t,0.6,t,2,t,106,t,0.87,t,121,f,?,other,negative\\n41,F,f,f,f,f,f,f,f,f,t,f,f,f,f,f,t,0.15,t,7.3,t,430,t,1.09,t,395,f,?,STMW,negative\\n87,F,f,f,f,f,f,f,f,f,f,f,f,f,f,f,t,0.3,t,1.5,t,100,t,1.2,t,83,f,?,SVI,negative\\n55,M,f,f,f,f,f,f,f,t,f,f,f,f,f,f,t,0.3,f,?,t,76,t,1.01,t,76,f,?,SVI,negative\\n61,F,f,f,f,f,f,f,f,f,f,f,f,f,f,f,t,0.63,t,1.8,t,120,t,0.91,t,132,f,?,other,negative\\n56,F,f,f,f,f,f,f,f,f,f,f,f,f,f,f,t,3,t,2.3,t,128,t,1.14,t,112,f,?,other,negative\\n44,F,f,f,f,f,f,f,f,f,f,f,f,f,f,f,t,1.7,t,1.3,t,93,t,0.87,t,107,f,?,SVI,negative\\n63,F,f,f,f,f,f,f,f,f,f,f,f,f,f,f,t,4.5,t,1.5,t,93,t,0.87,t,107,f,?,SVI,negative\\n59,M,f,f,f,f,f,f,f,f,f,f,f,f,f,f,t,0.1,t,2,t,102,t,0.82,t,125,f,?,other,negative\\n60,M,f,f,f,t,f,f,f,f,f,f,f,f,f,f,t,0.2,t,2.1,t,105,t,1.09,t,97,f,?,SVI,negative\\n42,F,f,f,f,f,f,f,f,f,f,f,f,f,f,f,t,0.05,t,2.6,t,122,t,1.16,t,105,f,?,other,negative\\n36,F,f,f,f,f,f,f,f,f,f,f,f,f,f,f,t,0.8,t,2.3,t,72,t,1.05,t,68,f,?,other,negative\\n26,F,f,f,f,f,f,f,f,f,f,f,f,f,f,f,t,2.3,t,1.8,t,93,t,1.19,t,78,f,?,other,negative\\n44,F,f,f,f,f,f,f,f,f,f,f,t,f,f,f,f,?,f,?,f,?,f,?,f,?,f,?,other,negative\\n58,M,f,f,f,f,f,f,f,f,f,f,f,f,f,f,t,3.1,t,2.9,t,96,t,1.03,t,93,f,?,SVI,negative\\n70,F,f,f,f,f,f,f,f,f,f,f,f,f,f,f,t,1.4,t,1.8,t,88,t,1.14,t,76,f,?,other,negative\\n72,F,f,f,f,f,f,f,f,f,f,f,f,f,f,f,t,0.05,t,0.9,t,93,t,0.97,t,97,f,?,SVI,negative\\n64,F,f,f,f,f,f,f,f,f,f,f,f,t,f,f,t,0.1,f,?,t,113,t,0.91,t,125,f,?,other,negative\\n87,F,f,f,f,f,f,f,f,f,f,f,f,f,f,f,t,2.5,t,1.7,t,140,t,0.96,t,147,f,?,other,negative\\n73,F,f,f,f,f,f,f,f,f,f,f,f,f,f,f,t,4.1,t,2.2,t,145,t,1.34,t,108,f,?,other,negative\\n56,F,f,f,f,f,f,f,f,f,f,f,f,f,f,f,t,1.9,t,1.4,t,62,t,0.72,t,85,f,?,SVI,negative\\n1,M,f,f,f,f,f,f,f,t,f,f,f,f,f,f,t,6.6,t,1.7,t,68,f,?,f,?,f,?,other,compensated_hypothyroid\\n59,?,f,f,f,f,f,f,f,f,f,f,f,f,f,f,f,?,t,2.2,f,?,f,?,f,?,f,?,other,negative\\n51,F,f,f,f,f,f,f,f,f,f,f,f,f,f,f,t,2.1,t,2.2,f,?,f,?,t,95,f,?,other,negative\\n37,M,f,f,f,f,f,f,f,f,f,f,f,f,f,f,t,12,t,1.2,t,105,t,0.84,t,125,f,?,other,compensated_hypothyroid\\n35,F,f,f,f,f,f,f,f,f,f,f,f,f,f,f,t,1.5,t,2,t,93,t,1.01,t,93,f,?,other,negative\\n56,M,f,f,f,f,f,f,f,f,f,f,f,f,f,f,t,0.52,t,2.4,t,158,t,1.18,t,134,f,?,SVHC,negative\\n72,F,f,f,f,f,f,f,f,f,f,f,f,f,f,f,t,0.4,t,1.3,t,91,t,1.02,t,89,f,?,SVI,negative\\n37,F,f,f,f,f,f,f,f,f,f,f,f,f,f,f,t,2.4,t,2.7,t,155,t,1.43,t,109,f,?,SVHC,negative\\n88,F,f,f,f,f,f,f,f,f,f,f,f,f,f,f,t,2.9,f,?,t,78,t,0.78,t,100,f,?,other,negative\\n33,F,f,f,f,f,f,f,f,f,f,f,f,f,f,f,t,0.01,t,1.5,t,160,t,0.87,t,185,f,?,SVI,negative\\n63,F,f,f,f,f,f,f,f,t,f,f,f,f,f,f,t,0.74,f,?,t,74,t,0.77,t,97,f,?,other,negative\\n59,M,f,f,f,f,f,f,f,f,f,f,f,f,f,t,t,1.1,t,2,t,95,t,0.85,t,111,f,?,SVHC,negative\\n38,F,f,f,f,f,f,f,f,f,f,f,f,f,f,f,t,0.3,t,2.5,t,88,t,0.95,t,93,f,?,other,negative\\n35,F,f,f,f,f,f,f,f,f,f,f,f,f,f,f,t,5.2,f,?,t,95,t,1.11,t,85,f,?,STMW,negative\\n55,M,f,f,f,f,f,f,f,f,f,f,f,f,f,f,t,6.1,t,2.3,t,88,t,0.91,t,97,f,?,SVI,compensated_hypothyroid\\n34,F,f,f,f,f,t,f,f,f,t,f,f,f,f,f,t,0.06,t,4.7,t,157,t,1.68,t,94,f,?,other,negative\\n71,F,t,f,f,f,f,f,f,f,f,f,f,f,f,f,t,0.5,t,2.2,t,198,t,1.23,t,160,f,?,other,negative\\n38,M,f,f,f,f,f,f,f,f,f,f,f,f,f,f,t,3,t,1.7,t,84,t,0.99,t,85,f,?,SVI,negative\\n63,M,f,f,f,f,f,f,f,f,f,f,f,f,f,f,t,0.4,t,1.4,t,115,t,1.02,t,113,f,?,SVI,negative\\n50,F,f,f,f,f,f,f,f,t,f,f,f,f,f,f,t,3.3,t,2.1,t,107,t,1.07,t,100,f,?,other,negative\\n34,F,t,f,f,f,f,f,f,t,f,f,f,f,f,f,t,0.25,t,6.7,t,230,t,1.73,t,133,f,?,STMW,negative\\n59,F,f,f,f,t,f,f,f,f,f,f,f,f,f,f,t,7.1,t,1.9,t,98,t,1.11,t,88,f,?,SVHD,compensated_hypothyroid\\n44,M,f,f,f,f,f,f,f,f,f,f,f,f,f,f,t,11,t,0.8,t,86,t,0.66,t,130,f,?,SVI,compensated_hypothyroid\\n60,F,f,f,f,f,f,f,f,f,f,f,f,f,f,f,t,0.6,t,2.4,t,101,t,1.18,t,86,f,?,other,negative\\n30,F,f,f,f,f,f,f,f,f,f,f,f,f,f,f,f,?,f,?,t,90,t,0.92,t,98,f,?,other,negative\\n36,F,f,f,f,f,t,f,f,f,f,f,f,t,f,f,t,0.04,f,?,t,149,t,1.65,t,90,f,?,other,negative\\n72,F,f,f,f,f,f,f,f,f,f,f,f,f,f,t,t,1.4,t,1.6,t,118,t,1.01,t,117,f,?,SVHC,negative\\n53,F,f,f,f,f,f,f,f,f,f,f,f,f,f,f,t,60,t,0.3,t,13,t,0.99,t,13,f,?,other,primary_hypothyroid\\n58,M,t,f,f,f,f,f,f,f,f,f,f,f,f,f,t,2.6,f,?,t,164,t,1.1,t,149,f,?,SVI,negative\\n70,F,f,f,f,f,f,f,f,f,f,f,f,f,f,f,f,?,f,?,f,?,f,?,f,?,f,?,other,negative\\n46,M,f,f,f,f,f,f,f,f,f,f,f,f,f,f,t,1.1,t,2.8,t,143,t,1.3,t,110,f,?,SVI,negative\\n57,M,f,f,f,f,f,f,f,f,f,f,f,f,f,f,t,0.43,f,?,t,96,t,0.88,t,109,f,?,other,negative\\n20,F,f,f,f,f,f,f,f,f,f,f,f,f,f,f,t,2.4,t,3.1,t,135,f,?,f,?,f,?,other,negative\\n41,F,f,f,f,f,f,f,f,f,f,f,f,f,f,f,t,2.5,t,1.8,t,95,t,0.9,t,106,f,?,other,negative\\n56,F,f,f,f,f,f,f,f,f,f,f,f,f,f,f,t,5,t,1.7,t,60,t,0.77,t,78,f,?,other,negative\\n35,M,f,f,f,f,f,f,f,f,f,f,f,f,f,t,t,1.7,t,2.4,t,102,t,1.06,t,96,f,?,SVHC,negative\\n56,M,f,f,f,f,f,f,f,f,f,f,f,f,f,f,t,0.87,t,2,t,95,t,0.91,t,105,f,?,other,negative\\n65,F,f,f,f,f,f,f,f,f,f,f,f,f,f,f,t,55,t,0.7,t,15,t,1.08,t,14,f,?,SVI,primary_hypothyroid\\n22,F,f,f,f,f,f,f,f,f,f,f,f,f,f,f,t,5.6,t,3,t,123,t,1.22,t,101,f,?,SVI,negative\\n70,F,t,f,f,f,f,f,f,f,f,f,f,f,f,f,t,0.1,t,1.8,t,170,t,0.99,t,171,f,?,SVHD,negative\\n26,F,f,f,f,f,f,f,f,f,f,f,f,f,f,f,t,2.9,t,2.4,t,90,t,0.92,t,98,f,?,other,negative\\n30,F,f,f,f,f,f,f,f,f,f,f,f,f,f,f,t,1.3,t,1.7,t,93,t,0.96,t,98,f,?,other,negative\\n71,F,f,f,f,t,f,f,f,f,f,f,f,f,f,f,t,0.16,t,2.4,t,165,t,1.35,t,123,f,?,SVI,negative\\n64,M,f,f,f,f,f,f,f,f,f,f,f,f,f,f,t,0.9,t,1.7,t,77,t,0.9,t,85,f,?,SVHC,negative\\n63,F,f,f,f,f,f,f,f,f,f,f,f,f,f,f,t,0.88,t,2.2,t,101,t,1.03,t,97,f,?,SVI,negative\\n54,F,f,f,f,f,f,f,f,f,f,f,f,f,f,f,t,2.5,t,0.4,t,56,t,0.68,t,83,f,?,SVI,negative\\n35,F,f,f,f,f,f,f,f,f,f,f,f,f,f,f,f,?,f,?,f,?,f,?,f,?,f,?,other,negative\\n35,F,f,f,f,f,f,f,f,t,f,f,f,f,f,f,t,2.3,t,2.4,t,130,t,1.11,t,117,f,?,other,negative\\n19,F,f,f,f,f,f,f,f,f,f,f,f,f,f,f,t,2.2,f,?,t,85,t,0.95,t,90,f,?,other,negative\\n61,F,f,f,f,f,f,f,f,f,f,f,f,f,f,f,t,6.9,f,?,t,126,t,1.36,t,93,f,?,other,compensated_hypothyroid\\n54,M,f,f,f,f,f,f,f,f,f,f,f,f,f,f,t,2.4,t,2.2,t,116,t,1.03,t,112,f,?,SVI,negative\\n68,M,f,f,f,f,f,f,f,f,f,f,f,f,f,f,t,0.3,t,2.2,t,99,t,0.86,t,115,f,?,SVI,negative\\n53,F,f,f,f,f,f,f,f,f,f,f,f,f,f,f,t,1.6,t,2.1,t,117,t,1.09,t,107,f,?,SVI,negative\\n24,M,f,f,f,f,f,f,f,f,f,f,f,f,f,f,t,2.4,t,2.8,t,122,t,1.13,t,109,f,?,other,negative\\n59,F,f,f,f,f,f,f,f,f,f,f,f,f,f,f,t,0.3,t,2.1,t,82,t,0.88,t,93,f,?,other,negative\\n37,F,f,f,f,f,f,f,f,f,f,f,f,f,f,f,t,22,t,1.4,t,71,t,0.97,t,73,f,?,other,compensated_hypothyroid\\n20,F,f,f,f,f,f,f,f,f,f,f,f,f,f,f,f,?,f,?,f,?,f,?,f,?,f,?,other,negative\\n41,F,f,f,f,f,f,f,f,f,f,f,f,f,f,f,f,?,f,?,f,?,f,?,f,?,f,?,other,negative\\n67,M,f,f,f,f,f,f,f,f,f,f,f,f,f,f,t,0.2,t,1.9,t,109,t,1.03,t,106,f,?,SVI,negative\\n58,?,f,f,f,f,f,f,f,f,f,f,f,f,f,f,t,2,t,1.7,t,144,t,0.94,t,153,f,?,other,negative\\n73,F,f,f,f,f,f,f,f,f,f,f,f,f,f,f,t,0.84,t,2,t,101,t,1.04,t,97,f,?,SVHD,negative\\n41,F,f,f,f,f,f,f,f,f,f,f,f,f,f,f,t,3.6,t,2.3,t,114,f,?,f,?,f,?,other,negative\\n21,?,f,f,f,f,f,f,f,f,f,f,f,f,f,f,t,3.1,t,3.1,t,164,t,0.81,t,201,f,?,other,negative\\n44,M,f,f,f,f,f,f,f,f,f,f,f,f,f,f,f,?,f,?,t,118,t,0.95,t,124,f,?,other,negative\\n29,M,f,f,f,f,f,f,f,f,f,f,f,f,f,t,t,1.7,t,2.3,t,135,t,0.97,t,140,f,?,SVHC,negative\\n29,F,f,f,f,f,f,f,f,f,f,f,f,f,f,f,f,?,f,?,f,?,f,?,f,?,f,?,other,negative\\n27,M,f,f,f,f,f,f,f,f,f,f,f,f,f,t,t,3.2,t,2.4,t,102,t,0.88,t,116,f,?,SVHC,negative\\n60,F,f,f,f,f,f,f,t,t,f,f,f,f,f,f,t,5.9,f,?,t,126,t,1.13,t,111,f,?,other,negative\\n42,F,f,f,f,f,f,f,f,f,f,f,f,f,f,f,t,2.3,t,2.3,t,128,t,0.85,t,151,f,?,other,negative\\n38,F,f,f,f,f,f,f,f,f,f,f,f,f,f,f,t,1,t,2,t,131,t,0.95,t,138,f,?,SVI,negative\\n79,F,f,f,f,f,f,f,f,f,f,f,f,f,f,f,t,29,t,1.6,t,47,t,0.97,t,48,f,?,other,primary_hypothyroid\\n33,M,f,f,f,f,f,f,f,f,f,f,f,f,f,t,t,1.3,t,2.2,t,120,t,0.96,t,126,f,?,SVHC,negative\\n83,M,f,f,f,f,f,f,f,f,f,f,f,f,f,f,t,0.38,t,2.1,t,90,t,0.88,t,102,f,?,other,negative\\n69,M,t,f,f,f,f,f,t,f,f,f,f,f,f,f,t,1.3,t,2,t,121,t,1.07,t,113,f,?,other,negative\\n74,F,f,f,f,f,f,f,f,f,f,f,f,f,f,f,t,0.4,t,2.7,t,101,t,0.96,t,105,f,?,other,negative\\n64,M,f,f,f,f,f,f,f,f,f,f,f,f,f,t,t,1.3,t,2.4,t,111,t,1.15,t,97,f,?,SVHC,negative\\n40,F,f,f,f,f,f,f,f,f,f,f,f,f,f,f,t,2.6,t,1.8,t,62,t,0.85,t,73,f,?,other,negative\\n23,F,f,f,f,f,f,f,f,f,f,f,f,f,f,f,t,2.5,t,3.4,t,165,t,1.52,t,108,f,?,STMW,negative\\n56,M,f,f,f,f,f,f,f,f,f,f,f,f,f,f,t,5.4,t,1.7,t,104,t,1.01,t,103,f,?,SVI,negative\\n48,F,f,f,f,f,f,f,f,f,f,f,f,f,f,f,t,0.02,t,2.2,t,127,t,1.05,t,121,f,?,other,negative\\n70,F,f,f,f,f,f,f,f,f,f,f,f,f,f,f,t,2,t,1.3,t,106,t,0.84,t,125,f,?,SVI,negative\\n53,M,f,f,f,f,f,f,f,f,f,f,f,f,f,f,t,0.3,t,1.2,t,105,t,0.91,t,115,f,?,SVHC,negative\\n83,M,f,f,f,f,f,f,f,f,f,f,f,f,f,f,t,2.4,t,1.3,t,101,t,0.86,t,117,f,?,SVI,negative\\n26,F,f,f,f,f,f,f,f,f,f,f,f,f,f,f,f,?,f,?,f,?,f,?,f,?,f,?,other,negative\\n73,F,f,f,f,f,f,f,f,f,f,f,f,f,f,f,t,2,t,1.6,t,162,t,0.94,t,173,f,?,other,negative\\n72,F,f,f,f,f,f,f,f,f,f,f,f,f,f,f,t,2.3,t,2,t,130,f,?,f,?,f,?,other,negative\\n22,M,f,f,f,f,f,f,f,f,f,f,f,f,f,f,t,1.9,t,2.1,t,76,t,0.79,t,96,f,?,other,negative\\n62,M,f,f,f,t,f,f,f,t,f,f,f,f,f,t,t,13,t,0.8,t,83,t,0.81,t,103,f,?,SVHC,compensated_hypothyroid\\n52,F,f,f,f,f,f,f,f,f,f,f,f,f,f,f,t,2,t,1.8,t,93,t,0.99,t,95,f,?,other,negative\\n57,F,f,f,f,f,f,f,f,f,f,f,f,f,f,f,t,0.9,t,2.1,t,93,t,0.9,t,104,f,?,SVI,negative\\n73,F,f,f,f,f,f,f,f,f,f,f,f,f,f,f,t,0.42,t,3,t,91,t,1.15,t,79,f,?,other,negative\\n69,F,t,f,f,f,f,f,f,f,f,f,f,f,f,f,t,4.9,f,?,t,73,t,0.93,t,79,f,?,other,negative\\n43,F,f,f,f,f,f,f,f,f,f,f,f,f,f,f,f,?,f,?,f,?,f,?,f,?,f,?,other,negative\\n42,?,t,f,f,f,f,f,f,f,f,f,f,f,f,f,t,0.05,t,2,t,129,t,1.02,t,126,f,?,other,negative\\n70,F,f,f,f,f,f,f,f,f,f,f,f,f,f,f,t,1,t,2,t,91,t,0.95,t,96,f,?,SVI,negative\\n39,M,f,f,f,f,f,f,f,f,f,f,f,f,f,f,t,1.4,t,2.4,t,112,t,1.03,t,109,f,?,other,negative\\n61,F,f,f,f,f,f,f,f,f,f,f,f,f,f,f,t,4.3,t,1.8,t,124,t,0.99,t,125,f,?,other,negative\\n65,F,t,f,f,f,f,f,f,f,f,f,f,f,f,f,t,0.015,t,3.1,t,168,t,0.98,t,171,f,?,other,negative\\n44,F,f,f,f,f,f,f,f,f,f,f,f,f,f,f,t,0.41,t,0.8,t,105,t,0.82,t,127,f,?,SVI,negative\\n42,F,f,f,f,f,f,f,f,f,f,f,f,f,f,f,t,7.2,t,2.1,t,123,t,1.18,t,104,f,?,other,compensated_hypothyroid\\n61,M,f,f,f,f,f,f,f,f,f,f,f,f,f,f,t,6.2,t,1.2,t,83,t,0.82,t,101,f,?,SVI,compensated_hypothyroid\\n77,F,t,f,f,f,f,f,f,f,f,f,f,f,f,f,t,9.9,f,?,t,121,t,1.02,t,118,f,?,other,negative\\n35,M,f,t,f,f,f,f,f,f,f,f,f,f,f,f,t,0.035,t,1.7,t,114,t,0.98,t,115,f,?,other,negative\\n70,M,f,f,f,f,f,f,f,f,f,f,f,f,f,t,t,1.9,t,1.8,t,114,t,1.02,t,112,f,?,SVHC,negative\\n68,M,f,f,f,t,f,f,f,f,f,f,f,f,f,f,t,6.7,t,1.4,t,101,f,?,f,?,f,?,SVI,compensated_hypothyroid\\n13,F,f,f,f,f,f,f,f,f,f,f,f,f,f,f,t,2.9,t,3.3,t,113,t,1.23,t,92,f,?,other,negative\\n55,M,f,f,f,f,f,f,f,f,f,f,f,f,f,f,t,0.6,t,1.5,t,113,t,0.97,t,117,f,?,other,negative\\n19,M,f,f,f,f,f,f,f,f,f,f,f,f,f,f,t,2.1,t,2.9,t,135,t,0.81,t,167,f,?,SVHC,negative\\n53,M,f,f,f,f,f,f,f,f,f,f,f,f,f,f,t,1,t,2.2,t,108,t,0.89,t,121,f,?,other,negative\\n69,M,f,f,f,f,f,f,f,f,f,f,f,f,f,f,t,2.3,t,1.4,t,88,t,0.86,t,102,f,?,SVI,negative\\n46,F,f,f,f,f,f,f,f,f,f,f,f,f,f,f,t,2.2,f,?,t,119,t,0.9,t,131,f,?,other,negative\\n60,F,f,f,f,f,f,f,f,f,f,f,f,f,f,f,t,0.005,f,?,t,103,t,0.65,t,158,f,?,other,negative\\n48,F,f,f,f,t,f,f,f,f,f,f,f,f,f,f,t,1.6,t,1,t,71,t,0.81,t,88,f,?,SVHD,negative\\n38,F,f,f,f,f,f,f,f,f,f,f,f,t,f,f,f,?,f,?,f,?,f,?,f,?,f,?,other,negative\\n37,M,t,f,f,f,f,f,f,f,f,f,f,t,f,f,t,11,t,1.2,t,74,t,0.77,t,96,f,?,SVHC,negative\\n14,F,f,f,f,f,f,f,f,f,f,f,f,f,f,f,t,3.6,t,1.2,t,103,t,0.88,t,118,f,?,SVI,negative\\n72,F,f,f,f,t,f,f,f,t,f,f,f,f,f,f,t,6,t,2.4,t,118,t,1.26,t,94,f,?,SVI,negative\\n37,F,f,f,f,f,f,f,f,t,f,f,f,f,f,f,t,1.6,t,2.2,t,104,t,0.99,t,105,f,?,other,negative\\n65,F,f,f,f,f,f,f,f,f,f,f,f,f,f,f,t,1.5,t,2.2,t,97,t,0.87,t,111,f,?,other,negative\\n47,M,f,f,f,f,f,f,f,f,f,f,f,f,f,f,t,5.6,t,1.9,t,81,t,1,t,82,f,?,SVI,negative\\n29,F,f,f,f,f,f,f,f,f,f,f,f,f,f,f,f,?,t,1.4,t,76,t,0.57,t,132,f,?,other,negative\\n23,F,f,f,f,f,f,f,f,f,f,f,f,f,f,f,t,2.6,t,1.8,t,107,t,1.06,t,101,f,?,other,negative\\n36,F,t,f,f,f,t,f,f,f,f,f,f,f,f,f,t,0.025,t,2.9,t,194,t,1.63,t,119,f,?,other,negative\\n46,M,f,f,f,f,f,f,f,f,f,f,f,f,f,f,t,3.2,t,1.2,t,122,t,0.94,t,131,f,?,SVI,negative\\n70,F,f,f,f,t,f,f,f,t,f,f,f,f,f,f,t,2.1,t,1.7,t,131,t,1,t,130,f,?,SVHD,negative\\n30,F,t,f,f,f,f,f,f,f,f,f,f,f,f,f,t,2.9,t,1.4,t,113,t,0.83,t,136,f,?,other,negative\\n65,M,f,f,f,f,f,f,f,f,f,f,f,f,f,f,t,1.3,t,2.1,t,111,t,0.99,t,112,f,?,other,negative\\n36,F,f,f,f,f,f,f,f,f,f,f,f,f,f,f,t,7.5,t,4.1,t,139,t,1.65,t,84,f,?,SVI,compensated_hypothyroid\\n86,F,f,f,f,f,f,f,f,f,f,f,f,f,f,f,t,1.7,t,1.6,t,124,t,1.01,t,122,f,?,SVI,negative\\n49,M,f,f,f,f,f,f,f,f,f,f,f,f,f,f,t,2,t,2.1,t,79,t,0.87,t,91,f,?,SVHC,negative\\n33,F,f,f,f,f,f,f,f,f,f,f,f,f,f,f,t,2.6,t,1.3,t,89,t,0.9,t,98,f,?,SVHC,negative\\n62,F,f,f,f,f,f,f,f,f,f,f,f,f,f,f,t,0.76,f,?,t,105,t,0.85,t,124,f,?,other,negative\\n68,F,f,f,f,f,f,f,f,f,f,f,f,f,f,f,t,0.92,f,?,t,98,t,0.79,t,125,f,?,other,negative\\n39,F,f,f,f,f,f,f,f,f,f,f,f,f,f,f,t,0.1,t,1.8,t,90,t,0.71,t,126,f,?,other,negative\\n19,F,f,f,f,f,f,f,f,f,f,f,f,f,f,f,t,1.4,t,1.9,t,111,t,1.08,t,102,f,?,other,negative\\n35,F,f,f,f,f,f,f,f,f,f,f,f,f,f,f,t,2.7,t,1.7,t,101,f,?,f,?,f,?,other,negative\\n84,F,f,f,f,f,f,f,f,f,f,f,f,f,f,f,t,34,t,0.7,t,52,t,1.11,t,47,f,?,SVI,primary_hypothyroid\\n75,F,f,f,f,f,f,f,f,t,f,f,f,f,f,f,t,2.3,t,1.3,t,88,t,0.85,t,103,f,?,SVI,negative\\n64,F,f,f,f,f,f,f,f,f,f,f,f,f,f,f,t,10,t,0.8,t,99,t,0.97,t,102,f,?,SVI,compensated_hypothyroid\\n72,M,f,f,f,f,f,f,f,f,f,f,f,f,f,f,t,2.3,t,1.2,t,77,t,0.85,t,91,f,?,SVI,negative\\n82,F,f,f,f,t,f,f,f,f,f,f,f,f,f,f,t,0.2,t,1.4,t,113,t,0.85,t,132,f,?,SVI,negative\\n74,F,f,f,f,f,f,t,f,f,f,f,f,f,f,f,t,1.4,f,?,t,109,t,0.96,t,114,f,?,other,negative\\n77,F,f,f,f,f,f,f,f,f,f,f,f,f,f,f,t,2.5,t,1.7,t,101,t,0.85,t,119,f,?,SVI,negative\\n58,F,f,f,f,f,f,f,f,f,t,f,f,f,f,f,t,0.005,t,3.9,t,181,t,0.96,t,188,f,?,SVI,negative\\n54,M,f,f,f,f,f,f,f,f,f,f,f,f,f,f,t,0.75,t,2.3,t,109,t,1.14,t,95,f,?,SVHD,negative\\n62,F,f,f,f,f,f,t,f,f,f,f,f,f,f,f,t,6.5,t,1.8,t,97,t,1.29,t,76,f,?,SVI,negative\\n19,M,t,f,f,f,f,f,f,f,f,f,f,f,f,f,t,0.005,t,2,t,147,t,0.9,t,163,f,?,other,negative\\n74,?,f,f,f,f,f,f,f,f,f,f,f,f,f,f,t,0.33,t,2.3,t,99,t,0.98,t,101,f,?,other,negative\\n20,M,f,f,f,f,f,f,f,f,f,f,f,f,f,t,t,1.6,t,2.4,t,93,t,0.92,t,101,f,?,SVI,negative\\n27,F,f,f,f,f,f,f,f,f,f,f,f,f,f,f,f,?,t,2.2,f,?,f,?,f,?,f,?,other,negative\\n69,F,t,f,f,f,f,f,f,f,f,f,f,f,f,f,t,1.5,t,1.8,t,136,t,0.92,t,149,f,?,other,negative\\n44,F,f,f,f,f,f,f,f,f,f,f,f,f,f,f,t,0.7,t,1.9,t,108,t,1.04,t,103,f,?,SVHC,negative\\n72,F,f,f,f,f,f,f,f,f,f,f,f,f,f,f,t,0.01,t,1.8,t,151,t,0.94,t,161,f,?,SVI,negative\\n53,M,f,f,f,f,f,f,f,f,f,f,f,f,f,t,t,1.7,t,1.9,t,110,t,0.73,t,150,f,?,SVHC,negative\\n20,F,f,f,f,f,f,f,f,f,f,f,f,f,f,f,t,0.1,t,1.9,t,94,t,0.91,t,102,f,?,other,negative\\n60,F,f,f,f,f,f,f,f,f,f,f,f,f,f,f,t,1.7,t,1.6,t,130,t,1.05,t,123,f,?,SVI,negative\\n20,F,f,f,f,f,f,f,f,f,f,f,f,f,f,f,t,0.7,t,2.4,t,113,t,1.34,t,84,f,?,SVI,negative\\n55,M,f,f,f,f,f,f,f,f,f,f,f,f,f,f,t,0.02,t,2.2,t,71,t,1,t,71,f,?,SVI,negative\\n72,F,f,f,f,t,f,f,f,f,f,f,f,f,f,f,t,1.3,t,1,t,101,t,0.8,t,127,f,?,SVI,negative\\n36,F,t,f,f,f,f,f,f,f,f,f,f,f,f,f,t,2.1,t,2.4,t,179,t,1.36,t,131,f,?,other,negative\\n47,M,f,f,f,f,f,f,f,f,f,f,f,f,f,f,t,0.2,t,1.5,t,61,t,0.91,t,67,f,?,other,negative\\n70,F,f,f,f,f,f,f,f,f,f,f,f,t,f,f,t,1.6,t,1.8,t,107,t,1.11,t,97,f,?,other,negative\\n58,F,f,f,f,f,f,f,f,f,f,f,f,f,f,f,f,?,f,?,f,?,f,?,f,?,f,?,other,negative\\n37,?,f,f,f,f,f,f,f,f,f,f,f,f,f,f,t,0.72,t,2.8,t,110,t,0.99,t,111,f,?,other,negative\\n67,F,f,f,f,f,f,f,f,t,f,f,f,f,f,f,t,0.52,t,1.4,t,129,t,0.96,t,134,f,?,other,negative\\n45,F,f,f,f,f,f,f,f,f,f,t,f,f,f,t,t,1.6,t,1.8,t,89,t,0.8,t,112,f,?,SVHC,negative\\n72,F,f,f,f,t,f,f,f,f,t,f,f,f,f,f,f,?,f,?,f,?,f,?,f,?,f,?,other,negative\\n31,F,f,f,f,f,f,f,f,f,f,f,f,f,f,f,t,1.7,t,2.2,t,116,t,1.14,t,102,f,?,SVHC,negative\\n54,F,f,f,f,f,f,f,f,f,f,f,f,f,f,f,t,0.25,t,2.9,t,101,t,1,t,100,f,?,other,negative\\n77,F,f,f,f,f,f,f,f,f,t,f,f,f,f,f,t,1.3,t,1.8,t,104,t,1.04,t,100,f,?,other,negative\\n31,M,f,f,f,f,f,f,f,f,f,f,f,f,f,f,t,5.1,f,?,t,93,t,0.97,t,95,f,?,other,negative\\n17,F,f,f,f,f,f,f,f,t,f,f,f,f,f,f,t,0.9,t,1.4,t,111,t,1.02,t,109,f,?,other,negative\\n16,F,f,f,f,f,f,f,f,f,f,f,f,f,f,f,t,9.7,f,?,t,98,t,1.3,t,76,f,?,other,compensated_hypothyroid\\n39,M,f,f,f,f,f,f,f,f,f,f,f,f,f,f,t,0.93,t,2.6,t,130,t,1.13,t,115,f,?,other,negative\\n62,M,f,f,f,f,f,f,f,f,f,f,f,f,f,f,t,0.1,t,0.7,t,71,t,0.74,t,96,f,?,other,negative\\n51,F,f,f,f,f,f,f,f,f,f,f,f,f,f,f,t,4.7,f,?,t,111,t,1,t,112,f,?,other,negative\\n29,F,f,f,f,f,f,f,f,f,f,f,f,f,f,f,t,2.8,t,1.8,t,99,f,?,f,?,f,?,other,negative\\n40,F,f,f,f,f,f,f,f,f,f,f,f,f,f,f,t,2.4,t,2.1,t,112,t,1.25,t,90,f,?,SVI,negative\\n59,F,f,f,f,f,f,f,f,t,f,f,f,f,f,f,t,2.8,f,?,t,134,t,1.05,t,128,f,?,other,negative\\n58,F,f,f,f,f,f,f,f,f,f,t,f,f,f,f,t,3,f,?,t,115,t,1.07,t,107,f,?,SVI,negative\\n16,F,t,f,f,f,f,f,f,f,f,f,f,f,f,f,t,2.2,f,?,t,113,t,0.95,t,119,f,?,other,negative\\n28,F,f,f,f,f,f,t,f,f,f,f,f,f,f,f,t,103,t,2.1,t,65,t,1.16,t,56,f,?,SVI,primary_hypothyroid\\n36,F,f,f,f,f,f,f,f,f,f,f,f,f,f,f,t,1.1,t,2.3,t,101,t,0.94,t,107,f,?,other,negative\\n58,F,t,f,f,f,f,f,f,f,f,f,f,f,f,f,t,1.3,f,?,t,123,t,0.93,t,132,f,?,other,negative\\n65,F,f,f,f,f,f,f,f,f,f,f,f,f,f,f,t,3.5,f,?,t,106,t,1.08,t,98,f,?,other,negative\\n54,M,f,f,f,f,f,f,f,f,f,f,f,f,f,f,f,?,t,1.6,t,60,t,0.65,t,92,f,?,other,negative\\n14,F,f,f,f,f,f,f,f,f,f,f,f,f,f,f,f,?,f,?,t,100,t,1.09,t,91,f,?,other,negative\\n69,F,f,f,f,f,f,f,f,f,f,f,f,f,f,f,t,0.02,t,2.4,t,136,t,0.92,t,148,f,?,other,negative\\n68,F,f,f,f,t,f,f,f,f,f,f,f,f,f,f,t,0.41,f,?,t,123,t,0.98,t,125,f,?,other,negative\\n45,F,f,f,f,f,f,f,f,f,f,f,f,f,f,f,f,?,f,?,f,?,f,?,f,?,f,?,other,negative\\n62,F,f,f,f,f,f,f,f,f,f,f,f,f,f,f,t,0.45,t,1.6,t,101,t,0.89,t,114,f,?,other,negative\\n28,F,f,t,f,f,f,f,f,f,f,f,f,f,f,f,t,9.4,t,2.6,t,89,t,1.02,t,87,f,?,other,compensated_hypothyroid\\n65,?,t,f,f,f,f,f,t,t,f,f,f,f,f,f,t,0.03,t,1.9,t,151,t,0.89,t,169,f,?,other,negative\\n27,F,f,f,f,f,f,f,f,f,f,f,f,f,f,f,t,3.3,t,1.7,t,92,f,?,f,?,f,?,SVHC,negative\\n61,M,f,f,f,t,f,f,f,f,f,f,f,f,f,f,f,?,f,?,f,?,f,?,f,?,f,?,other,negative\\n68,F,f,f,f,f,f,f,f,f,f,f,f,f,f,f,t,0.95,t,2,t,109,t,1.15,t,94,f,?,SVI,negative\\n62,F,f,f,f,f,f,f,f,f,f,f,f,f,f,f,t,3.5,t,1.7,t,98,t,0.74,t,132,f,?,SVHC,negative\\n47,M,f,f,f,f,f,f,f,f,f,f,f,f,f,f,t,0.6,t,1.7,t,94,f,?,f,?,f,?,other,negative\\n54,F,f,f,f,t,f,f,f,f,f,f,f,f,f,f,t,2.1,t,2.5,t,128,t,1.12,t,114,f,?,other,negative\\n69,M,f,f,f,f,f,f,f,f,f,f,f,f,f,f,f,?,f,?,t,109,t,1.03,t,106,f,?,other,negative\\n46,M,f,f,f,f,f,f,f,f,f,f,f,f,f,f,t,2.1,t,3.2,t,160,t,1.53,t,105,f,?,other,negative\\n46,F,f,f,f,f,f,f,f,f,f,f,f,f,f,f,t,2.5,f,?,t,109,t,1.11,t,98,f,?,other,negative\\n65,?,f,f,f,f,f,f,f,f,f,f,f,f,f,f,t,0.14,t,5.3,t,129,f,?,f,?,f,?,other,negative\\n23,F,f,f,f,f,f,f,f,f,f,f,f,t,f,f,t,0.01,t,2.9,t,205,t,0.87,t,235,f,?,other,negative\\n57,F,f,f,f,f,f,f,f,f,t,f,f,f,f,f,f,?,f,?,f,?,f,?,f,?,f,?,other,negative\\n84,F,f,f,f,f,f,f,f,f,f,f,f,f,f,f,t,12,f,?,t,101,t,1.08,t,94,f,?,other,compensated_hypothyroid\\n37,M,f,f,f,f,f,f,f,f,f,f,f,f,f,f,t,0.7,t,2.6,t,98,t,0.95,t,103,f,?,SVI,negative\\n52,F,f,f,f,f,f,f,f,f,f,f,f,f,f,f,t,0.97,t,2.3,t,125,t,1.06,t,117,f,?,other,negative\\n81,F,f,f,f,f,f,f,f,t,f,f,f,f,f,f,t,0.5,t,2.2,t,102,t,0.85,t,119,f,?,SVI,negative\\n36,F,f,f,f,f,f,f,f,f,f,f,f,f,f,f,t,0.2,t,3.2,t,187,t,1.74,t,107,f,?,STMW,negative\\n59,M,f,f,f,f,f,f,f,f,f,f,f,f,f,f,t,1.5,t,2.1,t,77,t,0.72,t,107,f,?,SVI,negative\\n67,F,f,f,f,f,f,f,f,f,f,f,f,f,f,f,t,1.4,t,2.1,t,132,t,1.13,t,116,f,?,SVI,negative\\n41,M,f,f,f,f,f,f,f,f,f,f,f,f,f,f,t,0.005,t,1.3,t,95,t,0.79,t,120,f,?,SVHC,negative\\n60,F,f,f,f,f,f,f,f,f,t,f,f,f,f,f,t,3.8,t,2.2,t,76,t,1.3,t,58,f,?,other,negative\\n71,F,f,f,f,f,f,f,f,f,f,f,f,f,f,f,t,1.3,t,1.2,t,98,f,?,f,?,f,?,other,negative\\n74,?,f,f,f,f,f,f,t,f,f,f,f,f,f,f,t,0.5,t,2.4,t,100,t,1.07,t,93,f,?,other,negative\\n74,F,f,f,f,f,f,f,f,f,f,f,f,f,f,f,t,0.65,t,0.9,t,92,t,0.71,t,129,f,?,SVI,negative\\n74,F,f,f,f,f,f,f,t,f,f,f,f,f,f,f,t,6.9,f,?,t,97,t,0.87,t,112,f,?,other,compensated_hypothyroid\\n53,M,f,f,f,f,f,f,f,f,f,f,f,f,f,t,t,0.6,t,2.6,t,136,t,1.19,t,114,f,?,SVHC,negative\\n71,F,f,f,f,f,f,f,f,f,f,f,f,f,f,f,t,0.02,t,2.2,t,165,t,0.89,t,186,f,?,SVI,negative\\n59,M,f,f,f,f,f,f,f,f,f,f,f,f,f,f,t,4.9,t,1.4,t,96,t,0.88,t,109,f,?,SVI,negative\\n19,F,f,f,f,f,f,f,f,f,f,f,f,f,f,t,t,1.6,t,2.2,t,96,t,0.94,t,102,f,?,SVHC,negative\\n53,M,f,f,f,f,f,f,f,f,f,f,f,f,f,f,t,0.9,f,?,t,88,t,1.05,t,84,f,?,other,negative\\n59,F,f,f,f,f,f,f,f,f,f,f,f,f,f,f,t,1.5,t,2.1,t,103,t,0.91,t,113,f,?,SVHC,negative\\n65,M,f,f,f,f,f,f,f,f,f,f,f,f,f,f,t,2.3,t,1.3,t,157,t,0.91,t,172,f,?,SVI,negative\\n36,F,f,f,f,f,f,f,f,f,f,f,f,f,f,f,t,1.9,t,1,t,77,t,0.86,t,90,f,?,other,negative\\n79,F,f,f,f,f,f,f,f,f,f,f,f,f,f,f,t,0.8,t,1.2,t,113,t,1.01,t,111,f,?,SVI,negative\\n17,F,t,f,f,f,f,f,f,t,f,f,f,f,f,f,t,28,t,2,t,86,t,0.99,t,87,f,?,SVI,negative\\n73,M,f,f,f,f,f,f,f,f,f,f,f,f,f,f,t,0.35,t,1.6,t,120,t,1.11,t,108,f,?,other,negative\\n44,F,f,f,f,f,f,f,f,f,f,f,f,f,f,f,t,4.2,t,2.2,t,113,t,1.09,t,103,f,?,SVHC,negative\\n40,M,f,f,f,f,f,f,f,f,f,f,f,f,f,f,t,0.2,t,1.6,t,95,t,0.99,t,96,f,?,SVHC,negative\\n34,F,f,f,f,f,t,f,f,f,f,f,f,f,f,f,t,0.04,t,2.9,t,144,t,1.58,t,91,f,?,STMW,negative\\n34,F,f,f,t,f,t,f,f,f,t,f,f,f,f,f,t,0.01,t,3.8,t,205,t,1.84,t,111,f,?,STMW,negative\\n72,F,f,f,f,f,f,f,f,f,f,f,f,f,f,f,t,1.5,t,1.9,t,141,t,1.09,t,129,f,?,other,negative\\n34,F,f,f,f,f,f,f,f,f,t,f,f,f,f,f,t,0.15,t,2.3,t,139,t,1.06,t,131,f,?,other,negative\\n32,F,f,f,f,f,f,f,f,f,f,f,f,f,f,f,f,?,f,?,f,?,f,?,f,?,f,?,other,negative\\n63,F,t,f,f,f,f,f,f,f,f,f,f,f,f,f,t,0.02,f,?,t,166,t,0.97,t,170,f,?,other,negative\\n38,M,t,f,f,f,f,f,f,t,f,f,f,f,f,f,f,?,f,?,f,?,f,?,f,?,f,?,other,negative\\n62,M,f,f,f,f,f,f,f,f,f,f,f,f,f,f,t,1.1,t,2.3,t,130,t,1.24,t,105,f,?,other,negative\\n41,F,f,f,f,f,f,f,f,f,f,f,f,f,f,f,t,1,t,1.5,t,100,t,0.86,t,116,f,?,other,negative\\n22,F,f,f,f,f,f,f,f,f,f,f,f,f,f,f,t,0.2,t,1.8,t,157,t,0.9,t,175,f,?,other,negative\\n69,F,t,f,f,f,f,f,t,f,f,f,f,f,f,f,t,1.3,t,1.7,t,116,t,0.95,t,122,f,?,other,negative\\n70,F,f,f,f,f,f,f,f,f,f,f,f,f,f,f,t,0.9,t,1.8,t,94,t,0.82,t,115,f,?,SVI,negative\\n52,F,t,f,f,f,f,f,f,f,f,f,f,f,f,f,f,?,f,?,f,?,f,?,f,?,f,?,other,negative\\n52,F,f,f,f,f,f,f,f,f,f,f,f,f,f,f,t,0.9,t,2.7,t,114,t,1.31,t,87,f,?,other,negative\\n79,F,f,f,f,f,f,f,f,f,f,f,f,f,f,f,t,2.8,t,1.9,t,108,t,0.93,t,116,f,?,SVI,negative\\n84,M,f,f,f,t,f,f,f,f,f,f,f,f,f,f,t,0.67,t,0.9,t,70,t,0.78,t,90,f,?,SVI,negative\\n67,M,f,f,f,f,f,f,f,f,f,f,f,f,f,t,t,0.15,t,1.6,t,94,t,0.87,t,108,f,?,SVHC,negative\\n46,?,f,f,f,f,f,f,f,f,f,f,f,f,f,f,t,2.2,t,1.7,t,81,f,?,f,?,f,?,SVI,negative\\n63,F,f,f,f,f,f,f,f,f,f,f,f,t,f,f,f,?,f,?,f,?,f,?,f,?,f,?,other,negative\\n55,F,t,t,f,t,f,f,f,f,f,f,f,f,f,f,t,0.005,t,1.6,t,115,t,0.84,t,138,f,?,SVHD,negative\\n40,F,t,f,f,f,f,f,f,f,f,f,f,f,f,f,t,1.6,t,1.9,t,142,t,0.91,t,156,f,?,other,negative\\n63,F,f,f,f,f,f,f,f,f,f,f,f,f,f,f,t,1.9,f,?,t,118,t,1.02,t,115,f,?,other,negative\\n78,F,f,f,f,f,f,f,f,f,f,f,f,f,f,f,f,?,t,2.1,f,?,f,?,f,?,f,?,other,negative\\n57,F,f,f,f,f,f,f,f,f,t,f,f,f,f,f,f,?,f,?,f,?,f,?,f,?,f,?,other,negative\\n29,?,f,f,f,f,f,f,f,f,f,f,f,f,f,f,t,0.5,t,2.5,t,80,t,0.88,t,91,f,?,SVI,negative\\n18,F,f,f,f,f,f,f,f,f,f,f,f,f,f,f,t,0.73,f,?,t,194,t,0.97,t,200,f,?,STMW,negative\\n70,M,f,f,f,f,f,f,f,f,f,f,f,f,f,f,t,1.5,t,2.3,t,141,t,1.2,t,117,f,?,SVI,negative\\n38,M,f,f,f,f,f,f,f,f,f,f,f,f,f,f,t,0.2,t,1.5,t,48,t,0.71,t,67,f,?,other,negative\\n48,M,f,f,f,f,f,f,f,f,f,f,f,f,f,f,t,3.5,t,3.5,t,166,t,1.35,t,123,f,?,SVI,negative\\n71,M,f,f,f,f,f,f,f,f,f,f,f,f,f,f,t,8,f,?,t,66,t,0.66,t,100,f,?,other,compensated_hypothyroid\\n72,F,f,f,f,f,f,f,f,f,f,f,f,f,f,f,t,0.6,t,2,t,106,t,1.05,t,101,f,?,SVHC,negative\\n60,F,t,f,f,f,f,f,f,f,f,f,f,f,f,f,t,0.81,f,?,t,192,t,1.44,t,134,f,?,other,negative\\n20,M,f,f,f,f,f,f,f,f,f,f,f,f,f,f,f,?,t,2.2,t,117,f,?,f,?,f,?,other,negative\\n29,F,f,f,f,f,f,f,f,f,f,f,f,f,f,f,t,4.6,t,1.6,t,97,t,1.12,t,87,f,?,SVHC,negative\\n55,M,f,f,f,f,f,f,f,f,f,f,f,f,f,f,t,1.4,t,1.8,t,103,t,0.89,t,115,f,?,other,negative\\n35,F,f,f,f,f,f,f,f,f,f,f,f,f,f,t,t,0.4,f,?,t,135,t,0.84,t,160,f,?,SVHC,negative\\n63,F,f,f,f,f,f,f,f,f,f,f,f,f,f,f,t,1.8,t,2.3,t,146,t,1.34,t,108,f,?,SVI,negative\\n35,M,f,f,f,f,f,f,f,f,f,f,f,f,f,f,t,2,t,2.6,t,102,t,1.13,t,91,f,?,SVI,negative\\n45,F,f,f,f,f,f,f,f,f,f,f,f,f,f,f,t,24,f,?,f,?,f,?,f,?,f,?,SVI,primary_hypothyroid\\n33,?,f,f,f,f,f,f,f,f,f,f,f,f,f,f,t,1.8,t,1.8,t,92,t,0.84,t,110,f,?,other,negative\\n77,M,f,f,f,f,f,f,f,f,f,f,f,f,f,t,t,2,t,1.3,t,97,t,0.9,t,108,f,?,SVHC,negative\\n25,F,f,f,f,f,f,f,f,f,f,f,f,f,f,f,t,11,t,0.7,t,122,t,1.13,t,108,f,?,SVI,compensated_hypothyroid\\n32,F,f,f,f,f,f,t,f,f,f,f,f,f,f,f,t,1.8,t,2.2,t,101,t,1.13,t,90,f,?,other,negative\\n53,F,f,f,f,t,f,f,f,f,f,f,f,f,f,f,t,2.4,t,3.7,t,172,t,1.67,t,103,f,?,other,negative\\n66,M,f,f,f,f,f,f,f,f,f,f,f,f,f,f,t,2,t,2.1,t,108,t,0.96,t,112,f,?,SVI,negative\\n28,M,f,f,f,f,f,f,f,f,f,f,f,f,f,f,t,1.7,t,2.1,t,142,t,1.07,t,133,f,?,SVI,negative\\n72,F,f,f,f,f,f,f,f,t,f,f,f,f,f,f,t,2.3,t,0.8,t,90,t,0.8,t,112,f,?,SVI,negative\\n46,F,f,f,f,f,f,f,f,f,f,f,f,f,f,f,t,0.045,t,1.5,t,75,t,0.9,t,83,f,?,other,negative\\n28,?,t,f,f,f,f,f,f,f,f,f,f,f,f,f,t,1.7,f,?,t,138,t,1.21,t,115,f,?,other,negative\\n38,M,f,f,f,f,f,f,f,f,f,f,f,f,f,f,t,0.6,t,2.8,t,146,t,1.1,t,133,f,?,SVI,negative\\n34,M,f,f,f,f,f,f,f,f,f,f,f,f,f,f,t,2.1,t,1.7,t,138,t,1.03,t,134,f,?,SVI,negative\\n62,M,t,f,f,f,f,f,f,f,f,f,f,f,f,f,t,0.54,f,?,t,85,t,0.94,t,91,f,?,other,negative\\n80,F,t,f,f,f,f,f,f,f,f,f,f,f,f,f,t,7.9,t,1.5,t,106,t,0.94,t,113,f,?,other,negative\\n57,F,f,f,f,f,f,f,f,f,f,f,f,f,f,f,f,?,f,?,f,?,f,?,f,?,f,?,other,negative\\n36,F,f,f,f,f,f,f,f,f,f,f,t,f,f,f,t,0.25,t,2.3,t,99,t,0.95,t,104,f,?,other,negative\\n52,M,f,f,f,f,f,f,t,f,f,f,f,f,f,f,t,0.01,t,2.4,t,108,t,0.7,t,154,f,?,other,negative\\n51,M,f,f,f,f,f,f,f,f,f,f,f,f,f,f,t,0.58,t,1.6,t,115,f,?,f,?,f,?,other,negative\\n31,?,f,f,f,f,f,f,f,f,f,f,f,f,f,f,t,1.1,t,2.2,t,103,t,1.05,t,98,f,?,SVHC,negative\\n37,M,f,f,f,f,f,f,f,f,f,f,f,f,f,f,t,1.5,t,3,t,114,t,0.93,t,122,f,?,SVHC,negative\\n39,F,f,f,f,f,f,f,f,f,f,f,f,f,f,f,t,2.1,t,2,t,89,t,1.14,t,79,f,?,other,negative\\n69,M,f,f,f,f,f,f,f,t,f,f,f,f,f,f,t,1.3,t,1.9,t,101,f,?,f,?,f,?,other,negative\\n78,F,f,f,f,t,f,f,f,f,f,f,f,f,f,f,t,1,t,2.3,t,96,t,1.05,t,92,f,?,SVI,negative\\n72,?,f,f,f,f,f,f,f,f,f,f,f,f,f,f,t,1.4,f,?,t,113,t,0.97,t,117,f,?,other,negative\\n28,F,f,f,f,f,f,f,f,f,f,f,f,f,f,f,t,6.1,t,2.2,t,136,t,1.24,t,110,f,?,other,compensated_hypothyroid\\n80,F,f,f,f,f,f,f,f,f,f,f,f,f,f,f,t,0.04,t,2,t,141,t,1.05,t,134,f,?,other,negative\\n84,F,f,f,f,f,f,f,f,f,f,f,f,f,f,f,t,0.25,t,2.2,t,138,t,0.97,t,143,f,?,other,negative\\n55,M,f,f,f,f,f,f,f,f,f,f,f,f,f,f,t,2.7,t,2.4,t,133,t,1,t,132,f,?,other,negative\\n19,F,f,f,f,f,f,f,f,f,f,f,f,f,f,f,t,1.6,t,1.6,t,94,t,1.06,t,89,f,?,other,negative\\n32,M,f,f,f,f,f,f,f,f,t,f,f,f,f,f,t,2.2,t,2,t,102,t,0.86,t,119,f,?,SVHC,negative\\n58,F,f,f,f,f,f,f,f,f,f,f,f,f,f,f,t,0.2,t,1.9,t,93,t,0.84,t,111,f,?,other,negative\\n30,F,t,f,f,f,f,f,f,f,f,f,f,f,f,f,t,0.08,t,1.9,t,147,t,1.03,t,143,f,?,other,negative\\n47,F,f,f,f,f,f,f,f,f,f,t,f,f,f,f,t,2.2,t,2,t,108,t,1.08,t,100,f,?,SVHC,negative\\n41,M,f,f,f,f,f,f,f,t,f,f,f,f,f,f,t,0.4,f,?,t,91,t,0.96,t,95,f,?,other,negative\\n37,F,f,f,f,f,f,f,f,f,f,f,f,t,f,f,t,13,t,2.5,t,96,t,1.33,t,73,f,?,other,compensated_hypothyroid\\n83,F,f,f,f,f,f,f,f,f,f,f,f,f,f,t,t,1.8,t,2.4,t,100,t,1.02,t,98,f,?,SVHC,negative\\n28,F,f,f,t,f,f,f,f,f,t,f,f,f,f,f,t,0.15,t,1.9,t,75,t,1.12,t,67,f,?,other,negative\\n57,F,f,f,f,f,f,f,f,t,f,f,f,f,f,f,t,2.1,f,?,t,76,t,1,t,75,f,?,other,negative\\n23,F,f,f,f,f,f,f,f,f,f,f,f,f,f,f,t,1.2,t,1.6,t,105,t,0.87,t,120,f,?,SVI,negative\\n60,F,t,f,f,f,f,f,f,f,f,f,f,f,f,f,t,0.035,t,2.3,t,160,t,1.05,t,151,f,?,other,negative\\n25,F,f,f,f,t,f,f,f,t,f,f,f,f,f,f,t,8.9,t,1.7,t,62,t,0.75,t,83,f,?,SVHD,compensated_hypothyroid\\n67,F,t,f,f,f,f,f,f,f,f,f,f,f,f,f,t,1.9,f,?,t,167,t,1.43,t,117,f,?,other,negative\\n51,M,f,f,f,f,f,f,f,f,f,f,f,f,f,f,t,1.6,t,2.1,t,111,t,0.95,t,117,f,?,other,negative\\n58,F,f,f,f,f,f,f,f,f,f,f,f,f,f,f,t,5.5,t,2.1,t,82,t,0.92,t,89,f,?,other,negative\\n55,F,t,f,f,f,f,f,f,f,f,f,f,f,f,f,f,?,f,?,f,?,f,?,f,?,f,?,other,negative\\n26,F,f,t,f,f,t,f,f,f,f,f,f,f,f,f,t,1.2,t,4,t,168,t,1.57,t,106,f,?,other,negative\\n55,M,f,f,f,f,f,f,f,f,f,f,f,f,f,f,t,0.34,t,1.4,t,123,t,0.96,t,128,f,?,SVI,negative\\n47,F,f,f,f,f,f,f,t,f,f,f,f,f,f,f,t,4.7,t,2.4,t,102,t,1.12,t,92,f,?,other,negative\\n59,M,f,f,f,f,f,f,f,f,f,f,f,f,f,t,t,2,t,2.4,t,94,t,0.96,t,98,f,?,SVHC,negative\\n58,M,f,f,f,f,f,f,f,f,f,f,f,f,f,f,t,0.05,t,2.4,t,103,t,0.97,t,107,f,?,SVI,negative\\n78,F,f,f,f,f,f,f,f,f,f,f,f,f,f,f,t,0.7,t,1.5,t,88,t,0.87,t,101,f,?,SVI,negative\\n73,M,f,f,f,f,f,f,f,f,f,f,f,f,f,t,t,1.8,t,2.1,t,103,t,0.92,t,112,f,?,SVHC,negative\\n33,F,f,f,f,f,f,f,f,f,f,f,f,f,f,f,t,2.2,t,1.7,t,94,t,1,t,94,f,?,other,negative\\n78,F,f,f,f,f,f,f,f,f,f,f,f,f,f,f,t,2.8,t,2.2,t,105,t,1.01,t,105,f,?,SVI,negative\\n58,F,f,f,f,t,f,f,f,f,f,f,f,f,f,f,t,0.98,f,?,t,99,t,1.08,t,92,f,?,other,negative\\n55,F,f,f,f,f,f,f,f,f,f,f,f,f,f,f,t,9.3,t,1.9,t,85,t,1.07,t,80,f,?,SVHC,compensated_hypothyroid\\n75,F,f,f,f,f,f,f,f,f,f,f,f,f,f,f,t,0.3,t,2.1,t,117,t,0.95,t,123,f,?,SVI,negative\\n19,F,f,f,f,f,f,f,f,f,f,f,f,f,f,f,t,9,f,?,t,95,t,0.87,t,110,f,?,other,compensated_hypothyroid\\n49,M,f,f,f,f,f,f,f,f,f,f,f,f,f,f,t,0.02,f,?,t,123,f,?,f,?,f,?,other,negative\\n71,F,t,f,f,f,f,f,f,f,f,f,f,f,f,f,t,2.6,t,1.3,t,93,t,0.81,t,115,f,?,other,negative\\n55,M,f,f,f,f,f,f,f,f,t,f,f,f,f,f,t,2.5,t,1.9,t,109,t,1.04,t,104,f,?,SVI,negative\\n22,F,f,f,f,f,f,f,f,f,f,f,f,f,f,f,f,?,f,?,f,?,f,?,f,?,f,?,other,negative\\n22,M,f,f,f,f,f,f,f,f,f,f,f,f,f,f,t,1.7,t,2.3,t,111,t,1.02,t,108,f,?,other,negative\\n73,F,f,f,f,f,f,f,f,f,f,f,f,f,f,f,t,0.01,t,3.4,t,133,t,0.84,t,159,f,?,other,negative\\n58,M,f,f,f,f,f,f,f,f,f,f,f,f,f,f,t,0.9,t,1.5,t,88,t,0.84,t,105,f,?,SVI,negative\\n48,F,f,f,f,f,f,f,f,f,f,f,f,f,f,f,t,2.3,t,0.9,t,105,t,0.61,t,173,f,?,SVI,negative\\n40,F,f,f,f,f,f,f,f,f,f,f,f,f,f,f,t,42,t,0.2,t,4.8,t,0.9,t,5.4,f,?,other,primary_hypothyroid\\n52,M,f,f,f,f,f,f,f,f,f,f,f,f,f,f,t,0.13,t,2.1,t,87,t,0.95,t,91,f,?,other,negative\\n74,F,f,f,f,f,f,f,f,f,f,f,f,f,f,f,t,0.6,t,2.4,t,137,t,1.18,t,116,f,?,SVI,negative\\n23,M,f,f,f,f,f,f,f,f,f,f,f,f,f,f,t,1.7,t,1,t,115,t,0.92,t,125,f,?,SVI,negative\\n67,F,f,f,f,f,f,f,f,f,t,f,f,f,f,f,t,1.2,t,2.2,t,121,t,1.02,t,118,f,?,other,negative\\n38,F,t,f,f,f,f,t,f,f,f,f,f,f,f,f,t,0.065,t,1.8,t,139,f,?,f,?,f,?,other,negative\\n44,F,f,f,f,f,f,f,f,f,f,f,f,f,f,f,t,1.2,t,1.7,t,92,t,0.98,t,94,f,?,other,negative\\n30,F,f,f,f,f,f,f,f,f,f,f,f,f,f,f,t,1.3,t,2.3,t,106,t,1.06,t,100,f,?,other,negative\\n47,F,f,f,f,f,f,f,f,f,f,f,f,f,f,f,f,?,t,2,t,85,t,1.06,t,80,f,?,other,negative\\n67,F,f,f,f,f,f,f,f,f,f,f,f,f,f,f,t,2.8,t,1.8,t,143,t,0.91,t,157,f,?,SVI,negative\\n42,F,f,f,f,f,f,t,f,f,f,f,f,f,f,f,t,7.2,t,1.3,t,93,t,0.9,t,104,f,?,other,negative\\n70,F,f,f,f,f,f,t,f,f,t,f,f,f,f,f,t,0.15,t,1.5,t,85,t,0.91,t,94,f,?,other,negative\\n63,M,f,f,f,f,f,f,f,f,f,f,f,f,f,f,t,0.3,t,0.8,t,74,t,0.85,t,87,f,?,other,negative\\n76,F,f,f,f,f,f,f,f,t,f,f,f,f,f,f,t,0.005,f,?,t,143,t,0.76,t,189,f,?,other,negative\\n76,F,f,f,f,f,f,f,f,t,f,f,f,f,f,f,t,2,t,1.4,t,107,t,0.77,t,139,f,?,SVI,negative\\n69,F,f,f,f,f,f,f,f,f,f,f,f,f,f,f,t,26,t,2,t,89,t,1.5,t,59,f,?,other,primary_hypothyroid\\n16,M,f,f,f,f,f,f,f,f,f,f,f,f,f,f,t,0.81,t,2.1,t,70,t,0.83,t,84,f,?,other,negative\\n68,M,f,f,f,f,f,f,f,f,f,f,f,f,f,f,t,0.2,t,0.9,t,72,t,0.77,t,94,f,?,SVI,negative\\n44,F,f,f,f,f,f,f,f,f,t,f,f,f,f,f,t,2.3,t,2.3,t,118,t,1.01,t,117,f,?,other,negative\\n64,M,f,f,f,f,f,f,f,f,f,f,f,f,f,f,t,1,t,0.7,t,91,t,0.83,t,110,f,?,SVI,negative\\n83,F,f,f,f,f,f,f,f,f,f,f,f,f,f,f,t,4.7,t,1.9,t,89,f,?,f,?,f,?,other,negative\\n50,M,t,f,f,f,f,f,f,f,f,f,f,f,f,f,t,11,t,2.2,t,95,t,1.1,t,86,f,?,other,negative\\n35,F,f,f,f,f,f,f,f,f,f,f,f,f,f,f,t,3.8,t,2,t,98,t,1.01,t,97,f,?,SVHC,negative\\n74,F,t,f,f,f,f,f,f,t,f,f,f,f,f,f,t,6.3,t,1.2,t,80,t,0.92,t,87,f,?,other,negative\\n16,M,f,f,f,f,f,f,f,f,f,f,f,f,f,f,t,0.4,t,1.7,t,88,t,0.89,t,99,f,?,SVI,negative\\n82,F,f,f,f,f,f,f,f,f,f,f,f,f,f,f,t,1,t,2.4,t,139,t,1.15,t,121,f,?,SVI,negative\\n28,F,f,f,f,f,f,f,f,f,f,f,f,f,f,f,t,54,t,2.1,t,50,t,1.1,t,46,f,?,SVI,primary_hypothyroid\\n26,F,f,f,f,f,f,f,f,f,f,f,f,f,f,f,t,2.4,t,1.9,t,170,t,1.23,t,138,f,?,STMW,negative\\n19,M,f,f,f,f,f,f,f,f,f,f,f,f,f,f,t,0.25,t,1.9,t,165,t,0.95,t,174,f,?,other,negative\\n47,F,f,f,f,f,f,f,f,f,f,f,f,f,f,f,t,3,t,1.4,t,159,t,0.95,t,166,f,?,SVI,negative\\n94,F,f,f,f,f,f,f,f,f,f,f,f,f,f,f,t,3.9,f,?,t,157,t,1.02,t,154,f,?,SVI,negative\\n60,F,f,f,f,f,f,f,f,f,f,f,f,f,f,f,t,2.1,f,?,t,127,t,1.01,t,126,f,?,other,negative\\n35,M,f,f,f,f,f,f,f,f,f,f,f,f,f,f,t,0.2,t,1,t,68,t,0.88,t,78,f,?,SVI,negative\\n47,F,f,f,f,f,f,f,f,f,f,f,f,f,f,f,t,1.9,t,1.7,t,98,t,1.08,t,90,f,?,STMW,negative\\n75,F,f,f,f,f,f,f,f,f,f,f,f,f,f,f,t,0.8,t,0.05,t,106,t,1.14,t,93,f,?,SVI,negative\\n39,F,f,f,f,f,f,f,f,t,t,f,f,f,f,f,t,1.5,t,2.8,t,99,t,0.95,t,104,f,?,other,negative\\n67,M,f,f,f,f,f,f,f,t,f,f,f,f,f,f,t,1.7,f,?,t,82,t,0.89,t,92,f,?,other,negative\\n72,F,f,f,f,f,f,f,f,f,f,f,f,f,f,f,f,?,f,?,t,161,t,0.9,t,180,f,?,other,negative\\n19,F,f,f,f,f,f,f,f,f,f,f,f,t,f,f,t,1.8,t,1.8,t,92,f,?,f,?,f,?,other,negative\\n73,F,t,f,f,f,f,f,f,f,f,f,f,f,f,f,t,0.39,f,?,t,104,t,0.97,t,107,f,?,other,negative\\n49,M,f,f,f,f,f,t,f,f,f,f,f,f,f,f,t,0.015,f,?,t,126,t,0.83,t,152,f,?,other,negative\\n81,F,f,f,f,f,f,f,f,f,f,f,f,f,f,f,t,5.4,t,1.3,t,73,t,0.72,t,101,f,?,SVI,negative\\n71,F,f,f,f,f,f,f,f,f,f,f,f,f,f,f,t,1.3,t,0.9,t,126,t,0.85,t,148,f,?,SVI,negative\\n43,F,t,f,f,f,f,f,f,f,f,f,f,f,f,f,t,0.13,f,?,t,182,t,1.04,t,175,f,?,other,negative\\n63,?,f,f,f,f,f,f,f,f,f,f,f,f,f,f,t,2.9,t,3.2,f,?,f,?,f,?,f,?,other,negative\\n34,F,f,f,t,f,t,f,f,f,f,f,f,f,f,f,t,0.02,t,3.7,t,182,t,1.75,t,104,f,?,STMW,negative\\n38,F,f,f,f,f,f,f,f,f,f,f,f,f,f,f,f,?,f,?,f,?,f,?,f,?,f,?,other,negative\\n59,F,f,f,f,f,f,f,f,t,f,f,f,f,f,f,t,0.65,f,?,t,126,t,1.31,t,96,f,?,other,negative\\n26,F,f,f,f,f,f,f,f,f,f,f,f,f,f,f,t,1.8,t,2.7,t,119,t,1.36,t,88,f,?,STMW,negative\\n73,F,t,f,f,f,f,f,f,t,f,f,f,f,f,f,t,2.6,t,1.6,t,89,t,0.94,t,95,f,?,SVI,negative\\n83,F,f,f,f,f,f,f,f,f,t,f,f,f,f,f,t,8.3,t,2.1,t,104,t,1.06,t,97,f,?,other,compensated_hypothyroid\\n68,F,f,f,f,f,f,f,f,f,f,f,f,f,f,f,t,0.005,t,1.8,t,142,t,1.05,t,135,f,?,other,negative\\n76,M,f,f,f,f,f,f,f,f,f,f,f,f,f,f,t,7.5,t,2.1,t,89,t,1.14,t,78,f,?,SVI,compensated_hypothyroid\\n18,M,f,f,f,f,f,f,f,f,f,f,f,f,f,t,t,0.1,t,2.3,t,98,t,0.85,t,115,f,?,SVHC,negative\\n54,M,f,f,f,f,f,f,f,f,f,f,f,f,f,f,t,1.3,t,1.1,t,130,t,1.03,t,127,f,?,SVI,negative\\n21,F,t,f,f,f,f,f,f,f,f,f,t,f,f,t,t,1.3,t,1.9,t,112,t,1.06,t,106,f,?,SVHC,negative\\n50,F,f,f,f,f,f,f,f,t,f,f,f,f,f,f,t,1.7,f,?,t,90,t,0.92,t,98,f,?,other,negative\\n23,F,f,f,f,f,f,f,f,t,f,f,f,f,f,f,t,0.6,f,?,t,78,t,1.07,t,73,f,?,other,negative\\n34,F,f,f,f,f,f,f,f,f,f,f,f,f,f,f,f,?,f,?,f,?,f,?,f,?,f,?,other,negative\\n82,F,f,f,f,f,f,f,f,f,f,f,f,f,f,f,f,?,f,?,f,?,f,?,f,?,f,?,other,negative\\n40,M,f,f,f,f,f,f,f,f,f,f,f,t,f,f,t,1.1,t,2.8,t,107,t,1.09,t,99,f,?,other,negative\\n32,F,f,f,f,f,f,f,f,f,f,f,f,f,f,f,t,1.1,t,2.2,t,107,t,0.94,t,114,f,?,other,negative\\n36,M,f,f,f,f,f,f,f,f,f,f,f,f,f,f,t,1.3,t,1.9,t,62,t,0.77,t,81,f,?,SVI,negative\\n29,M,f,f,f,f,f,f,f,t,f,f,f,f,f,f,t,2.3,t,1.9,t,100,t,0.93,t,107,f,?,other,negative\\n14,M,f,f,f,f,f,f,f,f,f,f,f,f,f,f,t,1.4,f,?,t,91,t,0.93,t,98,f,?,other,negative\\n63,M,t,f,f,f,f,f,f,f,f,f,f,f,f,f,t,0.25,f,?,t,161,t,1.07,t,151,f,?,other,negative\\n18,F,t,f,f,f,f,f,f,f,f,f,f,f,f,f,t,478,f,?,t,45,t,1.3,t,34,f,?,other,primary_hypothyroid\\n68,F,f,f,f,t,f,f,f,f,f,f,f,f,f,f,t,0.97,t,1.3,t,85,t,0.87,t,98,f,?,other,negative\\n68,M,f,f,f,f,f,f,f,f,f,f,f,f,f,f,t,15,t,2,t,81,t,1.01,t,81,f,?,other,compensated_hypothyroid\\n85,F,f,f,f,f,f,f,f,f,f,f,f,f,f,f,t,2.4,t,1.4,t,86,t,0.98,t,88,f,?,other,negative\\n41,M,f,f,f,f,f,f,f,f,f,f,f,f,f,f,t,1.9,t,2.2,t,138,t,0.9,t,154,f,?,SVI,negative\\n38,F,f,f,f,f,f,f,f,f,f,f,f,f,f,f,t,1.5,t,3.3,t,122,t,1.46,t,83,f,?,STMW,negative\\n43,F,f,f,f,f,f,f,f,f,f,f,f,f,f,f,t,2,t,2.6,t,87,t,1.13,t,78,f,?,other,negative\\n73,F,f,f,f,f,f,f,f,f,f,f,f,f,f,f,t,2.1,f,?,t,88,t,0.93,t,95,f,?,other,negative\\n34,F,f,f,f,f,f,f,f,f,f,f,f,f,f,f,t,0.2,t,2.5,t,104,t,1.2,t,86,f,?,STMW,negative\\n44,M,t,f,f,f,f,t,f,f,f,f,f,f,f,f,t,21,f,?,t,76,t,0.9,t,84,f,?,other,negative\\n15,F,f,f,f,f,f,f,f,t,f,f,f,f,f,f,t,3.4,f,?,t,112,t,1.3,t,86,f,?,other,negative\\n68,F,t,f,f,f,f,f,f,f,f,f,f,f,f,f,t,0.02,t,2.2,t,142,t,0.99,t,143,f,?,STMW,negative\\n66,F,f,f,f,f,f,f,f,f,f,f,f,t,f,t,t,1.2,t,2.3,t,133,t,1.17,t,113,f,?,SVI,negative\\n28,F,f,f,f,f,f,f,f,f,f,f,f,f,f,f,t,1,t,2.5,t,134,t,1.13,t,119,f,?,other,negative\\n43,F,t,f,f,f,f,f,f,f,f,f,f,f,f,f,t,0.2,f,?,t,197,t,1.08,t,182,f,?,other,negative\\n48,F,f,f,f,f,f,f,f,f,f,f,f,f,f,f,t,2.4,t,2.3,t,99,t,1.05,t,95,f,?,SVHC,negative\\n79,F,f,f,f,f,f,f,f,f,f,f,f,f,f,f,t,6.8,f,?,t,144,t,1.29,t,111,f,?,other,compensated_hypothyroid\\n56,F,f,f,f,f,f,f,f,f,f,f,f,f,f,f,t,0.6,f,?,t,117,t,1.11,t,105,f,?,other,negative\\n28,M,f,f,f,f,f,f,f,f,f,f,f,f,f,f,t,0.5,t,2.2,t,107,t,0.94,t,113,f,?,SVHC,negative\\n42,F,f,f,f,f,f,f,f,f,f,f,f,f,f,f,t,2.3,t,1.1,t,93,t,0.73,t,127,f,?,other,negative\\n55,F,t,f,f,f,f,f,f,f,f,f,f,f,f,f,t,0.01,t,2.2,t,172,t,1.1,t,157,f,?,other,negative\\n33,F,f,f,f,f,t,f,f,f,t,f,f,f,f,f,t,3,t,2.5,t,121,t,1.38,t,88,f,?,other,negative\\n70,M,f,f,f,f,f,f,f,f,f,f,f,f,f,f,t,0.2,t,2,t,119,t,0.86,t,138,f,?,SVHC,negative\\n64,F,f,f,f,f,f,f,f,f,t,f,f,t,f,f,f,?,t,6.1,t,214,t,0.94,t,228,f,?,other,negative\\n71,F,f,f,f,f,f,f,f,f,f,f,f,f,f,f,t,0.09,t,2.5,t,167,t,1.19,t,140,f,?,other,negative\\n29,F,f,f,f,f,f,f,f,f,f,f,f,f,f,f,t,0.7,t,2.1,t,110,t,0.95,t,116,f,?,other,negative\\n78,F,f,f,f,t,f,f,f,f,f,f,f,f,f,f,t,4.1,t,1.9,t,116,t,1.05,t,110,f,?,other,negative\\n71,F,f,f,f,t,f,f,f,t,f,f,f,f,f,f,t,1.6,t,1.8,t,136,t,1.16,t,117,f,?,SVI,negative\\n21,F,f,f,f,f,f,f,f,f,f,f,f,f,f,t,t,0.83,t,2.2,t,132,t,0.99,t,133,f,?,SVHC,negative\\n71,F,t,f,f,f,f,f,f,f,f,f,f,f,f,f,t,0.32,t,1.6,t,164,t,1.11,t,148,f,?,other,negative\\n79,F,f,f,f,f,f,f,f,f,f,f,f,f,f,f,t,3.5,t,1.6,t,91,t,0.99,t,91,f,?,other,negative\\n38,F,f,f,f,f,f,f,f,f,f,f,f,f,f,t,t,2.7,t,1.5,t,76,t,0.88,t,86,f,?,SVHC,negative\\n62,M,f,f,f,f,f,f,f,f,f,f,f,f,f,f,t,0.86,t,1.9,t,78,t,0.85,t,91,f,?,SVI,negative\\n56,?,f,f,f,f,f,f,f,f,f,f,f,f,f,f,t,2.1,t,2.2,t,91,t,0.84,t,108,f,?,other,negative\\n63,F,f,f,f,f,f,f,f,f,f,f,f,f,f,f,t,0.67,t,1.8,t,107,t,0.85,t,126,f,?,other,negative\\n12,M,t,f,f,f,f,f,f,f,f,f,f,f,f,f,t,0.02,t,2.3,t,152,t,0.8,t,190,f,?,other,negative\\n47,M,f,f,f,f,f,f,f,f,f,f,f,f,f,t,t,2.3,t,1.6,t,75,t,0.93,t,80,f,?,SVHC,negative\\n25,F,f,f,f,t,f,f,f,f,f,f,f,f,f,f,t,2.7,f,?,t,73,t,0.97,t,76,f,?,SVHD,negative\\n48,F,f,f,f,f,f,f,f,f,f,f,f,f,f,f,t,7.1,t,1.4,t,88,t,0.93,t,95,f,?,other,compensated_hypothyroid\\n59,F,f,f,f,f,f,f,f,f,f,f,f,f,f,f,t,0.7,t,1.6,t,129,t,1.07,t,121,f,?,SVI,negative\\n32,F,f,f,f,f,f,f,f,f,t,f,f,f,f,f,t,0.1,t,1.9,t,126,t,0.76,t,163,f,?,SVI,negative\\n45,M,f,f,f,t,f,f,f,f,f,f,f,f,f,f,t,2.1,f,?,t,93,t,1.16,t,80,f,?,other,negative\\n41,F,t,f,f,f,f,f,f,f,f,f,f,f,f,f,t,15,t,1.7,t,119,t,0.99,t,120,f,?,other,negative\\n78,F,f,f,f,f,f,f,f,f,f,f,f,f,f,f,t,2.3,f,?,t,80,t,0.86,t,93,f,?,SVI,negative\\n77,F,f,f,f,f,f,f,f,t,f,f,f,f,f,f,t,1.9,f,?,f,?,f,?,f,?,f,?,other,negative\\n61,M,f,f,f,f,f,f,t,f,f,f,f,f,f,f,t,0.005,t,2.3,t,110,t,1.01,t,109,f,?,other,negative\\n73,M,f,f,f,f,f,f,f,f,f,f,f,f,f,f,t,0.4,t,2.3,t,94,t,0.9,t,105,f,?,SVI,negative\\n80,F,f,f,f,f,f,f,f,f,f,f,f,f,f,f,f,?,t,2.8,t,103,t,1,t,103,f,?,other,negative\\n58,M,f,f,f,f,f,f,f,f,f,f,f,f,f,f,t,2.3,t,2.3,t,104,t,1.08,t,96,f,?,SVHC,negative\\n59,M,t,f,f,f,f,f,f,f,f,f,f,f,f,f,t,0.3,t,1.9,t,144,t,0.93,t,156,f,?,other,negative\\n4,M,f,f,f,f,f,f,f,f,f,f,f,f,f,f,t,0.07,t,3.2,t,246,t,1.06,t,232,f,?,STMW,negative\\n35,F,f,f,f,f,f,f,f,f,f,f,f,f,f,t,t,1.2,t,1.9,t,95,t,1.1,t,87,f,?,SVHC,negative\\n56,F,f,f,f,f,f,f,f,f,f,f,f,f,f,f,t,0.05,f,?,t,230,t,1.06,t,217,f,?,other,negative\\n35,F,f,f,f,f,f,f,f,f,f,f,f,f,f,f,f,?,f,?,t,110,t,0.96,t,114,f,?,other,negative\\n38,F,f,f,f,f,f,f,f,f,f,f,f,f,f,f,t,0.23,t,3.4,t,183,t,0.98,t,186,f,?,other,negative\\n64,M,t,f,f,f,f,f,f,f,f,f,f,f,f,f,t,0.24,f,?,t,83,t,0.9,t,93,f,?,other,negative\\n52,M,f,f,f,f,f,f,f,t,f,f,f,f,f,f,t,1.3,t,2,t,102,f,?,f,?,f,?,other,negative\\n32,M,f,f,f,f,f,f,f,f,f,f,f,f,f,t,t,8.1,t,2.5,t,90,t,0.95,t,95,f,?,SVHC,compensated_hypothyroid\\n23,F,f,f,f,f,f,f,f,f,f,f,f,f,f,f,t,0.7,t,1.9,t,116,t,0.89,t,130,f,?,other,negative\\n83,M,f,f,f,f,f,f,f,f,f,f,f,f,f,f,t,2.3,t,1.6,t,105,t,0.83,t,127,f,?,SVI,negative\\n81,F,f,f,f,f,f,f,t,f,f,f,f,f,f,f,t,1.9,t,1.5,t,71,t,0.78,t,91,f,?,other,negative\\n66,F,f,f,f,f,f,f,f,f,f,f,f,f,f,f,t,0.32,t,2.5,t,169,t,1.14,t,149,f,?,SVI,negative\\n31,?,f,f,f,f,f,f,f,f,f,f,f,f,f,f,t,1.9,t,2.7,t,99,t,1,t,99,f,?,STMW,negative\\n68,F,f,f,f,f,f,f,t,f,f,f,f,f,f,f,t,1.6,t,2.5,t,99,t,1.09,t,90,f,?,other,negative\\n45,F,f,f,f,f,f,f,f,f,f,f,f,f,f,f,t,1.1,t,1.6,t,84,t,0.96,t,87,f,?,SVI,negative\\n58,F,t,f,f,f,f,f,f,f,f,f,f,f,f,f,t,1.3,f,?,t,88,t,0.81,t,109,f,?,other,negative\\n64,F,t,f,f,f,f,f,f,f,f,f,f,f,f,f,t,0.1,f,?,t,123,t,0.74,t,166,f,?,other,negative\\n19,F,f,f,f,f,f,f,f,f,f,f,f,f,f,f,f,?,f,?,f,?,f,?,f,?,f,?,other,negative\\n60,M,f,f,f,f,f,f,f,f,f,f,f,f,f,f,t,0.91,t,1,t,102,t,0.91,t,112,f,?,SVI,negative\\n50,F,f,f,f,f,f,f,f,f,f,f,f,f,f,f,t,0.2,t,2,t,121,t,1.04,t,116,f,?,SVHC,negative\\n13,F,f,f,f,f,f,f,f,t,f,f,f,f,f,f,f,?,f,?,f,?,f,?,f,?,f,?,other,negative\\n59,F,f,f,f,f,f,f,f,f,f,f,f,f,f,f,t,1.8,t,2.9,t,123,t,1.31,t,94,f,?,other,negative\\n39,?,f,f,f,f,f,f,f,f,f,f,f,f,f,f,t,2.2,t,3.2,t,108,t,1.07,t,100,f,?,STMW,negative\\n76,F,f,f,f,f,f,f,f,f,f,f,f,f,f,f,t,0.1,t,2.9,t,124,t,1.28,t,97,f,?,other,negative\\n53,M,f,f,f,f,f,f,f,f,f,f,f,f,f,f,t,12,t,2,f,?,f,?,f,?,f,?,other,compensated_hypothyroid\\n19,M,f,f,f,f,f,f,f,f,f,f,f,f,f,f,t,3.1,t,1.8,t,82,f,?,f,?,f,?,other,negative\\n31,M,t,f,f,f,f,f,f,f,f,f,f,f,f,f,f,?,f,?,f,?,f,?,f,?,f,?,other,negative\\n34,F,f,f,f,f,t,f,f,f,t,f,f,f,f,f,t,0.02,t,3.7,t,196,t,1.65,t,119,f,?,STMW,negative\\n56,M,f,f,f,f,f,f,f,f,f,f,f,f,f,f,t,1.1,t,1.7,t,82,t,1,t,81,f,?,other,negative\\n55,M,f,f,f,f,f,f,f,f,f,f,f,f,f,f,t,60,t,0.7,t,14,t,1.11,t,13,f,?,other,primary_hypothyroid\\n20,F,f,f,f,f,f,f,f,f,f,f,f,f,f,f,t,2.1,f,?,t,105,t,1.04,t,101,f,?,other,negative\\n62,F,t,f,f,f,f,f,f,f,f,f,f,f,f,f,t,2.5,f,?,t,126,t,1.24,t,101,f,?,other,negative\\n72,F,f,f,f,f,f,f,f,f,t,f,f,f,f,f,t,0.1,t,2.5,t,180,t,0.83,t,217,f,?,SVI,negative\\n70,F,f,f,f,f,f,f,f,f,f,f,f,f,f,f,t,2.3,t,1.8,t,122,t,0.85,t,144,f,?,SVI,negative\\n11,F,f,f,t,f,f,f,f,f,f,f,f,f,f,f,f,?,f,?,f,?,f,?,f,?,f,?,other,negative\\n56,M,f,f,f,f,f,f,f,f,f,f,f,f,f,f,f,?,f,?,f,?,f,?,f,?,f,?,other,negative\\n28,F,f,t,f,f,f,t,f,f,f,f,f,f,f,f,t,1.5,t,1.5,t,120,t,1.01,t,118,f,?,SVI,negative\\n32,M,f,f,f,f,f,f,f,f,f,f,f,f,f,f,t,3.1,t,2.1,t,88,t,0.7,t,125,f,?,SVI,negative\\n65,M,f,f,f,f,f,f,f,f,f,f,f,f,f,f,t,1.3,t,2,t,105,t,1.28,t,83,f,?,SVHC,negative\\n39,F,f,f,f,f,f,f,f,f,t,f,f,f,f,f,t,1.2,t,2,t,102,t,0.93,t,110,f,?,other,negative\\n39,F,t,f,f,f,f,f,f,f,f,f,f,f,f,f,t,0.25,t,1.9,t,94,t,0.93,t,101,f,?,other,negative\\n24,F,f,f,f,f,f,f,f,f,f,f,f,f,f,t,t,1.7,t,2.4,t,126,t,0.92,t,136,f,?,SVHC,negative\\n77,F,f,f,f,f,f,f,f,f,f,f,f,f,f,f,t,1,t,2.4,t,101,t,1.17,t,87,f,?,other,negative\\n25,M,f,f,f,f,f,f,f,f,f,f,f,f,f,f,t,3.4,t,1.9,t,63,t,0.81,t,78,f,?,other,negative\\n22,F,f,f,f,f,f,f,f,f,f,f,f,f,f,f,t,1.7,t,1.7,t,85,t,0.92,t,92,f,?,other,negative\\n59,M,t,f,t,f,f,f,t,f,t,f,f,f,f,f,t,0.08,f,?,t,125,t,0.78,t,161,f,?,other,negative\\n51,F,f,f,f,f,f,f,f,f,f,f,f,f,f,f,t,0.29,f,?,t,98,t,1.03,t,95,f,?,other,negative\\n36,F,f,f,f,f,f,f,f,f,f,f,f,f,f,f,t,1.3,t,1.6,t,112,t,1.13,t,100,f,?,other,negative\\n37,F,f,f,f,f,f,f,f,f,f,t,f,f,f,f,t,0.64,t,2.1,t,92,t,0.99,t,93,f,?,other,negative\\n75,F,f,f,f,f,f,f,f,f,f,f,f,f,f,f,t,0.6,t,1.8,t,99,t,1.03,t,96,f,?,SVI,negative\\n67,M,f,f,f,f,f,f,f,f,f,f,f,f,f,f,t,3.2,t,1.9,t,91,t,0.79,t,115,f,?,SVI,negative\\n17,F,f,f,f,f,f,f,f,f,f,f,f,f,f,f,f,?,f,?,f,?,f,?,f,?,f,?,other,negative\\n42,F,f,f,f,f,f,f,f,f,f,f,f,f,f,f,t,3,t,0.8,t,83,t,0.99,t,84,f,?,other,negative\\n37,F,f,f,f,f,f,f,f,f,f,f,f,f,f,f,t,18,t,1.5,t,98,t,0.88,t,112,f,?,other,compensated_hypothyroid\\n59,M,t,f,f,f,f,f,f,f,f,f,f,f,f,f,t,0.15,t,2.5,t,90,t,0.85,t,106,f,?,other,negative\\n73,F,f,f,f,t,f,f,f,f,f,f,f,f,f,f,t,1.6,t,2,t,105,t,1.17,t,89,f,?,SVI,negative\\n26,F,f,t,f,f,f,f,f,f,f,f,f,f,f,f,t,9.2,t,1.6,t,104,t,1.12,t,93,f,?,other,compensated_hypothyroid\\n41,M,f,f,f,f,f,f,f,f,f,f,f,f,f,f,t,3.7,t,1.7,t,112,t,1.05,t,107,f,?,SVI,negative\\n86,F,f,f,f,f,f,f,f,f,f,f,f,f,f,f,t,13,f,?,t,87,t,0.92,t,94,f,?,other,compensated_hypothyroid\\n32,M,f,f,f,f,f,f,f,f,f,f,f,f,f,f,t,1.2,t,2.9,t,128,t,1.12,t,114,f,?,SVHC,negative\\n80,F,f,f,t,f,f,f,f,f,f,f,f,f,f,f,t,5.3,t,2,t,86,t,1.02,t,83,f,?,other,negative\\n46,F,f,f,f,f,f,f,f,f,f,f,f,f,f,f,t,0.3,t,2.2,t,85,t,1.13,t,75,f,?,other,negative\\n28,F,t,f,f,f,t,f,f,f,f,f,f,f,f,f,t,2.5,t,2.6,t,179,t,1.55,t,115,f,?,other,negative\\n56,M,f,f,f,f,f,f,f,f,f,f,f,f,f,f,t,1.2,t,1.6,t,119,t,1.05,t,113,f,?,SVI,negative\\n80,M,f,f,f,f,f,f,f,f,f,f,f,f,f,f,t,0.37,t,0.7,t,134,t,1.12,t,120,f,?,SVI,negative\\n75,F,f,f,f,f,f,f,f,f,f,f,f,f,f,f,t,3.5,t,2.2,t,118,t,1.01,t,117,f,?,SVI,negative\\n73,F,f,f,f,t,f,f,f,f,f,f,f,f,f,f,t,2.1,t,2.8,t,109,t,1.32,t,83,f,?,other,negative\\n78,F,f,f,f,f,f,f,f,f,f,f,f,f,f,f,t,2.9,t,2.2,t,129,t,0.97,t,133,f,?,SVI,negative\\n81,M,f,f,f,f,f,f,f,f,f,f,f,f,f,f,t,1.3,t,1.2,t,147,t,1.06,t,138,f,?,SVI,negative\\n77,F,f,f,f,f,f,f,f,f,f,f,f,f,f,f,t,0.02,t,2.7,t,155,t,0.98,t,159,f,?,other,negative\\n37,F,f,f,f,f,f,f,f,f,f,f,f,f,f,f,t,4.1,t,2.5,t,118,f,?,f,?,f,?,SVI,negative\\n39,M,f,f,f,f,f,f,f,f,f,f,f,f,f,f,t,1.4,t,1.7,t,94,t,0.85,t,110,f,?,other,negative\\n52,M,f,f,f,f,f,f,f,f,f,f,f,f,f,f,t,1.5,t,2.3,t,117,t,1.11,t,105,f,?,SVI,negative\\n74,M,f,f,f,f,f,f,f,f,f,f,f,f,f,f,t,0.61,t,0.9,t,115,t,0.75,t,153,f,?,SVI,negative\\n62,M,f,f,f,f,f,f,f,f,f,f,f,f,f,f,t,100,t,0.4,t,10,t,1,t,10,f,?,SVI,primary_hypothyroid\\n39,F,f,f,f,f,f,f,f,f,f,f,f,f,f,f,t,0.7,t,1.2,t,81,t,0.99,t,82,f,?,SVI,negative\\n78,F,f,f,f,f,f,f,f,f,f,f,f,f,f,f,t,0.77,t,1.9,t,113,t,1.03,t,110,f,?,other,negative\\n20,F,f,f,f,f,f,f,f,f,f,f,f,f,f,f,t,1.5,t,2.4,t,137,t,1.35,t,101,f,?,SVHC,negative\\n89,F,f,f,f,f,f,f,f,f,f,f,f,f,f,f,t,2.5,t,1.8,t,86,t,1.04,t,83,f,?,other,negative\\n25,F,f,f,f,f,f,f,f,f,f,f,f,f,f,f,t,0.7,t,1.6,t,94,t,0.93,t,101,f,?,SVI,negative\\n61,?,f,f,f,f,f,f,f,f,f,f,f,f,f,f,t,0.29,t,1.5,t,119,t,0.9,t,132,f,?,other,negative\\n61,F,f,f,f,f,f,f,f,f,f,f,f,f,f,f,t,1.7,t,2.5,t,121,t,1.07,t,114,f,?,other,negative\\n61,M,f,f,f,f,f,f,f,f,f,f,f,f,f,f,f,?,f,?,f,?,f,?,f,?,f,?,other,negative\\n70,F,f,f,f,f,f,f,f,f,f,f,f,f,f,f,t,1.2,f,?,t,131,t,0.95,t,137,f,?,other,negative\\n45,F,f,f,f,f,f,f,f,f,f,f,f,f,f,f,t,1.9,t,2.3,t,92,t,1.05,t,88,f,?,other,negative\\n63,F,f,f,f,f,f,f,f,f,f,f,f,f,f,f,t,0.005,f,?,t,127,t,0.92,t,138,f,?,SVI,negative\\n8,M,f,f,f,f,f,f,f,f,f,f,f,f,f,f,t,1.1,t,2.2,t,77,t,0.85,t,91,f,?,other,negative\\n42,F,f,f,f,f,f,t,f,f,f,f,f,f,f,f,t,0.04,t,1.9,t,117,t,0.77,t,153,f,?,other,negative\\n28,M,f,f,f,f,f,f,f,f,f,f,f,f,f,f,t,4.2,t,1.5,t,83,f,?,f,?,f,?,other,negative\\n78,F,f,f,f,f,f,f,f,f,f,f,f,f,f,f,t,2.5,t,1.1,t,70,t,0.92,t,76,f,?,other,negative\\n68,F,f,f,f,f,f,f,f,t,f,f,f,f,f,f,t,2.1,f,?,t,112,t,0.93,t,120,f,?,other,negative\\n37,M,f,f,f,f,f,f,f,f,t,f,f,f,f,f,t,0.25,t,2,t,83,t,1.14,t,72,f,?,other,negative\\n44,M,f,f,f,f,f,f,f,f,f,f,f,f,f,f,t,3,t,2,t,115,t,1.1,t,104,f,?,SVHC,negative\\n21,F,f,f,f,f,f,f,f,f,f,f,f,f,f,f,f,?,f,?,t,107,t,1.07,t,100,f,?,other,negative\\n56,F,f,t,f,f,f,f,f,f,f,f,f,t,f,f,t,5.2,f,?,t,137,t,1.28,t,107,f,?,other,negative\\n41,F,f,f,f,f,f,f,t,f,f,f,f,f,f,f,t,0.3,t,2.3,t,111,t,0.83,t,134,f,?,other,negative\\n60,?,f,f,f,f,f,f,f,f,f,f,f,f,f,f,t,1.1,f,?,f,?,f,?,f,?,f,?,other,negative\\n70,F,f,f,f,f,f,f,f,f,f,f,f,f,f,f,t,0.7,t,1.3,t,96,t,1.14,t,84,f,?,other,negative\\n51,M,t,f,f,f,f,f,f,f,f,f,f,f,f,f,t,1.4,t,2.6,t,118,t,0.91,t,130,f,?,SVHC,negative\\n77,F,f,f,f,f,f,f,f,f,f,f,f,f,f,f,t,0.27,f,?,f,?,f,?,f,?,f,?,other,negative\\n63,F,f,f,f,f,f,f,f,f,f,f,f,f,f,f,t,3.9,t,1.8,t,103,t,0.84,t,124,f,?,SVHC,negative\\n5,F,t,f,f,f,f,f,f,f,f,f,f,f,f,f,t,17,t,2,t,74,t,0.95,t,78,f,?,other,negative\\n29,M,f,f,f,f,f,f,f,f,f,f,f,f,f,t,t,1.4,t,3.8,t,127,t,1.14,t,112,f,?,SVHC,negative\\n73,F,f,f,f,f,f,f,f,f,f,f,f,f,f,f,t,1.8,t,1.7,t,130,t,1.2,t,109,f,?,SVI,negative\\n52,F,f,f,f,f,f,f,f,f,f,f,f,f,f,f,f,?,f,?,f,?,f,?,f,?,f,?,other,negative\\n17,F,t,f,f,f,f,f,f,f,f,f,f,f,f,f,t,13,t,1.6,t,151,t,1.39,t,109,f,?,other,negative\\n38,F,f,f,f,f,f,f,f,f,f,f,f,f,f,f,t,2.5,t,1.5,t,81,t,0.86,t,94,f,?,SVI,negative\\n40,M,f,f,f,f,f,f,f,f,f,f,f,f,f,f,t,0.98,t,1.8,t,98,t,0.99,t,99,f,?,SVHC,negative\\n44,F,f,f,f,f,f,f,f,f,t,f,f,f,f,f,t,1.01,t,1.8,t,109,t,1,t,109,f,?,other,negative\\n50,M,f,f,f,f,f,f,f,f,f,f,f,f,f,f,t,3,t,2.2,t,91,t,1.11,t,82,f,?,other,negative\\n25,M,f,f,f,f,f,f,f,f,f,f,f,f,f,t,t,3,t,2.7,t,110,t,0.87,t,126,f,?,SVHC,negative\\n26,M,f,f,f,f,f,f,f,f,f,f,f,f,f,f,t,2.7,t,2.5,t,130,t,1.08,t,121,f,?,SVHC,negative\\n35,F,f,f,f,f,f,f,f,f,f,f,f,f,f,f,t,0.2,t,2.1,t,116,t,1.06,t,109,f,?,other,negative\\n40,F,f,f,f,f,f,f,f,f,f,f,f,f,f,f,f,?,f,?,t,134,t,1.2,t,112,f,?,other,negative\\n68,F,f,f,f,f,f,f,f,f,f,f,f,f,f,f,t,16,t,1.4,t,68,t,1.01,t,67,f,?,SVI,compensated_hypothyroid\\n35,F,f,f,f,f,f,f,f,f,t,f,f,f,f,f,t,0.72,t,3.8,t,140,t,1.16,t,121,f,?,other,negative\\n77,F,f,f,f,f,f,f,f,f,f,f,f,f,f,f,t,2.7,t,2,t,103,t,0.9,t,114,f,?,other,negative\\n55,F,f,f,f,f,f,f,f,f,f,f,f,f,f,t,t,1.7,t,2,t,102,t,0.96,t,106,f,?,SVHC,negative\\n67,F,f,f,f,f,f,f,f,f,f,f,f,f,f,f,t,1.7,t,2.3,t,104,f,?,f,?,f,?,SVI,negative\\n35,F,t,f,f,f,f,f,f,f,f,f,f,f,f,f,t,0.35,t,2.5,t,99,t,1.04,t,96,f,?,STMW,negative\\n19,M,f,f,f,f,f,f,f,f,f,f,f,f,f,f,t,58,f,?,t,74,t,0.9,t,82,f,?,other,compensated_hypothyroid\\n72,M,f,f,f,t,f,f,f,f,f,f,f,f,f,f,t,5.4,t,1.8,t,87,t,0.91,t,95,f,?,other,negative\\n25,M,f,f,f,f,f,f,f,f,f,f,f,f,f,t,t,1.2,t,2.6,t,121,t,0.97,t,125,f,?,SVHC,negative\\n56,F,t,f,f,f,f,f,f,f,f,f,f,f,f,f,t,0.005,f,?,t,170,t,0.96,t,177,f,?,other,negative\\n57,M,f,t,f,f,f,f,f,f,f,f,f,f,f,f,f,?,t,2.2,t,104,t,1.07,t,97,f,?,other,negative\\n66,F,f,f,f,f,f,f,f,f,f,f,f,f,f,f,t,4.6,t,2.4,t,125,t,1.09,t,115,f,?,SVI,negative\\n47,F,f,f,f,f,f,f,f,f,t,f,f,f,f,f,t,0.15,t,4.3,t,189,t,1.07,t,176,f,?,other,negative\\n61,M,f,f,f,t,f,f,f,f,f,f,f,f,f,f,t,1.6,t,1.9,t,103,t,0.88,t,118,f,?,other,negative\\n53,F,f,f,f,f,f,f,f,f,f,f,f,f,f,f,f,?,f,?,f,?,f,?,f,?,f,?,other,negative\\n53,M,f,f,f,f,f,f,f,f,f,f,f,f,f,f,t,1.8,t,2.4,t,104,t,0.81,t,128,f,?,SVHC,negative\\n28,F,f,f,f,f,f,f,f,f,f,f,f,f,f,f,t,1.5,t,2.3,t,134,t,1.24,t,109,f,?,other,negative\\n42,F,f,f,f,f,f,f,f,f,f,f,f,f,f,f,t,1.6,t,1.6,t,139,t,1.04,t,134,f,?,other,negative\\n20,F,t,f,f,f,f,f,f,f,f,f,f,f,f,f,t,0.02,t,2.6,t,171,t,1.12,t,153,f,?,other,negative\\n44,M,f,f,f,f,f,f,f,f,f,f,f,f,f,f,t,41,t,1.5,t,48,t,1.17,t,41,f,?,other,primary_hypothyroid\\n55,F,f,f,f,f,f,f,f,f,f,f,f,f,f,f,t,11,t,0.4,t,102,f,?,f,?,f,?,SVI,compensated_hypothyroid\\n57,F,f,f,f,f,f,f,f,f,f,f,f,f,f,f,f,?,t,2.2,f,?,f,?,f,?,f,?,other,negative\\n79,M,f,f,f,f,f,f,f,f,f,f,f,f,f,f,t,0.02,t,1.6,t,143,t,0.9,t,159,f,?,other,negative\\n54,F,f,f,f,f,f,f,f,f,f,f,f,f,f,f,t,0.035,t,1.4,t,152,t,1.05,t,145,f,?,SVI,negative\\n56,F,f,f,f,f,f,f,f,f,f,f,f,f,f,f,t,3,t,1.1,t,122,t,1.13,t,108,f,?,SVI,negative\\n31,F,f,f,f,f,f,f,f,f,f,f,f,f,f,f,t,1.2,t,2.2,t,103,t,0.92,t,112,f,?,SVI,negative\\n66,F,f,f,f,f,f,f,f,f,f,f,f,f,f,f,t,1.2,t,2.2,t,122,t,1.15,t,106,f,?,SVI,negative\\n70,F,f,f,f,f,f,f,t,f,f,f,f,f,f,f,t,0.9,f,?,t,70,t,0.8,t,87,f,?,other,negative\\n67,F,f,f,f,f,f,f,f,f,f,f,f,t,f,f,t,1.3,t,2.3,t,97,t,1.09,t,88,f,?,other,negative\\n53,M,f,f,f,t,f,f,f,f,f,f,f,f,f,f,t,0.62,t,1.7,t,116,t,1,t,116,f,?,SVI,negative\\n36,F,t,f,f,f,f,f,f,t,f,f,f,f,f,f,t,0.05,t,2.2,t,162,t,1.15,t,140,f,?,other,negative\\n54,F,f,f,f,f,f,f,f,f,f,t,f,f,f,f,t,2.9,t,2.5,t,74,t,0.99,t,75,f,?,SVHC,negative\\n53,F,f,f,f,f,f,f,f,f,f,f,f,f,f,f,f,?,t,2.4,t,99,t,1.13,t,88,f,?,other,negative\\n60,M,t,f,f,f,f,f,f,f,f,f,f,f,f,f,f,?,f,?,f,?,f,?,f,?,f,?,other,negative\\n58,M,f,f,f,f,f,f,f,f,f,f,f,f,f,f,t,1.1,t,0.9,t,83,t,0.78,t,106,f,?,SVI,negative\\n455,F,f,f,f,f,f,f,f,f,f,f,f,f,f,f,t,1.1,t,2,t,118,t,1.13,t,104,f,?,SVI,negative\\n19,F,f,f,f,f,f,f,f,f,f,f,f,f,f,f,t,3.7,t,3,t,68,t,0.85,t,80,f,?,SVI,negative\\n18,?,f,f,f,f,f,f,f,f,f,f,f,f,f,f,t,1.5,t,2.6,t,86,t,0.91,t,94,f,?,SVI,negative\\n59,M,f,f,f,f,f,f,f,f,f,f,f,f,f,f,t,1.5,t,1.7,t,97,t,0.76,t,129,f,?,SVI,negative\\n36,F,f,f,f,f,f,f,f,f,f,f,f,f,f,f,t,1.7,t,2.3,t,77,t,1.04,t,74,f,?,SVHC,negative\\n39,F,f,f,f,f,f,f,f,f,f,f,f,f,f,f,f,?,f,?,f,?,f,?,f,?,f,?,other,negative\\n59,M,f,f,f,f,f,f,t,f,f,f,f,f,f,f,t,0.3,t,1.6,t,112,t,0.75,t,148,f,?,other,negative\\n56,F,f,f,f,t,f,f,f,f,f,f,f,t,f,f,t,0.2,t,2.5,t,138,t,1.15,t,119,f,?,SVI,negative\\n68,F,f,f,f,f,f,f,f,f,f,f,f,f,f,f,t,2.1,t,1.5,t,126,t,1.26,t,100,f,?,SVHC,negative\\n41,M,f,f,f,f,f,f,f,f,f,f,f,f,f,f,t,5.6,f,?,t,93,t,0.84,t,110,f,?,other,negative\\n35,F,f,f,f,f,f,f,f,f,f,f,f,f,f,f,t,0.27,t,1.6,t,104,t,0.78,t,134,f,?,SVHC,negative\\n53,F,f,f,f,f,f,f,f,f,f,f,f,f,f,f,t,183,t,1.4,t,14,t,1.31,t,11,f,?,other,primary_hypothyroid\\n64,M,f,f,f,f,f,f,f,f,f,f,f,f,f,f,t,2,t,1.8,t,80,t,0.91,t,88,f,?,SVHC,negative\\n47,M,f,t,f,f,f,f,f,f,f,f,f,f,f,f,t,0.02,t,1.2,t,72,t,0.82,t,88,f,?,other,negative\\n57,M,f,f,f,f,f,f,f,f,f,f,f,f,f,f,t,1,t,2.1,t,102,t,0.97,t,105,f,?,SVI,negative\\n21,?,f,f,f,f,f,f,f,f,f,f,f,f,f,f,f,?,f,?,t,90,t,0.98,t,92,f,?,other,negative\\n17,F,f,f,f,f,f,f,f,f,f,f,f,t,f,f,t,0.6,t,2.6,t,102,t,0.97,t,106,f,?,other,negative\\n14,M,f,f,f,f,f,f,f,f,f,f,f,f,f,f,t,3,t,2.7,t,80,t,0.83,t,97,f,?,other,negative\\n64,F,f,f,f,f,f,f,f,f,f,f,f,f,f,f,t,1.5,t,2.8,t,130,t,1.18,t,111,f,?,SVI,negative\\n60,F,f,f,f,f,f,f,f,f,f,f,f,f,f,f,t,2,t,1,t,61,t,0.77,t,80,f,?,SVI,negative\\n73,F,f,f,f,f,f,f,f,f,f,f,f,f,f,f,t,0.95,t,2.5,t,119,t,1.04,t,114,f,?,other,negative\\n16,M,t,t,f,f,f,f,f,f,f,f,t,f,f,f,f,?,t,3,t,135,t,1.02,t,131,f,?,other,negative\\n56,F,f,f,f,f,f,f,f,f,f,f,f,f,f,f,t,1.9,f,?,t,129,t,1.05,t,123,f,?,other,negative\\n41,M,f,f,f,t,f,f,f,f,f,f,f,f,f,f,t,0.39,t,1.9,t,120,t,1.03,t,117,f,?,SVI,negative\\n41,F,f,f,f,f,f,f,f,f,f,f,f,f,f,f,t,1.2,t,2.7,t,113,t,1.06,t,107,f,?,other,negative\\n30,F,f,f,f,f,f,f,f,f,f,f,f,f,f,f,t,0.6,t,3.2,t,123,t,1.29,t,96,f,?,SVI,negative\\n33,F,f,f,f,f,f,f,f,f,f,f,f,f,f,f,t,1.9,t,1.9,t,83,t,1.03,t,81,f,?,SVI,negative\\n50,F,f,f,f,f,f,f,f,f,f,f,f,f,f,f,t,1.6,t,2.4,t,111,t,1,t,111,f,?,SVHC,negative\\n38,F,t,f,f,f,f,f,f,f,f,f,f,f,f,f,t,7.1,f,?,t,130,t,0.98,t,132,f,?,other,negative\\n78,F,f,f,f,f,f,f,f,f,f,f,f,f,f,f,t,1.3,t,0.9,t,65,t,0.88,t,74,f,?,other,negative\\n39,?,f,f,f,f,f,f,f,f,f,f,f,f,f,f,t,4.4,t,1.1,t,63,t,0.8,t,78,f,?,SVI,negative\\n18,F,f,f,f,f,f,f,f,f,f,f,f,f,f,f,t,0.25,t,3.1,t,160,t,0.9,t,177,f,?,STMW,negative\\n22,F,t,f,f,f,f,f,f,f,f,f,f,f,f,f,f,?,f,?,t,151,t,1.05,t,144,f,?,other,negative\\n2,F,t,f,f,f,f,f,f,f,f,f,f,f,f,f,t,0.025,f,?,t,145,t,0.93,t,155,f,?,other,negative\\n78,F,f,f,f,f,f,f,f,f,f,f,f,f,f,f,t,0.9,t,2.3,t,112,t,1.08,t,104,f,?,other,negative\\n72,F,f,f,f,f,f,f,f,f,f,f,f,f,f,f,t,0.85,f,?,t,131,t,0.91,t,144,f,?,other,negative\\n62,M,f,f,f,f,f,f,f,f,f,f,f,f,f,f,t,1.4,t,3.9,t,97,t,0.84,t,115,f,?,other,negative\\n57,F,t,f,f,f,f,f,f,f,f,f,f,f,f,f,t,0.1,t,2.2,t,150,t,1.01,t,149,f,?,SVI,negative\\n65,F,t,f,f,f,f,f,f,f,f,f,f,f,f,f,t,2.5,f,?,t,137,t,1.06,t,129,f,?,other,negative\\n90,M,f,f,f,f,f,f,f,f,f,f,f,f,f,f,t,0.15,t,1.7,t,118,t,0.82,t,144,f,?,SVI,negative\\n68,M,f,f,f,f,f,f,f,f,f,f,f,f,f,f,t,1.4,t,1.9,t,98,t,0.82,t,118,f,?,other,negative\\n79,F,f,f,f,f,f,f,f,f,f,f,f,f,f,f,t,2.8,t,1.2,t,122,t,1,t,122,f,?,SVI,negative\\n41,F,t,f,f,f,f,f,f,f,f,f,f,f,f,f,t,0.2,t,2.6,t,197,t,1.01,t,195,f,?,other,negative\\n35,M,f,f,f,f,f,f,f,f,f,f,f,f,f,t,t,0.1,t,2.8,t,138,t,1.13,t,122,f,?,SVHC,negative\\n39,M,f,f,f,f,f,f,f,f,f,f,f,f,f,t,t,1.6,t,1.2,t,95,t,0.93,t,102,f,?,SVHC,negative\\n57,F,f,f,f,f,f,f,f,f,f,f,f,f,f,f,t,9.1,f,?,t,101,t,1.12,t,90,f,?,other,compensated_hypothyroid\\n55,F,f,f,f,f,f,f,f,f,f,f,f,f,f,f,t,0.015,t,1.8,t,180,t,0.82,t,219,f,?,other,negative\\n64,F,f,f,f,f,f,f,f,f,t,f,f,f,f,f,t,8.9,t,1.2,t,67,t,0.75,t,89,f,?,SVI,compensated_hypothyroid\\n55,M,f,f,f,f,f,f,f,f,f,f,f,f,f,f,t,2.1,t,1.6,t,86,t,0.8,t,107,f,?,SVI,negative\\n19,M,f,f,f,f,f,f,f,f,f,f,f,f,f,f,t,18.4,t,2,t,105,f,?,f,?,f,?,other,compensated_hypothyroid\\n65,M,f,f,f,f,f,f,f,f,f,f,f,f,f,f,t,1.6,t,1.4,t,78,t,0.82,t,96,f,?,SVI,negative\\n41,F,f,f,f,f,t,f,f,f,t,f,f,f,f,f,t,0.2,f,?,t,430,t,1.09,t,395,f,?,STMW,negative\\n75,F,t,f,f,f,f,f,f,f,f,f,f,f,f,f,t,1.5,t,2.2,t,70,t,0.85,t,82,f,?,other,negative\\n51,M,t,f,f,f,f,f,f,f,f,f,f,f,f,f,t,0.005,t,2.8,t,132,t,0.95,t,139,f,?,other,negative\\n63,M,f,f,f,f,f,f,f,f,f,f,f,f,f,f,t,2.6,f,?,t,84,t,0.9,t,93,f,?,other,negative\\n23,F,f,f,f,f,f,f,f,f,f,f,f,f,f,f,t,0.25,t,2.6,t,139,t,0.9,t,153,f,?,SVI,negative\\n70,M,f,f,f,f,f,f,f,f,f,f,f,f,f,f,t,2.4,f,?,t,70,t,0.9,t,78,f,?,other,negative\\n45,F,f,f,f,f,f,f,f,f,f,f,f,f,f,f,t,0.94,t,2.4,t,80,t,1.06,t,76,f,?,other,negative\\n73,M,f,f,f,f,f,f,f,f,f,f,f,f,f,f,t,10,t,1,t,84,t,1.39,t,60,f,?,SVI,primary_hypothyroid\\n71,F,f,f,f,f,f,f,f,f,f,f,f,f,f,f,t,0.77,t,2.1,t,123,t,0.91,t,135,f,?,SVI,negative\\n31,F,f,f,f,f,f,f,f,f,f,f,f,f,f,f,t,0.1,t,3.2,t,207,t,1.57,t,132,f,?,STMW,negative\\n74,M,f,f,f,f,f,f,f,f,f,f,f,f,f,f,t,1.6,t,2.1,t,120,t,0.98,t,122,f,?,SVI,negative\\n27,F,f,f,f,f,f,f,f,f,f,f,f,f,f,f,t,1.5,t,2.2,t,182,t,1.37,t,133,f,?,other,negative\\n50,F,f,f,f,f,f,f,f,f,f,f,f,f,f,f,f,?,f,?,f,?,f,?,f,?,f,?,other,negative\\n52,F,f,f,f,f,f,f,f,f,f,f,f,f,f,f,t,0.2,f,?,t,105,t,0.97,t,108,f,?,other,negative\\n52,M,f,f,f,f,f,f,f,f,t,f,f,f,f,f,t,0.93,t,1.3,t,86,t,0.64,t,134,f,?,SVI,negative\\n37,M,f,t,f,f,f,f,f,f,f,f,f,f,f,f,f,?,f,?,t,116,t,0.9,t,128,f,?,other,negative\\n28,F,f,f,f,f,f,f,f,f,f,f,f,f,f,f,t,2.2,t,1.8,t,90,t,0.84,t,108,f,?,other,negative\\n48,F,f,f,f,f,f,f,f,f,f,f,f,f,f,f,t,0.2,t,1.8,t,104,t,1.11,t,94,f,?,SVI,negative\\n68,F,t,f,f,f,f,f,f,f,f,f,f,f,f,f,t,0.47,f,?,t,117,t,1.02,t,115,f,?,other,negative\\n59,F,f,f,f,f,f,f,f,f,f,f,f,f,f,f,t,7.1,t,2.1,t,79,t,0.96,t,83,f,?,other,compensated_hypothyroid\\n62,F,f,f,f,f,f,f,f,t,f,f,f,f,f,f,t,8.6,f,?,t,86,t,0.84,t,101,f,?,other,compensated_hypothyroid\\n22,F,f,f,f,f,f,f,f,f,f,f,f,f,f,t,t,1.2,t,1.9,t,92,t,0.87,t,105,f,?,other,negative\\n18,F,f,f,f,f,f,f,f,f,f,f,f,f,f,f,t,41,f,?,t,118,t,1.13,t,105,f,?,other,compensated_hypothyroid\\n58,F,f,f,f,f,f,f,f,f,f,f,f,f,f,f,t,0.1,t,2,t,101,t,1.2,t,84,f,?,SVHC,negative\\n50,F,f,f,f,f,f,f,f,f,f,f,f,f,f,f,t,0.17,t,1.7,t,120,t,0.98,t,122,f,?,other,negative\\n34,F,f,f,f,f,t,f,f,f,t,f,f,f,f,f,t,0.005,t,3.5,t,198,t,1.79,t,111,f,?,STMW,negative\\n41,F,f,f,f,f,f,f,f,f,f,f,f,f,f,f,f,?,t,2,t,99,t,0.96,t,104,f,?,other,negative\\n18,M,f,f,f,f,f,f,f,f,f,f,f,f,f,f,t,2.3,t,2.1,t,79,t,1.1,t,72,f,?,other,negative\\n60,?,f,f,f,f,f,f,f,f,f,f,f,f,f,f,f,?,t,1.2,t,87,t,0.72,t,121,f,?,other,negative\\n77,F,f,f,f,f,f,f,f,f,f,f,f,f,f,f,t,1.4,t,1.7,t,77,t,0.87,t,89,f,?,SVI,negative\\n59,F,f,f,f,f,f,f,f,f,f,f,f,f,f,f,t,0.6,t,4.5,t,161,t,1.65,t,97,f,?,other,negative\\n68,F,f,f,f,t,f,f,f,f,f,f,f,f,f,f,t,1.5,t,2.3,t,117,t,1.04,t,113,f,?,other,negative\\n63,F,f,f,f,f,f,f,t,f,f,f,f,f,f,f,t,42,t,1.6,t,60,t,0.93,t,64,f,?,other,primary_hypothyroid\\n36,F,f,f,f,f,f,f,f,f,f,f,f,f,f,f,t,0.2,t,2.7,t,120,t,0.97,t,123,f,?,other,negative\\n27,M,f,f,f,f,f,f,f,f,f,f,f,f,f,t,t,1.4,t,2.3,t,132,t,0.94,t,140,f,?,SVHC,negative\\n52,F,f,f,f,f,f,f,f,f,f,f,f,f,f,f,t,4.7,t,2,t,19,t,1.12,t,17,f,?,SVI,negative\\n75,F,f,f,f,f,f,f,f,f,f,f,f,f,f,f,t,1.2,t,2,t,101,t,0.93,t,109,f,?,other,negative\\n23,F,t,f,f,f,f,f,f,f,f,f,f,f,f,f,f,?,f,?,f,?,f,?,f,?,f,?,other,negative\\n58,F,t,f,f,f,f,f,f,f,f,f,f,f,f,f,t,0.6,t,2,t,151,t,1.05,t,144,f,?,other,negative\\n54,M,t,f,f,f,f,f,f,f,f,f,f,f,f,f,t,0.2,f,?,t,101,t,0.64,t,158,f,?,other,negative\\n39,F,f,f,f,f,f,f,f,f,f,f,f,f,f,f,t,0.2,t,0.3,t,73,t,0.78,t,94,f,?,other,negative\\n62,F,f,f,f,f,f,f,f,f,f,f,f,f,f,f,t,1.3,t,1.8,t,112,t,0.89,t,126,f,?,SVI,negative\\n37,F,f,f,f,f,f,f,f,f,f,f,f,f,f,t,t,2.3,t,1.8,t,78,t,1.04,t,76,f,?,SVHC,negative\\n22,F,f,f,f,f,f,f,f,f,f,f,f,f,f,f,t,1.7,t,1.5,t,133,t,0.84,t,159,f,?,SVI,negative\\n41,F,f,f,f,f,f,f,f,f,f,f,f,f,f,f,t,4.1,t,2,t,127,t,1.04,t,122,f,?,SVI,negative\\n46,M,f,f,f,t,f,f,f,t,f,f,f,f,f,f,t,1.7,f,?,t,139,t,1.1,t,127,f,?,other,negative\\n63,F,f,f,f,f,f,f,f,f,f,f,f,f,f,f,t,1.4,t,1.9,t,118,f,?,f,?,f,?,other,negative\\n73,F,f,f,f,f,f,f,f,f,t,f,f,f,f,f,t,0.2,t,2.5,t,136,t,0.89,t,153,f,?,other,negative\\n61,F,t,f,f,f,f,f,f,f,f,f,f,f,f,f,t,0.03,t,1.8,t,145,t,1.04,t,140,f,?,SVHD,negative\\n30,F,f,f,f,f,f,f,f,f,f,f,f,f,f,f,t,5.3,t,2.1,t,92,t,1.05,t,88,f,?,other,negative\\n50,F,t,f,f,f,f,f,f,f,f,f,f,f,f,f,t,0.54,t,1.8,t,160,t,1.1,t,146,f,?,other,negative\\n60,M,f,f,f,f,f,f,f,f,f,f,f,f,f,f,f,?,f,?,f,?,f,?,f,?,f,?,other,negative\\n24,F,f,f,f,f,f,f,f,f,f,f,f,f,f,f,f,?,f,?,t,121,t,1.09,t,111,f,?,other,negative\\n72,F,f,f,f,f,f,f,f,f,f,f,f,f,f,f,t,0.2,t,2.3,t,87,t,0.94,t,93,f,?,other,negative\\n78,F,f,f,f,f,f,f,f,f,f,f,f,f,f,f,t,1.1,t,1.8,t,98,t,1.14,t,85,f,?,other,negative\\n56,F,t,f,f,f,f,f,f,f,f,f,f,f,f,f,t,0.38,f,?,t,105,t,0.9,t,116,f,?,other,negative\\n21,F,f,f,f,f,f,f,f,f,f,f,f,f,f,f,t,2.2,t,1.5,t,78,t,0.89,t,88,f,?,other,negative\\n41,F,f,f,f,f,f,f,f,f,f,f,f,f,f,f,t,0.03,t,2.1,t,187,t,0.89,t,210,f,?,other,negative\\n59,M,f,f,f,f,f,f,f,f,f,f,f,f,f,f,t,12,t,1.5,t,88,t,0.98,t,90,f,?,SVI,compensated_hypothyroid\\n54,?,t,f,f,f,f,f,f,f,f,f,f,f,f,f,t,0.93,t,1.8,t,115,t,0.94,t,123,f,?,other,negative\\n39,F,f,f,f,f,f,f,f,t,t,f,f,f,f,f,t,0.2,t,2.2,t,106,t,0.75,t,141,f,?,other,negative\\n24,F,f,f,f,f,f,f,f,f,f,f,f,f,f,f,t,0.38,t,2.3,t,152,t,0.96,t,158,f,?,other,negative\\n34,F,t,f,f,f,t,f,f,f,f,f,f,f,f,f,t,8.3,t,3.1,t,172,t,1.8,t,96,f,?,other,negative\\n46,M,f,f,f,f,f,f,f,f,t,f,f,f,f,f,t,0.05,t,2.2,t,97,t,0.77,t,125,f,?,other,negative\\n39,F,t,f,f,f,f,f,f,f,f,f,f,f,f,f,t,6.9,t,1.6,t,125,t,1.02,t,123,f,?,other,negative\\n20,F,f,f,f,f,f,f,f,f,f,f,f,f,f,f,t,1.8,t,1.6,t,63,t,1,t,63,f,?,other,negative\\n79,?,f,f,f,f,f,f,f,f,f,f,f,f,f,f,t,12.1,t,3.4,t,94,t,0.92,t,102,f,?,other,negative\\n23,F,f,f,f,f,f,f,f,f,f,f,f,f,f,f,t,0.19,t,1.3,t,100,t,0.85,t,118,f,?,SVI,negative\\n50,M,f,f,f,f,f,f,f,f,f,f,f,f,f,t,t,0.82,t,2.1,t,124,t,1.03,t,121,f,?,other,negative\\n77,F,f,f,f,f,f,f,f,f,f,f,f,f,f,f,f,?,t,2.6,f,?,f,?,f,?,f,?,other,negative\\n39,F,f,f,f,f,f,f,f,f,f,f,f,f,f,f,t,43,t,1.6,t,63,t,0.84,t,75,f,?,other,compensated_hypothyroid\\n55,M,f,f,f,f,f,f,f,f,f,f,f,f,f,f,t,3.4,t,2.3,t,86,t,1.08,t,80,f,?,SVI,negative\\n70,F,f,f,f,f,f,f,f,f,f,f,f,f,f,f,f,?,f,?,f,?,f,?,f,?,f,?,other,negative\\n57,F,f,f,f,f,f,f,f,f,f,f,f,f,f,f,t,1.8,t,3,t,106,t,1.12,t,96,f,?,other,negative\\n73,F,f,f,f,f,f,f,f,f,f,f,f,f,f,f,t,0.88,t,1.5,t,113,t,0.74,t,153,f,?,SVI,negative\\n91,M,f,f,f,f,f,f,f,f,f,f,f,f,f,f,t,3.4,f,?,t,112,t,0.99,t,113,f,?,SVI,negative\\n74,F,f,f,f,f,f,f,f,f,f,f,f,f,f,f,t,1.6,t,0.7,t,82,t,0.88,t,93,f,?,SVI,negative\\n81,F,f,f,f,f,f,f,f,f,f,f,f,f,f,f,t,3.9,t,1.8,t,131,t,0.98,t,133,f,?,SVI,negative\\n62,M,f,f,f,f,f,f,f,f,f,f,f,f,f,t,t,1.1,t,2,t,139,t,1.04,t,134,f,?,SVHC,negative\\n57,F,f,f,f,f,f,f,f,f,f,f,f,f,f,f,t,0.02,t,3.4,t,136,t,0.73,t,185,f,?,other,negative\\n55,F,f,f,f,f,f,f,f,f,f,f,f,t,f,f,t,0.9,t,2.3,t,117,t,0.95,t,123,f,?,SVI,negative\\n45,M,t,f,f,f,f,f,f,f,f,f,f,f,f,f,t,1.4,f,?,t,101,t,0.95,t,106,f,?,other,negative\\n45,F,t,f,f,f,f,t,f,f,f,f,f,f,f,f,t,0.44,t,2.8,t,153,t,0.91,t,168,f,?,other,negative\\n40,F,f,f,f,f,f,f,f,f,f,f,f,f,f,f,t,1.1,t,1.8,t,150,t,1.04,t,145,f,?,other,negative\\n33,F,f,f,f,f,f,t,f,f,f,f,f,f,f,f,t,8.2,t,1.5,t,74,t,0.9,t,83,f,?,STMW,negative\\n88,F,f,f,f,f,f,f,f,f,f,f,f,f,f,f,t,2.3,t,0.9,t,140,f,?,f,?,f,?,SVI,negative\\n44,F,f,f,f,f,f,f,f,f,f,f,f,f,f,f,t,3.5,t,2.6,t,113,t,1.09,t,104,f,?,other,negative\\n60,F,f,f,f,f,f,f,f,f,f,f,f,f,f,f,t,18,t,1.5,t,66,t,1,t,66,f,?,SVI,compensated_hypothyroid\\n53,F,f,f,f,f,f,f,f,f,f,f,f,f,f,f,t,25,t,0.4,t,39,t,0.61,t,64,f,?,SVI,primary_hypothyroid\\n63,?,f,f,f,f,f,f,f,f,f,f,f,f,f,f,t,3.4,t,2.1,t,157,t,1.16,t,135,f,?,SVI,negative\\n41,M,f,f,f,f,f,f,f,t,f,f,f,f,f,f,t,0.015,t,2.5,t,22,f,?,f,?,f,?,other,secondary_hypothyroid\\n58,F,f,f,f,f,f,f,f,t,f,f,f,f,f,f,t,1.3,t,1.9,t,66,t,0.96,t,68,f,?,other,negative\\n7,F,f,f,f,f,f,f,f,f,f,f,f,f,f,f,t,7.3,t,1.6,t,64,t,0.97,t,66,f,?,other,compensated_hypothyroid\\n63,F,f,f,f,f,f,f,f,f,f,f,f,f,f,f,t,70,f,?,t,63,t,1.19,t,53,f,?,other,primary_hypothyroid\\n74,F,f,f,f,f,f,f,f,f,f,f,f,f,f,f,t,1.3,t,0.1,t,65,t,0.48,t,137,f,?,other,negative\\n58,F,f,f,f,f,f,f,f,f,f,f,f,f,f,f,t,1.6,t,2,t,109,t,1.09,t,100,f,?,SVHC,negative\\n64,F,t,f,f,f,f,f,f,f,f,f,f,f,f,f,t,7.7,f,?,t,111,t,1.12,t,99,f,?,other,negative\\n59,M,t,f,f,f,f,f,f,f,f,f,f,f,f,f,t,0.02,t,2.7,t,117,t,0.74,t,157,f,?,SVI,negative\\n54,M,t,f,f,f,f,f,f,f,f,f,f,f,f,f,t,4.7,f,?,t,120,t,1.01,t,118,f,?,other,negative\\n66,F,f,f,f,t,f,f,f,f,f,f,f,f,f,f,t,0.1,t,0.6,t,121,t,0.85,t,143,f,?,SVI,negative\\n29,M,f,f,f,f,f,f,f,f,f,f,f,f,f,f,t,0.25,t,1.1,t,46,f,?,t,104,f,?,SVI,negative\\n35,M,f,f,f,f,f,f,f,f,f,f,f,f,f,f,t,2.5,f,?,t,139,t,1.13,t,123,f,?,other,negative\\n53,M,f,f,f,f,f,f,f,f,f,f,f,f,f,f,t,4.3,t,1.5,t,94,t,0.88,t,107,f,?,SVI,negative\\n35,?,f,f,f,f,f,f,f,f,f,f,f,f,f,f,t,1.8,t,1.7,t,118,t,1.1,t,107,f,?,other,negative\\n55,M,f,f,f,t,f,f,f,t,f,f,f,f,f,f,t,8.6,t,0.3,t,73,t,0.76,t,96,f,?,SVI,compensated_hypothyroid\\n36,F,f,f,f,f,f,f,f,f,f,f,f,t,f,f,t,1.3,t,2.1,t,81,t,0.9,t,90,f,?,other,negative\\n34,F,t,f,f,f,f,f,f,f,f,f,f,f,f,f,t,0.005,f,?,t,166,t,0.96,t,174,f,?,other,negative\\n44,M,f,f,f,f,f,f,f,f,f,f,f,f,f,f,t,3.5,t,1.7,t,103,t,0.96,t,107,f,?,SVI,negative\\n51,F,f,f,f,f,f,f,f,f,f,f,f,f,f,t,t,0.9,t,1.7,t,95,t,0.95,t,100,f,?,SVHC,negative\\n65,M,t,f,f,f,f,f,f,f,f,f,f,f,f,f,f,?,f,?,t,99,t,0.53,t,188,f,?,other,negative\\n59,F,f,f,f,f,f,f,f,f,f,f,f,f,f,f,t,1.7,t,2.1,t,84,t,1,t,83,f,?,SVI,negative\\n65,F,f,f,f,f,f,f,f,f,f,f,f,f,f,f,t,2.6,t,2.2,t,73,t,0.99,t,74,f,?,SVI,negative\\n59,?,f,f,f,f,f,f,f,f,f,f,f,f,f,f,f,?,t,1.5,f,?,f,?,f,?,f,?,other,negative\\n75,F,f,f,f,f,f,f,f,f,f,f,f,f,f,f,t,10,t,1.6,t,90,t,0.89,t,101,f,?,other,compensated_hypothyroid\\n31,F,f,f,f,f,f,f,f,f,f,f,f,f,f,f,t,1.6,t,2.3,t,89,t,1.22,t,72,f,?,other,negative\\n45,F,f,f,f,f,f,f,f,f,f,f,f,f,f,f,t,15,t,2.1,t,83,t,1.24,t,67,f,?,STMW,compensated_hypothyroid\\n84,F,f,f,f,f,f,f,f,f,f,f,f,f,f,f,t,3.4,t,2.4,f,?,f,?,f,?,f,?,other,negative\\n75,F,t,f,f,f,f,f,f,f,f,f,f,f,f,f,t,0.12,f,?,t,109,t,0.85,t,128,f,?,other,negative\\n52,F,f,f,f,f,f,f,f,f,f,f,f,f,f,f,t,2.9,t,2,t,73,t,1.04,t,70,f,?,other,negative\\n19,F,f,f,f,f,f,f,f,f,f,f,f,f,f,f,f,?,f,?,f,?,f,?,f,?,f,?,other,negative\\n80,F,f,f,f,f,f,f,f,f,f,f,f,f,f,f,t,1.7,t,0.8,t,101,t,0.81,t,125,f,?,SVI,negative\\n23,M,f,f,f,f,f,f,f,f,f,f,f,f,f,f,t,2.1,t,2.7,t,113,t,1.1,t,102,f,?,other,negative\\n38,M,f,f,f,f,f,f,f,f,f,f,f,f,f,f,t,2,t,2.6,t,76,t,0.85,t,89,f,?,other,negative\\n56,M,f,f,f,f,f,f,f,f,f,f,f,f,f,f,f,?,f,?,t,93,t,0.95,t,98,f,?,other,negative\\n53,M,f,f,f,f,f,f,f,f,f,f,f,f,f,f,t,2.4,t,2.6,t,151,t,1.16,t,130,f,?,SVI,negative\\n34,F,f,f,f,f,f,f,f,f,f,f,t,f,f,f,t,1.9,t,2.1,t,118,t,1.2,t,98,f,?,other,negative\\n16,F,f,f,f,f,f,f,f,f,f,f,f,f,f,f,f,?,f,?,t,76,t,0.93,t,82,f,?,other,negative\\n46,M,f,f,f,f,f,f,f,f,t,f,f,f,f,f,t,0.02,t,4.5,t,156,t,0.76,t,205,f,?,other,negative\\n25,F,f,f,f,f,f,f,f,f,f,f,f,f,f,f,t,2.1,f,?,t,107,t,1.15,t,92,f,?,other,negative\\n69,M,f,f,f,f,f,f,f,f,f,f,f,f,f,f,t,1.8,t,2.3,t,108,t,1.03,t,105,f,?,SVI,negative\\n69,M,f,f,f,f,f,f,f,t,f,f,f,f,f,f,t,0.2,t,2.5,t,124,t,1.15,t,108,f,?,other,negative\\n59,F,f,f,f,f,f,f,f,f,f,f,f,f,f,f,t,2.9,t,1.4,t,95,t,1.11,t,86,f,?,SVI,negative\\n60,F,f,f,f,f,f,f,f,f,f,f,f,f,f,f,t,1.1,f,?,t,90,t,1.07,t,84,f,?,other,negative\\n30,F,f,f,f,f,f,f,f,f,f,f,f,f,f,f,t,0.2,t,2.6,t,80,t,0.84,t,95,f,?,SVHC,negative\\n68,F,f,f,f,f,f,f,f,f,f,f,f,f,f,t,t,1.4,t,1.8,t,120,t,1.09,t,110,f,?,SVHC,negative\\n52,F,f,f,f,f,f,f,f,f,f,f,f,f,f,f,t,5.5,t,2,t,95,t,1.08,t,88,f,?,other,negative\\n37,M,f,f,f,f,f,f,f,f,f,f,f,f,f,f,t,1.5,t,1.8,t,109,t,0.97,t,112,f,?,other,negative\\n36,M,f,f,f,f,f,f,f,f,f,f,f,f,f,f,t,1.7,t,2.6,t,129,t,1.18,t,109,f,?,other,negative\\n71,F,f,f,f,f,f,f,f,f,f,f,f,f,f,f,t,0.92,t,2.1,t,84,t,0.86,t,98,f,?,other,negative\\n23,F,f,f,f,f,f,f,f,f,f,f,f,f,f,f,f,?,f,?,f,?,f,?,f,?,f,?,other,negative\\n44,F,f,f,f,f,f,f,f,f,f,f,f,f,f,f,f,?,f,?,f,?,f,?,f,?,f,?,other,negative\\n29,F,f,f,f,t,f,f,f,f,f,f,f,f,f,f,t,5.1,f,?,t,72,t,0.8,t,90,f,?,other,negative\\n45,F,f,f,f,f,f,f,f,f,f,f,f,f,f,f,t,0.57,t,1.8,t,128,t,1.14,t,112,f,?,SVHC,negative\\n90,F,f,f,f,f,f,f,f,f,f,f,f,f,f,f,t,2.5,t,1.2,t,97,t,0.93,t,104,f,?,SVI,negative\\n33,F,f,f,f,f,f,f,f,f,f,f,f,f,f,f,t,1.3,t,2.5,t,101,t,0.9,t,112,f,?,SVHC,negative\\n71,M,f,f,f,f,f,f,f,f,f,f,f,f,f,f,t,0.005,t,2.2,t,93,t,0.87,t,107,f,?,other,negative\\n68,M,f,f,f,f,f,f,f,f,f,f,f,f,f,f,t,1.1,t,1.5,t,92,t,1.08,t,85,f,?,SVI,negative\\n79,F,f,f,f,f,f,f,f,f,f,f,f,f,f,f,t,2.4,t,2.6,t,111,t,1,t,111,f,?,SVI,negative\\n2,F,f,f,f,f,f,f,f,t,f,f,f,f,f,f,t,4.2,t,2.1,t,152,t,0.93,t,163,f,?,STMW,negative\\n70,M,f,f,f,f,f,f,f,f,f,f,f,f,f,f,t,3.6,t,1,t,60,t,0.88,t,68,f,?,SVI,negative\\n25,F,f,f,f,f,f,f,f,f,f,f,f,f,f,f,t,0.9,t,2.6,t,120,t,1.24,t,96,f,?,other,negative\\n83,M,f,f,f,f,f,f,f,f,f,f,f,f,f,f,t,2.1,t,1.6,t,103,t,0.92,t,112,f,?,SVI,negative\\n61,F,t,f,f,f,f,f,f,f,f,f,f,f,f,f,t,0.08,t,2.3,t,150,t,1.2,t,125,f,?,SVHD,negative\\n73,F,f,f,f,f,f,f,f,f,f,f,f,f,f,f,t,1.8,t,1.6,t,110,t,0.98,t,112,f,?,SVI,negative\\n68,M,f,f,f,f,f,f,f,f,f,f,f,f,f,f,t,0.02,t,2.5,t,113,t,0.76,t,149,f,?,other,negative\\n59,F,f,f,f,f,f,f,f,f,f,f,f,f,f,f,t,4.3,t,1.2,t,59,t,0.83,t,71,f,?,SVI,negative\\n34,M,f,f,f,f,f,f,f,f,f,f,f,f,f,f,t,1.7,t,2.4,t,94,t,1.17,t,81,f,?,other,negative\\n54,F,f,f,f,f,f,f,f,f,f,f,f,f,f,f,t,0.38,t,1.1,t,128,t,0.8,t,160,f,?,SVI,negative\\n80,M,f,f,f,f,f,f,f,f,f,f,f,f,f,f,t,1.4,t,0.8,t,105,t,0.88,t,120,f,?,SVI,negative\\n52,M,f,f,f,f,f,f,f,f,f,f,f,f,f,f,t,0.3,t,1.2,t,101,t,0.9,t,112,f,?,SVI,negative\\n60,F,f,f,f,f,f,f,f,f,f,f,f,f,f,f,t,1.6,t,1.7,t,153,t,1.06,t,144,f,?,SVI,negative\\n45,F,f,f,f,f,f,f,f,f,f,f,f,f,f,f,t,2.3,t,2.5,t,165,t,1.03,t,161,f,?,SVI,negative\\n77,F,f,f,f,f,f,f,f,t,f,f,f,f,f,f,t,12,f,?,t,77,t,1.06,t,73,f,?,other,compensated_hypothyroid\\n68,M,f,f,f,t,f,f,f,f,f,f,f,f,f,f,t,1.1,t,1.8,t,89,t,0.83,t,105,f,?,other,negative\\n37,F,t,f,f,f,f,f,f,f,f,f,f,f,f,f,t,2.8,f,?,f,?,f,?,f,?,f,?,other,negative\\n72,F,f,f,f,f,f,f,f,f,f,f,f,f,f,f,t,0.035,t,4.9,t,192,t,1.09,t,176,f,?,other,negative\\n22,F,f,f,f,f,f,f,f,f,f,f,f,f,f,f,t,2.9,t,1.9,t,83,t,0.74,t,112,f,?,SVI,negative\\n73,F,f,f,f,f,f,f,f,f,t,f,f,f,f,f,t,2,t,1.6,t,116,t,0.93,t,125,f,?,SVI,negative\\n57,F,t,f,f,f,f,f,f,f,f,f,f,f,f,f,t,0.005,t,2.3,t,213,t,1.09,t,195,f,?,other,negative\\n41,F,t,f,f,f,f,f,f,f,f,f,f,f,f,f,t,8.4,t,1.5,t,123,t,0.96,t,129,f,?,other,negative\\n36,F,f,f,f,f,f,f,f,f,f,f,f,f,f,f,t,1.9,f,?,t,123,t,1.16,t,107,f,?,other,negative\\n34,F,f,f,f,f,t,f,f,f,t,f,f,f,f,f,t,2.4,t,3.2,t,137,t,1.71,t,80,f,?,other,negative\\n84,F,f,f,f,f,f,f,f,f,f,f,f,f,f,f,t,3.3,t,2.2,t,109,t,1.07,t,101,f,?,SVI,negative\\n47,F,f,f,f,f,f,f,f,f,t,f,f,f,f,f,t,2.1,f,?,t,117,t,1.09,t,107,f,?,other,negative\\n69,F,f,f,f,f,f,f,f,f,f,f,f,f,f,f,t,0.5,t,0.8,t,87,t,0.89,t,98,f,?,SVI,negative\\n23,F,f,f,f,f,f,f,f,t,f,f,f,f,f,f,t,0.9,t,2.9,t,136,t,1.38,t,99,f,?,other,negative\\n76,F,t,f,f,f,f,f,f,f,f,f,f,f,f,f,t,3.6,t,0.5,t,57,f,?,f,?,f,?,other,negative\\n33,F,t,f,f,f,f,f,f,f,f,f,f,f,f,f,t,0.045,f,?,t,112,t,0.83,t,134,f,?,other,negative\\n33,M,f,f,f,f,f,f,f,f,f,f,f,f,f,f,t,2.2,t,2.6,t,86,t,0.88,t,98,f,?,SVHC,negative\\n70,F,f,f,f,f,f,f,f,f,f,f,f,f,f,f,t,34,t,1.5,t,88,t,1.06,t,83,f,?,other,compensated_hypothyroid\\n63,F,t,f,f,f,f,f,f,f,f,f,f,f,f,f,t,0.69,f,?,t,162,t,0.99,t,163,f,?,other,negative\\n45,F,t,f,f,f,f,f,f,f,f,f,f,f,f,f,t,0.2,t,2,t,133,t,0.98,t,136,f,?,other,negative\\n61,F,f,f,f,f,f,f,f,f,f,f,f,f,f,f,t,0.04,t,0.8,t,74,t,0.75,t,99,f,?,SVI,negative\\n16,F,f,f,f,f,f,f,f,f,f,f,f,f,f,f,t,3.6,t,2.6,t,94,t,0.94,t,100,f,?,other,negative\\n26,F,f,f,f,f,f,f,f,f,f,f,f,f,f,f,f,?,f,?,f,?,f,?,f,?,f,?,other,negative\\n46,F,f,f,f,f,f,f,f,f,f,f,f,f,f,t,t,0.2,t,3.5,t,172,t,0.99,t,173,f,?,SVHC,negative\\n68,F,f,f,f,f,f,f,f,f,f,f,f,f,f,f,t,43,t,0.3,t,14,f,?,f,?,f,?,SVI,primary_hypothyroid\\n56,F,t,f,f,f,f,f,f,f,f,f,f,f,f,f,t,0.2,f,?,t,134,t,1.03,t,130,f,?,other,negative\\n40,?,f,f,f,f,f,f,f,f,f,f,f,f,f,f,t,1.7,f,?,t,117,t,1.21,t,97,f,?,other,negative\\n21,F,f,f,f,f,f,f,f,f,f,f,f,f,f,f,t,1.5,t,2,t,76,t,1.03,t,73,f,?,other,negative\\n57,M,f,f,f,f,f,f,f,f,f,f,f,f,f,f,t,0.3,t,2.1,t,122,t,0.82,t,150,f,?,SVI,negative\\n58,F,f,f,f,f,f,f,f,f,f,f,f,f,f,f,f,?,f,?,f,?,f,?,f,?,f,?,other,negative\\n36,F,f,f,f,f,f,f,f,f,f,f,f,f,f,f,t,1.5,t,1.3,t,62,t,0.75,t,83,f,?,SVHC,negative\\n59,F,f,f,f,t,f,f,f,f,f,f,f,f,f,f,t,6.8,t,0.7,t,84,t,0.78,t,107,f,?,SVI,compensated_hypothyroid\\n73,?,f,f,f,f,t,f,f,f,f,f,f,f,f,f,t,2.2,t,2.5,t,110,t,1.28,t,85,f,?,other,negative\\n30,F,f,f,f,f,f,f,f,f,f,f,f,f,f,f,t,8.5,t,2.1,t,91,t,1.16,t,79,f,?,other,compensated_hypothyroid\\n56,F,f,f,f,f,f,f,f,f,f,f,f,f,f,f,t,0.2,t,2.2,t,108,t,0.88,t,122,f,?,SVI,negative\\n46,F,t,f,f,f,f,f,f,f,f,f,f,f,f,f,t,0.3,t,2.2,t,187,t,1.1,t,170,f,?,other,negative\\n57,F,f,f,f,f,f,f,f,f,f,f,f,f,f,f,f,?,f,?,f,?,f,?,f,?,f,?,other,negative\\n61,F,f,f,f,f,f,f,f,f,t,f,f,f,f,f,t,6.4,t,2.4,t,141,t,1.26,t,112,f,?,SVI,compensated_hypothyroid\\n41,M,f,f,f,f,f,f,f,f,f,f,f,f,f,f,t,1.2,t,1.6,t,91,t,0.68,t,133,f,?,SVI,negative\\n34,F,f,f,f,f,f,f,f,t,f,f,f,f,f,f,t,0.6,t,2.3,t,76,t,1.05,t,73,f,?,other,negative\\n51,F,t,f,f,f,f,f,f,f,f,f,f,f,f,f,t,0.7,f,?,t,127,t,1.19,t,107,f,?,other,negative\\n60,F,f,f,f,f,f,f,f,f,f,f,f,f,f,f,t,151,t,1.4,t,42,t,1.06,t,39,f,?,other,primary_hypothyroid\\n43,F,f,f,f,f,f,f,f,f,f,f,f,f,f,f,t,2.2,f,?,t,98,t,0.85,t,115,f,?,other,negative\\n62,F,f,f,f,t,f,f,f,f,f,f,f,f,f,f,t,11,t,0.8,t,73,t,0.74,t,98,f,?,SVI,compensated_hypothyroid\\n75,F,f,f,f,f,f,f,f,f,f,f,f,f,f,f,t,2.3,t,0.7,t,78,t,0.82,t,95,f,?,SVI,negative\\n84,F,t,f,f,f,f,f,f,f,f,f,f,f,f,f,t,0.2,t,0.7,t,137,t,0.84,t,164,f,?,SVI,negative\\n37,F,t,f,f,f,f,f,f,f,f,f,f,f,f,f,t,0.21,f,?,t,156,t,0.84,t,187,f,?,other,negative\\n13,M,f,f,f,f,f,f,f,f,f,f,f,f,f,f,t,1.9,f,?,t,113,t,0.99,t,114,f,?,other,negative\\n21,F,f,f,f,f,f,f,f,f,f,f,f,f,f,f,f,?,t,3.1,f,?,f,?,f,?,f,?,other,negative\\n69,F,f,f,f,f,f,f,f,f,f,f,f,f,f,f,t,1.6,t,1.9,t,90,t,0.99,t,91,f,?,other,negative\\n42,F,f,f,f,f,f,f,f,f,f,f,f,f,f,f,t,0.7,t,1.5,t,90,t,1.14,t,79,f,?,other,negative\\n67,?,f,f,f,f,f,f,f,f,f,f,f,f,f,f,t,0.05,t,2.4,t,96,t,0.98,t,98,f,?,other,negative\\n67,F,f,f,f,f,f,f,f,f,f,f,f,f,f,f,t,0.98,t,1.8,t,94,t,0.88,t,107,f,?,SVHC,negative\\n28,M,f,f,f,f,f,f,f,f,f,f,f,f,f,f,t,0.1,t,2,t,169,f,?,f,?,f,?,other,negative\\n58,F,f,f,f,f,f,f,f,f,f,f,f,f,f,f,t,0.8,f,?,t,98,t,1.02,t,96,f,?,other,negative\\n30,F,f,f,f,f,f,f,f,f,f,f,f,f,f,f,t,2.6,t,2.1,t,97,f,?,f,?,f,?,other,negative\\n34,F,t,f,f,f,f,f,f,f,f,f,f,f,f,f,t,0.1,t,3.9,t,200,t,1.36,t,147,f,?,STMW,negative\\n62,F,f,f,f,f,f,f,f,f,f,f,f,f,f,f,f,?,f,?,t,91,t,1.01,t,90,f,?,other,negative\\n58,F,f,f,f,f,f,f,f,f,f,f,f,f,f,f,t,0.17,t,1.2,t,75,t,0.88,t,85,f,?,SVI,negative\\n40,F,f,f,f,f,f,f,f,f,f,f,f,f,f,f,t,2.7,t,2,t,128,t,1.02,t,126,f,?,other,negative\\n55,M,f,f,f,f,f,f,f,f,f,f,f,f,f,t,t,0.57,t,1.4,t,75,t,0.72,t,104,f,?,SVHC,negative\\n60,F,t,f,f,f,f,f,f,f,f,f,f,f,f,f,t,3.7,t,1.9,t,115,t,1.07,t,107,f,?,other,negative\\n75,M,f,f,f,f,f,f,f,f,f,f,f,f,f,f,t,2.4,t,0.2,t,78,t,0.56,t,139,f,?,SVI,negative\\n69,F,f,f,f,f,f,f,f,f,f,f,f,f,f,f,t,0.22,t,2.4,t,129,t,1.14,t,113,f,?,other,negative\\n38,F,f,f,f,f,f,f,f,f,f,f,f,f,f,f,t,0.15,t,4.3,t,144,t,1.62,t,89,f,?,STMW,negative\\n76,F,f,f,f,f,f,f,f,f,f,f,f,f,f,f,t,6.2,t,0.5,t,130,t,0.85,t,153,f,?,SVI,compensated_hypothyroid\\n28,F,f,f,f,f,f,f,f,f,f,f,f,f,f,f,t,9,t,3.1,t,131,t,1.23,t,106,f,?,other,compensated_hypothyroid\\n62,F,t,f,f,f,f,f,f,f,f,f,f,f,f,f,t,5.6,f,?,t,103,t,1.12,t,93,f,?,other,negative\\n70,F,f,f,f,f,f,f,f,f,f,f,f,f,f,f,t,0.69,t,1.9,t,129,t,1.02,t,126,f,?,other,negative\\n47,M,f,f,f,f,f,f,f,f,f,f,f,f,f,f,t,0.9,t,2.1,t,91,t,0.98,t,92,f,?,SVHC,negative\\n23,M,f,f,f,f,f,f,f,f,f,f,f,f,f,f,t,1.3,t,1.8,t,122,t,1.1,t,111,f,?,other,negative\\n84,F,f,f,f,f,f,f,f,f,f,f,f,f,f,f,t,17,f,?,t,35,t,0.83,t,42,f,?,other,primary_hypothyroid\\n34,F,f,f,f,f,f,f,f,f,f,f,f,f,f,f,t,82,t,0.2,t,5.8,f,?,f,?,f,?,SVI,primary_hypothyroid\\n36,M,f,f,f,f,f,f,f,f,f,f,f,f,f,t,t,2.2,t,1.7,t,115,t,0.98,t,118,f,?,SVHC,negative\\n48,F,f,f,f,f,f,f,f,f,f,f,f,f,f,f,t,1.5,t,1.9,t,89,t,0.92,t,96,f,?,other,negative\\n55,F,t,f,f,f,f,f,f,f,f,f,f,f,f,f,t,0.05,t,2,t,149,t,1.09,t,136,f,?,other,negative\\n61,F,t,f,f,f,f,f,f,f,f,f,f,f,f,f,t,0.38,f,?,t,121,t,0.95,t,128,f,?,other,negative\\n54,F,f,f,f,f,f,f,f,f,f,f,f,f,f,f,f,?,f,?,f,?,f,?,f,?,f,?,other,negative\\n32,F,t,f,f,f,t,f,f,f,t,f,f,f,f,f,t,0.3,t,3,t,101,t,1.14,t,89,f,?,other,negative\\n83,F,f,f,f,f,f,f,f,f,f,f,f,f,f,f,t,1.9,t,2.6,t,119,t,1.22,t,97,f,?,other,negative\\n51,F,f,f,f,f,f,f,f,f,f,f,f,f,f,f,t,1.8,t,1.9,t,97,t,1,t,97,f,?,SVHC,negative\\n26,M,f,f,f,f,f,f,f,f,f,f,f,f,f,f,t,2.6,t,2,t,111,t,0.8,t,138,f,?,other,negative\\n68,M,f,t,f,f,f,f,f,f,f,f,f,f,f,f,f,?,t,1.1,t,128,t,0.68,t,188,f,?,other,negative\\n62,M,f,f,f,f,f,f,f,f,f,f,f,f,f,t,t,11,t,1,t,101,t,0.79,t,128,f,?,SVI,compensated_hypothyroid\\n54,M,f,f,f,f,f,f,f,f,f,f,f,f,f,f,t,1.6,t,2,t,84,f,?,f,?,f,?,other,negative\\n38,F,f,f,f,f,f,f,f,f,f,f,f,f,f,f,t,1.5,t,2.1,t,109,t,1.02,t,107,f,?,other,negative\\n56,F,f,f,f,f,f,f,f,f,f,f,f,f,f,f,f,?,t,3.9,t,141,t,1.12,t,126,f,?,other,negative\\n41,F,t,f,f,f,f,f,f,f,f,f,f,f,f,f,t,1.8,t,2.4,t,115,t,1.11,t,104,f,?,other,negative\\n57,F,t,f,f,f,f,f,f,t,f,f,f,f,f,f,f,?,f,?,f,?,f,?,f,?,f,?,other,negative\\n25,M,f,f,f,f,f,f,f,f,f,f,f,f,f,f,t,2,t,2.3,t,92,t,0.8,t,114,f,?,other,negative\\n86,M,f,f,f,f,f,f,f,f,f,f,f,f,f,f,t,5.5,t,0.2,t,38,t,0.76,t,50,f,?,SVI,negative\\n74,M,f,f,f,f,f,f,f,t,f,f,f,f,f,f,t,1.5,t,2.1,t,70,t,0.74,t,94,f,?,SVI,negative\\n74,F,f,f,f,f,f,f,f,f,f,f,f,f,f,f,t,5.5,t,1.4,t,89,t,0.99,t,89,f,?,other,negative\\n61,F,f,f,f,t,f,f,f,f,f,f,f,f,f,f,t,11,t,1.2,t,83,t,1.01,t,82,f,?,other,compensated_hypothyroid\\n77,M,f,f,f,f,f,f,f,f,f,f,f,f,f,f,t,0.015,t,10.6,t,226,t,0.65,t,349,f,?,other,negative\\n54,F,f,f,f,f,f,f,f,f,f,f,t,f,f,f,t,2.3,t,2,t,78,t,1.04,t,75,f,?,other,negative\\n37,F,f,f,f,f,f,f,f,f,f,t,f,f,f,t,t,4.4,t,2.6,t,108,t,1.12,t,96,f,?,other,negative\\n27,F,f,f,f,f,f,f,f,f,f,f,f,f,f,f,t,0.02,t,2.9,t,118,t,1.52,t,78,f,?,other,negative\\n29,F,f,f,f,f,f,f,f,f,f,f,f,f,f,f,t,0.84,t,1.5,t,100,t,0.74,t,135,f,?,other,negative\\n60,M,f,f,f,f,f,f,f,f,f,f,f,f,f,f,t,26,t,2,t,69,t,0.97,t,71,f,?,other,compensated_hypothyroid\\n45,F,f,f,f,f,f,f,f,f,f,f,f,f,f,f,t,3.2,t,2,t,73,t,0.74,t,99,f,?,other,negative\\n53,M,f,f,f,f,f,f,f,t,f,f,f,f,f,f,t,0.7,f,?,t,46,t,0.87,t,52,f,?,other,negative\\n26,F,f,f,f,f,f,f,f,f,f,f,f,f,f,f,f,?,f,?,f,?,f,?,f,?,f,?,other,negative\\n68,M,f,f,f,f,f,f,f,f,f,f,f,f,f,f,t,1.2,t,2.1,t,85,f,?,f,?,f,?,other,negative\\n68,M,f,f,f,f,f,f,f,f,t,f,f,f,f,f,t,3.7,t,0.6,t,65,t,0.88,t,74,f,?,other,negative\\n70,M,f,f,f,f,f,f,f,f,f,f,f,f,f,f,t,0.7,t,0.9,t,73,f,?,f,?,f,?,other,negative\\n63,F,f,f,f,f,f,f,f,f,f,f,f,f,f,f,t,1.5,t,1.9,t,97,t,1.03,t,94,f,?,other,negative\\n47,F,f,f,f,f,f,f,f,f,f,f,f,f,f,f,t,4.4,t,1.6,t,100,t,1.01,t,99,f,?,STMW,negative\\n68,F,f,f,f,f,f,f,f,t,f,f,f,f,f,f,t,0.58,f,?,t,150,t,1.03,t,146,f,?,other,negative\\n72,F,f,f,f,f,f,f,f,t,f,f,f,f,f,f,t,3,t,2.3,t,121,t,1.01,t,120,f,?,SVI,negative\\n2,F,f,f,f,f,f,f,f,f,f,f,f,f,f,f,t,6.7,f,?,f,?,f,?,f,?,f,?,STMW,primary_hypothyroid\\n34,F,f,f,f,f,f,f,f,f,f,f,f,f,f,f,t,6.8,t,2.4,t,96,t,1.06,t,90,f,?,other,compensated_hypothyroid\\n49,F,f,f,f,f,f,f,f,f,f,f,f,f,f,f,t,2.4,t,2.5,t,94,t,1.15,t,82,f,?,SVI,negative\\n55,F,f,f,f,f,f,f,f,f,f,f,f,f,f,f,t,0.9,t,1.6,t,126,t,0.93,t,135,f,?,other,negative\\n54,F,f,f,f,f,f,f,f,f,f,f,f,t,f,f,f,?,f,?,t,96,t,1.28,t,75,f,?,other,negative\\n15,M,f,f,f,f,f,f,f,f,t,f,f,f,f,f,f,?,f,?,f,?,f,?,f,?,f,?,other,negative\\n75,M,f,f,f,f,f,f,f,t,f,f,f,f,f,f,t,1.8,t,2,t,102,t,0.83,t,124,f,?,other,negative\\n51,F,f,f,f,f,f,f,f,f,f,f,f,f,f,f,t,3.3,t,1.9,t,92,t,0.93,t,98,f,?,other,negative\\n57,F,f,f,f,f,f,f,f,f,f,f,f,f,f,f,t,0.055,t,1.7,t,75,t,0.81,t,93,f,?,other,negative\\n56,M,f,f,f,f,f,f,f,f,f,f,f,f,f,f,t,1,t,2.3,t,103,t,1.08,t,95,f,?,SVI,negative\\n62,M,t,f,f,f,f,f,f,f,f,f,f,f,f,f,f,?,t,2.6,t,142,f,?,f,?,f,?,other,negative\\n27,F,f,f,f,f,f,f,f,f,f,f,f,f,f,f,f,?,f,?,t,103,t,1.14,t,91,f,?,other,negative\\n29,F,f,f,f,f,f,f,f,f,f,f,f,f,f,f,f,?,f,?,f,?,f,?,f,?,f,?,other,negative\\n50,M,f,f,f,f,f,f,f,f,f,f,f,f,f,f,t,1,t,2,t,101,t,0.94,t,108,f,?,SVI,negative\\n19,M,f,f,f,f,f,f,f,f,f,f,f,f,f,t,t,2.7,t,2.7,t,121,t,1.17,t,104,f,?,SVHC,negative\\n26,F,f,f,f,f,f,f,f,f,f,f,f,f,f,f,t,1.6,t,2.1,t,140,t,1.05,t,132,f,?,SVI,negative\\n56,M,f,f,f,f,f,f,f,f,f,f,f,f,f,f,f,?,t,2.3,t,98,t,1.07,t,92,f,?,other,negative\\n51,F,f,f,f,f,f,f,f,f,t,f,f,f,f,f,f,?,t,2.6,f,?,f,?,f,?,f,?,other,negative\\n52,F,f,f,f,f,f,f,f,t,f,f,f,f,f,f,t,35,t,2.1,t,77,t,1.1,t,70,f,?,other,compensated_hypothyroid\\n64,F,f,f,f,f,f,f,f,f,f,f,f,f,f,f,t,4.3,f,?,t,114,t,1.06,t,108,f,?,other,negative\\n46,M,f,f,f,f,f,f,f,f,f,f,f,f,f,f,t,1.1,f,?,t,70,t,0.58,t,122,f,?,other,negative\\n84,F,f,f,f,f,f,f,f,f,f,f,f,t,f,f,t,0.5,t,2.1,t,138,t,0.92,t,150,f,?,SVI,negative\\n25,F,f,f,f,f,f,f,f,f,f,f,f,f,f,f,t,0.02,t,2.3,t,85,t,0.79,t,107,f,?,other,negative\\n67,M,f,f,f,f,f,f,f,f,f,f,f,f,f,f,t,0.25,t,2,t,101,t,0.81,t,124,f,?,SVI,negative\\n67,F,f,f,f,f,f,f,f,f,f,f,f,f,f,f,f,?,f,?,f,?,f,?,f,?,f,?,other,negative\\n20,F,f,f,t,f,f,f,f,f,t,f,f,f,f,f,t,0.03,t,2.7,t,107,t,1.07,t,100,f,?,other,negative\\n64,M,f,f,f,f,f,f,f,f,f,f,f,f,f,f,t,3.5,t,1.8,t,72,t,0.86,t,84,f,?,SVI,negative\\n30,F,f,t,f,f,f,f,f,f,f,f,f,f,f,f,t,1.3,t,2,t,80,t,0.72,t,110,f,?,SVI,negative\\n15,F,f,f,f,f,f,f,f,f,f,f,f,f,f,f,t,2.6,t,2.4,t,100,f,?,f,?,f,?,other,negative\\n63,F,f,f,f,f,f,t,f,f,f,f,f,f,f,f,t,1.8,t,2,t,152,t,1.18,t,129,f,?,other,negative\\n34,F,f,f,f,f,f,f,f,f,f,f,f,f,f,f,t,3.1,t,1.8,t,94,f,?,f,?,f,?,other,negative\\n68,M,f,f,f,f,f,f,f,f,f,f,f,f,f,f,f,?,f,?,f,?,f,?,f,?,f,?,other,negative\\n62,M,f,f,f,f,f,f,f,f,f,f,f,f,f,f,t,0.72,t,0.5,t,78,t,0.95,t,82,f,?,SVI,negative\\n37,F,t,f,f,f,f,f,f,f,f,f,f,f,f,f,f,?,f,?,f,?,f,?,f,?,f,?,other,negative\\n29,F,f,f,f,f,t,f,f,f,f,f,f,f,f,f,t,0.15,t,3.6,t,144,t,1.76,t,82,f,?,STMW,negative\\n55,F,f,f,f,f,f,f,f,f,t,f,f,f,f,f,t,1.9,t,1.8,t,97,t,0.91,t,106,f,?,other,negative\\n34,F,f,f,f,f,f,f,f,f,f,f,f,f,f,t,t,4.4,t,2.7,t,131,t,1.73,t,76,f,?,SVHC,negative\\n84,M,f,f,f,f,f,f,f,f,f,f,f,f,f,f,t,1.6,t,1.5,t,96,t,0.82,t,117,f,?,SVI,negative\\n42,M,f,f,f,f,f,f,f,f,t,f,f,f,f,f,t,0.06,t,2,t,79,t,0.81,t,98,f,?,other,negative\\n58,M,f,f,f,f,f,f,f,f,f,f,f,f,f,f,t,1.8,t,1.6,t,102,t,1.07,t,96,f,?,SVI,negative\\n91,F,f,f,f,f,f,f,f,f,f,f,f,f,f,f,t,0.15,t,1.3,t,126,t,0.96,t,132,f,?,SVI,negative\\n42,F,t,f,f,f,f,f,f,f,f,f,f,f,f,f,t,0.9,f,?,t,135,t,0.66,t,206,f,?,other,negative\\n49,F,f,f,f,f,f,f,f,f,f,f,f,f,f,f,t,0.045,f,?,t,138,t,0.83,t,166,f,?,other,negative\\n29,F,f,f,f,f,f,f,f,f,f,f,f,f,f,f,f,?,f,?,f,?,f,?,f,?,f,?,other,negative\\n41,F,t,f,f,f,f,f,f,f,f,f,f,f,f,f,t,1.1,f,?,t,97,t,0.88,t,110,f,?,other,negative\\n37,F,t,f,f,f,f,f,f,f,f,f,f,f,f,f,t,0.54,t,2.5,t,170,t,1.4,t,121,f,?,other,negative\\n59,M,t,f,f,f,f,f,f,f,f,f,f,f,f,f,t,5.2,f,?,t,119,t,0.93,t,127,f,?,other,negative\\n73,F,f,f,f,f,f,f,f,f,f,f,f,f,f,f,t,4.1,t,1,t,89,t,0.91,t,98,f,?,SVI,negative\\n64,F,f,f,f,f,f,f,f,t,f,f,f,f,f,f,t,0.82,f,?,t,125,t,1.01,t,124,f,?,other,negative\\n37,M,f,f,f,f,f,f,f,f,f,f,f,f,f,f,t,0.7,t,2.1,t,98,t,0.99,t,100,f,?,SVI,negative\\n49,F,f,f,f,f,f,f,f,f,f,f,f,f,f,f,t,1.2,t,1.8,t,109,t,1.04,t,104,f,?,SVI,negative\\n37,F,f,f,f,f,f,t,f,f,t,f,f,t,f,f,t,0.57,t,2.6,t,159,t,1.39,t,114,f,?,SVI,negative\\n79,F,f,f,f,f,f,f,f,f,f,f,f,f,f,f,t,0.84,t,0.8,t,94,t,0.86,t,109,f,?,other,negative\\n63,F,f,f,f,f,f,f,f,f,f,f,f,f,f,f,t,4.4,t,2.3,t,118,t,1.17,t,101,f,?,other,negative\\n43,F,f,f,f,f,f,f,t,f,t,f,f,f,f,f,t,3.5,t,1.7,t,99,t,1.14,t,87,f,?,other,negative\\n35,F,f,f,f,f,f,f,f,f,f,f,f,f,f,f,t,0.15,t,5.1,t,167,t,1,t,168,f,?,other,negative\\n59,F,t,f,f,f,f,f,f,f,f,f,f,f,f,f,t,1.1,f,?,t,141,t,1.17,t,120,f,?,other,negative\\n51,F,t,f,f,f,f,f,f,f,f,f,f,f,f,f,t,1.4,f,?,t,151,t,1.06,t,142,f,?,other,negative\\n46,F,f,f,f,f,f,f,f,f,f,f,f,f,f,f,t,4,t,1.9,t,69,f,?,f,?,f,?,other,negative\\n29,F,t,f,f,f,f,f,f,f,f,f,f,f,f,f,t,1.7,f,?,t,141,t,1.25,t,113,f,?,other,negative\\n57,F,f,f,f,t,f,f,f,f,f,f,f,f,f,f,t,1.2,t,1.4,t,118,t,1.02,t,116,f,?,SVI,negative\\n68,M,f,f,f,f,f,f,f,t,f,f,f,f,f,f,t,0.96,f,?,t,104,t,1,t,104,f,?,other,negative\\n60,F,f,f,f,f,f,f,f,f,f,f,f,f,f,f,t,8.1,t,1.8,t,59,t,0.96,t,61,f,?,other,primary_hypothyroid\\n65,M,f,f,f,f,f,f,f,f,f,f,f,f,f,f,t,0.2,t,1.9,t,134,t,0.98,t,137,f,?,SVI,negative\\n42,F,f,f,f,f,t,f,f,f,t,f,f,f,f,f,t,0.02,t,4,t,200,t,1.56,t,128,f,?,STMW,negative\\n53,F,t,f,f,f,f,f,f,f,f,f,f,f,f,f,t,0.005,t,3.4,t,201,t,1.08,t,186,f,?,other,negative\\n23,M,f,f,f,f,f,f,f,f,f,f,f,f,f,f,t,1.8,t,1.9,t,77,t,0.79,t,97,f,?,SVHC,negative\\n73,F,f,f,f,f,f,f,f,f,f,f,f,f,f,f,t,1.9,t,2.2,t,134,t,1.18,t,114,f,?,other,negative\\n16,F,f,f,f,f,f,f,f,t,f,f,f,f,f,f,t,6.2,f,?,t,108,t,1.14,t,94,f,?,other,compensated_hypothyroid\\n21,F,f,f,t,f,f,f,f,f,f,f,f,f,f,f,t,1.3,t,1.8,t,95,t,0.96,t,99,f,?,other,negative\\n23,F,f,f,f,f,f,f,f,f,f,f,f,f,f,f,t,3.6,t,7,t,141,t,1.77,t,80,f,?,SVHC,negative\\n59,M,f,f,f,f,f,f,f,t,f,f,f,f,f,f,t,5.5,t,0.7,t,77,t,0.74,t,104,f,?,SVI,negative\\n72,M,f,f,f,f,f,f,f,f,f,f,f,f,f,f,t,0.8,t,1.8,t,93,t,0.79,t,117,f,?,SVHC,negative\\n26,F,f,f,f,f,f,f,f,f,t,f,f,f,f,f,t,1.2,t,2.5,t,114,t,1.09,t,104,f,?,STMW,negative\\n72,F,f,f,f,f,f,f,f,f,f,f,f,f,f,f,t,0.34,t,1.4,t,100,t,0.8,t,124,f,?,SVHC,negative\\n63,M,t,f,f,f,f,f,f,t,f,f,f,f,f,f,t,8.1,f,?,t,82,t,0.69,t,119,f,?,other,negative\\n32,M,f,f,f,f,f,f,f,f,f,f,f,f,f,f,f,?,f,?,t,134,t,1.29,t,104,f,?,other,negative\\n30,F,f,f,f,f,t,f,f,f,f,f,f,f,f,f,t,0.71,t,3.1,t,125,t,1.39,t,90,f,?,STMW,negative\\n28,F,f,f,t,f,f,f,f,f,f,f,f,f,f,f,f,?,f,?,f,?,f,?,f,?,f,?,other,negative\\n6,F,f,f,f,f,f,f,f,f,f,f,f,f,f,f,t,1.4,t,2,t,134,t,0.96,t,140,f,?,SVI,negative\\n75,F,f,f,f,f,f,f,f,f,f,f,f,f,f,f,t,0.16,f,?,f,?,f,?,f,?,f,?,SVHD,negative\\n48,?,f,f,f,f,f,f,f,f,f,f,f,f,f,f,t,3.1,t,2.5,t,90,t,1.03,t,88,f,?,STMW,negative\\n46,F,f,f,f,f,f,f,f,f,t,f,f,f,f,f,t,0.15,t,5.3,t,233,t,0.92,t,253,f,?,other,negative\\n26,F,f,f,f,f,f,f,f,f,f,f,f,t,f,f,t,0.43,t,4.1,t,123,t,1.48,t,83,f,?,STMW,negative\\n47,M,f,f,f,f,f,f,f,f,f,f,f,f,f,f,t,0.3,t,2.1,t,99,t,0.85,t,117,f,?,SVI,negative\\n59,M,f,f,f,f,f,f,f,f,f,f,f,f,f,f,t,0.15,t,2.8,t,84,t,0.99,t,86,f,?,other,negative\\n71,M,f,f,f,f,f,f,f,t,f,f,f,f,f,f,t,38,t,0.4,t,37,t,0.74,t,50,f,?,SVI,primary_hypothyroid\\n72,F,f,f,f,f,f,f,f,f,f,f,f,f,f,f,t,2.3,t,2.6,t,111,t,1.06,t,105,f,?,other,negative\\n52,F,t,f,f,f,f,f,f,f,f,f,f,f,f,f,t,44,t,2.5,t,66,t,1.22,t,54,f,?,other,primary_hypothyroid\\n23,F,f,f,f,f,f,f,f,f,t,f,f,f,f,f,t,0.015,t,4,t,204,t,0.84,t,242,f,?,other,negative\\n73,F,t,f,f,f,f,f,f,f,f,f,f,f,f,f,t,3.5,t,1.6,t,143,t,1.06,t,134,f,?,other,negative\\n62,?,f,f,f,f,f,f,f,f,f,f,f,f,f,f,t,1.3,t,1.5,t,96,t,0.88,t,109,f,?,SVHC,negative\\n51,F,f,f,f,f,f,f,f,f,f,f,f,f,f,f,t,2,t,1.8,t,68,t,0.79,t,86,f,?,SVI,negative\\n57,F,f,f,f,f,f,f,f,f,f,f,f,f,f,f,f,?,f,?,f,?,f,?,f,?,f,?,other,negative\\n31,F,f,f,f,f,f,f,f,f,f,f,f,f,f,f,t,1,t,2.2,t,124,f,?,f,?,f,?,other,negative\\n62,F,f,f,f,f,f,f,f,f,f,f,f,f,f,f,t,0.8,t,1.3,t,110,t,1.12,t,98,f,?,other,negative\\n30,F,f,f,f,f,f,f,f,f,f,f,f,t,f,f,t,0.3,t,1.8,t,117,t,0.97,t,121,f,?,SVI,negative\\n25,M,f,t,f,f,f,f,f,f,t,f,f,f,f,f,t,0.25,t,3.4,t,101,f,?,f,?,f,?,other,negative\\n43,F,t,f,f,f,f,f,f,f,f,f,f,f,f,f,t,0.2,f,?,t,134,t,1.03,t,131,f,?,other,negative\\n60,M,t,f,f,f,f,f,f,f,f,f,f,f,f,f,t,0.35,t,1.6,t,98,t,0.75,t,131,f,?,other,negative\\n72,F,f,f,f,f,f,f,f,f,f,f,f,f,f,f,t,0.54,t,1.7,t,90,t,0.83,t,109,f,?,SVI,negative\\n73,F,f,f,f,f,f,f,f,f,f,f,f,f,f,f,t,0.1,t,2,t,192,t,1.02,t,188,f,?,SVI,negative\\n74,M,f,f,f,f,f,f,f,t,f,f,f,f,f,f,t,1.4,f,?,t,123,t,1.57,t,79,f,?,other,negative\\n47,M,f,f,f,f,f,f,f,f,f,f,f,f,f,f,t,1.5,t,1.4,t,90,t,0.97,t,92,f,?,SVI,negative\\n24,F,t,f,f,f,f,f,f,f,f,f,f,f,f,f,t,4.5,f,?,t,166,t,1.59,t,104,f,?,other,negative\\n48,M,f,f,f,f,f,f,f,f,f,f,f,f,f,f,t,1.8,t,2.3,t,89,t,0.83,t,107,f,?,other,negative\\n55,F,f,f,f,f,f,f,f,f,f,f,f,f,f,f,t,0.13,t,1,t,102,t,0.82,t,124,f,?,SVI,negative\\n48,F,f,f,f,f,f,f,f,f,f,f,f,f,f,f,f,?,f,?,t,91,t,0.91,t,100,f,?,other,negative\\n35,F,t,f,f,f,f,f,f,f,f,f,f,f,f,f,t,0.05,f,?,t,129,t,1.01,t,128,f,?,other,negative\\n18,F,f,f,f,f,f,f,f,f,f,f,f,f,f,f,f,?,f,?,f,?,f,?,f,?,f,?,other,negative\\n66,M,f,f,f,f,f,f,f,f,f,f,f,f,f,f,t,1.3,t,0.3,t,64,t,0.66,t,96,f,?,SVI,negative\\n41,M,f,f,f,f,f,f,f,f,f,f,f,f,f,f,t,0.05,t,3,t,90,t,0.96,t,94,f,?,SVHC,negative\\n32,F,f,f,f,f,f,f,f,f,f,f,f,f,f,f,t,0.05,t,3.1,t,206,t,1.59,t,129,f,?,other,negative\\n27,M,f,f,f,f,f,f,f,f,f,f,f,f,f,t,t,0.85,t,2.3,t,141,t,1.14,t,125,f,?,SVHC,negative\\n54,F,f,f,f,f,f,f,f,f,f,f,f,f,f,f,t,1.9,t,2,t,88,t,0.95,t,92,f,?,other,negative\\n63,F,f,f,f,f,f,f,f,f,f,f,f,f,f,f,t,5.6,t,2.2,t,99,t,1.02,t,97,f,?,SVI,negative\\n38,F,f,f,f,f,f,f,f,f,f,f,f,f,f,f,t,0.75,t,1.8,t,114,t,1.01,t,113,f,?,other,negative\\n72,M,f,f,f,f,f,f,f,f,f,f,f,f,f,f,t,0.67,t,1.8,t,99,t,0.98,t,101,f,?,SVI,negative\\n69,M,f,f,f,f,f,f,f,f,f,f,f,f,f,f,t,0.25,t,1.6,t,86,t,0.7,t,123,f,?,SVI,negative\\n57,M,f,f,f,f,f,f,f,f,f,f,f,f,f,f,f,?,f,?,f,?,f,?,f,?,f,?,other,negative\\n60,F,f,f,f,f,f,f,f,f,f,f,f,f,f,f,t,1.5,t,1.9,t,72,t,1.06,t,68,f,?,SVHC,negative\\n48,M,f,f,f,f,f,f,f,f,f,f,f,f,f,f,t,0.05,t,0.4,t,98,t,0.73,t,133,f,?,SVI,negative\\n22,M,f,f,f,f,f,f,f,f,f,f,f,f,f,f,t,3.7,t,2.1,t,83,t,0.82,t,101,f,?,other,negative\\n19,F,f,f,f,f,f,f,f,f,f,f,f,f,f,f,t,5,t,2.2,t,115,t,1.02,t,114,f,?,other,negative\\n28,F,f,f,f,f,f,f,f,t,f,f,f,f,f,f,t,3.2,t,1.3,t,96,t,0.9,t,107,f,?,other,negative\\n44,M,f,f,f,f,f,f,f,f,f,f,f,t,f,f,t,0.015,f,?,t,135,t,0.82,t,166,f,?,other,negative\\n73,F,f,f,f,f,f,f,f,f,f,f,f,f,f,f,t,9.9,t,0.7,t,111,t,0.92,t,120,f,?,SVI,compensated_hypothyroid\\n62,F,f,f,f,f,f,f,f,f,f,f,f,f,f,f,t,1.2,t,2.1,t,134,t,1.06,t,127,f,?,SVI,negative\\n59,F,t,f,f,f,f,f,f,f,f,f,f,f,f,f,t,0.2,t,2.8,t,142,t,0.99,t,143,f,?,other,negative\\n50,M,f,f,f,f,f,f,f,f,f,f,f,f,f,f,t,0.4,t,2.8,t,94,t,0.88,t,106,f,?,SVHC,negative\\n59,M,f,f,f,f,f,f,f,f,f,f,f,f,f,f,t,0.78,t,2,t,70,t,0.76,t,92,f,?,other,negative\\n50,M,f,f,f,f,f,f,f,f,f,f,f,f,f,f,t,0.67,t,2.6,t,85,t,0.89,t,96,f,?,SVHC,negative\\n65,F,f,f,f,f,f,f,f,t,f,f,f,f,f,f,t,0.36,t,2.4,t,128,t,1.01,t,127,f,?,SVI,negative\\n52,M,f,f,f,f,f,f,f,f,f,f,f,f,f,f,t,3.3,t,1.5,t,111,t,0.98,t,114,f,?,SVI,negative\\n74,F,t,f,f,f,f,f,f,f,f,f,f,f,f,f,t,3.7,t,2.2,t,99,t,1.04,t,96,f,?,other,negative\\n26,F,f,f,f,f,f,f,f,f,f,f,f,f,f,f,f,?,t,1.9,t,92,t,1,t,92,f,?,other,negative\\n57,M,f,f,f,f,f,f,f,f,f,f,f,f,f,f,t,1,t,2.2,t,79,t,0.7,t,114,f,?,SVI,negative\\n39,M,f,f,f,f,f,f,f,f,f,f,f,f,f,t,t,0.05,t,2.3,t,95,t,0.89,t,106,f,?,SVHC,negative\\n45,F,f,f,f,f,f,f,f,f,t,f,f,f,f,f,f,?,t,1.3,f,?,f,?,f,?,f,?,other,negative\\n65,M,f,f,f,f,f,f,f,f,f,f,f,f,f,f,t,103,t,1.3,t,31,f,?,f,?,f,?,SVI,primary_hypothyroid\\n71,M,f,f,f,f,f,f,f,f,f,f,f,f,f,f,t,1.8,t,1.5,t,139,t,1.03,t,135,f,?,other,negative\\n62,M,f,f,f,f,f,f,f,f,f,f,f,f,f,f,t,2.1,t,1.7,t,96,f,?,f,?,f,?,other,negative\\n42,M,f,f,f,f,f,f,f,f,f,f,f,f,f,f,t,6.8,t,1.2,t,44,t,0.87,t,51,f,?,other,primary_hypothyroid\\n18,F,f,f,f,f,f,f,f,f,f,f,f,f,f,f,t,0.9,t,3,t,143,t,1.32,t,108,f,?,other,negative\\n32,F,f,f,f,f,f,f,f,f,f,f,f,f,f,f,t,0.05,t,1.4,t,139,t,0.88,t,157,f,?,SVI,negative\\n61,F,f,f,f,t,f,f,f,f,f,f,f,f,f,f,t,9.8,t,0.4,t,81,t,0.64,t,126,f,?,SVI,compensated_hypothyroid\\n63,F,f,f,f,f,f,f,f,t,f,f,f,f,f,f,t,2.6,t,1.3,t,128,t,1.07,t,120,f,?,SVI,negative\\n72,M,f,f,f,f,f,f,f,f,f,f,f,f,f,f,f,?,f,?,t,108,t,1.02,t,106,f,?,SVI,negative\\n50,F,f,f,f,f,f,f,f,f,f,f,f,f,f,f,t,2,t,2.5,t,133,t,1.08,t,123,f,?,SVHC,negative\\n57,F,f,f,f,f,f,f,f,f,f,f,f,f,f,f,t,2.2,f,?,t,100,t,1,t,100,f,?,other,negative\\n61,M,f,f,f,t,f,f,f,f,f,f,f,f,f,f,t,1.8,t,2.3,t,89,t,0.85,t,105,f,?,other,negative\\n63,F,t,f,f,f,f,f,t,f,f,f,f,f,f,f,t,2.9,t,1.6,t,101,f,?,f,?,f,?,other,negative\\n64,F,f,f,f,f,f,f,f,f,f,f,f,f,f,f,t,0.09,t,1,t,101,t,0.82,t,123,f,?,SVI,negative\\n16,F,f,f,f,f,f,f,f,f,f,f,f,f,f,f,t,1.1,t,2.2,t,90,t,0.98,t,92,f,?,other,negative\\n65,F,f,f,f,f,f,f,f,f,f,f,f,f,f,f,t,0.035,f,?,t,113,t,0.85,t,133,f,?,other,negative\\n56,F,f,f,f,f,f,f,f,t,f,f,f,f,f,f,t,1.5,f,?,t,103,t,1.07,t,97,f,?,SVI,negative\\n16,F,f,f,f,f,f,f,f,f,f,f,f,f,f,f,f,?,t,5,t,164,t,1.26,t,130,f,?,other,negative\\n40,F,f,f,f,f,f,f,f,f,f,f,f,f,f,f,t,0.7,t,1.8,t,96,t,0.94,t,101,f,?,other,negative\\n66,F,t,f,f,f,f,f,f,f,f,f,f,f,f,f,t,0.2,t,2.5,t,142,t,1.25,t,113,f,?,other,negative\\n33,M,f,f,f,f,f,f,f,f,f,f,f,f,f,t,t,1,t,2.2,t,84,t,0.84,t,100,f,?,SVHC,negative\\n29,F,f,f,f,f,f,f,f,f,f,f,f,f,f,f,t,7,f,?,t,112,t,1.08,t,103,f,?,other,compensated_hypothyroid\\n60,M,f,f,f,f,f,f,f,f,f,f,f,f,f,f,t,0.3,t,1.8,t,114,t,1,t,114,f,?,SVI,negative\\n63,M,f,f,f,f,f,f,f,f,f,f,t,f,f,f,t,0.78,t,1.9,t,85,t,1.1,t,77,f,?,SVI,negative\\n70,F,f,f,f,f,f,f,f,f,f,f,f,f,f,f,t,0.8,t,1.8,t,82,t,0.77,t,107,f,?,other,negative\\n26,M,f,f,f,f,f,f,f,f,f,f,f,f,f,f,t,0.17,t,0.9,t,122,f,?,f,?,f,?,SVI,negative\\n62,F,f,f,f,f,f,f,f,f,f,f,f,f,f,f,t,0.81,t,2.3,t,109,t,1.18,t,93,f,?,SVI,negative\\n16,F,f,f,f,f,f,f,f,f,t,f,f,f,f,f,t,0.05,t,6.2,t,255,t,1.04,t,244,f,?,other,negative\\n23,F,f,f,f,f,f,f,f,f,f,f,f,f,f,f,t,2.4,t,1.3,t,72,t,0.9,t,80,f,?,other,negative\\n75,M,f,f,f,f,f,f,f,f,f,f,f,f,f,f,t,2.3,t,2.6,t,90,t,0.99,t,91,f,?,other,negative\\n29,F,f,f,f,f,f,f,f,f,f,f,f,f,f,f,f,?,f,?,f,?,f,?,f,?,f,?,other,negative\\n36,F,f,f,f,f,f,f,f,t,f,f,f,f,f,f,t,2.3,f,?,t,125,t,0.93,t,135,f,?,other,negative\\n83,F,f,f,f,f,f,f,f,f,f,f,f,f,f,f,t,1.4,f,?,t,95,t,0.86,t,111,f,?,other,negative\\n52,F,f,f,f,f,f,f,f,f,f,f,f,f,f,f,t,5.1,t,1.4,t,117,t,1.02,t,114,f,?,other,negative\\n66,F,f,f,f,f,f,f,f,f,f,f,f,f,f,f,t,0.71,t,1.7,t,102,t,1.12,t,92,f,?,SVI,negative\\n59,F,f,f,f,f,f,f,f,f,t,f,f,f,f,f,f,?,t,2.3,t,98,t,1.08,t,91,f,?,other,negative\\n56,F,t,f,f,f,f,t,f,f,f,f,f,f,f,f,t,1.1,t,2.2,t,103,t,0.9,t,114,f,?,other,negative\\n63,M,t,f,f,f,f,f,f,f,f,f,f,f,f,f,t,0.15,f,?,t,79,t,0.81,t,97,f,?,other,negative\\n74,F,f,f,f,f,f,f,f,f,f,f,f,f,f,f,t,2.2,t,2.6,t,84,t,0.98,t,86,f,?,other,negative\\n79,M,f,f,t,f,f,f,f,f,f,f,f,f,f,f,t,0.02,t,2.4,t,99,t,0.73,t,135,f,?,other,negative\\n44,M,f,f,f,f,f,f,f,f,f,f,f,f,f,f,t,16,f,?,t,87,t,0.91,t,95,f,?,other,compensated_hypothyroid\\n24,F,f,f,f,f,f,f,f,f,f,f,f,f,f,f,t,3.2,t,2.8,t,91,f,?,f,?,f,?,other,negative\\n71,?,f,f,f,f,f,f,f,f,f,f,f,f,f,f,t,0.02,t,1,t,120,t,0.56,t,213,f,?,SVI,negative\\n66,F,f,f,f,f,f,f,t,f,t,f,f,f,f,f,t,0.2,t,1.8,t,91,t,1.12,t,81,f,?,other,negative\\n72,F,f,f,f,t,f,f,f,f,f,f,f,f,f,f,t,0.7,t,1.4,t,110,t,0.88,t,124,f,?,SVI,negative\\n80,F,f,f,f,f,f,f,f,f,f,f,f,t,f,f,t,0.005,t,2.7,t,101,t,0.84,t,121,f,?,other,negative\\n68,M,f,f,f,f,f,f,f,f,f,f,f,f,f,f,t,0.6,f,?,f,?,f,?,f,?,f,?,other,negative\\n40,F,f,f,f,f,f,f,f,f,f,f,f,f,f,f,t,0.73,t,2,t,121,t,1.02,t,118,f,?,other,negative\\n68,M,f,f,f,f,f,f,f,f,f,f,f,f,f,f,t,2,t,2.5,t,79,t,0.86,t,92,f,?,other,negative\\n64,F,t,f,f,f,f,f,f,f,f,f,f,f,f,f,t,0.92,f,?,t,162,t,1.07,t,152,f,?,other,negative\\n64,F,t,f,f,t,f,f,f,f,f,f,f,f,f,f,t,0.24,t,1.4,t,65,t,0.85,t,77,f,?,SVI,negative\\n60,F,f,f,f,f,f,f,f,f,f,f,f,f,f,f,t,1.4,f,?,t,119,t,1.12,t,106,f,?,other,negative\\n36,M,f,f,f,f,f,f,f,f,f,f,f,f,f,f,f,?,f,?,t,95,t,0.76,t,125,f,?,other,negative\\n64,F,f,f,f,f,f,f,f,f,f,f,f,f,f,f,t,3.2,t,1.5,t,106,t,0.91,t,117,f,?,SVI,negative\\n73,F,f,f,f,f,f,f,f,f,f,f,f,f,f,f,t,1,t,1.6,t,76,t,0.81,t,94,f,?,SVI,negative\\n35,F,f,f,f,f,f,f,f,f,f,f,f,f,f,f,t,2.1,t,2.2,t,106,t,0.91,t,117,f,?,SVI,negative\\n44,F,f,f,f,f,f,f,f,f,f,f,f,f,f,f,t,2.3,f,?,t,88,t,1.05,t,83,f,?,other,negative\\n60,M,f,f,f,f,f,f,f,f,f,f,f,f,f,f,t,11,t,2.6,t,109,t,1.06,t,103,f,?,SVHD,compensated_hypothyroid\\n66,F,f,f,f,f,f,f,f,f,t,f,f,f,f,f,t,0.065,t,2,t,153,t,0.99,t,154,f,?,other,negative\\n34,F,f,f,f,f,f,f,f,f,f,f,f,f,f,f,f,?,f,?,t,178,t,1,t,178,f,?,other,negative\\n77,F,t,f,f,f,f,f,f,f,f,f,f,f,f,f,t,0.25,t,1.7,t,113,t,0.94,t,120,f,?,other,negative\\n43,M,f,f,f,f,f,f,f,f,f,f,f,f,f,t,t,3.9,t,1.5,t,58,t,0.59,t,99,f,?,SVHC,negative\\n77,F,f,f,f,f,f,f,f,f,f,f,f,f,f,f,t,6.2,t,1.2,t,89,t,0.74,t,121,f,?,SVI,compensated_hypothyroid\\n71,F,f,f,f,f,f,f,f,f,t,f,f,f,f,f,t,0.02,t,1.8,t,143,t,0.87,t,164,f,?,SVHC,negative\\n31,F,f,f,f,f,f,f,f,f,f,f,f,f,f,f,f,?,f,?,f,?,f,?,f,?,f,?,other,negative\\n34,M,f,f,f,f,f,f,f,f,t,f,f,f,f,f,t,0.08,t,2.1,t,99,t,0.87,t,113,f,?,other,negative\\n40,M,f,f,f,f,f,f,f,t,f,f,f,f,f,f,t,0.47,f,?,t,89,t,0.89,t,100,f,?,other,negative\\n71,M,f,f,f,f,f,f,f,f,f,f,f,f,f,f,t,0.46,t,1.4,t,85,t,1.12,t,77,f,?,SVI,negative\\n25,F,f,f,f,t,f,f,f,f,f,f,f,f,f,f,t,1.4,t,1.6,t,78,t,0.88,t,89,f,?,SVHD,negative\\n59,F,f,f,f,t,f,f,f,f,f,f,f,f,f,f,t,4.3,t,1.1,t,70,t,1,t,70,f,?,SVI,negative\\n26,F,f,f,f,f,f,t,f,f,t,f,f,f,f,f,t,11,f,?,t,89,t,1.04,t,86,f,?,other,negative\\n13,M,f,f,f,f,f,f,f,f,f,f,f,f,f,f,t,0.2,f,?,t,67,t,0.93,t,72,f,?,other,negative\\n82,F,f,f,f,f,f,f,f,f,f,f,f,f,f,f,t,0.2,t,0.1,t,50,t,0.31,t,161,f,?,SVI,negative\\n61,M,f,f,f,t,f,f,f,f,f,f,f,f,f,f,t,2,t,1.7,t,107,t,0.99,t,107,f,?,SVI,negative\\n41,M,f,f,t,f,f,f,f,f,t,f,f,f,f,f,t,0.005,t,2.2,t,64,t,0.94,t,69,f,?,other,negative\\n63,F,f,f,f,f,f,f,f,f,f,t,f,f,f,f,t,2.8,t,2,t,93,t,1.04,t,89,f,?,SVHC,negative\\n79,F,f,f,f,f,f,f,f,f,f,f,f,f,f,f,t,5.6,t,1.5,t,94,t,1.02,t,92,f,?,SVI,negative\\n72,F,f,f,f,f,f,f,f,f,f,f,f,f,f,f,t,5,f,?,t,101,t,0.88,t,115,f,?,other,negative\\n23,M,f,f,f,f,f,f,f,f,f,f,f,f,f,f,f,?,f,?,f,?,f,?,f,?,f,?,other,negative\\n43,M,f,f,f,f,f,f,f,f,f,f,f,f,f,f,t,3.3,t,2.5,t,70,t,0.93,t,75,f,?,SVI,negative\\n60,F,f,f,f,f,f,f,f,f,f,f,f,f,f,f,t,2.8,t,2.4,t,112,f,?,f,?,f,?,other,negative\\n74,F,f,f,f,f,f,f,f,f,f,f,f,f,f,f,t,1.7,t,1.4,t,75,t,0.74,t,101,f,?,SVI,negative\\n24,M,f,f,f,f,f,f,f,f,f,f,f,f,f,t,t,0.77,t,2.8,t,110,t,0.91,t,121,f,?,SVHC,negative\\n58,F,t,f,f,f,f,f,f,f,f,f,f,f,f,f,t,5.6,t,2.1,t,94,t,1.01,t,93,f,?,other,negative\\n39,F,f,f,f,f,f,f,f,t,f,f,f,f,f,f,t,2.2,t,1.9,t,98,t,0.88,t,110,f,?,other,negative\\n29,F,t,f,f,f,f,f,f,f,f,f,f,f,f,f,t,7,f,?,t,98,t,0.85,t,114,f,?,other,negative\\n34,F,f,f,t,f,f,f,f,f,f,f,f,f,f,f,t,0.2,t,2.8,t,160,t,1.51,t,106,f,?,STMW,negative\\n75,F,t,f,f,f,f,f,f,f,f,f,f,f,f,f,t,0.005,t,3.6,t,184,t,1.14,t,162,f,?,other,negative\\n76,F,f,f,f,f,f,f,f,t,f,f,f,f,f,f,t,0.42,t,1,t,115,t,1.11,t,104,f,?,SVI,negative\\n30,F,f,f,f,f,f,f,f,f,f,f,f,f,f,f,t,5,t,2.4,t,99,t,1.07,t,93,f,?,other,negative\\n57,M,f,f,f,f,f,f,f,f,f,f,f,f,f,f,t,1.9,t,1.7,t,76,t,0.81,t,93,f,?,SVI,negative\\n64,M,f,f,f,t,f,f,f,f,f,f,f,f,f,f,t,2.4,t,2,t,101,t,0.94,t,107,f,?,SVHD,negative\\n67,M,f,f,f,f,f,f,f,f,f,f,f,f,f,f,t,0.97,t,1.8,t,102,t,0.92,t,111,f,?,SVI,negative\\n72,F,f,f,f,f,f,f,f,f,f,f,f,f,f,f,f,?,f,?,f,?,f,?,f,?,f,?,other,negative\\n65,M,f,f,f,f,f,f,f,f,f,f,f,f,f,f,t,1.3,t,1.5,t,110,t,0.8,t,137,f,?,SVI,negative\\n48,M,f,f,f,f,f,f,f,f,f,f,f,f,f,f,t,2.1,t,1.6,t,96,t,0.79,t,122,f,?,SVI,negative\\n19,M,f,f,f,f,f,f,f,f,f,f,f,f,f,f,t,0.2,t,2.3,t,91,t,0.93,t,98,f,?,SVHC,negative\\n33,F,t,f,f,f,f,f,f,f,f,f,f,f,f,f,t,0.01,f,?,t,132,t,0.87,t,152,f,?,other,negative\\n73,F,f,f,f,f,f,f,f,f,f,f,f,f,f,f,t,2.2,t,1.6,t,129,t,1.22,t,106,f,?,SVI,negative\\n40,F,f,f,f,f,f,f,f,f,f,f,f,t,f,f,t,12,t,2.1,t,81,t,1.09,t,74,f,?,other,compensated_hypothyroid\\n34,F,f,f,f,f,t,f,f,f,f,f,f,f,f,f,t,0.05,t,4.2,t,213,t,1.94,t,110,f,?,STMW,negative\\n70,F,f,f,f,f,f,f,f,f,f,f,f,f,f,f,t,2.2,t,1.8,t,87,t,1.16,t,75,f,?,other,negative\\n78,F,f,f,f,f,f,f,f,f,f,f,f,f,f,f,t,0.58,t,2.2,t,92,t,0.96,t,96,f,?,SVI,negative\\n18,F,f,f,f,f,f,f,f,f,f,f,f,t,f,f,f,?,f,?,f,?,f,?,f,?,f,?,other,negative\\n64,F,f,f,f,f,f,f,f,t,f,f,f,f,f,f,t,2.9,f,?,t,121,t,1,t,121,f,?,other,negative\\n69,F,f,f,f,f,f,f,f,f,f,f,f,f,f,f,t,11.1,t,1.3,t,88,t,1.06,t,83,f,?,other,compensated_hypothyroid\\n66,F,f,f,f,f,f,f,f,t,f,f,f,f,f,f,t,2.1,t,2,t,128,t,1.04,t,123,f,?,SVI,negative\\n53,M,f,f,f,f,f,f,f,f,f,f,f,f,f,f,t,1,t,2.1,t,74,t,0.9,t,83,f,?,SVI,negative\\n30,F,f,f,f,f,f,f,f,f,f,f,t,f,f,f,f,?,t,1.8,t,89,t,1.05,t,85,f,?,other,negative\\n28,F,f,f,f,f,f,f,f,f,f,f,f,f,f,f,t,4.2,t,2.8,t,134,t,1.26,t,107,f,?,other,negative\\n61,F,t,f,f,f,f,f,f,f,f,f,f,f,f,f,t,2.8,t,1.7,t,96,t,0.83,t,116,f,?,other,negative\\n53,F,f,f,f,f,f,f,f,f,t,f,f,f,f,f,t,0.02,t,4.3,t,250,t,1.01,t,247,f,?,other,negative\\n38,M,t,f,f,f,f,f,f,f,f,f,f,f,f,f,t,0.2,t,2,t,78,t,0.85,t,92,f,?,SVI,negative\\n25,F,f,f,f,t,f,f,f,f,f,f,f,t,f,f,t,0.1,t,1.7,t,92,t,0.89,t,103,f,?,other,negative\\n64,M,f,f,f,f,f,f,f,f,f,f,f,f,f,f,t,2.6,t,1.7,t,85,f,?,f,?,f,?,other,negative\\n53,M,f,f,f,f,f,f,f,f,f,f,f,f,f,f,f,?,f,?,t,116,t,0.95,t,122,f,?,other,negative\\n54,?,f,f,f,f,f,f,f,f,f,f,f,f,f,f,t,5.4,t,1.5,t,102,t,0.96,t,106,f,?,SVI,negative\\n76,F,f,f,f,f,f,f,f,f,f,f,f,f,f,f,t,5.6,t,1,t,143,t,0.83,t,173,f,?,SVI,negative\\n26,M,f,f,f,f,f,f,f,f,f,f,f,f,f,f,t,2.9,t,1.7,t,129,t,1.1,t,116,f,?,SVI,negative\\n72,F,f,f,t,f,f,f,f,f,f,f,f,f,f,f,t,0.005,t,2.6,t,82,t,0.89,t,93,f,?,other,negative\\n37,F,f,f,f,f,f,f,f,t,f,f,f,f,f,f,t,27,t,0.9,t,87,t,0.84,t,105,f,?,other,compensated_hypothyroid\\n59,F,f,f,f,f,f,f,f,f,f,f,f,f,f,f,t,0.04,t,2.5,t,161,t,0.83,t,195,f,?,other,negative\\n67,F,t,f,f,f,f,f,f,f,f,f,f,f,f,f,t,0.035,f,?,t,124,t,1.04,t,119,f,?,other,negative\\n47,F,f,f,f,f,f,f,f,f,f,f,f,f,f,f,t,2.3,t,2,t,109,t,1,t,109,f,?,other,negative\\n33,F,f,f,f,f,f,f,f,f,f,f,t,f,f,f,t,0.08,f,?,t,126,t,1,t,126,f,?,other,negative\\n60,M,f,f,f,f,f,f,f,f,f,f,f,f,f,f,t,2.6,t,2.8,t,82,t,0.89,t,93,f,?,SVHC,negative\\n36,F,f,f,f,f,f,f,f,f,f,f,f,f,f,f,t,8.6,t,3.7,t,131,t,1.65,t,79,f,?,SVI,compensated_hypothyroid\\n70,F,f,f,f,f,f,f,f,f,t,f,f,t,f,f,t,0.005,t,3.5,t,194,t,0.9,t,215,f,?,other,negative\\n38,F,t,f,f,f,f,t,f,f,f,f,f,f,f,f,t,0.035,t,1.8,t,130,t,0.87,t,150,f,?,other,negative\\n33,F,f,f,f,f,f,f,f,f,t,f,f,f,f,f,f,?,t,2.3,t,110,t,1.01,t,109,f,?,other,negative\\n36,M,f,f,f,f,f,f,f,f,f,f,f,f,f,f,t,1.5,t,3.3,t,132,t,1.21,t,110,f,?,SVHC,negative\\n46,F,f,f,f,f,f,f,f,f,f,f,f,f,f,f,t,1.9,t,2,t,106,t,1.01,t,104,f,?,SVHC,negative\\n29,?,f,f,f,f,f,f,f,f,f,f,f,f,f,f,t,1,t,1.2,t,84,t,0.67,t,125,f,?,other,negative\\n35,M,f,f,f,f,f,f,f,f,f,f,f,f,f,f,t,0.26,t,1,t,57,t,0.89,t,64,f,?,SVI,negative\\n24,F,f,f,f,f,f,f,f,f,f,f,f,f,f,f,t,0.85,t,3,t,121,t,1.25,t,97,f,?,STMW,negative\\n87,F,f,f,f,f,f,f,f,f,f,f,f,f,f,f,t,15,t,4.5,t,239,t,2.12,t,113,f,?,other,negative\\n13,M,f,f,f,f,f,f,f,f,f,f,f,f,f,f,f,?,t,2.1,t,82,t,0.88,t,93,f,?,other,negative\\n73,F,f,f,f,f,f,f,f,f,t,f,f,f,f,f,t,3.9,t,2.1,t,130,t,1.11,t,116,f,?,SVHD,negative\\n57,M,f,f,f,f,f,f,f,f,f,f,f,f,f,f,t,1.4,f,?,t,82,t,1.07,t,77,f,?,other,negative\\n67,F,t,f,f,f,f,f,f,f,f,f,f,f,f,f,t,1.3,t,2.4,t,87,t,1.09,t,80,f,?,other,negative\\n67,M,f,f,f,f,f,f,f,f,f,f,f,f,f,f,t,0.8,t,2.3,t,104,t,1.04,t,100,f,?,SVI,negative\\n59,F,f,f,f,f,f,f,f,f,f,f,f,f,f,t,t,1.3,t,3.2,t,149,t,1.17,t,127,f,?,SVHC,negative\\n54,F,t,f,f,f,f,f,f,f,f,f,f,f,f,f,t,4,t,2,t,110,t,0.99,t,111,f,?,other,negative\\n46,M,f,f,f,f,f,f,f,f,f,f,f,f,f,f,t,1.4,t,1.5,t,97,t,0.94,t,104,f,?,other,negative\\n40,F,f,f,f,f,f,f,f,f,f,f,f,f,f,f,t,7.2,t,2.3,t,111,t,0.99,t,112,f,?,other,compensated_hypothyroid\\n76,F,f,f,f,f,f,f,f,t,t,f,f,f,f,f,t,39,f,?,t,83,t,1.18,t,70,f,?,other,compensated_hypothyroid\\n62,M,f,f,f,t,f,f,f,f,f,f,f,f,f,f,t,2.2,t,2.8,t,122,t,1.13,t,109,f,?,SVI,negative\\n74,M,f,f,f,f,f,f,f,t,f,f,f,f,f,f,t,3.4,t,1,t,102,t,0.9,t,114,f,?,SVI,negative\\n73,F,f,f,f,f,f,f,f,t,f,f,f,f,f,f,t,1.7,t,1.8,t,198,t,1,t,198,f,?,other,negative\\n31,F,f,f,f,f,t,f,f,f,f,f,f,t,f,f,f,?,t,3,t,158,t,1.01,t,156,f,?,other,negative\\n30,F,f,f,f,f,f,f,f,f,f,f,f,f,f,f,t,0.015,t,2,t,71,t,0.89,t,80,f,?,SVI,negative\\n76,F,f,f,f,f,f,f,f,f,f,f,f,f,f,f,t,3.1,t,2,t,118,t,1.16,t,102,f,?,other,negative\\n51,?,f,f,f,f,f,f,f,f,f,f,f,f,f,f,t,2.1,t,2,t,96,t,0.95,t,101,f,?,SVI,negative\\n64,F,f,f,f,f,f,f,f,f,f,f,f,f,f,f,t,0.05,t,3.1,t,169,t,1.21,t,140,f,?,STMW,negative\\n57,F,f,f,f,f,f,f,f,f,t,f,f,f,f,f,f,?,f,?,f,?,f,?,f,?,f,?,other,negative\\n39,?,f,f,f,f,f,f,f,f,t,f,f,f,f,f,t,0.6,t,2,t,114,t,1,t,114,f,?,SVI,negative\\n65,M,f,f,f,f,f,f,f,f,f,f,f,f,f,t,t,1.6,t,1.8,t,78,t,0.92,t,85,f,?,SVHC,negative\\n67,M,f,f,f,f,f,f,f,f,f,f,f,f,f,f,t,0.1,t,2.1,t,96,t,1.01,t,95,f,?,SVI,negative\\n61,F,f,f,f,f,f,f,f,f,f,f,f,f,f,f,t,1.5,t,1.7,t,111,t,0.94,t,118,f,?,SVI,negative\\n?,F,t,f,f,f,f,f,t,f,f,f,f,f,f,f,t,0.6,t,1.5,t,120,t,0.82,t,146,f,?,other,negative\\n64,F,f,f,f,f,f,f,f,f,f,f,f,f,f,f,t,0.08,t,1.3,t,105,t,1.05,t,101,f,?,SVI,negative\\n31,M,t,f,f,f,f,t,f,f,f,f,f,f,f,f,t,1.6,f,?,t,111,t,1,t,111,f,?,other,negative\\n69,F,f,f,f,f,f,f,f,f,f,f,f,f,f,f,t,1.2,t,2.3,t,110,t,1.12,t,98,f,?,other,negative\\n14,M,f,f,f,f,f,f,f,f,f,f,f,f,f,f,t,5.1,t,2.8,t,93,t,0.86,t,109,f,?,other,negative\\n69,F,f,f,f,f,f,f,f,f,f,f,f,f,f,f,t,1.2,t,2.3,t,104,f,?,f,?,f,?,other,negative\\n62,F,f,f,f,f,f,f,f,f,f,f,f,f,f,f,t,0.4,t,2.2,t,85,t,1.07,t,79,f,?,other,negative\\n22,F,f,f,t,f,f,f,f,f,f,f,f,f,f,f,t,2,t,1.9,t,101,t,0.92,t,109,f,?,other,negative\\n20,F,f,f,f,f,f,f,f,f,f,f,f,f,f,f,t,1.3,t,1.7,t,104,t,0.96,t,108,f,?,other,negative\\n50,F,f,f,f,f,f,t,f,f,f,f,f,f,f,f,t,76,t,0.5,t,22,t,1.12,t,19,f,?,other,negative\\n23,F,f,f,f,f,f,f,f,f,f,f,f,f,f,f,t,2.9,t,2.3,t,192,t,1.47,t,130,f,?,other,negative\\n51,F,f,f,f,f,f,f,f,f,f,f,f,f,f,f,t,4.1,f,?,t,85,t,0.92,t,92,f,?,other,negative\\n67,M,f,f,f,f,f,f,f,f,f,f,f,f,f,f,t,1.9,t,1,t,65,t,0.63,t,105,f,?,SVI,negative\\n21,F,f,f,f,f,f,f,f,f,f,f,f,f,f,t,t,1.4,t,1.6,t,95,t,0.93,t,102,f,?,SVHC,negative\\n53,F,f,f,f,f,f,f,f,f,f,f,f,f,f,t,t,1.5,t,1.6,t,108,t,1.14,t,95,f,?,SVHC,negative\\n66,F,f,f,f,f,f,f,f,f,f,f,f,f,f,f,t,4.5,t,0.5,t,83,t,0.77,t,108,f,?,SVI,negative\\n64,F,f,f,f,f,f,f,f,f,f,f,f,f,f,f,t,2,f,?,t,118,t,1.22,t,97,f,?,other,negative\\n36,F,f,f,f,f,f,f,f,f,f,f,f,f,f,f,t,1.3,t,3.7,t,184,t,1.8,t,102,f,?,STMW,negative\\n48,F,f,f,f,f,f,f,f,f,f,f,f,f,f,f,t,2,t,2.7,t,181,t,1.65,t,109,f,?,SVI,negative\\n34,F,f,f,f,f,f,f,f,f,f,f,f,f,f,f,t,1.2,t,1.6,t,103,t,0.73,t,142,f,?,SVI,negative\\n70,M,f,f,f,f,f,f,f,f,f,f,f,f,f,f,t,0.005,t,1.9,t,103,t,0.95,t,109,f,?,SVI,negative\\n35,M,f,f,f,f,f,f,f,f,f,f,f,f,f,f,t,1.9,f,?,t,73,t,0.77,t,95,f,?,other,negative\\n29,M,f,f,f,f,f,f,f,f,f,f,f,f,f,f,f,?,f,?,f,?,f,?,f,?,f,?,other,negative\\n41,M,t,f,f,f,f,f,f,f,f,f,f,f,f,f,f,?,f,?,f,?,f,?,f,?,f,?,other,negative\\n64,F,f,f,f,f,f,f,f,f,f,f,f,f,f,f,f,?,f,?,f,?,f,?,f,?,f,?,other,negative\\n41,F,f,f,f,f,f,f,f,f,f,f,f,f,f,f,f,?,f,?,f,?,f,?,f,?,f,?,other,negative\\n54,F,f,f,f,t,f,f,f,t,f,f,f,f,f,f,t,0.86,t,1.7,t,98,t,0.96,t,102,f,?,SVI,negative\\n61,F,f,f,f,f,f,f,f,f,f,f,f,f,f,f,t,3.6,f,?,t,129,t,1.14,t,114,f,?,STMW,negative\\n72,F,t,f,f,f,f,f,f,t,f,f,f,f,f,f,t,13,t,1.3,t,106,t,1.31,t,82,f,?,SVI,negative\\n59,M,f,f,f,f,f,f,f,f,f,f,f,f,f,f,f,?,f,?,t,76,t,0.94,t,81,f,?,other,negative\\n88,F,f,f,f,f,f,f,f,f,f,f,f,f,f,f,t,3.5,t,1.6,t,94,t,0.944,t,100,f,?,SVI,negative\\n26,M,f,f,f,f,f,f,f,f,f,f,f,f,f,f,t,5.7,t,2.1,t,73,t,0.74,t,98,f,?,other,negative\\n37,M,f,f,f,f,f,f,f,f,f,f,f,f,f,f,f,?,f,?,t,98,t,0.83,t,119,f,?,other,negative\\n14,M,f,f,f,f,f,f,f,f,f,f,f,f,f,f,t,2.9,t,3.1,t,112,t,1.06,t,106,f,?,other,negative\\n76,M,f,f,f,f,f,f,f,f,f,f,f,f,f,f,t,0.3,t,2.3,t,146,t,1,t,146,f,?,SVI,negative\\n59,F,f,f,f,f,f,f,f,f,f,f,f,f,f,f,t,0.8,t,2.3,t,94,f,?,f,?,f,?,other,negative\\n62,F,f,f,f,f,f,f,f,f,f,f,f,f,f,f,t,2.3,t,2.3,t,92,t,0.95,t,97,f,?,SVI,negative\\n58,F,f,f,f,f,f,f,f,f,f,f,f,f,f,f,t,2.2,t,2.1,t,114,t,0.94,t,121,f,?,SVI,negative\\n75,F,f,f,f,f,f,f,f,f,f,f,f,f,f,f,t,0.8,t,2.5,t,141,t,1.28,t,110,f,?,SVHD,negative\\n27,F,f,f,f,f,f,f,f,f,f,f,f,t,f,f,t,1.4,f,?,t,78,t,0.86,t,90,f,?,other,negative\\n19,F,f,f,f,f,f,f,f,f,f,f,f,f,f,f,t,3.2,t,3.6,t,139,t,1.53,t,91,f,?,other,negative\\n18,M,f,f,f,f,f,f,f,f,f,f,f,f,f,f,t,1.3,f,?,t,91,t,0.98,t,93,f,?,SVI,negative\\n65,F,f,f,f,f,f,f,f,f,f,f,f,f,f,f,t,1.9,t,1.8,t,84,t,0.91,t,93,f,?,SVI,negative\\n25,F,f,f,f,f,f,f,f,f,f,f,f,f,f,f,t,0.3,t,4.1,t,158,t,1.42,t,111,f,?,other,negative\\n40,M,f,f,f,f,f,f,f,f,f,f,f,f,f,f,t,0.25,t,2.3,t,134,t,0.84,t,160,f,?,SVI,negative\\n73,M,f,f,f,f,f,f,f,f,f,f,f,f,f,f,f,?,f,?,t,91,t,0.8,t,113,f,?,other,negative\\n78,F,f,f,f,f,f,f,f,f,f,f,f,f,f,f,t,2.1,t,2.1,t,141,t,0.85,t,167,f,?,SVI,negative\\n51,F,f,f,f,f,f,f,f,f,f,f,f,f,f,f,f,?,f,?,f,?,f,?,f,?,f,?,other,negative\\n27,F,t,f,f,f,f,f,f,t,t,f,f,f,f,f,f,?,t,1.9,f,?,f,?,f,?,f,?,other,negative\\n34,M,f,f,f,f,f,f,f,f,f,f,f,f,f,f,t,1.1,t,1.8,t,93,t,0.9,t,103,f,?,other,negative\\n64,F,t,f,f,f,f,f,f,f,f,f,f,f,f,f,t,32,t,1.4,t,85,t,1.18,t,71,f,?,other,negative\\n74,F,f,f,f,t,f,f,f,f,f,f,f,f,f,f,t,3,t,1.2,t,96,t,0.93,t,103,f,?,SVI,negative\\n33,F,f,f,f,f,f,f,f,f,f,f,f,f,f,f,f,?,f,?,f,?,f,?,f,?,f,?,other,negative\\n16,M,f,f,f,f,f,f,f,f,f,f,t,f,f,f,t,0.5,t,3.2,t,137,t,1.16,t,119,f,?,SVI,negative\\n57,M,f,f,f,f,f,f,f,f,f,f,f,f,f,f,t,0.8,t,1.9,t,109,t,0.78,t,139,f,?,SVI,negative\\n58,F,f,f,f,f,f,f,f,f,f,f,f,f,f,f,t,0.05,t,2.6,t,132,t,1.03,t,128,f,?,SVI,negative\\n60,F,t,f,f,f,f,f,f,f,f,f,f,f,f,f,t,0.1,f,?,t,150,t,0.99,t,151,f,?,other,negative\\n69,F,f,f,f,f,f,f,f,f,f,f,f,f,f,f,t,0.005,t,1.7,t,116,f,?,f,?,f,?,SVI,negative\\n30,?,f,f,f,f,f,f,f,f,f,f,f,f,f,f,t,0.9,t,1.9,t,76,t,0.83,t,92,f,?,other,negative\\n64,M,f,f,f,f,f,f,f,f,f,f,f,f,f,f,t,0.44,t,2.5,t,89,t,0.97,t,92,f,?,SVI,negative\\n70,F,f,f,f,f,f,f,f,f,f,f,f,f,f,f,t,1.5,t,0.8,t,99,t,0.79,t,126,f,?,SVI,negative\\n65,F,f,f,f,f,f,f,f,f,f,f,f,f,f,f,t,2.8,t,2.1,t,84,t,0.87,t,96,f,?,other,negative\\n59,F,f,f,f,f,f,f,t,f,f,f,f,f,f,f,t,9.7,f,?,t,81,t,0.96,t,84,f,?,other,compensated_hypothyroid\\n54,F,t,f,f,f,f,f,f,f,f,f,f,f,f,f,t,0.3,t,2.3,t,134,t,0.82,t,163,f,?,other,negative\\n72,F,f,f,f,f,f,f,f,f,f,f,f,f,f,f,t,3.9,t,2.5,t,87,t,1.11,t,78,f,?,SVI,negative\\n89,M,f,f,f,f,f,f,f,f,f,f,f,f,f,f,t,0.8,t,0.6,t,101,t,0.73,t,138,f,?,SVI,negative\\n54,M,f,f,f,f,f,f,f,f,f,f,f,f,f,f,t,0.7,t,2,t,101,t,1.09,t,92,f,?,SVI,negative\\n43,F,f,f,f,f,f,f,f,f,f,f,f,f,f,f,t,2.2,t,2.2,t,93,t,1.17,t,80,f,?,other,negative\\n55,F,f,f,f,f,f,f,f,f,t,f,f,f,f,f,t,0.035,t,4.4,t,195,t,0.82,t,237,f,?,other,negative\\n76,F,f,f,f,f,f,f,f,t,f,f,f,f,f,f,t,0.9,t,2.2,t,105,t,1.09,t,96,f,?,other,negative\\n63,F,f,f,f,f,f,f,f,t,f,f,f,f,f,f,t,6.5,t,0.7,t,86,t,0.72,t,120,f,?,SVI,compensated_hypothyroid\\n79,F,f,f,f,f,f,f,f,f,f,f,f,f,f,f,t,2,t,1.2,t,88,t,0.85,t,104,f,?,SVI,negative\\n63,F,f,f,f,f,f,f,f,f,f,f,f,f,f,f,t,126,t,1.3,t,39,t,1.08,t,37,f,?,other,primary_hypothyroid\\n84,F,f,f,f,f,f,f,f,f,f,f,f,f,f,t,t,1.4,t,2.5,t,134,t,1.12,t,120,f,?,SVHC,negative\\n20,M,f,f,f,f,f,f,f,f,f,f,f,f,f,f,t,0.1,t,1.3,t,77,f,?,f,?,f,?,SVI,negative\\n43,M,f,f,f,f,f,f,f,f,f,f,f,f,f,f,t,0.9,t,2.7,t,109,t,1.1,t,99,f,?,other,negative\\n38,F,t,f,f,f,f,f,f,f,f,f,f,f,f,f,t,0.93,t,1.6,t,131,t,1.3,t,101,f,?,other,negative\\n26,F,f,f,f,f,f,f,f,f,f,f,f,f,f,f,f,?,f,?,f,?,f,?,f,?,f,?,other,negative\\n55,F,f,f,f,f,f,f,f,f,f,f,f,f,f,f,t,3.6,t,2,t,96,t,1.1,t,88,f,?,other,negative\\n57,M,f,f,f,f,f,f,f,f,f,f,f,f,f,f,t,0.58,t,2.5,t,89,t,0.99,t,89,f,?,other,negative\\n60,M,f,f,f,f,f,f,f,f,f,f,f,f,f,f,t,5.8,t,1.8,t,98,t,0.87,t,112,f,?,other,negative\\n62,F,f,f,f,f,f,f,f,f,f,f,f,f,f,f,t,0.02,t,2,t,113,t,1.03,t,110,f,?,other,negative\\n48,F,f,f,f,f,f,f,f,f,f,f,f,f,f,f,t,0.74,t,2.9,t,100,t,1.06,t,95,f,?,other,negative\\n42,F,t,f,f,f,f,f,f,t,f,f,f,f,f,f,t,2.9,f,?,t,141,t,1.08,t,131,f,?,other,negative\\n49,F,f,f,f,f,f,f,f,f,f,f,f,f,f,f,t,0.1,t,2.5,t,109,t,1.08,t,100,f,?,other,negative\\n32,M,f,f,f,f,f,f,f,f,f,f,f,f,f,f,t,1,t,2.9,t,152,t,1.17,t,130,f,?,SVHC,negative\\n26,F,f,f,f,f,f,f,f,f,f,f,f,t,f,f,t,6.2,f,?,t,86,t,0.9,t,95,f,?,other,compensated_hypothyroid\\n24,F,f,f,f,f,f,f,f,f,f,f,f,f,f,t,t,1.3,t,1.8,t,95,t,0.82,t,116,f,?,SVHC,negative\\n28,F,f,f,t,f,f,f,f,f,f,f,f,f,f,f,t,3.7,t,2.8,t,100,f,?,f,?,f,?,other,negative\\n32,M,f,f,f,f,f,f,f,f,f,f,f,f,f,f,t,0.7,t,2.9,t,90,t,1.02,t,88,f,?,SVHC,negative\\n70,F,f,f,f,f,f,f,f,f,f,f,f,f,f,f,t,1.7,t,1.8,t,167,t,0.88,t,189,f,?,SVI,negative\\n73,M,t,f,f,f,f,f,f,f,f,f,f,f,f,f,t,1.4,t,0.8,t,61,t,0.49,t,124,f,?,other,negative\\n68,M,f,f,f,f,f,f,f,f,f,f,f,f,f,f,t,1.3,t,2,t,131,t,1.07,t,122,f,?,SVI,negative\\n42,F,f,f,f,f,f,f,f,f,f,f,f,f,f,f,t,13,t,1.9,t,61,t,0.82,t,74,f,?,SVI,compensated_hypothyroid\\n46,F,f,f,f,f,f,f,f,f,f,f,f,f,f,f,t,0.15,t,3,t,161,t,0.93,t,174,f,?,other,negative\\n60,M,f,f,f,f,f,f,f,f,f,f,f,f,f,f,t,12,t,1.7,t,67,t,0.87,t,77,f,?,other,compensated_hypothyroid\\n25,F,t,f,f,f,f,f,f,t,f,f,f,f,f,f,t,0.7,f,?,t,183,t,1.41,t,130,f,?,other,negative\\n25,F,f,f,f,f,f,f,f,f,f,f,f,f,f,f,t,26.4,t,2.3,t,73,t,1.09,t,67,f,?,other,compensated_hypothyroid\\n49,M,f,t,f,f,f,f,f,f,f,f,f,f,f,f,t,0.1,t,1.3,t,82,t,1,t,82,f,?,SVI,negative\\n58,M,t,f,f,f,f,f,f,f,f,f,f,f,f,f,t,0.22,t,2.6,t,156,t,1.11,t,140,f,?,other,negative\\n27,F,f,f,f,f,f,f,f,f,f,f,f,f,f,f,t,0.15,t,2.8,t,199,t,1.46,t,137,f,?,STMW,negative\\n75,F,t,f,f,f,f,f,f,f,f,f,f,f,f,f,t,1.6,t,1.6,t,102,t,0.94,t,109,f,?,other,negative\\n57,F,f,f,f,f,f,f,f,f,f,f,f,f,f,f,t,1.9,f,?,t,85,t,0.79,t,108,f,?,other,negative\\n34,M,f,f,f,f,f,f,f,f,f,f,f,f,f,f,t,1.8,t,2.2,t,78,t,0.77,t,102,f,?,SVHC,negative\\n53,F,f,f,f,f,f,f,f,f,f,f,f,f,f,f,t,0.83,f,?,t,193,t,1.33,t,144,f,?,other,negative\\n42,F,f,f,f,f,f,f,f,f,f,f,f,f,f,f,t,1.9,t,2,t,114,t,1.33,t,86,f,?,other,negative\\n36,M,f,f,f,f,f,f,f,f,f,f,f,f,f,f,t,0.25,t,2.5,t,102,t,0.96,t,106,f,?,other,negative\\n46,F,f,f,f,f,f,f,f,f,f,f,f,f,f,f,t,4.7,t,1.9,t,96,t,1.12,t,85,f,?,SVI,negative\\n30,F,f,f,f,f,f,f,f,f,f,f,f,f,f,f,t,4.3,t,2,t,82,f,?,f,?,f,?,other,negative\\n25,M,f,f,f,f,f,f,f,f,f,t,f,f,f,f,t,2.1,f,?,t,101,t,1,t,101,f,?,SVHC,negative\\n64,M,t,f,f,f,f,f,f,f,f,f,f,f,f,f,t,1.8,t,1.4,t,117,t,0.97,t,121,f,?,other,negative\\n46,F,t,f,f,f,f,f,f,f,f,f,f,f,f,f,t,0.025,t,2.7,t,107,t,0.77,t,139,f,?,other,negative\\n56,M,f,f,f,f,f,f,f,f,f,f,f,f,f,f,t,0.93,t,2.1,t,92,t,0.85,t,109,f,?,other,negative\\n54,M,f,f,f,f,f,f,f,f,f,f,f,f,f,f,t,3.3,f,?,t,147,t,1.07,t,138,f,?,other,negative\\n78,F,f,f,f,f,f,f,f,f,f,f,f,f,f,f,t,1.9,t,2.4,t,109,f,?,f,?,f,?,other,negative\\n50,F,f,f,f,f,f,f,f,f,f,f,f,f,f,f,t,2.3,t,2,t,127,t,1.13,t,113,f,?,SVI,negative\\n35,F,f,f,f,f,f,f,f,f,f,f,t,f,f,f,f,?,f,?,t,89,t,1.1,t,81,f,?,other,negative\\n58,F,t,f,f,f,f,f,f,f,f,f,f,f,f,f,t,5.4,t,1.6,t,105,f,?,f,?,f,?,other,negative\\n68,?,f,f,f,f,f,f,f,f,f,f,f,f,f,f,t,26,t,0.3,t,6,t,0.8,t,7.6,f,?,other,primary_hypothyroid\\n65,F,f,f,f,f,f,f,f,f,f,f,f,f,f,f,t,1.8,t,2.6,t,121,t,1.05,t,115,f,?,other,negative\\n70,F,f,f,f,f,f,f,f,f,t,f,f,f,f,f,t,1,t,1.8,t,112,t,1.06,t,106,f,?,SVI,negative\\n78,F,f,f,f,f,f,f,f,f,f,f,f,f,f,f,t,1.3,t,1.9,t,126,t,0.9,t,141,f,?,SVI,negative\\n24,F,f,f,f,f,f,f,f,f,f,f,f,f,f,f,t,1.6,t,2.2,t,139,t,1.02,t,136,f,?,SVHC,negative\\n60,F,f,f,f,f,f,f,f,f,f,f,f,f,f,f,t,0.035,t,0.3,t,87,t,0.69,t,126,f,?,SVI,negative\\n78,F,f,f,f,t,f,f,f,f,f,f,f,f,f,f,t,0.7,t,1.6,t,102,t,1.23,t,83,f,?,SVI,negative\\n35,M,f,f,f,f,f,f,f,f,f,f,f,f,f,f,t,1.2,t,2.7,t,137,t,1.19,t,115,f,?,SVHC,negative\\n74,F,f,f,f,f,f,f,t,f,f,f,f,f,f,f,t,1.1,t,2.4,t,95,t,1.09,t,86,f,?,other,negative\\n35,F,f,f,f,f,f,f,f,f,f,f,f,f,f,f,t,1.5,t,2.4,t,111,t,1.52,t,73,f,?,STMW,negative\\n61,M,f,f,f,f,f,f,f,f,f,f,f,f,f,f,t,7.9,t,2.9,t,116,t,1.02,t,114,f,?,other,compensated_hypothyroid\\n60,F,t,f,f,f,f,f,f,f,f,f,f,f,f,f,t,0.2,f,?,t,159,t,1.07,t,149,f,?,other,negative\\n80,F,t,f,f,f,f,f,f,f,f,f,f,f,f,f,t,2.5,t,1.8,t,112,t,0.99,t,113,f,?,other,negative\\n56,F,f,f,f,f,f,f,t,f,f,f,f,f,f,f,t,2.7,t,1.5,t,103,t,0.95,t,109,f,?,other,negative\\n50,F,f,f,f,f,f,f,f,f,f,f,f,f,f,f,t,2.8,t,2,t,116,t,1.26,t,92,f,?,other,negative\\n25,F,f,f,f,f,f,f,f,f,f,f,f,t,f,f,t,0.53,t,1.8,t,107,t,0.93,t,115,f,?,other,negative\\n78,F,f,f,f,f,f,f,f,f,f,f,f,f,f,f,t,1.4,t,2,t,130,t,0.93,t,139,f,?,SVI,negative\\n49,M,f,f,f,f,f,f,f,f,f,f,f,f,f,f,t,0.5,t,1.8,t,86,t,0.82,t,105,f,?,SVHC,negative\\n72,F,t,f,f,f,f,f,f,f,f,f,f,f,f,f,t,0.97,t,2,t,164,f,?,f,?,f,?,other,negative\\n32,M,f,f,f,f,f,f,f,f,f,f,f,f,f,t,t,1.5,t,1.8,t,93,t,0.93,t,100,f,?,SVHC,negative\\n34,M,f,f,f,f,f,f,f,f,f,f,f,f,f,f,t,4,t,1.8,t,135,t,1,t,134,f,?,SVI,negative\\n47,?,f,f,f,f,f,f,f,f,f,f,f,f,f,f,t,1.9,t,2.4,t,102,t,1.31,t,78,f,?,SVHC,negative\\n39,M,f,f,f,f,f,f,f,f,f,f,f,f,f,f,t,2.3,t,2.5,t,130,t,1.01,t,129,f,?,other,negative\\n37,M,f,f,f,f,f,f,f,f,f,f,f,f,f,f,t,2.6,t,2.2,t,80,t,1.07,t,75,f,?,other,negative\\n66,F,f,f,f,f,f,f,f,f,f,f,f,f,f,f,t,0.15,t,0.8,t,90,t,0.77,t,117,f,?,SVI,negative\\n67,F,f,f,f,f,f,f,f,f,f,f,f,f,f,f,t,2.1,t,1.4,t,119,t,0.98,t,121,f,?,SVI,negative\\n36,M,f,t,f,f,f,f,f,f,f,f,f,f,f,f,t,0.5,f,?,t,101,t,0.86,t,117,f,?,other,negative\\n14,F,f,f,f,t,f,f,f,f,f,f,f,f,f,f,t,0.78,t,2.2,t,78,t,0.88,t,89,f,?,SVI,negative\\n50,F,f,f,f,f,f,f,f,f,f,f,f,f,f,f,t,1.8,t,2.5,t,114,t,1.11,t,103,f,?,SVHC,negative\\n89,F,f,f,f,f,f,f,f,f,f,f,f,f,f,f,t,3.3,t,2.2,t,105,t,0.94,t,112,f,?,SVI,negative\\n60,F,f,f,f,f,f,f,f,f,f,f,f,f,f,f,t,1.6,t,2.1,t,112,t,0.98,t,114,f,?,other,negative\\n66,M,f,f,f,f,f,f,f,f,f,f,f,f,f,f,t,0.8,t,1.8,t,114,t,0.92,t,124,f,?,SVI,negative\\n44,F,f,f,f,f,f,f,f,f,f,f,f,f,f,f,t,1.4,t,2.4,t,112,t,1.01,t,111,f,?,other,negative\\n58,F,t,f,f,f,f,f,f,f,f,f,f,f,f,f,t,0.49,f,?,t,172,t,1.15,t,150,f,?,other,negative\\n57,F,t,f,f,f,f,f,f,f,f,f,f,f,f,f,t,0.2,f,?,t,121,t,0.79,t,153,f,?,other,negative\\n70,F,f,f,f,f,f,f,f,f,t,f,f,f,f,f,t,0.08,t,2.1,t,136,t,1.07,t,127,f,?,other,negative\\n27,M,f,f,f,f,f,f,f,f,f,f,f,f,f,f,t,2.3,t,1.9,t,94,t,1.05,t,89,f,?,other,negative\\n69,M,t,f,f,f,f,f,t,f,t,f,f,f,f,f,t,0.3,t,2.6,t,89,t,1.1,t,81,f,?,other,negative\\n75,F,f,f,f,f,f,f,f,f,f,f,f,f,f,f,f,?,f,?,f,?,f,?,f,?,f,?,other,negative\\n42,F,f,f,f,f,f,f,f,f,t,f,f,f,f,f,f,?,t,1.1,t,93,t,0.78,t,119,f,?,other,negative\\n60,F,f,f,f,f,f,f,f,f,f,f,f,f,f,f,f,?,f,?,t,116,t,1.06,t,109,f,?,other,negative\\n60,M,f,f,f,f,f,f,f,f,f,f,f,f,f,f,t,0.4,t,2,t,113,t,1.03,t,110,f,?,other,negative\\n56,?,f,f,f,f,f,f,f,f,f,f,f,f,f,f,f,?,f,?,f,?,f,?,f,?,f,?,other,negative\\n79,F,f,f,f,f,f,f,f,f,f,f,f,f,f,f,t,1.4,t,1.6,t,121,t,1.13,t,107,f,?,other,negative\\n28,M,f,f,f,f,f,f,f,f,f,f,f,f,f,f,t,0.045,t,2.6,t,143,t,1.07,t,134,f,?,other,negative\\n66,F,f,f,f,f,f,f,f,f,f,f,f,f,f,f,t,0.6,t,2.4,t,100,t,1,t,100,f,?,SVI,negative\\n42,M,f,f,f,f,f,f,f,f,f,f,f,f,f,t,t,3.1,t,2.1,t,134,t,1,t,135,f,?,SVHC,negative\\n74,F,f,f,f,t,f,f,f,f,f,f,f,f,f,f,t,5.4,t,1.4,t,109,t,0.83,t,131,f,?,SVI,negative\\n52,F,f,f,f,f,f,f,f,f,t,f,f,f,f,f,t,0.15,t,2.7,t,133,t,1.05,t,127,f,?,SVI,negative\\n34,F,f,f,f,f,f,f,f,f,f,f,f,f,f,f,t,0.15,t,2.7,t,96,t,1.05,t,91,f,?,other,negative\\n61,F,t,f,f,f,f,f,f,f,f,f,f,f,f,f,t,3.9,t,2.7,t,84,t,1.03,t,81,f,?,other,negative\\n83,M,f,f,f,f,f,f,f,f,f,f,f,f,f,f,t,2.3,t,0.9,t,56,t,0.67,t,84,f,?,SVHC,negative\\n47,M,f,f,f,t,f,f,f,f,f,f,f,f,f,f,t,1.1,f,?,t,94,t,0.97,t,97,f,?,SVI,negative\\n49,M,f,f,f,f,f,f,f,f,f,f,f,f,f,f,t,1,t,2.8,t,141,t,1.11,t,127,f,?,other,negative\\n78,M,f,f,f,f,f,f,f,f,f,f,f,f,f,f,t,0.71,t,0.5,t,105,t,0.82,t,129,f,?,other,negative\\n52,M,f,f,f,f,f,f,f,f,f,f,f,f,f,f,t,0.25,f,?,t,119,t,0.92,t,129,f,?,other,negative\\n40,M,f,f,f,f,f,f,f,f,f,f,f,f,f,f,t,0.65,t,1.7,t,101,t,0.93,t,109,f,?,SVI,negative\\n19,F,f,f,f,f,f,f,f,f,f,f,f,f,f,f,t,3,t,2.1,t,80,t,0.89,t,91,f,?,other,negative\\n35,F,f,f,f,f,f,f,f,f,f,f,f,f,f,f,t,3,t,2.9,t,87,t,1.1,t,79,f,?,SVHC,negative\\n61,M,f,f,f,t,f,f,f,f,f,f,f,f,f,f,t,1.1,t,2.2,t,83,t,0.83,t,101,f,?,SVHD,negative\\n76,M,t,f,f,f,f,f,f,t,f,f,f,f,f,f,t,1.2,t,2.1,t,81,t,0.94,t,86,f,?,other,negative\\n60,F,t,t,f,f,f,f,f,f,f,f,f,f,f,f,f,?,t,1.7,t,75,t,1.03,t,72,f,?,other,negative\\n29,F,f,f,f,f,f,f,f,f,f,f,f,f,f,f,t,0.31,f,?,t,146,t,1.04,t,141,f,?,other,negative\\n52,M,f,f,f,f,f,f,f,f,f,f,f,f,f,f,t,9.2,t,2.2,t,72,t,1.08,t,66,f,?,other,compensated_hypothyroid\\n68,F,f,f,f,f,f,f,f,f,f,f,f,f,f,f,t,3.7,t,1.9,t,67,t,0.95,t,72,f,?,SVI,negative\\n39,F,f,f,f,f,f,f,f,f,f,f,f,f,f,f,t,0.15,t,1.6,t,74,t,0.89,t,83,f,?,SVI,negative\\n63,?,f,f,f,f,f,f,f,f,f,f,f,f,f,f,t,7.7,t,1.9,t,89,t,1.04,t,85,f,?,SVI,compensated_hypothyroid\\n27,F,f,t,f,f,t,f,f,f,f,f,f,f,f,f,f,?,t,4,t,187,t,1.88,t,100,f,?,other,negative\\n61,M,f,f,f,f,f,f,f,f,f,f,f,f,f,f,t,1.2,f,?,t,93,t,0.94,t,98,f,?,SVI,negative\\n38,M,f,f,f,f,f,f,f,f,f,f,f,f,f,f,t,0.1,t,1.5,t,106,t,0.79,t,134,f,?,SVI,negative\\n65,F,f,f,f,f,f,f,f,t,f,f,f,f,f,f,t,0.5,f,?,t,90,t,1.09,t,83,f,?,other,negative\\n61,F,t,f,f,f,f,f,f,f,f,f,f,f,f,f,t,0.25,f,?,t,87,t,0.79,t,109,f,?,other,negative\\n53,M,f,f,f,f,f,f,f,f,f,f,f,f,f,f,t,5.2,t,2,t,88,t,1.04,t,85,f,?,SVI,negative\\n74,F,t,f,f,f,f,f,f,t,f,f,f,f,f,f,t,21,t,1.8,t,126,t,1.18,t,107,f,?,other,negative\\n70,F,f,f,f,f,f,f,f,f,f,f,f,f,f,f,t,0.8,t,2,t,109,t,0.85,t,129,f,?,SVI,negative\\n58,M,f,f,f,f,f,f,f,f,f,f,f,f,f,f,t,0.6,t,2,t,107,t,0.95,t,113,f,?,SVI,negative\\n69,F,f,f,f,f,f,f,f,f,f,f,f,f,f,f,t,2.2,t,1.8,t,92,f,?,f,?,f,?,other,negative\\n49,F,f,f,f,f,f,f,f,f,t,f,f,f,f,f,f,?,f,?,f,?,f,?,f,?,f,?,other,negative\\n36,M,f,f,f,f,f,f,f,f,f,f,f,f,f,f,t,0.74,t,1.5,t,72,t,0.5,t,145,f,?,SVHC,negative\\n84,F,f,f,f,f,f,f,f,f,f,f,f,f,f,f,t,0.7,t,1.6,t,70,t,0.93,t,75,f,?,SVI,negative\\n47,M,f,f,f,f,f,f,f,f,f,f,f,f,f,f,t,3.3,t,1.8,t,91,t,0.92,t,99,f,?,SVI,negative\\n48,F,f,f,f,f,f,f,f,f,f,f,f,f,f,f,t,2.9,t,2.2,t,146,t,1.48,t,98,f,?,SVI,negative\\n73,F,f,f,f,f,f,f,f,f,t,f,f,f,f,f,t,2.5,t,2,t,134,t,1.17,t,115,f,?,SVHD,negative\\n26,F,f,f,f,f,f,f,f,f,f,f,f,f,f,f,t,1.4,f,?,t,106,t,1.28,t,84,f,?,other,negative\\n55,M,f,f,f,f,f,f,f,f,f,f,f,f,f,f,t,2.2,t,1.6,t,84,t,0.91,t,92,f,?,other,negative\\n11,F,f,f,f,f,f,f,f,f,f,f,f,f,f,f,f,?,f,?,t,89,t,0.89,t,100,f,?,other,negative\\n38,M,f,f,f,f,f,f,f,f,f,f,f,f,f,f,t,1.7,f,?,f,?,f,?,f,?,f,?,other,negative\\n37,F,f,f,f,f,f,f,f,f,f,f,f,f,f,f,t,12,t,2.4,t,84,t,1.24,t,68,f,?,STMW,compensated_hypothyroid\\n32,F,f,f,f,f,f,f,f,f,f,f,f,f,f,f,t,2.4,f,?,t,59,t,0.5,t,119,f,?,other,negative\\n24,F,f,f,f,f,f,f,f,t,f,f,f,f,f,f,t,1.4,t,2.3,t,73,t,1.09,t,67,f,?,other,negative\\n42,M,f,f,f,f,f,f,f,f,f,f,f,f,f,f,t,1.3,t,1.7,t,84,t,0.63,t,133,f,?,other,negative\\n61,F,f,f,f,f,f,f,f,f,f,f,f,f,f,f,t,0.88,t,0.3,t,46,t,0.58,t,79,f,?,SVI,negative\\n71,F,t,f,f,f,f,f,f,f,f,f,f,f,f,f,t,3.6,t,1.7,t,89,t,1.04,t,86,f,?,other,negative\\n66,F,f,f,f,f,f,f,f,f,f,f,f,f,f,f,t,1.9,t,1.3,t,109,t,1.04,t,105,f,?,other,negative\\n38,F,f,f,f,f,f,f,f,f,f,f,f,f,f,f,t,0.4,t,2.4,t,102,t,1.12,t,92,f,?,other,negative\\n70,M,f,f,f,f,f,f,f,f,f,f,f,f,f,f,t,0.9,t,2.6,t,92,t,0.89,t,103,f,?,other,negative\\n46,F,f,f,f,f,f,f,t,f,f,f,f,f,f,f,t,5,t,2,t,107,t,1.14,t,94,f,?,other,negative\\n72,F,t,f,f,f,f,f,f,f,f,f,f,f,f,f,t,2.9,t,1.2,t,174,f,?,f,?,f,?,other,negative\\n83,?,f,f,f,f,f,f,f,f,t,f,f,f,f,f,t,1.7,t,1.5,t,97,t,0.98,t,99,f,?,other,negative\\n59,F,f,f,f,f,f,f,f,f,f,f,f,t,f,f,t,0.05,t,3.6,t,94,t,1.02,t,92,f,?,SVI,negative\\n36,F,f,f,f,f,f,f,f,f,f,f,f,f,f,t,t,0.25,t,1.7,t,83,t,0.92,t,90,f,?,SVHC,negative\\n77,F,f,f,f,f,f,f,f,f,f,f,f,f,f,f,t,2.3,t,1.7,t,92,t,0.96,t,96,f,?,other,negative\\n26,M,f,f,f,f,f,f,f,f,f,f,t,f,f,f,t,2.2,t,2.9,t,85,t,1.08,t,79,f,?,other,negative\\n40,M,f,f,f,f,f,f,f,f,f,f,f,f,f,f,t,0.05,t,2.5,t,131,t,0.91,t,144,f,?,SVI,negative\\n57,M,f,f,f,f,f,f,f,f,f,f,f,f,f,f,t,0.8,f,?,t,82,t,0.99,t,83,f,?,SVHC,negative\\n44,M,f,f,f,f,f,f,f,f,f,f,f,f,f,f,t,0.6,t,2.7,t,107,t,0.86,t,125,f,?,SVI,negative\\n41,F,f,f,f,f,f,f,f,f,f,f,f,f,f,t,t,0.3,t,1.9,t,117,t,1.08,t,108,f,?,SVHC,negative\\n25,?,f,f,f,f,f,f,f,t,f,f,f,f,f,f,t,36,t,4.5,t,162,t,1.15,t,142,f,?,STMW,negative\\n54,F,t,f,f,f,f,f,f,f,f,t,f,f,f,f,t,0.94,t,1.3,t,78,t,1.12,t,70,f,?,SVHC,negative\\n46,F,f,f,f,f,f,f,f,f,f,f,f,f,f,t,t,1.7,t,2.3,t,136,t,1.07,t,127,f,?,SVHC,negative\\n62,?,f,f,f,f,f,f,f,f,f,f,f,f,f,f,t,2.2,t,2,t,117,t,0.8,t,145,f,?,other,negative\\n70,F,t,f,f,f,f,f,f,f,f,f,f,f,f,f,t,8.5,f,?,t,127,t,1.05,t,121,f,?,other,negative\\n48,F,t,f,f,f,f,f,f,t,f,f,f,f,f,f,t,178,t,1,t,63,t,1.08,t,59,f,?,other,primary_hypothyroid\\n51,F,f,f,f,f,f,f,f,f,f,f,f,f,f,f,t,0.02,t,3.3,t,200,t,1,t,200,f,?,SVI,negative\\n65,F,f,f,f,f,f,f,f,f,f,f,f,f,f,f,t,0.25,t,2.2,t,81,t,0.9,t,90,f,?,SVI,negative\\n52,F,f,f,f,f,f,f,f,f,f,f,f,f,f,f,t,0.6,t,1.9,t,92,t,1.05,t,88,f,?,other,negative\\n72,F,f,f,f,f,f,f,f,f,f,f,f,f,f,f,t,9.7,t,1.1,t,77,t,0.79,t,97,f,?,SVI,compensated_hypothyroid\\n67,F,f,f,f,f,f,f,f,f,f,f,f,f,f,f,t,1.7,t,1.9,t,103,t,0.99,t,104,f,?,other,negative\\n67,M,f,f,f,f,f,f,f,f,f,f,f,f,f,f,t,0.67,t,1.8,t,80,t,0.86,t,93,f,?,SVI,negative\\n18,M,f,f,f,f,f,f,f,f,f,f,f,f,f,f,f,?,f,?,t,95,t,0.93,t,102,f,?,other,negative\\n75,F,f,f,f,f,t,f,f,f,f,f,f,f,f,f,t,0.46,t,2.9,t,139,t,1.53,t,91,f,?,other,negative\\n69,F,f,f,f,f,f,f,f,f,f,f,f,f,f,f,t,0.75,t,1.6,t,100,t,0.93,t,107,f,?,other,negative\\n53,M,t,f,f,f,f,f,f,f,f,f,f,f,f,f,t,1.5,t,2.8,t,130,t,1.01,t,128,f,?,other,negative\\n70,F,f,f,f,f,f,f,f,f,f,f,f,f,f,f,f,?,f,?,f,?,f,?,f,?,f,?,other,negative\\n17,F,f,f,f,f,f,t,f,f,f,f,f,f,f,f,t,145,t,1.2,t,36,t,1.5,t,24,f,?,other,negative\\n38,F,f,f,f,f,f,f,f,f,f,f,f,f,f,f,t,1.7,t,2.7,t,130,f,?,f,?,f,?,SVI,negative\\n73,F,f,f,f,f,f,f,f,f,f,f,f,f,f,f,t,0.7,t,2,t,116,t,0.99,t,117,f,?,other,negative\\n75,F,f,f,f,f,f,t,f,f,f,f,f,f,f,f,t,0.83,t,1.9,t,116,t,0.99,t,117,f,?,SVI,negative\\n41,M,f,f,f,f,f,f,f,f,f,f,f,f,f,f,t,2,t,2.8,t,110,t,1.14,t,97,f,?,SVI,negative\\n76,?,f,f,f,f,f,f,f,f,f,f,f,f,f,f,t,2,t,3.7,t,142,t,1.13,t,126,f,?,SVI,negative\\n71,?,f,f,f,f,f,f,f,f,f,f,f,f,f,t,t,1.1,t,2.4,t,122,t,1.12,t,109,f,?,other,negative\\n72,M,f,f,f,f,f,f,t,f,f,f,f,f,f,f,t,5.7,t,1.4,t,92,t,0.99,t,93,f,?,other,negative\\n30,M,f,f,f,f,f,f,f,f,f,f,f,f,f,f,f,?,f,?,f,?,f,?,f,?,f,?,other,negative\\n35,M,f,f,f,f,f,f,f,f,f,f,f,f,f,f,t,0.97,t,2.4,t,81,t,0.75,t,109,f,?,other,negative\\n29,M,f,f,f,f,f,f,f,f,f,f,f,f,f,f,t,0.2,t,2.2,t,89,t,0.99,t,90,f,?,other,negative\\n47,M,f,f,f,f,f,f,f,f,f,f,f,f,f,f,t,2.6,t,1.7,t,66,t,0.75,t,88,f,?,other,negative\\n67,F,f,f,f,f,f,f,f,f,f,f,f,f,f,f,t,0.2,t,1.6,t,90,t,0.97,t,93,f,?,SVI,negative\\n53,M,f,f,f,f,f,f,f,f,f,f,f,f,f,f,t,1.9,t,2.6,t,118,t,1.1,t,107,f,?,SVI,negative\\n27,F,f,f,f,f,f,f,f,f,t,f,f,f,f,f,t,2,t,2.5,t,90,t,1.06,t,85,f,?,STMW,negative\\n22,F,f,f,t,f,f,f,f,f,f,f,f,f,f,f,t,2.4,t,1.7,t,103,t,1,t,103,f,?,other,negative\\n38,?,f,f,f,f,f,f,f,f,f,f,f,f,f,f,t,5.8,t,2,t,102,t,1.16,t,89,f,?,other,negative\\n90,M,f,f,f,f,f,f,f,f,f,f,f,f,f,f,t,5.7,t,1.6,t,89,t,0.91,t,98,f,?,other,negative\\n22,F,f,f,f,f,f,f,f,f,t,f,f,f,f,f,t,2.3,t,3.6,t,148,t,1.42,t,104,f,?,other,negative\\n33,F,f,f,f,f,f,f,f,f,f,f,f,f,f,f,f,?,f,?,f,?,f,?,f,?,f,?,other,negative\\n31,F,f,f,f,f,f,f,f,f,f,f,f,f,f,f,t,3.4,f,?,t,79,t,0.95,t,83,f,?,other,negative\\n47,F,f,f,f,f,f,f,f,f,f,f,f,f,f,f,t,3.2,t,1.8,t,95,t,1.09,t,87,f,?,SVHC,negative\\n49,F,f,f,f,f,f,f,f,t,f,f,f,f,f,f,t,8.3,t,0.9,t,103,t,1.11,t,93,f,?,SVI,compensated_hypothyroid\\n28,F,f,f,f,f,f,f,f,f,f,f,f,f,f,f,t,47,t,0.2,t,2,t,0.84,t,2,f,?,other,primary_hypothyroid\\n59,M,f,f,f,f,f,f,f,f,f,f,f,f,f,t,t,1,t,1.4,t,83,t,0.86,t,96,f,?,SVHC,negative\\n58,M,f,f,f,f,f,f,f,f,f,f,f,f,f,f,t,1.3,t,2.3,t,77,f,?,f,?,f,?,other,negative\\n77,F,f,f,f,f,f,f,f,t,f,f,f,f,f,f,t,36,f,?,t,82,t,1.02,t,81,f,?,other,compensated_hypothyroid\\n51,F,f,f,f,f,f,f,f,t,f,f,f,f,f,f,t,58,f,?,t,77,t,1.11,t,69,f,?,other,compensated_hypothyroid\\n52,F,f,f,f,f,f,f,f,f,f,f,f,f,f,f,t,12,t,1.8,t,109,t,1.06,t,102,f,?,other,compensated_hypothyroid\\n51,M,f,f,f,f,f,f,f,f,f,f,f,f,f,f,t,1.2,t,2.3,t,72,t,0.84,t,85,f,?,SVI,negative\\n84,F,f,f,f,f,f,f,f,f,f,f,f,f,f,f,t,2.2,t,0.3,t,73,t,0.85,t,86,f,?,other,negative\\n53,F,f,f,f,f,f,f,f,f,f,f,f,f,f,f,t,5.4,t,2.6,t,125,f,?,f,?,f,?,other,negative\\n38,F,f,f,f,f,f,f,f,f,f,f,f,f,f,t,t,1.3,t,2.4,t,138,t,1.16,t,118,f,?,SVHC,negative\\n37,F,f,f,f,f,f,f,f,f,f,f,f,f,f,f,f,?,f,?,f,?,f,?,f,?,f,?,other,negative\\n74,F,f,f,f,f,f,f,f,f,t,f,f,f,f,f,f,?,t,4.5,t,171,t,1.16,t,148,f,?,other,negative\\n49,F,f,f,f,f,f,f,f,f,f,f,f,f,f,f,t,0.49,t,1.7,t,146,t,0.89,t,165,f,?,other,negative\\n8,F,t,f,f,f,f,f,f,f,f,f,f,f,f,f,f,?,f,?,f,?,f,?,f,?,f,?,other,negative\\n83,F,f,f,f,f,f,f,f,f,f,f,f,f,f,f,t,1.6,t,1.2,t,103,t,0.79,t,131,f,?,SVI,negative\\n55,F,f,f,f,f,f,f,f,f,f,f,f,f,f,f,t,0.1,t,1.8,t,103,t,0.91,t,113,f,?,SVHC,negative\\n24,M,f,f,f,f,f,f,f,f,f,f,f,f,f,f,t,1.3,t,1.7,t,106,t,1,t,106,f,?,SVHC,negative\\n53,F,f,f,f,f,f,f,f,f,f,f,f,f,f,f,t,3.1,t,2.4,t,87,t,0.94,t,93,f,?,SVHC,negative\\n62,F,f,f,f,f,f,f,f,f,f,f,f,f,f,f,t,1.5,t,1.6,t,69,t,0.82,t,83,f,?,SVI,negative\\n44,M,f,f,f,f,f,f,f,f,f,f,f,f,f,f,t,2.8,t,2.3,t,129,t,1.24,t,103,f,?,SVHC,negative\\n74,M,f,f,f,t,f,f,f,f,f,f,f,f,f,f,t,3.3,t,1.2,t,91,t,0.92,t,99,f,?,other,negative\\n47,M,f,f,f,f,f,f,f,f,f,f,f,f,f,f,t,2.4,t,2.2,t,143,t,0.92,t,154,f,?,SVI,negative\\n30,F,f,f,f,f,f,f,f,f,f,f,f,f,f,f,f,?,t,1.6,t,106,t,1.4,t,76,f,?,other,negative\\n50,F,f,f,f,f,f,t,f,f,f,f,f,f,f,f,t,3,f,?,t,106,t,1.07,t,99,f,?,other,negative\\n33,M,f,f,f,f,f,f,f,f,f,f,f,f,f,t,t,0.3,t,2.5,t,107,t,0.92,t,116,f,?,SVHC,negative\\n64,F,f,f,f,f,f,f,f,f,f,f,f,f,f,f,t,0.2,t,1.9,t,159,t,1.04,t,153,f,?,other,negative\\n55,F,f,f,f,f,f,f,f,f,f,f,f,f,f,f,t,1.8,t,2.3,t,98,t,0.97,t,101,f,?,SVI,negative\\n73,?,f,f,f,f,f,f,f,f,f,f,f,f,f,f,t,2,t,2.9,t,116,t,1.18,t,99,f,?,SVI,negative\\n22,F,f,f,f,f,f,f,f,f,f,f,f,f,f,f,t,0.9,t,2.5,t,110,t,1,t,110,f,?,other,negative\\n70,M,f,f,f,t,f,f,f,f,f,f,f,f,f,f,t,1.1,t,0.9,t,94,t,0.91,t,103,f,?,SVI,negative\\n45,M,f,f,f,f,f,f,f,f,f,f,t,f,f,f,t,2.3,t,2.4,t,91,t,0.86,t,106,f,?,SVI,negative\\n48,F,f,f,f,f,f,f,f,f,f,f,f,f,f,f,t,0.96,f,?,t,129,t,1.35,t,96,f,?,other,negative\\n75,F,f,f,f,f,f,f,f,f,f,f,f,f,f,f,t,6.7,t,2.1,t,160,t,1.21,t,132,f,?,other,negative\\n45,?,f,f,f,f,f,f,f,f,f,f,f,f,f,f,t,4.8,t,0.9,t,87,t,0.78,t,112,f,?,SVI,negative\\n33,F,f,f,f,f,f,f,f,f,f,f,f,f,f,f,f,?,f,?,t,120,t,0.98,t,122,f,?,other,negative\\n31,F,t,f,f,f,f,f,f,t,f,f,f,f,f,f,t,0.045,t,2.7,t,163,t,0.94,t,172,f,?,STMW,negative\\n79,M,f,f,f,f,f,f,f,t,f,f,f,f,f,f,t,2.4,f,?,f,?,f,?,f,?,f,?,other,negative\\n32,F,f,f,f,f,f,f,f,f,f,f,f,f,f,f,f,?,f,?,f,?,f,?,f,?,f,?,other,negative\\n70,?,f,f,f,f,f,f,f,f,f,f,f,f,f,f,t,0.35,t,0.3,t,44,t,0.38,t,118,f,?,SVI,negative\\n84,F,f,f,f,f,f,f,f,f,f,f,f,f,f,f,t,3.5,f,?,t,77,t,0.74,t,104,f,?,other,negative\\n47,F,f,f,f,f,f,f,f,f,f,f,f,f,f,f,t,0.79,t,1.2,t,117,t,0.85,t,138,f,?,other,negative\\n63,M,f,f,f,f,f,f,f,f,f,f,f,f,f,t,t,1.5,t,2.1,t,129,t,1.08,t,120,f,?,SVHC,negative\\n28,F,f,f,f,f,f,f,f,f,f,f,f,f,f,f,t,2.1,f,?,t,100,t,1.15,t,87,f,?,other,negative\\n22,M,f,f,f,f,f,f,f,f,f,f,f,f,f,f,t,2.1,t,2.3,t,81,t,1.01,t,80,f,?,SVHC,negative\\n29,F,f,f,f,f,f,f,f,f,t,f,f,f,f,f,t,1.1,t,1.5,t,93,t,0.75,t,124,f,?,other,negative\\n20,F,f,f,t,f,f,f,f,f,f,f,f,f,f,f,t,0.02,t,2.6,t,106,t,0.91,t,116,f,?,other,negative\\n58,M,f,f,f,f,f,f,f,f,f,f,t,f,f,f,t,0.8,t,2.2,t,97,t,1.1,t,88,f,?,other,negative\\n49,M,f,f,f,f,f,f,f,f,f,f,f,f,f,f,t,0.5,t,1.8,t,128,t,1,t,128,f,?,SVI,negative\\n30,F,f,f,f,f,f,f,f,f,f,f,f,f,f,f,t,2.5,t,2.2,t,99,t,1.04,t,96,f,?,SVI,negative\\n65,F,f,f,f,f,f,f,f,f,f,f,f,f,f,f,t,0.61,t,1.8,t,96,t,1.03,t,94,f,?,SVI,negative\\n46,M,f,f,f,f,f,f,f,f,f,f,f,f,f,f,t,0.88,t,0.7,t,82,f,?,f,?,f,?,other,negative\\n25,F,f,f,f,f,f,f,f,f,f,f,f,f,f,f,t,1.8,f,?,t,75,t,0.87,t,86,f,?,other,negative\\n71,F,t,f,f,f,f,f,t,t,t,f,f,f,f,f,t,2.4,t,1.9,t,133,t,1.09,t,123,f,?,other,negative\\n53,F,f,f,f,f,f,f,f,t,f,f,f,f,f,f,t,0.01,f,?,t,176,t,1.02,t,171,f,?,other,negative\\n36,F,f,f,f,f,f,f,f,f,f,f,f,f,f,f,t,0.88,t,1.6,t,114,t,1.02,t,112,f,?,other,negative\\n49,F,t,f,f,f,f,f,t,f,t,f,f,f,f,f,t,0.2,t,2.4,t,137,f,?,f,?,f,?,other,negative\\n20,F,f,f,t,f,f,f,f,f,f,f,f,f,f,f,t,0.15,t,2.5,t,93,t,1,t,93,f,?,other,negative\\n30,F,f,f,f,f,t,f,f,f,f,f,f,f,f,f,t,0.5,t,2.2,t,124,t,1.31,t,95,f,?,STMW,negative\\n32,F,f,f,f,f,t,f,f,f,f,f,f,f,f,f,t,0.25,t,2.5,t,105,t,1.05,t,100,f,?,STMW,negative\\n65,M,f,f,f,f,f,f,f,f,f,f,f,f,f,f,t,2.7,t,2.3,t,100,t,1.11,t,90,f,?,SVI,negative\\n47,F,f,f,f,f,f,f,f,f,f,f,f,f,f,f,t,2,t,1,t,130,t,0.88,t,148,f,?,SVI,negative\\n60,M,f,f,f,f,f,f,f,f,f,f,f,f,f,f,t,0.53,t,2.5,t,105,t,1.01,t,104,f,?,other,negative\\n76,F,f,f,f,f,f,f,f,f,f,f,f,f,f,f,t,1.2,t,2.5,t,133,t,1.16,t,115,f,?,other,negative\\n56,F,f,f,f,f,f,f,f,f,f,f,f,f,f,f,t,2,t,1,t,54,t,0.78,t,70,f,?,other,negative\\n74,F,f,f,f,f,f,f,f,f,f,f,f,f,f,f,t,1.3,t,1.3,t,111,t,0.92,t,120,f,?,SVI,negative\\n71,F,t,f,f,f,f,f,f,f,f,f,f,f,f,f,t,0.03,f,?,t,175,t,1.04,t,168,f,?,other,negative\\n51,F,f,f,f,f,f,f,f,f,f,f,f,f,f,f,t,24,t,0.4,t,3,t,0.99,t,3,f,?,other,primary_hypothyroid\\n60,M,f,f,f,f,f,f,f,f,f,f,f,f,f,f,t,0.4,t,2.4,t,77,t,0.99,t,78,f,?,SVI,negative\\n68,M,f,f,f,f,f,f,f,f,f,f,f,f,f,f,t,1.2,t,1.2,t,84,t,0.78,t,107,f,?,SVI,negative\\n54,M,f,f,f,f,f,f,f,t,f,f,f,f,f,f,t,0.6,t,1.8,t,100,t,0.77,t,130,f,?,other,negative\\n71,F,f,f,f,f,f,f,f,f,t,f,f,t,f,f,t,0.2,t,4.5,t,125,t,0.82,t,152,f,?,other,negative\\n78,M,f,f,f,f,f,f,f,f,f,f,f,f,f,f,t,0.77,t,1.8,t,109,t,0.92,t,118,f,?,SVI,negative\\n75,M,f,f,f,f,f,f,f,f,f,f,f,f,f,f,t,0.035,t,1.2,t,98,t,0.83,t,118,f,?,SVI,negative\\n18,F,f,f,f,f,t,f,f,f,f,f,f,t,f,f,t,0.83,t,2.9,t,68,t,1.16,t,58,f,?,STMW,negative\\n64,M,f,f,f,f,f,f,f,f,f,f,f,f,f,f,t,0.1,t,1,t,145,f,?,f,?,f,?,SVI,negative\\n49,F,f,f,f,f,f,f,f,f,f,f,f,f,f,f,f,?,f,?,f,?,f,?,f,?,f,?,other,negative\\n77,F,f,f,f,f,f,f,f,f,f,f,f,f,f,f,t,2.9,t,2.6,t,118,t,1.19,t,99,f,?,other,negative\\n56,F,f,f,f,f,f,f,f,f,t,f,f,f,f,f,t,0.015,t,4.1,t,191,t,1,t,191,f,?,other,negative\\n74,F,f,f,f,f,f,f,f,f,f,f,f,f,f,f,t,1.3,t,1.9,t,99,t,1.12,t,88,f,?,other,negative\\n23,F,t,f,f,f,f,f,f,f,f,f,f,f,f,f,t,0.04,t,3.8,t,131,t,1.05,t,125,f,?,other,negative\\n37,F,f,f,f,f,f,f,f,f,f,f,f,f,f,f,f,?,f,?,f,?,f,?,f,?,f,?,other,negative\\n42,F,f,f,f,f,f,f,f,f,f,f,f,f,f,f,t,3.6,t,1.9,t,87,f,?,f,?,f,?,other,negative\\n72,F,f,t,f,f,f,f,f,f,f,f,f,f,f,f,f,?,f,?,t,75,t,1.01,t,74,f,?,other,negative\\n60,F,t,f,f,f,f,f,f,f,f,f,f,f,f,f,t,7.3,t,1.6,t,109,t,1.04,t,105,f,?,other,negative\\n16,F,t,f,f,f,f,f,f,f,f,f,f,f,f,f,t,3.3,f,?,t,65,t,0.73,t,90,f,?,other,negative\\n62,F,f,f,f,f,f,f,f,f,f,f,f,f,f,f,f,?,f,?,f,?,f,?,f,?,f,?,other,negative\\n38,?,f,f,f,f,f,f,f,f,f,f,f,f,f,f,t,4.3,t,1.7,t,76,f,?,f,?,f,?,other,negative\\n69,F,f,f,f,f,f,f,f,f,f,f,f,f,f,f,t,6.2,t,1.9,t,89,t,0.94,t,95,f,?,other,compensated_hypothyroid\\n77,M,t,f,f,f,f,f,f,f,f,f,f,f,f,f,t,0.9,f,?,t,131,t,0.74,t,176,f,?,other,negative\\n16,M,f,f,f,f,f,f,f,f,f,f,f,f,f,f,f,?,t,2.5,t,71,t,0.8,t,88,f,?,other,negative\\n25,M,f,f,f,f,f,f,f,f,f,f,f,f,f,f,t,2.9,f,?,t,88,t,0.87,t,100,f,?,other,negative\\n48,M,f,f,f,f,f,f,f,f,f,f,f,f,f,f,t,1.2,t,2.5,t,81,t,0.91,t,89,f,?,SVHC,negative\\n68,F,f,f,f,f,f,f,f,f,f,f,f,f,f,f,t,3.9,t,1,t,104,t,0.75,t,137,f,?,SVI,negative\\n54,F,f,f,f,f,f,f,f,f,f,f,f,f,f,f,f,?,f,?,f,?,f,?,f,?,f,?,other,negative\\n65,M,f,f,f,f,f,f,f,f,f,f,f,f,f,f,t,1.1,t,1.4,t,121,t,0.81,t,149,f,?,SVI,negative\\n70,F,f,f,f,f,f,f,f,f,f,f,f,f,f,f,t,3.2,t,0.9,t,84,t,0.87,t,96,f,?,SVI,negative\\n33,M,f,f,f,f,f,f,f,f,f,t,f,f,f,f,t,1.8,t,2.4,t,120,t,0.99,t,121,f,?,SVHC,negative\\n46,M,f,f,f,f,f,f,f,f,f,f,f,f,f,f,t,0.6,f,?,t,98,t,0.94,t,104,f,?,other,negative\\n70,F,f,f,f,f,f,f,f,t,f,f,f,f,f,f,t,0.005,t,1.7,t,71,t,1.08,t,66,f,?,other,negative\\n45,F,f,f,f,f,f,f,f,f,f,f,f,f,f,t,t,1.1,t,2,t,111,t,0.97,t,114,f,?,SVHC,negative\\n50,M,f,f,f,f,f,f,f,f,t,f,f,f,f,f,t,13,t,1.3,t,86,t,0.87,t,99,f,?,other,compensated_hypothyroid\\n69,F,f,f,f,f,f,f,f,f,f,f,f,f,f,f,t,3.1,f,?,t,110,t,1.02,t,108,f,?,other,negative\\n55,M,f,f,f,f,f,f,f,f,f,f,f,t,f,f,t,10,t,2.1,t,65,f,?,f,?,f,?,other,compensated_hypothyroid\\n63,F,f,f,f,f,f,f,f,f,f,f,f,f,f,t,t,1.2,t,2.4,t,134,t,0.92,t,145,f,?,SVHC,negative\\n57,F,f,f,f,f,f,f,f,f,f,f,f,f,f,f,t,1,t,2,t,87,t,0.84,t,103,f,?,SVHC,negative\\n83,M,f,f,f,f,f,f,f,f,f,f,f,f,f,f,t,2.3,f,?,t,100,t,0.82,t,122,f,?,SVI,negative\\n45,M,f,f,f,f,f,f,f,f,f,f,f,f,f,f,t,6.3,t,2,t,119,t,1.04,t,114,f,?,other,compensated_hypothyroid\\n34,F,f,f,f,f,f,f,f,f,t,f,f,f,f,f,t,0.02,t,2.3,t,122,t,1.66,t,73,f,?,STMW,negative\\n82,F,f,f,f,f,f,f,f,f,f,f,f,f,f,f,f,?,t,1.1,t,69,t,0.64,t,107,f,?,SVI,negative\\n83,F,f,f,f,f,f,f,f,f,f,f,f,t,f,f,t,0.44,f,?,t,145,t,1.08,t,135,f,?,other,negative\\n70,F,f,f,f,f,f,f,f,f,f,f,f,t,f,f,t,0.2,t,2.7,t,79,t,0.98,t,81,f,?,other,negative\\n70,F,f,f,f,t,f,f,f,f,f,f,f,f,f,f,t,1.8,t,1.5,t,70,t,0.86,t,81,f,?,SVHD,negative\\n37,M,f,f,f,f,f,f,f,f,f,f,f,f,f,f,t,2.1,t,2.3,t,93,t,0.82,t,113,f,?,SVI,negative\\n40,F,f,f,f,f,f,f,f,f,f,f,f,f,f,f,t,3.1,t,2.2,t,103,t,1.1,t,93,f,?,SVI,negative\\n73,F,f,f,f,f,f,f,f,f,f,f,f,f,f,f,t,3.4,t,1.6,t,100,t,0.88,t,113,f,?,SVHC,negative\\n24,M,f,f,f,f,f,f,f,f,f,f,f,f,f,f,t,2.5,t,1.8,t,92,t,1.02,t,90,f,?,other,negative\\n32,F,t,f,f,f,t,f,f,f,f,f,f,f,f,f,t,0.05,t,3.9,t,289,t,1.75,t,165,f,?,other,negative\\n88,M,f,f,f,f,f,f,f,f,f,f,f,f,f,f,t,2.3,t,2.2,t,101,t,1,t,101,f,?,SVI,negative\\n56,F,f,f,f,f,f,f,f,f,f,f,f,t,f,f,t,0.6,t,2.5,t,122,t,1.05,t,116,f,?,SVI,negative\\n27,F,f,f,f,f,f,f,f,f,f,f,f,f,f,t,t,1.7,t,1.9,t,146,t,1.19,t,123,f,?,SVHC,negative\\n26,M,f,f,f,f,f,f,f,f,f,f,f,f,f,f,t,1.4,t,2.5,t,98,t,0.92,t,107,f,?,other,negative\\n78,F,f,f,f,f,f,f,f,f,f,f,f,f,f,f,t,0.05,t,1.3,t,101,f,?,f,?,f,?,SVI,negative\\n53,?,f,f,f,f,f,f,f,f,f,f,f,f,f,f,t,1.5,t,1.8,t,105,f,?,f,?,f,?,other,negative\\n35,F,f,f,f,f,f,f,f,f,f,f,f,f,f,f,t,0.5,t,2.2,t,89,f,?,f,?,f,?,other,negative\\n62,M,f,f,f,f,f,f,f,f,f,f,f,f,f,f,t,0.95,t,2.5,t,138,t,1.17,t,118,f,?,other,negative\\n44,M,f,f,f,f,f,f,f,f,f,f,f,f,f,f,t,14,t,2.7,t,63,t,1.17,t,54,f,?,other,negative\\n65,F,f,f,f,t,f,f,f,f,t,f,f,f,f,f,t,0.025,t,3.9,t,133,t,1.23,t,108,f,?,other,negative\\n63,?,f,f,f,f,f,f,f,f,f,f,f,f,f,f,t,0.43,t,2.9,t,118,t,1.42,t,83,f,?,other,negative\\n68,F,f,f,f,f,f,f,f,t,f,f,f,f,f,f,t,12,t,1.4,t,111,t,1.2,t,93,f,?,SVI,compensated_hypothyroid\\n61,?,f,f,f,f,f,f,f,f,f,f,f,f,f,f,t,2.1,f,?,t,114,t,1.05,t,109,f,?,SVI,negative\\n24,F,f,f,f,f,f,f,f,f,f,f,f,f,f,f,f,?,f,?,f,?,f,?,f,?,f,?,other,negative\\n59,M,f,f,f,f,f,f,f,f,f,f,f,f,f,f,t,0.5,t,2.1,t,86,t,0.81,t,107,f,?,other,negative\\n73,M,f,f,f,f,f,f,f,f,f,f,f,f,f,f,t,2.7,t,1.6,t,97,t,0.78,t,125,f,?,SVI,negative\\n86,F,f,f,f,f,f,f,f,f,f,f,f,f,f,f,t,0.25,t,1.8,t,89,t,0.89,t,100,f,?,SVI,negative\\n18,F,f,f,f,f,f,f,f,f,f,f,f,f,f,f,t,12,f,?,t,142,t,1.37,t,104,f,?,other,compensated_hypothyroid\\n53,M,f,f,f,f,f,f,f,f,f,f,f,f,f,t,t,2.3,t,2,t,63,t,0.95,t,66,f,?,SVHC,negative\\n68,F,f,f,f,f,f,f,f,t,f,f,f,f,f,f,t,2.3,t,1.5,t,112,t,0.99,t,114,f,?,other,negative\\n79,M,f,f,f,f,f,f,f,f,f,f,f,f,f,f,t,2.1,t,1.7,t,112,t,0.96,t,117,f,?,SVI,negative\\n52,F,f,f,f,f,f,f,f,f,f,f,f,f,f,f,t,8.8,t,2.3,t,106,t,1.25,t,85,f,?,other,compensated_hypothyroid\\n30,F,f,f,f,f,f,f,f,f,f,f,f,f,f,f,t,35,t,1.4,t,78,t,0.98,t,80,f,?,other,compensated_hypothyroid\\n34,F,f,f,f,f,f,f,f,f,t,f,f,f,f,f,t,4.1,t,4,t,159,t,1.62,t,98,f,?,STMW,negative\\n59,F,f,f,f,f,f,f,f,f,t,f,f,f,f,f,t,0.1,t,2.5,t,100,t,0.98,t,103,f,?,other,negative\\n32,F,f,f,f,f,f,f,f,f,f,f,f,f,f,f,t,0.6,t,1.6,t,134,t,1.2,t,112,f,?,other,negative\\n57,F,f,f,f,f,f,f,t,f,f,f,f,f,f,f,t,0.01,t,2.9,t,98,t,0.87,t,113,f,?,other,negative\\n73,F,f,f,f,f,f,f,f,f,f,f,f,f,f,f,t,5.6,t,1.9,t,115,t,0.98,t,118,f,?,other,negative\\n47,M,f,f,f,f,f,f,f,f,f,f,f,f,f,f,f,?,f,?,f,?,f,?,f,?,f,?,other,negative\\n35,M,t,f,f,f,f,f,f,f,f,f,f,f,f,f,t,0.44,t,1.8,t,94,t,0.86,t,110,f,?,other,negative\\n43,M,f,f,f,f,f,f,f,f,f,f,f,f,f,f,t,0.2,t,1.9,t,98,t,0.89,t,110,f,?,SVHC,negative\\n55,?,f,f,f,f,f,f,f,f,f,f,f,f,f,f,t,0.2,t,1.7,t,95,t,0.79,t,121,f,?,other,negative\\n67,?,f,f,f,t,f,f,f,f,f,f,f,f,f,f,t,0.2,t,0.9,t,75,t,0.73,t,102,f,?,other,negative\\n39,F,f,f,f,f,f,f,f,f,f,f,f,f,f,f,t,1.9,t,2,t,109,f,?,f,?,f,?,other,negative\\n62,F,t,f,f,f,f,f,f,t,f,f,f,f,f,f,t,0.005,t,2.1,t,130,t,0.99,t,131,f,?,other,negative\\n72,F,t,f,f,f,f,f,f,f,f,f,f,f,f,f,t,0.01,t,1.1,t,240,t,1.07,t,223,f,?,SVI,negative\\n66,F,f,f,f,f,f,f,f,f,t,f,f,f,f,f,t,0.34,f,?,t,95,t,0.99,t,95,f,?,other,negative\\n49,M,f,f,f,f,f,f,f,f,f,f,f,f,f,f,t,2.4,t,2.7,t,93,t,0.99,t,94,f,?,SVHC,negative\\n75,F,f,f,f,f,f,f,f,f,f,f,f,f,f,f,t,2.8,t,2,t,92,t,1.03,t,89,f,?,SVI,negative\\n66,?,f,f,f,f,f,f,f,f,f,f,f,f,f,f,t,0.19,t,1.4,t,97,t,0.87,t,111,f,?,SVI,negative\\n23,F,f,f,f,f,f,f,f,f,f,f,f,f,f,f,t,1.3,t,2.1,t,108,t,1.04,t,105,f,?,STMW,negative\\n15,F,f,f,t,f,f,f,f,f,t,f,f,f,f,f,f,?,f,?,f,?,f,?,f,?,f,?,other,negative\\n60,F,f,f,f,f,f,f,f,f,f,f,f,f,f,f,t,0.045,f,?,t,139,t,1.07,t,129,f,?,other,negative\\n28,F,f,f,f,f,f,f,f,f,t,f,f,f,f,f,t,0.15,f,?,t,133,t,0.99,t,135,f,?,other,negative\\n56,F,f,f,f,f,f,f,f,f,f,f,f,f,f,f,t,0.72,t,2.1,t,114,t,1.11,t,103,f,?,other,negative\\n56,M,f,f,f,f,f,f,f,f,f,f,f,f,f,f,t,0.02,t,2,t,139,t,0.82,t,170,f,?,other,negative\\n88,M,f,f,f,f,f,f,f,f,f,f,f,f,f,f,t,2.4,t,2.2,t,96,t,0.93,t,103,f,?,SVHC,negative\\n70,F,f,f,f,f,f,f,f,f,f,f,f,f,f,f,t,5.5,t,1.7,t,131,t,1.49,t,88,f,?,SVI,negative\\n68,M,f,f,f,f,f,f,f,f,f,f,f,f,f,f,t,4.8,t,2.1,t,107,t,0.99,t,108,f,?,other,negative\\n33,F,f,f,f,f,f,f,f,t,f,f,f,f,f,f,t,10.3,t,2,t,68,t,1.15,t,59,f,?,SVHC,primary_hypothyroid\\n17,F,f,f,f,f,f,f,f,t,t,f,f,f,f,f,t,0.3,t,1.5,t,101,t,0.81,t,125,f,?,other,negative\\n93,F,f,f,f,t,f,f,f,f,f,f,f,f,f,f,t,2.7,t,0.4,t,77,t,0.86,t,90,f,?,other,negative\\n28,F,f,f,f,f,f,f,f,f,f,f,f,f,f,f,f,?,f,?,f,?,f,?,f,?,f,?,other,negative\\n18,?,f,f,f,f,f,f,f,f,f,f,f,f,f,f,t,1.2,t,2.4,t,74,t,1.16,t,63,f,?,STMW,negative\\n25,F,f,f,f,f,f,f,f,f,f,f,f,f,f,f,t,0.81,t,2.8,t,106,t,1.32,t,81,f,?,SVHC,negative\\n72,F,f,f,f,f,f,f,f,f,f,f,f,f,f,f,t,0.015,t,2.9,t,198,t,0.91,t,217,f,?,SVHC,negative\\n75,M,f,f,f,f,f,f,f,f,f,f,f,f,f,f,f,?,f,?,t,120,t,0.97,t,124,f,?,other,negative\\n41,F,f,f,f,f,f,f,f,f,f,f,f,f,f,t,t,2,t,2.5,t,109,t,1.03,t,105,f,?,SVHC,negative\\n39,M,f,f,f,f,f,f,f,f,f,f,f,f,f,f,t,1.4,t,2.9,t,97,t,1.03,t,94,f,?,SVI,negative\\n50,F,f,f,f,f,f,f,f,f,f,f,f,f,f,f,t,89,t,0.2,t,10,t,1.13,t,9,f,?,SVI,primary_hypothyroid\\n28,F,t,f,f,f,f,f,f,f,f,f,f,f,f,f,t,0.3,f,?,t,209,t,1.08,t,194,f,?,other,negative\\n59,F,f,f,f,f,f,f,f,f,f,f,f,f,f,f,t,0.02,t,1.6,t,140,t,0.95,t,148,f,?,SVI,negative\\n32,F,f,f,f,f,f,f,f,f,f,f,f,f,f,f,f,?,f,?,f,?,f,?,f,?,f,?,other,negative\\n24,F,f,f,f,f,f,f,f,f,f,f,f,f,f,f,t,0.25,t,3,t,143,t,1.33,t,108,f,?,SVHC,negative\\n17,M,f,f,f,f,f,f,f,f,f,f,f,f,f,f,t,1.5,t,0.5,t,43,t,0.41,t,105,f,?,SVI,negative\\n64,F,f,f,f,f,f,f,f,f,f,f,f,f,f,f,t,1.6,t,2.8,t,99,t,0.83,t,119,f,?,other,negative\\n63,F,f,f,f,f,f,f,t,f,f,f,f,f,f,f,t,0.03,t,3.3,t,120,t,0.96,t,125,f,?,other,negative\\n18,?,t,f,f,f,f,f,f,f,f,f,f,f,f,f,t,0.2,t,2.1,t,120,t,1.12,t,107,f,?,other,negative\\n62,F,f,f,f,f,f,t,f,f,f,f,f,f,f,f,t,0.43,t,2.2,t,122,t,1.17,t,104,f,?,SVI,negative\\n66,F,f,f,f,f,f,f,f,f,f,f,f,f,f,f,t,3.2,t,1.6,t,126,t,1.02,t,123,f,?,other,negative\\n55,F,f,t,f,f,f,f,f,f,f,f,f,f,f,f,t,0.005,f,?,t,161,t,0.9,t,180,f,?,other,negative\\n51,F,t,f,f,f,f,f,f,f,f,f,f,f,f,f,t,0.25,t,1.9,t,101,t,1.08,t,94,f,?,other,negative\\n82,M,f,f,f,f,f,f,f,f,f,f,f,f,f,t,t,6.6,t,1.6,t,92,t,1,t,91,f,?,SVHC,compensated_hypothyroid\\n85,M,f,f,f,f,f,f,f,f,f,f,f,f,f,f,t,0.25,t,1.1,t,132,t,0.85,t,154,f,?,SVI,negative\\n30,F,f,f,f,f,f,f,f,f,f,f,f,f,f,f,t,1.8,t,2.1,t,116,t,1.05,t,110,f,?,STMW,negative\\n65,F,f,f,f,t,f,f,f,f,f,f,f,f,f,f,f,?,f,?,f,?,f,?,f,?,f,?,other,negative\\n62,F,f,f,f,f,f,f,f,f,f,f,f,f,f,f,t,2.6,t,2.1,t,79,t,0.89,t,90,f,?,other,negative\\n63,F,f,f,f,f,f,f,f,f,f,f,f,f,f,f,t,1.1,t,1.9,t,110,t,1.02,t,108,f,?,SVI,negative\\n33,F,f,f,f,f,f,f,f,f,f,f,f,f,f,f,f,?,f,?,f,?,f,?,f,?,f,?,other,negative\\n48,F,f,f,f,f,f,f,f,f,f,f,f,f,f,f,t,0.7,f,?,t,114,t,0.98,t,117,f,?,other,negative\\n74,M,f,f,f,f,f,f,f,f,f,f,f,f,f,f,t,0.1,t,2,t,113,t,0.97,t,116,f,?,SVI,negative\\n69,?,f,f,f,f,f,f,f,f,f,f,f,f,f,f,f,?,t,1.5,f,?,f,?,f,?,f,?,other,negative\\n78,M,f,f,f,f,f,f,f,f,f,f,f,f,f,f,t,2.3,t,2.1,t,112,t,1.11,t,101,f,?,SVI,negative\\n63,F,f,f,f,f,f,f,f,f,f,f,f,f,f,f,t,3,t,0.9,t,137,t,0.95,t,144,f,?,SVI,negative\\n60,?,f,f,f,f,f,f,f,f,f,f,f,f,f,f,t,0.9,t,2.4,t,111,t,1.12,t,99,f,?,other,negative\\n41,M,f,f,f,f,f,f,f,f,f,f,f,f,f,f,t,0.25,t,3.1,t,134,t,1,t,134,f,?,other,negative\\n42,M,f,f,f,f,f,f,f,f,f,f,f,f,f,f,t,2.8,t,1.7,t,105,t,1.03,t,101,f,?,other,negative\\n27,M,f,f,f,f,f,f,f,f,f,f,f,f,f,t,t,0.87,t,1.8,t,98,t,1,t,98,f,?,SVHC,negative\\n48,F,f,f,f,f,f,f,f,f,f,f,f,f,f,f,t,0.03,t,1.8,t,83,t,1.19,t,69,f,?,other,negative\\n75,F,f,f,f,f,f,f,f,f,f,f,f,f,f,f,t,2.1,t,1.5,t,103,t,1.07,t,96,f,?,SVI,negative\\n61,F,f,f,f,f,f,f,f,f,f,f,f,f,f,f,t,0.81,t,2.3,t,103,t,1.02,t,100,f,?,other,negative\\n81,M,f,f,f,f,f,f,f,f,f,f,f,f,f,f,t,1.4,t,2,t,97,t,1.2,t,81,f,?,other,negative\\n51,F,f,f,f,f,f,f,f,f,f,f,f,f,f,f,t,1,t,1.9,t,91,t,1.03,t,89,f,?,other,negative\\n21,M,f,f,f,f,f,f,f,f,f,f,f,f,f,f,t,2.3,t,1.6,t,88,t,1.01,t,87,f,?,other,negative\\n46,F,f,f,f,f,f,f,f,f,f,f,f,f,f,f,t,0.1,t,0.7,t,69,t,0.77,t,89,f,?,SVI,negative\\n52,F,f,f,f,f,f,f,f,f,f,f,f,f,f,f,t,2.6,t,1.6,t,103,t,0.92,t,111,f,?,other,negative\\n73,M,f,f,f,f,f,f,f,f,f,f,f,f,f,f,t,2.1,t,1.9,t,118,t,0.9,t,131,f,?,SVI,negative\\n40,F,f,f,f,f,f,f,f,t,f,f,f,f,f,t,t,1.3,t,2.6,t,135,t,1.09,t,124,f,?,SVHC,negative\\n48,F,f,f,f,f,f,f,t,t,f,f,f,f,f,f,t,0.1,f,?,t,119,t,0.91,t,131,f,?,other,negative\\n63,M,f,f,f,f,f,f,f,f,f,f,f,f,f,f,t,7.4,t,2,t,120,t,1.02,t,117,f,?,other,compensated_hypothyroid\\n55,F,t,f,f,f,f,f,f,f,f,f,f,f,f,f,f,?,f,?,t,170,t,1.1,t,155,f,?,other,negative\\n64,F,t,f,f,f,f,f,f,f,f,f,f,f,f,f,t,0.07,t,1.9,t,112,t,0.94,t,119,f,?,other,negative\\n69,M,f,f,f,f,f,f,f,f,f,f,f,t,f,f,f,?,f,?,f,?,f,?,f,?,f,?,other,negative\\n64,F,f,f,f,f,f,f,f,f,f,f,f,f,f,f,f,?,t,3.1,t,136,t,1.07,t,127,f,?,other,negative\\n59,M,f,f,f,f,f,f,f,f,f,f,f,f,f,f,t,2.3,t,2,t,74,t,0.69,t,107,f,?,SVI,negative\\n57,F,f,f,f,f,f,f,f,f,f,f,f,f,f,f,t,1.6,t,2.5,t,103,t,1.02,t,101,f,?,SVI,negative\\n79,F,f,f,f,f,f,f,f,f,f,f,f,f,f,f,t,2.4,t,1.3,t,92,t,0.92,t,100,f,?,other,negative\\n63,?,f,f,f,f,f,f,f,f,f,f,f,f,f,f,f,?,t,1.9,t,165,t,1.39,t,118,f,?,other,negative\\n15,F,f,f,f,f,f,f,f,f,f,f,f,f,f,f,t,1.6,t,2.4,t,105,t,1.16,t,91,f,?,other,negative\\n63,F,t,f,f,f,f,f,f,f,f,f,f,f,f,f,t,0.1,f,?,t,117,t,0.98,t,120,f,?,other,negative\\n77,F,f,f,f,f,f,f,f,f,f,f,f,f,f,f,t,4.9,t,1.6,t,85,t,0.87,t,98,f,?,SVI,negative\\n70,M,f,f,f,f,f,f,f,f,f,f,f,f,f,f,t,0.5,t,1.9,t,87,t,0.87,t,100,f,?,SVI,negative\\n69,F,f,f,f,f,f,f,f,f,f,f,f,f,f,f,t,1.9,t,1.5,t,126,t,0.96,t,131,f,?,other,negative\\n79,F,f,f,f,f,f,f,f,f,f,f,f,f,f,t,t,2.3,t,0.4,t,73,t,0.6,t,122,f,?,SVI,negative\\n64,F,f,f,f,f,f,f,f,t,f,f,f,f,f,f,t,0.68,t,1.4,t,92,t,0.81,t,114,f,?,SVI,negative\\n24,F,f,f,f,f,f,f,f,f,f,f,f,f,f,f,t,1.8,t,2.1,t,91,t,0.93,t,98,f,?,other,negative\\n67,F,f,f,f,f,f,f,f,f,f,f,f,f,f,f,t,2.6,t,0.2,t,99,t,0.72,t,138,f,?,SVI,negative\\n57,F,t,f,f,f,f,f,f,f,f,f,f,f,f,f,t,0.08,f,?,t,142,t,0.93,t,153,f,?,other,negative\\n58,F,f,f,f,f,f,f,f,f,f,f,f,f,f,f,t,0.05,t,1.9,t,123,t,0.99,t,124,f,?,SVI,negative\\n31,F,f,f,f,f,f,f,f,f,f,f,f,f,f,f,t,0.91,t,2.1,t,66,t,0.66,t,99,f,?,other,negative\\n73,M,f,f,f,f,f,f,f,f,f,f,f,f,f,f,f,?,t,2.7,t,87,t,1.07,t,81,f,?,other,negative\\n65,F,t,f,f,f,f,f,f,f,t,f,f,f,f,f,t,0.015,t,1.9,t,88,t,0.81,t,109,f,?,other,negative\\n58,F,f,f,f,f,f,f,f,t,f,f,f,f,f,f,t,1.8,f,?,t,63,t,0.86,t,73,f,?,other,negative\\n39,F,f,f,f,f,f,f,f,f,f,f,f,f,f,f,t,0.5,t,2.2,t,121,t,1.01,t,121,f,?,other,negative\\n15,F,f,f,t,f,f,f,f,f,t,f,f,f,f,f,f,?,f,?,f,?,f,?,f,?,f,?,other,negative\\n47,F,f,f,f,f,f,f,f,f,f,f,f,t,f,f,t,0.63,t,2.6,t,160,t,1.2,t,134,f,?,other,negative\\n47,F,f,f,f,f,f,f,f,f,f,f,f,f,f,f,t,1.1,t,2.8,t,96,t,0.94,t,103,f,?,other,negative\\n41,F,f,f,f,f,f,f,f,f,f,f,f,f,f,t,t,3.1,t,2.5,t,149,t,1.09,t,137,f,?,SVHC,negative\\n58,F,f,f,f,f,f,f,f,t,f,f,f,f,f,f,t,0.59,t,1.5,t,83,t,0.86,t,97,f,?,SVI,negative\\n30,F,f,f,f,f,f,f,f,f,f,f,f,f,f,f,t,0.42,t,1.8,t,120,t,0.94,t,128,f,?,other,negative\\n38,?,f,f,f,f,f,f,f,f,f,f,f,f,f,f,t,1.4,t,1.5,t,95,t,0.91,t,104,f,?,SVI,negative\\n65,F,f,f,f,f,f,f,f,f,f,f,f,f,f,f,t,1.4,t,1.7,t,141,t,1.15,t,123,f,?,SVI,negative\\n51,F,f,f,f,f,f,f,f,f,f,f,f,f,f,f,f,?,f,?,f,?,f,?,f,?,f,?,other,negative\\n39,F,f,f,f,f,f,t,f,f,t,f,f,f,f,f,t,4,t,1.7,t,63,f,?,f,?,f,?,other,negative\\n85,F,f,f,f,f,f,f,f,f,f,f,f,f,f,f,t,1.3,t,0.9,t,111,t,1.04,t,107,f,?,SVI,negative\\n35,F,f,f,f,f,f,f,f,f,f,f,f,f,f,f,t,0.97,f,?,t,94,t,0.97,t,97,f,?,other,negative\\n78,F,f,f,f,f,f,f,f,f,f,f,f,f,f,f,t,0.6,t,2.4,t,118,t,0.88,t,135,f,?,SVI,negative\\n65,F,f,f,f,f,f,f,f,f,f,f,f,f,f,f,t,2.2,t,1.9,t,101,t,0.99,t,102,f,?,SVI,negative\\n57,F,f,f,f,f,f,f,f,f,f,f,f,f,f,f,t,0.005,t,3.6,t,144,t,0.84,t,171,f,?,other,negative\\n59,M,f,f,f,f,f,f,f,f,f,f,f,f,f,f,t,2.2,t,2.5,t,96,t,0.91,t,105,f,?,other,negative\\n2,?,f,f,f,f,f,f,f,f,f,f,f,f,f,f,t,472,t,1.7,t,34,t,1.17,t,29,f,?,STMW,primary_hypothyroid\\n48,M,f,f,f,f,f,f,f,f,f,f,f,f,f,f,f,?,t,1.6,f,?,f,?,f,?,f,?,other,negative\\n43,M,f,f,f,f,f,f,f,f,f,f,f,f,f,f,t,0.68,t,2,t,54,t,0.93,t,58,f,?,other,negative\\n56,?,f,f,f,f,f,f,f,f,f,f,f,f,f,f,t,2.4,t,1.7,t,86,t,0.91,t,95,f,?,other,negative\\n66,F,f,f,f,f,f,f,f,f,f,f,f,f,f,f,f,?,f,?,t,64,t,0.78,t,82,f,?,other,negative\\n65,F,t,f,f,f,f,f,f,t,f,f,f,f,f,f,t,0.47,t,2.3,t,113,t,0.91,t,124,f,?,other,negative\\n31,F,f,f,f,f,f,f,f,f,f,f,f,f,f,f,t,2.2,t,2.5,t,85,t,0.81,t,105,f,?,SVI,negative\\n44,M,f,f,f,f,f,f,f,f,f,f,f,f,f,f,t,1.9,t,2.2,t,103,t,1.2,t,86,f,?,other,negative\\n66,F,f,f,f,f,f,f,f,f,f,f,f,f,f,f,t,1,f,?,t,103,t,1.17,t,88,f,?,other,negative\\n70,F,f,f,f,f,f,f,f,f,f,f,f,f,f,f,t,1.1,t,2.6,t,162,t,1.21,t,134,f,?,other,negative\\n44,F,f,f,f,f,f,f,f,f,f,f,f,f,f,f,t,0.9,t,1.8,t,119,t,0.98,t,120,f,?,other,negative\\n37,M,f,f,f,f,f,f,f,f,f,f,f,f,f,f,t,0.9,t,2.3,t,77,t,0.8,t,96,f,?,other,negative\\n67,F,f,f,f,f,f,f,f,f,t,f,f,t,f,f,t,0.07,t,1.7,t,132,t,1.02,t,130,f,?,other,negative\\n78,F,f,f,f,f,f,f,f,f,f,f,f,f,f,f,t,0.73,t,2,t,92,t,0.95,t,97,f,?,SVI,negative\\n29,F,f,f,f,f,f,f,f,f,t,f,f,f,f,f,t,0.15,t,5.5,t,161,t,1.61,t,100,f,?,STMW,negative\\n53,M,t,f,f,f,f,f,f,f,f,f,f,f,f,f,t,0.51,t,2.4,t,124,t,0.96,t,129,f,?,other,negative\\n21,F,f,f,f,f,f,f,f,f,f,f,f,f,f,f,t,0.4,t,2.1,t,82,t,0.76,t,108,f,?,SVI,negative\\n50,F,t,f,f,f,f,f,f,f,f,f,f,f,f,f,t,0.15,t,2.2,t,151,t,0.91,t,166,f,?,other,negative\\n78,F,f,f,f,f,f,f,f,f,f,f,f,f,f,f,t,0.35,t,2,t,93,t,1.03,t,90,f,?,SVI,negative\\n73,F,f,f,f,f,f,f,t,f,f,f,f,f,f,f,t,0.005,f,?,t,102,t,0.89,t,115,f,?,other,negative\\n21,M,t,f,f,f,f,f,f,f,f,f,f,f,f,f,f,?,f,?,t,170,t,1.01,t,167,f,?,other,negative\\n70,F,f,f,f,f,f,f,f,f,f,f,f,f,f,f,t,1.8,t,1.8,t,85,t,0.92,t,92,f,?,SVHC,negative\\n55,M,f,f,f,f,f,f,f,f,f,f,f,f,f,t,t,0.3,t,2.1,t,100,t,1.05,t,96,f,?,SVHC,negative\\n33,F,f,f,f,f,f,f,f,f,f,f,f,f,f,f,t,6.9,f,?,t,85,t,0.89,t,95,f,?,other,compensated_hypothyroid\\n59,F,f,f,f,f,f,f,f,f,f,f,f,f,f,f,t,0.4,t,1.6,t,113,t,0.99,t,114,f,?,SVI,negative\\n87,F,f,f,f,f,f,f,f,f,f,f,f,f,f,f,t,0.79,t,1.5,t,145,t,0.88,t,165,f,?,SVI,negative\\n32,F,f,f,f,f,f,f,f,f,f,f,f,f,f,f,t,2,t,1.7,t,92,t,1.01,t,91,f,?,STMW,negative\\n72,F,f,f,f,t,f,f,f,f,f,f,f,f,f,f,t,5.8,t,1.4,t,107,t,1.07,t,100,f,?,SVI,negative\\n46,F,f,f,f,f,f,f,f,f,t,f,f,f,f,f,f,?,t,1.5,f,?,f,?,f,?,f,?,other,negative\\n34,F,f,f,f,f,f,f,f,f,t,f,f,f,f,f,t,0.005,t,2,t,54,t,1.66,t,33,f,?,STMW,negative\\n74,M,f,f,f,f,f,f,f,t,f,f,f,f,f,f,t,2,t,2.2,t,109,t,0.91,t,119,f,?,other,negative\\n70,F,f,f,f,f,f,f,f,f,f,f,f,f,f,f,t,4.4,t,1.3,t,107,t,1.12,t,95,f,?,other,negative\\n29,F,f,f,f,f,f,f,f,f,f,f,f,f,f,f,t,0.8,t,3.1,t,169,t,1.49,t,114,f,?,STMW,negative\\n53,F,t,f,f,f,f,f,f,f,f,f,f,f,f,f,t,0.32,f,?,t,145,t,0.96,t,152,f,?,other,negative\\n74,F,f,f,f,f,f,f,f,f,f,f,f,t,f,f,t,0.025,t,2.2,t,108,t,0.85,t,126,f,?,other,negative\\n75,F,f,f,f,f,f,f,f,f,f,f,f,f,f,f,t,3.8,t,1.6,t,106,t,0.88,t,120,f,?,other,negative\\n62,M,f,f,f,f,f,f,f,f,f,f,f,f,f,f,t,1.1,t,1.7,t,105,t,1.02,t,103,f,?,SVHC,negative\\n37,F,f,f,f,f,f,f,f,f,f,f,f,f,f,t,t,0.25,t,2,t,114,t,0.9,t,128,f,?,SVI,negative\\n62,M,f,f,f,f,f,f,f,f,f,f,f,f,f,f,t,0.52,t,2.1,t,100,f,?,f,?,f,?,other,negative\\n13,F,f,f,f,f,f,f,f,f,f,f,f,f,f,f,f,?,f,?,t,94,t,0.91,t,103,f,?,other,negative\\n75,M,f,f,f,f,f,f,f,f,f,f,f,f,f,f,t,1.9,t,1.4,t,79,t,0.79,t,101,f,?,SVI,negative\\n54,F,f,t,f,t,f,f,f,f,f,f,f,f,f,f,t,0.05,t,1.2,t,112,t,0.77,t,145,f,?,SVI,negative\\n83,F,f,f,f,f,f,f,f,f,f,f,f,f,f,f,t,0.25,t,2.3,t,147,t,1.09,t,135,f,?,SVI,negative\\n20,F,f,f,f,f,f,f,f,f,f,f,f,f,f,f,f,?,f,?,t,123,t,1.04,t,118,f,?,other,negative\\n1,?,f,f,f,f,f,f,f,f,f,f,f,f,f,f,t,43,f,?,f,?,f,?,f,?,f,?,STMW,primary_hypothyroid\\n70,M,f,f,f,f,f,f,f,f,f,f,f,f,f,f,t,2.3,t,1.4,t,98,t,0.94,t,105,f,?,SVI,negative\\n78,F,t,f,f,f,f,f,f,f,f,f,f,f,f,f,t,6.3,t,1.3,t,120,t,1.11,t,109,f,?,other,negative\\n38,M,f,f,f,f,f,f,f,f,t,f,f,f,f,f,t,0.37,t,2.2,t,86,t,0.75,t,115,f,?,other,negative\\n83,F,f,f,f,f,f,f,f,t,f,f,f,f,f,f,t,2.2,t,0.9,t,69,t,0.74,t,93,f,?,SVI,negative\\n71,F,f,f,f,f,f,t,f,f,f,f,f,f,f,f,t,0.03,t,1.5,t,104,t,1.05,t,100,f,?,other,negative\\n39,F,f,f,f,f,f,f,f,f,f,f,f,f,f,f,t,1.7,t,2,t,78,t,0.84,t,93,f,?,other,negative\\n46,F,f,f,f,f,f,f,f,f,f,f,f,f,f,f,f,?,t,2.9,t,158,t,1.03,t,154,f,?,other,negative\\n57,M,f,f,f,f,f,f,f,f,f,f,f,f,f,f,t,1.6,t,2.1,t,164,t,1.14,t,145,f,?,SVI,negative\\n78,F,f,f,f,f,f,f,f,f,f,f,f,f,f,f,t,3.1,t,1.1,t,112,t,0.82,t,137,f,?,SVHD,negative\\n48,M,f,f,f,f,f,f,f,f,f,f,f,f,f,f,t,0.2,t,2.5,t,91,t,1.17,t,78,f,?,SVI,negative\\n66,F,t,f,f,f,f,f,f,f,f,f,f,f,f,f,t,0.3,t,1.6,t,120,t,0.91,t,132,f,?,other,negative\\n61,F,f,f,f,t,f,f,f,f,f,f,f,f,f,f,t,0.2,t,3.8,t,252,t,1.13,t,222,f,?,other,negative\\n79,M,f,f,f,f,f,f,f,f,f,f,f,f,f,f,t,0.03,t,4.1,t,160,t,0.78,t,204,f,?,other,negative\\n61,F,f,f,f,t,f,f,f,t,f,f,f,f,f,f,t,2,f,?,t,85,t,1,t,85,f,?,other,negative\\n55,F,t,f,f,f,f,f,f,f,f,f,f,f,f,f,t,3.2,t,1.7,t,126,t,1.24,t,101,f,?,other,negative\\n49,M,f,f,f,f,f,f,f,f,f,f,f,f,f,f,t,4.9,t,0.7,t,82,t,0.79,t,104,f,?,SVI,negative\\n48,M,f,f,f,f,f,f,f,f,f,f,f,f,f,f,t,0.8,t,1,t,46,t,0.66,t,70,f,?,SVI,negative\\n61,F,t,f,f,f,f,f,f,f,f,f,f,f,f,f,t,6,t,1.5,t,97,t,0.88,t,110,f,?,other,negative\\n65,F,f,f,f,f,f,f,f,f,f,f,f,f,f,f,f,?,f,?,f,?,f,?,f,?,f,?,other,negative\\n55,F,f,f,f,f,f,f,f,f,f,f,f,f,f,f,t,0.81,t,0.3,t,61,t,0.54,t,113,f,?,SVI,negative\\n59,F,t,f,f,f,f,f,f,f,f,f,f,f,f,f,t,0.03,t,2,t,164,t,0.92,t,178,f,?,other,negative\\n29,F,f,f,f,f,f,f,f,f,f,f,f,f,f,f,t,1.3,t,1.8,t,106,t,1.17,t,91,f,?,SVHC,negative\\n37,F,f,f,f,f,f,f,f,f,f,f,f,f,f,f,f,?,f,?,f,?,f,?,f,?,f,?,other,negative\\n57,M,f,f,f,t,f,f,f,f,f,f,f,f,f,f,t,0.9,t,1.5,t,91,t,0.78,t,116,f,?,other,negative\\n75,?,f,f,f,f,f,f,f,f,f,f,f,f,f,f,t,0.12,t,1.5,t,117,t,0.94,t,125,f,?,SVI,negative\\n49,F,t,f,f,f,f,f,f,f,f,f,f,f,f,f,t,116,t,0.7,t,72,t,0.95,t,76,f,?,other,negative\\n39,M,f,f,f,f,f,f,f,f,f,f,f,f,f,f,t,0.55,f,?,t,83,t,1.04,t,80,f,?,other,negative\\n66,F,f,f,f,f,f,f,f,f,f,f,f,f,f,f,t,0.2,t,1.6,t,137,t,0.95,t,144,f,?,other,negative\\n41,F,f,f,f,f,f,f,f,f,f,f,f,f,f,f,t,0.4,t,2.5,t,98,t,1.01,t,96,f,?,other,negative\\n21,M,f,f,f,f,f,f,f,f,f,f,f,f,f,t,t,1.6,t,1.7,t,79,t,0.77,t,102,f,?,SVHC,negative\\n25,F,f,f,f,f,f,f,f,f,f,f,f,f,f,f,t,1.5,t,2.1,t,133,f,?,f,?,f,?,other,negative\\n75,F,f,f,f,f,f,f,f,f,f,f,f,f,f,f,t,1,t,2.2,t,120,t,1.03,t,117,f,?,other,negative\\n58,M,f,f,f,f,f,f,f,f,f,f,f,f,f,f,t,0.8,t,1.4,t,129,t,1.07,t,120,f,?,SVHC,negative\\n42,F,f,f,f,f,f,f,f,f,f,f,f,f,f,f,t,0.1,t,1.5,t,87,t,0.8,t,109,f,?,other,negative\\n35,F,f,f,f,f,f,f,f,f,f,f,f,f,f,f,t,0.2,t,2.1,t,139,t,1,t,139,f,?,SVI,negative\\n60,M,f,f,t,f,f,f,f,f,f,f,f,f,f,f,t,0.2,t,4,t,68,t,1,t,67,f,?,other,negative\\n49,F,t,f,f,f,f,f,f,f,f,f,f,f,f,f,t,0.6,t,2.3,t,113,t,1.02,t,111,f,?,SVHC,negative\\n33,M,f,f,f,f,f,f,f,f,f,f,f,f,f,t,t,1,t,1.4,t,88,t,0.78,t,113,f,?,SVHC,negative\\n76,F,f,f,f,f,f,f,f,f,f,f,f,f,f,f,t,1.1,t,2,t,92,t,0.95,t,97,f,?,other,negative\\n25,F,f,f,f,f,f,f,f,f,f,f,f,f,f,f,t,1.1,t,2.2,t,112,t,0.98,t,115,f,?,STMW,negative\\n75,F,f,f,f,f,f,f,t,f,f,f,f,f,f,f,t,0.31,t,2.2,t,85,t,1.19,t,71,f,?,other,negative\\n68,F,f,f,f,f,f,f,f,f,f,f,f,f,f,f,t,2.4,t,1.3,t,80,t,0.88,t,91,f,?,other,negative\\n48,F,f,f,f,f,f,f,f,t,f,f,f,f,f,f,t,98,t,1.9,t,29,t,1.11,t,26,f,?,other,primary_hypothyroid\\n35,F,f,f,f,f,f,f,f,f,f,f,f,f,f,t,t,0.93,t,2.8,t,155,t,1.01,t,153,f,?,SVHC,negative\\n26,F,f,f,f,f,f,f,f,f,f,f,f,f,f,f,f,?,f,?,t,115,t,1.08,t,107,f,?,other,negative\\n71,M,f,f,f,f,f,f,f,f,f,f,f,f,f,f,t,0.48,t,1.7,t,97,t,1.04,t,93,f,?,SVI,negative\\n25,M,f,f,f,f,f,f,f,f,f,f,f,f,f,f,t,8.8,t,2.2,t,109,t,0.97,t,113,f,?,other,compensated_hypothyroid\\n30,F,f,f,f,f,f,f,f,t,f,f,f,f,f,f,t,2.6,t,1.7,t,82,t,1.03,t,79,f,?,other,negative\\n68,?,f,f,f,f,f,f,f,f,f,f,f,f,f,f,f,?,f,?,t,175,t,0.86,t,204,f,?,other,negative\\n50,F,t,f,f,f,f,f,f,f,f,f,f,f,f,f,t,0.05,f,?,t,105,t,0.92,t,114,f,?,other,negative\\n15,M,f,f,f,f,f,f,f,f,f,f,f,f,f,t,t,2.3,t,3.4,t,115,t,0.96,t,120,f,?,other,negative\\n68,F,t,f,f,f,f,f,t,f,t,f,f,f,f,f,t,2.6,t,2,t,152,t,1.41,t,108,f,?,other,negative\\n71,F,f,f,f,f,f,f,f,t,f,f,f,f,f,f,t,9.4,t,1.4,t,77,t,0.89,t,87,f,?,SVI,compensated_hypothyroid\\n34,F,f,f,f,f,f,f,f,f,f,f,f,f,f,f,t,6.2,f,?,t,116,t,1.13,t,103,f,?,other,compensated_hypothyroid\\n73,F,f,f,f,f,f,t,f,f,f,f,f,f,f,f,t,3,t,1.9,t,106,f,?,f,?,f,?,other,negative\\n69,F,f,f,f,t,f,f,f,f,f,f,f,f,f,f,t,2.5,t,1.5,t,82,t,0.66,t,124,f,?,SVI,negative\\n69,F,f,f,f,f,f,f,f,f,f,f,f,f,f,f,t,0.8,t,2.4,t,73,t,0.97,t,75,f,?,other,negative\\n47,M,t,f,f,f,f,f,f,f,f,f,f,f,f,f,t,2.7,t,2,t,110,t,1.02,t,108,f,?,other,negative\\n46,M,t,f,f,f,f,t,f,t,f,f,f,f,f,f,t,1.4,t,2.2,t,122,t,1.03,t,119,f,?,other,negative\\n42,F,f,f,t,f,t,f,f,f,t,f,f,f,f,f,t,0.005,t,3.9,t,205,t,1.7,t,121,f,?,STMW,negative\\n15,F,f,f,f,f,f,f,f,f,f,f,f,f,f,f,f,?,f,?,t,92,t,1.06,t,87,f,?,other,negative\\n60,M,f,f,f,f,f,f,f,f,f,f,f,f,f,f,t,0.005,t,7.1,t,184,t,1.03,t,177,f,?,other,negative\\n28,F,f,f,f,f,f,f,f,f,f,f,f,f,f,f,t,0.5,t,2.5,t,84,t,1.06,t,79,f,?,other,negative\\n49,M,f,f,f,f,f,f,f,f,f,f,f,f,f,f,t,0.02,f,?,t,131,t,0.83,t,158,f,?,other,negative\\n57,M,t,f,f,f,f,f,f,f,f,f,f,f,f,f,t,0.2,t,1.6,t,141,t,0.89,t,158,f,?,other,negative\\n59,F,f,f,f,f,f,f,f,f,f,f,f,f,f,f,t,1.1,t,3.8,t,263,t,1.7,t,155,f,?,SVHD,negative\\n58,F,f,f,f,f,f,f,f,f,f,f,f,f,f,f,t,0.8,t,2.2,t,96,t,0.86,t,111,f,?,SVI,negative\\n67,F,f,f,f,f,f,f,f,t,f,f,f,f,f,f,t,0.6,f,?,t,76,t,0.86,t,88,f,?,other,negative\\n71,F,f,f,f,f,f,t,f,f,f,f,f,f,f,f,t,0.01,f,?,t,146,t,0.93,t,156,f,?,other,negative\\n31,M,f,f,f,f,f,f,f,f,f,f,f,f,f,f,t,1.3,t,1.5,t,101,t,0.89,t,113,f,?,SVI,negative\\n37,F,f,f,f,f,f,f,f,f,f,f,f,f,f,f,t,1.4,t,2,t,99,t,1.02,t,97,f,?,SVHC,negative\\n88,F,f,f,f,f,f,f,f,f,f,f,f,f,f,f,t,13,f,?,t,123,t,0.99,t,124,f,?,SVI,compensated_hypothyroid\\n34,M,f,f,f,f,f,f,f,f,f,f,f,f,f,t,t,2.2,t,2.3,t,99,t,0.79,t,125,f,?,SVHC,negative\\n29,F,f,f,f,f,f,f,f,f,f,f,f,f,f,f,t,0.59,f,?,t,80,t,0.82,t,98,f,?,other,negative\\n75,F,t,f,f,f,f,f,f,f,f,f,f,f,f,f,t,0.1,t,3.1,t,141,t,0.95,t,149,f,?,other,negative\\n56,M,f,f,f,f,f,f,f,f,f,f,f,f,f,f,t,2.8,t,1.7,t,113,f,?,f,?,f,?,other,negative\\n35,F,f,f,f,f,f,t,f,f,f,f,f,f,f,f,t,0.14,t,1.9,t,73,t,1.16,t,63,f,?,other,negative\\n69,M,t,f,f,f,f,f,t,f,t,f,f,f,f,f,t,0.71,f,?,t,91,t,0.94,t,98,f,?,other,negative\\n66,M,f,f,f,f,f,f,f,t,f,f,f,f,f,f,t,0.045,t,0.3,t,72,t,0.61,t,119,f,?,SVI,negative\\n61,M,f,f,f,f,f,f,f,f,f,f,f,f,f,f,t,2.1,t,1.3,t,92,t,0.89,t,103,f,?,SVI,negative\\n47,F,f,f,f,t,f,f,f,f,f,f,f,f,f,f,t,1.7,t,1.7,t,91,t,0.96,t,94,f,?,SVHD,negative\\n34,M,f,f,f,f,f,f,f,f,f,f,f,f,f,f,t,0.88,t,3,t,69,t,0.67,t,102,f,?,SVHC,negative\\n29,F,f,f,f,f,f,f,f,f,f,f,f,f,f,f,t,2.1,t,2.2,t,101,t,0.79,t,129,f,?,other,negative\\n26,M,f,f,f,f,f,f,f,f,f,f,f,f,f,f,t,1.1,t,2,t,72,t,0.69,t,104,f,?,other,negative\\n41,M,f,f,f,f,f,f,f,f,f,f,f,f,f,f,t,0.025,t,4.4,t,138,t,0.64,t,218,f,?,other,negative\\n63,F,f,f,f,f,f,f,f,t,f,f,f,f,f,t,t,0.2,t,1.1,t,187,t,0.95,t,197,f,?,other,negative\\n81,F,f,f,f,f,f,f,f,f,f,f,f,f,f,f,t,3.1,t,1.8,t,105,t,0.92,t,114,f,?,SVI,negative\\n46,M,f,f,f,f,f,f,f,f,f,f,f,f,f,t,t,0.98,t,2.5,t,120,t,1.06,t,113,f,?,SVHC,negative\\n69,F,t,t,f,f,f,f,f,f,f,f,f,f,f,f,t,7.1,f,?,t,93,t,1.1,t,85,f,?,other,negative\\n70,F,f,f,f,f,f,f,f,f,f,f,f,f,f,f,t,3.8,t,3.1,t,110,t,1.08,t,102,f,?,SVHC,negative\\n40,M,f,f,f,f,f,f,f,f,f,f,f,f,f,f,t,1.8,t,2,t,88,f,?,f,?,f,?,other,negative\\n63,M,f,f,f,f,f,f,f,f,f,f,f,f,f,f,t,2.4,t,1.1,t,124,t,0.85,t,145,f,?,SVI,negative\\n72,M,f,f,f,f,f,f,f,f,t,f,f,t,f,f,f,?,t,2.8,t,120,t,1.18,t,102,f,?,other,negative\\n27,F,f,f,f,f,f,f,f,f,f,f,f,f,f,f,t,1.9,t,2.4,t,115,t,1.14,t,100,f,?,SVI,negative\\n1,M,t,f,f,f,f,f,f,f,f,f,f,f,f,f,f,?,f,?,f,?,f,?,f,?,f,?,other,negative\\n62,F,f,f,f,f,f,f,f,f,t,f,f,f,f,f,t,1.2,f,?,t,84,t,0.9,t,94,f,?,other,negative\\n72,?,f,f,f,t,f,f,f,f,f,f,f,f,f,f,f,?,f,?,f,?,f,?,f,?,f,?,other,negative\\n15,M,f,f,f,f,f,f,f,f,f,f,f,f,f,f,f,?,f,?,f,?,f,?,f,?,f,?,other,negative\\n68,F,f,f,f,f,f,f,f,f,f,f,f,f,f,f,t,1.2,f,?,t,125,t,1.11,t,113,f,?,SVI,negative\\n63,M,t,f,f,f,f,f,f,f,f,f,f,f,f,f,t,0.1,f,?,t,80,t,0.84,t,95,f,?,other,negative\\n29,F,f,f,f,f,t,f,f,f,f,f,f,t,f,f,t,1.4,t,3.4,t,147,t,1.49,t,99,f,?,STMW,negative\\n48,F,f,f,f,f,f,f,f,f,f,f,f,f,f,f,t,0.15,t,2,t,124,t,0.96,t,130,f,?,other,negative\\n60,M,f,f,f,f,f,f,f,f,f,f,f,f,f,f,f,?,f,?,f,?,f,?,f,?,f,?,other,negative\\n38,M,f,f,f,f,f,f,f,t,f,f,f,f,f,f,t,3.9,t,2.2,t,61,t,0.76,t,80,f,?,other,negative\\n28,F,f,f,f,f,f,f,f,f,f,f,f,f,f,f,t,2.8,t,2.2,t,83,t,1,t,82,f,?,other,negative\\n65,F,f,f,f,f,f,f,f,f,f,f,f,f,f,f,t,2,t,2.6,t,134,t,0.99,t,136,f,?,SVI,negative\\n20,F,f,f,f,f,f,f,f,f,f,f,f,f,f,f,t,0.7,t,5.4,t,148,t,1.48,t,100,f,?,STMW,negative\\n75,F,t,f,f,f,f,f,f,f,f,f,f,f,f,f,t,0.25,t,2.1,t,172,t,1.01,t,171,f,?,other,negative\\n31,F,f,f,f,t,f,f,f,f,f,f,f,f,f,f,t,3.1,t,1.8,t,120,t,1.22,t,99,f,?,other,negative\\n65,F,t,f,f,f,f,f,f,f,f,f,f,f,f,f,t,0.4,f,?,t,175,t,1.12,t,156,f,?,other,negative\\n83,?,f,f,f,f,f,f,f,f,f,f,f,f,f,f,t,19,f,?,t,148,t,1.11,t,134,f,?,other,compensated_hypothyroid\\n19,F,f,f,f,f,f,f,f,t,f,f,f,f,f,f,t,3.7,t,1.1,t,126,t,0.91,t,138,f,?,SVI,negative\\n75,M,f,f,f,f,f,f,f,f,f,f,f,f,f,f,t,0.97,t,0.6,t,80,t,0.72,t,110,f,?,SVI,negative\\n35,F,f,f,f,f,f,f,f,f,f,f,f,f,f,f,t,1.2,t,2,t,89,f,?,f,?,f,?,other,negative\\n35,F,f,f,f,f,f,f,f,f,f,f,f,f,f,f,f,?,f,?,t,96,t,0.76,t,127,f,?,other,negative\\n57,M,f,f,f,f,f,f,f,f,f,f,f,f,f,f,f,?,f,?,f,?,f,?,f,?,f,?,other,negative\\n59,F,f,f,f,f,f,f,f,f,f,f,f,f,f,f,t,11,t,1.5,t,89,t,1.12,t,79,f,?,SVI,compensated_hypothyroid\\n64,M,f,f,f,f,f,f,f,f,f,f,f,f,f,f,t,2.7,t,2.2,t,174,f,?,f,?,f,?,other,negative\\n77,F,f,f,f,f,f,f,f,f,f,f,f,f,f,f,t,0.2,t,1.6,t,84,t,0.87,t,97,f,?,SVI,negative\\n55,F,f,f,f,f,f,f,f,f,f,f,f,f,f,f,t,0.2,t,3.6,t,301,t,1.75,t,172,f,?,other,negative\\n39,F,f,f,f,f,f,f,f,f,f,f,f,f,f,f,f,?,f,?,f,?,f,?,f,?,f,?,other,negative\\n94,M,f,f,f,f,f,f,f,f,f,f,f,f,f,f,t,1.9,t,1.3,t,119,t,1.04,t,114,f,?,SVI,negative\\n41,F,f,f,f,f,f,f,t,f,f,f,f,f,f,f,t,5.1,t,1.8,t,91,t,1.12,t,82,f,?,other,negative\\n30,F,f,f,f,f,f,f,f,f,f,f,f,f,f,f,t,1.2,t,3.5,t,120,t,1.22,t,98,f,?,other,negative\\n25,M,f,f,f,f,f,f,f,f,f,f,f,f,f,f,t,0.4,t,2.3,t,107,t,0.94,t,114,f,?,other,negative\\n76,F,f,f,f,f,f,f,f,f,f,f,f,f,f,f,t,1.3,t,1.8,t,101,t,1.17,t,86,f,?,other,negative\\n37,F,f,f,f,f,f,f,f,f,f,f,f,f,f,f,t,0.09,t,2.2,t,128,t,0.75,t,172,f,?,other,negative\\n59,M,f,f,f,f,f,f,f,f,f,f,f,f,f,f,t,0.05,t,2,t,118,t,0.92,t,129,f,?,SVHC,negative\\n66,F,f,f,f,f,f,f,f,f,t,f,f,f,f,f,f,?,t,2.8,f,?,f,?,f,?,f,?,other,negative\\n37,F,t,f,f,f,f,f,f,f,f,f,f,f,f,f,t,0.05,f,?,t,181,t,1.21,t,150,f,?,other,negative\\n53,F,t,f,f,f,f,f,f,t,f,f,f,f,f,f,t,3.9,f,?,t,114,t,1.17,t,97,f,?,other,negative\\n57,M,f,f,f,f,f,f,f,f,f,f,f,f,f,f,t,0.93,t,1.3,t,90,t,1.04,t,86,f,?,other,negative\\n60,M,f,f,f,f,f,f,f,f,f,f,f,f,f,f,t,36,t,0.6,t,23,t,0.68,t,34,f,?,SVI,primary_hypothyroid\\n60,M,f,f,f,f,f,f,f,f,f,f,f,f,f,f,t,0.5,t,2.4,t,93,t,1.04,t,89,f,?,other,negative\\n83,F,f,f,f,f,f,f,f,f,f,f,f,f,f,f,t,2.9,t,1.3,t,92,t,1,t,92,f,?,SVI,negative\\n57,M,f,f,f,f,f,f,f,f,f,f,f,f,f,f,t,1.1,t,3,t,117,t,0.97,t,120,f,?,other,negative\\n50,F,t,f,f,f,f,f,t,f,f,f,f,f,f,f,t,61,f,?,t,13,t,1.18,t,11,f,?,other,primary_hypothyroid\\n77,M,f,f,f,f,f,f,f,f,f,f,f,f,f,f,t,1.3,t,0.5,t,54,t,0.86,t,62,f,?,SVI,negative\\n55,F,f,f,f,f,f,f,f,f,f,f,f,f,f,f,f,?,f,?,f,?,f,?,f,?,f,?,other,negative\\n67,F,t,f,f,f,f,f,f,f,f,f,f,f,f,f,t,0.015,t,4.2,t,188,t,1.39,t,135,f,?,other,negative\\n71,F,f,f,f,f,f,f,f,f,f,f,f,f,f,f,t,0.59,t,2.1,t,119,t,1.08,t,110,f,?,SVHC,negative\\n60,F,f,f,f,f,f,f,f,f,t,f,f,f,f,f,t,99,t,0.8,t,12,t,1.27,t,10,f,?,other,primary_hypothyroid\\n44,M,f,f,f,f,f,f,f,f,f,f,f,f,f,f,t,0.1,t,2.5,t,87,t,0.98,t,88,f,?,SVHC,negative\\n60,F,f,f,f,f,f,f,f,f,f,f,f,f,f,f,t,2.4,f,?,f,?,f,?,f,?,f,?,other,negative\\n41,F,f,f,f,f,f,f,f,f,f,f,f,f,f,f,t,2.8,t,1.6,t,75,t,0.76,t,99,f,?,other,negative\\n63,F,f,f,f,f,f,f,f,f,f,f,f,f,f,f,t,0.9,t,2.1,t,153,t,1.22,t,126,f,?,other,negative\\n48,F,f,f,f,f,f,f,f,f,f,f,f,f,f,f,t,1.8,t,2.7,t,124,t,1.2,t,104,f,?,SVI,negative\\n65,M,f,f,f,f,f,f,f,f,t,f,f,f,f,f,t,2,t,2.1,t,154,t,0.99,t,156,f,?,other,negative\\n66,F,f,f,f,f,f,f,t,f,f,f,f,f,f,f,t,3.8,t,2.1,t,79,t,1.07,t,74,f,?,other,negative\\n59,F,f,f,f,t,f,f,f,f,f,f,f,f,f,f,t,0.6,t,1.5,t,133,t,1.19,t,112,f,?,SVI,negative\\n60,F,f,f,f,f,f,f,f,t,f,f,f,f,f,f,t,183,t,1.1,t,45,t,0.97,t,46,f,?,other,primary_hypothyroid\\n70,F,t,f,f,f,f,f,f,f,f,f,f,f,f,f,t,0.15,f,?,t,162,t,1.12,t,146,f,?,other,negative\\n25,M,f,f,f,f,f,f,f,f,f,f,f,f,f,f,t,1.3,t,1.8,t,118,t,0.99,t,119,f,?,SVHC,negative\\n12,M,t,f,f,f,f,f,f,f,f,f,f,f,f,f,t,0.1,t,3,t,176,t,0.89,t,197,f,?,other,negative\\n37,M,f,f,f,f,f,f,f,f,f,f,f,f,f,f,f,?,t,4.3,t,187,t,0.96,t,194,f,?,other,negative\\n54,M,f,f,f,t,f,f,f,f,f,f,f,f,f,f,t,0.46,t,3,t,116,t,1.05,t,110,f,?,SVHD,negative\\n49,M,f,f,f,f,f,f,f,f,f,f,f,f,f,f,t,2.5,t,1.5,t,101,t,1.11,t,92,f,?,SVHC,negative\\n65,M,f,f,f,f,f,f,f,f,f,f,f,f,f,f,t,1.2,t,0.6,t,61,t,0.59,t,105,f,?,SVI,negative\\n44,F,f,f,f,f,f,f,f,f,t,f,f,f,f,f,t,1.9,t,2.9,t,164,t,1.38,t,119,f,?,other,negative\\n77,F,f,f,f,f,f,f,f,t,t,f,f,f,f,f,f,?,t,1.8,t,111,t,0.96,t,115,f,?,other,negative\\n55,M,f,f,f,f,f,f,f,f,f,f,f,f,f,f,t,2,t,1.2,t,95,t,0.98,t,96,f,?,SVI,negative\\n75,F,f,f,f,f,f,f,f,f,f,f,f,f,f,f,t,5.1,t,2.2,t,82,t,0.78,t,105,f,?,SVI,negative\\n77,F,f,f,f,f,f,f,f,f,f,f,f,f,f,f,t,1.6,t,2.3,t,144,t,0.95,t,152,f,?,SVI,negative\\n34,M,f,f,f,f,f,f,f,f,f,f,f,f,f,t,t,1.3,t,1.8,t,86,t,0.86,t,101,f,?,SVHC,negative\\n60,F,f,f,f,f,f,f,f,f,t,f,f,f,f,f,t,0.025,t,3.9,t,123,t,0.98,t,126,f,?,other,negative\\n83,M,f,f,f,f,f,f,f,f,f,f,f,f,f,f,t,0.2,t,1.1,t,95,t,0.73,t,129,f,?,SVI,negative\\n31,M,f,f,f,f,f,f,f,f,f,f,f,f,f,f,t,2.2,t,2.3,t,132,t,1.16,t,114,f,?,other,negative\\n67,F,f,f,f,f,f,f,f,f,f,f,f,f,f,f,t,46,t,1,t,48,t,0.98,t,49,f,?,SVI,primary_hypothyroid\\n35,M,f,f,f,f,f,f,f,f,t,f,f,f,f,f,f,?,t,2.2,t,81,t,0.96,t,84,f,?,other,negative\\n70,F,f,f,f,f,f,f,f,f,f,f,f,f,f,f,t,2.1,t,2.3,t,180,t,1.3,t,139,f,?,other,negative\\n19,F,f,f,f,f,f,f,f,f,f,f,f,f,f,f,t,4,t,2.9,t,122,t,1.02,t,119,f,?,SVHC,negative\\n89,F,f,f,f,f,f,f,f,f,f,f,f,f,f,f,t,2.5,t,1.6,t,108,t,0.92,t,118,f,?,SVI,negative\\n1,M,f,f,f,f,f,f,f,f,f,f,f,f,f,f,t,1.5,t,1.4,t,82,t,0.74,t,111,f,?,other,negative\\n7,M,f,f,f,f,f,f,f,f,f,f,f,f,f,f,t,2.4,f,?,t,155,t,0.94,t,165,f,?,other,negative\\n53,M,f,f,f,f,f,f,f,f,f,f,f,f,f,f,t,1.4,t,1.9,t,104,t,0.93,t,112,f,?,SVI,negative\\n63,F,t,f,f,f,f,f,f,f,f,f,f,f,f,f,t,0.005,t,3.4,t,210,t,1.11,t,188,f,?,other,negative\\n78,?,f,f,f,f,f,f,f,f,f,f,f,f,f,f,t,0.3,t,1.7,t,76,t,0.86,t,88,f,?,SVHC,negative\\n54,F,f,f,f,f,f,f,f,f,f,f,f,f,f,f,t,1.6,t,2.9,t,115,t,1.07,t,107,f,?,other,negative\\n22,M,f,f,f,f,f,f,f,f,t,f,f,f,f,f,t,1,t,2.3,t,87,t,0.89,t,98,f,?,other,negative\\n48,F,t,f,f,f,f,f,f,f,f,t,f,f,f,f,t,1.5,t,2.5,t,101,t,0.97,t,104,f,?,SVHC,negative\\n64,F,f,f,f,f,f,f,f,f,f,f,f,f,f,f,t,0.3,t,2.8,t,123,t,1.23,t,100,f,?,SVHC,negative\\n8,F,f,f,f,f,f,f,f,f,f,f,f,f,f,f,t,3.4,f,?,t,87,t,1,t,87,f,?,other,negative\\n52,F,f,f,f,f,f,f,f,f,f,f,f,f,f,f,t,1.7,t,2.1,t,103,t,1.03,t,100,f,?,other,negative\\n46,F,f,f,f,f,f,f,f,f,f,f,f,f,f,f,t,4.6,t,1.2,t,48,t,0.89,t,54,f,?,other,secondary_hypothyroid\\n74,F,f,f,f,f,f,f,f,f,f,f,f,f,f,t,t,2.4,t,1.2,t,95,t,0.8,t,119,f,?,SVHC,negative\\n29,F,f,f,f,f,t,f,f,f,f,f,f,f,f,f,t,0.62,t,3.8,t,211,t,1.88,t,112,f,?,STMW,negative\\n25,F,t,f,f,f,f,f,f,t,f,f,f,f,f,f,t,2.4,t,2.2,t,152,t,1.36,t,112,f,?,other,negative\\n26,F,t,f,f,f,f,f,f,f,f,f,f,f,f,f,t,2.1,f,?,t,83,t,0.7,t,117,f,?,other,negative\\n55,F,f,f,f,f,f,f,f,f,f,f,f,f,f,f,f,?,f,?,f,?,f,?,f,?,f,?,other,negative\\n37,M,f,f,f,f,f,f,f,f,f,f,f,f,f,t,t,1.1,t,2,t,111,t,0.91,t,123,f,?,SVHC,negative\\n16,?,t,f,f,f,f,f,f,f,t,f,f,f,f,f,t,4.9,t,1.8,t,143,t,0.97,t,148,f,?,other,negative\\n24,F,t,f,f,f,f,f,f,f,f,f,f,f,f,f,t,0.09,f,?,t,126,t,0.86,t,146,f,?,other,negative\\n61,F,f,f,f,f,f,f,f,f,f,f,f,f,f,f,t,0.05,t,2.4,t,128,t,1.13,t,114,f,?,other,negative\\n53,F,f,f,f,f,f,f,f,f,f,f,f,f,f,f,f,?,f,?,f,?,f,?,f,?,f,?,other,negative\\n27,M,f,f,f,f,f,f,f,f,f,f,f,f,f,f,f,?,t,2.3,t,100,t,0.88,t,113,f,?,other,negative\\n14,F,f,f,f,f,f,f,f,f,f,f,f,f,f,f,t,1.9,t,3,t,128,t,1.11,t,116,f,?,other,negative\\n52,F,f,f,f,f,f,f,f,f,f,f,f,f,f,f,t,0.45,t,2.1,t,107,t,0.9,t,119,f,?,other,negative\\n57,M,f,f,f,f,f,f,f,f,f,f,f,f,f,t,t,1.3,t,2.7,t,89,t,0.91,t,99,f,?,SVHC,negative\\n28,F,f,f,f,f,f,f,f,f,f,f,f,f,f,f,t,4.4,t,2.8,t,103,t,1.1,t,94,f,?,other,negative\\n55,M,f,f,f,f,f,f,f,f,f,f,f,f,f,f,t,1.3,f,?,t,72,t,0.75,t,96,f,?,other,negative\\n15,F,f,f,f,f,f,f,f,f,f,f,f,f,f,f,f,?,t,1.5,t,135,f,?,f,?,f,?,other,negative\\n51,F,f,f,f,f,f,f,f,f,f,f,f,f,f,f,f,?,f,?,f,?,f,?,f,?,f,?,other,negative\\n62,F,t,f,f,f,f,t,f,f,f,f,f,f,f,f,t,3.4,t,1.3,t,134,t,1.19,t,113,f,?,other,negative\\n63,F,f,f,f,f,f,f,f,f,f,f,f,f,f,f,t,3.3,t,0.9,t,82,t,1.1,t,75,f,?,other,negative\\n75,F,f,f,t,f,f,f,f,f,t,f,f,f,f,f,t,0.2,t,3.4,t,103,t,1.32,t,78,f,?,other,negative\\n53,F,t,f,f,f,f,f,f,t,f,f,f,f,f,f,t,78,f,?,t,78,t,1.16,t,67,f,?,other,negative\\n82,F,f,f,f,f,f,f,f,f,f,f,f,f,f,f,t,0.17,t,1.8,t,119,t,0.91,t,130,f,?,SVI,negative\\n72,F,f,f,f,f,f,f,f,f,f,f,t,f,f,f,t,3.7,t,1.3,t,83,t,1.38,t,60,f,?,SVI,negative\\n92,F,t,f,f,f,f,f,f,f,f,f,f,t,f,f,t,0.3,f,?,f,?,f,?,f,?,f,?,other,negative\\n35,M,f,f,f,f,f,f,f,f,f,f,f,f,f,f,t,1.7,t,2.2,t,114,t,0.93,t,123,f,?,other,negative\\n51,M,f,t,f,f,f,f,f,f,f,f,f,f,f,f,f,?,f,?,t,77,t,0.77,t,99,f,?,other,negative\\n55,M,f,f,f,f,f,f,f,f,f,f,f,f,f,f,t,0.91,t,1.8,t,93,t,1.04,t,89,f,?,SVI,negative\\n73,F,f,f,f,f,f,f,f,f,f,f,f,f,f,f,t,1.2,t,2.3,t,74,f,?,f,?,f,?,other,negative\\n24,M,f,f,f,f,f,f,f,f,f,f,f,f,f,t,t,0.1,t,1.6,t,182,f,?,f,?,f,?,SVHC,negative\\n20,M,f,f,f,f,f,f,f,f,f,f,f,f,f,f,t,0.015,t,4.8,t,22,f,?,f,?,f,?,SVI,negative\\n24,F,f,f,f,f,f,f,f,f,f,f,f,f,f,f,t,10,t,2.5,t,110,t,1.17,t,94,f,?,other,compensated_hypothyroid\\n39,F,f,f,f,f,f,f,f,f,t,f,f,f,f,f,t,0.015,t,1.5,t,84,t,0.99,t,85,f,?,other,negative\\n41,F,f,f,f,f,f,f,f,f,t,f,f,f,f,f,t,0.2,t,3.8,t,253,t,1.24,t,204,f,?,STMW,negative\\n31,F,f,f,f,f,f,f,f,f,f,f,f,f,f,f,f,?,f,?,t,196,t,0.94,t,209,f,?,other,negative\\n71,F,f,f,f,f,f,f,f,f,f,f,f,f,f,f,t,1.5,t,2,t,96,t,1.05,t,92,f,?,SVI,negative\\n25,F,f,f,f,f,f,f,f,f,f,f,f,f,f,f,t,468,t,0.7,t,21,t,1.1,t,19,f,?,other,primary_hypothyroid\\n84,M,f,f,f,f,f,f,f,f,f,f,f,f,f,t,t,3.6,t,0.6,t,82,t,0.74,t,110,f,?,SVI,negative\\n82,M,f,f,f,f,f,f,f,f,f,f,f,f,f,f,t,2.2,t,1,t,68,t,0.77,t,88,f,?,SVI,negative\\n55,M,f,f,f,f,f,f,f,f,f,f,f,f,f,f,f,?,t,2.1,f,?,f,?,f,?,f,?,other,negative\\n79,M,f,f,f,f,f,f,f,f,f,f,f,f,f,f,t,1.1,t,0.7,t,116,t,0.85,t,137,f,?,SVI,negative\\n54,?,f,f,f,f,f,f,f,f,f,f,f,f,f,f,t,2.9,t,2.1,t,127,t,1.24,t,102,f,?,SVI,negative\\n52,F,f,f,f,f,f,t,f,f,f,f,f,f,f,f,t,0.5,t,1.6,t,80,t,0.82,t,98,f,?,other,negative\\n27,?,f,f,f,f,f,f,f,f,f,f,f,f,f,f,t,1.6,t,2.4,t,121,t,1.23,t,98,f,?,other,negative\\n49,F,f,f,f,f,f,f,f,f,f,f,f,f,f,f,f,?,f,?,f,?,f,?,f,?,f,?,other,negative\\n72,F,f,f,f,f,f,f,f,f,f,f,f,f,f,f,t,4.8,f,?,t,87,t,0.93,t,93,f,?,other,negative\\n50,F,f,f,f,f,f,f,f,t,f,f,f,f,f,f,t,4.8,t,0.6,t,98,t,0.8,t,122,f,?,SVI,negative\\n82,F,f,f,f,f,f,f,f,f,f,f,f,f,f,f,t,0.5,f,?,t,125,t,0.84,t,149,f,?,other,negative\\n27,F,f,f,f,f,f,f,f,f,f,f,f,f,f,f,t,1.9,t,1.5,t,104,f,?,f,?,f,?,other,negative\\n57,M,f,f,f,t,f,f,f,f,f,f,f,f,f,f,t,1,t,1.6,t,73,t,0.97,t,75,f,?,SVI,negative\\n73,?,f,f,f,f,f,f,f,f,f,f,f,f,f,f,t,0.015,t,1.8,t,173,t,1,t,173,f,?,other,negative\\n58,M,f,f,f,f,f,f,f,f,f,f,f,f,f,f,f,?,t,1.6,f,?,f,?,f,?,f,?,other,negative\\n70,M,f,f,f,f,f,f,f,f,f,f,f,f,f,f,t,1.5,t,1.5,t,70,t,0.77,t,91,f,?,SVI,negative\\n54,F,f,f,f,f,f,f,f,f,f,f,f,f,f,f,f,?,f,?,f,?,f,?,f,?,f,?,other,negative\\n67,M,f,f,f,f,f,f,f,t,f,f,f,f,f,f,t,2.1,t,2,t,83,t,0.96,t,87,f,?,SVI,negative\\n68,F,f,f,f,f,f,f,f,f,f,f,f,f,f,f,t,1,f,?,t,103,t,1.01,t,102,f,?,SVI,negative\\n63,?,f,f,f,f,f,f,f,f,f,f,f,f,f,f,f,?,f,?,f,?,f,?,f,?,f,?,other,negative\\n82,F,f,f,f,f,f,f,f,f,f,f,f,f,f,f,t,0.03,t,1.4,t,74,t,0.52,t,143,f,?,other,negative\\n25,F,f,f,f,f,f,f,f,f,f,f,f,f,f,f,t,1.9,t,1.7,t,167,t,1.21,t,137,f,?,other,negative\\n70,M,f,f,f,f,f,f,f,f,f,f,f,f,f,f,t,2.7,f,?,t,155,t,1.05,t,148,f,?,SVI,negative\\n73,M,f,t,f,f,f,f,f,f,f,f,f,f,f,f,f,?,t,0.7,t,63,t,0.88,t,72,f,?,other,negative\\n75,M,f,f,f,f,f,f,f,f,t,f,f,f,f,f,f,?,f,?,t,147,t,0.8,t,183,f,?,other,negative\\n60,F,f,f,f,f,f,f,f,f,f,f,f,f,f,f,t,1.4,f,?,t,100,t,0.83,t,121,f,?,other,negative\\n81,F,f,f,f,f,f,f,f,f,f,f,f,f,f,f,t,1.2,t,1.5,t,114,t,0.99,t,115,f,?,SVI,negative\\n35,F,f,f,f,f,f,f,f,f,f,f,f,f,f,f,f,?,f,?,f,?,f,?,f,?,f,?,other,negative\\n63,M,f,f,f,f,f,f,f,f,f,f,f,f,f,f,t,3.5,t,2.5,t,108,t,0.96,t,113,f,?,SVI,negative\\n25,F,f,f,f,f,f,f,f,f,f,f,f,f,f,f,t,4.6,t,2.4,t,61,t,0.82,t,75,f,?,SVHD,negative\\n53,F,f,f,f,f,f,f,f,t,f,f,f,f,f,f,t,0.25,t,2.1,t,145,t,1.03,t,141,f,?,other,negative\\n92,F,f,f,f,f,f,f,f,f,f,f,f,f,f,f,t,0.7,t,1.3,t,120,t,0.84,t,143,f,?,SVI,negative\\n67,M,f,f,f,f,f,f,f,t,f,f,f,f,f,f,t,0.81,f,?,t,84,t,0.83,t,101,f,?,other,negative\\n60,F,f,f,f,f,f,f,f,f,f,f,f,f,f,f,t,1.2,t,2.6,t,117,t,1.31,t,90,f,?,other,negative\\n60,F,f,f,f,f,f,f,f,f,f,f,f,f,f,f,t,27,t,1.8,t,65,t,0.99,t,66,f,?,SVI,compensated_hypothyroid\\n48,F,f,f,f,f,f,f,f,f,f,f,f,f,f,f,t,2.8,f,?,t,112,t,0.92,t,121,f,?,other,negative\\n27,F,f,f,f,f,f,f,f,f,f,f,f,f,f,f,t,2.6,t,2.2,t,94,t,0.89,t,106,f,?,SVI,negative\\n73,F,f,f,f,f,f,f,f,f,f,f,f,f,f,f,t,4.4,t,1.2,t,95,t,1.11,t,85,f,?,SVI,negative\\n19,M,f,f,f,f,f,f,f,f,f,f,f,f,f,f,t,3.1,t,2.8,t,131,t,0.95,t,138,f,?,SVHC,negative\\n72,F,f,f,f,f,f,f,f,t,f,f,f,f,f,f,t,1.1,f,?,t,131,t,0.5,t,265,f,?,other,negative\\n16,M,f,f,f,f,f,f,f,f,f,f,f,f,f,f,t,4.5,f,?,f,?,f,?,f,?,f,?,other,negative\\n54,F,f,f,f,f,f,f,f,f,f,f,f,f,f,f,t,0.14,t,3.4,t,105,f,?,f,?,f,?,other,negative\\n39,F,t,f,f,f,f,f,f,f,f,f,f,f,f,f,t,0.06,t,2.4,t,148,t,1.07,t,138,f,?,other,negative\\n38,?,f,f,f,f,f,f,f,f,f,f,f,f,f,t,t,1.1,t,2.2,t,145,t,1.23,t,118,f,?,SVHC,negative\\n33,F,f,f,f,f,f,f,f,f,f,f,f,f,f,f,f,?,f,?,f,?,f,?,f,?,f,?,other,negative\\n45,F,f,f,f,f,f,f,f,f,f,f,f,f,f,f,t,7.4,t,1.4,t,108,t,1.08,t,100,f,?,SVI,compensated_hypothyroid\\n54,F,f,f,f,f,f,f,f,f,f,f,f,f,f,f,t,1.2,t,1.7,t,81,t,0.87,t,94,f,?,other,negative\\n21,F,f,f,f,f,f,f,f,f,f,f,t,f,f,f,f,?,f,?,t,132,t,0.87,t,152,f,?,other,negative\\n19,M,f,f,f,f,f,f,f,f,f,f,f,f,f,f,t,2.3,t,2.3,t,82,t,0.88,t,92,f,?,other,negative\\n51,F,f,f,f,f,f,f,f,f,f,f,f,f,f,f,f,?,f,?,t,92,t,0.83,t,111,f,?,other,negative\\n63,F,f,f,f,f,f,f,f,f,f,f,f,f,f,f,t,2,t,1.8,t,133,t,1.16,t,115,f,?,SVI,negative\\n51,F,f,f,f,f,f,f,f,f,f,f,f,t,f,f,t,5.8,f,?,t,261,t,2.32,t,113,f,?,other,negative\\n64,M,f,f,f,f,f,f,f,f,f,f,f,f,f,f,t,0.78,f,?,t,106,t,0.88,t,121,f,?,SVI,negative\\n19,F,f,f,f,f,f,f,f,f,f,f,f,f,f,f,t,4,t,2.2,t,90,t,1.16,t,78,f,?,other,negative\\n40,F,f,f,f,f,f,f,f,f,f,f,f,f,f,f,t,1,t,1.1,t,111,t,1.02,t,109,f,?,other,negative\\n54,F,f,f,f,f,f,f,f,f,f,f,f,f,f,f,t,0.52,f,?,t,96,t,0.69,t,140,f,?,SVI,negative\\n19,F,f,f,f,f,f,f,f,f,f,f,f,t,f,t,t,0.4,t,2.4,t,103,t,0.91,t,114,f,?,SVHC,negative\\n33,F,f,f,f,f,f,f,f,f,f,f,f,f,f,f,t,0.3,t,2.1,t,112,f,?,f,?,f,?,other,negative\\n71,M,f,f,f,f,f,f,f,f,f,f,f,f,f,f,t,0.1,t,1.4,t,120,t,0.87,t,138,f,?,other,negative\\n49,F,f,f,f,f,f,f,f,f,f,f,f,f,f,f,t,1.9,t,1.8,t,81,t,0.91,t,88,f,?,other,negative\\n79,F,f,f,f,f,f,f,f,f,f,f,f,f,f,f,t,17,t,1.6,t,66,t,1,t,65,f,?,other,compensated_hypothyroid\\n21,F,f,f,f,f,f,f,f,f,t,f,f,f,f,f,f,?,t,3.7,t,162,t,1.47,t,110,f,?,other,negative\\n20,F,f,f,f,f,f,f,f,f,f,f,f,f,f,f,t,1.3,t,2.6,t,87,f,?,f,?,f,?,other,negative\\n20,F,f,f,f,f,f,f,f,f,f,f,t,f,f,f,t,0.2,t,3,t,135,t,1.29,t,105,f,?,other,negative\\n79,M,f,f,f,f,f,f,f,f,f,f,f,f,f,f,t,0.005,t,3.4,t,151,t,0.74,t,203,f,?,other,negative\\n64,F,t,f,f,f,f,f,f,f,f,f,f,f,f,f,t,1.2,f,?,t,89,t,0.95,t,94,f,?,other,negative\\n59,F,f,f,f,f,f,f,f,f,f,f,f,f,f,f,t,0.015,t,1.5,t,140,t,0.88,t,160,f,?,SVI,negative\\n63,F,f,f,f,f,f,f,f,f,f,f,f,f,f,f,t,1.9,t,1.9,t,125,t,1.01,t,124,f,?,SVI,negative\\n37,M,f,f,f,f,f,f,f,f,f,f,f,f,f,f,t,12,f,?,t,68,t,0.62,t,111,f,?,other,compensated_hypothyroid\\n42,F,f,f,f,f,f,f,f,f,f,f,f,f,f,f,t,2.3,t,2.2,t,178,t,1.26,t,142,f,?,other,negative\\n46,F,f,f,f,f,f,f,f,f,f,f,f,f,f,f,t,1.5,t,1.6,t,125,t,1.06,t,118,f,?,SVHC,negative\\n27,M,f,f,f,f,f,f,f,f,f,f,f,f,f,f,t,2.9,f,?,t,112,t,0.95,t,117,f,?,other,negative\\n67,F,f,f,f,f,f,f,f,f,f,f,f,f,f,f,t,1.1,t,2.3,t,114,t,1.1,t,104,f,?,SVI,negative\\n50,F,t,f,f,f,f,f,f,f,f,f,f,f,f,f,t,4,f,?,t,120,t,0.8,t,150,f,?,other,negative\\n59,F,f,f,f,f,f,f,f,f,t,f,f,f,f,f,f,?,t,2.1,t,98,t,0.9,t,108,f,?,other,negative\\n73,F,f,f,f,f,f,f,f,f,f,f,f,f,f,f,t,0.05,t,1.9,t,76,t,0.88,t,86,f,?,SVI,negative\\n67,F,t,f,f,f,f,f,f,t,f,f,f,f,f,f,t,0.42,t,1.4,t,140,t,0.98,t,143,f,?,SVI,negative\\n69,F,t,f,f,f,f,f,f,f,f,f,f,f,f,f,t,0.1,t,2.1,t,188,t,0.97,t,194,f,?,other,negative\\n30,F,f,f,f,f,f,f,f,f,f,f,f,t,f,f,t,1.4,t,2.2,t,122,t,1.1,t,111,f,?,other,negative\\n31,F,t,f,f,f,f,f,f,t,f,f,f,f,f,f,t,5,f,?,t,141,t,1.09,t,130,f,?,other,negative\\n31,F,f,f,f,f,f,f,f,f,f,f,f,f,f,f,t,0.3,t,2.7,t,108,t,1.05,t,103,f,?,SVHC,negative\\n38,F,f,f,f,f,f,f,f,f,f,f,f,f,f,f,t,0.5,t,2.2,t,88,t,0.96,t,92,f,?,SVI,negative\\n89,M,f,f,f,f,f,f,f,f,f,f,f,f,f,f,t,0.9,t,2.4,t,105,t,0.95,t,110,f,?,SVI,negative\\n77,F,f,f,f,f,f,f,f,f,f,f,f,f,f,f,t,2.1,t,0.8,t,99,t,0.88,t,113,f,?,SVI,negative\\n48,F,f,f,f,f,f,f,f,f,f,f,f,f,f,f,t,0.15,t,2.7,t,119,t,1.12,t,106,f,?,SVI,negative\\n68,M,f,f,f,f,f,f,f,f,f,t,f,f,f,f,t,1.9,f,?,t,93,t,0.86,t,108,f,?,SVHC,negative\\n54,F,f,f,f,f,f,f,f,f,f,f,f,f,f,f,t,1.8,t,1.8,t,94,t,1,t,94,f,?,other,negative\\n64,F,f,f,f,f,f,f,f,f,f,f,f,f,f,f,t,7.6,t,4.2,t,164,t,1.55,t,106,f,?,other,negative\\n65,F,t,f,f,f,f,f,f,f,f,f,f,f,f,f,t,0.05,t,3.4,t,210,t,1.05,t,199,f,?,other,negative\\n68,F,f,f,f,f,f,f,f,f,f,f,f,f,f,f,t,2.8,t,1.9,t,123,t,1.16,t,106,f,?,SVI,negative\\n51,F,t,f,f,f,f,f,f,f,f,f,f,f,f,f,t,1.6,f,?,t,160,t,1.09,t,147,f,?,other,negative\\n73,M,f,f,f,f,f,f,f,f,f,f,f,f,f,f,t,0.79,t,1.5,t,110,t,0.88,t,125,f,?,SVI,negative\\n24,F,f,f,f,f,f,f,f,f,f,f,f,f,f,t,t,3.7,t,2.3,t,100,t,1.11,t,90,f,?,SVHC,negative\\n24,M,f,f,f,f,f,f,f,f,f,f,f,f,f,f,t,2,t,1.6,t,96,f,?,f,?,f,?,other,negative\\n75,F,f,f,f,f,f,f,f,f,f,f,f,f,f,f,t,0.77,t,2.3,t,83,t,0.89,t,94,f,?,other,negative\\n71,M,f,f,f,f,f,f,f,f,f,f,f,f,f,f,t,1.9,t,1.2,t,61,t,0.8,t,76,f,?,other,negative\\n80,M,f,f,f,f,f,f,f,f,t,f,f,f,f,f,t,0.2,t,1.8,t,111,t,0.97,t,114,f,?,SVI,negative\\n48,M,f,f,f,f,f,f,f,f,f,f,f,f,f,f,t,0.64,t,2.3,t,107,t,1.06,t,101,f,?,other,negative\\n23,F,f,f,f,f,f,f,f,f,f,f,f,f,f,f,t,2.7,t,2,t,90,t,0.93,t,97,f,?,other,negative\\n11,F,f,f,f,f,f,f,f,f,t,f,f,f,f,f,f,?,f,?,f,?,f,?,f,?,f,?,other,negative\\n18,F,f,f,f,f,f,f,f,f,f,f,f,f,f,f,t,0.98,f,?,t,158,t,1.31,t,120,f,?,other,negative\\n62,F,t,t,f,f,f,f,f,f,f,f,f,f,f,f,t,0.025,t,2.2,t,183,t,1.03,t,178,f,?,other,negative\\n76,?,f,f,f,f,f,f,f,f,t,f,f,f,f,f,t,1.4,t,2.4,t,118,t,0.91,t,130,f,?,other,negative\\n22,M,f,f,f,f,f,f,f,f,f,f,f,f,f,f,t,1.2,t,2.5,t,106,f,?,f,?,f,?,other,negative\\n59,F,f,f,f,f,f,f,f,f,f,f,f,f,f,f,t,1.2,f,?,t,140,t,1.63,t,86,f,?,other,negative\\n59,F,f,f,f,f,f,f,f,f,f,f,f,f,f,f,t,0.93,t,1.7,t,81,f,?,f,?,f,?,other,negative\\n54,F,t,f,f,f,f,f,f,t,f,f,f,f,f,f,t,0.58,t,2.6,t,100,t,1.01,t,99,f,?,other,negative\\n70,F,f,f,f,f,f,f,f,f,f,f,f,f,f,f,t,0.34,t,2.5,t,163,t,1.11,t,148,f,?,SVI,negative\\n68,F,f,f,f,f,f,f,t,f,f,f,f,f,f,f,t,2.6,t,1.8,t,104,t,1.1,t,95,f,?,other,negative\\n47,F,f,f,f,f,f,f,t,f,f,f,f,f,f,f,t,3.4,t,2.2,t,102,t,1.02,t,101,f,?,other,negative\\n33,M,f,f,f,f,f,f,f,f,f,f,f,f,f,f,t,1.9,t,2.1,t,69,t,0.74,t,93,f,?,other,negative\\n37,M,f,f,f,f,f,f,f,f,f,f,f,f,f,t,t,1.1,t,2.4,t,106,t,0.97,t,109,f,?,SVHC,negative\\n56,M,f,f,f,f,f,f,f,t,f,f,f,f,f,f,t,0.05,t,1.9,t,137,t,1.09,t,126,f,?,SVI,negative\\n19,F,f,f,f,f,f,f,f,f,f,f,f,f,f,f,t,0.86,t,2.2,f,?,f,?,f,?,f,?,other,negative\\n26,F,f,f,f,f,f,f,f,f,f,f,f,f,f,f,t,1.9,t,1.5,t,87,t,0.94,t,93,f,?,other,negative\\n28,F,f,f,f,f,f,f,f,f,f,f,f,f,f,f,t,0.47,t,2.2,t,161,t,1.05,t,153,f,?,SVHC,negative\\n65,F,f,f,f,f,f,f,f,f,f,f,f,f,f,f,t,1.7,t,2.4,t,73,t,0.89,t,82,f,?,SVI,negative\\n83,?,f,f,f,f,f,f,f,f,f,f,f,f,f,f,t,2.9,f,?,t,85,t,0.65,t,131,f,?,SVI,negative\\n74,M,f,f,f,f,f,f,f,f,f,f,f,f,f,f,t,2.9,t,1.6,t,90,t,0.79,t,114,f,?,other,negative\\n78,F,f,f,f,f,f,f,f,f,f,f,f,f,f,t,t,1.1,t,2,t,123,t,0.91,t,135,f,?,SVHC,negative\\n50,F,t,f,f,f,f,f,f,f,f,f,f,f,f,f,t,0.15,f,?,t,248,t,1.5,t,165,f,?,other,negative\\n31,F,f,f,f,f,f,f,f,f,f,f,f,t,f,f,t,0.95,t,2.6,t,152,t,1.4,t,110,f,?,other,negative\\n64,M,f,f,f,f,f,f,f,f,f,f,f,f,f,f,t,4.6,t,1.5,t,133,t,1.08,t,124,f,?,SVI,negative\\n49,F,f,f,f,f,f,f,f,f,f,f,f,f,f,f,t,1.7,t,2,t,155,t,1.01,t,154,f,?,other,negative\\n47,M,f,f,f,f,f,f,f,f,f,f,f,f,f,f,t,1.3,f,?,t,98,t,1.14,t,86,f,?,SVI,negative\\n16,F,f,f,f,f,f,f,f,f,f,f,f,f,f,f,t,2.3,t,2.4,t,110,t,0.92,t,119,f,?,SVI,negative\\n40,?,f,f,f,f,f,f,f,f,f,f,f,f,f,f,t,34,t,1.7,t,78,t,0.9,t,87,f,?,other,compensated_hypothyroid\\n27,F,f,f,t,f,f,f,f,f,f,f,f,f,f,f,t,2.3,t,2.6,t,100,f,?,f,?,f,?,other,negative\\n60,M,f,f,f,f,f,f,f,f,f,f,f,f,f,f,t,4.4,t,1,t,84,t,0.69,t,121,f,?,SVI,negative\\n72,F,f,f,f,f,f,f,f,f,f,f,f,f,f,f,t,0.005,t,4.1,t,139,t,0.71,t,196,f,?,other,negative\\n65,?,f,f,f,f,f,f,f,f,f,f,f,f,f,f,t,0.025,t,3.2,t,129,t,0.77,t,168,f,?,SVI,negative\\n58,F,f,f,f,f,f,f,f,f,f,f,f,f,f,f,t,0.15,t,2.5,t,87,t,0.79,t,109,f,?,other,negative\\n56,M,f,f,f,f,f,f,f,f,f,f,f,f,f,f,f,?,t,2.2,t,74,t,0.86,t,86,f,?,other,negative\\n61,M,f,f,f,f,f,f,f,f,f,f,f,f,f,f,f,?,f,?,f,?,f,?,f,?,f,?,other,negative\\n54,M,f,f,f,f,f,f,f,f,f,f,f,f,f,f,t,14.4,t,1.1,t,51,t,0.68,t,75,f,?,SVI,compensated_hypothyroid\\n65,F,f,f,f,f,f,f,f,f,f,f,f,f,f,f,f,?,f,?,f,?,f,?,f,?,f,?,other,negative\\n62,M,f,f,f,f,f,f,f,f,f,f,f,f,f,f,t,1.2,t,1.4,t,113,t,1.03,t,110,f,?,SVI,negative\\n46,M,f,f,f,f,f,f,f,f,f,f,f,f,f,t,t,4.8,t,2.9,t,132,t,1.27,t,104,f,?,SVHC,negative\\n24,F,f,f,f,f,f,f,f,f,f,f,f,f,f,f,t,0.82,t,2.5,t,97,t,0.91,t,107,f,?,other,negative\\n68,F,f,f,f,f,f,f,f,f,f,f,f,f,f,f,t,28,t,1.8,t,72,t,0.87,t,82,f,?,SVI,compensated_hypothyroid\\n60,M,f,f,f,f,f,f,f,f,f,f,f,f,f,f,t,0.9,t,1.5,t,86,t,0.65,t,132,f,?,SVHC,negative\\n70,F,f,f,f,f,f,f,t,f,f,f,f,f,f,f,t,1.2,f,?,t,109,t,1.08,t,100,f,?,other,negative\\n61,M,f,f,f,f,f,f,f,f,f,f,f,f,f,f,t,0.44,f,?,t,75,t,0.6,t,124,f,?,SVI,negative\\n76,M,f,f,f,f,f,f,f,f,f,f,f,f,f,f,t,3.4,f,?,t,77,t,0.67,t,115,f,?,SVI,negative\\n20,F,f,f,f,f,f,f,f,f,f,f,f,f,f,f,t,1.2,t,2.1,t,106,t,0.92,t,115,f,?,STMW,negative\\n55,F,f,f,f,f,f,f,f,f,f,f,f,f,f,f,t,2.4,t,2.3,t,104,t,1.03,t,101,f,?,SVHC,negative\\n69,F,f,f,f,t,f,f,f,f,f,f,f,t,f,f,f,?,f,?,f,?,f,?,f,?,f,?,other,negative\\n33,F,f,f,f,f,f,f,f,f,f,f,t,f,f,f,f,?,f,?,f,?,f,?,f,?,f,?,other,negative\\n41,F,f,f,f,f,f,f,t,f,f,f,f,f,f,f,t,3.2,t,1.3,t,78,t,0.97,t,80,f,?,other,negative\\n45,M,f,f,f,f,f,f,f,f,f,f,f,f,f,f,t,0.9,t,1.9,t,83,t,0.67,t,124,f,?,SVI,negative\\n59,F,t,f,f,f,f,f,f,f,f,f,f,f,f,f,t,0.015,t,2.2,t,164,t,1.01,t,162,f,?,other,negative\\n50,F,f,f,f,f,f,f,f,f,f,f,f,f,f,f,t,58,t,2.4,t,25,t,1.21,t,20,f,?,SVI,primary_hypothyroid\\n85,F,f,f,f,f,f,f,f,f,f,f,f,f,f,f,t,0.58,t,1.9,t,140,t,0.96,t,145,f,?,SVI,negative\\n77,M,t,f,f,f,f,f,t,t,f,f,f,f,f,f,t,0.93,t,1.9,t,121,t,1.36,t,89,f,?,other,negative\\n86,?,f,f,f,f,f,f,f,f,f,f,f,f,f,f,t,2,f,?,t,131,t,1.01,t,131,f,?,other,negative\\n61,F,f,f,f,f,f,f,f,f,f,f,f,f,f,f,t,0.9,t,2.3,t,124,t,1.17,t,106,f,?,SVI,negative\\n32,M,f,f,f,f,f,f,f,f,f,f,t,f,f,f,t,1,t,2.4,t,121,t,1.2,t,101,f,?,other,negative\\n72,F,t,f,f,f,f,f,f,f,f,f,f,f,f,f,t,0.74,t,1,t,82,t,0.86,t,95,f,?,SVHC,negative\\n43,F,t,f,f,f,f,f,f,f,f,f,f,f,f,f,t,0.01,f,?,t,171,t,0.98,t,174,f,?,other,negative\\n38,M,f,f,f,f,f,f,f,f,f,f,f,f,f,f,t,0.67,t,1.9,t,92,t,0.76,t,121,f,?,SVI,negative\\n69,F,f,f,f,f,f,f,f,f,f,f,f,f,f,f,t,21,t,0.8,t,53,t,0.86,t,61,f,?,SVI,primary_hypothyroid\\n17,F,f,f,f,f,f,f,f,f,f,f,f,f,f,t,t,0.8,t,3.4,t,46,f,?,f,?,f,?,SVHC,negative\\n35,F,f,f,f,f,f,f,f,f,f,f,f,f,f,f,f,?,f,?,t,67,t,0.9,t,75,f,?,other,negative\\n42,F,t,f,f,f,f,f,f,f,f,f,f,f,f,f,t,0.02,t,2.6,t,203,t,1.01,t,200,f,?,other,negative\\n53,F,f,f,f,f,f,f,f,f,f,f,f,f,f,f,t,165,t,0.4,t,17,t,1.19,t,14,f,?,other,primary_hypothyroid\\n46,M,f,f,f,f,f,f,f,f,f,f,f,f,f,f,t,4.2,t,2.2,t,68,f,?,f,?,f,?,other,negative\\n53,F,f,f,f,f,f,f,f,f,f,f,f,f,f,f,t,0.06,t,1.9,t,135,t,1.02,t,132,f,?,other,negative\\n60,F,f,f,f,f,f,f,f,t,f,f,f,f,f,f,t,8.9,f,?,t,75,t,0.97,t,77,f,?,other,compensated_hypothyroid\\n31,F,f,f,f,f,f,f,f,f,f,f,f,f,f,f,t,4.8,t,2.6,t,93,t,1.18,t,79,f,?,STMW,negative\\n37,F,f,f,f,f,f,f,f,f,f,f,f,f,f,f,t,3.1,t,2.1,t,87,t,0.75,t,115,f,?,other,negative\\n83,F,f,f,f,f,f,f,f,f,f,f,f,f,f,f,t,7,f,?,t,71,t,0.78,t,90,f,?,other,compensated_hypothyroid\\n55,F,f,f,f,f,f,f,f,t,f,f,f,f,f,f,t,1.7,t,1.9,t,132,t,1.15,t,114,f,?,SVI,negative\\n24,F,f,f,f,f,f,f,f,f,t,f,f,f,f,f,t,0.78,t,2.5,t,148,t,1.23,t,120,f,?,other,negative\\n65,F,f,f,f,f,f,f,f,f,f,f,f,f,f,f,t,4.7,t,1.6,t,72,t,0.85,t,85,f,?,other,negative\\n16,F,t,f,f,f,f,f,f,f,f,f,f,f,f,f,t,2.7,t,1.9,t,112,t,1.26,t,89,f,?,other,negative\\n27,M,f,f,f,f,f,f,f,f,f,f,f,f,f,f,f,?,f,?,t,79,t,0.79,t,100,f,?,other,negative\\n27,F,f,f,f,f,f,f,f,f,f,f,f,f,f,f,t,5.4,t,2.2,t,75,t,0.9,t,84,f,?,SVI,negative\\n67,F,t,f,f,f,f,f,f,f,f,f,f,f,f,f,t,0.45,f,?,t,124,t,1.02,t,122,f,?,other,negative\\n58,M,f,f,f,f,f,f,f,f,f,f,f,f,f,f,t,3,t,1.6,t,71,t,0.82,t,86,f,?,other,negative\\n50,F,f,f,t,f,f,f,f,f,t,f,f,f,f,f,t,0.03,t,3.4,t,131,t,1.02,t,129,f,?,other,negative\\n19,F,f,f,f,f,f,f,f,f,f,f,f,f,f,f,t,1.3,t,2.5,t,151,t,1.21,t,125,f,?,other,negative\\n55,M,f,f,f,f,f,f,f,f,f,f,f,f,f,f,t,2.1,t,0.8,t,75,t,0.77,t,98,f,?,SVI,negative\\n32,F,t,f,f,f,f,f,f,t,f,f,f,f,f,f,t,0.01,t,2.3,t,147,t,0.75,t,198,f,?,SVI,negative\\n24,F,f,f,f,f,f,f,f,f,f,f,f,f,f,t,t,0.83,t,2.2,t,79,t,0.8,t,99,f,?,SVHC,negative\\n62,F,f,f,f,f,f,f,f,f,f,f,f,f,f,f,t,1.1,t,1.9,t,113,t,1.14,t,99,f,?,other,negative\\n55,M,f,f,f,t,f,f,f,f,f,f,f,f,f,f,t,0.98,f,?,t,107,t,0.99,t,107,f,?,other,negative\\n85,F,f,f,f,f,f,f,f,f,f,f,f,f,f,f,t,0.84,t,0.8,t,161,t,0.97,t,166,f,?,SVI,negative\\n25,F,f,f,f,f,f,t,f,f,f,f,f,f,f,f,t,4.9,f,?,t,74,t,0.92,t,80,f,?,other,negative\\n20,F,f,f,f,f,f,f,f,f,f,f,f,f,f,f,t,1.5,t,2.5,t,94,t,1.04,t,90,f,?,other,negative\\n53,M,t,f,f,f,f,f,f,f,f,f,f,f,f,f,t,0.63,t,1.6,t,115,t,0.9,t,128,f,?,other,negative\\n54,F,f,f,f,f,f,f,f,f,f,f,f,f,f,t,t,3.3,t,0.7,t,76,t,0.72,t,105,f,?,SVHC,negative\\n32,F,t,f,f,f,f,f,f,f,f,f,f,f,f,f,t,0.005,t,2.9,t,138,t,1.15,t,120,f,?,other,negative\\n61,F,f,f,f,f,f,f,f,f,f,f,f,f,f,f,t,4.7,t,1.1,t,89,t,0.75,t,118,f,?,SVI,negative\\n28,F,f,f,f,f,f,f,f,f,t,f,f,f,f,f,t,0.1,t,1.8,t,85,t,0.78,t,109,f,?,other,negative\\n17,F,f,f,f,f,f,f,f,f,f,f,f,f,f,f,f,?,f,?,t,83,t,0.99,t,84,f,?,other,negative\\n38,M,f,f,f,f,f,f,f,f,f,f,f,f,f,f,t,2.5,f,?,t,81,t,0.86,t,94,f,?,other,negative\\n23,F,f,f,f,f,f,f,f,f,f,f,f,t,f,f,t,4.6,f,?,t,157,t,1.71,t,92,f,?,STMW,negative\\n38,M,f,f,f,f,f,f,f,f,f,f,f,f,f,t,t,2.5,t,2.3,t,90,t,0.91,t,99,f,?,SVHC,negative\\n76,F,f,f,f,f,f,f,f,t,f,f,f,f,f,f,t,0.25,t,0.8,t,78,t,0.75,t,104,f,?,other,negative\\n37,F,t,f,f,f,f,f,f,f,f,f,f,f,f,f,t,0.25,f,?,t,133,t,0.98,t,136,f,?,other,negative\\n40,F,f,f,f,f,f,f,f,f,t,f,f,f,f,f,t,9.2,t,1.5,t,113,t,1.03,t,109,f,?,other,compensated_hypothyroid\\n23,F,f,f,f,f,f,f,f,f,f,f,f,f,f,f,t,3.7,t,2.3,t,150,t,1.25,t,120,f,?,other,negative\\n57,M,f,f,f,f,f,f,f,f,t,f,f,f,f,f,f,?,t,1.8,t,71,t,0.72,t,99,f,?,other,negative\\n50,F,f,f,f,f,f,f,f,f,f,f,f,f,f,f,t,1.1,t,2.2,t,81,t,0.94,t,86,f,?,SVI,negative\\n39,F,f,f,f,f,f,f,f,f,f,f,f,f,f,f,t,24,t,1.9,t,65,f,?,f,?,f,?,other,compensated_hypothyroid\\n63,F,f,f,f,f,f,f,f,t,f,f,f,f,f,f,t,2.3,t,2.3,t,111,t,1.06,t,105,f,?,other,negative\\n31,F,f,f,f,f,f,f,f,f,f,f,f,f,f,f,t,1.1,t,2,t,98,t,0.84,t,117,f,?,other,negative\\n23,M,f,f,f,f,f,f,f,f,f,f,f,f,f,f,t,0.78,t,2,t,102,t,0.97,t,106,f,?,SVHC,negative\\n35,F,f,f,f,f,f,f,f,t,f,f,f,f,f,f,t,31,t,2.6,t,46,t,1,t,46,f,?,other,primary_hypothyroid\\n50,F,f,f,f,f,f,f,f,f,f,f,f,f,f,f,t,0.3,t,1.5,t,146,t,1.18,t,124,f,?,SVI,negative\\n18,F,f,f,f,f,f,f,f,t,f,f,f,f,f,f,t,9.6,t,2.4,t,220,t,1.68,t,131,f,?,STMW,negative\\n83,F,f,f,f,t,f,f,f,f,f,f,f,f,f,f,t,2.5,f,?,t,118,t,0.97,t,121,f,?,other,negative\\n58,F,f,f,f,f,f,f,f,f,f,f,f,f,f,f,t,22,t,2.3,t,197,t,0.92,t,213,f,?,SVI,negative\\n66,F,t,f,f,f,f,f,f,f,f,f,f,f,f,f,t,0.07,f,?,t,118,t,0.94,t,126,f,?,other,negative\\n25,F,f,f,f,f,f,f,f,f,f,f,f,f,f,f,f,?,f,?,f,?,f,?,f,?,f,?,other,negative\\n63,?,f,f,f,f,f,f,f,f,f,f,f,f,f,f,f,?,f,?,t,162,t,0.81,t,200,f,?,other,negative\\n34,F,f,f,f,f,t,f,f,f,t,f,f,f,f,f,t,0.03,t,4.2,t,134,t,1.65,t,81,f,?,other,negative\\n14,F,f,f,f,f,f,f,f,f,f,f,f,f,f,f,f,?,f,?,f,?,f,?,f,?,f,?,other,negative\\n62,M,f,f,f,t,f,f,f,f,f,f,f,f,f,f,t,1.1,f,?,t,108,t,0.95,t,113,f,?,other,negative\\n65,M,t,f,f,f,f,f,f,f,f,f,f,f,f,f,t,12,t,1.2,t,118,t,0.9,t,130,f,?,other,negative\\n37,F,f,f,f,f,f,f,f,t,f,f,f,f,f,f,t,2.2,f,?,t,100,t,1.14,t,87,f,?,other,negative\\n71,M,f,f,f,f,f,f,f,f,f,f,f,f,f,f,t,3.2,t,1.8,t,86,t,0.81,t,106,f,?,SVI,negative\\n58,F,f,f,f,f,f,f,f,t,t,f,f,f,f,f,t,0.2,f,?,t,256,t,0.9,t,283,f,?,other,negative\\n62,M,f,f,f,f,f,f,f,f,f,f,f,f,f,f,t,1.2,f,?,t,90,t,1.16,t,77,f,?,other,negative\\n43,F,f,f,f,f,f,f,f,f,f,f,f,f,f,f,t,1.1,t,1.3,t,136,t,0.97,t,140,f,?,SVI,negative\\n70,M,f,f,f,f,f,f,f,f,f,f,f,f,f,f,t,0.43,f,?,t,116,t,0.78,t,149,f,?,SVI,negative\\n62,M,f,f,f,f,f,f,f,f,f,f,f,f,f,f,t,0.37,t,1.2,t,91,t,0.95,t,96,f,?,other,negative\\n54,F,f,f,f,f,f,f,f,f,f,f,f,f,f,f,t,3.1,t,3.8,t,157,t,1.52,t,103,f,?,SVI,negative\\n33,F,f,f,f,f,f,f,f,f,f,f,f,f,f,f,f,?,t,1.9,f,?,f,?,f,?,f,?,other,negative\\n52,M,f,t,f,f,f,f,f,f,f,f,f,f,f,f,f,?,f,?,t,98,t,0.71,t,138,f,?,other,negative\\n57,M,f,f,f,f,f,f,f,f,f,f,f,f,f,f,t,0.9,t,1.5,t,91,t,0.79,t,115,f,?,SVHD,negative\\n51,F,f,f,f,f,f,f,f,f,f,f,f,f,f,f,t,12,t,1.5,t,106,t,0.92,t,115,f,?,SVI,compensated_hypothyroid\\n56,F,t,f,f,f,f,f,f,f,f,f,f,f,f,f,t,9.5,f,?,t,115,t,1.31,t,88,f,?,other,negative\\n47,M,f,f,f,f,f,f,f,f,f,f,f,f,f,f,t,0.6,t,2.9,t,113,t,1.13,t,100,f,?,other,negative\\n27,F,f,f,f,f,f,f,f,f,f,f,f,f,f,f,t,0.94,t,2.9,t,92,t,0.93,t,100,f,?,SVHC,negative\\n69,F,f,f,f,f,f,f,f,f,f,f,f,f,f,f,t,0.8,t,0.6,t,82,t,0.46,t,179,f,?,SVI,negative\\n63,F,f,f,f,f,f,f,f,f,f,f,f,f,f,f,t,0.63,t,2.3,t,139,t,1.11,t,125,f,?,other,negative\\n34,F,f,f,f,f,f,f,f,f,f,f,f,f,f,f,t,1.8,t,1.4,t,85,t,0.93,t,92,f,?,other,negative\\n58,M,f,f,f,f,f,f,f,f,f,f,f,f,f,f,t,2.1,t,2.4,t,95,t,0.95,t,100,f,?,other,negative\\n74,F,f,f,f,f,f,f,f,t,f,f,f,f,f,f,t,0.6,t,1.6,t,95,t,1.07,t,89,f,?,SVI,negative\\n41,F,t,f,f,f,f,f,f,t,f,f,f,f,f,f,t,2.8,f,?,t,149,t,1,t,148,f,?,other,negative\\n93,F,f,f,f,t,f,f,f,f,f,f,f,f,f,f,t,3,t,0.9,t,92,t,0.81,t,112,f,?,SVI,negative\\n36,F,f,f,f,f,f,f,f,f,f,f,f,f,f,f,t,2.9,t,1.4,t,92,t,0.92,t,101,f,?,SVI,negative\\n50,M,f,f,f,f,f,f,f,f,f,f,f,f,f,f,t,80,t,1.4,t,41,t,1.14,t,36,f,?,other,primary_hypothyroid\\n75,F,f,f,f,f,f,f,f,f,f,f,f,f,f,f,t,4.9,t,1.9,t,122,t,0.95,t,129,f,?,SVI,negative\\n33,F,f,f,f,f,f,f,f,f,f,f,f,f,f,f,t,2.9,t,2.2,t,96,t,1.03,t,93,f,?,STMW,negative\\n39,F,f,f,f,f,f,f,f,f,t,f,f,f,f,f,t,0.02,t,4,t,209,t,1.06,t,197,f,?,other,negative\\n27,F,f,f,f,f,f,f,f,f,f,f,f,f,f,f,t,0.055,t,8.5,t,244,t,0.98,t,249,f,?,other,negative\\n18,F,f,f,f,f,f,f,f,t,f,f,f,f,f,f,t,1.5,f,?,t,116,t,1.05,t,111,f,?,other,negative\\n81,M,f,f,f,f,f,f,f,f,f,f,f,f,f,f,t,0.65,t,1.3,t,91,t,0.87,t,104,f,?,SVI,negative\\n58,F,f,f,f,f,f,f,f,f,f,f,f,f,f,f,t,4.2,t,2.1,t,83,t,1.19,t,69,f,?,SVI,negative\\n28,F,f,f,f,f,f,f,f,f,f,f,f,f,f,f,t,5.9,t,2,t,126,t,1.26,t,100,f,?,other,negative\\n33,F,f,f,f,f,f,f,f,f,f,f,f,f,f,t,t,1.8,t,2,t,139,t,1.02,t,137,f,?,SVHC,negative\\n59,?,f,f,f,f,f,f,t,f,f,f,f,f,f,f,t,0.25,t,2.4,t,109,t,0.97,t,113,f,?,other,negative\\n52,M,t,t,f,f,f,f,f,f,f,f,f,f,f,f,f,?,f,?,t,99,t,0.92,t,107,f,?,other,negative\\n21,F,f,f,f,f,t,f,f,f,f,f,f,f,f,f,f,?,f,?,f,?,f,?,f,?,f,?,other,negative\\n57,F,f,f,f,f,f,f,f,f,t,f,f,f,f,f,t,2.6,t,0.7,t,115,f,?,f,?,f,?,SVI,negative\\n75,F,f,f,f,f,f,f,f,f,f,f,f,t,f,f,t,0.045,t,2,t,146,t,1.05,t,139,f,?,SVI,negative\\n84,F,f,f,f,f,f,f,f,f,f,f,f,f,f,f,t,3,t,1.4,t,103,t,1.1,t,94,f,?,other,negative\\n28,F,f,f,f,f,f,f,f,f,f,f,f,f,f,t,t,0.7,t,2,t,45,f,?,f,?,f,?,SVHC,negative\\n28,F,f,f,f,f,f,f,f,f,f,f,f,f,f,f,t,2.2,t,1.9,t,86,t,1.06,t,81,f,?,SVHC,negative\\n58,M,f,f,f,f,f,f,f,f,f,f,f,f,f,f,t,0.9,t,2.3,t,102,t,1,t,102,f,?,SVHC,negative\\n79,F,f,f,f,t,f,f,f,f,f,f,f,f,f,f,t,2.8,t,1.5,t,105,t,1.05,t,100,f,?,other,negative\\n56,M,f,f,f,f,f,f,f,f,f,f,f,f,f,f,t,0.2,t,2.1,t,69,t,0.81,t,86,f,?,other,negative\\n22,F,f,f,f,f,f,f,f,f,t,f,f,f,f,f,t,0.56,t,2.7,t,179,t,1.25,t,143,f,?,other,negative\\n15,F,f,f,f,f,f,f,f,f,f,f,f,f,f,f,t,0.04,t,1.4,t,103,t,0.85,t,120,f,?,SVI,negative\\n33,M,f,f,f,f,f,f,f,f,f,f,f,f,f,f,t,160,t,0.3,t,9.5,f,?,f,?,f,?,SVI,primary_hypothyroid\\n74,M,f,f,f,f,f,f,f,f,f,f,f,f,f,f,t,3.3,t,1.8,t,98,t,0.83,t,118,f,?,other,negative\\n12,M,f,f,f,f,f,f,f,f,f,f,f,f,f,f,t,2.1,t,2.7,t,93,f,?,f,?,f,?,SVI,negative\\n66,F,f,f,f,f,f,f,f,f,f,f,f,f,f,f,t,0.39,t,2.3,t,102,f,?,f,?,f,?,other,negative\\n58,F,f,f,f,f,f,f,f,f,f,f,f,f,f,f,t,0.3,t,3.1,t,151,t,1.4,t,108,f,?,SVHC,negative\\n50,F,t,f,f,f,f,f,f,f,f,f,f,f,f,f,t,0.66,f,?,t,127,t,0.97,t,131,f,?,other,negative\\n63,M,f,t,f,f,f,f,f,f,f,f,f,f,f,f,f,?,f,?,t,52,t,0.85,t,61,f,?,other,negative\\n56,F,t,f,f,f,f,f,f,f,f,f,f,f,f,f,t,0.3,t,2.8,t,141,t,0.99,t,142,f,?,other,negative\\n58,F,f,f,f,f,f,f,f,f,f,f,f,f,f,f,t,0.21,t,0.9,t,122,t,1.04,t,117,f,?,SVI,negative\\n76,F,t,f,f,f,f,f,f,f,f,f,f,f,f,f,t,0.1,t,2.1,t,98,t,1.01,t,97,f,?,other,negative\\n72,F,f,f,f,f,f,f,f,f,f,f,f,f,f,f,t,1,t,1.7,t,93,t,0.78,t,119,f,?,SVI,negative\\n50,M,f,f,f,f,f,f,f,f,f,f,f,f,f,f,t,0.53,t,2.1,t,94,t,0.95,t,99,f,?,SVI,negative\\n32,M,f,f,f,t,f,f,f,f,f,f,f,f,f,f,t,0.2,t,1.7,t,85,t,0.84,t,101,f,?,other,negative\\n58,M,f,f,f,f,f,f,f,f,f,f,f,f,f,f,t,0.82,t,2.2,t,100,t,0.98,t,102,f,?,other,negative\\n78,F,f,f,f,f,f,f,f,f,f,f,f,f,f,f,t,0.57,t,1.9,t,90,t,0.88,t,102,f,?,other,negative\\n58,F,t,f,f,f,f,f,f,t,f,f,f,f,f,f,t,3.2,t,2.1,t,75,t,1.04,t,72,f,?,other,negative\\n40,M,f,f,f,f,f,f,f,f,f,f,f,f,f,t,t,1.4,t,1.8,t,92,t,0.85,t,108,f,?,SVHC,negative\\n66,M,f,f,f,f,f,f,f,f,f,f,f,f,f,t,t,4.5,t,1.3,t,89,t,0.73,t,121,f,?,SVHC,negative\\n70,F,f,f,f,f,f,f,f,t,f,f,f,f,f,f,t,3.7,f,?,t,69,t,0.83,t,83,f,?,other,negative\\n15,F,t,f,f,f,f,f,f,f,f,f,f,f,f,f,t,145,t,1.7,t,19,t,1.13,t,17,f,?,other,primary_hypothyroid\\n70,F,f,f,f,f,f,f,f,t,t,f,f,f,f,f,t,1.3,t,1.8,t,94,t,0.86,t,110,f,?,SVI,negative\\n44,F,f,f,f,f,f,f,f,t,t,f,f,f,f,f,t,4.4,t,1.9,t,82,t,0.9,t,90,f,?,other,negative\\n62,F,f,f,f,t,f,f,f,f,f,f,f,f,f,f,t,3.3,t,2,t,116,t,1.06,t,110,f,?,SVI,negative\\n55,M,f,f,f,f,f,f,f,f,f,f,f,f,f,f,t,1.9,t,2.3,t,90,t,0.81,t,112,f,?,SVI,negative\\n84,F,f,f,f,f,f,f,f,f,f,f,f,f,f,f,t,4.6,t,1.5,t,83,t,0.78,t,106,f,?,SVI,negative\\n19,F,f,f,f,f,f,f,f,f,t,f,f,f,f,f,t,0.6,t,2.3,t,100,t,0.94,t,106,f,?,other,negative\\n29,F,t,f,f,f,f,f,f,f,f,f,f,f,f,f,t,0.05,t,2,t,127,t,0.92,t,138,f,?,other,negative\\n43,F,f,f,f,f,f,f,f,f,t,f,f,f,f,f,t,1.7,f,?,t,104,t,0.91,t,115,f,?,other,negative\\n39,F,f,f,f,f,f,f,f,f,f,f,f,f,f,f,t,0.2,t,1.9,t,83,t,0.89,t,93,f,?,other,negative\\n71,M,t,f,f,f,f,f,f,t,f,f,f,f,f,f,t,25,t,0.3,t,31,t,0.68,t,46,f,?,SVI,primary_hypothyroid\\n22,F,f,f,f,f,f,f,f,f,f,f,f,f,f,f,t,2.6,t,1.1,t,102,t,0.81,t,125,f,?,other,negative\\n28,M,f,f,f,f,f,f,f,f,f,f,f,f,f,f,t,0.25,t,2,t,99,t,0.8,t,124,f,?,SVHC,negative\\n62,F,f,f,f,f,f,f,f,f,t,f,f,f,f,f,t,1.1,t,2.4,t,81,t,0.97,t,84,f,?,other,negative\\n45,M,f,f,f,f,f,f,f,f,f,f,f,f,f,f,t,0.25,t,1.4,t,86,t,0.75,t,114,f,?,SVHC,negative\\n83,F,f,f,f,f,f,f,f,f,f,f,f,f,f,f,t,0.43,t,0.4,t,92,t,0.75,t,123,f,?,SVI,negative\\n45,M,f,f,f,f,f,f,f,f,f,f,f,f,f,f,t,1.7,t,2,t,71,t,0.93,t,76,f,?,other,negative\\n71,F,t,f,f,f,f,f,f,f,f,f,f,f,f,f,t,0.2,t,1.6,t,122,t,0.81,t,152,f,?,other,negative\\n60,F,f,f,f,f,f,f,f,f,f,f,f,f,f,f,t,0.77,t,3.2,t,175,t,1.47,t,119,f,?,other,negative\\n43,F,f,f,f,t,f,f,f,f,f,f,f,f,f,f,t,0.95,t,1.9,t,101,t,0.81,t,125,f,?,other,negative\\n47,F,f,f,f,f,f,f,f,f,t,f,f,f,f,f,t,1.2,t,2.1,t,130,t,0.99,t,131,f,?,other,negative\\n77,M,f,f,f,f,f,f,f,f,f,f,f,f,f,f,t,3.9,t,2,t,105,t,1.05,t,100,f,?,SVI,negative\\n65,F,t,f,f,f,f,f,f,f,f,f,f,f,f,f,t,0.03,t,1.9,t,139,t,0.84,t,165,f,?,other,negative\\n45,F,f,f,f,f,f,f,f,f,f,f,f,f,f,f,t,2,t,1.7,t,93,t,0.84,t,111,f,?,other,negative\\n52,M,f,f,f,f,f,f,f,f,f,f,f,f,f,f,t,1.1,t,2.7,t,159,t,1.19,t,134,f,?,SVHC,negative\\n19,F,f,f,f,f,f,f,f,f,f,f,f,f,f,f,t,2.8,t,1.4,t,96,t,0.88,t,109,f,?,other,negative\\n27,F,f,f,f,f,f,f,f,f,f,f,f,f,f,f,t,0.15,t,1.6,t,101,t,1.09,t,92,f,?,SVHC,negative\\n50,F,f,f,t,f,f,f,f,f,t,f,f,f,f,f,t,0.01,t,2.8,t,74,t,1.14,t,65,f,?,other,negative\\n42,F,f,f,f,f,f,f,f,f,f,f,f,f,f,f,f,?,f,?,t,101,t,1.09,t,93,f,?,other,negative\\n50,F,f,f,f,f,f,f,f,f,f,f,f,f,f,f,t,0.6,t,2,t,83,t,1.31,t,63,f,?,SVI,negative\\n48,M,f,f,f,f,f,f,f,f,f,f,f,f,f,f,f,?,f,?,t,112,t,0.9,t,124,f,?,other,negative\\n83,F,t,f,f,f,f,f,f,f,f,f,f,f,f,f,t,0.77,t,1.44,t,123,t,0.99,t,124,f,?,other,negative\\n31,?,t,f,f,f,f,f,f,f,f,f,f,f,f,f,t,0.02,t,2.1,t,212,t,1.17,t,181,f,?,other,negative\\n60,F,f,f,f,f,f,f,f,f,f,f,f,f,f,f,t,4.2,t,1.6,t,101,t,1.1,t,92,f,?,SVI,negative\\n40,F,t,f,f,f,f,f,f,f,t,f,f,f,f,f,f,?,f,?,f,?,f,?,f,?,f,?,other,negative\\n77,F,f,f,f,f,f,f,f,f,f,f,f,f,f,f,t,0.06,f,?,t,125,t,1.07,t,117,f,?,other,negative\\n62,F,f,f,f,f,f,f,f,f,f,f,f,f,f,f,t,4.4,t,2.6,t,98,t,0.93,t,105,f,?,other,negative\\n34,F,f,f,t,f,f,f,f,f,t,f,f,f,f,f,t,27,t,4.4,t,273,t,1.22,t,222,f,?,STMW,negative\\n58,F,f,f,f,f,f,f,f,f,f,f,f,f,f,f,t,2.8,t,2.1,t,109,f,?,f,?,f,?,other,negative\\n66,F,f,f,f,f,f,f,f,f,f,f,f,f,f,f,t,0.1,t,1.8,t,108,t,0.71,t,151,f,?,SVI,negative\\n38,F,f,f,f,f,f,f,f,f,f,f,f,f,f,f,t,2.8,t,2.2,t,57,t,0.92,t,63,f,?,SVHC,negative\\n41,M,f,f,f,f,f,f,f,f,f,f,f,f,f,f,t,0.58,f,?,t,102,t,0.84,t,121,f,?,other,negative\\n73,M,f,f,f,f,f,f,f,f,f,f,f,f,f,f,t,1.4,f,?,t,87,t,0.92,t,95,f,?,SVI,negative\\n60,M,t,f,f,f,f,f,f,t,f,f,f,f,f,f,t,30.5,t,1,t,32,t,0.63,t,51,f,?,other,primary_hypothyroid\\n61,F,t,f,f,f,f,f,f,f,f,f,f,f,f,f,t,2.6,f,?,t,113,t,0.82,t,138,f,?,other,negative\\n49,M,t,f,f,f,f,f,f,f,f,f,f,f,f,f,f,?,f,?,t,81,t,1.14,t,71,f,?,other,negative\\n70,F,f,f,f,f,f,f,f,f,f,f,f,f,f,f,t,2,t,2.2,t,138,t,1.24,t,111,f,?,other,negative\\n36,F,f,f,f,f,f,f,f,f,f,f,f,f,f,f,t,0.04,t,2.2,t,116,t,1.04,t,111,f,?,other,negative\\n73,F,f,f,f,f,f,f,f,f,t,f,f,t,f,f,t,0.025,t,1.5,t,77,t,0.94,t,82,f,?,other,negative\\n52,M,f,f,f,f,f,f,f,f,f,f,f,f,f,f,t,0.015,t,2.7,t,122,t,0.83,t,147,f,?,other,negative\\n52,M,f,f,f,f,f,f,f,f,f,f,f,f,f,f,t,4.5,f,?,t,75,t,0.84,t,89,f,?,SVI,negative\\n37,F,f,f,f,f,f,f,f,f,f,f,f,f,f,f,t,1,t,2.3,t,89,t,0.94,t,95,f,?,other,negative\\n69,F,t,f,f,f,f,f,f,f,f,f,f,f,f,f,t,5.9,t,1.8,t,163,t,1.09,t,149,f,?,other,negative\\n29,F,f,f,f,f,f,f,f,f,f,f,f,f,f,f,f,?,f,?,t,90,t,1,t,90,f,?,other,negative\\n47,F,f,f,f,f,f,f,f,f,t,f,f,f,f,f,t,0.04,t,2,t,104,t,0.87,t,120,f,?,other,negative\\n67,F,f,f,f,f,f,f,f,f,f,f,f,f,f,f,t,1.9,t,2.9,t,133,t,1.18,t,113,f,?,SVHC,negative\\n60,M,f,f,f,t,f,f,f,t,f,f,f,f,f,f,t,2.7,f,?,t,88,t,1.07,t,82,f,?,other,negative\\n77,F,f,f,f,f,f,f,f,f,f,f,f,f,f,f,f,?,f,?,f,?,f,?,f,?,f,?,other,negative\\n71,F,t,f,f,f,f,f,f,t,f,f,f,f,f,f,t,1.1,f,?,t,108,t,1.05,t,104,f,?,other,negative\\n67,F,f,f,f,f,f,f,f,t,f,f,f,f,f,f,t,0.84,t,3.3,t,222,t,1.82,t,122,f,?,SVI,negative\\n78,F,f,f,f,t,f,f,f,f,f,f,f,f,f,f,t,0.99,t,1.7,t,114,t,0.96,t,119,f,?,SVHD,negative\\n62,F,f,f,f,f,f,f,f,f,f,f,f,f,f,f,f,?,t,1.4,f,?,f,?,f,?,f,?,other,negative\\n57,M,f,f,f,t,f,f,f,f,f,f,f,f,f,f,t,0.2,t,2,t,91,t,1.18,t,77,f,?,SVI,negative\\n40,F,f,f,f,f,f,f,f,f,f,f,f,f,f,f,t,2.6,t,2.4,t,105,t,1.18,t,88,f,?,SVI,negative\\n49,F,f,t,f,f,f,f,f,f,f,f,f,f,f,f,t,2.2,t,1.2,t,89,t,1.09,t,82,f,?,SVI,negative\\n45,F,f,f,f,f,f,f,f,f,f,f,f,f,f,f,t,0.07,f,?,t,168,t,0.92,t,183,f,?,other,negative\\n49,M,f,f,f,f,f,f,f,f,t,f,f,f,f,f,f,?,t,2.4,t,111,t,1.07,t,104,f,?,other,negative\\n61,F,f,f,f,f,f,f,f,t,f,f,f,f,f,f,t,1.1,t,1.4,t,110,f,?,f,?,f,?,other,negative\\n66,F,f,f,f,f,f,f,f,f,f,f,f,f,f,f,t,0.25,t,0.6,t,110,t,0.83,t,133,f,?,SVI,negative\\n68,F,f,f,f,f,f,f,f,f,t,f,f,f,f,f,t,20,t,2.5,t,111,t,1.57,t,71,f,?,other,compensated_hypothyroid\\n20,F,f,f,f,f,f,f,f,f,f,f,f,f,f,t,t,2.6,t,3.3,t,121,t,1.08,t,112,f,?,SVHC,negative\\n34,F,f,f,f,f,f,f,f,f,f,f,f,f,f,f,t,0.035,t,3.1,t,142,t,1.47,t,97,f,?,other,negative\\n62,F,f,f,f,f,f,f,f,f,f,f,f,f,f,f,t,0.3,t,2,t,89,t,0.89,t,99,f,?,other,negative\\n74,F,t,f,f,f,f,f,f,f,f,f,f,f,f,f,t,0.5,t,0.8,t,151,t,1.01,t,150,f,?,other,negative\\n47,F,f,f,f,f,f,f,f,f,f,f,f,f,f,f,t,0.6,t,2,t,142,t,1,t,142,f,?,SVI,negative\\n47,M,f,f,f,f,f,f,f,f,f,f,f,f,f,f,t,0.7,t,1.9,t,99,t,0.79,t,125,f,?,SVHC,negative\\n56,F,f,f,f,f,f,f,f,f,t,f,f,f,f,f,f,?,t,2.7,t,120,t,1.27,t,95,f,?,other,negative\\n29,F,f,f,f,f,f,f,f,f,f,f,f,f,f,f,t,3,t,2.2,t,86,t,1.09,t,79,f,?,other,negative\\n78,F,f,f,f,f,f,f,f,f,f,f,f,f,f,f,t,2.9,t,1.7,t,104,t,0.76,t,137,f,?,SVI,negative\\n60,M,f,f,f,f,f,f,f,f,f,f,f,f,f,f,t,2.1,t,1.4,t,89,t,0.99,t,90,f,?,other,negative\\n82,F,f,f,f,t,f,f,f,f,f,f,f,f,f,f,t,3.2,t,1.4,t,76,t,0.86,t,88,f,?,SVI,negative\\n11,M,f,f,f,f,f,f,f,f,f,f,f,f,f,f,t,0.2,f,?,t,191,t,1.23,t,156,f,?,other,negative\\n28,F,f,f,f,f,f,f,f,t,f,f,f,f,f,f,t,1,t,2.3,t,116,t,1.13,t,103,f,?,other,negative\\n72,F,t,f,t,f,f,f,f,f,f,f,f,f,f,f,t,0.4,f,?,t,186,t,1.24,t,150,f,?,other,negative\\n33,F,f,f,f,f,f,f,f,f,t,f,f,f,f,f,t,0.2,t,1.5,t,157,t,0.91,t,172,f,?,other,negative\\n38,F,f,f,f,f,f,f,f,f,f,f,t,t,f,f,f,?,f,?,f,?,f,?,f,?,f,?,other,negative\\n60,M,f,f,f,f,f,f,f,f,f,f,f,f,f,f,t,0.15,t,7.6,t,120,t,1.04,t,116,f,?,SVI,negative\\n21,F,t,f,f,f,f,f,f,f,f,f,f,f,f,t,t,1.2,t,1.6,t,99,t,0.87,t,114,f,?,SVHC,negative\\n78,M,f,f,f,f,f,f,f,f,f,f,f,f,f,f,t,0.03,t,1.8,t,122,t,1.07,t,114,f,?,SVI,negative\\n28,F,f,f,f,f,f,f,f,f,f,f,f,f,f,f,t,1.9,f,?,t,104,t,1.06,t,98,f,?,other,negative\\n72,F,f,f,f,f,f,f,f,f,f,f,f,f,f,f,t,1.4,t,1.4,t,115,t,0.97,t,118,f,?,SVHC,negative\\n27,M,f,f,f,f,f,f,f,f,f,f,f,f,f,f,t,2.2,t,1.7,t,89,t,0.86,t,104,f,?,other,negative\\n32,F,f,f,f,f,f,f,f,f,f,f,f,f,f,f,t,3,t,1.9,t,94,t,1.07,t,88,f,?,other,negative\\n71,F,f,f,f,f,f,f,f,f,f,f,f,f,f,f,t,0.98,t,1.8,t,100,f,?,f,?,f,?,SVI,negative\\n68,F,f,f,f,f,f,f,f,t,f,f,f,f,f,f,t,19,f,?,t,93,t,1.2,t,77,f,?,other,compensated_hypothyroid\\n74,F,t,f,f,f,f,f,f,t,f,f,f,f,f,f,t,28,f,?,t,74,t,1.03,t,72,f,?,other,negative\\n49,M,f,f,f,f,f,t,f,f,f,f,f,f,f,f,t,0.015,f,?,t,137,t,0.8,t,170,f,?,other,negative\\n65,F,f,f,f,f,f,f,f,f,f,f,f,f,f,f,t,3.2,t,1.4,t,84,t,0.96,t,88,f,?,SVI,negative\\n76,M,f,f,f,f,f,f,f,t,f,f,f,f,f,f,t,0.65,t,1.5,t,111,t,0.96,t,116,f,?,other,negative\\n55,?,f,f,f,f,f,f,f,t,f,f,f,f,f,t,t,0.59,f,?,t,118,t,1.03,t,114,f,?,SVHC,negative\\n25,M,f,f,f,f,f,f,f,f,f,f,f,f,f,t,t,1.6,t,2.1,t,89,t,0.86,t,103,f,?,SVHC,negative\\n71,F,t,f,f,f,f,f,f,f,f,f,f,f,f,f,t,2.7,t,1.2,t,107,t,1.1,t,97,f,?,other,negative\\n37,F,f,f,f,f,f,f,f,f,f,f,f,f,f,f,t,5.1,t,2.5,t,84,t,1.05,t,80,f,?,SVHC,negative\\n56,F,f,f,f,f,f,f,f,f,f,f,f,f,f,f,t,7.9,t,1.2,t,73,t,0.8,t,91,f,?,SVI,compensated_hypothyroid\\n76,F,f,f,f,t,f,t,f,f,f,f,f,f,f,f,t,1.8,t,1.2,t,65,t,0.76,t,86,f,?,other,negative\\n32,F,f,f,f,f,f,f,f,f,f,f,f,f,f,f,f,?,f,?,f,?,f,?,f,?,f,?,other,negative\\n48,F,f,f,f,f,f,f,f,f,f,f,f,f,f,f,t,4.4,t,1.6,t,61,t,1.09,t,56,f,?,other,negative\\n15,F,f,f,f,f,f,f,f,f,f,f,f,f,f,f,t,0.51,t,1.3,t,121,t,0.78,t,155,f,?,SVI,negative\\n41,F,f,f,f,f,f,f,f,t,t,f,f,f,f,f,f,?,f,?,f,?,f,?,f,?,f,?,other,negative\\n55,M,t,f,f,t,f,f,f,f,f,f,f,f,f,f,t,7.6,t,1,t,86,t,0.84,t,102,f,?,other,negative\\n71,M,t,f,f,f,f,f,f,f,f,f,f,f,f,f,t,7.8,t,1.4,t,111,t,0.96,t,116,f,?,SVI,negative\\n30,M,f,f,f,f,f,f,f,f,f,f,f,f,f,f,t,3.2,f,?,t,97,t,0.69,t,141,f,?,other,negative\\n56,F,f,f,f,f,f,f,f,t,f,f,f,f,f,f,t,1.4,t,2.3,t,111,t,0.97,t,115,f,?,other,negative\\n18,?,f,f,f,f,f,f,f,f,f,f,f,f,f,f,t,4.2,f,?,t,78,t,0.77,t,102,f,?,SVI,negative\\n38,F,f,f,f,f,f,f,f,f,f,f,f,f,f,f,t,0.61,t,1.7,t,107,t,0.81,t,132,f,?,SVI,negative\\n55,F,f,f,f,f,f,f,f,f,f,f,f,f,f,f,t,0.28,t,2.1,t,116,t,1.14,t,102,f,?,other,negative\\n75,M,f,f,f,t,f,f,f,f,f,f,f,f,f,f,t,0.02,f,?,t,150,t,0.88,t,171,f,?,SVHD,negative\\n39,M,f,f,f,f,f,f,f,f,f,f,f,f,f,f,t,3.2,t,3.1,t,99,t,1.01,t,98,f,?,SVHC,negative\\n14,F,f,f,f,f,f,f,f,f,f,f,f,f,f,f,t,2.9,t,0.8,t,121,t,0.95,t,127,f,?,other,negative\\n59,F,t,f,f,f,f,f,f,t,f,f,f,f,f,f,t,4,t,1.3,t,120,t,0.94,t,128,f,?,other,negative\\n50,M,f,f,f,f,f,f,f,f,f,f,f,f,f,f,t,0.2,t,1.8,t,142,t,0.99,t,144,f,?,SVHC,negative\\n56,F,f,f,f,f,f,f,f,f,f,f,f,f,f,f,t,0.4,t,2.3,t,120,t,1.03,t,117,f,?,other,negative\\n36,F,f,f,f,f,f,f,f,f,f,f,f,f,f,f,t,25,t,0.3,t,10,t,1.18,t,8.4,f,?,other,primary_hypothyroid\\n35,?,f,f,f,f,f,f,f,f,f,f,f,f,f,f,f,?,f,?,t,73,t,0.91,t,81,f,?,other,negative\\n69,F,t,f,f,f,f,f,f,f,f,f,f,f,f,f,t,4.9,f,?,t,116,t,1.1,t,105,f,?,other,negative\\n73,F,f,f,f,f,f,f,f,f,f,f,f,f,f,f,t,1.4,t,1.6,t,119,t,0.92,t,130,f,?,SVI,negative\\n62,F,f,f,f,f,f,f,f,f,f,f,f,f,f,f,t,1.1,t,2.3,t,119,t,0.95,t,125,f,?,other,negative\\n62,F,f,f,f,f,f,f,f,f,f,f,f,f,f,f,t,1.9,f,?,t,68,t,0.64,t,106,f,?,other,negative\\n52,M,f,f,f,f,f,f,f,f,f,f,f,f,f,f,t,1.8,f,?,t,92,t,0.87,t,106,f,?,other,negative\\n45,M,f,f,f,f,f,f,f,f,f,f,f,f,f,f,t,0.9,t,2.6,t,92,t,0.9,t,102,f,?,other,negative\\n46,F,t,f,f,f,f,f,f,f,f,f,f,f,f,f,t,0.5,t,1.7,t,132,t,1.02,t,130,f,?,other,negative\\n63,M,f,f,f,f,f,f,f,f,f,f,f,f,f,f,t,1.1,t,2.3,t,90,t,0.88,t,102,f,?,other,negative\\n75,M,f,f,f,f,f,f,f,f,f,f,f,f,f,f,t,1,t,1.5,t,121,t,0.8,t,153,f,?,SVI,negative\\n15,?,f,f,f,f,f,f,f,f,f,f,f,f,f,t,t,3.6,t,1.3,t,153,t,1,t,152,f,?,SVHC,negative\\n71,F,f,f,f,f,f,f,f,f,f,f,f,f,f,f,t,0.02,t,2.2,t,152,t,0.78,t,196,f,?,SVI,negative\\n76,M,f,f,f,f,f,f,f,f,f,f,f,f,f,f,t,2.7,t,1.4,t,91,t,0.85,t,108,f,?,SVI,negative\\n48,M,f,f,f,f,f,f,f,f,f,f,f,f,f,f,t,2.4,t,2.7,t,110,t,1.09,t,101,f,?,SVI,negative\\n33,F,f,f,f,f,t,f,f,f,f,f,t,f,f,f,t,3.9,t,2.2,t,120,t,1.41,t,85,f,?,other,negative\\n60,M,f,f,f,f,f,f,f,f,f,f,f,f,f,f,t,1.2,t,0.8,t,44,t,0.84,t,52,f,?,SVI,negative\\n51,F,f,f,f,f,f,t,f,f,f,f,f,f,f,f,t,2,f,?,t,109,t,0.91,t,120,f,?,other,negative\\n23,F,f,f,f,f,f,f,f,f,f,f,f,f,f,f,t,1.9,t,1.6,t,88,t,0.89,t,100,f,?,other,negative\\n75,?,f,f,f,f,f,f,f,f,f,f,f,f,f,f,t,2.3,t,1.6,t,111,t,0.77,t,145,f,?,SVHC,negative\\n37,F,f,f,f,f,f,f,f,f,f,f,f,f,f,f,t,1.7,t,2.5,t,139,t,1.12,t,124,f,?,other,negative\\n23,?,f,f,f,t,f,f,f,f,f,f,f,f,f,f,t,4.1,t,1.9,t,66,t,0.85,t,77,f,?,SVHD,negative\\n65,F,f,f,f,f,f,f,f,f,t,f,f,f,f,f,t,0.32,t,2.7,t,96,t,1.4,t,69,f,?,other,negative\\n61,F,f,f,f,f,f,f,f,f,f,f,f,f,f,f,t,1.3,t,1.7,t,91,t,0.98,t,93,f,?,other,negative\\n35,M,f,f,f,f,f,f,f,f,f,f,f,f,f,f,t,0.46,f,?,t,77,t,0.67,t,115,f,?,other,negative\\n56,M,f,f,f,f,f,f,f,f,f,f,f,f,f,f,t,0.67,t,1.1,t,137,t,0.86,t,160,f,?,SVI,negative\\n16,F,t,f,f,f,f,f,f,f,f,f,f,f,f,f,t,0.07,t,1.5,t,140,t,0.89,t,157,f,?,other,negative\\n25,F,f,f,f,f,f,f,f,f,f,f,t,f,f,f,t,2,t,2.2,t,123,t,1.52,t,81,f,?,other,negative\\n80,F,f,f,f,f,f,f,f,f,f,f,f,f,f,f,t,0.97,t,1.7,t,83,t,0.97,t,86,f,?,other,negative\\n28,F,f,f,f,f,f,f,f,f,f,f,f,f,f,t,t,0.36,t,3,t,131,t,1.04,t,126,f,?,SVHC,negative\\n59,F,f,f,f,f,f,f,f,t,f,f,f,f,f,f,t,0.9,t,3.6,t,112,t,1.18,t,96,f,?,other,negative\\n28,M,f,f,f,f,f,f,f,f,f,f,f,f,f,f,t,1,t,3.1,t,107,t,1.05,t,103,f,?,SVHC,negative\\n66,F,t,f,f,f,f,f,f,f,f,f,f,f,f,f,t,1.5,t,1.5,t,129,t,1.02,t,127,f,?,other,negative\\n38,M,f,f,f,f,f,f,f,f,f,f,f,f,f,f,f,?,f,?,f,?,f,?,f,?,f,?,other,negative\\n72,M,f,f,f,f,f,f,f,f,f,f,f,f,f,f,t,0.3,t,0.6,t,120,t,1.06,t,113,f,?,SVI,negative\\n55,F,t,f,f,f,f,f,f,f,f,f,f,f,f,f,t,0.015,t,1.9,t,115,t,0.77,t,149,f,?,other,negative\\n34,F,f,f,f,f,f,f,f,t,f,t,f,f,f,f,t,6.3,t,2.7,t,153,t,1.7,t,90,f,?,SVHC,negative\\n59,F,t,f,f,t,f,f,f,f,f,f,f,t,f,f,t,0.2,t,4.3,t,140,t,1.68,t,83,f,?,SVHD,negative\\n27,F,f,f,f,f,f,f,f,t,f,f,f,f,f,f,t,2.1,f,?,t,70,t,0.48,t,146,f,?,other,negative\\n89,F,f,f,f,f,f,f,f,f,f,f,f,f,f,f,t,0.25,t,1.2,t,70,t,1.06,t,66,f,?,SVI,negative\\n66,F,f,f,f,f,f,t,f,f,t,f,f,f,f,f,t,1.7,t,1.4,t,89,t,0.87,t,103,f,?,SVI,negative\\n45,F,f,f,f,f,f,f,f,f,f,f,f,f,f,f,t,3,t,2.1,t,121,t,1.02,t,118,f,?,SVI,negative\\n58,M,t,f,f,f,f,f,f,f,f,f,f,f,f,f,f,?,f,?,t,74,t,0.82,t,90,f,?,other,negative\\n34,?,f,f,f,f,f,f,f,f,f,f,f,f,f,f,t,3.3,t,1.6,t,83,t,0.7,t,118,f,?,other,negative\\n83,F,f,f,f,f,f,f,f,f,f,f,f,f,f,f,t,2.5,t,1.5,t,91,t,0.81,t,113,f,?,other,negative\\n48,F,f,f,f,f,f,f,f,f,f,f,f,f,f,f,t,4.9,t,1.9,t,101,f,?,f,?,f,?,other,negative\\n73,F,f,f,f,f,f,f,f,f,f,f,f,f,f,f,t,47,t,1.1,t,52,t,0.9,t,58,f,?,other,primary_hypothyroid\\n61,F,t,f,f,f,f,f,f,f,f,f,f,f,f,f,t,0.51,f,?,t,90,t,0.81,t,111,f,?,other,negative\\n45,F,f,f,f,f,f,f,f,f,f,f,f,f,f,f,t,1.7,t,2.5,t,106,t,0.97,t,110,f,?,SVI,negative\\n28,F,t,f,f,f,f,f,f,f,f,f,f,f,f,f,t,0.2,t,2,t,115,t,0.92,t,124,f,?,other,negative\\n29,F,f,f,f,f,f,f,f,f,t,f,f,t,f,f,f,?,t,1.6,t,86,t,0.78,t,111,f,?,other,negative\\n21,F,f,f,f,f,f,f,f,f,f,f,f,f,f,t,t,1.5,t,2.1,t,130,t,1.04,t,124,f,?,SVHC,negative\\n29,F,f,f,f,f,f,f,f,f,f,f,f,f,f,f,t,1.6,t,2.6,t,89,t,0.98,t,91,f,?,other,negative\\n82,F,f,f,f,f,f,f,f,f,t,f,f,f,f,f,t,1.3,t,1.4,t,131,t,1.08,t,121,f,?,SVI,negative\\n55,F,f,f,f,f,f,f,f,f,f,f,f,f,f,f,t,9.2,t,1.8,t,87,t,1.04,t,84,f,?,SVHC,compensated_hypothyroid\\n34,F,f,f,f,f,t,f,f,f,t,f,f,t,f,f,t,0.25,t,3.9,t,139,t,1.27,t,110,f,?,other,negative\\n45,M,f,f,f,f,f,f,f,f,t,f,f,f,f,f,t,0.2,t,2.1,t,101,t,0.84,t,121,f,?,SVI,negative\\n71,F,f,f,f,f,f,f,f,f,f,f,f,f,f,f,t,0.52,t,1.3,t,138,t,1.07,t,129,f,?,other,negative\\n78,F,f,f,f,t,f,f,f,f,f,f,f,f,f,f,f,?,f,?,f,?,f,?,f,?,f,?,other,negative\\n27,F,f,f,f,f,f,f,f,f,f,f,f,f,f,f,t,3.1,t,1.6,t,86,t,1.04,t,83,f,?,SVI,negative\\n19,F,f,f,f,f,f,f,f,f,f,f,f,f,f,f,t,1.7,t,1.9,t,100,t,1.06,t,93,f,?,other,negative\\n76,F,f,f,f,f,f,f,f,f,f,f,f,f,f,f,t,0.68,t,2,t,107,t,0.97,t,110,f,?,other,negative\\n66,F,t,f,f,f,f,f,f,f,f,f,f,f,f,f,t,0.42,t,1.9,t,153,t,1.04,t,147,f,?,other,negative\\n67,F,f,f,f,f,f,f,f,f,f,f,f,f,f,f,t,2.7,t,1.6,t,127,t,1,t,126,f,?,SVHC,negative\\n60,F,f,f,f,f,f,f,f,f,f,f,f,f,f,f,t,0.5,t,1,t,73,t,0.82,t,89,f,?,SVHC,negative\\n71,F,f,f,f,f,f,f,f,f,f,f,f,f,f,f,t,0.56,t,0.6,t,49,t,0.54,t,90,f,?,SVI,negative\\n39,M,f,f,f,f,f,f,f,f,f,f,f,f,f,f,t,0.5,t,2.1,t,95,t,0.89,t,107,f,?,other,negative\\n48,F,f,f,f,f,f,f,f,f,f,f,f,f,f,f,t,0.5,t,1.4,t,80,t,0.88,t,91,f,?,SVI,negative\\n55,M,f,f,f,f,f,f,f,f,f,f,f,f,f,f,t,1.5,t,0.4,t,52,t,0.75,t,69,f,?,SVI,negative\\n28,M,f,f,f,f,f,f,f,f,f,f,f,f,f,t,t,1.4,t,2.4,t,110,t,0.99,t,111,f,?,SVHC,negative\\n19,?,t,f,f,f,f,f,f,f,f,f,f,f,f,f,t,5.7,t,1.9,t,104,t,1.1,t,94,f,?,other,negative\\n66,F,f,f,f,f,f,f,f,f,f,f,f,f,f,f,t,3.8,t,1.9,t,119,t,1,t,119,f,?,other,negative\\n62,M,f,f,f,t,f,f,f,f,f,f,f,f,f,f,t,3.4,t,1.3,t,92,t,0.89,t,104,f,?,other,negative\\n32,F,f,f,f,f,f,f,f,f,f,f,f,f,f,f,t,0.64,t,1.7,t,102,t,0.76,t,134,f,?,SVHC,negative\\n57,M,f,f,f,f,f,f,f,f,f,f,f,f,f,f,t,2.3,f,?,t,111,t,1.1,t,101,f,?,other,negative\\n50,M,f,f,f,f,f,f,f,f,f,f,f,f,f,f,t,1.9,t,2,t,97,t,0.88,t,110,f,?,SVI,negative\\n62,F,f,f,f,f,f,f,f,f,f,f,f,f,f,f,t,1.6,t,1.9,t,66,t,0.71,t,93,f,?,other,negative\\n70,F,f,f,f,f,f,f,f,f,f,f,f,f,f,f,t,0.6,t,2.5,t,98,t,1.06,t,92,f,?,other,negative\\n59,F,t,f,f,f,f,f,f,f,f,f,f,f,f,f,t,0.025,t,5.7,t,372,t,1.27,t,291,f,?,SVHD,negative\\n64,?,f,f,f,f,f,f,f,f,f,f,f,f,f,f,t,1.4,t,1.2,t,119,t,0.98,t,121,f,?,other,negative\\n48,M,f,f,f,f,f,f,f,f,f,f,f,f,f,t,t,2.4,t,2,t,66,t,0.74,t,89,f,?,SVHC,negative\\n42,F,f,f,f,f,f,f,f,f,t,f,f,f,f,f,t,6.2,t,1.7,t,72,t,0.89,t,81,f,?,other,compensated_hypothyroid\\n36,M,f,f,f,f,f,f,f,f,f,f,f,f,f,f,t,0.3,t,1.1,t,69,t,0.6,t,114,f,?,SVI,negative\\n27,M,f,f,f,f,f,f,f,f,f,f,f,f,f,f,t,1.4,t,1.9,t,89,t,0.85,t,105,f,?,SVHC,negative\\n45,F,f,f,f,f,f,f,f,f,f,f,f,f,f,f,t,6.7,t,2.5,t,98,t,0.88,t,111,f,?,other,compensated_hypothyroid\\n89,F,f,f,f,f,f,f,f,f,f,f,f,f,f,f,t,0.7,t,1.5,t,120,t,0.92,t,130,f,?,SVI,negative\\n55,M,f,t,f,f,f,f,f,f,f,f,f,f,f,f,t,0.2,t,1.8,t,52,t,0.95,t,55,f,?,other,negative\\n57,F,f,f,f,f,f,f,f,f,f,f,f,f,f,f,t,1.5,t,2.5,t,135,t,1.02,t,132,f,?,other,negative\\n27,F,f,f,f,f,f,f,f,f,f,f,f,f,f,f,t,0.035,t,2.2,t,88,t,0.9,t,98,f,?,other,negative\\n55,M,f,f,f,f,f,f,f,f,f,f,f,f,f,f,t,1.6,t,1.6,t,114,t,0.93,t,123,f,?,other,negative\\n58,M,f,f,f,f,f,f,f,f,f,f,f,f,f,f,t,0.9,t,1.6,t,91,t,1.06,t,86,f,?,SVI,negative\\n21,?,f,f,f,f,t,f,f,f,f,f,f,t,f,f,t,2.4,t,3.5,t,171,t,1.49,t,115,f,?,STMW,negative\\n42,F,f,f,f,f,f,f,f,f,f,f,f,f,f,f,t,1.8,t,2,t,66,t,0.93,t,71,f,?,SVHC,negative\\n58,?,f,f,f,f,f,f,f,f,t,f,f,f,f,f,t,0.04,t,2.6,t,117,t,1.02,t,114,f,?,other,negative\\n59,F,f,f,f,f,f,f,f,f,f,f,f,f,f,f,t,0.82,t,2.6,t,180,t,1.42,t,126,f,?,SVI,negative\\n68,F,f,f,f,f,f,f,f,f,f,f,f,f,f,f,t,4.8,t,2,t,87,t,0.95,t,91,f,?,other,negative\\n62,M,f,f,f,f,f,f,f,f,f,f,f,f,f,f,t,17,t,1.7,t,65,t,0.68,t,97,f,?,other,compensated_hypothyroid\\n46,F,t,f,f,f,f,f,f,f,f,f,f,f,f,f,t,0.02,t,1.9,t,116,t,0.9,t,129,f,?,other,negative\\n58,F,f,f,f,f,f,f,t,f,f,f,f,f,f,f,t,2.4,f,?,t,122,t,1.12,t,108,f,?,other,negative\\n70,F,f,f,f,f,f,f,f,f,f,f,f,f,f,f,t,3.5,t,2.5,t,123,t,1.15,t,107,f,?,SVI,negative\\n62,F,f,f,f,f,f,f,f,f,f,f,f,f,f,f,t,24,t,1.7,t,72,t,1.07,t,68,f,?,other,compensated_hypothyroid\\n59,M,f,f,f,f,f,f,f,f,f,f,f,f,f,f,t,0.9,t,2,t,97,t,0.71,t,135,f,?,SVI,negative\\n64,F,t,f,f,f,f,f,f,t,f,f,f,f,f,f,t,0.85,t,1.1,t,99,t,1.11,t,90,f,?,SVI,negative\\n52,M,f,f,f,f,f,f,t,f,f,f,f,f,f,f,t,1.2,t,1.7,t,92,t,0.76,t,121,f,?,other,negative\\n75,F,f,f,f,f,f,f,f,f,f,f,f,f,f,f,t,0.33,t,1.8,t,134,t,0.97,t,138,f,?,other,negative\\n37,M,f,f,f,f,f,f,f,f,f,f,f,f,f,t,t,0.6,t,2.1,t,148,t,1.19,t,124,f,?,SVHC,negative\\n37,F,f,f,f,f,f,f,f,f,f,f,f,f,f,t,t,1.1,t,2,t,97,t,0.99,t,98,f,?,SVI,negative\\n44,M,f,f,f,f,f,f,f,f,f,t,f,f,f,f,t,3,t,1.4,t,103,t,0.88,t,118,f,?,SVHC,negative\\n52,F,f,f,f,f,f,f,f,f,f,f,f,f,f,f,t,1.8,t,2.3,t,128,t,1.22,t,105,f,?,other,negative\\n75,F,f,f,f,f,f,f,t,f,f,f,f,f,f,f,t,0.25,t,3.4,t,151,t,1.13,t,134,f,?,other,negative\\n74,F,f,f,f,f,f,f,f,f,f,f,f,f,f,f,t,0.25,t,0.8,t,103,t,0.73,t,141,f,?,SVI,negative\\n61,M,t,f,f,f,f,f,f,f,f,f,f,f,f,f,t,3.8,t,1.3,t,93,t,0.84,t,111,f,?,other,negative\\n60,F,t,f,f,f,f,f,f,f,f,f,f,f,f,f,t,0.18,t,2.1,t,132,t,1.1,t,120,f,?,other,negative\\n56,F,f,f,f,f,f,f,f,f,f,f,f,f,f,f,t,0.9,t,2.4,t,99,t,1.21,t,82,f,?,other,negative\\n69,F,f,f,f,f,f,f,f,f,f,f,f,f,f,f,t,1.1,t,1.9,t,135,t,0.96,t,141,f,?,SVI,negative\\n25,F,f,f,f,f,f,f,f,t,f,f,f,f,f,f,t,3,t,2.1,t,93,t,1.01,t,92,f,?,other,negative\\n29,M,f,f,f,t,f,f,f,f,f,f,f,f,f,f,t,1.3,t,0.9,t,74,t,0.71,t,104,f,?,SVI,negative\\n49,?,f,f,f,f,f,f,f,f,f,f,f,f,f,f,t,0.6,t,1.3,t,77,t,0.65,t,118,f,?,other,negative\\n44,M,t,f,f,f,f,f,f,f,f,f,f,f,f,f,t,0.26,f,?,t,127,t,1.03,t,124,f,?,other,negative\\n74,M,f,f,f,f,f,f,f,f,f,f,f,f,f,f,t,2.6,t,2.1,t,149,t,1.02,t,147,f,?,other,negative\\n42,M,f,f,t,f,f,f,f,f,t,f,f,f,f,f,t,0.67,t,1.9,t,74,t,0.79,t,93,f,?,other,negative\\n18,F,t,f,f,f,f,f,f,f,f,f,f,f,f,f,t,1.1,f,?,t,93,t,1.04,t,89,f,?,STMW,negative\\n24,M,t,f,f,t,f,f,f,f,f,f,f,f,f,f,t,3.3,t,1.2,t,70,t,0.87,t,80,f,?,SVI,negative\\n28,M,f,f,f,f,f,f,f,f,f,f,f,f,f,t,t,3.1,t,2.7,t,100,t,0.93,t,108,f,?,SVHC,negative\\n57,F,f,f,f,f,f,f,f,f,f,f,f,f,f,f,t,2.9,t,1.5,t,85,t,0.84,t,102,f,?,other,negative\\n20,?,f,f,f,f,f,f,f,f,f,f,f,f,f,f,t,1.6,t,1.4,t,96,f,?,f,?,f,?,SVI,negative\\n67,?,f,f,f,f,f,f,f,f,f,f,f,f,f,f,t,2.8,t,2.2,t,105,t,0.91,t,115,f,?,other,negative\\n65,F,f,f,f,f,f,f,f,f,f,f,f,f,f,f,t,21,t,1.2,t,72,f,?,f,?,f,?,other,compensated_hypothyroid\\n40,F,f,f,f,f,f,f,f,f,f,f,f,f,f,f,t,0.15,t,1.7,t,132,t,0.93,t,141,f,?,other,negative\\n21,F,f,f,f,f,f,f,f,f,f,f,f,f,f,f,t,1.5,t,2,t,76,t,1.03,t,73,f,?,other,negative\\n20,F,t,f,f,f,f,f,f,f,f,f,f,f,f,f,f,?,f,?,f,?,f,?,f,?,f,?,other,negative\\n70,?,t,f,f,f,f,f,f,f,t,f,f,f,f,f,t,0.02,t,1.5,t,160,t,0.94,t,171,f,?,other,negative\\n60,F,f,f,f,f,f,f,f,f,f,f,f,f,f,f,t,2.4,t,2.1,t,93,t,0.96,t,97,f,?,SVI,negative\\n58,F,f,f,f,f,f,f,f,f,t,f,f,f,f,f,t,1.7,t,2.4,t,133,t,1.15,t,116,f,?,other,negative\\n12,F,f,f,f,t,f,f,f,f,f,f,f,f,f,f,t,2.4,f,?,t,166,t,1.2,t,138,f,?,other,negative\\n62,M,f,f,f,f,f,f,f,f,f,f,f,f,f,f,t,5,f,?,t,82,t,0.81,t,101,f,?,SVHC,negative\\n58,F,f,f,f,f,f,f,f,t,f,f,f,f,f,f,t,18,t,2.1,t,68,t,1.08,t,63,f,?,other,primary_hypothyroid\\n26,M,f,f,f,f,f,f,f,f,f,f,f,f,f,f,t,1.9,t,2.9,t,94,t,1.15,t,82,f,?,SVHC,negative\\n51,M,f,f,f,f,f,f,f,f,f,f,f,f,f,f,t,1,t,2.2,t,95,t,0.96,t,100,f,?,SVHC,negative\\n74,F,f,f,f,f,f,f,f,f,f,f,f,f,f,f,t,1,t,1.8,t,105,t,0.9,t,117,f,?,other,negative\\n43,M,f,f,f,f,f,f,f,f,f,f,f,f,f,f,t,1.4,t,2.2,t,75,t,0.85,t,88,f,?,SVI,negative\\n29,F,f,f,f,f,f,f,f,t,f,f,f,f,f,f,t,1.6,t,2.2,t,87,t,0.95,t,92,f,?,other,negative\\n60,F,f,f,f,f,f,f,f,f,f,f,f,f,f,f,t,1.4,t,1.7,t,103,t,0.89,t,116,f,?,SVI,negative\\n15,M,f,f,f,f,f,f,f,f,f,f,f,f,f,f,t,3.4,t,4.5,t,97,f,?,f,?,f,?,other,negative\\n65,F,f,f,f,f,f,f,f,f,f,f,f,f,f,f,t,1.6,t,1.9,t,99,t,1.03,t,97,f,?,SVI,negative\\n67,F,f,f,f,t,f,f,f,f,f,f,f,t,f,f,t,1.3,t,2.2,t,104,t,0.92,t,114,f,?,other,negative\\n14,M,f,f,f,f,f,f,f,f,f,f,f,f,f,f,t,3.8,t,2.5,t,80,t,0.89,t,90,f,?,other,negative\\n63,M,f,f,f,f,f,f,f,f,f,f,f,f,f,f,t,5.8,t,1.9,t,102,t,1.18,t,87,f,?,SVI,negative\\n65,F,f,f,f,f,f,f,f,f,f,f,f,f,f,f,t,0.2,t,2.4,t,129,t,0.98,t,131,f,?,SVHC,negative\\n38,F,f,f,f,f,f,f,f,f,f,f,f,t,f,f,t,0.71,t,4.3,t,129,t,1.62,t,79,f,?,STMW,negative\\n45,M,f,f,f,f,f,f,f,f,f,f,f,f,f,f,t,1.9,t,2.5,t,114,t,1.01,t,113,f,?,other,negative\\n83,F,f,f,f,f,f,f,f,f,f,f,f,f,f,f,t,1.5,t,2.2,t,112,t,0.97,t,115,f,?,other,negative\\n48,M,f,f,f,f,f,f,f,f,f,f,f,f,f,f,t,0.3,t,2.6,t,119,t,1.2,t,100,f,?,other,negative\\n52,F,f,f,f,f,f,f,f,f,f,f,f,f,f,t,t,2,t,1.8,t,88,t,0.86,t,102,f,?,SVHC,negative\\n31,F,f,f,f,f,f,f,f,f,f,f,f,f,f,f,f,?,f,?,t,112,t,0.97,t,116,f,?,other,negative\\n58,M,t,f,f,f,f,f,f,f,f,f,f,f,f,f,t,0.035,f,?,t,137,t,0.91,t,151,f,?,other,negative\\n38,F,f,f,f,f,f,f,f,f,f,f,f,f,f,f,t,0.89,t,1.3,t,118,t,0.87,t,136,f,?,SVI,negative\\n32,M,f,f,f,f,f,f,f,f,t,f,f,f,f,f,t,0.96,f,?,t,122,t,1.07,t,114,f,?,other,negative\\n78,F,t,f,f,f,f,f,f,t,f,f,f,f,f,f,t,0.015,t,2.1,t,214,t,0.87,t,245,f,?,other,negative\\n33,F,f,f,f,f,f,f,f,f,f,f,f,f,f,f,t,1,t,0.2,t,87,t,0.54,t,161,f,?,other,negative\\n73,M,f,f,f,f,f,f,f,f,f,f,f,f,f,f,t,0.5,t,0.7,t,110,t,0.93,t,118,f,?,SVI,negative\\n28,M,f,f,f,f,f,f,f,f,f,f,f,f,f,f,t,0.05,t,1.6,t,91,t,0.88,t,103,f,?,SVHC,negative\\n55,?,f,f,f,f,f,f,f,f,f,f,f,f,f,t,f,?,f,?,t,89,t,0.96,t,93,f,?,SVHC,negative\\n52,F,f,f,f,f,f,f,f,f,f,f,f,f,f,f,t,1.7,t,1.8,t,102,t,0.99,t,103,f,?,SVI,negative\\n87,M,f,f,f,f,f,f,f,f,f,f,f,f,f,f,t,1,t,1.2,t,103,t,0.87,t,118,f,?,SVI,negative\\n60,F,t,f,f,f,f,f,f,f,f,f,f,f,f,f,t,0.005,t,1.5,t,132,t,0.95,t,138,f,?,other,negative\\n70,F,f,f,f,f,f,f,f,f,f,f,f,f,f,f,t,4.1,t,2,t,125,t,0.97,t,128,f,?,other,negative\\n33,F,f,f,f,f,f,f,f,f,f,f,f,f,f,f,f,?,f,?,t,87,t,0.86,t,101,f,?,other,negative\\n76,M,f,f,f,f,f,f,f,f,f,f,f,f,f,f,t,0.69,t,2.3,t,138,t,1.04,t,133,f,?,SVI,negative\\n65,F,f,f,f,f,f,f,f,f,f,f,f,f,f,f,t,0.6,t,2,t,144,t,1,t,145,f,?,SVHC,negative\\n42,F,f,f,f,f,f,f,f,f,f,f,f,f,f,f,t,1.3,t,2,t,87,t,0.73,t,118,f,?,SVI,negative\\n28,M,f,f,f,f,f,f,f,f,f,f,f,f,f,f,t,1.4,t,2.1,t,135,t,0.92,t,147,f,?,other,negative\\n21,?,f,t,f,f,f,f,f,f,f,f,f,f,f,f,f,?,t,2.8,t,143,t,1.25,t,114,f,?,other,negative\\n52,M,f,f,f,f,f,f,f,f,f,f,f,f,f,f,f,?,f,?,t,52,t,1.06,t,49,f,?,other,negative\\n77,F,f,f,f,f,f,f,f,f,f,f,f,f,f,f,t,1.6,t,1.5,t,117,t,0.86,t,136,f,?,SVI,negative\\n71,F,f,f,f,f,f,f,f,f,f,f,f,f,f,f,f,?,f,?,f,?,f,?,f,?,f,?,other,negative\\n65,F,f,f,f,f,f,f,f,f,f,f,f,f,f,f,t,0.25,t,1.4,t,79,t,0.77,t,103,f,?,SVI,negative\\n40,M,f,f,f,f,f,f,f,f,f,f,f,f,f,f,t,0.26,f,?,t,120,t,1.06,t,114,f,?,other,negative\\n57,M,t,f,f,f,f,f,f,f,t,f,f,f,f,f,t,50,t,1.3,t,64,f,?,f,?,f,?,other,negative\\n47,F,f,f,f,f,f,f,f,f,f,f,f,f,f,f,t,0.61,t,1.4,t,107,t,0.86,t,124,f,?,other,negative\\n55,F,f,f,f,f,f,f,f,f,f,f,f,f,f,t,t,2.6,t,1.9,t,115,t,1.02,t,114,f,?,SVHC,negative\\n87,F,f,f,f,f,f,f,f,t,f,f,f,f,f,f,t,0.2,t,1.5,t,132,t,0.86,t,153,f,?,SVI,negative\\n25,?,t,f,f,f,f,t,f,f,f,f,f,f,f,f,t,1.1,t,2.6,t,212,t,1.75,t,121,f,?,STMW,negative\\n53,F,f,f,f,f,f,f,f,f,t,f,f,f,f,f,t,0.03,t,5.4,t,162,t,0.73,t,222,f,?,other,negative\\n58,F,f,f,f,f,f,f,f,f,f,f,f,f,f,f,t,1.9,f,?,t,96,t,0.87,t,110,f,?,SVI,negative\\n19,F,f,f,f,f,f,f,f,f,f,f,f,f,f,f,f,?,f,?,f,?,f,?,f,?,f,?,other,negative\\n65,F,f,f,f,f,f,f,f,f,t,f,f,f,f,f,t,0.02,t,3.1,t,114,t,0.91,t,126,f,?,other,negative\\n87,F,f,f,f,f,f,f,f,f,f,f,f,f,f,f,f,?,f,?,f,?,f,?,f,?,f,?,other,negative\\n21,F,f,f,f,f,f,f,f,f,f,f,f,f,f,f,t,1.8,t,2.6,t,120,t,1.2,t,100,f,?,STMW,negative\\n65,F,t,f,f,f,f,f,f,f,f,f,f,f,f,f,t,0.47,t,0.8,t,154,t,0.75,t,204,f,?,other,negative\\n43,F,f,f,f,f,f,f,f,t,f,f,f,f,f,t,t,6.5,t,1.8,t,60,t,0.89,t,67,f,?,SVHC,compensated_hypothyroid\\n79,F,f,f,f,f,f,f,f,f,f,f,f,f,f,t,t,1.4,t,1.6,t,110,t,0.85,t,129,f,?,SVHC,negative\\n28,M,f,f,f,f,f,f,f,f,f,f,f,f,f,t,t,0.5,t,2.2,t,89,t,1.06,t,84,f,?,other,negative\\n57,M,f,f,f,f,f,f,f,f,f,f,f,f,f,f,t,0.75,t,0.9,t,82,t,0.62,t,133,f,?,SVI,negative\\n15,M,f,f,f,f,f,f,f,f,f,f,f,f,f,f,t,1.1,f,?,t,67,t,0.93,t,73,f,?,other,negative\\n62,M,f,f,f,f,f,f,f,f,f,f,f,f,f,f,t,4.2,t,2.2,t,104,t,1.11,t,93,f,?,other,negative\\n28,F,f,f,f,f,f,f,f,f,f,f,f,f,f,f,t,3.4,t,1.9,t,86,f,?,f,?,f,?,other,negative\\n25,M,f,f,f,f,f,f,f,f,f,f,f,f,f,f,t,236,t,0.2,t,16,t,0.94,t,17,f,?,other,primary_hypothyroid\\n77,F,f,f,f,t,f,f,f,t,f,f,f,f,f,f,t,3.5,t,0.8,t,68,t,0.97,t,70,f,?,SVI,negative\\n33,F,f,f,f,f,f,f,f,f,f,f,f,f,f,f,t,6.2,t,0.8,t,51,t,0.88,t,58,f,?,SVI,primary_hypothyroid\\n67,F,t,f,f,f,f,f,f,f,f,f,f,f,f,f,t,1.7,t,1.8,t,143,t,0.87,t,164,f,?,SVI,negative\\n69,F,t,f,f,f,f,f,f,f,f,f,f,f,f,f,t,0.25,f,?,t,135,t,1.1,t,123,f,?,other,negative\\n29,M,f,f,f,f,f,f,f,f,f,f,f,f,f,f,t,0.9,t,2.7,t,156,t,1.25,t,125,f,?,SVHC,negative\\n29,F,f,f,f,f,f,f,f,f,f,f,f,f,f,f,t,1.3,t,1.6,t,90,t,0.97,t,93,f,?,other,negative\\n47,F,f,f,f,f,f,f,f,f,f,f,f,f,f,f,t,0.5,t,2.1,t,56,t,0.96,t,58,f,?,other,negative\\n34,F,f,f,f,f,f,f,f,f,f,f,f,f,f,t,t,1.7,t,1.9,t,104,t,1.13,t,92,f,?,SVHC,negative\\n76,M,f,f,f,f,f,f,f,f,f,f,f,f,f,f,t,2.1,t,1.3,t,93,t,1.01,t,91,f,?,SVI,negative\\n42,M,f,f,f,f,f,f,f,f,f,f,f,f,f,f,t,52,t,0.8,t,28,t,0.86,t,33,f,?,other,primary_hypothyroid\\n78,M,f,f,f,f,f,f,f,f,f,f,f,f,f,f,t,1.5,t,1.3,t,116,t,0.97,t,119,f,?,SVI,negative\\n29,F,t,f,f,f,f,f,f,f,f,f,f,f,f,f,t,14,t,1.5,t,95,t,0.9,t,106,f,?,other,negative\\n49,F,t,f,f,f,f,f,f,f,f,f,f,f,f,f,t,0.25,f,?,t,184,t,0.86,t,214,f,?,other,negative\\n63,M,f,f,f,t,f,f,f,f,f,f,f,f,f,f,t,0.8,t,1.9,t,98,t,0.89,t,111,f,?,SVI,negative\\n36,F,f,f,f,f,f,f,f,f,f,f,f,f,f,f,t,2.4,t,3.1,t,133,t,1.53,t,87,f,?,STMW,negative\\n54,F,f,f,f,t,f,f,f,f,f,f,f,f,f,f,t,0.4,f,?,t,60,t,0.87,t,69,f,?,other,negative\\n15,F,t,f,f,f,f,f,f,f,f,f,f,f,f,f,t,0.1,t,2.3,t,183,t,0.89,t,205,f,?,other,negative\\n67,F,f,f,f,f,f,f,f,f,f,f,f,f,f,f,t,2.2,t,2,t,99,t,0.96,t,103,f,?,other,negative\\n56,F,f,f,f,f,f,f,f,f,f,f,f,f,f,f,t,0.6,t,2.4,t,142,t,1.12,t,127,f,?,other,negative\\n75,M,f,f,f,f,f,f,f,f,f,f,f,f,f,f,t,1.4,t,2.1,t,115,t,0.97,t,119,f,?,other,negative\\n64,F,t,f,f,f,f,f,f,f,f,f,f,f,f,f,t,6.7,t,2,t,110,t,1.17,t,94,f,?,other,negative\\n37,M,f,f,f,f,f,f,f,f,f,f,f,f,f,f,t,2.6,t,2.3,t,68,t,0.94,t,72,f,?,other,negative\\n26,F,f,f,f,f,f,f,f,f,f,f,f,f,f,f,t,1.3,f,?,t,98,t,1.04,t,95,f,?,other,negative\\n85,F,f,f,f,f,f,f,f,f,f,f,f,f,f,f,t,3.3,t,2.3,t,120,t,0.96,t,126,f,?,SVI,negative\\n29,F,f,f,f,f,f,f,f,f,f,f,f,f,f,f,t,1.6,t,2.7,t,87,t,0.85,t,102,f,?,other,negative\\n16,?,f,f,f,f,f,f,f,f,f,f,f,f,f,f,t,3.1,t,1.1,t,96,t,0.87,t,111,f,?,SVI,negative\\n85,F,f,f,f,f,f,f,f,f,f,f,f,f,f,f,t,0.8,t,2.1,t,100,t,1.06,t,95,f,?,SVI,negative\\n77,F,f,f,f,f,f,f,f,f,f,f,f,f,f,f,t,23,t,0.5,t,33,t,0.67,t,49,f,?,SVI,primary_hypothyroid\\n27,F,f,f,t,f,t,f,f,f,f,f,f,f,f,f,t,0.005,t,2.5,t,145,t,1.45,t,100,f,?,other,negative\\n69,F,f,f,f,f,f,f,f,f,f,f,f,f,f,f,t,0.01,t,2.4,t,127,t,0.84,t,152,f,?,other,negative\\n48,F,f,f,f,f,f,f,f,f,f,f,f,f,f,f,t,0.42,t,2.4,t,134,t,1.14,t,117,f,?,other,negative\\n21,F,f,f,f,f,f,f,f,f,f,f,f,f,f,f,t,5.1,f,?,t,87,t,0.89,t,98,f,?,other,negative\\n27,F,f,f,f,f,f,f,f,f,f,f,f,f,f,f,t,2.2,t,2.3,t,105,t,0.97,t,109,f,?,other,negative\\n75,F,t,f,f,f,f,f,f,f,f,f,f,f,f,f,t,0.1,t,1.9,t,152,t,0.81,t,188,f,?,other,negative\\n72,F,t,f,f,t,f,f,f,f,f,f,f,f,f,f,t,1.7,f,?,t,113,t,0.85,t,132,f,?,other,negative\\n26,F,f,f,f,f,f,f,f,f,f,f,f,f,f,f,t,0.2,t,5.1,t,187,t,1.17,t,160,f,?,other,negative\\n49,F,t,f,f,f,f,f,f,f,f,f,f,f,f,f,t,0.93,f,?,t,74,t,0.87,t,85,f,?,other,negative\\n56,F,f,f,f,f,f,f,f,f,f,f,f,f,f,f,t,0.4,f,?,f,?,f,?,f,?,f,?,other,negative\\n73,F,f,f,f,f,f,f,f,f,f,f,f,f,f,f,t,0.56,t,1.3,t,70,t,0.93,t,75,f,?,SVI,negative\\n27,F,f,f,f,f,f,f,f,f,f,f,f,f,f,f,f,?,f,?,f,?,f,?,f,?,f,?,other,negative\\n74,F,f,f,f,f,f,f,f,f,f,f,f,f,f,f,t,4.8,t,2.5,t,66,t,0.89,t,75,f,?,other,negative\\n82,F,f,f,f,f,f,f,f,f,f,f,f,f,f,f,t,0.5,t,0.6,t,139,t,0.86,t,161,f,?,SVI,negative\\n26,F,f,f,f,f,f,f,f,f,f,f,f,f,f,f,t,3.4,f,?,t,104,t,1.12,t,92,f,?,other,negative\\n49,F,f,f,f,f,f,f,f,f,f,f,f,f,f,f,t,4.5,t,3.2,t,84,t,0.84,t,100,f,?,other,negative\\n52,M,f,f,f,f,f,f,f,f,f,f,f,f,f,f,t,0.9,f,?,t,100,t,0.79,t,127,f,?,other,negative\\n83,M,f,f,f,f,f,f,f,f,f,f,f,f,f,f,t,2.8,t,1.1,t,66,t,0.71,t,93,f,?,SVI,negative\\n54,M,f,f,f,f,f,f,f,f,f,f,f,f,f,f,t,2.3,t,1.7,t,105,f,?,f,?,f,?,SVI,negative\\n32,F,f,f,f,f,f,t,f,f,f,f,f,f,f,f,t,4.1,f,?,t,117,t,1.51,t,78,f,?,other,negative\\n65,?,f,f,f,f,f,f,f,f,f,f,f,f,f,f,t,10,t,2,t,78,f,?,f,?,f,?,other,compensated_hypothyroid\\n18,F,f,f,f,f,f,f,f,f,f,f,f,f,f,f,t,440,t,0.5,t,24,t,1.32,t,18,f,?,other,primary_hypothyroid\\n50,?,t,f,f,f,f,f,f,t,f,f,f,f,f,f,t,1.7,t,1.8,t,113,t,1.01,t,112,f,?,STMW,negative\\n46,F,f,f,f,f,f,f,f,f,f,f,f,f,f,f,t,0.91,t,2.4,t,124,t,1.05,t,118,f,?,other,negative\\n85,F,f,f,f,f,f,f,f,f,f,f,f,f,f,f,t,6,t,2,t,103,f,?,f,?,f,?,other,negative\\n68,M,f,f,f,f,f,f,f,f,f,f,f,f,f,f,t,3,t,2.6,t,117,t,1.24,t,94,f,?,SVI,negative\\n69,F,f,f,f,f,f,f,f,f,f,f,f,f,f,f,t,2,t,1.7,t,109,t,0.93,t,117,f,?,other,negative\\n73,F,f,f,f,f,f,f,f,f,f,f,f,f,f,f,t,2.4,t,2,t,119,t,0.92,t,129,f,?,SVI,negative\\n39,M,f,f,f,f,f,t,f,t,f,f,f,f,f,f,t,3.6,f,?,t,92,t,1.09,t,84,f,?,other,negative\\n28,F,f,f,f,f,f,f,f,f,f,f,f,f,f,f,t,139,t,0.9,t,36,t,0.9,t,40,f,?,other,primary_hypothyroid\\n38,M,f,f,f,f,f,f,f,f,f,f,f,f,f,t,t,0.73,t,2.4,t,135,t,1.05,t,129,f,?,SVHC,negative\\n42,M,f,f,f,f,f,f,f,f,f,f,f,f,f,f,t,5.1,t,1.5,t,53,t,0.76,t,70,f,?,other,negative\\n14,M,f,f,f,f,f,f,f,f,f,f,f,f,f,f,t,5.8,t,2.8,t,91,t,1.03,t,88,f,?,other,negative\\n25,M,f,f,f,f,f,f,f,f,f,f,f,f,f,f,t,1.7,t,2,t,90,t,0.85,t,106,f,?,other,negative\\n85,F,f,f,f,f,f,f,f,t,f,f,f,f,f,f,t,8,t,1.1,t,125,t,0.89,t,142,f,?,other,compensated_hypothyroid\\n51,F,f,f,f,f,f,f,f,f,f,f,f,f,f,f,t,2.4,t,2,t,143,t,1.31,t,109,f,?,other,negative\\n51,M,f,f,f,f,f,f,f,f,f,f,f,f,f,f,t,2.4,t,2.5,t,106,t,0.81,t,130,f,?,SVI,negative\\n41,F,f,f,f,f,f,f,f,f,t,f,f,f,f,f,f,?,f,?,f,?,f,?,f,?,f,?,other,negative\\n56,M,f,f,f,f,f,f,f,f,t,f,f,f,f,f,t,1.4,t,1,t,99,t,0.7,t,142,f,?,SVI,negative\\n52,M,f,f,f,f,f,t,t,f,f,f,f,f,f,f,t,0.04,t,1.9,t,86,t,0.77,t,112,f,?,other,negative\\n49,F,f,f,f,f,f,f,f,f,f,f,f,f,f,f,t,1.1,f,?,t,124,t,1.15,t,108,f,?,other,negative\\n41,F,f,f,f,f,f,f,f,f,f,f,f,f,f,t,t,0.82,t,1.4,t,129,t,0.88,t,147,f,?,SVHC,negative\\n30,F,f,f,f,f,f,f,f,f,f,f,f,f,f,f,t,0.76,t,3.4,t,129,t,1.53,t,84,f,?,STMW,negative\\n59,F,f,f,f,f,f,f,f,f,f,f,f,f,f,f,t,530,t,2,t,10,t,1.12,t,8.5,f,?,other,primary_hypothyroid\\n79,M,f,f,f,f,f,f,f,f,f,f,f,f,f,f,t,0.8,t,2.2,t,103,t,0.95,t,109,f,?,SVI,negative\\n63,F,f,f,f,f,f,f,f,f,f,f,f,f,f,f,t,4.9,t,1.9,t,90,t,0.98,t,92,f,?,other,negative\\n31,?,f,f,f,f,f,f,f,f,f,f,f,f,f,f,t,0.4,t,2.5,t,165,t,0.9,t,184,f,?,STMW,negative\\n68,M,f,f,f,f,f,f,f,f,f,f,f,f,f,f,t,0.05,t,0.2,t,115,t,0.92,t,126,f,?,SVI,negative\\n79,F,f,f,f,t,f,f,f,f,f,f,f,f,f,f,t,1.3,t,0.9,t,102,t,0.95,t,107,f,?,SVI,negative\\n53,F,f,f,f,f,f,f,f,f,f,f,f,f,f,f,t,0.19,t,1.8,t,124,t,1.12,t,110,f,?,other,negative\\n54,M,f,f,f,f,f,f,f,f,f,f,f,f,f,t,t,0.1,t,1.9,t,102,t,0.93,t,110,f,?,SVHC,negative\\n54,F,f,f,f,f,f,f,f,f,f,f,f,t,f,f,t,0.7,t,2,t,95,t,0.99,t,96,f,?,other,negative\\n58,F,f,f,f,f,f,f,f,f,f,f,f,f,f,f,t,7.5,t,1.6,t,82,t,1.08,t,77,f,?,other,compensated_hypothyroid\\n49,M,f,f,f,f,f,f,f,f,f,f,f,f,f,f,f,?,f,?,t,87,t,1.2,t,73,f,?,other,negative\\n67,F,t,f,f,f,f,f,f,f,f,f,f,f,f,f,t,0.02,f,?,t,121,t,0.96,t,127,f,?,other,negative\\n55,M,f,f,f,f,f,f,f,f,t,f,f,f,f,f,t,0.55,t,2.1,t,75,t,1.01,t,74,f,?,SVI,negative\\n72,M,f,f,f,f,f,f,f,f,f,f,f,f,f,f,t,5.3,t,1,t,97,t,0.65,t,150,f,?,SVI,negative\\n53,F,t,f,f,f,f,f,f,f,f,f,f,f,f,f,t,0.1,f,?,t,129,t,1.08,t,119,f,?,other,negative\\n48,F,f,f,f,f,f,f,f,f,f,f,f,f,f,f,t,0.3,t,2.4,t,117,t,1.02,t,115,f,?,other,negative\\n80,F,f,f,f,f,f,f,f,f,f,f,f,f,f,f,t,2.6,t,2.2,t,97,t,1.04,t,94,f,?,other,negative\\n26,F,f,f,f,t,f,f,f,f,f,f,f,f,f,f,t,1.3,t,2.5,t,132,t,1.24,t,107,f,?,other,negative\\n71,F,f,f,f,f,f,f,f,f,f,f,f,f,f,f,t,0.6,t,1,t,88,t,0.94,t,94,f,?,SVHC,negative\\n76,F,f,f,f,f,f,f,f,f,f,f,f,f,f,f,t,1.7,t,0.8,t,80,t,0.77,t,104,f,?,SVI,negative\\n45,M,f,f,f,f,f,f,f,t,t,f,f,f,f,f,t,1.2,t,2.7,t,120,t,1.13,t,106,f,?,other,negative\\n61,F,f,f,f,f,f,f,f,f,f,f,f,f,f,f,t,0.35,t,1.4,t,108,t,1.02,t,105,f,?,SVI,negative\\n48,F,f,f,f,f,f,f,f,f,t,f,f,f,f,f,t,3,f,?,t,90,t,1.14,t,79,f,?,other,negative\\n49,F,f,f,f,f,f,f,f,f,f,f,f,f,f,f,t,1.3,t,1.6,t,126,t,0.87,t,145,f,?,SVI,negative\\n52,F,f,f,f,f,f,f,f,f,f,f,f,f,f,f,t,2.7,t,2.1,t,116,f,?,f,?,f,?,other,negative\\n53,M,f,f,t,f,f,f,f,f,f,f,f,f,f,f,t,0.05,t,2.2,t,89,t,0.83,t,107,f,?,other,negative\\n58,M,f,f,f,f,f,f,f,f,f,f,f,f,f,f,t,3.7,t,1.6,t,76,t,0.81,t,95,f,?,other,negative\\n35,F,f,f,f,f,f,f,f,f,f,f,f,f,f,f,t,2.3,t,2.3,t,83,t,1.19,t,69,f,?,SVHC,negative\\n30,M,f,f,f,f,f,f,f,f,f,f,f,f,f,f,t,0.2,t,1.9,t,86,t,0.9,t,96,f,?,other,negative\\n60,M,f,f,f,f,f,f,f,f,f,f,f,f,f,f,t,2.5,t,1.3,t,119,t,0.88,t,135,f,?,SVI,negative\\n17,F,t,f,f,f,f,f,f,f,f,f,f,f,f,f,t,0.25,f,?,t,117,t,0.92,t,126,f,?,other,negative\\n82,F,f,f,f,t,f,f,f,f,f,f,f,f,f,f,t,2.1,t,1.7,t,99,t,0.91,t,108,f,?,SVI,negative\\n22,F,f,f,f,f,f,f,f,f,f,f,f,f,f,f,t,2.6,f,?,t,134,t,1.14,t,118,f,?,other,negative\\n54,F,f,f,f,f,f,f,f,f,f,f,f,f,f,t,t,0.51,f,?,t,118,t,1.15,t,103,f,?,SVHC,negative\\n58,M,f,f,f,f,f,f,f,f,f,f,f,f,f,f,t,1.7,t,2.3,t,124,t,1.25,t,99,f,?,SVI,negative\\n68,?,f,f,f,f,f,f,f,f,f,f,f,f,f,f,t,2.5,t,3.5,f,?,f,?,f,?,f,?,other,negative\\n54,M,f,f,f,f,f,f,f,f,t,f,f,f,f,f,t,16,t,1.5,t,60,t,0.78,t,77,f,?,SVI,compensated_hypothyroid\\n23,F,f,f,f,f,f,f,f,f,f,f,f,f,f,f,t,2.6,t,2,t,104,t,1.06,t,98,f,?,other,negative\\n63,?,f,f,f,f,f,f,f,f,f,f,f,f,f,f,t,0.98,f,?,f,?,t,0.72,t,118,f,?,other,negative\\n58,F,t,f,f,f,f,t,f,f,f,f,f,f,f,f,t,0.5,t,2.3,t,115,t,1,t,115,f,?,other,negative\\n56,F,f,f,f,f,f,f,f,f,f,f,f,f,f,f,t,0.25,t,2,t,83,t,0.87,t,96,f,?,SVHC,negative\\n71,M,f,f,f,f,f,f,f,f,f,f,f,f,f,f,t,2.3,f,?,t,56,t,1.12,t,50,f,?,SVI,negative\\n64,F,f,f,f,f,f,f,f,f,f,f,f,f,f,f,t,3.3,t,1.5,t,102,t,0.95,t,108,f,?,SVHC,negative\\n84,F,f,f,f,f,f,f,f,f,t,f,f,f,f,f,f,?,f,?,t,88,t,0.87,t,100,f,?,other,negative\\n34,F,f,f,f,f,f,f,f,f,f,f,f,f,f,f,t,0.85,t,2.5,t,108,t,1.09,t,99,f,?,other,negative\\n36,F,f,f,f,f,f,f,f,f,f,f,t,f,f,f,t,0.9,t,2.8,t,126,t,1.29,t,98,f,?,other,negative\\n87,F,f,f,f,f,f,f,f,f,f,f,f,f,f,f,t,2.2,t,0.9,t,106,t,0.92,t,115,f,?,SVI,negative\\n30,M,f,f,f,f,f,f,f,f,f,f,f,f,f,f,t,2.5,t,1.9,t,110,t,0.89,t,125,f,?,SVI,negative\\n45,F,f,f,f,f,f,f,f,f,f,f,f,f,f,f,t,0.2,t,2,t,87,f,?,f,?,f,?,other,negative\\n26,F,f,f,f,f,f,f,f,f,f,f,f,f,f,f,t,4.5,t,2.1,t,113,t,1.02,t,111,f,?,SVHC,negative\\n74,F,f,f,f,f,f,f,f,t,f,f,f,f,f,f,t,23,t,0.7,t,69,t,1.04,t,66,f,?,SVI,compensated_hypothyroid\\n74,F,f,f,f,f,f,f,f,f,f,f,f,f,f,f,t,6.3,t,1.7,t,146,t,1.22,t,119,f,?,other,compensated_hypothyroid\\n78,F,f,f,f,f,f,f,f,t,f,f,f,f,f,f,t,25,t,0.9,t,50,t,0.84,t,60,f,?,SVI,primary_hypothyroid\\n65,F,f,f,f,f,f,f,f,f,f,f,f,f,f,f,f,?,f,?,f,?,f,?,f,?,f,?,other,negative\\n88,F,f,f,f,f,f,f,f,f,f,f,f,f,f,f,t,0.83,t,1.5,t,89,t,0.94,t,95,f,?,SVI,negative\\n19,M,f,f,f,f,f,f,f,f,f,f,f,f,f,f,t,0.84,t,2,t,98,t,0.88,t,112,f,?,SVI,negative\\n68,F,t,f,f,f,f,f,f,f,f,f,f,f,f,f,t,0.3,t,1.7,t,144,t,0.96,t,150,f,?,other,negative\\n75,F,t,f,f,f,f,f,f,f,f,f,f,f,f,f,t,12,t,2,t,141,t,1.13,t,125,f,?,other,negative\\n73,F,t,f,f,f,f,f,f,t,f,f,f,f,f,f,t,0.03,t,1.7,t,127,t,0.89,t,143,f,?,other,negative\\n76,F,f,f,f,f,f,f,f,f,f,f,f,f,f,f,t,27,t,2.3,t,135,t,1.54,t,88,f,?,other,compensated_hypothyroid\\n76,F,f,f,f,f,f,f,f,f,f,f,f,f,f,f,t,0.005,t,3,t,158,t,0.87,t,183,f,?,other,negative\\n60,M,f,f,f,f,f,f,f,f,f,f,f,f,f,f,t,0.4,t,1.9,t,106,t,1.06,t,100,f,?,SVI,negative\\n83,F,f,f,f,t,f,f,f,t,f,f,f,f,f,f,t,2.2,t,0.7,t,71,t,0.76,t,93,f,?,SVI,negative\\n40,F,f,f,f,f,t,f,f,f,f,f,f,f,f,f,t,0.15,t,3,t,210,t,1.48,t,142,f,?,other,negative\\n34,M,f,f,f,f,f,f,f,f,f,f,f,f,f,f,t,0.03,t,1.6,t,96,t,0.97,t,99,f,?,other,negative\\n47,F,f,f,f,f,f,f,f,f,f,f,f,f,f,f,t,1.1,t,2.3,t,113,t,1.1,t,103,f,?,SVI,negative\\n84,F,t,f,f,f,f,f,f,f,f,f,f,f,f,f,t,26,f,?,t,73,t,1.03,t,72,f,?,other,negative\\n62,M,t,f,f,f,f,f,f,f,f,f,f,f,f,f,t,2.4,t,2,t,103,t,0.95,t,109,f,?,other,negative\\n51,F,f,f,f,f,f,f,f,f,f,f,f,f,f,f,t,1.5,t,2.4,t,103,t,1.14,t,90,f,?,other,negative\\n37,M,f,f,f,f,f,f,f,f,t,f,f,f,f,f,f,?,f,?,f,?,f,?,f,?,f,?,other,negative\\n51,M,f,f,f,f,f,f,f,f,f,f,f,f,f,f,t,0.2,t,2,t,113,t,0.84,t,134,f,?,SVI,negative\\n58,M,f,f,f,f,f,f,f,f,f,f,f,f,f,f,t,0.64,t,1,t,103,f,?,f,?,f,?,SVI,negative\\n36,F,f,f,f,f,f,f,f,f,f,f,f,f,f,f,t,22,t,0.2,t,4,t,1.01,t,4,f,?,other,primary_hypothyroid\\n29,M,f,f,f,f,f,f,f,f,f,f,f,f,f,t,t,0.25,t,2,t,35,f,?,f,?,f,?,SVHC,negative\\n42,F,t,f,f,f,f,f,f,f,f,f,f,f,f,f,t,0.12,f,?,t,149,t,1.05,t,143,f,?,other,negative\\n88,F,f,f,f,f,f,f,f,f,f,f,f,f,f,f,t,1.2,t,2,t,123,t,1.16,t,107,f,?,other,negative\\n69,F,f,f,f,f,f,f,f,f,f,f,f,f,f,f,t,0.69,t,1.6,t,89,t,0.96,t,93,f,?,other,negative\\n33,M,f,f,f,f,f,f,f,f,f,f,f,f,f,f,t,1.2,t,2.2,t,118,t,0.89,t,132,f,?,SVHC,negative\\n59,F,f,f,f,f,f,f,f,f,f,f,f,f,f,f,t,1.8,t,1.7,t,119,f,?,f,?,f,?,SVI,negative\\n62,F,f,f,f,f,f,f,f,f,f,f,f,f,f,f,f,?,t,1.3,f,?,f,?,f,?,f,?,other,negative\\n35,F,f,f,f,f,f,f,f,f,f,f,f,f,f,f,t,2.5,t,1.2,t,124,t,1.12,t,111,f,?,other,negative\\n66,M,f,f,f,f,f,f,f,f,t,f,f,f,f,f,t,0.05,t,1.8,t,133,t,1.02,t,130,f,?,SVI,negative\\n45,M,f,f,f,f,f,f,f,f,f,f,f,f,f,f,t,0.2,t,1.8,t,94,t,0.84,t,111,f,?,SVHC,negative\\n60,F,f,f,f,f,f,f,f,f,f,f,f,f,f,f,t,6.5,f,?,t,45,t,0.47,t,96,f,?,other,negative\\n35,F,f,f,f,f,f,f,f,f,f,f,f,f,f,f,f,?,f,?,f,?,f,?,f,?,f,?,other,negative\\n55,M,f,f,f,f,f,f,f,f,f,f,f,f,f,f,t,0.15,t,2.5,t,109,t,0.75,t,145,f,?,SVHC,negative\\n32,M,f,f,f,f,f,f,f,f,f,f,f,f,f,f,t,109,t,0.2,t,3,t,1.02,t,3,f,?,other,primary_hypothyroid\\n43,F,f,f,f,f,f,f,f,f,f,f,f,f,f,f,t,0.7,t,2.5,t,99,t,1.12,t,89,f,?,STMW,negative\\n62,M,f,f,f,f,f,f,f,f,f,f,f,f,f,f,t,1.4,t,2,t,101,t,1.13,t,88,f,?,SVHC,negative\\n29,M,f,f,f,f,f,f,f,f,f,f,f,f,f,f,f,?,f,?,f,?,f,?,f,?,f,?,other,negative\\n46,M,f,f,f,f,f,f,f,f,f,f,f,f,f,f,t,0.25,t,2,t,112,t,1.01,t,111,f,?,SVI,negative\\n35,F,t,f,f,f,f,f,f,f,f,f,f,f,f,f,t,1.9,t,1.8,t,100,t,0.81,t,123,f,?,other,negative\\n37,M,f,f,f,f,f,f,f,f,f,f,f,f,f,f,t,1.1,t,1.9,t,117,t,1,t,118,f,?,SVHC,negative\\n56,M,f,f,f,f,f,f,f,f,f,f,f,f,f,f,t,3.2,t,1.7,t,87,t,0.87,t,100,f,?,SVI,negative\\n77,F,f,f,f,f,f,f,f,f,f,f,f,f,f,f,t,4.1,t,2.1,t,98,t,1.12,t,87,f,?,other,negative\\n33,F,t,f,f,f,f,f,f,f,f,f,f,f,f,f,t,1.5,t,2.1,t,104,t,0.85,t,122,f,?,other,negative\\n71,F,f,f,f,f,f,f,f,f,f,f,f,f,f,f,t,0.65,f,?,t,120,t,1.07,t,112,f,?,SVI,negative\\n68,?,t,f,f,f,f,f,f,f,f,f,f,f,f,f,t,1.5,t,0.8,t,98,t,0.82,t,119,f,?,SVI,negative\\n73,M,f,f,f,f,f,f,f,f,f,f,f,f,f,f,t,2.7,t,1.1,t,62,t,0.7,t,89,f,?,SVI,negative\\n61,F,t,f,f,f,f,f,f,t,f,f,f,f,f,f,f,?,t,2,t,147,f,?,f,?,f,?,other,negative\\n16,F,f,f,f,f,f,t,f,f,f,f,f,f,f,f,t,30,t,1.2,t,30,t,1.45,t,21,f,?,other,negative\\n54,F,t,f,f,f,f,t,f,f,f,f,f,f,f,f,t,0.08,t,2.1,t,133,t,1.14,t,116,f,?,other,negative\\n31,F,t,f,f,f,f,f,f,f,f,f,f,f,f,f,t,22,t,1.2,t,146,t,1.21,t,121,f,?,other,negative\\n36,?,f,f,f,f,f,f,f,f,f,f,f,f,f,f,t,1.9,f,?,t,59,t,0.59,t,99,f,?,SVHC,negative\\n55,M,f,f,f,f,f,f,f,f,f,f,f,f,f,f,t,1,t,1.8,t,95,t,0.95,t,101,f,?,SVI,negative\\n88,F,f,f,f,f,f,f,f,f,f,f,f,f,f,f,t,1.2,t,1.6,t,107,t,1.09,t,99,f,?,SVI,negative\\n39,F,f,f,f,f,f,f,f,f,t,f,f,f,f,f,f,?,t,6.6,t,248,t,0.89,t,280,f,?,other,negative\\n72,F,f,f,f,f,f,f,f,f,f,f,f,f,f,f,t,0.005,t,2.1,t,98,t,0.9,t,109,f,?,SVHC,negative\\n58,M,f,f,f,f,f,f,f,f,f,f,f,f,f,f,t,0.2,t,2.1,t,106,t,0.94,t,113,f,?,other,negative\\n56,M,f,f,f,f,f,f,f,f,f,f,f,f,f,f,t,1.6,t,1.9,t,97,t,0.99,t,99,f,?,other,negative\\n86,F,f,f,f,f,f,f,f,f,f,f,f,f,f,f,t,0.05,t,2,t,79,t,0.62,t,126,f,?,SVI,negative\\n75,M,f,f,f,f,f,f,f,f,f,f,f,f,f,f,t,0.6,t,1.5,t,63,t,0.68,t,92,f,?,other,negative\\n48,M,f,f,f,f,f,f,f,f,f,f,f,f,f,f,f,?,t,2.4,t,130,t,1.24,t,105,f,?,other,negative\\n38,?,f,f,f,f,f,f,f,f,f,f,f,f,f,f,t,1.2,t,2,t,101,t,1.01,t,100,f,?,SVHC,negative\\n61,F,f,f,f,f,f,f,f,f,f,f,f,f,f,f,t,1.2,t,1.8,t,88,f,?,f,?,f,?,other,negative\\n61,M,f,f,f,f,f,f,f,f,f,f,f,f,f,f,t,0.02,t,2.1,t,128,t,0.94,t,136,f,?,other,negative\\n43,F,f,f,f,f,f,f,f,f,f,f,f,f,f,f,t,70,t,0.5,t,2.9,t,1.05,t,2.8,f,?,other,primary_hypothyroid\\n47,?,f,f,f,t,f,f,f,f,f,f,f,f,f,f,t,0.02,t,1.9,t,111,t,0.93,t,119,f,?,other,negative\\n53,F,t,f,f,f,f,f,f,f,f,f,f,f,f,f,t,0.02,t,2,t,131,t,0.93,t,142,f,?,other,negative\\n40,M,f,f,f,f,f,f,f,f,f,f,f,f,f,f,f,?,f,?,t,63,t,0.88,t,72,f,?,other,negative\\n32,F,f,f,f,f,f,f,f,f,f,f,f,f,f,f,t,1.6,t,1.3,t,119,t,0.9,t,133,f,?,SVI,negative\\n28,F,f,f,t,f,f,f,f,f,f,f,f,f,f,f,t,0.3,t,2.9,t,171,t,1.2,t,143,f,?,other,negative\\n26,F,f,f,f,f,f,f,f,f,f,f,f,f,f,f,t,2.3,t,2,t,135,t,1.21,t,111,f,?,other,negative\\n60,F,f,f,f,f,f,f,f,f,f,f,f,f,f,f,f,?,f,?,f,?,f,?,f,?,f,?,other,negative\\n39,F,f,f,f,f,f,f,f,f,f,f,f,f,f,t,t,1.9,t,2.4,t,95,t,1.21,t,78,f,?,other,negative\\n22,?,f,f,f,f,f,f,f,f,f,f,f,f,f,f,t,3.1,t,2.7,t,136,t,1.27,t,107,f,?,other,negative\\n36,F,f,f,f,f,f,f,f,f,f,f,f,f,f,f,t,6,t,1.7,t,121,t,1.12,t,108,f,?,other,negative\\n73,F,f,f,f,f,f,f,f,f,f,f,f,f,f,f,t,0.025,t,2.3,t,122,t,0.86,t,142,f,?,other,negative\\n72,M,f,f,f,f,f,f,f,f,f,f,f,f,f,f,t,2.3,t,2,t,106,t,1.01,t,105,f,?,SVI,negative\\n65,F,f,f,f,f,f,f,f,f,f,f,f,f,f,f,t,0.89,t,2.6,t,95,t,1.01,t,95,f,?,other,negative\\n60,F,f,f,f,f,f,f,f,f,f,f,f,f,f,f,t,1,t,1.5,t,102,f,?,f,?,f,?,other,negative\\n67,M,f,f,f,f,f,f,f,f,f,f,f,f,f,f,t,4.3,t,2,t,125,t,1.01,t,124,f,?,SVI,negative\\n61,F,f,f,f,f,f,f,f,f,f,f,f,f,f,f,t,0.025,f,?,t,113,t,0.98,t,116,f,?,other,negative\\n40,F,f,f,f,f,f,f,f,f,f,f,f,f,f,f,t,3.6,t,2.5,t,95,t,1,t,95,f,?,STMW,negative\\n71,M,f,f,f,f,f,f,f,f,f,f,f,f,f,f,t,0.2,t,2.2,t,140,t,1.14,t,123,f,?,SVI,negative\\n68,M,f,f,f,f,f,f,f,f,f,f,f,t,f,f,t,4,t,1.1,t,115,t,0.9,t,128,f,?,SVI,negative\\n23,F,t,f,f,f,f,f,f,f,f,f,f,f,f,f,t,1.4,t,3,t,174,t,1.35,t,129,f,?,other,negative\\n50,F,f,f,f,f,f,f,f,f,f,f,f,f,f,f,t,0.25,t,2,t,77,t,0.75,t,103,f,?,other,negative\\n56,F,f,f,f,f,f,f,f,f,f,f,f,f,f,f,t,0.02,t,7.1,t,223,t,1,t,222,f,?,other,negative\\n36,F,f,f,f,f,f,f,f,f,f,f,f,f,f,f,t,0.24,t,2.4,t,119,t,1.1,t,109,f,?,other,negative\\n36,M,f,f,f,t,f,f,f,f,f,f,f,f,f,f,f,?,f,?,f,?,f,?,f,?,f,?,other,negative\\n47,F,t,f,f,f,f,f,f,f,f,f,f,f,f,f,t,0.01,t,4.2,t,214,t,1.45,t,148,f,?,other,negative\\n83,F,f,f,f,f,f,f,f,f,f,f,f,f,f,f,t,0.68,t,2.2,t,105,f,?,f,?,f,?,other,negative\\n70,F,f,f,f,f,f,t,f,f,f,f,f,f,f,f,t,0.025,t,1.7,t,141,t,0.88,t,160,f,?,SVI,negative\\n33,F,f,f,f,f,f,f,f,f,f,f,f,f,f,f,t,1.5,t,2.5,t,109,t,1.11,t,98,f,?,other,negative\\n43,F,t,f,f,f,f,f,f,f,f,f,f,f,f,f,t,1.9,t,1.8,t,114,t,0.92,t,125,f,?,other,negative\\n48,M,f,f,f,f,f,f,f,f,f,f,f,f,f,f,t,0.8,t,1.2,t,97,t,0.9,t,107,f,?,SVI,negative\\n71,F,t,f,f,f,f,f,f,f,f,f,f,f,f,f,t,4.7,t,1.7,t,93,t,0.98,t,94,f,?,other,negative\\n61,F,f,f,f,f,f,f,f,f,f,f,f,f,f,f,f,?,f,?,t,91,t,0.71,t,128,f,?,other,negative\\n59,F,f,f,f,f,f,f,f,f,f,f,f,f,f,f,t,0.82,t,1.4,t,91,t,0.97,t,94,f,?,other,negative\\n61,F,f,f,f,t,f,t,f,f,f,f,f,f,f,f,t,1.8,t,1.9,t,102,t,1.06,t,97,f,?,SVHD,negative\\n22,M,f,f,f,f,f,f,f,f,f,f,f,f,f,f,t,1.7,t,2.3,t,127,t,1,t,127,f,?,other,negative\\n79,F,f,f,f,f,f,f,f,f,f,f,f,f,f,f,t,1.4,t,0.6,t,94,f,?,f,?,f,?,SVI,negative\\n66,F,f,f,f,f,f,f,f,f,f,f,f,f,f,f,t,0.31,t,2,t,123,t,1.15,t,107,f,?,other,negative\\n69,F,f,f,f,f,f,f,f,f,f,f,f,f,f,f,t,6.8,t,2.2,t,77,f,?,f,?,f,?,other,compensated_hypothyroid\\n38,F,f,f,f,f,f,f,f,f,f,f,f,f,f,f,t,0.5,t,4.7,t,172,t,1.83,t,94,f,?,STMW,negative\\n58,M,f,f,f,f,f,f,f,f,f,f,f,f,f,f,t,0.5,t,3.4,t,91,t,0.97,t,94,f,?,SVI,negative\\n39,F,f,f,f,f,f,f,f,f,f,f,f,t,f,f,f,?,f,?,f,?,f,?,f,?,f,?,other,negative\\n65,M,f,f,f,f,f,f,f,f,f,f,f,f,f,f,t,3.4,t,1.9,t,93,t,0.97,t,96,f,?,SVHC,negative\\n61,F,t,f,f,f,f,f,f,t,f,f,f,f,f,f,t,0.41,t,1.2,t,116,t,0.87,t,134,f,?,SVI,negative\\n32,F,f,f,f,f,f,f,f,f,f,f,f,f,f,t,t,1.2,t,1.6,t,68,t,1.02,t,66,f,?,SVHC,negative\\n24,F,f,f,f,f,f,f,f,f,f,f,f,f,f,f,f,?,f,?,t,103,t,1.09,t,95,f,?,other,negative\\n34,F,f,f,f,f,f,f,f,f,f,f,f,f,f,f,t,0.73,t,1.8,t,97,t,0.97,t,101,f,?,SVI,negative\\n70,F,f,f,f,f,f,f,f,f,f,f,f,f,f,f,t,5.1,t,0.2,t,59,t,0.73,t,82,f,?,SVI,negative\\n73,F,f,f,f,f,f,f,f,f,f,f,f,f,f,f,t,0.01,t,1,t,101,t,0.86,t,117,f,?,SVI,negative\\n74,F,f,f,f,f,f,f,f,f,f,f,f,f,f,f,t,1.8,t,2.6,t,131,t,1.18,t,111,f,?,other,negative\\n62,F,f,f,f,f,f,f,f,f,f,f,f,f,f,f,t,13,f,?,t,75,t,1.35,t,55,f,?,SVI,primary_hypothyroid\\n69,F,f,f,f,f,f,f,f,f,f,f,f,f,f,f,t,20,t,1,t,51,t,0.84,t,61,f,?,SVI,primary_hypothyroid\\n27,F,t,f,f,f,f,f,f,t,f,f,f,f,f,t,t,2.1,t,2.1,t,114,t,1.1,t,104,f,?,SVHC,negative\\n75,F,t,f,f,f,f,f,f,f,f,f,f,f,f,f,t,1.9,f,?,t,124,t,0.86,t,144,f,?,other,negative\\n7,M,f,f,f,f,f,f,f,f,f,f,f,f,f,f,t,0.4,t,2.3,t,54,t,0.86,t,63,f,?,other,negative\\n63,F,f,f,f,f,f,f,f,f,f,f,f,f,f,f,t,8.2,t,2.1,t,80,t,1.02,t,78,f,?,other,compensated_hypothyroid\\n26,M,f,f,f,f,f,f,f,f,f,f,f,f,f,f,t,1.4,t,1.5,t,90,t,0.9,t,100,f,?,SVHC,negative\\n48,M,f,f,f,f,f,f,f,f,f,f,f,f,f,f,t,2.2,t,2.1,t,55,t,0.85,t,65,f,?,SVHC,negative\\n34,F,t,f,f,f,f,f,f,f,f,f,t,f,f,f,f,?,f,?,t,103,t,1.38,t,75,f,?,other,negative\\n61,F,f,f,f,f,f,f,f,f,f,f,f,f,f,f,t,6.2,t,2.3,t,118,t,1.3,t,91,f,?,other,compensated_hypothyroid\\n25,F,f,f,f,f,f,f,f,f,f,f,f,f,f,f,f,?,f,?,t,78,t,0.9,t,87,f,?,other,negative\\n76,M,t,f,f,f,f,f,f,t,f,f,f,f,f,f,t,6.6,t,1,t,91,t,1.04,t,88,f,?,SVI,negative\\n38,F,f,f,f,f,f,f,f,f,f,f,f,f,f,t,t,4.8,t,2.4,t,114,t,0.84,t,135,f,?,SVHC,negative\\n56,F,f,f,f,f,f,f,f,f,f,f,f,f,f,f,t,0.6,t,2.7,t,100,t,1.04,t,96,f,?,other,negative\\n73,F,f,f,f,f,f,f,f,f,f,f,f,f,f,f,t,2.9,t,2,t,121,t,1.19,t,102,f,?,other,negative\\n40,?,f,f,f,f,f,f,f,f,f,f,f,f,f,f,t,2.1,t,0.6,t,79,t,0.91,t,87,f,?,other,negative\\n33,F,f,f,f,f,f,f,f,f,f,f,f,f,f,f,t,0.5,t,1.9,t,92,t,0.92,t,101,f,?,other,negative\\n45,M,f,f,f,f,f,f,f,f,f,f,f,f,f,f,t,1.3,t,2.3,t,88,t,0.84,t,106,f,?,SVHC,negative\\n54,M,f,f,f,f,f,f,f,f,f,f,f,f,f,f,t,2.1,t,2,t,92,t,1,t,92,f,?,SVI,negative\\n68,F,f,f,f,f,f,f,f,f,f,f,f,f,f,f,t,1.2,f,?,t,95,t,1.02,t,93,f,?,other,negative\\n71,F,f,f,f,f,f,f,f,f,f,f,f,f,f,f,t,1.6,t,0.3,t,73,t,0.9,t,81,f,?,other,negative\\n50,F,t,f,f,f,f,f,f,f,f,f,f,f,f,f,t,1.3,t,2,t,94,t,0.96,t,98,f,?,other,negative\\n81,F,f,f,f,f,f,f,f,f,f,f,f,f,f,f,t,1.3,t,1.6,t,94,t,0.8,t,119,f,?,other,negative\\n38,F,f,f,f,f,f,f,f,f,f,f,f,f,f,f,f,?,f,?,f,?,f,?,f,?,f,?,other,negative\\n60,F,t,f,f,f,f,f,f,f,f,f,f,f,f,f,t,400,t,0.5,t,11,t,1.19,t,9.1,f,?,other,primary_hypothyroid\\n32,F,f,f,f,f,f,f,f,f,f,f,f,f,f,f,t,7.9,t,2.2,t,76,t,1.01,t,75,f,?,SVHC,compensated_hypothyroid\\n22,F,f,f,f,f,f,f,f,f,f,f,f,f,f,f,t,1.3,t,1.9,t,94,t,0.89,t,105,f,?,other,negative\\n29,F,f,f,f,t,f,f,f,f,f,f,f,f,f,f,t,0.2,t,0.9,t,54,t,0.76,t,72,f,?,SVI,negative\\n39,M,f,f,f,f,f,f,f,f,f,f,f,f,f,t,t,1,t,1.9,t,83,t,0.9,t,92,f,?,SVHC,negative\\n59,M,f,f,f,f,f,f,f,f,f,f,f,f,f,f,t,1.2,t,1.2,t,70,t,0.71,t,99,f,?,other,negative\\n79,M,f,f,f,f,f,f,f,f,f,f,f,f,f,f,f,?,t,3.1,t,162,t,0.78,t,209,f,?,other,negative\\n38,F,f,f,f,f,f,f,f,f,f,f,f,f,f,f,t,1.4,t,1.5,t,80,t,1.12,t,71,f,?,SVI,negative\\n39,F,f,f,f,f,f,f,f,f,f,f,f,f,f,f,t,1.5,t,1.9,t,102,t,0.87,t,118,f,?,SVI,negative\\n77,F,f,f,f,f,f,f,f,f,f,f,f,f,f,f,t,0.045,t,1.2,t,67,t,0.96,t,69,f,?,other,negative\\n66,M,f,f,f,f,f,f,f,f,f,f,f,f,f,f,t,0.9,t,1.9,t,72,t,0.84,t,86,f,?,other,negative\\n65,F,f,f,f,f,f,f,f,f,f,f,f,f,f,f,t,1.02,t,3,t,130,f,?,f,?,f,?,other,negative\\n74,F,f,f,f,f,f,f,f,f,f,f,f,f,f,f,f,?,t,1.9,t,98,t,1.06,t,92,f,?,other,negative\\n40,F,f,f,f,f,f,f,f,f,f,f,f,f,f,f,t,2.8,t,1.6,t,75,t,0.76,t,99,f,?,other,negative\\n56,F,t,f,f,f,f,f,t,t,f,f,f,f,f,f,t,2.2,t,1.4,t,88,t,0.77,t,114,f,?,other,negative\\n35,F,f,f,f,f,f,f,f,f,t,f,f,f,f,f,t,230,t,1.5,t,36,t,1.34,t,27,f,?,other,primary_hypothyroid\\n83,F,f,f,f,f,f,f,f,f,f,f,f,f,f,f,t,0.6,t,1.2,t,95,t,0.83,t,114,f,?,SVI,negative\\n53,F,f,f,f,f,f,f,f,f,t,f,f,t,f,f,t,0.09,t,3.9,t,216,t,1.15,t,188,f,?,other,negative\\n28,M,f,f,f,f,f,f,f,f,f,f,f,f,f,f,t,1.1,t,2,t,105,t,0.9,t,116,f,?,SVHC,negative\\n50,M,f,f,f,f,f,f,f,f,f,f,f,f,f,f,t,0.005,t,2.4,t,153,t,1.19,t,129,f,?,other,negative\\n65,F,f,f,f,f,f,f,f,f,f,f,f,f,f,f,t,3.9,t,1.6,t,103,t,1.13,t,91,f,?,SVI,negative\\n52,M,t,f,f,f,f,f,f,f,f,f,f,f,f,f,t,0.2,t,2.3,t,116,t,0.94,t,123,f,?,other,negative\\n36,M,f,t,f,f,f,f,f,f,f,f,f,f,f,f,t,0.25,t,1.8,t,124,t,0.75,t,166,f,?,SVI,negative\\n70,F,f,f,f,f,f,f,f,f,f,f,f,f,f,f,t,3.6,t,1.9,t,114,f,?,f,?,f,?,SVI,negative\\n38,F,f,f,f,f,f,f,f,f,f,f,f,f,f,f,t,0.9,t,2.4,t,91,f,?,f,?,f,?,other,negative\\n53,F,f,f,f,f,f,f,f,f,f,f,f,t,f,f,t,0.005,f,?,t,103,t,1.08,t,95,f,?,SVI,negative\\n70,F,f,f,f,f,f,f,f,t,f,f,f,f,f,f,t,1.7,t,1,t,112,t,1.02,t,110,f,?,SVI,negative\\n56,M,f,f,f,f,f,f,f,f,f,f,f,f,f,f,t,0.8,t,1.8,t,76,t,0.8,t,95,f,?,SVI,negative\\n48,F,f,f,f,f,f,f,f,f,f,f,f,f,f,f,t,2.8,t,2.7,t,102,t,0.94,t,109,f,?,SVHC,negative\\n72,F,t,f,f,f,f,f,f,f,f,f,f,t,f,f,f,?,t,3.2,f,?,f,?,f,?,f,?,other,negative\\n58,F,f,f,f,f,f,f,f,f,t,f,f,f,f,f,t,1.1,t,2.3,t,60,t,0.89,t,68,f,?,other,negative\\n30,F,f,f,f,f,t,f,f,f,f,f,f,f,f,f,t,1.1,t,3.6,t,159,t,1.65,t,96,f,?,STMW,negative\\n65,M,f,f,f,f,f,f,f,f,f,f,f,f,f,t,t,3.1,t,2.7,t,131,t,1.03,t,126,f,?,SVHC,negative\\n41,F,f,f,f,f,f,f,f,f,f,f,f,f,f,f,t,0.7,t,2.2,t,104,t,1.02,t,102,f,?,SVHC,negative\\n25,M,f,f,f,f,f,f,f,f,f,f,f,f,f,t,t,1.8,t,2,t,90,t,0.92,t,98,f,?,SVHC,negative\\n68,M,t,f,f,f,f,f,f,f,f,f,f,f,f,f,t,1.3,t,1.5,t,74,t,0.72,t,103,f,?,SVI,negative\\n26,F,f,f,f,f,f,f,f,f,f,f,f,f,f,f,t,1.9,t,2.5,t,102,t,1.16,t,87,f,?,other,negative\\n54,F,t,f,f,f,f,f,f,f,f,f,f,f,f,f,t,7,f,?,t,95,t,0.98,t,98,f,?,other,negative\\n62,F,f,f,f,f,f,f,f,f,f,f,f,t,f,f,t,0.035,t,2.6,t,128,t,1.03,t,124,f,?,SVI,negative\\n34,M,f,f,f,f,f,f,f,f,f,f,f,f,f,t,t,1.6,t,1.7,t,67,t,1.15,t,59,f,?,SVHC,negative\\n73,F,f,f,f,f,f,f,f,f,f,f,f,f,f,f,t,2.5,t,2.1,t,123,t,1.03,t,119,f,?,SVI,negative\\n63,F,f,f,f,f,f,f,f,f,f,f,f,f,f,f,t,8.2,t,2.1,t,80,t,1.01,t,79,f,?,other,compensated_hypothyroid\\n60,M,f,f,f,f,f,f,f,f,f,f,f,f,f,f,t,5.73,t,1.8,t,109,t,1.05,t,104,f,?,SVI,negative\\n52,M,f,f,f,f,f,f,f,f,f,f,f,f,f,t,t,2.3,t,2.5,t,114,t,1.07,t,106,f,?,SVHC,negative\\n21,F,f,f,f,f,f,f,f,f,f,f,f,f,f,f,f,?,f,?,f,?,f,?,f,?,f,?,other,negative\\n24,F,t,f,f,f,f,f,f,f,f,f,f,f,f,f,t,66,t,1,t,112,t,1.01,t,110,f,?,other,negative\\n17,F,f,f,f,f,f,f,f,f,f,f,f,f,f,f,t,1.6,t,1.1,t,52,t,0.36,t,145,f,?,other,negative\\n29,F,t,f,f,f,f,f,f,f,f,f,f,f,f,f,t,15,f,?,t,113,t,1.13,t,100,f,?,other,negative\\n27,F,f,f,f,f,f,f,f,f,f,f,f,f,f,f,t,4.3,t,2.5,t,105,t,1.01,t,103,f,?,other,negative\\n31,F,f,f,f,f,t,f,f,f,f,f,f,t,f,f,f,?,t,2.9,t,159,t,1.43,t,111,f,?,other,negative\\n27,F,f,f,f,f,f,f,f,f,f,f,f,f,f,f,t,13,f,?,t,87,t,0.85,t,103,f,?,SVI,compensated_hypothyroid\\n27,F,f,t,f,f,t,f,f,f,f,f,f,f,f,f,t,2.2,t,4.1,t,157,t,2.01,t,78,f,?,other,negative\\n70,F,f,f,f,f,f,f,f,f,f,f,f,f,f,f,t,0.15,t,1.1,t,171,t,1.09,t,157,f,?,other,negative\\n53,F,f,f,f,f,f,f,f,f,f,f,f,f,f,f,t,8.1,t,2.4,t,132,t,1.28,t,103,f,?,other,compensated_hypothyroid\\n68,F,f,f,f,f,f,f,f,f,f,f,f,f,f,f,t,1.4,t,2.4,t,149,t,1.18,t,126,f,?,other,negative\\n31,F,f,f,f,f,f,f,f,f,f,f,f,f,f,f,t,3.4,f,?,t,104,t,0.94,t,112,f,?,STMW,negative\\n31,F,t,f,f,f,t,f,f,f,t,f,f,f,f,f,t,0.44,t,1.5,t,75,t,0.92,t,81,f,?,STMW,negative\\n43,F,t,f,f,f,f,f,f,t,f,f,f,f,f,f,t,2.6,t,1.8,t,137,t,1.02,t,134,f,?,other,negative\\n56,M,f,f,f,f,f,f,f,t,f,f,f,f,f,f,t,1.3,t,1.8,t,104,f,?,f,?,f,?,other,negative\\n71,F,f,f,f,f,f,f,f,f,f,f,f,f,f,f,t,1.4,t,1.8,t,94,t,0.76,t,124,f,?,SVI,negative\\n39,F,f,f,f,f,f,f,f,t,t,f,f,f,f,f,t,2,t,2.3,t,102,t,1.16,t,88,f,?,other,negative\\n23,F,f,f,f,f,f,f,f,f,f,f,f,f,f,f,t,1.6,t,2.7,t,138,t,1.34,t,103,f,?,other,negative\\n74,F,t,f,f,f,f,f,f,f,f,f,f,f,f,f,t,0.28,t,1.3,t,138,t,0.83,t,166,f,?,SVI,negative\\n61,F,f,f,f,f,f,f,f,f,f,f,f,f,f,f,f,?,f,?,f,?,f,?,f,?,f,?,other,negative\\n62,M,f,f,f,f,f,f,f,f,f,f,f,f,f,f,t,1.3,t,2.5,t,91,t,1.02,t,90,f,?,SVI,negative\\n42,F,f,f,f,f,f,f,f,f,f,f,f,f,f,f,t,0.6,t,2.5,t,125,t,1.22,t,102,f,?,other,negative\\n70,F,f,f,f,f,f,f,f,f,f,f,f,f,f,f,t,0.82,t,2.4,t,96,t,0.91,t,105,f,?,SVI,negative\\n77,M,f,f,f,f,f,f,f,f,f,f,f,f,f,f,t,0.9,t,2.4,t,100,t,0.8,t,124,f,?,SVI,negative\\n51,F,f,f,f,f,f,f,f,f,f,f,f,f,f,f,f,?,f,?,f,?,f,?,f,?,f,?,other,negative\\n75,M,f,f,f,f,f,f,f,f,f,f,f,f,f,f,t,1.8,t,2,t,84,t,0.9,t,93,f,?,SVI,negative\\n26,F,t,f,f,f,t,f,f,f,f,f,f,f,f,f,t,0.2,t,3.9,t,122,t,1.28,t,96,f,?,other,negative\\n32,M,f,f,f,f,f,f,f,f,f,f,f,f,f,f,t,0.45,t,2.5,t,100,t,1.17,t,86,f,?,SVHC,negative\\n47,F,f,f,f,f,f,f,f,f,f,f,f,f,f,f,t,0.68,t,1.8,t,104,t,0.89,t,117,f,?,other,negative\\n59,M,f,f,f,f,f,f,f,f,f,f,f,f,f,f,t,0.7,t,2.8,t,87,t,1,t,87,f,?,SVI,negative\\n68,M,f,f,f,f,f,f,f,f,f,f,f,f,f,f,t,0.9,t,1.9,t,108,t,1.06,t,102,f,?,SVI,negative\\n52,M,f,f,f,f,f,f,f,f,f,f,f,f,f,f,t,1,t,1.8,t,102,t,0.97,t,106,f,?,SVHC,negative\\n74,F,f,f,f,f,f,f,f,t,f,f,f,f,f,f,t,1.3,t,1.2,t,89,t,0.94,t,95,f,?,other,negative\\n75,M,f,f,f,f,f,f,f,f,f,f,f,f,f,f,t,2,f,?,t,74,t,1.05,t,70,f,?,other,negative\\n43,M,f,f,f,f,f,f,f,f,f,f,f,f,f,f,t,1.5,t,1.2,t,78,t,0.72,t,108,f,?,other,negative\\n74,F,f,f,f,f,f,f,f,t,f,f,f,f,f,f,t,23,t,0.2,t,50,t,0.85,t,58,f,?,SVI,primary_hypothyroid\\n77,F,f,f,f,f,f,f,f,f,f,f,f,f,f,f,t,0.8,t,1.4,t,124,t,1.2,t,103,f,?,SVI,negative\\n69,M,f,f,f,f,f,f,f,t,f,f,f,f,f,f,t,0.05,t,2.6,t,93,t,0.88,t,106,f,?,other,negative\\n36,F,f,f,f,t,f,f,f,f,f,f,f,f,f,f,f,?,t,1.8,t,82,f,?,f,?,f,?,SVI,negative\\n69,F,t,f,f,f,f,f,f,f,f,f,f,f,f,f,t,3.3,t,1.5,t,130,t,0.86,t,151,f,?,other,negative\\n34,F,f,f,f,f,f,f,f,f,t,f,f,f,f,f,f,?,t,5.3,t,181,t,1.04,t,174,f,?,other,negative\\n84,M,f,f,f,f,f,f,f,f,f,f,f,f,f,f,t,0.6,t,2.1,t,110,t,1.04,t,106,f,?,SVI,negative\\n54,F,f,f,f,f,f,f,f,f,f,f,f,f,f,f,t,4.1,t,0.8,t,77,t,0.82,t,93,f,?,SVI,negative\\n68,M,f,f,f,f,f,f,f,f,f,f,f,f,f,f,t,0.5,t,2.3,t,81,t,0.92,t,88,f,?,SVI,negative\\n31,M,f,f,f,f,f,f,f,f,f,f,f,f,f,f,t,0.8,t,2.6,t,113,t,0.91,t,123,f,?,other,negative\\n24,F,f,f,f,f,f,f,f,f,f,f,f,f,f,f,t,65,t,0.7,t,28,t,1,t,28,f,?,other,primary_hypothyroid\\n19,F,f,f,f,f,f,f,f,f,f,f,f,f,f,t,t,1.7,t,1.9,t,89,t,0.88,t,102,f,?,SVHC,negative\\n55,M,f,f,f,f,f,f,f,f,f,f,f,f,f,f,t,0.6,t,1.1,t,95,t,0.97,t,98,f,?,SVI,negative\\n80,F,f,f,f,f,f,f,f,f,f,f,f,f,f,f,t,0.8,t,2.3,t,124,t,1.04,t,118,f,?,SVI,negative\\n84,F,t,f,f,f,f,f,f,f,f,f,f,f,f,f,t,0.3,f,?,t,154,t,0.97,t,159,f,?,other,negative\\n56,M,f,f,f,f,f,f,f,f,f,f,f,f,f,f,t,0.05,t,0.7,t,50,t,0.25,t,205,f,?,other,negative\\n43,?,t,f,f,f,f,f,f,f,f,f,f,f,f,f,t,6.6,t,1.4,t,137,t,1.12,t,123,f,?,other,negative\\n59,F,f,f,f,f,f,f,f,f,f,f,f,f,f,f,t,0.4,t,2.1,t,78,t,0.82,t,95,f,?,other,negative\\n79,F,t,f,f,f,f,f,f,f,f,f,f,f,f,f,t,5.1,t,2,t,107,t,1.04,t,104,f,?,other,negative\\n81,F,f,f,f,f,f,f,f,f,f,f,f,f,f,f,t,2.5,t,1.8,t,76,t,1.02,t,75,f,?,SVI,negative\\n60,F,f,f,f,f,f,f,f,t,f,f,f,f,f,f,t,8.2,t,1.7,t,65,t,0.96,t,68,f,?,SVI,compensated_hypothyroid\\n22,F,f,f,f,f,f,f,f,f,f,f,f,f,f,f,t,1.3,t,2.3,t,83,t,0.97,t,85,f,?,SVHC,negative\\n50,F,f,f,f,f,f,f,f,f,f,f,f,f,f,f,t,117,t,0.4,t,17,t,1.14,t,15,f,?,SVI,primary_hypothyroid\\n53,F,f,f,f,f,f,f,f,f,f,f,f,f,f,f,t,0.1,f,?,t,184,t,1.21,t,153,f,?,other,negative\\n23,F,f,f,f,f,f,f,f,f,f,t,f,f,f,t,t,2.1,t,3.1,t,116,t,1.2,t,96,f,?,SVHC,negative\\n69,F,f,f,f,f,f,f,f,f,f,f,f,f,f,f,t,2.1,t,1.9,t,90,t,0.87,t,104,f,?,SVI,negative\\n34,M,f,f,f,f,f,f,f,f,f,f,f,f,f,f,t,1.1,t,1.8,t,60,t,0.75,t,80,f,?,SVI,negative\\n59,F,f,f,f,f,f,f,f,f,f,f,f,f,f,f,f,?,f,?,f,?,f,?,f,?,f,?,other,negative\\n59,M,f,f,f,f,f,f,f,f,f,f,f,f,f,f,t,0.9,t,2,t,88,f,?,f,?,f,?,other,negative\\n49,F,f,t,f,f,f,f,f,f,f,f,f,f,f,f,t,0.1,t,2.7,t,141,t,1.17,t,120,f,?,SVI,negative\\n68,M,f,f,f,f,f,f,f,f,f,f,f,f,f,f,t,55,t,0.6,t,15,t,0.89,t,17,f,?,SVI,primary_hypothyroid\\n62,M,f,f,f,f,f,f,f,f,f,f,f,f,f,f,t,2.1,t,2.1,t,87,t,0.93,t,94,f,?,SVI,negative\\n35,M,f,f,f,f,f,f,f,f,f,f,f,f,f,f,t,0.25,t,0.4,t,38,t,1.08,t,35,f,?,SVI,negative\\n78,F,f,f,f,f,f,f,f,f,f,f,f,f,f,f,t,6.3,t,1.1,t,56,t,0.86,t,65,f,?,SVI,compensated_hypothyroid\\n71,F,f,f,f,f,f,f,f,f,f,f,f,f,f,f,f,?,f,?,f,?,f,?,f,?,f,?,other,negative\\n50,F,f,f,f,f,f,f,f,t,t,f,f,t,f,f,t,40,t,2.2,t,75,t,1.01,t,74,f,?,other,compensated_hypothyroid\\n45,F,f,f,f,f,f,f,f,f,f,f,f,f,f,f,t,1.4,t,2.1,t,100,t,0.95,t,106,f,?,other,negative\\n81,F,f,f,f,f,f,f,f,f,f,f,f,f,f,f,t,1.4,t,1,t,92,t,0.99,t,93,f,?,other,negative\\n42,F,t,f,f,f,f,f,f,f,f,f,f,f,f,f,t,0.4,f,?,t,258,t,1.14,t,227,f,?,other,negative\\n73,M,f,f,f,f,f,f,f,f,f,f,f,f,f,f,t,0.1,t,1.7,t,107,t,0.94,t,113,f,?,other,negative\\n80,M,f,f,f,f,f,f,f,f,f,f,f,f,f,f,t,0.05,t,3.7,t,152,t,0.93,t,164,f,?,SVI,negative\\n61,F,f,f,f,f,f,f,f,f,f,f,f,f,f,f,t,0.2,t,2.3,t,112,t,1.01,t,111,f,?,other,negative\\n77,M,f,f,f,f,f,f,f,f,f,f,f,f,f,f,t,1.3,t,1.3,t,102,t,0.95,t,108,f,?,SVI,negative\\n38,F,f,f,f,f,f,f,f,f,f,f,f,f,f,f,t,2.8,t,2.4,t,96,t,0.98,t,99,f,?,other,negative\\n61,M,f,f,f,f,f,f,f,f,f,f,f,f,f,f,f,?,t,1,t,72,t,0.7,t,103,f,?,other,negative\\n41,F,f,f,f,f,f,f,f,f,f,f,f,f,f,f,f,?,f,?,f,?,f,?,f,?,f,?,other,negative\\n54,M,f,f,f,f,f,f,f,f,f,f,f,f,f,f,t,1.2,t,1.9,t,89,t,0.85,t,104,f,?,SVI,negative\\n73,F,t,f,f,f,f,f,f,f,f,f,f,f,f,f,t,8.5,t,2.1,t,104,t,1.13,t,92,f,?,SVI,negative\\n19,F,f,f,f,f,f,f,f,f,f,f,f,f,f,f,t,8.8,t,2.7,t,108,t,1.11,t,97,f,?,other,compensated_hypothyroid\\n30,F,f,f,f,f,f,f,f,f,f,f,f,t,f,f,f,?,f,?,f,?,f,?,f,?,f,?,other,negative\\n68,F,f,f,f,f,f,f,f,f,f,f,f,f,f,f,t,1,t,2.1,t,124,t,1.08,t,114,f,?,SVI,negative\\n74,F,f,f,f,f,f,f,f,f,t,f,f,f,f,f,t,5.1,t,1.8,t,112,t,1.07,t,105,f,?,other,negative\\n72,M,f,f,f,f,f,f,f,f,f,f,f,f,f,f,t,0.7,t,2,t,82,t,0.94,t,87,f,?,SVI,negative\\n64,F,f,f,f,f,f,f,f,f,f,f,f,f,f,f,t,1,t,2.2,t,99,t,1.07,t,92,f,?,other,negative\\n'}"
            ]
          },
          "metadata": {},
          "execution_count": 59
        }
      ]
    },
    {
      "cell_type": "code",
      "source": [
        "import pandas as pd\n",
        "import io\n",
        "df = pd.read_csv(io.BytesIO(uploaded['hypothyroid.csv']))\n",
        "print(df)"
      ],
      "metadata": {
        "colab": {
          "base_uri": "https://localhost:8080/"
        },
        "id": "aoX9c2itafC7",
        "outputId": "5a38d4a6-fe8c-4afb-9f8f-90e759ada107"
      },
      "execution_count": null,
      "outputs": [
        {
          "output_type": "stream",
          "name": "stdout",
          "text": [
            "     age sex on_thyroxine query_on_thyroxine on_antithyroid_medication sick  \\\n",
            "0     41   F            f                  f                         f    f   \n",
            "1     23   F            f                  f                         f    f   \n",
            "2     46   M            f                  f                         f    f   \n",
            "3     70   F            t                  f                         f    f   \n",
            "4     70   F            f                  f                         f    f   \n",
            "...   ..  ..          ...                ...                       ...  ...   \n",
            "3767  30   F            f                  f                         f    f   \n",
            "3768  68   F            f                  f                         f    f   \n",
            "3769  74   F            f                  f                         f    f   \n",
            "3770  72   M            f                  f                         f    f   \n",
            "3771  64   F            f                  f                         f    f   \n",
            "\n",
            "     pregnant thyroid_surgery I131_treatment query_hypothyroid  ...  \\\n",
            "0           f               f              f                 f  ...   \n",
            "1           f               f              f                 f  ...   \n",
            "2           f               f              f                 f  ...   \n",
            "3           f               f              f                 f  ...   \n",
            "4           f               f              f                 f  ...   \n",
            "...       ...             ...            ...               ...  ...   \n",
            "3767        f               f              f                 f  ...   \n",
            "3768        f               f              f                 f  ...   \n",
            "3769        f               f              f                 f  ...   \n",
            "3770        f               f              f                 f  ...   \n",
            "3771        f               f              f                 f  ...   \n",
            "\n",
            "     TT4_measured  TT4 T4U_measured   T4U FTI_measured  FTI TBG_measured TBG  \\\n",
            "0               t  125            t  1.14            t  109            f   ?   \n",
            "1               t  102            f     ?            f    ?            f   ?   \n",
            "2               t  109            t  0.91            t  120            f   ?   \n",
            "3               t  175            f     ?            f    ?            f   ?   \n",
            "4               t   61            t  0.87            t   70            f   ?   \n",
            "...           ...  ...          ...   ...          ...  ...          ...  ..   \n",
            "3767            f    ?            f     ?            f    ?            f   ?   \n",
            "3768            t  124            t  1.08            t  114            f   ?   \n",
            "3769            t  112            t  1.07            t  105            f   ?   \n",
            "3770            t   82            t  0.94            t   87            f   ?   \n",
            "3771            t   99            t  1.07            t   92            f   ?   \n",
            "\n",
            "     referral_source     Class  \n",
            "0               SVHC  negative  \n",
            "1              other  negative  \n",
            "2              other  negative  \n",
            "3              other  negative  \n",
            "4                SVI  negative  \n",
            "...              ...       ...  \n",
            "3767           other  negative  \n",
            "3768             SVI  negative  \n",
            "3769           other  negative  \n",
            "3770             SVI  negative  \n",
            "3771           other  negative  \n",
            "\n",
            "[3772 rows x 30 columns]\n"
          ]
        }
      ]
    },
    {
      "cell_type": "code",
      "source": [
        "df.head()"
      ],
      "metadata": {
        "id": "aLfDPQ6Ea7CM",
        "colab": {
          "base_uri": "https://localhost:8080/",
          "height": 300
        },
        "outputId": "32557ab9-4cfc-4442-b617-2f1cb6ac4703"
      },
      "execution_count": null,
      "outputs": [
        {
          "output_type": "execute_result",
          "data": {
            "text/plain": [
              "  age sex on_thyroxine query_on_thyroxine on_antithyroid_medication sick  \\\n",
              "0  41   F            f                  f                         f    f   \n",
              "1  23   F            f                  f                         f    f   \n",
              "2  46   M            f                  f                         f    f   \n",
              "3  70   F            t                  f                         f    f   \n",
              "4  70   F            f                  f                         f    f   \n",
              "\n",
              "  pregnant thyroid_surgery I131_treatment query_hypothyroid  ... TT4_measured  \\\n",
              "0        f               f              f                 f  ...            t   \n",
              "1        f               f              f                 f  ...            t   \n",
              "2        f               f              f                 f  ...            t   \n",
              "3        f               f              f                 f  ...            t   \n",
              "4        f               f              f                 f  ...            t   \n",
              "\n",
              "   TT4 T4U_measured   T4U FTI_measured  FTI TBG_measured TBG referral_source  \\\n",
              "0  125            t  1.14            t  109            f   ?            SVHC   \n",
              "1  102            f     ?            f    ?            f   ?           other   \n",
              "2  109            t  0.91            t  120            f   ?           other   \n",
              "3  175            f     ?            f    ?            f   ?           other   \n",
              "4   61            t  0.87            t   70            f   ?             SVI   \n",
              "\n",
              "      Class  \n",
              "0  negative  \n",
              "1  negative  \n",
              "2  negative  \n",
              "3  negative  \n",
              "4  negative  \n",
              "\n",
              "[5 rows x 30 columns]"
            ],
            "text/html": [
              "\n",
              "  <div id=\"df-7dca3c09-9e9d-4b87-93f4-69b4ad0fc001\">\n",
              "    <div class=\"colab-df-container\">\n",
              "      <div>\n",
              "<style scoped>\n",
              "    .dataframe tbody tr th:only-of-type {\n",
              "        vertical-align: middle;\n",
              "    }\n",
              "\n",
              "    .dataframe tbody tr th {\n",
              "        vertical-align: top;\n",
              "    }\n",
              "\n",
              "    .dataframe thead th {\n",
              "        text-align: right;\n",
              "    }\n",
              "</style>\n",
              "<table border=\"1\" class=\"dataframe\">\n",
              "  <thead>\n",
              "    <tr style=\"text-align: right;\">\n",
              "      <th></th>\n",
              "      <th>age</th>\n",
              "      <th>sex</th>\n",
              "      <th>on_thyroxine</th>\n",
              "      <th>query_on_thyroxine</th>\n",
              "      <th>on_antithyroid_medication</th>\n",
              "      <th>sick</th>\n",
              "      <th>pregnant</th>\n",
              "      <th>thyroid_surgery</th>\n",
              "      <th>I131_treatment</th>\n",
              "      <th>query_hypothyroid</th>\n",
              "      <th>...</th>\n",
              "      <th>TT4_measured</th>\n",
              "      <th>TT4</th>\n",
              "      <th>T4U_measured</th>\n",
              "      <th>T4U</th>\n",
              "      <th>FTI_measured</th>\n",
              "      <th>FTI</th>\n",
              "      <th>TBG_measured</th>\n",
              "      <th>TBG</th>\n",
              "      <th>referral_source</th>\n",
              "      <th>Class</th>\n",
              "    </tr>\n",
              "  </thead>\n",
              "  <tbody>\n",
              "    <tr>\n",
              "      <th>0</th>\n",
              "      <td>41</td>\n",
              "      <td>F</td>\n",
              "      <td>f</td>\n",
              "      <td>f</td>\n",
              "      <td>f</td>\n",
              "      <td>f</td>\n",
              "      <td>f</td>\n",
              "      <td>f</td>\n",
              "      <td>f</td>\n",
              "      <td>f</td>\n",
              "      <td>...</td>\n",
              "      <td>t</td>\n",
              "      <td>125</td>\n",
              "      <td>t</td>\n",
              "      <td>1.14</td>\n",
              "      <td>t</td>\n",
              "      <td>109</td>\n",
              "      <td>f</td>\n",
              "      <td>?</td>\n",
              "      <td>SVHC</td>\n",
              "      <td>negative</td>\n",
              "    </tr>\n",
              "    <tr>\n",
              "      <th>1</th>\n",
              "      <td>23</td>\n",
              "      <td>F</td>\n",
              "      <td>f</td>\n",
              "      <td>f</td>\n",
              "      <td>f</td>\n",
              "      <td>f</td>\n",
              "      <td>f</td>\n",
              "      <td>f</td>\n",
              "      <td>f</td>\n",
              "      <td>f</td>\n",
              "      <td>...</td>\n",
              "      <td>t</td>\n",
              "      <td>102</td>\n",
              "      <td>f</td>\n",
              "      <td>?</td>\n",
              "      <td>f</td>\n",
              "      <td>?</td>\n",
              "      <td>f</td>\n",
              "      <td>?</td>\n",
              "      <td>other</td>\n",
              "      <td>negative</td>\n",
              "    </tr>\n",
              "    <tr>\n",
              "      <th>2</th>\n",
              "      <td>46</td>\n",
              "      <td>M</td>\n",
              "      <td>f</td>\n",
              "      <td>f</td>\n",
              "      <td>f</td>\n",
              "      <td>f</td>\n",
              "      <td>f</td>\n",
              "      <td>f</td>\n",
              "      <td>f</td>\n",
              "      <td>f</td>\n",
              "      <td>...</td>\n",
              "      <td>t</td>\n",
              "      <td>109</td>\n",
              "      <td>t</td>\n",
              "      <td>0.91</td>\n",
              "      <td>t</td>\n",
              "      <td>120</td>\n",
              "      <td>f</td>\n",
              "      <td>?</td>\n",
              "      <td>other</td>\n",
              "      <td>negative</td>\n",
              "    </tr>\n",
              "    <tr>\n",
              "      <th>3</th>\n",
              "      <td>70</td>\n",
              "      <td>F</td>\n",
              "      <td>t</td>\n",
              "      <td>f</td>\n",
              "      <td>f</td>\n",
              "      <td>f</td>\n",
              "      <td>f</td>\n",
              "      <td>f</td>\n",
              "      <td>f</td>\n",
              "      <td>f</td>\n",
              "      <td>...</td>\n",
              "      <td>t</td>\n",
              "      <td>175</td>\n",
              "      <td>f</td>\n",
              "      <td>?</td>\n",
              "      <td>f</td>\n",
              "      <td>?</td>\n",
              "      <td>f</td>\n",
              "      <td>?</td>\n",
              "      <td>other</td>\n",
              "      <td>negative</td>\n",
              "    </tr>\n",
              "    <tr>\n",
              "      <th>4</th>\n",
              "      <td>70</td>\n",
              "      <td>F</td>\n",
              "      <td>f</td>\n",
              "      <td>f</td>\n",
              "      <td>f</td>\n",
              "      <td>f</td>\n",
              "      <td>f</td>\n",
              "      <td>f</td>\n",
              "      <td>f</td>\n",
              "      <td>f</td>\n",
              "      <td>...</td>\n",
              "      <td>t</td>\n",
              "      <td>61</td>\n",
              "      <td>t</td>\n",
              "      <td>0.87</td>\n",
              "      <td>t</td>\n",
              "      <td>70</td>\n",
              "      <td>f</td>\n",
              "      <td>?</td>\n",
              "      <td>SVI</td>\n",
              "      <td>negative</td>\n",
              "    </tr>\n",
              "  </tbody>\n",
              "</table>\n",
              "<p>5 rows × 30 columns</p>\n",
              "</div>\n",
              "      <button class=\"colab-df-convert\" onclick=\"convertToInteractive('df-7dca3c09-9e9d-4b87-93f4-69b4ad0fc001')\"\n",
              "              title=\"Convert this dataframe to an interactive table.\"\n",
              "              style=\"display:none;\">\n",
              "        \n",
              "  <svg xmlns=\"http://www.w3.org/2000/svg\" height=\"24px\"viewBox=\"0 0 24 24\"\n",
              "       width=\"24px\">\n",
              "    <path d=\"M0 0h24v24H0V0z\" fill=\"none\"/>\n",
              "    <path d=\"M18.56 5.44l.94 2.06.94-2.06 2.06-.94-2.06-.94-.94-2.06-.94 2.06-2.06.94zm-11 1L8.5 8.5l.94-2.06 2.06-.94-2.06-.94L8.5 2.5l-.94 2.06-2.06.94zm10 10l.94 2.06.94-2.06 2.06-.94-2.06-.94-.94-2.06-.94 2.06-2.06.94z\"/><path d=\"M17.41 7.96l-1.37-1.37c-.4-.4-.92-.59-1.43-.59-.52 0-1.04.2-1.43.59L10.3 9.45l-7.72 7.72c-.78.78-.78 2.05 0 2.83L4 21.41c.39.39.9.59 1.41.59.51 0 1.02-.2 1.41-.59l7.78-7.78 2.81-2.81c.8-.78.8-2.07 0-2.86zM5.41 20L4 18.59l7.72-7.72 1.47 1.35L5.41 20z\"/>\n",
              "  </svg>\n",
              "      </button>\n",
              "      \n",
              "  <style>\n",
              "    .colab-df-container {\n",
              "      display:flex;\n",
              "      flex-wrap:wrap;\n",
              "      gap: 12px;\n",
              "    }\n",
              "\n",
              "    .colab-df-convert {\n",
              "      background-color: #E8F0FE;\n",
              "      border: none;\n",
              "      border-radius: 50%;\n",
              "      cursor: pointer;\n",
              "      display: none;\n",
              "      fill: #1967D2;\n",
              "      height: 32px;\n",
              "      padding: 0 0 0 0;\n",
              "      width: 32px;\n",
              "    }\n",
              "\n",
              "    .colab-df-convert:hover {\n",
              "      background-color: #E2EBFA;\n",
              "      box-shadow: 0px 1px 2px rgba(60, 64, 67, 0.3), 0px 1px 3px 1px rgba(60, 64, 67, 0.15);\n",
              "      fill: #174EA6;\n",
              "    }\n",
              "\n",
              "    [theme=dark] .colab-df-convert {\n",
              "      background-color: #3B4455;\n",
              "      fill: #D2E3FC;\n",
              "    }\n",
              "\n",
              "    [theme=dark] .colab-df-convert:hover {\n",
              "      background-color: #434B5C;\n",
              "      box-shadow: 0px 1px 3px 1px rgba(0, 0, 0, 0.15);\n",
              "      filter: drop-shadow(0px 1px 2px rgba(0, 0, 0, 0.3));\n",
              "      fill: #FFFFFF;\n",
              "    }\n",
              "  </style>\n",
              "\n",
              "      <script>\n",
              "        const buttonEl =\n",
              "          document.querySelector('#df-7dca3c09-9e9d-4b87-93f4-69b4ad0fc001 button.colab-df-convert');\n",
              "        buttonEl.style.display =\n",
              "          google.colab.kernel.accessAllowed ? 'block' : 'none';\n",
              "\n",
              "        async function convertToInteractive(key) {\n",
              "          const element = document.querySelector('#df-7dca3c09-9e9d-4b87-93f4-69b4ad0fc001');\n",
              "          const dataTable =\n",
              "            await google.colab.kernel.invokeFunction('convertToInteractive',\n",
              "                                                     [key], {});\n",
              "          if (!dataTable) return;\n",
              "\n",
              "          const docLinkHtml = 'Like what you see? Visit the ' +\n",
              "            '<a target=\"_blank\" href=https://colab.research.google.com/notebooks/data_table.ipynb>data table notebook</a>'\n",
              "            + ' to learn more about interactive tables.';\n",
              "          element.innerHTML = '';\n",
              "          dataTable['output_type'] = 'display_data';\n",
              "          await google.colab.output.renderOutput(dataTable, element);\n",
              "          const docLink = document.createElement('div');\n",
              "          docLink.innerHTML = docLinkHtml;\n",
              "          element.appendChild(docLink);\n",
              "        }\n",
              "      </script>\n",
              "    </div>\n",
              "  </div>\n",
              "  "
            ]
          },
          "metadata": {},
          "execution_count": 61
        }
      ]
    },
    {
      "cell_type": "code",
      "source": [
        "df.info()"
      ],
      "metadata": {
        "colab": {
          "base_uri": "https://localhost:8080/"
        },
        "id": "wLAwgMMefG_I",
        "outputId": "b7ba5faa-61f9-4b37-e0cd-b7f1cce57404"
      },
      "execution_count": null,
      "outputs": [
        {
          "output_type": "stream",
          "name": "stdout",
          "text": [
            "<class 'pandas.core.frame.DataFrame'>\n",
            "RangeIndex: 3772 entries, 0 to 3771\n",
            "Data columns (total 30 columns):\n",
            " #   Column                     Non-Null Count  Dtype \n",
            "---  ------                     --------------  ----- \n",
            " 0   age                        3772 non-null   object\n",
            " 1   sex                        3772 non-null   object\n",
            " 2   on_thyroxine               3772 non-null   object\n",
            " 3   query_on_thyroxine         3772 non-null   object\n",
            " 4   on_antithyroid_medication  3772 non-null   object\n",
            " 5   sick                       3772 non-null   object\n",
            " 6   pregnant                   3772 non-null   object\n",
            " 7   thyroid_surgery            3772 non-null   object\n",
            " 8   I131_treatment             3772 non-null   object\n",
            " 9   query_hypothyroid          3772 non-null   object\n",
            " 10  query_hyperthyroid         3772 non-null   object\n",
            " 11  lithium                    3772 non-null   object\n",
            " 12  goitre                     3772 non-null   object\n",
            " 13  tumor                      3772 non-null   object\n",
            " 14  hypopituitary              3772 non-null   object\n",
            " 15  psych                      3772 non-null   object\n",
            " 16  TSH_measured               3772 non-null   object\n",
            " 17  TSH                        3772 non-null   object\n",
            " 18  T3_measured                3772 non-null   object\n",
            " 19  T3                         3772 non-null   object\n",
            " 20  TT4_measured               3772 non-null   object\n",
            " 21  TT4                        3772 non-null   object\n",
            " 22  T4U_measured               3772 non-null   object\n",
            " 23  T4U                        3772 non-null   object\n",
            " 24  FTI_measured               3772 non-null   object\n",
            " 25  FTI                        3772 non-null   object\n",
            " 26  TBG_measured               3772 non-null   object\n",
            " 27  TBG                        3772 non-null   object\n",
            " 28  referral_source            3772 non-null   object\n",
            " 29  Class                      3772 non-null   object\n",
            "dtypes: object(30)\n",
            "memory usage: 884.2+ KB\n"
          ]
        }
      ]
    },
    {
      "cell_type": "code",
      "source": [
        "df.describe"
      ],
      "metadata": {
        "colab": {
          "base_uri": "https://localhost:8080/"
        },
        "id": "9WIimipIfIbE",
        "outputId": "bd333ef8-7853-4741-9c2b-57f8228b6b9f"
      },
      "execution_count": null,
      "outputs": [
        {
          "output_type": "execute_result",
          "data": {
            "text/plain": [
              "<bound method NDFrame.describe of      age sex on_thyroxine query_on_thyroxine on_antithyroid_medication sick  \\\n",
              "0     41   F            f                  f                         f    f   \n",
              "1     23   F            f                  f                         f    f   \n",
              "2     46   M            f                  f                         f    f   \n",
              "3     70   F            t                  f                         f    f   \n",
              "4     70   F            f                  f                         f    f   \n",
              "...   ..  ..          ...                ...                       ...  ...   \n",
              "3767  30   F            f                  f                         f    f   \n",
              "3768  68   F            f                  f                         f    f   \n",
              "3769  74   F            f                  f                         f    f   \n",
              "3770  72   M            f                  f                         f    f   \n",
              "3771  64   F            f                  f                         f    f   \n",
              "\n",
              "     pregnant thyroid_surgery I131_treatment query_hypothyroid  ...  \\\n",
              "0           f               f              f                 f  ...   \n",
              "1           f               f              f                 f  ...   \n",
              "2           f               f              f                 f  ...   \n",
              "3           f               f              f                 f  ...   \n",
              "4           f               f              f                 f  ...   \n",
              "...       ...             ...            ...               ...  ...   \n",
              "3767        f               f              f                 f  ...   \n",
              "3768        f               f              f                 f  ...   \n",
              "3769        f               f              f                 f  ...   \n",
              "3770        f               f              f                 f  ...   \n",
              "3771        f               f              f                 f  ...   \n",
              "\n",
              "     TT4_measured  TT4 T4U_measured   T4U FTI_measured  FTI TBG_measured TBG  \\\n",
              "0               t  125            t  1.14            t  109            f   ?   \n",
              "1               t  102            f     ?            f    ?            f   ?   \n",
              "2               t  109            t  0.91            t  120            f   ?   \n",
              "3               t  175            f     ?            f    ?            f   ?   \n",
              "4               t   61            t  0.87            t   70            f   ?   \n",
              "...           ...  ...          ...   ...          ...  ...          ...  ..   \n",
              "3767            f    ?            f     ?            f    ?            f   ?   \n",
              "3768            t  124            t  1.08            t  114            f   ?   \n",
              "3769            t  112            t  1.07            t  105            f   ?   \n",
              "3770            t   82            t  0.94            t   87            f   ?   \n",
              "3771            t   99            t  1.07            t   92            f   ?   \n",
              "\n",
              "     referral_source     Class  \n",
              "0               SVHC  negative  \n",
              "1              other  negative  \n",
              "2              other  negative  \n",
              "3              other  negative  \n",
              "4                SVI  negative  \n",
              "...              ...       ...  \n",
              "3767           other  negative  \n",
              "3768             SVI  negative  \n",
              "3769           other  negative  \n",
              "3770             SVI  negative  \n",
              "3771           other  negative  \n",
              "\n",
              "[3772 rows x 30 columns]>"
            ]
          },
          "metadata": {},
          "execution_count": 63
        }
      ]
    },
    {
      "cell_type": "code",
      "source": [
        "df.columns"
      ],
      "metadata": {
        "colab": {
          "base_uri": "https://localhost:8080/"
        },
        "id": "1OtXrNCVI_1N",
        "outputId": "e4a97aa4-819a-491a-ecdd-31775cf0ecad"
      },
      "execution_count": null,
      "outputs": [
        {
          "output_type": "execute_result",
          "data": {
            "text/plain": [
              "Index(['age', 'sex', 'on_thyroxine', 'query_on_thyroxine',\n",
              "       'on_antithyroid_medication', 'sick', 'pregnant', 'thyroid_surgery',\n",
              "       'I131_treatment', 'query_hypothyroid', 'query_hyperthyroid', 'lithium',\n",
              "       'goitre', 'tumor', 'hypopituitary', 'psych', 'TSH_measured', 'TSH',\n",
              "       'T3_measured', 'T3', 'TT4_measured', 'TT4', 'T4U_measured', 'T4U',\n",
              "       'FTI_measured', 'FTI', 'TBG_measured', 'TBG', 'referral_source',\n",
              "       'Class'],\n",
              "      dtype='object')"
            ]
          },
          "metadata": {},
          "execution_count": 64
        }
      ]
    },
    {
      "cell_type": "code",
      "source": [
        "columns_thyroid_csv = ['age', 'sex', 'on_thyroxine', 'query_on_thyroxine',\n",
        "       'on_antithyroid_medication', 'sick', 'pregnant', 'thyroid_surgery',\n",
        "       'I131_treatment', 'query_hypothyroid', 'query_hyperthyroid', 'lithium',\n",
        "       'goitre', 'tumor', 'hypopituitary', 'psych', 'TSH_measured', 'TSH',\n",
        "       'T3_measured', 'T3', 'TT4_measured', 'TT4', 'T4U_measured', 'T4U',\n",
        "       'FTI_measured', 'FTI', 'TBG_measured', 'TBG', 'referral_source',\n",
        "       'Class']\n",
        "df[columns_thyroid_csv]"
      ],
      "metadata": {
        "colab": {
          "base_uri": "https://localhost:8080/",
          "height": 488
        },
        "id": "XxlHAbDyJPVZ",
        "outputId": "756a9932-dda3-49bd-8650-44a8dfe35ce8"
      },
      "execution_count": null,
      "outputs": [
        {
          "output_type": "execute_result",
          "data": {
            "text/plain": [
              "     age sex on_thyroxine query_on_thyroxine on_antithyroid_medication sick  \\\n",
              "0     41   F            f                  f                         f    f   \n",
              "1     23   F            f                  f                         f    f   \n",
              "2     46   M            f                  f                         f    f   \n",
              "3     70   F            t                  f                         f    f   \n",
              "4     70   F            f                  f                         f    f   \n",
              "...   ..  ..          ...                ...                       ...  ...   \n",
              "3767  30   F            f                  f                         f    f   \n",
              "3768  68   F            f                  f                         f    f   \n",
              "3769  74   F            f                  f                         f    f   \n",
              "3770  72   M            f                  f                         f    f   \n",
              "3771  64   F            f                  f                         f    f   \n",
              "\n",
              "     pregnant thyroid_surgery I131_treatment query_hypothyroid  ...  \\\n",
              "0           f               f              f                 f  ...   \n",
              "1           f               f              f                 f  ...   \n",
              "2           f               f              f                 f  ...   \n",
              "3           f               f              f                 f  ...   \n",
              "4           f               f              f                 f  ...   \n",
              "...       ...             ...            ...               ...  ...   \n",
              "3767        f               f              f                 f  ...   \n",
              "3768        f               f              f                 f  ...   \n",
              "3769        f               f              f                 f  ...   \n",
              "3770        f               f              f                 f  ...   \n",
              "3771        f               f              f                 f  ...   \n",
              "\n",
              "     TT4_measured  TT4 T4U_measured   T4U FTI_measured  FTI TBG_measured TBG  \\\n",
              "0               t  125            t  1.14            t  109            f   ?   \n",
              "1               t  102            f     ?            f    ?            f   ?   \n",
              "2               t  109            t  0.91            t  120            f   ?   \n",
              "3               t  175            f     ?            f    ?            f   ?   \n",
              "4               t   61            t  0.87            t   70            f   ?   \n",
              "...           ...  ...          ...   ...          ...  ...          ...  ..   \n",
              "3767            f    ?            f     ?            f    ?            f   ?   \n",
              "3768            t  124            t  1.08            t  114            f   ?   \n",
              "3769            t  112            t  1.07            t  105            f   ?   \n",
              "3770            t   82            t  0.94            t   87            f   ?   \n",
              "3771            t   99            t  1.07            t   92            f   ?   \n",
              "\n",
              "     referral_source     Class  \n",
              "0               SVHC  negative  \n",
              "1              other  negative  \n",
              "2              other  negative  \n",
              "3              other  negative  \n",
              "4                SVI  negative  \n",
              "...              ...       ...  \n",
              "3767           other  negative  \n",
              "3768             SVI  negative  \n",
              "3769           other  negative  \n",
              "3770             SVI  negative  \n",
              "3771           other  negative  \n",
              "\n",
              "[3772 rows x 30 columns]"
            ],
            "text/html": [
              "\n",
              "  <div id=\"df-ba346724-e5a7-4dde-b335-bb920c2f867c\">\n",
              "    <div class=\"colab-df-container\">\n",
              "      <div>\n",
              "<style scoped>\n",
              "    .dataframe tbody tr th:only-of-type {\n",
              "        vertical-align: middle;\n",
              "    }\n",
              "\n",
              "    .dataframe tbody tr th {\n",
              "        vertical-align: top;\n",
              "    }\n",
              "\n",
              "    .dataframe thead th {\n",
              "        text-align: right;\n",
              "    }\n",
              "</style>\n",
              "<table border=\"1\" class=\"dataframe\">\n",
              "  <thead>\n",
              "    <tr style=\"text-align: right;\">\n",
              "      <th></th>\n",
              "      <th>age</th>\n",
              "      <th>sex</th>\n",
              "      <th>on_thyroxine</th>\n",
              "      <th>query_on_thyroxine</th>\n",
              "      <th>on_antithyroid_medication</th>\n",
              "      <th>sick</th>\n",
              "      <th>pregnant</th>\n",
              "      <th>thyroid_surgery</th>\n",
              "      <th>I131_treatment</th>\n",
              "      <th>query_hypothyroid</th>\n",
              "      <th>...</th>\n",
              "      <th>TT4_measured</th>\n",
              "      <th>TT4</th>\n",
              "      <th>T4U_measured</th>\n",
              "      <th>T4U</th>\n",
              "      <th>FTI_measured</th>\n",
              "      <th>FTI</th>\n",
              "      <th>TBG_measured</th>\n",
              "      <th>TBG</th>\n",
              "      <th>referral_source</th>\n",
              "      <th>Class</th>\n",
              "    </tr>\n",
              "  </thead>\n",
              "  <tbody>\n",
              "    <tr>\n",
              "      <th>0</th>\n",
              "      <td>41</td>\n",
              "      <td>F</td>\n",
              "      <td>f</td>\n",
              "      <td>f</td>\n",
              "      <td>f</td>\n",
              "      <td>f</td>\n",
              "      <td>f</td>\n",
              "      <td>f</td>\n",
              "      <td>f</td>\n",
              "      <td>f</td>\n",
              "      <td>...</td>\n",
              "      <td>t</td>\n",
              "      <td>125</td>\n",
              "      <td>t</td>\n",
              "      <td>1.14</td>\n",
              "      <td>t</td>\n",
              "      <td>109</td>\n",
              "      <td>f</td>\n",
              "      <td>?</td>\n",
              "      <td>SVHC</td>\n",
              "      <td>negative</td>\n",
              "    </tr>\n",
              "    <tr>\n",
              "      <th>1</th>\n",
              "      <td>23</td>\n",
              "      <td>F</td>\n",
              "      <td>f</td>\n",
              "      <td>f</td>\n",
              "      <td>f</td>\n",
              "      <td>f</td>\n",
              "      <td>f</td>\n",
              "      <td>f</td>\n",
              "      <td>f</td>\n",
              "      <td>f</td>\n",
              "      <td>...</td>\n",
              "      <td>t</td>\n",
              "      <td>102</td>\n",
              "      <td>f</td>\n",
              "      <td>?</td>\n",
              "      <td>f</td>\n",
              "      <td>?</td>\n",
              "      <td>f</td>\n",
              "      <td>?</td>\n",
              "      <td>other</td>\n",
              "      <td>negative</td>\n",
              "    </tr>\n",
              "    <tr>\n",
              "      <th>2</th>\n",
              "      <td>46</td>\n",
              "      <td>M</td>\n",
              "      <td>f</td>\n",
              "      <td>f</td>\n",
              "      <td>f</td>\n",
              "      <td>f</td>\n",
              "      <td>f</td>\n",
              "      <td>f</td>\n",
              "      <td>f</td>\n",
              "      <td>f</td>\n",
              "      <td>...</td>\n",
              "      <td>t</td>\n",
              "      <td>109</td>\n",
              "      <td>t</td>\n",
              "      <td>0.91</td>\n",
              "      <td>t</td>\n",
              "      <td>120</td>\n",
              "      <td>f</td>\n",
              "      <td>?</td>\n",
              "      <td>other</td>\n",
              "      <td>negative</td>\n",
              "    </tr>\n",
              "    <tr>\n",
              "      <th>3</th>\n",
              "      <td>70</td>\n",
              "      <td>F</td>\n",
              "      <td>t</td>\n",
              "      <td>f</td>\n",
              "      <td>f</td>\n",
              "      <td>f</td>\n",
              "      <td>f</td>\n",
              "      <td>f</td>\n",
              "      <td>f</td>\n",
              "      <td>f</td>\n",
              "      <td>...</td>\n",
              "      <td>t</td>\n",
              "      <td>175</td>\n",
              "      <td>f</td>\n",
              "      <td>?</td>\n",
              "      <td>f</td>\n",
              "      <td>?</td>\n",
              "      <td>f</td>\n",
              "      <td>?</td>\n",
              "      <td>other</td>\n",
              "      <td>negative</td>\n",
              "    </tr>\n",
              "    <tr>\n",
              "      <th>4</th>\n",
              "      <td>70</td>\n",
              "      <td>F</td>\n",
              "      <td>f</td>\n",
              "      <td>f</td>\n",
              "      <td>f</td>\n",
              "      <td>f</td>\n",
              "      <td>f</td>\n",
              "      <td>f</td>\n",
              "      <td>f</td>\n",
              "      <td>f</td>\n",
              "      <td>...</td>\n",
              "      <td>t</td>\n",
              "      <td>61</td>\n",
              "      <td>t</td>\n",
              "      <td>0.87</td>\n",
              "      <td>t</td>\n",
              "      <td>70</td>\n",
              "      <td>f</td>\n",
              "      <td>?</td>\n",
              "      <td>SVI</td>\n",
              "      <td>negative</td>\n",
              "    </tr>\n",
              "    <tr>\n",
              "      <th>...</th>\n",
              "      <td>...</td>\n",
              "      <td>...</td>\n",
              "      <td>...</td>\n",
              "      <td>...</td>\n",
              "      <td>...</td>\n",
              "      <td>...</td>\n",
              "      <td>...</td>\n",
              "      <td>...</td>\n",
              "      <td>...</td>\n",
              "      <td>...</td>\n",
              "      <td>...</td>\n",
              "      <td>...</td>\n",
              "      <td>...</td>\n",
              "      <td>...</td>\n",
              "      <td>...</td>\n",
              "      <td>...</td>\n",
              "      <td>...</td>\n",
              "      <td>...</td>\n",
              "      <td>...</td>\n",
              "      <td>...</td>\n",
              "      <td>...</td>\n",
              "    </tr>\n",
              "    <tr>\n",
              "      <th>3767</th>\n",
              "      <td>30</td>\n",
              "      <td>F</td>\n",
              "      <td>f</td>\n",
              "      <td>f</td>\n",
              "      <td>f</td>\n",
              "      <td>f</td>\n",
              "      <td>f</td>\n",
              "      <td>f</td>\n",
              "      <td>f</td>\n",
              "      <td>f</td>\n",
              "      <td>...</td>\n",
              "      <td>f</td>\n",
              "      <td>?</td>\n",
              "      <td>f</td>\n",
              "      <td>?</td>\n",
              "      <td>f</td>\n",
              "      <td>?</td>\n",
              "      <td>f</td>\n",
              "      <td>?</td>\n",
              "      <td>other</td>\n",
              "      <td>negative</td>\n",
              "    </tr>\n",
              "    <tr>\n",
              "      <th>3768</th>\n",
              "      <td>68</td>\n",
              "      <td>F</td>\n",
              "      <td>f</td>\n",
              "      <td>f</td>\n",
              "      <td>f</td>\n",
              "      <td>f</td>\n",
              "      <td>f</td>\n",
              "      <td>f</td>\n",
              "      <td>f</td>\n",
              "      <td>f</td>\n",
              "      <td>...</td>\n",
              "      <td>t</td>\n",
              "      <td>124</td>\n",
              "      <td>t</td>\n",
              "      <td>1.08</td>\n",
              "      <td>t</td>\n",
              "      <td>114</td>\n",
              "      <td>f</td>\n",
              "      <td>?</td>\n",
              "      <td>SVI</td>\n",
              "      <td>negative</td>\n",
              "    </tr>\n",
              "    <tr>\n",
              "      <th>3769</th>\n",
              "      <td>74</td>\n",
              "      <td>F</td>\n",
              "      <td>f</td>\n",
              "      <td>f</td>\n",
              "      <td>f</td>\n",
              "      <td>f</td>\n",
              "      <td>f</td>\n",
              "      <td>f</td>\n",
              "      <td>f</td>\n",
              "      <td>f</td>\n",
              "      <td>...</td>\n",
              "      <td>t</td>\n",
              "      <td>112</td>\n",
              "      <td>t</td>\n",
              "      <td>1.07</td>\n",
              "      <td>t</td>\n",
              "      <td>105</td>\n",
              "      <td>f</td>\n",
              "      <td>?</td>\n",
              "      <td>other</td>\n",
              "      <td>negative</td>\n",
              "    </tr>\n",
              "    <tr>\n",
              "      <th>3770</th>\n",
              "      <td>72</td>\n",
              "      <td>M</td>\n",
              "      <td>f</td>\n",
              "      <td>f</td>\n",
              "      <td>f</td>\n",
              "      <td>f</td>\n",
              "      <td>f</td>\n",
              "      <td>f</td>\n",
              "      <td>f</td>\n",
              "      <td>f</td>\n",
              "      <td>...</td>\n",
              "      <td>t</td>\n",
              "      <td>82</td>\n",
              "      <td>t</td>\n",
              "      <td>0.94</td>\n",
              "      <td>t</td>\n",
              "      <td>87</td>\n",
              "      <td>f</td>\n",
              "      <td>?</td>\n",
              "      <td>SVI</td>\n",
              "      <td>negative</td>\n",
              "    </tr>\n",
              "    <tr>\n",
              "      <th>3771</th>\n",
              "      <td>64</td>\n",
              "      <td>F</td>\n",
              "      <td>f</td>\n",
              "      <td>f</td>\n",
              "      <td>f</td>\n",
              "      <td>f</td>\n",
              "      <td>f</td>\n",
              "      <td>f</td>\n",
              "      <td>f</td>\n",
              "      <td>f</td>\n",
              "      <td>...</td>\n",
              "      <td>t</td>\n",
              "      <td>99</td>\n",
              "      <td>t</td>\n",
              "      <td>1.07</td>\n",
              "      <td>t</td>\n",
              "      <td>92</td>\n",
              "      <td>f</td>\n",
              "      <td>?</td>\n",
              "      <td>other</td>\n",
              "      <td>negative</td>\n",
              "    </tr>\n",
              "  </tbody>\n",
              "</table>\n",
              "<p>3772 rows × 30 columns</p>\n",
              "</div>\n",
              "      <button class=\"colab-df-convert\" onclick=\"convertToInteractive('df-ba346724-e5a7-4dde-b335-bb920c2f867c')\"\n",
              "              title=\"Convert this dataframe to an interactive table.\"\n",
              "              style=\"display:none;\">\n",
              "        \n",
              "  <svg xmlns=\"http://www.w3.org/2000/svg\" height=\"24px\"viewBox=\"0 0 24 24\"\n",
              "       width=\"24px\">\n",
              "    <path d=\"M0 0h24v24H0V0z\" fill=\"none\"/>\n",
              "    <path d=\"M18.56 5.44l.94 2.06.94-2.06 2.06-.94-2.06-.94-.94-2.06-.94 2.06-2.06.94zm-11 1L8.5 8.5l.94-2.06 2.06-.94-2.06-.94L8.5 2.5l-.94 2.06-2.06.94zm10 10l.94 2.06.94-2.06 2.06-.94-2.06-.94-.94-2.06-.94 2.06-2.06.94z\"/><path d=\"M17.41 7.96l-1.37-1.37c-.4-.4-.92-.59-1.43-.59-.52 0-1.04.2-1.43.59L10.3 9.45l-7.72 7.72c-.78.78-.78 2.05 0 2.83L4 21.41c.39.39.9.59 1.41.59.51 0 1.02-.2 1.41-.59l7.78-7.78 2.81-2.81c.8-.78.8-2.07 0-2.86zM5.41 20L4 18.59l7.72-7.72 1.47 1.35L5.41 20z\"/>\n",
              "  </svg>\n",
              "      </button>\n",
              "      \n",
              "  <style>\n",
              "    .colab-df-container {\n",
              "      display:flex;\n",
              "      flex-wrap:wrap;\n",
              "      gap: 12px;\n",
              "    }\n",
              "\n",
              "    .colab-df-convert {\n",
              "      background-color: #E8F0FE;\n",
              "      border: none;\n",
              "      border-radius: 50%;\n",
              "      cursor: pointer;\n",
              "      display: none;\n",
              "      fill: #1967D2;\n",
              "      height: 32px;\n",
              "      padding: 0 0 0 0;\n",
              "      width: 32px;\n",
              "    }\n",
              "\n",
              "    .colab-df-convert:hover {\n",
              "      background-color: #E2EBFA;\n",
              "      box-shadow: 0px 1px 2px rgba(60, 64, 67, 0.3), 0px 1px 3px 1px rgba(60, 64, 67, 0.15);\n",
              "      fill: #174EA6;\n",
              "    }\n",
              "\n",
              "    [theme=dark] .colab-df-convert {\n",
              "      background-color: #3B4455;\n",
              "      fill: #D2E3FC;\n",
              "    }\n",
              "\n",
              "    [theme=dark] .colab-df-convert:hover {\n",
              "      background-color: #434B5C;\n",
              "      box-shadow: 0px 1px 3px 1px rgba(0, 0, 0, 0.15);\n",
              "      filter: drop-shadow(0px 1px 2px rgba(0, 0, 0, 0.3));\n",
              "      fill: #FFFFFF;\n",
              "    }\n",
              "  </style>\n",
              "\n",
              "      <script>\n",
              "        const buttonEl =\n",
              "          document.querySelector('#df-ba346724-e5a7-4dde-b335-bb920c2f867c button.colab-df-convert');\n",
              "        buttonEl.style.display =\n",
              "          google.colab.kernel.accessAllowed ? 'block' : 'none';\n",
              "\n",
              "        async function convertToInteractive(key) {\n",
              "          const element = document.querySelector('#df-ba346724-e5a7-4dde-b335-bb920c2f867c');\n",
              "          const dataTable =\n",
              "            await google.colab.kernel.invokeFunction('convertToInteractive',\n",
              "                                                     [key], {});\n",
              "          if (!dataTable) return;\n",
              "\n",
              "          const docLinkHtml = 'Like what you see? Visit the ' +\n",
              "            '<a target=\"_blank\" href=https://colab.research.google.com/notebooks/data_table.ipynb>data table notebook</a>'\n",
              "            + ' to learn more about interactive tables.';\n",
              "          element.innerHTML = '';\n",
              "          dataTable['output_type'] = 'display_data';\n",
              "          await google.colab.output.renderOutput(dataTable, element);\n",
              "          const docLink = document.createElement('div');\n",
              "          docLink.innerHTML = docLinkHtml;\n",
              "          element.appendChild(docLink);\n",
              "        }\n",
              "      </script>\n",
              "    </div>\n",
              "  </div>\n",
              "  "
            ]
          },
          "metadata": {},
          "execution_count": 65
        }
      ]
    },
    {
      "cell_type": "code",
      "source": [
        "#checking for unique values in the various columns\n",
        "for i in columns_thyroid_csv:\n",
        "  print(\"Column Name:\",str(i))\n",
        "  print(df[i].unique())\n",
        "  print(\"Total count in\",str(i), \"is:\",str(df[i].nunique()),\"\\n\")"
      ],
      "metadata": {
        "colab": {
          "base_uri": "https://localhost:8080/"
        },
        "id": "Mu4Fg-uqKHkw",
        "outputId": "3f8fc6a6-f624-4e63-bf40-bb566f2b7bf2"
      },
      "execution_count": null,
      "outputs": [
        {
          "output_type": "stream",
          "name": "stdout",
          "text": [
            "Column Name: age\n",
            "['41' '23' '46' '70' '18' '59' '80' '66' '68' '84' '67' '71' '28' '65'\n",
            " '42' '63' '51' '81' '54' '55' '60' '25' '73' '34' '78' '37' '85' '26'\n",
            " '58' '64' '44' '48' '61' '35' '83' '21' '87' '53' '77' '27' '69' '74'\n",
            " '38' '76' '45' '36' '22' '43' '72' '82' '31' '39' '49' '62' '57' '1' '50'\n",
            " '30' '29' '75' '19' '7' '79' '17' '24' '15' '32' '47' '16' '52' '33' '13'\n",
            " '10' '89' '56' '20' '90' '40' '88' '14' '86' '94' '12' '4' '11' '8' '5'\n",
            " '455' '2' '91' '6' '?' '93' '92']\n",
            "Total count in age is: 94 \n",
            "\n",
            "Column Name: sex\n",
            "['F' 'M' '?']\n",
            "Total count in sex is: 3 \n",
            "\n",
            "Column Name: on_thyroxine\n",
            "['f' 't']\n",
            "Total count in on_thyroxine is: 2 \n",
            "\n",
            "Column Name: query_on_thyroxine\n",
            "['f' 't']\n",
            "Total count in query_on_thyroxine is: 2 \n",
            "\n",
            "Column Name: on_antithyroid_medication\n",
            "['f' 't']\n",
            "Total count in on_antithyroid_medication is: 2 \n",
            "\n",
            "Column Name: sick\n",
            "['f' 't']\n",
            "Total count in sick is: 2 \n",
            "\n",
            "Column Name: pregnant\n",
            "['f' 't']\n",
            "Total count in pregnant is: 2 \n",
            "\n",
            "Column Name: thyroid_surgery\n",
            "['f' 't']\n",
            "Total count in thyroid_surgery is: 2 \n",
            "\n",
            "Column Name: I131_treatment\n",
            "['f' 't']\n",
            "Total count in I131_treatment is: 2 \n",
            "\n",
            "Column Name: query_hypothyroid\n",
            "['f' 't']\n",
            "Total count in query_hypothyroid is: 2 \n",
            "\n",
            "Column Name: query_hyperthyroid\n",
            "['f' 't']\n",
            "Total count in query_hyperthyroid is: 2 \n",
            "\n",
            "Column Name: lithium\n",
            "['f' 't']\n",
            "Total count in lithium is: 2 \n",
            "\n",
            "Column Name: goitre\n",
            "['f' 't']\n",
            "Total count in goitre is: 2 \n",
            "\n",
            "Column Name: tumor\n",
            "['f' 't']\n",
            "Total count in tumor is: 2 \n",
            "\n",
            "Column Name: hypopituitary\n",
            "['f' 't']\n",
            "Total count in hypopituitary is: 2 \n",
            "\n",
            "Column Name: psych\n",
            "['f' 't']\n",
            "Total count in psych is: 2 \n",
            "\n",
            "Column Name: TSH_measured\n",
            "['t' 'f']\n",
            "Total count in TSH_measured is: 2 \n",
            "\n",
            "Column Name: TSH\n",
            "['1.3' '4.1' '0.98' '0.16' '0.72' '0.03' '?' '2.2' '0.6' '2.4' '1.1' '2.8'\n",
            " '3.3' '12' '1.2' '1.5' '6' '2.1' '0.1' '0.8' '1.9' '3.1' '0.2' '13' '0.3'\n",
            " '0.035' '2.5' '0.5' '1.7' '7.3' '1.8' '0.26' '45' '5.4' '0.99' '0.25'\n",
            " '0.92' '0.15' '0.64' '1' '0.4' '2' '2.6' '14.8' '15' '19' '0.02' '3'\n",
            " '2.9' '3.2' '9' '1.6' '4.3' '0.005' '0.31' '0.61' '0.05' '7.8' '160'\n",
            " '0.025' '1.4' '0.01' '8.8' '151' '0.04' '3.9' '9.4' '2.7' '2.3' '0.94'\n",
            " '0.045' '3.5' '0.88' '0.08' '4.5' '0.68' '0.7' '0.67' '27' '6.1' '0.75'\n",
            " '0.55' '26' '5.2' '0.77' '0.07' '0.9' '11.4' '143' '0.45' '0.57' '0.65'\n",
            " '0.015' '16' '108' '0.83' '9.2' '86' '0.62' '0.59' '9.1' '5.9' '52'\n",
            " '0.33' '31' '5.8' '0.28' '51' '6.3' '4.4' '9.6' '3.4' '0.09' '24' '0.76'\n",
            " '42' '25' '10' '4.6' '8.6' '0.66' '6.2' '0.79' '28' '0.86' '9.7' '0.84'\n",
            " '17' '18' '55' '14' '3.7' '0.87' '6.7' '0.74' '7.6' '0.065' '0.29' '0.37'\n",
            " '8' '11' '0.48' '44' '7.9' '5' '7.2' '0.89' '0.93' '0.97' '0.12' '6.4'\n",
            " '33' '0.85' '7.1' '0.73' '199' '8.2' '188' '0.22' '98' '22' '6.6' '5.1'\n",
            " '0.06' '0.42' '3.8' '35' '4' '0.78' '0.63' '0.52' '60' '0.43' '5.6' '6.9'\n",
            " '3.6' '29' '0.38' '4.9' '0.41' '9.9' '7.5' '34' '6.5' '4.7' '103' '0.95'\n",
            " '0.14' '0.35' '4.2' '0.81' '0.54' '0.58' '8.9' '5.5' '0.34' '9.3' '0.13'\n",
            " '54' '0.39' '8.3' '478' '21' '6.8' '0.32' '0.23' '0.24' '8.1' '0.91'\n",
            " '5.3' '100' '0.27' '1.01' '58' '41' '183' '18.4' '0.47' '0.17' '12.1'\n",
            " '0.19' '0.82' '43' '0.44' '70' '7.7' '8.4' '0.69' '8.5' '0.21' '82'\n",
            " '0.055' '0.96' '0.71' '38' '0.36' '9.8' '7' '0.46' '11.1' '39' '76' '5.7'\n",
            " '32' '126' '26.4' '0.53' '0.49' '36' '178' '145' '47' '4.8' '10.3' '89'\n",
            " '7.4' '472' '0.51' '116' '61' '99' '46' '78' '468' '14.4' '165' '9.5'\n",
            " '80' '0.56' '30.5' '20' '0.18' '50' '236' '23' '440' '139' '530' '109'\n",
            " '30' '400' '1.02' '230' '5.73' '66' '65' '117' '40']\n",
            "Total count in TSH is: 288 \n",
            "\n",
            "Column Name: T3_measured\n",
            "['t' 'f']\n",
            "Total count in T3_measured is: 2 \n",
            "\n",
            "Column Name: T3\n",
            "['2.5' '2' '?' '1.9' '1.2' '0.6' '2.2' '1.6' '3.8' '1.7' '1.8' '2.6' '2.1'\n",
            " '0.3' '5.5' '1.4' '3.1' '1.5' '2.3' '2.4' '2.7' '0.9' '1' '2.8' '2.9'\n",
            " '0.8' '1.3' '0.4' '3.3' '3.5' '3.4' '1.1' '4.2' '3.7' '3' '0.7' '4.8'\n",
            " '4.3' '0.05' '3.2' '5.4' '4' '0.5' '0.2' '3.6' '5.2' '5' '6' '5.3' '3.9'\n",
            " '4.6' '4.5' '7.3' '4.7' '6.7' '4.1' '6.1' '0.1' '4.9' '10.6' '5.1' '7'\n",
            " '6.2' '4.4' '7.1' '8.5' '1.44' '7.6' '5.7' '6.6']\n",
            "Total count in T3 is: 70 \n",
            "\n",
            "Column Name: TT4_measured\n",
            "['t' 'f']\n",
            "Total count in TT4_measured is: 2 \n",
            "\n",
            "Column Name: TT4\n",
            "['125' '102' '109' '175' '61' '183' '72' '80' '123' '83' '115' '152' '171'\n",
            " '97' '99' '70' '117' '121' '130' '108' '104' '134' '199' '57' '129' '113'\n",
            " '119' '84' '81' '95' '66' '101' '147' '120' '69' '?' '39' '87' '63' '133'\n",
            " '86' '163' '162' '103' '96' '151' '112' '82' '138' '71' '77' '93' '107'\n",
            " '237' '110' '67' '88' '160' '118' '136' '114' '116' '94' '161' '11' '32'\n",
            " '124' '137' '92' '135' '105' '150' '126' '146' '91' '217' '141' '159'\n",
            " '122' '100' '111' '140' '205' '225' '85' '90' '74' '219' '127' '132'\n",
            " '128' '106' '144' '131' '56' '79' '142' '98' '177' '139' '78' '189' '180'\n",
            " '73' '145' '184' '38' '156' '75' '148' '14' '76' '54' '58' '27' '65'\n",
            " '193' '13' '143' '12' '64' '257' '164' '59' '167' '18' '41' '176' '37'\n",
            " '33' '44' '45' '154' '174' '203' '244' '62' '158' '60' '187' '250' '181'\n",
            " '157' '223' '272' '166' '213' '235' '10' '68' '231' '191' '48' '5.8'\n",
            " '169' '149' '210' '40' '155' '232' '42' '204' '430' '198' '230' '15'\n",
            " '170' '165' '47' '168' '194' '89' '52' '179' '192' '172' '4.8' '50' '182'\n",
            " '197' '214' '246' '196' '207' '19' '153' '22' '46' '200' '35' '226' '201'\n",
            " '233' '206' '31' '255' '178' '239' '195' '6' '36' '2' '3' '289' '240'\n",
            " '209' '43' '34' '252' '29' '263' '301' '23' '188' '211' '253' '21' '173'\n",
            " '261' '248' '51' '25' '53' '17' '220' '256' '9.5' '212' '273' '222' '186'\n",
            " '49' '372' '16' '28' '24' '4' '30' '2.9' '55' '216' '258']\n",
            "Total count in TT4 is: 242 \n",
            "\n",
            "Column Name: T4U_measured\n",
            "['t' 'f']\n",
            "Total count in T4U_measured is: 2 \n",
            "\n",
            "Column Name: T4U\n",
            "['1.14' '?' '0.91' '0.87' '1.3' '0.92' '0.7' '0.93' '0.89' '0.95' '0.99'\n",
            " '1.13' '0.86' '0.96' '0.94' '0.9' '1.02' '1.05' '0.62' '1.06' '1.55'\n",
            " '0.83' '1.09' '1.07' '1.27' '0.76' '1.16' '1' '0.56' '0.81' '0.68' '0.78'\n",
            " '0.85' '1.35' '1.15' '0.82' '1.03' '1.58' '0.79' '1.17' '0.71' '0.72'\n",
            " '0.88' '1.11' '1.2' '1.1' '1.33' '0.77' '1.24' '0.53' '1.44' '1.63'\n",
            " '1.51' '1.42' '1.23' '1.01' '0.98' '0.61' '1.12' '1.43' '1.25' '1.41'\n",
            " '1.68' '0.97' '0.84' '0.8' '1.04' '0.73' '1.08' '1.26' '1.46' '1.29'\n",
            " '1.34' '1.66' '1.21' '1.19' '0.75' '0.52' '1.83' '1.39' '1.5' '1.93'\n",
            " '1.18' '0.74' '0.58' '1.82' '0.6' '1.67' '1.22' '0.66' '0.67' '1.31'\n",
            " '0.54' '1.77' '1.59' '1.97' '1.69' '1.38' '1.28' '1.4' '0.69' '0.65'\n",
            " '1.74' '2.03' '1.73' '1.65' '1.36' '1.52' '0.57' '1.53' '1.84' '1.57'\n",
            " '1.75' '1.32' '1.37' '0.64' '1.79' '1.8' '0.48' '1.71' '1.62' '1.76'\n",
            " '1.56' '1.48' '0.59' '0.31' '1.94' '2.12' '1.47' '0.63' '0.944' '0.49'\n",
            " '1.88' '0.5' '0.38' '1.49' '0.41' '1.61' '1.7' '2.32' '0.46' '1.45'\n",
            " '1.54' '0.47' '0.36' '2.01' '0.25']\n",
            "Total count in T4U is: 147 \n",
            "\n",
            "Column Name: FTI_measured\n",
            "['t' 'f']\n",
            "Total count in FTI_measured is: 2 \n",
            "\n",
            "Column Name: FTI\n",
            "['109' '?' '120' '70' '141' '78' '115' '132' '93' '121' '153' '151' '107'\n",
            " '119' '87' '81' '104' '130' '106' '116' '131' '190' '92' '102' '76' '98'\n",
            " '90' '61' '94' '129' '95' '91' '33' '113' '148' '140' '171' '155' '186'\n",
            " '122' '136' '110' '111' '97' '72' '100' '88' '67' '84' '103' '135' '203'\n",
            " '112' '117' '180' '142' '145' '156' '96' '134' '8.9' '60' '139' '41' '99'\n",
            " '89' '146' '124' '105' '85' '157' '143' '71' '221' '28' '108' '137' '83'\n",
            " '74' '170' '65' '101' '127' '274' '154' '114' '62' '86' '126' '125' '64'\n",
            " '172' '162' '79' '118' '73' '152' '163' '149' '14' '51' '165' '77' '32'\n",
            " '69' '80' '11' '54' '164' '123' '144' '10' '214' '200' '160' '53' '16'\n",
            " '138' '169' '56' '47' '133' '43' '68' '179' '224' '220' '82' '362' '182'\n",
            " '75' '66' '161' '57' '58' '312' '63' '128' '147' '158' '281' '207' '216'\n",
            " '251' '194' '46' '7' '42' '174' '395' '185' '13' '201' '48' '173' '167'\n",
            " '188' '150' '235' '175' '159' '5.4' '189' '59' '166' '34' '228' '232'\n",
            " '217' '177' '176' '195' '219' '17' '210' '168' '205' '39' '187' '50'\n",
            " '349' '52' '206' '253' '242' '244' '213' '178' '247' '215' '198' '19'\n",
            " '237' '37' '7.6' '24' '2' '3' '191' '223' '9' '29' '222' '204' '26' '218'\n",
            " '197' '49' '209' '183' '265' '199' '196' '20' '283' '36' '249' '181'\n",
            " '8.4' '291' '55' '245' '18' '40' '8.5' '184' '4' '21' '280' '2.8' '9.1'\n",
            " '27' '15' '35' '227']\n",
            "Total count in FTI is: 235 \n",
            "\n",
            "Column Name: TBG_measured\n",
            "['f']\n",
            "Total count in TBG_measured is: 1 \n",
            "\n",
            "Column Name: TBG\n",
            "['?']\n",
            "Total count in TBG is: 1 \n",
            "\n",
            "Column Name: referral_source\n",
            "['SVHC' 'other' 'SVI' 'STMW' 'SVHD']\n",
            "Total count in referral_source is: 5 \n",
            "\n",
            "Column Name: Class\n",
            "['negative' 'compensated_hypothyroid' 'primary_hypothyroid'\n",
            " 'secondary_hypothyroid']\n",
            "Total count in Class is: 4 \n",
            "\n"
          ]
        }
      ]
    },
    {
      "cell_type": "code",
      "source": [
        "# WE CAN SEE '?' PRESENT IN COLUMNS - age,sex,TSH,T3,TT4,FTI,TBG\n",
        "# lets replace them with NAN values"
      ],
      "metadata": {
        "id": "fD0O_dSomCmB"
      },
      "execution_count": null,
      "outputs": []
    },
    {
      "cell_type": "code",
      "source": [
        "import numpy as np\n",
        "col = columns_thyroid_csv\n",
        "df[col]=df[col].replace('?',np.nan)"
      ],
      "metadata": {
        "id": "LyXqJ1fNgnY7"
      },
      "execution_count": null,
      "outputs": []
    },
    {
      "cell_type": "code",
      "source": [
        "df[col]"
      ],
      "metadata": {
        "colab": {
          "base_uri": "https://localhost:8080/",
          "height": 488
        },
        "id": "ZY25WwBWjGsW",
        "outputId": "eba436a8-9649-484e-f007-2dea2cdcacaf"
      },
      "execution_count": null,
      "outputs": [
        {
          "output_type": "execute_result",
          "data": {
            "text/plain": [
              "     age sex on_thyroxine query_on_thyroxine on_antithyroid_medication sick  \\\n",
              "0     41   F            f                  f                         f    f   \n",
              "1     23   F            f                  f                         f    f   \n",
              "2     46   M            f                  f                         f    f   \n",
              "3     70   F            t                  f                         f    f   \n",
              "4     70   F            f                  f                         f    f   \n",
              "...   ..  ..          ...                ...                       ...  ...   \n",
              "3767  30   F            f                  f                         f    f   \n",
              "3768  68   F            f                  f                         f    f   \n",
              "3769  74   F            f                  f                         f    f   \n",
              "3770  72   M            f                  f                         f    f   \n",
              "3771  64   F            f                  f                         f    f   \n",
              "\n",
              "     pregnant thyroid_surgery I131_treatment query_hypothyroid  ...  \\\n",
              "0           f               f              f                 f  ...   \n",
              "1           f               f              f                 f  ...   \n",
              "2           f               f              f                 f  ...   \n",
              "3           f               f              f                 f  ...   \n",
              "4           f               f              f                 f  ...   \n",
              "...       ...             ...            ...               ...  ...   \n",
              "3767        f               f              f                 f  ...   \n",
              "3768        f               f              f                 f  ...   \n",
              "3769        f               f              f                 f  ...   \n",
              "3770        f               f              f                 f  ...   \n",
              "3771        f               f              f                 f  ...   \n",
              "\n",
              "     TT4_measured  TT4 T4U_measured   T4U FTI_measured  FTI TBG_measured TBG  \\\n",
              "0               t  125            t  1.14            t  109            f NaN   \n",
              "1               t  102            f   NaN            f  NaN            f NaN   \n",
              "2               t  109            t  0.91            t  120            f NaN   \n",
              "3               t  175            f   NaN            f  NaN            f NaN   \n",
              "4               t   61            t  0.87            t   70            f NaN   \n",
              "...           ...  ...          ...   ...          ...  ...          ...  ..   \n",
              "3767            f  NaN            f   NaN            f  NaN            f NaN   \n",
              "3768            t  124            t  1.08            t  114            f NaN   \n",
              "3769            t  112            t  1.07            t  105            f NaN   \n",
              "3770            t   82            t  0.94            t   87            f NaN   \n",
              "3771            t   99            t  1.07            t   92            f NaN   \n",
              "\n",
              "     referral_source     Class  \n",
              "0               SVHC  negative  \n",
              "1              other  negative  \n",
              "2              other  negative  \n",
              "3              other  negative  \n",
              "4                SVI  negative  \n",
              "...              ...       ...  \n",
              "3767           other  negative  \n",
              "3768             SVI  negative  \n",
              "3769           other  negative  \n",
              "3770             SVI  negative  \n",
              "3771           other  negative  \n",
              "\n",
              "[3772 rows x 30 columns]"
            ],
            "text/html": [
              "\n",
              "  <div id=\"df-7902162f-e0d3-4e09-933b-3c3a814dec55\">\n",
              "    <div class=\"colab-df-container\">\n",
              "      <div>\n",
              "<style scoped>\n",
              "    .dataframe tbody tr th:only-of-type {\n",
              "        vertical-align: middle;\n",
              "    }\n",
              "\n",
              "    .dataframe tbody tr th {\n",
              "        vertical-align: top;\n",
              "    }\n",
              "\n",
              "    .dataframe thead th {\n",
              "        text-align: right;\n",
              "    }\n",
              "</style>\n",
              "<table border=\"1\" class=\"dataframe\">\n",
              "  <thead>\n",
              "    <tr style=\"text-align: right;\">\n",
              "      <th></th>\n",
              "      <th>age</th>\n",
              "      <th>sex</th>\n",
              "      <th>on_thyroxine</th>\n",
              "      <th>query_on_thyroxine</th>\n",
              "      <th>on_antithyroid_medication</th>\n",
              "      <th>sick</th>\n",
              "      <th>pregnant</th>\n",
              "      <th>thyroid_surgery</th>\n",
              "      <th>I131_treatment</th>\n",
              "      <th>query_hypothyroid</th>\n",
              "      <th>...</th>\n",
              "      <th>TT4_measured</th>\n",
              "      <th>TT4</th>\n",
              "      <th>T4U_measured</th>\n",
              "      <th>T4U</th>\n",
              "      <th>FTI_measured</th>\n",
              "      <th>FTI</th>\n",
              "      <th>TBG_measured</th>\n",
              "      <th>TBG</th>\n",
              "      <th>referral_source</th>\n",
              "      <th>Class</th>\n",
              "    </tr>\n",
              "  </thead>\n",
              "  <tbody>\n",
              "    <tr>\n",
              "      <th>0</th>\n",
              "      <td>41</td>\n",
              "      <td>F</td>\n",
              "      <td>f</td>\n",
              "      <td>f</td>\n",
              "      <td>f</td>\n",
              "      <td>f</td>\n",
              "      <td>f</td>\n",
              "      <td>f</td>\n",
              "      <td>f</td>\n",
              "      <td>f</td>\n",
              "      <td>...</td>\n",
              "      <td>t</td>\n",
              "      <td>125</td>\n",
              "      <td>t</td>\n",
              "      <td>1.14</td>\n",
              "      <td>t</td>\n",
              "      <td>109</td>\n",
              "      <td>f</td>\n",
              "      <td>NaN</td>\n",
              "      <td>SVHC</td>\n",
              "      <td>negative</td>\n",
              "    </tr>\n",
              "    <tr>\n",
              "      <th>1</th>\n",
              "      <td>23</td>\n",
              "      <td>F</td>\n",
              "      <td>f</td>\n",
              "      <td>f</td>\n",
              "      <td>f</td>\n",
              "      <td>f</td>\n",
              "      <td>f</td>\n",
              "      <td>f</td>\n",
              "      <td>f</td>\n",
              "      <td>f</td>\n",
              "      <td>...</td>\n",
              "      <td>t</td>\n",
              "      <td>102</td>\n",
              "      <td>f</td>\n",
              "      <td>NaN</td>\n",
              "      <td>f</td>\n",
              "      <td>NaN</td>\n",
              "      <td>f</td>\n",
              "      <td>NaN</td>\n",
              "      <td>other</td>\n",
              "      <td>negative</td>\n",
              "    </tr>\n",
              "    <tr>\n",
              "      <th>2</th>\n",
              "      <td>46</td>\n",
              "      <td>M</td>\n",
              "      <td>f</td>\n",
              "      <td>f</td>\n",
              "      <td>f</td>\n",
              "      <td>f</td>\n",
              "      <td>f</td>\n",
              "      <td>f</td>\n",
              "      <td>f</td>\n",
              "      <td>f</td>\n",
              "      <td>...</td>\n",
              "      <td>t</td>\n",
              "      <td>109</td>\n",
              "      <td>t</td>\n",
              "      <td>0.91</td>\n",
              "      <td>t</td>\n",
              "      <td>120</td>\n",
              "      <td>f</td>\n",
              "      <td>NaN</td>\n",
              "      <td>other</td>\n",
              "      <td>negative</td>\n",
              "    </tr>\n",
              "    <tr>\n",
              "      <th>3</th>\n",
              "      <td>70</td>\n",
              "      <td>F</td>\n",
              "      <td>t</td>\n",
              "      <td>f</td>\n",
              "      <td>f</td>\n",
              "      <td>f</td>\n",
              "      <td>f</td>\n",
              "      <td>f</td>\n",
              "      <td>f</td>\n",
              "      <td>f</td>\n",
              "      <td>...</td>\n",
              "      <td>t</td>\n",
              "      <td>175</td>\n",
              "      <td>f</td>\n",
              "      <td>NaN</td>\n",
              "      <td>f</td>\n",
              "      <td>NaN</td>\n",
              "      <td>f</td>\n",
              "      <td>NaN</td>\n",
              "      <td>other</td>\n",
              "      <td>negative</td>\n",
              "    </tr>\n",
              "    <tr>\n",
              "      <th>4</th>\n",
              "      <td>70</td>\n",
              "      <td>F</td>\n",
              "      <td>f</td>\n",
              "      <td>f</td>\n",
              "      <td>f</td>\n",
              "      <td>f</td>\n",
              "      <td>f</td>\n",
              "      <td>f</td>\n",
              "      <td>f</td>\n",
              "      <td>f</td>\n",
              "      <td>...</td>\n",
              "      <td>t</td>\n",
              "      <td>61</td>\n",
              "      <td>t</td>\n",
              "      <td>0.87</td>\n",
              "      <td>t</td>\n",
              "      <td>70</td>\n",
              "      <td>f</td>\n",
              "      <td>NaN</td>\n",
              "      <td>SVI</td>\n",
              "      <td>negative</td>\n",
              "    </tr>\n",
              "    <tr>\n",
              "      <th>...</th>\n",
              "      <td>...</td>\n",
              "      <td>...</td>\n",
              "      <td>...</td>\n",
              "      <td>...</td>\n",
              "      <td>...</td>\n",
              "      <td>...</td>\n",
              "      <td>...</td>\n",
              "      <td>...</td>\n",
              "      <td>...</td>\n",
              "      <td>...</td>\n",
              "      <td>...</td>\n",
              "      <td>...</td>\n",
              "      <td>...</td>\n",
              "      <td>...</td>\n",
              "      <td>...</td>\n",
              "      <td>...</td>\n",
              "      <td>...</td>\n",
              "      <td>...</td>\n",
              "      <td>...</td>\n",
              "      <td>...</td>\n",
              "      <td>...</td>\n",
              "    </tr>\n",
              "    <tr>\n",
              "      <th>3767</th>\n",
              "      <td>30</td>\n",
              "      <td>F</td>\n",
              "      <td>f</td>\n",
              "      <td>f</td>\n",
              "      <td>f</td>\n",
              "      <td>f</td>\n",
              "      <td>f</td>\n",
              "      <td>f</td>\n",
              "      <td>f</td>\n",
              "      <td>f</td>\n",
              "      <td>...</td>\n",
              "      <td>f</td>\n",
              "      <td>NaN</td>\n",
              "      <td>f</td>\n",
              "      <td>NaN</td>\n",
              "      <td>f</td>\n",
              "      <td>NaN</td>\n",
              "      <td>f</td>\n",
              "      <td>NaN</td>\n",
              "      <td>other</td>\n",
              "      <td>negative</td>\n",
              "    </tr>\n",
              "    <tr>\n",
              "      <th>3768</th>\n",
              "      <td>68</td>\n",
              "      <td>F</td>\n",
              "      <td>f</td>\n",
              "      <td>f</td>\n",
              "      <td>f</td>\n",
              "      <td>f</td>\n",
              "      <td>f</td>\n",
              "      <td>f</td>\n",
              "      <td>f</td>\n",
              "      <td>f</td>\n",
              "      <td>...</td>\n",
              "      <td>t</td>\n",
              "      <td>124</td>\n",
              "      <td>t</td>\n",
              "      <td>1.08</td>\n",
              "      <td>t</td>\n",
              "      <td>114</td>\n",
              "      <td>f</td>\n",
              "      <td>NaN</td>\n",
              "      <td>SVI</td>\n",
              "      <td>negative</td>\n",
              "    </tr>\n",
              "    <tr>\n",
              "      <th>3769</th>\n",
              "      <td>74</td>\n",
              "      <td>F</td>\n",
              "      <td>f</td>\n",
              "      <td>f</td>\n",
              "      <td>f</td>\n",
              "      <td>f</td>\n",
              "      <td>f</td>\n",
              "      <td>f</td>\n",
              "      <td>f</td>\n",
              "      <td>f</td>\n",
              "      <td>...</td>\n",
              "      <td>t</td>\n",
              "      <td>112</td>\n",
              "      <td>t</td>\n",
              "      <td>1.07</td>\n",
              "      <td>t</td>\n",
              "      <td>105</td>\n",
              "      <td>f</td>\n",
              "      <td>NaN</td>\n",
              "      <td>other</td>\n",
              "      <td>negative</td>\n",
              "    </tr>\n",
              "    <tr>\n",
              "      <th>3770</th>\n",
              "      <td>72</td>\n",
              "      <td>M</td>\n",
              "      <td>f</td>\n",
              "      <td>f</td>\n",
              "      <td>f</td>\n",
              "      <td>f</td>\n",
              "      <td>f</td>\n",
              "      <td>f</td>\n",
              "      <td>f</td>\n",
              "      <td>f</td>\n",
              "      <td>...</td>\n",
              "      <td>t</td>\n",
              "      <td>82</td>\n",
              "      <td>t</td>\n",
              "      <td>0.94</td>\n",
              "      <td>t</td>\n",
              "      <td>87</td>\n",
              "      <td>f</td>\n",
              "      <td>NaN</td>\n",
              "      <td>SVI</td>\n",
              "      <td>negative</td>\n",
              "    </tr>\n",
              "    <tr>\n",
              "      <th>3771</th>\n",
              "      <td>64</td>\n",
              "      <td>F</td>\n",
              "      <td>f</td>\n",
              "      <td>f</td>\n",
              "      <td>f</td>\n",
              "      <td>f</td>\n",
              "      <td>f</td>\n",
              "      <td>f</td>\n",
              "      <td>f</td>\n",
              "      <td>f</td>\n",
              "      <td>...</td>\n",
              "      <td>t</td>\n",
              "      <td>99</td>\n",
              "      <td>t</td>\n",
              "      <td>1.07</td>\n",
              "      <td>t</td>\n",
              "      <td>92</td>\n",
              "      <td>f</td>\n",
              "      <td>NaN</td>\n",
              "      <td>other</td>\n",
              "      <td>negative</td>\n",
              "    </tr>\n",
              "  </tbody>\n",
              "</table>\n",
              "<p>3772 rows × 30 columns</p>\n",
              "</div>\n",
              "      <button class=\"colab-df-convert\" onclick=\"convertToInteractive('df-7902162f-e0d3-4e09-933b-3c3a814dec55')\"\n",
              "              title=\"Convert this dataframe to an interactive table.\"\n",
              "              style=\"display:none;\">\n",
              "        \n",
              "  <svg xmlns=\"http://www.w3.org/2000/svg\" height=\"24px\"viewBox=\"0 0 24 24\"\n",
              "       width=\"24px\">\n",
              "    <path d=\"M0 0h24v24H0V0z\" fill=\"none\"/>\n",
              "    <path d=\"M18.56 5.44l.94 2.06.94-2.06 2.06-.94-2.06-.94-.94-2.06-.94 2.06-2.06.94zm-11 1L8.5 8.5l.94-2.06 2.06-.94-2.06-.94L8.5 2.5l-.94 2.06-2.06.94zm10 10l.94 2.06.94-2.06 2.06-.94-2.06-.94-.94-2.06-.94 2.06-2.06.94z\"/><path d=\"M17.41 7.96l-1.37-1.37c-.4-.4-.92-.59-1.43-.59-.52 0-1.04.2-1.43.59L10.3 9.45l-7.72 7.72c-.78.78-.78 2.05 0 2.83L4 21.41c.39.39.9.59 1.41.59.51 0 1.02-.2 1.41-.59l7.78-7.78 2.81-2.81c.8-.78.8-2.07 0-2.86zM5.41 20L4 18.59l7.72-7.72 1.47 1.35L5.41 20z\"/>\n",
              "  </svg>\n",
              "      </button>\n",
              "      \n",
              "  <style>\n",
              "    .colab-df-container {\n",
              "      display:flex;\n",
              "      flex-wrap:wrap;\n",
              "      gap: 12px;\n",
              "    }\n",
              "\n",
              "    .colab-df-convert {\n",
              "      background-color: #E8F0FE;\n",
              "      border: none;\n",
              "      border-radius: 50%;\n",
              "      cursor: pointer;\n",
              "      display: none;\n",
              "      fill: #1967D2;\n",
              "      height: 32px;\n",
              "      padding: 0 0 0 0;\n",
              "      width: 32px;\n",
              "    }\n",
              "\n",
              "    .colab-df-convert:hover {\n",
              "      background-color: #E2EBFA;\n",
              "      box-shadow: 0px 1px 2px rgba(60, 64, 67, 0.3), 0px 1px 3px 1px rgba(60, 64, 67, 0.15);\n",
              "      fill: #174EA6;\n",
              "    }\n",
              "\n",
              "    [theme=dark] .colab-df-convert {\n",
              "      background-color: #3B4455;\n",
              "      fill: #D2E3FC;\n",
              "    }\n",
              "\n",
              "    [theme=dark] .colab-df-convert:hover {\n",
              "      background-color: #434B5C;\n",
              "      box-shadow: 0px 1px 3px 1px rgba(0, 0, 0, 0.15);\n",
              "      filter: drop-shadow(0px 1px 2px rgba(0, 0, 0, 0.3));\n",
              "      fill: #FFFFFF;\n",
              "    }\n",
              "  </style>\n",
              "\n",
              "      <script>\n",
              "        const buttonEl =\n",
              "          document.querySelector('#df-7902162f-e0d3-4e09-933b-3c3a814dec55 button.colab-df-convert');\n",
              "        buttonEl.style.display =\n",
              "          google.colab.kernel.accessAllowed ? 'block' : 'none';\n",
              "\n",
              "        async function convertToInteractive(key) {\n",
              "          const element = document.querySelector('#df-7902162f-e0d3-4e09-933b-3c3a814dec55');\n",
              "          const dataTable =\n",
              "            await google.colab.kernel.invokeFunction('convertToInteractive',\n",
              "                                                     [key], {});\n",
              "          if (!dataTable) return;\n",
              "\n",
              "          const docLinkHtml = 'Like what you see? Visit the ' +\n",
              "            '<a target=\"_blank\" href=https://colab.research.google.com/notebooks/data_table.ipynb>data table notebook</a>'\n",
              "            + ' to learn more about interactive tables.';\n",
              "          element.innerHTML = '';\n",
              "          dataTable['output_type'] = 'display_data';\n",
              "          await google.colab.output.renderOutput(dataTable, element);\n",
              "          const docLink = document.createElement('div');\n",
              "          docLink.innerHTML = docLinkHtml;\n",
              "          element.appendChild(docLink);\n",
              "        }\n",
              "      </script>\n",
              "    </div>\n",
              "  </div>\n",
              "  "
            ]
          },
          "metadata": {},
          "execution_count": 69
        }
      ]
    },
    {
      "cell_type": "code",
      "source": [
        "df.info()"
      ],
      "metadata": {
        "colab": {
          "base_uri": "https://localhost:8080/"
        },
        "id": "b99eln92n5zr",
        "outputId": "93aede61-7e9c-4c05-ad79-990e2331310c"
      },
      "execution_count": null,
      "outputs": [
        {
          "output_type": "stream",
          "name": "stdout",
          "text": [
            "<class 'pandas.core.frame.DataFrame'>\n",
            "RangeIndex: 3772 entries, 0 to 3771\n",
            "Data columns (total 30 columns):\n",
            " #   Column                     Non-Null Count  Dtype  \n",
            "---  ------                     --------------  -----  \n",
            " 0   age                        3771 non-null   object \n",
            " 1   sex                        3622 non-null   object \n",
            " 2   on_thyroxine               3772 non-null   object \n",
            " 3   query_on_thyroxine         3772 non-null   object \n",
            " 4   on_antithyroid_medication  3772 non-null   object \n",
            " 5   sick                       3772 non-null   object \n",
            " 6   pregnant                   3772 non-null   object \n",
            " 7   thyroid_surgery            3772 non-null   object \n",
            " 8   I131_treatment             3772 non-null   object \n",
            " 9   query_hypothyroid          3772 non-null   object \n",
            " 10  query_hyperthyroid         3772 non-null   object \n",
            " 11  lithium                    3772 non-null   object \n",
            " 12  goitre                     3772 non-null   object \n",
            " 13  tumor                      3772 non-null   object \n",
            " 14  hypopituitary              3772 non-null   object \n",
            " 15  psych                      3772 non-null   object \n",
            " 16  TSH_measured               3772 non-null   object \n",
            " 17  TSH                        3403 non-null   object \n",
            " 18  T3_measured                3772 non-null   object \n",
            " 19  T3                         3003 non-null   object \n",
            " 20  TT4_measured               3772 non-null   object \n",
            " 21  TT4                        3541 non-null   object \n",
            " 22  T4U_measured               3772 non-null   object \n",
            " 23  T4U                        3385 non-null   object \n",
            " 24  FTI_measured               3772 non-null   object \n",
            " 25  FTI                        3387 non-null   object \n",
            " 26  TBG_measured               3772 non-null   object \n",
            " 27  TBG                        0 non-null      float64\n",
            " 28  referral_source            3772 non-null   object \n",
            " 29  Class                      3772 non-null   object \n",
            "dtypes: float64(1), object(29)\n",
            "memory usage: 884.2+ KB\n"
          ]
        }
      ]
    },
    {
      "cell_type": "code",
      "source": [
        "df.isnull().sum()"
      ],
      "metadata": {
        "colab": {
          "base_uri": "https://localhost:8080/"
        },
        "id": "Yt0Qlg_boCWF",
        "outputId": "c0fab2f2-c727-4987-d04a-5ef3046fe301"
      },
      "execution_count": null,
      "outputs": [
        {
          "output_type": "execute_result",
          "data": {
            "text/plain": [
              "age                             1\n",
              "sex                           150\n",
              "on_thyroxine                    0\n",
              "query_on_thyroxine              0\n",
              "on_antithyroid_medication       0\n",
              "sick                            0\n",
              "pregnant                        0\n",
              "thyroid_surgery                 0\n",
              "I131_treatment                  0\n",
              "query_hypothyroid               0\n",
              "query_hyperthyroid              0\n",
              "lithium                         0\n",
              "goitre                          0\n",
              "tumor                           0\n",
              "hypopituitary                   0\n",
              "psych                           0\n",
              "TSH_measured                    0\n",
              "TSH                           369\n",
              "T3_measured                     0\n",
              "T3                            769\n",
              "TT4_measured                    0\n",
              "TT4                           231\n",
              "T4U_measured                    0\n",
              "T4U                           387\n",
              "FTI_measured                    0\n",
              "FTI                           385\n",
              "TBG_measured                    0\n",
              "TBG                          3772\n",
              "referral_source                 0\n",
              "Class                           0\n",
              "dtype: int64"
            ]
          },
          "metadata": {},
          "execution_count": 71
        }
      ]
    },
    {
      "cell_type": "code",
      "source": [
        "#checking percentage of null in each cols\n",
        "import seaborn as sns\n",
        "percent_null = 100 * df.isnull().sum() / len(df)\n",
        "percent_null = percent_null[percent_null > 0].sort_values()\n",
        "sns.barplot(x=percent_null.index, y=percent_null)"
      ],
      "metadata": {
        "colab": {
          "base_uri": "https://localhost:8080/",
          "height": 447
        },
        "id": "jCRUpaMhoXX1",
        "outputId": "13362ea1-5257-4b82-87a1-9808bbf0feae"
      },
      "execution_count": null,
      "outputs": [
        {
          "output_type": "execute_result",
          "data": {
            "text/plain": [
              "<Axes: >"
            ]
          },
          "metadata": {},
          "execution_count": 72
        },
        {
          "output_type": "display_data",
          "data": {
            "text/plain": [
              "<Figure size 640x480 with 1 Axes>"
            ],
            "image/png": "[encoded data removed]"
          },
          "metadata": {}
        }
      ]
    },
    {
      "cell_type": "code",
      "source": [
        "df.drop('TBG',inplace=True,axis=1)"
      ],
      "metadata": {
        "id": "v0Tvqvbho0TU"
      },
      "execution_count": null,
      "outputs": []
    },
    {
      "cell_type": "code",
      "source": [
        "#since TBG col is entirely null ,we discard it\n",
        "percent_null = 100 * df.isnull().sum() / len(df)\n",
        "percent_null = percent_null[percent_null > 0].sort_values()\n",
        "sns.barplot(x=percent_null.index, y=percent_null)"
      ],
      "metadata": {
        "colab": {
          "base_uri": "https://localhost:8080/",
          "height": 447
        },
        "id": "R4R0eM5MjNnw",
        "outputId": "226c3755-8b8d-4c77-e91e-2c2a57aae3bb"
      },
      "execution_count": null,
      "outputs": [
        {
          "output_type": "execute_result",
          "data": {
            "text/plain": [
              "<Axes: >"
            ]
          },
          "metadata": {},
          "execution_count": 74
        },
        {
          "output_type": "display_data",
          "data": {
            "text/plain": [
              "<Figure size 640x480 with 1 Axes>"
            ],
            "image/png": "[encoded data removed]"
          },
          "metadata": {}
        }
      ]
    },
    {
      "cell_type": "code",
      "source": [
        "# WE CAN SEE THAT COLUMNS TT4,TSH ,FTI,T4U,T3 ARE OF NO USE SO WE DROP IT"
      ],
      "metadata": {
        "id": "_wAaLzMKqEQ0"
      },
      "execution_count": null,
      "outputs": []
    },
    {
      "cell_type": "code",
      "source": [
        "columns_to_drop = ['TT4','TSH','FTI','T4U','T3']\n",
        "df.drop(columns_to_drop,inplace = True,axis=1)"
      ],
      "metadata": {
        "id": "GOWwi4rSjjmV"
      },
      "execution_count": null,
      "outputs": []
    },
    {
      "cell_type": "code",
      "source": [
        "percent_null = 100 * df.isnull().sum() / len(df)\n",
        "percent_null = percent_null[percent_null > 0].sort_values()\n",
        "sns.barplot(x=percent_null.index, y=percent_null)"
      ],
      "metadata": {
        "colab": {
          "base_uri": "https://localhost:8080/",
          "height": 447
        },
        "id": "szgqk-dUj0hR",
        "outputId": "0e114c95-a4ea-4511-e89b-c0f4b5411ae5"
      },
      "execution_count": null,
      "outputs": [
        {
          "output_type": "execute_result",
          "data": {
            "text/plain": [
              "<Axes: >"
            ]
          },
          "metadata": {},
          "execution_count": 77
        },
        {
          "output_type": "display_data",
          "data": {
            "text/plain": [
              "<Figure size 640x480 with 1 Axes>"
            ],
            "image/png": "[encoded data removed]"
          },
          "metadata": {}
        }
      ]
    },
    {
      "cell_type": "code",
      "source": [
        "#REMOVING ROWS HAVING NAN VALUES IN age AND sex\n",
        "remove_rows = ['age','sex']\n",
        "for i in remove_rows:\n",
        "  df = df[df[i].notna()]"
      ],
      "metadata": {
        "id": "w8FgaL6hqsIw"
      },
      "execution_count": null,
      "outputs": []
    },
    {
      "cell_type": "code",
      "source": [
        "df.info()"
      ],
      "metadata": {
        "id": "EKZ7XpW5j-PB",
        "colab": {
          "base_uri": "https://localhost:8080/"
        },
        "outputId": "ea89ba1c-3f9f-499b-9930-6f03155caa1d"
      },
      "execution_count": null,
      "outputs": [
        {
          "output_type": "stream",
          "name": "stdout",
          "text": [
            "<class 'pandas.core.frame.DataFrame'>\n",
            "Int64Index: 3621 entries, 0 to 3771\n",
            "Data columns (total 24 columns):\n",
            " #   Column                     Non-Null Count  Dtype \n",
            "---  ------                     --------------  ----- \n",
            " 0   age                        3621 non-null   object\n",
            " 1   sex                        3621 non-null   object\n",
            " 2   on_thyroxine               3621 non-null   object\n",
            " 3   query_on_thyroxine         3621 non-null   object\n",
            " 4   on_antithyroid_medication  3621 non-null   object\n",
            " 5   sick                       3621 non-null   object\n",
            " 6   pregnant                   3621 non-null   object\n",
            " 7   thyroid_surgery            3621 non-null   object\n",
            " 8   I131_treatment             3621 non-null   object\n",
            " 9   query_hypothyroid          3621 non-null   object\n",
            " 10  query_hyperthyroid         3621 non-null   object\n",
            " 11  lithium                    3621 non-null   object\n",
            " 12  goitre                     3621 non-null   object\n",
            " 13  tumor                      3621 non-null   object\n",
            " 14  hypopituitary              3621 non-null   object\n",
            " 15  psych                      3621 non-null   object\n",
            " 16  TSH_measured               3621 non-null   object\n",
            " 17  T3_measured                3621 non-null   object\n",
            " 18  TT4_measured               3621 non-null   object\n",
            " 19  T4U_measured               3621 non-null   object\n",
            " 20  FTI_measured               3621 non-null   object\n",
            " 21  TBG_measured               3621 non-null   object\n",
            " 22  referral_source            3621 non-null   object\n",
            " 23  Class                      3621 non-null   object\n",
            "dtypes: object(24)\n",
            "memory usage: 707.2+ KB\n"
          ]
        }
      ]
    },
    {
      "cell_type": "code",
      "source": [
        "df['T3_measured'].value_counts()"
      ],
      "metadata": {
        "colab": {
          "base_uri": "https://localhost:8080/"
        },
        "id": "N0Lu8ScpAtuM",
        "outputId": "86c6e756-81de-40e2-be51-d8ab043c471a"
      },
      "execution_count": null,
      "outputs": [
        {
          "output_type": "execute_result",
          "data": {
            "text/plain": [
              "t    2876\n",
              "f     745\n",
              "Name: T3_measured, dtype: int64"
            ]
          },
          "metadata": {},
          "execution_count": 80
        }
      ]
    },
    {
      "cell_type": "code",
      "source": [
        "df.isnull().sum()"
      ],
      "metadata": {
        "colab": {
          "base_uri": "https://localhost:8080/"
        },
        "id": "uwqPp7airbjh",
        "outputId": "a654da80-c0d8-456c-be90-7c2337205da4"
      },
      "execution_count": null,
      "outputs": [
        {
          "output_type": "execute_result",
          "data": {
            "text/plain": [
              "age                          0\n",
              "sex                          0\n",
              "on_thyroxine                 0\n",
              "query_on_thyroxine           0\n",
              "on_antithyroid_medication    0\n",
              "sick                         0\n",
              "pregnant                     0\n",
              "thyroid_surgery              0\n",
              "I131_treatment               0\n",
              "query_hypothyroid            0\n",
              "query_hyperthyroid           0\n",
              "lithium                      0\n",
              "goitre                       0\n",
              "tumor                        0\n",
              "hypopituitary                0\n",
              "psych                        0\n",
              "TSH_measured                 0\n",
              "T3_measured                  0\n",
              "TT4_measured                 0\n",
              "T4U_measured                 0\n",
              "FTI_measured                 0\n",
              "TBG_measured                 0\n",
              "referral_source              0\n",
              "Class                        0\n",
              "dtype: int64"
            ]
          },
          "metadata": {},
          "execution_count": 81
        }
      ]
    },
    {
      "cell_type": "code",
      "source": [
        "df.columns"
      ],
      "metadata": {
        "id": "KUlHeQrOrhL2",
        "colab": {
          "base_uri": "https://localhost:8080/"
        },
        "outputId": "923d8e08-ab2c-4887-94cc-96d46c955d39"
      },
      "execution_count": null,
      "outputs": [
        {
          "output_type": "execute_result",
          "data": {
            "text/plain": [
              "Index(['age', 'sex', 'on_thyroxine', 'query_on_thyroxine',\n",
              "       'on_antithyroid_medication', 'sick', 'pregnant', 'thyroid_surgery',\n",
              "       'I131_treatment', 'query_hypothyroid', 'query_hyperthyroid', 'lithium',\n",
              "       'goitre', 'tumor', 'hypopituitary', 'psych', 'TSH_measured',\n",
              "       'T3_measured', 'TT4_measured', 'T4U_measured', 'FTI_measured',\n",
              "       'TBG_measured', 'referral_source', 'Class'],\n",
              "      dtype='object')"
            ]
          },
          "metadata": {},
          "execution_count": 82
        }
      ]
    },
    {
      "cell_type": "code",
      "source": [
        "c = ['age', 'sex', 'on_thyroxine', 'query_on_thyroxine',\n",
        "       'on_antithyroid_medication', 'sick', 'pregnant', 'thyroid_surgery',\n",
        "       'I131_treatment', 'query_hypothyroid', 'query_hyperthyroid', 'lithium',\n",
        "       'goitre', 'tumor', 'hypopituitary', 'psych', 'TSH_measured',\n",
        "       'T3_measured', 'TT4_measured', 'T4U_measured', 'FTI_measured',\n",
        "       'TBG_measured', 'referral_source', 'Class']"
      ],
      "metadata": {
        "id": "Zt3CQFoTJ3NH"
      },
      "execution_count": null,
      "outputs": []
    },
    {
      "cell_type": "code",
      "source": [
        "for i in c:\n",
        "  print(\"Column Name:\",str(i))\n",
        "  print(df[i].unique())\n",
        "  print(\"Total count in\",str(i), \"is:\",str(df[i].nunique()),\"\\n\")"
      ],
      "metadata": {
        "id": "e7VUJxgWJamm",
        "outputId": "07729a5e-888f-4da5-fd9d-202a0bb4e49a",
        "colab": {
          "base_uri": "https://localhost:8080/"
        }
      },
      "execution_count": null,
      "outputs": [
        {
          "output_type": "stream",
          "name": "stdout",
          "text": [
            "Column Name: age\n",
            "['41' '23' '46' '70' '18' '59' '80' '66' '68' '84' '67' '71' '28' '65'\n",
            " '63' '51' '81' '54' '55' '60' '25' '73' '34' '78' '37' '85' '26' '58'\n",
            " '64' '44' '48' '61' '35' '83' '87' '53' '77' '27' '69' '74' '76' '36'\n",
            " '22' '43' '72' '82' '31' '39' '49' '62' '57' '50' '30' '29' '75' '19' '7'\n",
            " '79' '38' '17' '21' '24' '42' '15' '45' '32' '47' '1' '16' '52' '33' '13'\n",
            " '10' '89' '56' '20' '90' '40' '88' '14' '86' '94' '12' '4' '11' '8' '5'\n",
            " '455' '2' '91' '6' '93' '92']\n",
            "Total count in age is: 93 \n",
            "\n",
            "Column Name: sex\n",
            "['F' 'M']\n",
            "Total count in sex is: 2 \n",
            "\n",
            "Column Name: on_thyroxine\n",
            "['f' 't']\n",
            "Total count in on_thyroxine is: 2 \n",
            "\n",
            "Column Name: query_on_thyroxine\n",
            "['f' 't']\n",
            "Total count in query_on_thyroxine is: 2 \n",
            "\n",
            "Column Name: on_antithyroid_medication\n",
            "['f' 't']\n",
            "Total count in on_antithyroid_medication is: 2 \n",
            "\n",
            "Column Name: sick\n",
            "['f' 't']\n",
            "Total count in sick is: 2 \n",
            "\n",
            "Column Name: pregnant\n",
            "['f' 't']\n",
            "Total count in pregnant is: 2 \n",
            "\n",
            "Column Name: thyroid_surgery\n",
            "['f' 't']\n",
            "Total count in thyroid_surgery is: 2 \n",
            "\n",
            "Column Name: I131_treatment\n",
            "['f' 't']\n",
            "Total count in I131_treatment is: 2 \n",
            "\n",
            "Column Name: query_hypothyroid\n",
            "['f' 't']\n",
            "Total count in query_hypothyroid is: 2 \n",
            "\n",
            "Column Name: query_hyperthyroid\n",
            "['f' 't']\n",
            "Total count in query_hyperthyroid is: 2 \n",
            "\n",
            "Column Name: lithium\n",
            "['f' 't']\n",
            "Total count in lithium is: 2 \n",
            "\n",
            "Column Name: goitre\n",
            "['f' 't']\n",
            "Total count in goitre is: 2 \n",
            "\n",
            "Column Name: tumor\n",
            "['f' 't']\n",
            "Total count in tumor is: 2 \n",
            "\n",
            "Column Name: hypopituitary\n",
            "['f' 't']\n",
            "Total count in hypopituitary is: 2 \n",
            "\n",
            "Column Name: psych\n",
            "['f' 't']\n",
            "Total count in psych is: 2 \n",
            "\n",
            "Column Name: TSH_measured\n",
            "['t' 'f']\n",
            "Total count in TSH_measured is: 2 \n",
            "\n",
            "Column Name: T3_measured\n",
            "['t' 'f']\n",
            "Total count in T3_measured is: 2 \n",
            "\n",
            "Column Name: TT4_measured\n",
            "['t' 'f']\n",
            "Total count in TT4_measured is: 2 \n",
            "\n",
            "Column Name: T4U_measured\n",
            "['t' 'f']\n",
            "Total count in T4U_measured is: 2 \n",
            "\n",
            "Column Name: FTI_measured\n",
            "['t' 'f']\n",
            "Total count in FTI_measured is: 2 \n",
            "\n",
            "Column Name: TBG_measured\n",
            "['f']\n",
            "Total count in TBG_measured is: 1 \n",
            "\n",
            "Column Name: referral_source\n",
            "['SVHC' 'other' 'SVI' 'SVHD' 'STMW']\n",
            "Total count in referral_source is: 5 \n",
            "\n",
            "Column Name: Class\n",
            "['negative' 'compensated_hypothyroid' 'primary_hypothyroid'\n",
            " 'secondary_hypothyroid']\n",
            "Total count in Class is: 4 \n",
            "\n"
          ]
        }
      ]
    },
    {
      "cell_type": "code",
      "source": [
        "df.info()\n"
      ],
      "metadata": {
        "colab": {
          "base_uri": "https://localhost:8080/"
        },
        "id": "s93wVLbUBxOJ",
        "outputId": "6c8db9e8-262c-4f99-b65a-bb0474347073"
      },
      "execution_count": null,
      "outputs": [
        {
          "output_type": "stream",
          "name": "stdout",
          "text": [
            "<class 'pandas.core.frame.DataFrame'>\n",
            "Int64Index: 3621 entries, 0 to 3771\n",
            "Data columns (total 24 columns):\n",
            " #   Column                     Non-Null Count  Dtype \n",
            "---  ------                     --------------  ----- \n",
            " 0   age                        3621 non-null   object\n",
            " 1   sex                        3621 non-null   object\n",
            " 2   on_thyroxine               3621 non-null   object\n",
            " 3   query_on_thyroxine         3621 non-null   object\n",
            " 4   on_antithyroid_medication  3621 non-null   object\n",
            " 5   sick                       3621 non-null   object\n",
            " 6   pregnant                   3621 non-null   object\n",
            " 7   thyroid_surgery            3621 non-null   object\n",
            " 8   I131_treatment             3621 non-null   object\n",
            " 9   query_hypothyroid          3621 non-null   object\n",
            " 10  query_hyperthyroid         3621 non-null   object\n",
            " 11  lithium                    3621 non-null   object\n",
            " 12  goitre                     3621 non-null   object\n",
            " 13  tumor                      3621 non-null   object\n",
            " 14  hypopituitary              3621 non-null   object\n",
            " 15  psych                      3621 non-null   object\n",
            " 16  TSH_measured               3621 non-null   object\n",
            " 17  T3_measured                3621 non-null   object\n",
            " 18  TT4_measured               3621 non-null   object\n",
            " 19  T4U_measured               3621 non-null   object\n",
            " 20  FTI_measured               3621 non-null   object\n",
            " 21  TBG_measured               3621 non-null   object\n",
            " 22  referral_source            3621 non-null   object\n",
            " 23  Class                      3621 non-null   object\n",
            "dtypes: object(24)\n",
            "memory usage: 707.2+ KB\n"
          ]
        }
      ]
    },
    {
      "cell_type": "code",
      "source": [
        "cols_to_binary = ['on_thyroxine', 'query_on_thyroxine',\n",
        "       'on_antithyroid_medication', 'sick', 'pregnant', 'thyroid_surgery',\n",
        "       'I131_treatment', 'query_hypothyroid', 'query_hyperthyroid', 'lithium',\n",
        "       'goitre', 'tumor', 'hypopituitary', 'psych', 'TSH_measured',\n",
        "       'T3_measured', 'TT4_measured', 'T4U_measured', 'FTI_measured',\n",
        "       'TBG_measured']"
      ],
      "metadata": {
        "id": "TkzaA0ZDDRja"
      },
      "execution_count": null,
      "outputs": []
    },
    {
      "cell_type": "code",
      "source": [
        "#changing cols values to 0 and 1 for f and t\n",
        "for column in cols_to_binary:\n",
        "  df[column] = df[column].map({'f' : 0, 't' : 1})"
      ],
      "metadata": {
        "id": "DgJoF07OKlbL"
      },
      "execution_count": null,
      "outputs": []
    },
    {
      "cell_type": "code",
      "source": [
        "df.head()"
      ],
      "metadata": {
        "colab": {
          "base_uri": "https://localhost:8080/",
          "height": 300
        },
        "id": "stiKJbf9Kz4O",
        "outputId": "49ad1670-ff89-40b6-86fd-e6c629b71afb"
      },
      "execution_count": null,
      "outputs": [
        {
          "output_type": "execute_result",
          "data": {
            "text/plain": [
              "  age sex  on_thyroxine  query_on_thyroxine  on_antithyroid_medication  sick  \\\n",
              "0  41   F             0                   0                          0     0   \n",
              "1  23   F             0                   0                          0     0   \n",
              "2  46   M             0                   0                          0     0   \n",
              "3  70   F             1                   0                          0     0   \n",
              "4  70   F             0                   0                          0     0   \n",
              "\n",
              "   pregnant  thyroid_surgery  I131_treatment  query_hypothyroid  ...  \\\n",
              "0         0                0               0                  0  ...   \n",
              "1         0                0               0                  0  ...   \n",
              "2         0                0               0                  0  ...   \n",
              "3         0                0               0                  0  ...   \n",
              "4         0                0               0                  0  ...   \n",
              "\n",
              "   hypopituitary  psych  TSH_measured  T3_measured  TT4_measured  \\\n",
              "0              0      0             1            1             1   \n",
              "1              0      0             1            1             1   \n",
              "2              0      0             1            0             1   \n",
              "3              0      0             1            1             1   \n",
              "4              0      0             1            1             1   \n",
              "\n",
              "   T4U_measured  FTI_measured  TBG_measured  referral_source     Class  \n",
              "0             1             1             0             SVHC  negative  \n",
              "1             0             0             0            other  negative  \n",
              "2             1             1             0            other  negative  \n",
              "3             0             0             0            other  negative  \n",
              "4             1             1             0              SVI  negative  \n",
              "\n",
              "[5 rows x 24 columns]"
            ],
            "text/html": [
              "\n",
              "  <div id=\"df-88208e6c-9362-4a9c-aafc-9e541bd89f02\">\n",
              "    <div class=\"colab-df-container\">\n",
              "      <div>\n",
              "<style scoped>\n",
              "    .dataframe tbody tr th:only-of-type {\n",
              "        vertical-align: middle;\n",
              "    }\n",
              "\n",
              "    .dataframe tbody tr th {\n",
              "        vertical-align: top;\n",
              "    }\n",
              "\n",
              "    .dataframe thead th {\n",
              "        text-align: right;\n",
              "    }\n",
              "</style>\n",
              "<table border=\"1\" class=\"dataframe\">\n",
              "  <thead>\n",
              "    <tr style=\"text-align: right;\">\n",
              "      <th></th>\n",
              "      <th>age</th>\n",
              "      <th>sex</th>\n",
              "      <th>on_thyroxine</th>\n",
              "      <th>query_on_thyroxine</th>\n",
              "      <th>on_antithyroid_medication</th>\n",
              "      <th>sick</th>\n",
              "      <th>pregnant</th>\n",
              "      <th>thyroid_surgery</th>\n",
              "      <th>I131_treatment</th>\n",
              "      <th>query_hypothyroid</th>\n",
              "      <th>...</th>\n",
              "      <th>hypopituitary</th>\n",
              "      <th>psych</th>\n",
              "      <th>TSH_measured</th>\n",
              "      <th>T3_measured</th>\n",
              "      <th>TT4_measured</th>\n",
              "      <th>T4U_measured</th>\n",
              "      <th>FTI_measured</th>\n",
              "      <th>TBG_measured</th>\n",
              "      <th>referral_source</th>\n",
              "      <th>Class</th>\n",
              "    </tr>\n",
              "  </thead>\n",
              "  <tbody>\n",
              "    <tr>\n",
              "      <th>0</th>\n",
              "      <td>41</td>\n",
              "      <td>F</td>\n",
              "      <td>0</td>\n",
              "      <td>0</td>\n",
              "      <td>0</td>\n",
              "      <td>0</td>\n",
              "      <td>0</td>\n",
              "      <td>0</td>\n",
              "      <td>0</td>\n",
              "      <td>0</td>\n",
              "      <td>...</td>\n",
              "      <td>0</td>\n",
              "      <td>0</td>\n",
              "      <td>1</td>\n",
              "      <td>1</td>\n",
              "      <td>1</td>\n",
              "      <td>1</td>\n",
              "      <td>1</td>\n",
              "      <td>0</td>\n",
              "      <td>SVHC</td>\n",
              "      <td>negative</td>\n",
              "    </tr>\n",
              "    <tr>\n",
              "      <th>1</th>\n",
              "      <td>23</td>\n",
              "      <td>F</td>\n",
              "      <td>0</td>\n",
              "      <td>0</td>\n",
              "      <td>0</td>\n",
              "      <td>0</td>\n",
              "      <td>0</td>\n",
              "      <td>0</td>\n",
              "      <td>0</td>\n",
              "      <td>0</td>\n",
              "      <td>...</td>\n",
              "      <td>0</td>\n",
              "      <td>0</td>\n",
              "      <td>1</td>\n",
              "      <td>1</td>\n",
              "      <td>1</td>\n",
              "      <td>0</td>\n",
              "      <td>0</td>\n",
              "      <td>0</td>\n",
              "      <td>other</td>\n",
              "      <td>negative</td>\n",
              "    </tr>\n",
              "    <tr>\n",
              "      <th>2</th>\n",
              "      <td>46</td>\n",
              "      <td>M</td>\n",
              "      <td>0</td>\n",
              "      <td>0</td>\n",
              "      <td>0</td>\n",
              "      <td>0</td>\n",
              "      <td>0</td>\n",
              "      <td>0</td>\n",
              "      <td>0</td>\n",
              "      <td>0</td>\n",
              "      <td>...</td>\n",
              "      <td>0</td>\n",
              "      <td>0</td>\n",
              "      <td>1</td>\n",
              "      <td>0</td>\n",
              "      <td>1</td>\n",
              "      <td>1</td>\n",
              "      <td>1</td>\n",
              "      <td>0</td>\n",
              "      <td>other</td>\n",
              "      <td>negative</td>\n",
              "    </tr>\n",
              "    <tr>\n",
              "      <th>3</th>\n",
              "      <td>70</td>\n",
              "      <td>F</td>\n",
              "      <td>1</td>\n",
              "      <td>0</td>\n",
              "      <td>0</td>\n",
              "      <td>0</td>\n",
              "      <td>0</td>\n",
              "      <td>0</td>\n",
              "      <td>0</td>\n",
              "      <td>0</td>\n",
              "      <td>...</td>\n",
              "      <td>0</td>\n",
              "      <td>0</td>\n",
              "      <td>1</td>\n",
              "      <td>1</td>\n",
              "      <td>1</td>\n",
              "      <td>0</td>\n",
              "      <td>0</td>\n",
              "      <td>0</td>\n",
              "      <td>other</td>\n",
              "      <td>negative</td>\n",
              "    </tr>\n",
              "    <tr>\n",
              "      <th>4</th>\n",
              "      <td>70</td>\n",
              "      <td>F</td>\n",
              "      <td>0</td>\n",
              "      <td>0</td>\n",
              "      <td>0</td>\n",
              "      <td>0</td>\n",
              "      <td>0</td>\n",
              "      <td>0</td>\n",
              "      <td>0</td>\n",
              "      <td>0</td>\n",
              "      <td>...</td>\n",
              "      <td>0</td>\n",
              "      <td>0</td>\n",
              "      <td>1</td>\n",
              "      <td>1</td>\n",
              "      <td>1</td>\n",
              "      <td>1</td>\n",
              "      <td>1</td>\n",
              "      <td>0</td>\n",
              "      <td>SVI</td>\n",
              "      <td>negative</td>\n",
              "    </tr>\n",
              "  </tbody>\n",
              "</table>\n",
              "<p>5 rows × 24 columns</p>\n",
              "</div>\n",
              "      <button class=\"colab-df-convert\" onclick=\"convertToInteractive('df-88208e6c-9362-4a9c-aafc-9e541bd89f02')\"\n",
              "              title=\"Convert this dataframe to an interactive table.\"\n",
              "              style=\"display:none;\">\n",
              "        \n",
              "  <svg xmlns=\"http://www.w3.org/2000/svg\" height=\"24px\"viewBox=\"0 0 24 24\"\n",
              "       width=\"24px\">\n",
              "    <path d=\"M0 0h24v24H0V0z\" fill=\"none\"/>\n",
              "    <path d=\"M18.56 5.44l.94 2.06.94-2.06 2.06-.94-2.06-.94-.94-2.06-.94 2.06-2.06.94zm-11 1L8.5 8.5l.94-2.06 2.06-.94-2.06-.94L8.5 2.5l-.94 2.06-2.06.94zm10 10l.94 2.06.94-2.06 2.06-.94-2.06-.94-.94-2.06-.94 2.06-2.06.94z\"/><path d=\"M17.41 7.96l-1.37-1.37c-.4-.4-.92-.59-1.43-.59-.52 0-1.04.2-1.43.59L10.3 9.45l-7.72 7.72c-.78.78-.78 2.05 0 2.83L4 21.41c.39.39.9.59 1.41.59.51 0 1.02-.2 1.41-.59l7.78-7.78 2.81-2.81c.8-.78.8-2.07 0-2.86zM5.41 20L4 18.59l7.72-7.72 1.47 1.35L5.41 20z\"/>\n",
              "  </svg>\n",
              "      </button>\n",
              "      \n",
              "  <style>\n",
              "    .colab-df-container {\n",
              "      display:flex;\n",
              "      flex-wrap:wrap;\n",
              "      gap: 12px;\n",
              "    }\n",
              "\n",
              "    .colab-df-convert {\n",
              "      background-color: #E8F0FE;\n",
              "      border: none;\n",
              "      border-radius: 50%;\n",
              "      cursor: pointer;\n",
              "      display: none;\n",
              "      fill: #1967D2;\n",
              "      height: 32px;\n",
              "      padding: 0 0 0 0;\n",
              "      width: 32px;\n",
              "    }\n",
              "\n",
              "    .colab-df-convert:hover {\n",
              "      background-color: #E2EBFA;\n",
              "      box-shadow: 0px 1px 2px rgba(60, 64, 67, 0.3), 0px 1px 3px 1px rgba(60, 64, 67, 0.15);\n",
              "      fill: #174EA6;\n",
              "    }\n",
              "\n",
              "    [theme=dark] .colab-df-convert {\n",
              "      background-color: #3B4455;\n",
              "      fill: #D2E3FC;\n",
              "    }\n",
              "\n",
              "    [theme=dark] .colab-df-convert:hover {\n",
              "      background-color: #434B5C;\n",
              "      box-shadow: 0px 1px 3px 1px rgba(0, 0, 0, 0.15);\n",
              "      filter: drop-shadow(0px 1px 2px rgba(0, 0, 0, 0.3));\n",
              "      fill: #FFFFFF;\n",
              "    }\n",
              "  </style>\n",
              "\n",
              "      <script>\n",
              "        const buttonEl =\n",
              "          document.querySelector('#df-88208e6c-9362-4a9c-aafc-9e541bd89f02 button.colab-df-convert');\n",
              "        buttonEl.style.display =\n",
              "          google.colab.kernel.accessAllowed ? 'block' : 'none';\n",
              "\n",
              "        async function convertToInteractive(key) {\n",
              "          const element = document.querySelector('#df-88208e6c-9362-4a9c-aafc-9e541bd89f02');\n",
              "          const dataTable =\n",
              "            await google.colab.kernel.invokeFunction('convertToInteractive',\n",
              "                                                     [key], {});\n",
              "          if (!dataTable) return;\n",
              "\n",
              "          const docLinkHtml = 'Like what you see? Visit the ' +\n",
              "            '<a target=\"_blank\" href=https://colab.research.google.com/notebooks/data_table.ipynb>data table notebook</a>'\n",
              "            + ' to learn more about interactive tables.';\n",
              "          element.innerHTML = '';\n",
              "          dataTable['output_type'] = 'display_data';\n",
              "          await google.colab.output.renderOutput(dataTable, element);\n",
              "          const docLink = document.createElement('div');\n",
              "          docLink.innerHTML = docLinkHtml;\n",
              "          element.appendChild(docLink);\n",
              "        }\n",
              "      </script>\n",
              "    </div>\n",
              "  </div>\n",
              "  "
            ]
          },
          "metadata": {},
          "execution_count": 88
        }
      ]
    },
    {
      "cell_type": "code",
      "source": [
        "df['sex'] = df['sex'].map({'F' : 0, 'M' : 1})"
      ],
      "metadata": {
        "id": "2QyqqfDnK1IE"
      },
      "execution_count": null,
      "outputs": []
    },
    {
      "cell_type": "code",
      "source": [
        "df.head()"
      ],
      "metadata": {
        "colab": {
          "base_uri": "https://localhost:8080/",
          "height": 300
        },
        "id": "8ru7aEqJK4lj",
        "outputId": "2c5b7191-4d6e-4dc2-9f24-5bc3dc2a87cc"
      },
      "execution_count": null,
      "outputs": [
        {
          "output_type": "execute_result",
          "data": {
            "text/plain": [
              "  age  sex  on_thyroxine  query_on_thyroxine  on_antithyroid_medication  sick  \\\n",
              "0  41    0             0                   0                          0     0   \n",
              "1  23    0             0                   0                          0     0   \n",
              "2  46    1             0                   0                          0     0   \n",
              "3  70    0             1                   0                          0     0   \n",
              "4  70    0             0                   0                          0     0   \n",
              "\n",
              "   pregnant  thyroid_surgery  I131_treatment  query_hypothyroid  ...  \\\n",
              "0         0                0               0                  0  ...   \n",
              "1         0                0               0                  0  ...   \n",
              "2         0                0               0                  0  ...   \n",
              "3         0                0               0                  0  ...   \n",
              "4         0                0               0                  0  ...   \n",
              "\n",
              "   hypopituitary  psych  TSH_measured  T3_measured  TT4_measured  \\\n",
              "0              0      0             1            1             1   \n",
              "1              0      0             1            1             1   \n",
              "2              0      0             1            0             1   \n",
              "3              0      0             1            1             1   \n",
              "4              0      0             1            1             1   \n",
              "\n",
              "   T4U_measured  FTI_measured  TBG_measured  referral_source     Class  \n",
              "0             1             1             0             SVHC  negative  \n",
              "1             0             0             0            other  negative  \n",
              "2             1             1             0            other  negative  \n",
              "3             0             0             0            other  negative  \n",
              "4             1             1             0              SVI  negative  \n",
              "\n",
              "[5 rows x 24 columns]"
            ],
            "text/html": [
              "\n",
              "  <div id=\"df-46f0fc58-5591-40d4-a479-b88ab4b5e164\">\n",
              "    <div class=\"colab-df-container\">\n",
              "      <div>\n",
              "<style scoped>\n",
              "    .dataframe tbody tr th:only-of-type {\n",
              "        vertical-align: middle;\n",
              "    }\n",
              "\n",
              "    .dataframe tbody tr th {\n",
              "        vertical-align: top;\n",
              "    }\n",
              "\n",
              "    .dataframe thead th {\n",
              "        text-align: right;\n",
              "    }\n",
              "</style>\n",
              "<table border=\"1\" class=\"dataframe\">\n",
              "  <thead>\n",
              "    <tr style=\"text-align: right;\">\n",
              "      <th></th>\n",
              "      <th>age</th>\n",
              "      <th>sex</th>\n",
              "      <th>on_thyroxine</th>\n",
              "      <th>query_on_thyroxine</th>\n",
              "      <th>on_antithyroid_medication</th>\n",
              "      <th>sick</th>\n",
              "      <th>pregnant</th>\n",
              "      <th>thyroid_surgery</th>\n",
              "      <th>I131_treatment</th>\n",
              "      <th>query_hypothyroid</th>\n",
              "      <th>...</th>\n",
              "      <th>hypopituitary</th>\n",
              "      <th>psych</th>\n",
              "      <th>TSH_measured</th>\n",
              "      <th>T3_measured</th>\n",
              "      <th>TT4_measured</th>\n",
              "      <th>T4U_measured</th>\n",
              "      <th>FTI_measured</th>\n",
              "      <th>TBG_measured</th>\n",
              "      <th>referral_source</th>\n",
              "      <th>Class</th>\n",
              "    </tr>\n",
              "  </thead>\n",
              "  <tbody>\n",
              "    <tr>\n",
              "      <th>0</th>\n",
              "      <td>41</td>\n",
              "      <td>0</td>\n",
              "      <td>0</td>\n",
              "      <td>0</td>\n",
              "      <td>0</td>\n",
              "      <td>0</td>\n",
              "      <td>0</td>\n",
              "      <td>0</td>\n",
              "      <td>0</td>\n",
              "      <td>0</td>\n",
              "      <td>...</td>\n",
              "      <td>0</td>\n",
              "      <td>0</td>\n",
              "      <td>1</td>\n",
              "      <td>1</td>\n",
              "      <td>1</td>\n",
              "      <td>1</td>\n",
              "      <td>1</td>\n",
              "      <td>0</td>\n",
              "      <td>SVHC</td>\n",
              "      <td>negative</td>\n",
              "    </tr>\n",
              "    <tr>\n",
              "      <th>1</th>\n",
              "      <td>23</td>\n",
              "      <td>0</td>\n",
              "      <td>0</td>\n",
              "      <td>0</td>\n",
              "      <td>0</td>\n",
              "      <td>0</td>\n",
              "      <td>0</td>\n",
              "      <td>0</td>\n",
              "      <td>0</td>\n",
              "      <td>0</td>\n",
              "      <td>...</td>\n",
              "      <td>0</td>\n",
              "      <td>0</td>\n",
              "      <td>1</td>\n",
              "      <td>1</td>\n",
              "      <td>1</td>\n",
              "      <td>0</td>\n",
              "      <td>0</td>\n",
              "      <td>0</td>\n",
              "      <td>other</td>\n",
              "      <td>negative</td>\n",
              "    </tr>\n",
              "    <tr>\n",
              "      <th>2</th>\n",
              "      <td>46</td>\n",
              "      <td>1</td>\n",
              "      <td>0</td>\n",
              "      <td>0</td>\n",
              "      <td>0</td>\n",
              "      <td>0</td>\n",
              "      <td>0</td>\n",
              "      <td>0</td>\n",
              "      <td>0</td>\n",
              "      <td>0</td>\n",
              "      <td>...</td>\n",
              "      <td>0</td>\n",
              "      <td>0</td>\n",
              "      <td>1</td>\n",
              "      <td>0</td>\n",
              "      <td>1</td>\n",
              "      <td>1</td>\n",
              "      <td>1</td>\n",
              "      <td>0</td>\n",
              "      <td>other</td>\n",
              "      <td>negative</td>\n",
              "    </tr>\n",
              "    <tr>\n",
              "      <th>3</th>\n",
              "      <td>70</td>\n",
              "      <td>0</td>\n",
              "      <td>1</td>\n",
              "      <td>0</td>\n",
              "      <td>0</td>\n",
              "      <td>0</td>\n",
              "      <td>0</td>\n",
              "      <td>0</td>\n",
              "      <td>0</td>\n",
              "      <td>0</td>\n",
              "      <td>...</td>\n",
              "      <td>0</td>\n",
              "      <td>0</td>\n",
              "      <td>1</td>\n",
              "      <td>1</td>\n",
              "      <td>1</td>\n",
              "      <td>0</td>\n",
              "      <td>0</td>\n",
              "      <td>0</td>\n",
              "      <td>other</td>\n",
              "      <td>negative</td>\n",
              "    </tr>\n",
              "    <tr>\n",
              "      <th>4</th>\n",
              "      <td>70</td>\n",
              "      <td>0</td>\n",
              "      <td>0</td>\n",
              "      <td>0</td>\n",
              "      <td>0</td>\n",
              "      <td>0</td>\n",
              "      <td>0</td>\n",
              "      <td>0</td>\n",
              "      <td>0</td>\n",
              "      <td>0</td>\n",
              "      <td>...</td>\n",
              "      <td>0</td>\n",
              "      <td>0</td>\n",
              "      <td>1</td>\n",
              "      <td>1</td>\n",
              "      <td>1</td>\n",
              "      <td>1</td>\n",
              "      <td>1</td>\n",
              "      <td>0</td>\n",
              "      <td>SVI</td>\n",
              "      <td>negative</td>\n",
              "    </tr>\n",
              "  </tbody>\n",
              "</table>\n",
              "<p>5 rows × 24 columns</p>\n",
              "</div>\n",
              "      <button class=\"colab-df-convert\" onclick=\"convertToInteractive('df-46f0fc58-5591-40d4-a479-b88ab4b5e164')\"\n",
              "              title=\"Convert this dataframe to an interactive table.\"\n",
              "              style=\"display:none;\">\n",
              "        \n",
              "  <svg xmlns=\"http://www.w3.org/2000/svg\" height=\"24px\"viewBox=\"0 0 24 24\"\n",
              "       width=\"24px\">\n",
              "    <path d=\"M0 0h24v24H0V0z\" fill=\"none\"/>\n",
              "    <path d=\"M18.56 5.44l.94 2.06.94-2.06 2.06-.94-2.06-.94-.94-2.06-.94 2.06-2.06.94zm-11 1L8.5 8.5l.94-2.06 2.06-.94-2.06-.94L8.5 2.5l-.94 2.06-2.06.94zm10 10l.94 2.06.94-2.06 2.06-.94-2.06-.94-.94-2.06-.94 2.06-2.06.94z\"/><path d=\"M17.41 7.96l-1.37-1.37c-.4-.4-.92-.59-1.43-.59-.52 0-1.04.2-1.43.59L10.3 9.45l-7.72 7.72c-.78.78-.78 2.05 0 2.83L4 21.41c.39.39.9.59 1.41.59.51 0 1.02-.2 1.41-.59l7.78-7.78 2.81-2.81c.8-.78.8-2.07 0-2.86zM5.41 20L4 18.59l7.72-7.72 1.47 1.35L5.41 20z\"/>\n",
              "  </svg>\n",
              "      </button>\n",
              "      \n",
              "  <style>\n",
              "    .colab-df-container {\n",
              "      display:flex;\n",
              "      flex-wrap:wrap;\n",
              "      gap: 12px;\n",
              "    }\n",
              "\n",
              "    .colab-df-convert {\n",
              "      background-color: #E8F0FE;\n",
              "      border: none;\n",
              "      border-radius: 50%;\n",
              "      cursor: pointer;\n",
              "      display: none;\n",
              "      fill: #1967D2;\n",
              "      height: 32px;\n",
              "      padding: 0 0 0 0;\n",
              "      width: 32px;\n",
              "    }\n",
              "\n",
              "    .colab-df-convert:hover {\n",
              "      background-color: #E2EBFA;\n",
              "      box-shadow: 0px 1px 2px rgba(60, 64, 67, 0.3), 0px 1px 3px 1px rgba(60, 64, 67, 0.15);\n",
              "      fill: #174EA6;\n",
              "    }\n",
              "\n",
              "    [theme=dark] .colab-df-convert {\n",
              "      background-color: #3B4455;\n",
              "      fill: #D2E3FC;\n",
              "    }\n",
              "\n",
              "    [theme=dark] .colab-df-convert:hover {\n",
              "      background-color: #434B5C;\n",
              "      box-shadow: 0px 1px 3px 1px rgba(0, 0, 0, 0.15);\n",
              "      filter: drop-shadow(0px 1px 2px rgba(0, 0, 0, 0.3));\n",
              "      fill: #FFFFFF;\n",
              "    }\n",
              "  </style>\n",
              "\n",
              "      <script>\n",
              "        const buttonEl =\n",
              "          document.querySelector('#df-46f0fc58-5591-40d4-a479-b88ab4b5e164 button.colab-df-convert');\n",
              "        buttonEl.style.display =\n",
              "          google.colab.kernel.accessAllowed ? 'block' : 'none';\n",
              "\n",
              "        async function convertToInteractive(key) {\n",
              "          const element = document.querySelector('#df-46f0fc58-5591-40d4-a479-b88ab4b5e164');\n",
              "          const dataTable =\n",
              "            await google.colab.kernel.invokeFunction('convertToInteractive',\n",
              "                                                     [key], {});\n",
              "          if (!dataTable) return;\n",
              "\n",
              "          const docLinkHtml = 'Like what you see? Visit the ' +\n",
              "            '<a target=\"_blank\" href=https://colab.research.google.com/notebooks/data_table.ipynb>data table notebook</a>'\n",
              "            + ' to learn more about interactive tables.';\n",
              "          element.innerHTML = '';\n",
              "          dataTable['output_type'] = 'display_data';\n",
              "          await google.colab.output.renderOutput(dataTable, element);\n",
              "          const docLink = document.createElement('div');\n",
              "          docLink.innerHTML = docLinkHtml;\n",
              "          element.appendChild(docLink);\n",
              "        }\n",
              "      </script>\n",
              "    </div>\n",
              "  </div>\n",
              "  "
            ]
          },
          "metadata": {},
          "execution_count": 90
        }
      ]
    },
    {
      "cell_type": "code",
      "source": [
        "df.isnull().sum()"
      ],
      "metadata": {
        "colab": {
          "base_uri": "https://localhost:8080/"
        },
        "id": "Xc5TcwwdK5tQ",
        "outputId": "fdcce945-bfa3-4b96-b3a0-c97fcda0867e"
      },
      "execution_count": null,
      "outputs": [
        {
          "output_type": "execute_result",
          "data": {
            "text/plain": [
              "age                          0\n",
              "sex                          0\n",
              "on_thyroxine                 0\n",
              "query_on_thyroxine           0\n",
              "on_antithyroid_medication    0\n",
              "sick                         0\n",
              "pregnant                     0\n",
              "thyroid_surgery              0\n",
              "I131_treatment               0\n",
              "query_hypothyroid            0\n",
              "query_hyperthyroid           0\n",
              "lithium                      0\n",
              "goitre                       0\n",
              "tumor                        0\n",
              "hypopituitary                0\n",
              "psych                        0\n",
              "TSH_measured                 0\n",
              "T3_measured                  0\n",
              "TT4_measured                 0\n",
              "T4U_measured                 0\n",
              "FTI_measured                 0\n",
              "TBG_measured                 0\n",
              "referral_source              0\n",
              "Class                        0\n",
              "dtype: int64"
            ]
          },
          "metadata": {},
          "execution_count": 91
        }
      ]
    },
    {
      "cell_type": "code",
      "source": [
        "df['referral_source'].unique()"
      ],
      "metadata": {
        "colab": {
          "base_uri": "https://localhost:8080/"
        },
        "id": "NdRVnfBIK-hi",
        "outputId": "797fa7a1-6ea7-4cf8-c510-723fc60b027a"
      },
      "execution_count": null,
      "outputs": [
        {
          "output_type": "execute_result",
          "data": {
            "text/plain": [
              "array(['SVHC', 'other', 'SVI', 'SVHD', 'STMW'], dtype=object)"
            ]
          },
          "metadata": {},
          "execution_count": 92
        }
      ]
    },
    {
      "cell_type": "code",
      "source": [
        "#we create dummy variables for the referral_source col since we need to bring everything in 0 and 1 format\n",
        "df = pd.get_dummies(df, columns=['referral_source'])"
      ],
      "metadata": {
        "id": "rnFf-UteLHc1"
      },
      "execution_count": null,
      "outputs": []
    },
    {
      "cell_type": "code",
      "source": [
        "df.head()"
      ],
      "metadata": {
        "colab": {
          "base_uri": "https://localhost:8080/",
          "height": 300
        },
        "id": "WbSqc3O7L7jh",
        "outputId": "970348b2-50ea-43f4-895f-a7a130ee263e"
      },
      "execution_count": null,
      "outputs": [
        {
          "output_type": "execute_result",
          "data": {
            "text/plain": [
              "  age  sex  on_thyroxine  query_on_thyroxine  on_antithyroid_medication  sick  \\\n",
              "0  41    0             0                   0                          0     0   \n",
              "1  23    0             0                   0                          0     0   \n",
              "2  46    1             0                   0                          0     0   \n",
              "3  70    0             1                   0                          0     0   \n",
              "4  70    0             0                   0                          0     0   \n",
              "\n",
              "   pregnant  thyroid_surgery  I131_treatment  query_hypothyroid  ...  \\\n",
              "0         0                0               0                  0  ...   \n",
              "1         0                0               0                  0  ...   \n",
              "2         0                0               0                  0  ...   \n",
              "3         0                0               0                  0  ...   \n",
              "4         0                0               0                  0  ...   \n",
              "\n",
              "   TT4_measured  T4U_measured  FTI_measured  TBG_measured  Class  \\\n",
              "0             1             1             1             0      1   \n",
              "1             1             0             0             0      1   \n",
              "2             1             1             1             0      1   \n",
              "3             1             0             0             0      1   \n",
              "4             1             1             1             0      1   \n",
              "\n",
              "   referral_source_STMW  referral_source_SVHC  referral_source_SVHD  \\\n",
              "0                     0                     1                     0   \n",
              "1                     0                     0                     0   \n",
              "2                     0                     0                     0   \n",
              "3                     0                     0                     0   \n",
              "4                     0                     0                     0   \n",
              "\n",
              "   referral_source_SVI  referral_source_other  \n",
              "0                    0                      0  \n",
              "1                    0                      1  \n",
              "2                    0                      1  \n",
              "3                    0                      1  \n",
              "4                    1                      0  \n",
              "\n",
              "[5 rows x 28 columns]"
            ],
            "text/html": [
              "\n",
              "  <div id=\"df-5f229357-fa36-4719-84c7-44ee7a05e144\">\n",
              "    <div class=\"colab-df-container\">\n",
              "      <div>\n",
              "<style scoped>\n",
              "    .dataframe tbody tr th:only-of-type {\n",
              "        vertical-align: middle;\n",
              "    }\n",
              "\n",
              "    .dataframe tbody tr th {\n",
              "        vertical-align: top;\n",
              "    }\n",
              "\n",
              "    .dataframe thead th {\n",
              "        text-align: right;\n",
              "    }\n",
              "</style>\n",
              "<table border=\"1\" class=\"dataframe\">\n",
              "  <thead>\n",
              "    <tr style=\"text-align: right;\">\n",
              "      <th></th>\n",
              "      <th>age</th>\n",
              "      <th>sex</th>\n",
              "      <th>on_thyroxine</th>\n",
              "      <th>query_on_thyroxine</th>\n",
              "      <th>on_antithyroid_medication</th>\n",
              "      <th>sick</th>\n",
              "      <th>pregnant</th>\n",
              "      <th>thyroid_surgery</th>\n",
              "      <th>I131_treatment</th>\n",
              "      <th>query_hypothyroid</th>\n",
              "      <th>...</th>\n",
              "      <th>TT4_measured</th>\n",
              "      <th>T4U_measured</th>\n",
              "      <th>FTI_measured</th>\n",
              "      <th>TBG_measured</th>\n",
              "      <th>Class</th>\n",
              "      <th>referral_source_STMW</th>\n",
              "      <th>referral_source_SVHC</th>\n",
              "      <th>referral_source_SVHD</th>\n",
              "      <th>referral_source_SVI</th>\n",
              "      <th>referral_source_other</th>\n",
              "    </tr>\n",
              "  </thead>\n",
              "  <tbody>\n",
              "    <tr>\n",
              "      <th>0</th>\n",
              "      <td>41</td>\n",
              "      <td>0</td>\n",
              "      <td>0</td>\n",
              "      <td>0</td>\n",
              "      <td>0</td>\n",
              "      <td>0</td>\n",
              "      <td>0</td>\n",
              "      <td>0</td>\n",
              "      <td>0</td>\n",
              "      <td>0</td>\n",
              "      <td>...</td>\n",
              "      <td>1</td>\n",
              "      <td>1</td>\n",
              "      <td>1</td>\n",
              "      <td>0</td>\n",
              "      <td>1</td>\n",
              "      <td>0</td>\n",
              "      <td>1</td>\n",
              "      <td>0</td>\n",
              "      <td>0</td>\n",
              "      <td>0</td>\n",
              "    </tr>\n",
              "    <tr>\n",
              "      <th>1</th>\n",
              "      <td>23</td>\n",
              "      <td>0</td>\n",
              "      <td>0</td>\n",
              "      <td>0</td>\n",
              "      <td>0</td>\n",
              "      <td>0</td>\n",
              "      <td>0</td>\n",
              "      <td>0</td>\n",
              "      <td>0</td>\n",
              "      <td>0</td>\n",
              "      <td>...</td>\n",
              "      <td>1</td>\n",
              "      <td>0</td>\n",
              "      <td>0</td>\n",
              "      <td>0</td>\n",
              "      <td>1</td>\n",
              "      <td>0</td>\n",
              "      <td>0</td>\n",
              "      <td>0</td>\n",
              "      <td>0</td>\n",
              "      <td>1</td>\n",
              "    </tr>\n",
              "    <tr>\n",
              "      <th>2</th>\n",
              "      <td>46</td>\n",
              "      <td>1</td>\n",
              "      <td>0</td>\n",
              "      <td>0</td>\n",
              "      <td>0</td>\n",
              "      <td>0</td>\n",
              "      <td>0</td>\n",
              "      <td>0</td>\n",
              "      <td>0</td>\n",
              "      <td>0</td>\n",
              "      <td>...</td>\n",
              "      <td>1</td>\n",
              "      <td>1</td>\n",
              "      <td>1</td>\n",
              "      <td>0</td>\n",
              "      <td>1</td>\n",
              "      <td>0</td>\n",
              "      <td>0</td>\n",
              "      <td>0</td>\n",
              "      <td>0</td>\n",
              "      <td>1</td>\n",
              "    </tr>\n",
              "    <tr>\n",
              "      <th>3</th>\n",
              "      <td>70</td>\n",
              "      <td>0</td>\n",
              "      <td>1</td>\n",
              "      <td>0</td>\n",
              "      <td>0</td>\n",
              "      <td>0</td>\n",
              "      <td>0</td>\n",
              "      <td>0</td>\n",
              "      <td>0</td>\n",
              "      <td>0</td>\n",
              "      <td>...</td>\n",
              "      <td>1</td>\n",
              "      <td>0</td>\n",
              "      <td>0</td>\n",
              "      <td>0</td>\n",
              "      <td>1</td>\n",
              "      <td>0</td>\n",
              "      <td>0</td>\n",
              "      <td>0</td>\n",
              "      <td>0</td>\n",
              "      <td>1</td>\n",
              "    </tr>\n",
              "    <tr>\n",
              "      <th>4</th>\n",
              "      <td>70</td>\n",
              "      <td>0</td>\n",
              "      <td>0</td>\n",
              "      <td>0</td>\n",
              "      <td>0</td>\n",
              "      <td>0</td>\n",
              "      <td>0</td>\n",
              "      <td>0</td>\n",
              "      <td>0</td>\n",
              "      <td>0</td>\n",
              "      <td>...</td>\n",
              "      <td>1</td>\n",
              "      <td>1</td>\n",
              "      <td>1</td>\n",
              "      <td>0</td>\n",
              "      <td>1</td>\n",
              "      <td>0</td>\n",
              "      <td>0</td>\n",
              "      <td>0</td>\n",
              "      <td>1</td>\n",
              "      <td>0</td>\n",
              "    </tr>\n",
              "  </tbody>\n",
              "</table>\n",
              "<p>5 rows × 28 columns</p>\n",
              "</div>\n",
              "      <button class=\"colab-df-convert\" onclick=\"convertToInteractive('df-5f229357-fa36-4719-84c7-44ee7a05e144')\"\n",
              "              title=\"Convert this dataframe to an interactive table.\"\n",
              "              style=\"display:none;\">\n",
              "        \n",
              "  <svg xmlns=\"http://www.w3.org/2000/svg\" height=\"24px\"viewBox=\"0 0 24 24\"\n",
              "       width=\"24px\">\n",
              "    <path d=\"M0 0h24v24H0V0z\" fill=\"none\"/>\n",
              "    <path d=\"M18.56 5.44l.94 2.06.94-2.06 2.06-.94-2.06-.94-.94-2.06-.94 2.06-2.06.94zm-11 1L8.5 8.5l.94-2.06 2.06-.94-2.06-.94L8.5 2.5l-.94 2.06-2.06.94zm10 10l.94 2.06.94-2.06 2.06-.94-2.06-.94-.94-2.06-.94 2.06-2.06.94z\"/><path d=\"M17.41 7.96l-1.37-1.37c-.4-.4-.92-.59-1.43-.59-.52 0-1.04.2-1.43.59L10.3 9.45l-7.72 7.72c-.78.78-.78 2.05 0 2.83L4 21.41c.39.39.9.59 1.41.59.51 0 1.02-.2 1.41-.59l7.78-7.78 2.81-2.81c.8-.78.8-2.07 0-2.86zM5.41 20L4 18.59l7.72-7.72 1.47 1.35L5.41 20z\"/>\n",
              "  </svg>\n",
              "      </button>\n",
              "      \n",
              "  <style>\n",
              "    .colab-df-container {\n",
              "      display:flex;\n",
              "      flex-wrap:wrap;\n",
              "      gap: 12px;\n",
              "    }\n",
              "\n",
              "    .colab-df-convert {\n",
              "      background-color: #E8F0FE;\n",
              "      border: none;\n",
              "      border-radius: 50%;\n",
              "      cursor: pointer;\n",
              "      display: none;\n",
              "      fill: #1967D2;\n",
              "      height: 32px;\n",
              "      padding: 0 0 0 0;\n",
              "      width: 32px;\n",
              "    }\n",
              "\n",
              "    .colab-df-convert:hover {\n",
              "      background-color: #E2EBFA;\n",
              "      box-shadow: 0px 1px 2px rgba(60, 64, 67, 0.3), 0px 1px 3px 1px rgba(60, 64, 67, 0.15);\n",
              "      fill: #174EA6;\n",
              "    }\n",
              "\n",
              "    [theme=dark] .colab-df-convert {\n",
              "      background-color: #3B4455;\n",
              "      fill: #D2E3FC;\n",
              "    }\n",
              "\n",
              "    [theme=dark] .colab-df-convert:hover {\n",
              "      background-color: #434B5C;\n",
              "      box-shadow: 0px 1px 3px 1px rgba(0, 0, 0, 0.15);\n",
              "      filter: drop-shadow(0px 1px 2px rgba(0, 0, 0, 0.3));\n",
              "      fill: #FFFFFF;\n",
              "    }\n",
              "  </style>\n",
              "\n",
              "      <script>\n",
              "        const buttonEl =\n",
              "          document.querySelector('#df-5f229357-fa36-4719-84c7-44ee7a05e144 button.colab-df-convert');\n",
              "        buttonEl.style.display =\n",
              "          google.colab.kernel.accessAllowed ? 'block' : 'none';\n",
              "\n",
              "        async function convertToInteractive(key) {\n",
              "          const element = document.querySelector('#df-5f229357-fa36-4719-84c7-44ee7a05e144');\n",
              "          const dataTable =\n",
              "            await google.colab.kernel.invokeFunction('convertToInteractive',\n",
              "                                                     [key], {});\n",
              "          if (!dataTable) return;\n",
              "\n",
              "          const docLinkHtml = 'Like what you see? Visit the ' +\n",
              "            '<a target=\"_blank\" href=https://colab.research.google.com/notebooks/data_table.ipynb>data table notebook</a>'\n",
              "            + ' to learn more about interactive tables.';\n",
              "          element.innerHTML = '';\n",
              "          dataTable['output_type'] = 'display_data';\n",
              "          await google.colab.output.renderOutput(dataTable, element);\n",
              "          const docLink = document.createElement('div');\n",
              "          docLink.innerHTML = docLinkHtml;\n",
              "          element.appendChild(docLink);\n",
              "        }\n",
              "      </script>\n",
              "    </div>\n",
              "  </div>\n",
              "  "
            ]
          },
          "metadata": {},
          "execution_count": 99
        }
      ]
    },
    {
      "cell_type": "code",
      "source": [
        "df.columns"
      ],
      "metadata": {
        "colab": {
          "base_uri": "https://localhost:8080/"
        },
        "id": "ua2vStQV-8sr",
        "outputId": "2abe3f30-e472-40ec-a2c6-f4383f019ddc"
      },
      "execution_count": null,
      "outputs": [
        {
          "output_type": "execute_result",
          "data": {
            "text/plain": [
              "Index(['age', 'sex', 'on_thyroxine', 'query_on_thyroxine',\n",
              "       'on_antithyroid_medication', 'sick', 'pregnant', 'thyroid_surgery',\n",
              "       'I131_treatment', 'query_hypothyroid', 'query_hyperthyroid', 'lithium',\n",
              "       'goitre', 'tumor', 'hypopituitary', 'psych', 'TSH_measured',\n",
              "       'T3_measured', 'TT4_measured', 'T4U_measured', 'FTI_measured',\n",
              "       'TBG_measured', 'Class', 'referral_source_STMW', 'referral_source_SVHC',\n",
              "       'referral_source_SVHD', 'referral_source_SVI', 'referral_source_other'],\n",
              "      dtype='object')"
            ]
          },
          "metadata": {},
          "execution_count": 100
        }
      ]
    },
    {
      "cell_type": "code",
      "source": [
        "df['Class'].unique()"
      ],
      "metadata": {
        "colab": {
          "base_uri": "https://localhost:8080/"
        },
        "id": "WCjIumQVL9nS",
        "outputId": "628ef277-3812-4cd1-a544-f90c26197e3d"
      },
      "execution_count": null,
      "outputs": [
        {
          "output_type": "execute_result",
          "data": {
            "text/plain": [
              "array([1, 0, 2, 3])"
            ]
          },
          "metadata": {},
          "execution_count": 101
        }
      ]
    },
    {
      "cell_type": "code",
      "source": [
        "#checking the various types of thyroid\n",
        "df['Class'].value_counts()"
      ],
      "metadata": {
        "colab": {
          "base_uri": "https://localhost:8080/"
        },
        "id": "nzpJxXnTuNUq",
        "outputId": "d0939fa8-b1fb-401a-d9f9-ae3b0067784b"
      },
      "execution_count": null,
      "outputs": [
        {
          "output_type": "execute_result",
          "data": {
            "text/plain": [
              "negative                   3341\n",
              "compensated_hypothyroid     187\n",
              "primary_hypothyroid          91\n",
              "secondary_hypothyroid         2\n",
              "Name: Class, dtype: int64"
            ]
          },
          "metadata": {},
          "execution_count": 97
        }
      ]
    },
    {
      "cell_type": "code",
      "source": [
        "from sklearn.preprocessing import LabelEncoder\n",
        "encode = LabelEncoder().fit(df['Class'])\n",
        "\n",
        "df['Class'] = encode.transform(df['Class'])"
      ],
      "metadata": {
        "id": "W5xuJTltMJXm"
      },
      "execution_count": null,
      "outputs": []
    },
    {
      "cell_type": "code",
      "source": [
        "df[\"Class\"].value_counts()"
      ],
      "metadata": {
        "colab": {
          "base_uri": "https://localhost:8080/"
        },
        "id": "SISX75FIMKTr",
        "outputId": "ef64c22d-2943-4667-a899-f471916fd29c"
      },
      "execution_count": null,
      "outputs": [
        {
          "output_type": "execute_result",
          "data": {
            "text/plain": [
              "1    3341\n",
              "0     187\n",
              "2      91\n",
              "3       2\n",
              "Name: Class, dtype: int64"
            ]
          },
          "metadata": {},
          "execution_count": 104
        }
      ]
    },
    {
      "cell_type": "code",
      "source": [
        "#importing matplotlib for plotting\n",
        "import matplotlib.pyplot as plt\n",
        "sns.countplot(x='Class',data=df,palette='mako')\n",
        "plt.show()"
      ],
      "metadata": {
        "id": "unKKlmEGMf5_",
        "colab": {
          "base_uri": "https://localhost:8080/",
          "height": 454
        },
        "outputId": "aea90f4a-4855-4675-d1cf-9032d79b580b"
      },
      "execution_count": null,
      "outputs": [
        {
          "output_type": "display_data",
          "data": {
            "text/plain": [
              "<Figure size 640x480 with 1 Axes>"
            ],
            "image/png": "[encoded data removed]"
          },
          "metadata": {}
        }
      ]
    },
    {
      "cell_type": "code",
      "source": [
        "#we see that the values are imbalance towards 1. therefore we need to rectify the imbalance the class col."
      ],
      "metadata": {
        "id": "mmY3NTLmTBLf"
      },
      "execution_count": null,
      "outputs": []
    },
    {
      "cell_type": "code",
      "source": [
        "#importing RandomOverSampler to manage the imbalance\n",
        "from imblearn.over_sampling import SMOTENC,RandomOverSampler\n",
        "x = df.drop(['Class'],axis=1)\n",
        "y = df['Class']\n",
        "r = RandomOverSampler()\n",
        "x_sampled,y_sampled  = r.fit_resample(x,y)"
      ],
      "metadata": {
        "id": "z3SMJHzvUBhN"
      },
      "execution_count": null,
      "outputs": []
    },
    {
      "cell_type": "code",
      "source": [
        "x_sampled = pd.DataFrame(data = x_sampled, columns = x.columns)\n",
        "x_sampled.head()"
      ],
      "metadata": {
        "colab": {
          "base_uri": "https://localhost:8080/",
          "height": 300
        },
        "id": "0ZXKK4QWUMsG",
        "outputId": "c5d797cd-34ed-4899-f8ec-6399392f0585"
      },
      "execution_count": null,
      "outputs": [
        {
          "output_type": "execute_result",
          "data": {
            "text/plain": [
              "  age  sex  on_thyroxine  query_on_thyroxine  on_antithyroid_medication  sick  \\\n",
              "0  41    0             0                   0                          0     0   \n",
              "1  23    0             0                   0                          0     0   \n",
              "2  46    1             0                   0                          0     0   \n",
              "3  70    0             1                   0                          0     0   \n",
              "4  70    0             0                   0                          0     0   \n",
              "\n",
              "   pregnant  thyroid_surgery  I131_treatment  query_hypothyroid  ...  \\\n",
              "0         0                0               0                  0  ...   \n",
              "1         0                0               0                  0  ...   \n",
              "2         0                0               0                  0  ...   \n",
              "3         0                0               0                  0  ...   \n",
              "4         0                0               0                  0  ...   \n",
              "\n",
              "   T3_measured  TT4_measured  T4U_measured  FTI_measured  TBG_measured  \\\n",
              "0            1             1             1             1             0   \n",
              "1            1             1             0             0             0   \n",
              "2            0             1             1             1             0   \n",
              "3            1             1             0             0             0   \n",
              "4            1             1             1             1             0   \n",
              "\n",
              "   referral_source_STMW  referral_source_SVHC  referral_source_SVHD  \\\n",
              "0                     0                     1                     0   \n",
              "1                     0                     0                     0   \n",
              "2                     0                     0                     0   \n",
              "3                     0                     0                     0   \n",
              "4                     0                     0                     0   \n",
              "\n",
              "   referral_source_SVI  referral_source_other  \n",
              "0                    0                      0  \n",
              "1                    0                      1  \n",
              "2                    0                      1  \n",
              "3                    0                      1  \n",
              "4                    1                      0  \n",
              "\n",
              "[5 rows x 27 columns]"
            ],
            "text/html": [
              "\n",
              "  <div id=\"df-97b7f196-6ee8-48f7-9e4d-af8747c4dd0b\">\n",
              "    <div class=\"colab-df-container\">\n",
              "      <div>\n",
              "<style scoped>\n",
              "    .dataframe tbody tr th:only-of-type {\n",
              "        vertical-align: middle;\n",
              "    }\n",
              "\n",
              "    .dataframe tbody tr th {\n",
              "        vertical-align: top;\n",
              "    }\n",
              "\n",
              "    .dataframe thead th {\n",
              "        text-align: right;\n",
              "    }\n",
              "</style>\n",
              "<table border=\"1\" class=\"dataframe\">\n",
              "  <thead>\n",
              "    <tr style=\"text-align: right;\">\n",
              "      <th></th>\n",
              "      <th>age</th>\n",
              "      <th>sex</th>\n",
              "      <th>on_thyroxine</th>\n",
              "      <th>query_on_thyroxine</th>\n",
              "      <th>on_antithyroid_medication</th>\n",
              "      <th>sick</th>\n",
              "      <th>pregnant</th>\n",
              "      <th>thyroid_surgery</th>\n",
              "      <th>I131_treatment</th>\n",
              "      <th>query_hypothyroid</th>\n",
              "      <th>...</th>\n",
              "      <th>T3_measured</th>\n",
              "      <th>TT4_measured</th>\n",
              "      <th>T4U_measured</th>\n",
              "      <th>FTI_measured</th>\n",
              "      <th>TBG_measured</th>\n",
              "      <th>referral_source_STMW</th>\n",
              "      <th>referral_source_SVHC</th>\n",
              "      <th>referral_source_SVHD</th>\n",
              "      <th>referral_source_SVI</th>\n",
              "      <th>referral_source_other</th>\n",
              "    </tr>\n",
              "  </thead>\n",
              "  <tbody>\n",
              "    <tr>\n",
              "      <th>0</th>\n",
              "      <td>41</td>\n",
              "      <td>0</td>\n",
              "      <td>0</td>\n",
              "      <td>0</td>\n",
              "      <td>0</td>\n",
              "      <td>0</td>\n",
              "      <td>0</td>\n",
              "      <td>0</td>\n",
              "      <td>0</td>\n",
              "      <td>0</td>\n",
              "      <td>...</td>\n",
              "      <td>1</td>\n",
              "      <td>1</td>\n",
              "      <td>1</td>\n",
              "      <td>1</td>\n",
              "      <td>0</td>\n",
              "      <td>0</td>\n",
              "      <td>1</td>\n",
              "      <td>0</td>\n",
              "      <td>0</td>\n",
              "      <td>0</td>\n",
              "    </tr>\n",
              "    <tr>\n",
              "      <th>1</th>\n",
              "      <td>23</td>\n",
              "      <td>0</td>\n",
              "      <td>0</td>\n",
              "      <td>0</td>\n",
              "      <td>0</td>\n",
              "      <td>0</td>\n",
              "      <td>0</td>\n",
              "      <td>0</td>\n",
              "      <td>0</td>\n",
              "      <td>0</td>\n",
              "      <td>...</td>\n",
              "      <td>1</td>\n",
              "      <td>1</td>\n",
              "      <td>0</td>\n",
              "      <td>0</td>\n",
              "      <td>0</td>\n",
              "      <td>0</td>\n",
              "      <td>0</td>\n",
              "      <td>0</td>\n",
              "      <td>0</td>\n",
              "      <td>1</td>\n",
              "    </tr>\n",
              "    <tr>\n",
              "      <th>2</th>\n",
              "      <td>46</td>\n",
              "      <td>1</td>\n",
              "      <td>0</td>\n",
              "      <td>0</td>\n",
              "      <td>0</td>\n",
              "      <td>0</td>\n",
              "      <td>0</td>\n",
              "      <td>0</td>\n",
              "      <td>0</td>\n",
              "      <td>0</td>\n",
              "      <td>...</td>\n",
              "      <td>0</td>\n",
              "      <td>1</td>\n",
              "      <td>1</td>\n",
              "      <td>1</td>\n",
              "      <td>0</td>\n",
              "      <td>0</td>\n",
              "      <td>0</td>\n",
              "      <td>0</td>\n",
              "      <td>0</td>\n",
              "      <td>1</td>\n",
              "    </tr>\n",
              "    <tr>\n",
              "      <th>3</th>\n",
              "      <td>70</td>\n",
              "      <td>0</td>\n",
              "      <td>1</td>\n",
              "      <td>0</td>\n",
              "      <td>0</td>\n",
              "      <td>0</td>\n",
              "      <td>0</td>\n",
              "      <td>0</td>\n",
              "      <td>0</td>\n",
              "      <td>0</td>\n",
              "      <td>...</td>\n",
              "      <td>1</td>\n",
              "      <td>1</td>\n",
              "      <td>0</td>\n",
              "      <td>0</td>\n",
              "      <td>0</td>\n",
              "      <td>0</td>\n",
              "      <td>0</td>\n",
              "      <td>0</td>\n",
              "      <td>0</td>\n",
              "      <td>1</td>\n",
              "    </tr>\n",
              "    <tr>\n",
              "      <th>4</th>\n",
              "      <td>70</td>\n",
              "      <td>0</td>\n",
              "      <td>0</td>\n",
              "      <td>0</td>\n",
              "      <td>0</td>\n",
              "      <td>0</td>\n",
              "      <td>0</td>\n",
              "      <td>0</td>\n",
              "      <td>0</td>\n",
              "      <td>0</td>\n",
              "      <td>...</td>\n",
              "      <td>1</td>\n",
              "      <td>1</td>\n",
              "      <td>1</td>\n",
              "      <td>1</td>\n",
              "      <td>0</td>\n",
              "      <td>0</td>\n",
              "      <td>0</td>\n",
              "      <td>0</td>\n",
              "      <td>1</td>\n",
              "      <td>0</td>\n",
              "    </tr>\n",
              "  </tbody>\n",
              "</table>\n",
              "<p>5 rows × 27 columns</p>\n",
              "</div>\n",
              "      <button class=\"colab-df-convert\" onclick=\"convertToInteractive('df-97b7f196-6ee8-48f7-9e4d-af8747c4dd0b')\"\n",
              "              title=\"Convert this dataframe to an interactive table.\"\n",
              "              style=\"display:none;\">\n",
              "        \n",
              "  <svg xmlns=\"http://www.w3.org/2000/svg\" height=\"24px\"viewBox=\"0 0 24 24\"\n",
              "       width=\"24px\">\n",
              "    <path d=\"M0 0h24v24H0V0z\" fill=\"none\"/>\n",
              "    <path d=\"M18.56 5.44l.94 2.06.94-2.06 2.06-.94-2.06-.94-.94-2.06-.94 2.06-2.06.94zm-11 1L8.5 8.5l.94-2.06 2.06-.94-2.06-.94L8.5 2.5l-.94 2.06-2.06.94zm10 10l.94 2.06.94-2.06 2.06-.94-2.06-.94-.94-2.06-.94 2.06-2.06.94z\"/><path d=\"M17.41 7.96l-1.37-1.37c-.4-.4-.92-.59-1.43-.59-.52 0-1.04.2-1.43.59L10.3 9.45l-7.72 7.72c-.78.78-.78 2.05 0 2.83L4 21.41c.39.39.9.59 1.41.59.51 0 1.02-.2 1.41-.59l7.78-7.78 2.81-2.81c.8-.78.8-2.07 0-2.86zM5.41 20L4 18.59l7.72-7.72 1.47 1.35L5.41 20z\"/>\n",
              "  </svg>\n",
              "      </button>\n",
              "      \n",
              "  <style>\n",
              "    .colab-df-container {\n",
              "      display:flex;\n",
              "      flex-wrap:wrap;\n",
              "      gap: 12px;\n",
              "    }\n",
              "\n",
              "    .colab-df-convert {\n",
              "      background-color: #E8F0FE;\n",
              "      border: none;\n",
              "      border-radius: 50%;\n",
              "      cursor: pointer;\n",
              "      display: none;\n",
              "      fill: #1967D2;\n",
              "      height: 32px;\n",
              "      padding: 0 0 0 0;\n",
              "      width: 32px;\n",
              "    }\n",
              "\n",
              "    .colab-df-convert:hover {\n",
              "      background-color: #E2EBFA;\n",
              "      box-shadow: 0px 1px 2px rgba(60, 64, 67, 0.3), 0px 1px 3px 1px rgba(60, 64, 67, 0.15);\n",
              "      fill: #174EA6;\n",
              "    }\n",
              "\n",
              "    [theme=dark] .colab-df-convert {\n",
              "      background-color: #3B4455;\n",
              "      fill: #D2E3FC;\n",
              "    }\n",
              "\n",
              "    [theme=dark] .colab-df-convert:hover {\n",
              "      background-color: #434B5C;\n",
              "      box-shadow: 0px 1px 3px 1px rgba(0, 0, 0, 0.15);\n",
              "      filter: drop-shadow(0px 1px 2px rgba(0, 0, 0, 0.3));\n",
              "      fill: #FFFFFF;\n",
              "    }\n",
              "  </style>\n",
              "\n",
              "      <script>\n",
              "        const buttonEl =\n",
              "          document.querySelector('#df-97b7f196-6ee8-48f7-9e4d-af8747c4dd0b button.colab-df-convert');\n",
              "        buttonEl.style.display =\n",
              "          google.colab.kernel.accessAllowed ? 'block' : 'none';\n",
              "\n",
              "        async function convertToInteractive(key) {\n",
              "          const element = document.querySelector('#df-97b7f196-6ee8-48f7-9e4d-af8747c4dd0b');\n",
              "          const dataTable =\n",
              "            await google.colab.kernel.invokeFunction('convertToInteractive',\n",
              "                                                     [key], {});\n",
              "          if (!dataTable) return;\n",
              "\n",
              "          const docLinkHtml = 'Like what you see? Visit the ' +\n",
              "            '<a target=\"_blank\" href=https://colab.research.google.com/notebooks/data_table.ipynb>data table notebook</a>'\n",
              "            + ' to learn more about interactive tables.';\n",
              "          element.innerHTML = '';\n",
              "          dataTable['output_type'] = 'display_data';\n",
              "          await google.colab.output.renderOutput(dataTable, element);\n",
              "          const docLink = document.createElement('div');\n",
              "          docLink.innerHTML = docLinkHtml;\n",
              "          element.appendChild(docLink);\n",
              "        }\n",
              "      </script>\n",
              "    </div>\n",
              "  </div>\n",
              "  "
            ]
          },
          "metadata": {},
          "execution_count": 109
        }
      ]
    },
    {
      "cell_type": "code",
      "source": [
        "x_sampled.shape\n"
      ],
      "metadata": {
        "colab": {
          "base_uri": "https://localhost:8080/"
        },
        "id": "lhx6YBCJZdDE",
        "outputId": "d7ec52f3-9047-4b8d-c9f8-3311dc637447"
      },
      "execution_count": null,
      "outputs": [
        {
          "output_type": "execute_result",
          "data": {
            "text/plain": [
              "(13364, 27)"
            ]
          },
          "metadata": {},
          "execution_count": 110
        }
      ]
    },
    {
      "cell_type": "code",
      "source": [
        "x_sampled.columns"
      ],
      "metadata": {
        "colab": {
          "base_uri": "https://localhost:8080/"
        },
        "id": "2UWQ1kpoaIu8",
        "outputId": "adf9fca5-0360-49a3-a766-cdfe2511e41b"
      },
      "execution_count": null,
      "outputs": [
        {
          "output_type": "execute_result",
          "data": {
            "text/plain": [
              "Index(['age', 'sex', 'on_thyroxine', 'query_on_thyroxine',\n",
              "       'on_antithyroid_medication', 'sick', 'pregnant', 'thyroid_surgery',\n",
              "       'I131_treatment', 'query_hypothyroid', 'query_hyperthyroid', 'lithium',\n",
              "       'goitre', 'tumor', 'hypopituitary', 'psych', 'TSH_measured',\n",
              "       'T3_measured', 'TT4_measured', 'T4U_measured', 'FTI_measured',\n",
              "       'TBG_measured', 'referral_source_STMW', 'referral_source_SVHC',\n",
              "       'referral_source_SVHD', 'referral_source_SVI', 'referral_source_other'],\n",
              "      dtype='object')"
            ]
          },
          "metadata": {},
          "execution_count": 111
        }
      ]
    },
    {
      "cell_type": "code",
      "source": [
        "y_sampled\n"
      ],
      "metadata": {
        "colab": {
          "base_uri": "https://localhost:8080/"
        },
        "id": "kqx4rttLYMdX",
        "outputId": "e75802f1-737d-46c5-c7d9-100dc45f6fe1"
      },
      "execution_count": null,
      "outputs": [
        {
          "output_type": "execute_result",
          "data": {
            "text/plain": [
              "0        1\n",
              "1        1\n",
              "2        1\n",
              "3        1\n",
              "4        1\n",
              "        ..\n",
              "13359    3\n",
              "13360    3\n",
              "13361    3\n",
              "13362    3\n",
              "13363    3\n",
              "Name: Class, Length: 13364, dtype: int64"
            ]
          },
          "metadata": {},
          "execution_count": 112
        }
      ]
    },
    {
      "cell_type": "code",
      "source": [
        "import matplotlib.pyplot as plt\n",
        "sns.countplot(x=y_sampled)\n",
        "plt.show()"
      ],
      "metadata": {
        "colab": {
          "base_uri": "https://localhost:8080/",
          "height": 454
        },
        "id": "prAlyhnXa2jJ",
        "outputId": "e16b0116-22ae-4728-89fc-46fac4c777ee"
      },
      "execution_count": null,
      "outputs": [
        {
          "output_type": "display_data",
          "data": {
            "text/plain": [
              "<Figure size 640x480 with 1 Axes>"
            ],
            "image/png": "[encoded data removed]"
          },
          "metadata": {}
        }
      ]
    },
    {
      "cell_type": "markdown",
      "source": [
        "#implementing ml algorithms for prediction\n"
      ],
      "metadata": {
        "id": "7o5VNleW9pSp"
      }
    },
    {
      "cell_type": "code",
      "source": [
        "from sklearn.ensemble import RandomForestClassifier\n",
        "from sklearn.model_selection import GridSearchCV\n",
        "from sklearn import metrics\n",
        "from sklearn.metrics  import roc_auc_score,accuracy_score"
      ],
      "metadata": {
        "id": "eqjjz0hEeN4F"
      },
      "execution_count": null,
      "outputs": []
    },
    {
      "cell_type": "code",
      "source": [
        "from sklearn.model_selection import train_test_split\n",
        "from sklearn.metrics import confusion_matrix, classification_report\n",
        "X_train, X_test, y_train, y_test = train_test_split(x_sampled, y_sampled, test_size=0.3, random_state=2)"
      ],
      "metadata": {
        "id": "AJnjKnIohqPU"
      },
      "execution_count": null,
      "outputs": []
    },
    {
      "cell_type": "code",
      "source": [
        "rfc_model = RandomForestClassifier(n_estimators=1000)"
      ],
      "metadata": {
        "id": "N67iw8ujiUGO"
      },
      "execution_count": null,
      "outputs": []
    },
    {
      "cell_type": "code",
      "source": [
        "rfc_model.fit(X_train, y_train)"
      ],
      "metadata": {
        "colab": {
          "base_uri": "https://localhost:8080/",
          "height": 75
        },
        "id": "xrca1WmEiwqf",
        "outputId": "97cf665d-2aab-477f-e00b-d7d1d0e66614"
      },
      "execution_count": null,
      "outputs": [
        {
          "output_type": "execute_result",
          "data": {
            "text/plain": [
              "RandomForestClassifier(n_estimators=1000)"
            ],
            "text/html": [
              "<style>#sk-container-id-2 {color: black;background-color: white;}#sk-container-id-2 pre{padding: 0;}#sk-container-id-2 div.sk-toggleable {background-color: white;}#sk-container-id-2 label.sk-toggleable__label {cursor: pointer;display: block;width: 100%;margin-bottom: 0;padding: 0.3em;box-sizing: border-box;text-align: center;}#sk-container-id-2 label.sk-toggleable__label-arrow:before {content: \"▸\";float: left;margin-right: 0.25em;color: #696969;}#sk-container-id-2 label.sk-toggleable__label-arrow:hover:before {color: black;}#sk-container-id-2 div.sk-estimator:hover label.sk-toggleable__label-arrow:before {color: black;}#sk-container-id-2 div.sk-toggleable__content {max-height: 0;max-width: 0;overflow: hidden;text-align: left;background-color: #f0f8ff;}#sk-container-id-2 div.sk-toggleable__content pre {margin: 0.2em;color: black;border-radius: 0.25em;background-color: #f0f8ff;}#sk-container-id-2 input.sk-toggleable__control:checked~div.sk-toggleable__content {max-height: 200px;max-width: 100%;overflow: auto;}#sk-container-id-2 input.sk-toggleable__control:checked~label.sk-toggleable__label-arrow:before {content: \"▾\";}#sk-container-id-2 div.sk-estimator input.sk-toggleable__control:checked~label.sk-toggleable__label {background-color: #d4ebff;}#sk-container-id-2 div.sk-label input.sk-toggleable__control:checked~label.sk-toggleable__label {background-color: #d4ebff;}#sk-container-id-2 input.sk-hidden--visually {border: 0;clip: rect(1px 1px 1px 1px);clip: rect(1px, 1px, 1px, 1px);height: 1px;margin: -1px;overflow: hidden;padding: 0;position: absolute;width: 1px;}#sk-container-id-2 div.sk-estimator {font-family: monospace;background-color: #f0f8ff;border: 1px dotted black;border-radius: 0.25em;box-sizing: border-box;margin-bottom: 0.5em;}#sk-container-id-2 div.sk-estimator:hover {background-color: #d4ebff;}#sk-container-id-2 div.sk-parallel-item::after {content: \"\";width: 100%;border-bottom: 1px solid gray;flex-grow: 1;}#sk-container-id-2 div.sk-label:hover label.sk-toggleable__label {background-color: #d4ebff;}#sk-container-id-2 div.sk-serial::before {content: \"\";position: absolute;border-left: 1px solid gray;box-sizing: border-box;top: 0;bottom: 0;left: 50%;z-index: 0;}#sk-container-id-2 div.sk-serial {display: flex;flex-direction: column;align-items: center;background-color: white;padding-right: 0.2em;padding-left: 0.2em;position: relative;}#sk-container-id-2 div.sk-item {position: relative;z-index: 1;}#sk-container-id-2 div.sk-parallel {display: flex;align-items: stretch;justify-content: center;background-color: white;position: relative;}#sk-container-id-2 div.sk-item::before, #sk-container-id-2 div.sk-parallel-item::before {content: \"\";position: absolute;border-left: 1px solid gray;box-sizing: border-box;top: 0;bottom: 0;left: 50%;z-index: -1;}#sk-container-id-2 div.sk-parallel-item {display: flex;flex-direction: column;z-index: 1;position: relative;background-color: white;}#sk-container-id-2 div.sk-parallel-item:first-child::after {align-self: flex-end;width: 50%;}#sk-container-id-2 div.sk-parallel-item:last-child::after {align-self: flex-start;width: 50%;}#sk-container-id-2 div.sk-parallel-item:only-child::after {width: 0;}#sk-container-id-2 div.sk-dashed-wrapped {border: 1px dashed gray;margin: 0 0.4em 0.5em 0.4em;box-sizing: border-box;padding-bottom: 0.4em;background-color: white;}#sk-container-id-2 div.sk-label label {font-family: monospace;font-weight: bold;display: inline-block;line-height: 1.2em;}#sk-container-id-2 div.sk-label-container {text-align: center;}#sk-container-id-2 div.sk-container {/* jupyter's `normalize.less` sets `[hidden] { display: none; }` but bootstrap.min.css set `[hidden] { display: none !important; }` so we also need the `!important` here to be able to override the default hidden behavior on the sphinx rendered scikit-learn.org. See: https://github.com/scikit-learn/scikit-learn/issues/21755 */display: inline-block !important;position: relative;}#sk-container-id-2 div.sk-text-repr-fallback {display: none;}</style><div id=\"sk-container-id-2\" class=\"sk-top-container\"><div class=\"sk-text-repr-fallback\"><pre>RandomForestClassifier(n_estimators=1000)</pre><b>In a Jupyter environment, please rerun this cell to show the HTML representation or trust the notebook. <br />On GitHub, the HTML representation is unable to render, please try loading this page with nbviewer.org.</b></div><div class=\"sk-container\" hidden><div class=\"sk-item\"><div class=\"sk-estimator sk-toggleable\"><input class=\"sk-toggleable__control sk-hidden--visually\" id=\"sk-estimator-id-2\" type=\"checkbox\" checked><label for=\"sk-estimator-id-2\" class=\"sk-toggleable__label sk-toggleable__label-arrow\">RandomForestClassifier</label><div class=\"sk-toggleable__content\"><pre>RandomForestClassifier(n_estimators=1000)</pre></div></div></div></div></div>"
            ]
          },
          "metadata": {},
          "execution_count": 128
        }
      ]
    },
    {
      "cell_type": "code",
      "source": [
        "rfc_pred = rfc_model.predict(X_test)"
      ],
      "metadata": {
        "id": "ulMXfa5rizp1"
      },
      "execution_count": null,
      "outputs": []
    },
    {
      "cell_type": "code",
      "source": [
        "#checking evaluation metrics\n",
        "print(confusion_matrix(y_test, rfc_pred))"
      ],
      "metadata": {
        "colab": {
          "base_uri": "https://localhost:8080/"
        },
        "id": "dANEKDiVi3-_",
        "outputId": "63dd3c4a-c050-47c4-9397-fd8b61ad6e0f"
      },
      "execution_count": null,
      "outputs": [
        {
          "output_type": "stream",
          "name": "stdout",
          "text": [
            "[[ 884    0  109    3]\n",
            " [ 155  782   93    2]\n",
            " [  50    0  927    0]\n",
            " [   0    0    0 1005]]\n"
          ]
        }
      ]
    },
    {
      "cell_type": "code",
      "source": [
        "print(classification_report(y_test, rfc_pred))"
      ],
      "metadata": {
        "colab": {
          "base_uri": "https://localhost:8080/"
        },
        "id": "1zzpwmSvi6uA",
        "outputId": "e80c2a19-1297-4b1c-f1c1-c9bf6013a0fd"
      },
      "execution_count": null,
      "outputs": [
        {
          "output_type": "stream",
          "name": "stdout",
          "text": [
            "              precision    recall  f1-score   support\n",
            "\n",
            "           0       0.81      0.89      0.85       996\n",
            "           1       1.00      0.76      0.86      1032\n",
            "           2       0.82      0.95      0.88       977\n",
            "           3       1.00      1.00      1.00      1005\n",
            "\n",
            "    accuracy                           0.90      4010\n",
            "   macro avg       0.91      0.90      0.90      4010\n",
            "weighted avg       0.91      0.90      0.90      4010\n",
            "\n"
          ]
        }
      ]
    },
    {
      "cell_type": "code",
      "source": [
        "from sklearn.ensemble import RandomForestClassifier\n",
        "from sklearn.model_selection import GridSearchCV\n",
        "\n",
        "def get_best_params_for_random_forest(train_x, train_y):\n",
        "    \"\"\"\n",
        "    Method Name: get_best_params_for_random_forest\n",
        "    Description: Get the parameters for Random Forest Algorithm which give the best accuracy.\n",
        "                 Use Hyperparameter Tuning.\n",
        "    Output: The model with the best parameters\n",
        "    On Failure: Raise an Exception\n",
        "    \"\"\"\n",
        "    print('Entered the get_best_params_for_random_forest method')\n",
        "\n",
        "    try:\n",
        "        # Initialize with different combinations of parameters\n",
        "        param_grid = {\n",
        "            \"n_estimators\": [10, 50, 100, 130],\n",
        "            \"criterion\": ['gini', 'entropy'],\n",
        "            \"max_depth\": range(2, 4, 1),\n",
        "            \"max_features\": ['auto', 'log2']\n",
        "        }\n",
        "\n",
        "        clf = RandomForestClassifier()\n",
        "\n",
        "        # Create an object of the Grid Search class\n",
        "        grid = GridSearchCV(estimator=clf, param_grid=param_grid, cv=5, verbose=3)\n",
        "\n",
        "        # Find the best parameters\n",
        "        grid.fit(train_x, train_y)\n",
        "\n",
        "        # Extract the best parameters\n",
        "        best_params = grid.best_params_\n",
        "        criterion = best_params['criterion']\n",
        "        max_depth = best_params['max_depth']\n",
        "        max_features = best_params['max_features']\n",
        "        n_estimators = best_params['n_estimators']\n",
        "\n",
        "        # Create a new model with the best parameters\n",
        "        clf = RandomForestClassifier(n_estimators=n_estimators, criterion=criterion,\n",
        "                                     max_depth=max_depth, max_features=max_features)\n",
        "\n",
        "        # Train the new model\n",
        "        clf.fit(train_x, train_y)\n",
        "\n",
        "        print('Random Forest best params:', best_params)\n",
        "        print('Exited the get_best_params_for_random_forest method')\n",
        "\n",
        "        return clf\n",
        "\n",
        "    except Exception as e:\n",
        "        raise Exception(\"Error occurred during parameter tuning\")\n"
      ],
      "metadata": {
        "id": "4fZYdPRvjKhS"
      },
      "execution_count": null,
      "outputs": []
    },
    {
      "cell_type": "code",
      "source": [
        "random_forest_classifier = get_best_params_for_random_forest(X_train,y_train)"
      ],
      "metadata": {
        "colab": {
          "base_uri": "https://localhost:8080/"
        },
        "id": "9MSGM3S1eV1s",
        "outputId": "bc4417ef-c24f-45af-d920-6354f019a5fc"
      },
      "execution_count": null,
      "outputs": [
        {
          "output_type": "stream",
          "name": "stdout",
          "text": [
            "Entered the get_best_params_for_random_forest method\n",
            "Fitting 5 folds for each of 32 candidates, totalling 160 fits\n",
            "[CV 1/5] END criterion=gini, max_depth=2, max_features=auto, n_estimators=10;, score=0.503 total time=   0.0s\n",
            "[CV 2/5] END criterion=gini, max_depth=2, max_features=auto, n_estimators=10;, score=0.421 total time=   0.0s\n",
            "[CV 3/5] END criterion=gini, max_depth=2, max_features=auto, n_estimators=10;, score=0.559 total time=   0.0s\n",
            "[CV 4/5] END criterion=gini, max_depth=2, max_features=auto, n_estimators=10;, score=0.502 total time=   0.0s\n"
          ]
        },
        {
          "output_type": "stream",
          "name": "stderr",
          "text": [
            "/usr/local/lib/python3.10/dist-packages/sklearn/ensemble/_forest.py:424: FutureWarning: `max_features='auto'` has been deprecated in 1.1 and will be removed in 1.3. To keep the past behaviour, explicitly set `max_features='sqrt'` or remove this parameter as it is also the default value for RandomForestClassifiers and ExtraTreesClassifiers.\n",
            "  warn(\n",
            "/usr/local/lib/python3.10/dist-packages/sklearn/ensemble/_forest.py:424: FutureWarning: `max_features='auto'` has been deprecated in 1.1 and will be removed in 1.3. To keep the past behaviour, explicitly set `max_features='sqrt'` or remove this parameter as it is also the default value for RandomForestClassifiers and ExtraTreesClassifiers.\n",
            "  warn(\n",
            "/usr/local/lib/python3.10/dist-packages/sklearn/ensemble/_forest.py:424: FutureWarning: `max_features='auto'` has been deprecated in 1.1 and will be removed in 1.3. To keep the past behaviour, explicitly set `max_features='sqrt'` or remove this parameter as it is also the default value for RandomForestClassifiers and ExtraTreesClassifiers.\n",
            "  warn(\n",
            "/usr/local/lib/python3.10/dist-packages/sklearn/ensemble/_forest.py:424: FutureWarning: `max_features='auto'` has been deprecated in 1.1 and will be removed in 1.3. To keep the past behaviour, explicitly set `max_features='sqrt'` or remove this parameter as it is also the default value for RandomForestClassifiers and ExtraTreesClassifiers.\n",
            "  warn(\n",
            "/usr/local/lib/python3.10/dist-packages/sklearn/ensemble/_forest.py:424: FutureWarning: `max_features='auto'` has been deprecated in 1.1 and will be removed in 1.3. To keep the past behaviour, explicitly set `max_features='sqrt'` or remove this parameter as it is also the default value for RandomForestClassifiers and ExtraTreesClassifiers.\n",
            "  warn(\n"
          ]
        },
        {
          "output_type": "stream",
          "name": "stdout",
          "text": [
            "[CV 5/5] END criterion=gini, max_depth=2, max_features=auto, n_estimators=10;, score=0.505 total time=   0.0s\n",
            "[CV 1/5] END criterion=gini, max_depth=2, max_features=auto, n_estimators=50;, score=0.530 total time=   0.1s\n"
          ]
        },
        {
          "output_type": "stream",
          "name": "stderr",
          "text": [
            "/usr/local/lib/python3.10/dist-packages/sklearn/ensemble/_forest.py:424: FutureWarning: `max_features='auto'` has been deprecated in 1.1 and will be removed in 1.3. To keep the past behaviour, explicitly set `max_features='sqrt'` or remove this parameter as it is also the default value for RandomForestClassifiers and ExtraTreesClassifiers.\n",
            "  warn(\n",
            "/usr/local/lib/python3.10/dist-packages/sklearn/ensemble/_forest.py:424: FutureWarning: `max_features='auto'` has been deprecated in 1.1 and will be removed in 1.3. To keep the past behaviour, explicitly set `max_features='sqrt'` or remove this parameter as it is also the default value for RandomForestClassifiers and ExtraTreesClassifiers.\n",
            "  warn(\n"
          ]
        },
        {
          "output_type": "stream",
          "name": "stdout",
          "text": [
            "[CV 2/5] END criterion=gini, max_depth=2, max_features=auto, n_estimators=50;, score=0.536 total time=   0.1s\n",
            "[CV 3/5] END criterion=gini, max_depth=2, max_features=auto, n_estimators=50;, score=0.578 total time=   0.1s\n"
          ]
        },
        {
          "output_type": "stream",
          "name": "stderr",
          "text": [
            "/usr/local/lib/python3.10/dist-packages/sklearn/ensemble/_forest.py:424: FutureWarning: `max_features='auto'` has been deprecated in 1.1 and will be removed in 1.3. To keep the past behaviour, explicitly set `max_features='sqrt'` or remove this parameter as it is also the default value for RandomForestClassifiers and ExtraTreesClassifiers.\n",
            "  warn(\n",
            "/usr/local/lib/python3.10/dist-packages/sklearn/ensemble/_forest.py:424: FutureWarning: `max_features='auto'` has been deprecated in 1.1 and will be removed in 1.3. To keep the past behaviour, explicitly set `max_features='sqrt'` or remove this parameter as it is also the default value for RandomForestClassifiers and ExtraTreesClassifiers.\n",
            "  warn(\n"
          ]
        },
        {
          "output_type": "stream",
          "name": "stdout",
          "text": [
            "[CV 4/5] END criterion=gini, max_depth=2, max_features=auto, n_estimators=50;, score=0.561 total time=   0.2s\n",
            "[CV 5/5] END criterion=gini, max_depth=2, max_features=auto, n_estimators=50;, score=0.532 total time=   0.2s\n"
          ]
        },
        {
          "output_type": "stream",
          "name": "stderr",
          "text": [
            "/usr/local/lib/python3.10/dist-packages/sklearn/ensemble/_forest.py:424: FutureWarning: `max_features='auto'` has been deprecated in 1.1 and will be removed in 1.3. To keep the past behaviour, explicitly set `max_features='sqrt'` or remove this parameter as it is also the default value for RandomForestClassifiers and ExtraTreesClassifiers.\n",
            "  warn(\n",
            "/usr/local/lib/python3.10/dist-packages/sklearn/ensemble/_forest.py:424: FutureWarning: `max_features='auto'` has been deprecated in 1.1 and will be removed in 1.3. To keep the past behaviour, explicitly set `max_features='sqrt'` or remove this parameter as it is also the default value for RandomForestClassifiers and ExtraTreesClassifiers.\n",
            "  warn(\n"
          ]
        },
        {
          "output_type": "stream",
          "name": "stdout",
          "text": [
            "[CV 1/5] END criterion=gini, max_depth=2, max_features=auto, n_estimators=100;, score=0.546 total time=   0.3s\n"
          ]
        },
        {
          "output_type": "stream",
          "name": "stderr",
          "text": [
            "/usr/local/lib/python3.10/dist-packages/sklearn/ensemble/_forest.py:424: FutureWarning: `max_features='auto'` has been deprecated in 1.1 and will be removed in 1.3. To keep the past behaviour, explicitly set `max_features='sqrt'` or remove this parameter as it is also the default value for RandomForestClassifiers and ExtraTreesClassifiers.\n",
            "  warn(\n"
          ]
        },
        {
          "output_type": "stream",
          "name": "stdout",
          "text": [
            "[CV 2/5] END criterion=gini, max_depth=2, max_features=auto, n_estimators=100;, score=0.536 total time=   0.3s\n"
          ]
        },
        {
          "output_type": "stream",
          "name": "stderr",
          "text": [
            "/usr/local/lib/python3.10/dist-packages/sklearn/ensemble/_forest.py:424: FutureWarning: `max_features='auto'` has been deprecated in 1.1 and will be removed in 1.3. To keep the past behaviour, explicitly set `max_features='sqrt'` or remove this parameter as it is also the default value for RandomForestClassifiers and ExtraTreesClassifiers.\n",
            "  warn(\n"
          ]
        },
        {
          "output_type": "stream",
          "name": "stdout",
          "text": [
            "[CV 3/5] END criterion=gini, max_depth=2, max_features=auto, n_estimators=100;, score=0.555 total time=   0.3s\n"
          ]
        },
        {
          "output_type": "stream",
          "name": "stderr",
          "text": [
            "/usr/local/lib/python3.10/dist-packages/sklearn/ensemble/_forest.py:424: FutureWarning: `max_features='auto'` has been deprecated in 1.1 and will be removed in 1.3. To keep the past behaviour, explicitly set `max_features='sqrt'` or remove this parameter as it is also the default value for RandomForestClassifiers and ExtraTreesClassifiers.\n",
            "  warn(\n"
          ]
        },
        {
          "output_type": "stream",
          "name": "stdout",
          "text": [
            "[CV 4/5] END criterion=gini, max_depth=2, max_features=auto, n_estimators=100;, score=0.541 total time=   0.3s\n"
          ]
        },
        {
          "output_type": "stream",
          "name": "stderr",
          "text": [
            "/usr/local/lib/python3.10/dist-packages/sklearn/ensemble/_forest.py:424: FutureWarning: `max_features='auto'` has been deprecated in 1.1 and will be removed in 1.3. To keep the past behaviour, explicitly set `max_features='sqrt'` or remove this parameter as it is also the default value for RandomForestClassifiers and ExtraTreesClassifiers.\n",
            "  warn(\n"
          ]
        },
        {
          "output_type": "stream",
          "name": "stdout",
          "text": [
            "[CV 5/5] END criterion=gini, max_depth=2, max_features=auto, n_estimators=100;, score=0.550 total time=   0.3s\n"
          ]
        },
        {
          "output_type": "stream",
          "name": "stderr",
          "text": [
            "/usr/local/lib/python3.10/dist-packages/sklearn/ensemble/_forest.py:424: FutureWarning: `max_features='auto'` has been deprecated in 1.1 and will be removed in 1.3. To keep the past behaviour, explicitly set `max_features='sqrt'` or remove this parameter as it is also the default value for RandomForestClassifiers and ExtraTreesClassifiers.\n",
            "  warn(\n"
          ]
        },
        {
          "output_type": "stream",
          "name": "stdout",
          "text": [
            "[CV 1/5] END criterion=gini, max_depth=2, max_features=auto, n_estimators=130;, score=0.536 total time=   0.3s\n"
          ]
        },
        {
          "output_type": "stream",
          "name": "stderr",
          "text": [
            "/usr/local/lib/python3.10/dist-packages/sklearn/ensemble/_forest.py:424: FutureWarning: `max_features='auto'` has been deprecated in 1.1 and will be removed in 1.3. To keep the past behaviour, explicitly set `max_features='sqrt'` or remove this parameter as it is also the default value for RandomForestClassifiers and ExtraTreesClassifiers.\n",
            "  warn(\n"
          ]
        },
        {
          "output_type": "stream",
          "name": "stdout",
          "text": [
            "[CV 2/5] END criterion=gini, max_depth=2, max_features=auto, n_estimators=130;, score=0.544 total time=   0.3s\n"
          ]
        },
        {
          "output_type": "stream",
          "name": "stderr",
          "text": [
            "/usr/local/lib/python3.10/dist-packages/sklearn/ensemble/_forest.py:424: FutureWarning: `max_features='auto'` has been deprecated in 1.1 and will be removed in 1.3. To keep the past behaviour, explicitly set `max_features='sqrt'` or remove this parameter as it is also the default value for RandomForestClassifiers and ExtraTreesClassifiers.\n",
            "  warn(\n"
          ]
        },
        {
          "output_type": "stream",
          "name": "stdout",
          "text": [
            "[CV 3/5] END criterion=gini, max_depth=2, max_features=auto, n_estimators=130;, score=0.591 total time=   0.3s\n"
          ]
        },
        {
          "output_type": "stream",
          "name": "stderr",
          "text": [
            "/usr/local/lib/python3.10/dist-packages/sklearn/ensemble/_forest.py:424: FutureWarning: `max_features='auto'` has been deprecated in 1.1 and will be removed in 1.3. To keep the past behaviour, explicitly set `max_features='sqrt'` or remove this parameter as it is also the default value for RandomForestClassifiers and ExtraTreesClassifiers.\n",
            "  warn(\n"
          ]
        },
        {
          "output_type": "stream",
          "name": "stdout",
          "text": [
            "[CV 4/5] END criterion=gini, max_depth=2, max_features=auto, n_estimators=130;, score=0.562 total time=   0.3s\n"
          ]
        },
        {
          "output_type": "stream",
          "name": "stderr",
          "text": [
            "/usr/local/lib/python3.10/dist-packages/sklearn/ensemble/_forest.py:424: FutureWarning: `max_features='auto'` has been deprecated in 1.1 and will be removed in 1.3. To keep the past behaviour, explicitly set `max_features='sqrt'` or remove this parameter as it is also the default value for RandomForestClassifiers and ExtraTreesClassifiers.\n",
            "  warn(\n"
          ]
        },
        {
          "output_type": "stream",
          "name": "stdout",
          "text": [
            "[CV 5/5] END criterion=gini, max_depth=2, max_features=auto, n_estimators=130;, score=0.544 total time=   0.3s\n",
            "[CV 1/5] END criterion=gini, max_depth=2, max_features=log2, n_estimators=10;, score=0.513 total time=   0.0s\n",
            "[CV 2/5] END criterion=gini, max_depth=2, max_features=log2, n_estimators=10;, score=0.491 total time=   0.0s\n",
            "[CV 3/5] END criterion=gini, max_depth=2, max_features=log2, n_estimators=10;, score=0.494 total time=   0.0s\n",
            "[CV 4/5] END criterion=gini, max_depth=2, max_features=log2, n_estimators=10;, score=0.457 total time=   0.0s\n",
            "[CV 5/5] END criterion=gini, max_depth=2, max_features=log2, n_estimators=10;, score=0.505 total time=   0.0s\n",
            "[CV 1/5] END criterion=gini, max_depth=2, max_features=log2, n_estimators=50;, score=0.580 total time=   0.1s\n",
            "[CV 2/5] END criterion=gini, max_depth=2, max_features=log2, n_estimators=50;, score=0.580 total time=   0.1s\n",
            "[CV 3/5] END criterion=gini, max_depth=2, max_features=log2, n_estimators=50;, score=0.602 total time=   0.1s\n",
            "[CV 4/5] END criterion=gini, max_depth=2, max_features=log2, n_estimators=50;, score=0.559 total time=   0.1s\n",
            "[CV 5/5] END criterion=gini, max_depth=2, max_features=log2, n_estimators=50;, score=0.519 total time=   0.1s\n",
            "[CV 1/5] END criterion=gini, max_depth=2, max_features=log2, n_estimators=100;, score=0.536 total time=   0.2s\n",
            "[CV 2/5] END criterion=gini, max_depth=2, max_features=log2, n_estimators=100;, score=0.549 total time=   0.2s\n",
            "[CV 3/5] END criterion=gini, max_depth=2, max_features=log2, n_estimators=100;, score=0.565 total time=   0.2s\n",
            "[CV 4/5] END criterion=gini, max_depth=2, max_features=log2, n_estimators=100;, score=0.558 total time=   0.2s\n",
            "[CV 5/5] END criterion=gini, max_depth=2, max_features=log2, n_estimators=100;, score=0.545 total time=   0.2s\n",
            "[CV 1/5] END criterion=gini, max_depth=2, max_features=log2, n_estimators=130;, score=0.476 total time=   0.3s\n",
            "[CV 2/5] END criterion=gini, max_depth=2, max_features=log2, n_estimators=130;, score=0.544 total time=   0.3s\n",
            "[CV 3/5] END criterion=gini, max_depth=2, max_features=log2, n_estimators=130;, score=0.557 total time=   0.3s\n",
            "[CV 4/5] END criterion=gini, max_depth=2, max_features=log2, n_estimators=130;, score=0.537 total time=   0.3s\n",
            "[CV 5/5] END criterion=gini, max_depth=2, max_features=log2, n_estimators=130;, score=0.548 total time=   0.3s\n",
            "[CV 1/5] END criterion=gini, max_depth=3, max_features=auto, n_estimators=10;, score=0.574 total time=   0.0s\n",
            "[CV 2/5] END criterion=gini, max_depth=3, max_features=auto, n_estimators=10;, score=0.621 total time=   0.0s\n",
            "[CV 3/5] END criterion=gini, max_depth=3, max_features=auto, n_estimators=10;, score=0.514 total time=   0.0s\n",
            "[CV 4/5] END criterion=gini, max_depth=3, max_features=auto, n_estimators=10;, score=0.628 total time=   0.0s\n"
          ]
        },
        {
          "output_type": "stream",
          "name": "stderr",
          "text": [
            "/usr/local/lib/python3.10/dist-packages/sklearn/ensemble/_forest.py:424: FutureWarning: `max_features='auto'` has been deprecated in 1.1 and will be removed in 1.3. To keep the past behaviour, explicitly set `max_features='sqrt'` or remove this parameter as it is also the default value for RandomForestClassifiers and ExtraTreesClassifiers.\n",
            "  warn(\n",
            "/usr/local/lib/python3.10/dist-packages/sklearn/ensemble/_forest.py:424: FutureWarning: `max_features='auto'` has been deprecated in 1.1 and will be removed in 1.3. To keep the past behaviour, explicitly set `max_features='sqrt'` or remove this parameter as it is also the default value for RandomForestClassifiers and ExtraTreesClassifiers.\n",
            "  warn(\n",
            "/usr/local/lib/python3.10/dist-packages/sklearn/ensemble/_forest.py:424: FutureWarning: `max_features='auto'` has been deprecated in 1.1 and will be removed in 1.3. To keep the past behaviour, explicitly set `max_features='sqrt'` or remove this parameter as it is also the default value for RandomForestClassifiers and ExtraTreesClassifiers.\n",
            "  warn(\n",
            "/usr/local/lib/python3.10/dist-packages/sklearn/ensemble/_forest.py:424: FutureWarning: `max_features='auto'` has been deprecated in 1.1 and will be removed in 1.3. To keep the past behaviour, explicitly set `max_features='sqrt'` or remove this parameter as it is also the default value for RandomForestClassifiers and ExtraTreesClassifiers.\n",
            "  warn(\n",
            "/usr/local/lib/python3.10/dist-packages/sklearn/ensemble/_forest.py:424: FutureWarning: `max_features='auto'` has been deprecated in 1.1 and will be removed in 1.3. To keep the past behaviour, explicitly set `max_features='sqrt'` or remove this parameter as it is also the default value for RandomForestClassifiers and ExtraTreesClassifiers.\n",
            "  warn(\n"
          ]
        },
        {
          "output_type": "stream",
          "name": "stdout",
          "text": [
            "[CV 5/5] END criterion=gini, max_depth=3, max_features=auto, n_estimators=10;, score=0.576 total time=   0.0s\n",
            "[CV 1/5] END criterion=gini, max_depth=3, max_features=auto, n_estimators=50;, score=0.571 total time=   0.1s\n"
          ]
        },
        {
          "output_type": "stream",
          "name": "stderr",
          "text": [
            "/usr/local/lib/python3.10/dist-packages/sklearn/ensemble/_forest.py:424: FutureWarning: `max_features='auto'` has been deprecated in 1.1 and will be removed in 1.3. To keep the past behaviour, explicitly set `max_features='sqrt'` or remove this parameter as it is also the default value for RandomForestClassifiers and ExtraTreesClassifiers.\n",
            "  warn(\n",
            "/usr/local/lib/python3.10/dist-packages/sklearn/ensemble/_forest.py:424: FutureWarning: `max_features='auto'` has been deprecated in 1.1 and will be removed in 1.3. To keep the past behaviour, explicitly set `max_features='sqrt'` or remove this parameter as it is also the default value for RandomForestClassifiers and ExtraTreesClassifiers.\n",
            "  warn(\n"
          ]
        },
        {
          "output_type": "stream",
          "name": "stdout",
          "text": [
            "[CV 2/5] END criterion=gini, max_depth=3, max_features=auto, n_estimators=50;, score=0.564 total time=   0.1s\n",
            "[CV 3/5] END criterion=gini, max_depth=3, max_features=auto, n_estimators=50;, score=0.626 total time=   0.1s\n"
          ]
        },
        {
          "output_type": "stream",
          "name": "stderr",
          "text": [
            "/usr/local/lib/python3.10/dist-packages/sklearn/ensemble/_forest.py:424: FutureWarning: `max_features='auto'` has been deprecated in 1.1 and will be removed in 1.3. To keep the past behaviour, explicitly set `max_features='sqrt'` or remove this parameter as it is also the default value for RandomForestClassifiers and ExtraTreesClassifiers.\n",
            "  warn(\n",
            "/usr/local/lib/python3.10/dist-packages/sklearn/ensemble/_forest.py:424: FutureWarning: `max_features='auto'` has been deprecated in 1.1 and will be removed in 1.3. To keep the past behaviour, explicitly set `max_features='sqrt'` or remove this parameter as it is also the default value for RandomForestClassifiers and ExtraTreesClassifiers.\n",
            "  warn(\n"
          ]
        },
        {
          "output_type": "stream",
          "name": "stdout",
          "text": [
            "[CV 4/5] END criterion=gini, max_depth=3, max_features=auto, n_estimators=50;, score=0.586 total time=   0.1s\n",
            "[CV 5/5] END criterion=gini, max_depth=3, max_features=auto, n_estimators=50;, score=0.555 total time=   0.1s\n"
          ]
        },
        {
          "output_type": "stream",
          "name": "stderr",
          "text": [
            "/usr/local/lib/python3.10/dist-packages/sklearn/ensemble/_forest.py:424: FutureWarning: `max_features='auto'` has been deprecated in 1.1 and will be removed in 1.3. To keep the past behaviour, explicitly set `max_features='sqrt'` or remove this parameter as it is also the default value for RandomForestClassifiers and ExtraTreesClassifiers.\n",
            "  warn(\n",
            "/usr/local/lib/python3.10/dist-packages/sklearn/ensemble/_forest.py:424: FutureWarning: `max_features='auto'` has been deprecated in 1.1 and will be removed in 1.3. To keep the past behaviour, explicitly set `max_features='sqrt'` or remove this parameter as it is also the default value for RandomForestClassifiers and ExtraTreesClassifiers.\n",
            "  warn(\n"
          ]
        },
        {
          "output_type": "stream",
          "name": "stdout",
          "text": [
            "[CV 1/5] END criterion=gini, max_depth=3, max_features=auto, n_estimators=100;, score=0.592 total time=   0.2s\n"
          ]
        },
        {
          "output_type": "stream",
          "name": "stderr",
          "text": [
            "/usr/local/lib/python3.10/dist-packages/sklearn/ensemble/_forest.py:424: FutureWarning: `max_features='auto'` has been deprecated in 1.1 and will be removed in 1.3. To keep the past behaviour, explicitly set `max_features='sqrt'` or remove this parameter as it is also the default value for RandomForestClassifiers and ExtraTreesClassifiers.\n",
            "  warn(\n"
          ]
        },
        {
          "output_type": "stream",
          "name": "stdout",
          "text": [
            "[CV 2/5] END criterion=gini, max_depth=3, max_features=auto, n_estimators=100;, score=0.564 total time=   0.2s\n"
          ]
        },
        {
          "output_type": "stream",
          "name": "stderr",
          "text": [
            "/usr/local/lib/python3.10/dist-packages/sklearn/ensemble/_forest.py:424: FutureWarning: `max_features='auto'` has been deprecated in 1.1 and will be removed in 1.3. To keep the past behaviour, explicitly set `max_features='sqrt'` or remove this parameter as it is also the default value for RandomForestClassifiers and ExtraTreesClassifiers.\n",
            "  warn(\n"
          ]
        },
        {
          "output_type": "stream",
          "name": "stdout",
          "text": [
            "[CV 3/5] END criterion=gini, max_depth=3, max_features=auto, n_estimators=100;, score=0.596 total time=   0.2s\n"
          ]
        },
        {
          "output_type": "stream",
          "name": "stderr",
          "text": [
            "/usr/local/lib/python3.10/dist-packages/sklearn/ensemble/_forest.py:424: FutureWarning: `max_features='auto'` has been deprecated in 1.1 and will be removed in 1.3. To keep the past behaviour, explicitly set `max_features='sqrt'` or remove this parameter as it is also the default value for RandomForestClassifiers and ExtraTreesClassifiers.\n",
            "  warn(\n"
          ]
        },
        {
          "output_type": "stream",
          "name": "stdout",
          "text": [
            "[CV 4/5] END criterion=gini, max_depth=3, max_features=auto, n_estimators=100;, score=0.579 total time=   0.2s\n"
          ]
        },
        {
          "output_type": "stream",
          "name": "stderr",
          "text": [
            "/usr/local/lib/python3.10/dist-packages/sklearn/ensemble/_forest.py:424: FutureWarning: `max_features='auto'` has been deprecated in 1.1 and will be removed in 1.3. To keep the past behaviour, explicitly set `max_features='sqrt'` or remove this parameter as it is also the default value for RandomForestClassifiers and ExtraTreesClassifiers.\n",
            "  warn(\n"
          ]
        },
        {
          "output_type": "stream",
          "name": "stdout",
          "text": [
            "[CV 5/5] END criterion=gini, max_depth=3, max_features=auto, n_estimators=100;, score=0.561 total time=   0.2s\n"
          ]
        },
        {
          "output_type": "stream",
          "name": "stderr",
          "text": [
            "/usr/local/lib/python3.10/dist-packages/sklearn/ensemble/_forest.py:424: FutureWarning: `max_features='auto'` has been deprecated in 1.1 and will be removed in 1.3. To keep the past behaviour, explicitly set `max_features='sqrt'` or remove this parameter as it is also the default value for RandomForestClassifiers and ExtraTreesClassifiers.\n",
            "  warn(\n"
          ]
        },
        {
          "output_type": "stream",
          "name": "stdout",
          "text": [
            "[CV 1/5] END criterion=gini, max_depth=3, max_features=auto, n_estimators=130;, score=0.568 total time=   0.3s\n"
          ]
        },
        {
          "output_type": "stream",
          "name": "stderr",
          "text": [
            "/usr/local/lib/python3.10/dist-packages/sklearn/ensemble/_forest.py:424: FutureWarning: `max_features='auto'` has been deprecated in 1.1 and will be removed in 1.3. To keep the past behaviour, explicitly set `max_features='sqrt'` or remove this parameter as it is also the default value for RandomForestClassifiers and ExtraTreesClassifiers.\n",
            "  warn(\n"
          ]
        },
        {
          "output_type": "stream",
          "name": "stdout",
          "text": [
            "[CV 2/5] END criterion=gini, max_depth=3, max_features=auto, n_estimators=130;, score=0.582 total time=   0.3s\n"
          ]
        },
        {
          "output_type": "stream",
          "name": "stderr",
          "text": [
            "/usr/local/lib/python3.10/dist-packages/sklearn/ensemble/_forest.py:424: FutureWarning: `max_features='auto'` has been deprecated in 1.1 and will be removed in 1.3. To keep the past behaviour, explicitly set `max_features='sqrt'` or remove this parameter as it is also the default value for RandomForestClassifiers and ExtraTreesClassifiers.\n",
            "  warn(\n"
          ]
        },
        {
          "output_type": "stream",
          "name": "stdout",
          "text": [
            "[CV 3/5] END criterion=gini, max_depth=3, max_features=auto, n_estimators=130;, score=0.587 total time=   0.3s\n"
          ]
        },
        {
          "output_type": "stream",
          "name": "stderr",
          "text": [
            "/usr/local/lib/python3.10/dist-packages/sklearn/ensemble/_forest.py:424: FutureWarning: `max_features='auto'` has been deprecated in 1.1 and will be removed in 1.3. To keep the past behaviour, explicitly set `max_features='sqrt'` or remove this parameter as it is also the default value for RandomForestClassifiers and ExtraTreesClassifiers.\n",
            "  warn(\n"
          ]
        },
        {
          "output_type": "stream",
          "name": "stdout",
          "text": [
            "[CV 4/5] END criterion=gini, max_depth=3, max_features=auto, n_estimators=130;, score=0.590 total time=   0.3s\n"
          ]
        },
        {
          "output_type": "stream",
          "name": "stderr",
          "text": [
            "/usr/local/lib/python3.10/dist-packages/sklearn/ensemble/_forest.py:424: FutureWarning: `max_features='auto'` has been deprecated in 1.1 and will be removed in 1.3. To keep the past behaviour, explicitly set `max_features='sqrt'` or remove this parameter as it is also the default value for RandomForestClassifiers and ExtraTreesClassifiers.\n",
            "  warn(\n"
          ]
        },
        {
          "output_type": "stream",
          "name": "stdout",
          "text": [
            "[CV 5/5] END criterion=gini, max_depth=3, max_features=auto, n_estimators=130;, score=0.557 total time=   0.3s\n",
            "[CV 1/5] END criterion=gini, max_depth=3, max_features=log2, n_estimators=10;, score=0.565 total time=   0.0s\n",
            "[CV 2/5] END criterion=gini, max_depth=3, max_features=log2, n_estimators=10;, score=0.577 total time=   0.0s\n",
            "[CV 3/5] END criterion=gini, max_depth=3, max_features=log2, n_estimators=10;, score=0.489 total time=   0.0s\n",
            "[CV 4/5] END criterion=gini, max_depth=3, max_features=log2, n_estimators=10;, score=0.589 total time=   0.0s\n",
            "[CV 5/5] END criterion=gini, max_depth=3, max_features=log2, n_estimators=10;, score=0.542 total time=   0.0s\n",
            "[CV 1/5] END criterion=gini, max_depth=3, max_features=log2, n_estimators=50;, score=0.576 total time=   0.1s\n",
            "[CV 2/5] END criterion=gini, max_depth=3, max_features=log2, n_estimators=50;, score=0.554 total time=   0.1s\n",
            "[CV 3/5] END criterion=gini, max_depth=3, max_features=log2, n_estimators=50;, score=0.580 total time=   0.1s\n",
            "[CV 4/5] END criterion=gini, max_depth=3, max_features=log2, n_estimators=50;, score=0.572 total time=   0.1s\n",
            "[CV 5/5] END criterion=gini, max_depth=3, max_features=log2, n_estimators=50;, score=0.572 total time=   0.1s\n",
            "[CV 1/5] END criterion=gini, max_depth=3, max_features=log2, n_estimators=100;, score=0.556 total time=   0.2s\n",
            "[CV 2/5] END criterion=gini, max_depth=3, max_features=log2, n_estimators=100;, score=0.568 total time=   0.2s\n",
            "[CV 3/5] END criterion=gini, max_depth=3, max_features=log2, n_estimators=100;, score=0.585 total time=   0.3s\n",
            "[CV 4/5] END criterion=gini, max_depth=3, max_features=log2, n_estimators=100;, score=0.577 total time=   0.3s\n",
            "[CV 5/5] END criterion=gini, max_depth=3, max_features=log2, n_estimators=100;, score=0.574 total time=   0.3s\n",
            "[CV 1/5] END criterion=gini, max_depth=3, max_features=log2, n_estimators=130;, score=0.563 total time=   0.4s\n",
            "[CV 2/5] END criterion=gini, max_depth=3, max_features=log2, n_estimators=130;, score=0.576 total time=   0.4s\n",
            "[CV 3/5] END criterion=gini, max_depth=3, max_features=log2, n_estimators=130;, score=0.582 total time=   0.4s\n",
            "[CV 4/5] END criterion=gini, max_depth=3, max_features=log2, n_estimators=130;, score=0.630 total time=   0.3s\n",
            "[CV 5/5] END criterion=gini, max_depth=3, max_features=log2, n_estimators=130;, score=0.553 total time=   0.3s\n",
            "[CV 1/5] END criterion=entropy, max_depth=2, max_features=auto, n_estimators=10;, score=0.482 total time=   0.0s\n",
            "[CV 2/5] END criterion=entropy, max_depth=2, max_features=auto, n_estimators=10;, score=0.443 total time=   0.0s\n",
            "[CV 3/5] END criterion=entropy, max_depth=2, max_features=auto, n_estimators=10;, score=0.464 total time=   0.0s\n",
            "[CV 4/5] END criterion=entropy, max_depth=2, max_features=auto, n_estimators=10;, score=0.514 total time=   0.0s\n",
            "[CV 5/5] END criterion=entropy, max_depth=2, max_features=auto, n_estimators=10;, score=0.522 total time=   0.0s\n"
          ]
        },
        {
          "output_type": "stream",
          "name": "stderr",
          "text": [
            "/usr/local/lib/python3.10/dist-packages/sklearn/ensemble/_forest.py:424: FutureWarning: `max_features='auto'` has been deprecated in 1.1 and will be removed in 1.3. To keep the past behaviour, explicitly set `max_features='sqrt'` or remove this parameter as it is also the default value for RandomForestClassifiers and ExtraTreesClassifiers.\n",
            "  warn(\n",
            "/usr/local/lib/python3.10/dist-packages/sklearn/ensemble/_forest.py:424: FutureWarning: `max_features='auto'` has been deprecated in 1.1 and will be removed in 1.3. To keep the past behaviour, explicitly set `max_features='sqrt'` or remove this parameter as it is also the default value for RandomForestClassifiers and ExtraTreesClassifiers.\n",
            "  warn(\n",
            "/usr/local/lib/python3.10/dist-packages/sklearn/ensemble/_forest.py:424: FutureWarning: `max_features='auto'` has been deprecated in 1.1 and will be removed in 1.3. To keep the past behaviour, explicitly set `max_features='sqrt'` or remove this parameter as it is also the default value for RandomForestClassifiers and ExtraTreesClassifiers.\n",
            "  warn(\n",
            "/usr/local/lib/python3.10/dist-packages/sklearn/ensemble/_forest.py:424: FutureWarning: `max_features='auto'` has been deprecated in 1.1 and will be removed in 1.3. To keep the past behaviour, explicitly set `max_features='sqrt'` or remove this parameter as it is also the default value for RandomForestClassifiers and ExtraTreesClassifiers.\n",
            "  warn(\n",
            "/usr/local/lib/python3.10/dist-packages/sklearn/ensemble/_forest.py:424: FutureWarning: `max_features='auto'` has been deprecated in 1.1 and will be removed in 1.3. To keep the past behaviour, explicitly set `max_features='sqrt'` or remove this parameter as it is also the default value for RandomForestClassifiers and ExtraTreesClassifiers.\n",
            "  warn(\n",
            "/usr/local/lib/python3.10/dist-packages/sklearn/ensemble/_forest.py:424: FutureWarning: `max_features='auto'` has been deprecated in 1.1 and will be removed in 1.3. To keep the past behaviour, explicitly set `max_features='sqrt'` or remove this parameter as it is also the default value for RandomForestClassifiers and ExtraTreesClassifiers.\n",
            "  warn(\n"
          ]
        },
        {
          "output_type": "stream",
          "name": "stdout",
          "text": [
            "[CV 1/5] END criterion=entropy, max_depth=2, max_features=auto, n_estimators=50;, score=0.555 total time=   0.1s\n",
            "[CV 2/5] END criterion=entropy, max_depth=2, max_features=auto, n_estimators=50;, score=0.556 total time=   0.1s\n"
          ]
        },
        {
          "output_type": "stream",
          "name": "stderr",
          "text": [
            "/usr/local/lib/python3.10/dist-packages/sklearn/ensemble/_forest.py:424: FutureWarning: `max_features='auto'` has been deprecated in 1.1 and will be removed in 1.3. To keep the past behaviour, explicitly set `max_features='sqrt'` or remove this parameter as it is also the default value for RandomForestClassifiers and ExtraTreesClassifiers.\n",
            "  warn(\n",
            "/usr/local/lib/python3.10/dist-packages/sklearn/ensemble/_forest.py:424: FutureWarning: `max_features='auto'` has been deprecated in 1.1 and will be removed in 1.3. To keep the past behaviour, explicitly set `max_features='sqrt'` or remove this parameter as it is also the default value for RandomForestClassifiers and ExtraTreesClassifiers.\n",
            "  warn(\n"
          ]
        },
        {
          "output_type": "stream",
          "name": "stdout",
          "text": [
            "[CV 3/5] END criterion=entropy, max_depth=2, max_features=auto, n_estimators=50;, score=0.556 total time=   0.1s\n",
            "[CV 4/5] END criterion=entropy, max_depth=2, max_features=auto, n_estimators=50;, score=0.547 total time=   0.1s\n"
          ]
        },
        {
          "output_type": "stream",
          "name": "stderr",
          "text": [
            "/usr/local/lib/python3.10/dist-packages/sklearn/ensemble/_forest.py:424: FutureWarning: `max_features='auto'` has been deprecated in 1.1 and will be removed in 1.3. To keep the past behaviour, explicitly set `max_features='sqrt'` or remove this parameter as it is also the default value for RandomForestClassifiers and ExtraTreesClassifiers.\n",
            "  warn(\n",
            "/usr/local/lib/python3.10/dist-packages/sklearn/ensemble/_forest.py:424: FutureWarning: `max_features='auto'` has been deprecated in 1.1 and will be removed in 1.3. To keep the past behaviour, explicitly set `max_features='sqrt'` or remove this parameter as it is also the default value for RandomForestClassifiers and ExtraTreesClassifiers.\n",
            "  warn(\n"
          ]
        },
        {
          "output_type": "stream",
          "name": "stdout",
          "text": [
            "[CV 5/5] END criterion=entropy, max_depth=2, max_features=auto, n_estimators=50;, score=0.528 total time=   0.1s\n"
          ]
        },
        {
          "output_type": "stream",
          "name": "stderr",
          "text": [
            "/usr/local/lib/python3.10/dist-packages/sklearn/ensemble/_forest.py:424: FutureWarning: `max_features='auto'` has been deprecated in 1.1 and will be removed in 1.3. To keep the past behaviour, explicitly set `max_features='sqrt'` or remove this parameter as it is also the default value for RandomForestClassifiers and ExtraTreesClassifiers.\n",
            "  warn(\n"
          ]
        },
        {
          "output_type": "stream",
          "name": "stdout",
          "text": [
            "[CV 1/5] END criterion=entropy, max_depth=2, max_features=auto, n_estimators=100;, score=0.522 total time=   0.2s\n"
          ]
        },
        {
          "output_type": "stream",
          "name": "stderr",
          "text": [
            "/usr/local/lib/python3.10/dist-packages/sklearn/ensemble/_forest.py:424: FutureWarning: `max_features='auto'` has been deprecated in 1.1 and will be removed in 1.3. To keep the past behaviour, explicitly set `max_features='sqrt'` or remove this parameter as it is also the default value for RandomForestClassifiers and ExtraTreesClassifiers.\n",
            "  warn(\n"
          ]
        },
        {
          "output_type": "stream",
          "name": "stdout",
          "text": [
            "[CV 2/5] END criterion=entropy, max_depth=2, max_features=auto, n_estimators=100;, score=0.540 total time=   0.2s\n"
          ]
        },
        {
          "output_type": "stream",
          "name": "stderr",
          "text": [
            "/usr/local/lib/python3.10/dist-packages/sklearn/ensemble/_forest.py:424: FutureWarning: `max_features='auto'` has been deprecated in 1.1 and will be removed in 1.3. To keep the past behaviour, explicitly set `max_features='sqrt'` or remove this parameter as it is also the default value for RandomForestClassifiers and ExtraTreesClassifiers.\n",
            "  warn(\n"
          ]
        },
        {
          "output_type": "stream",
          "name": "stdout",
          "text": [
            "[CV 3/5] END criterion=entropy, max_depth=2, max_features=auto, n_estimators=100;, score=0.552 total time=   0.2s\n"
          ]
        },
        {
          "output_type": "stream",
          "name": "stderr",
          "text": [
            "/usr/local/lib/python3.10/dist-packages/sklearn/ensemble/_forest.py:424: FutureWarning: `max_features='auto'` has been deprecated in 1.1 and will be removed in 1.3. To keep the past behaviour, explicitly set `max_features='sqrt'` or remove this parameter as it is also the default value for RandomForestClassifiers and ExtraTreesClassifiers.\n",
            "  warn(\n"
          ]
        },
        {
          "output_type": "stream",
          "name": "stdout",
          "text": [
            "[CV 4/5] END criterion=entropy, max_depth=2, max_features=auto, n_estimators=100;, score=0.535 total time=   0.2s\n"
          ]
        },
        {
          "output_type": "stream",
          "name": "stderr",
          "text": [
            "/usr/local/lib/python3.10/dist-packages/sklearn/ensemble/_forest.py:424: FutureWarning: `max_features='auto'` has been deprecated in 1.1 and will be removed in 1.3. To keep the past behaviour, explicitly set `max_features='sqrt'` or remove this parameter as it is also the default value for RandomForestClassifiers and ExtraTreesClassifiers.\n",
            "  warn(\n"
          ]
        },
        {
          "output_type": "stream",
          "name": "stdout",
          "text": [
            "[CV 5/5] END criterion=entropy, max_depth=2, max_features=auto, n_estimators=100;, score=0.516 total time=   0.2s\n"
          ]
        },
        {
          "output_type": "stream",
          "name": "stderr",
          "text": [
            "/usr/local/lib/python3.10/dist-packages/sklearn/ensemble/_forest.py:424: FutureWarning: `max_features='auto'` has been deprecated in 1.1 and will be removed in 1.3. To keep the past behaviour, explicitly set `max_features='sqrt'` or remove this parameter as it is also the default value for RandomForestClassifiers and ExtraTreesClassifiers.\n",
            "  warn(\n"
          ]
        },
        {
          "output_type": "stream",
          "name": "stdout",
          "text": [
            "[CV 1/5] END criterion=entropy, max_depth=2, max_features=auto, n_estimators=130;, score=0.542 total time=   0.3s\n"
          ]
        },
        {
          "output_type": "stream",
          "name": "stderr",
          "text": [
            "/usr/local/lib/python3.10/dist-packages/sklearn/ensemble/_forest.py:424: FutureWarning: `max_features='auto'` has been deprecated in 1.1 and will be removed in 1.3. To keep the past behaviour, explicitly set `max_features='sqrt'` or remove this parameter as it is also the default value for RandomForestClassifiers and ExtraTreesClassifiers.\n",
            "  warn(\n"
          ]
        },
        {
          "output_type": "stream",
          "name": "stdout",
          "text": [
            "[CV 2/5] END criterion=entropy, max_depth=2, max_features=auto, n_estimators=130;, score=0.538 total time=   0.3s\n"
          ]
        },
        {
          "output_type": "stream",
          "name": "stderr",
          "text": [
            "/usr/local/lib/python3.10/dist-packages/sklearn/ensemble/_forest.py:424: FutureWarning: `max_features='auto'` has been deprecated in 1.1 and will be removed in 1.3. To keep the past behaviour, explicitly set `max_features='sqrt'` or remove this parameter as it is also the default value for RandomForestClassifiers and ExtraTreesClassifiers.\n",
            "  warn(\n"
          ]
        },
        {
          "output_type": "stream",
          "name": "stdout",
          "text": [
            "[CV 3/5] END criterion=entropy, max_depth=2, max_features=auto, n_estimators=130;, score=0.554 total time=   0.3s\n"
          ]
        },
        {
          "output_type": "stream",
          "name": "stderr",
          "text": [
            "/usr/local/lib/python3.10/dist-packages/sklearn/ensemble/_forest.py:424: FutureWarning: `max_features='auto'` has been deprecated in 1.1 and will be removed in 1.3. To keep the past behaviour, explicitly set `max_features='sqrt'` or remove this parameter as it is also the default value for RandomForestClassifiers and ExtraTreesClassifiers.\n",
            "  warn(\n"
          ]
        },
        {
          "output_type": "stream",
          "name": "stdout",
          "text": [
            "[CV 4/5] END criterion=entropy, max_depth=2, max_features=auto, n_estimators=130;, score=0.555 total time=   0.3s\n"
          ]
        },
        {
          "output_type": "stream",
          "name": "stderr",
          "text": [
            "/usr/local/lib/python3.10/dist-packages/sklearn/ensemble/_forest.py:424: FutureWarning: `max_features='auto'` has been deprecated in 1.1 and will be removed in 1.3. To keep the past behaviour, explicitly set `max_features='sqrt'` or remove this parameter as it is also the default value for RandomForestClassifiers and ExtraTreesClassifiers.\n",
            "  warn(\n"
          ]
        },
        {
          "output_type": "stream",
          "name": "stdout",
          "text": [
            "[CV 5/5] END criterion=entropy, max_depth=2, max_features=auto, n_estimators=130;, score=0.570 total time=   0.3s\n",
            "[CV 1/5] END criterion=entropy, max_depth=2, max_features=log2, n_estimators=10;, score=0.513 total time=   0.0s\n",
            "[CV 2/5] END criterion=entropy, max_depth=2, max_features=log2, n_estimators=10;, score=0.506 total time=   0.0s\n",
            "[CV 3/5] END criterion=entropy, max_depth=2, max_features=log2, n_estimators=10;, score=0.505 total time=   0.0s\n",
            "[CV 4/5] END criterion=entropy, max_depth=2, max_features=log2, n_estimators=10;, score=0.507 total time=   0.0s\n",
            "[CV 5/5] END criterion=entropy, max_depth=2, max_features=log2, n_estimators=10;, score=0.553 total time=   0.0s\n",
            "[CV 1/5] END criterion=entropy, max_depth=2, max_features=log2, n_estimators=50;, score=0.525 total time=   0.1s\n",
            "[CV 2/5] END criterion=entropy, max_depth=2, max_features=log2, n_estimators=50;, score=0.542 total time=   0.1s\n",
            "[CV 3/5] END criterion=entropy, max_depth=2, max_features=log2, n_estimators=50;, score=0.564 total time=   0.1s\n",
            "[CV 4/5] END criterion=entropy, max_depth=2, max_features=log2, n_estimators=50;, score=0.564 total time=   0.1s\n",
            "[CV 5/5] END criterion=entropy, max_depth=2, max_features=log2, n_estimators=50;, score=0.532 total time=   0.1s\n",
            "[CV 1/5] END criterion=entropy, max_depth=2, max_features=log2, n_estimators=100;, score=0.554 total time=   0.2s\n",
            "[CV 2/5] END criterion=entropy, max_depth=2, max_features=log2, n_estimators=100;, score=0.540 total time=   0.2s\n",
            "[CV 3/5] END criterion=entropy, max_depth=2, max_features=log2, n_estimators=100;, score=0.565 total time=   0.2s\n",
            "[CV 4/5] END criterion=entropy, max_depth=2, max_features=log2, n_estimators=100;, score=0.554 total time=   0.2s\n",
            "[CV 5/5] END criterion=entropy, max_depth=2, max_features=log2, n_estimators=100;, score=0.535 total time=   0.2s\n",
            "[CV 1/5] END criterion=entropy, max_depth=2, max_features=log2, n_estimators=130;, score=0.544 total time=   0.3s\n",
            "[CV 2/5] END criterion=entropy, max_depth=2, max_features=log2, n_estimators=130;, score=0.546 total time=   0.3s\n",
            "[CV 3/5] END criterion=entropy, max_depth=2, max_features=log2, n_estimators=130;, score=0.559 total time=   0.3s\n",
            "[CV 4/5] END criterion=entropy, max_depth=2, max_features=log2, n_estimators=130;, score=0.557 total time=   0.3s\n",
            "[CV 5/5] END criterion=entropy, max_depth=2, max_features=log2, n_estimators=130;, score=0.527 total time=   0.3s\n",
            "[CV 1/5] END criterion=entropy, max_depth=3, max_features=auto, n_estimators=10;, score=0.583 total time=   0.0s\n",
            "[CV 2/5] END criterion=entropy, max_depth=3, max_features=auto, n_estimators=10;, score=0.547 total time=   0.0s\n",
            "[CV 3/5] END criterion=entropy, max_depth=3, max_features=auto, n_estimators=10;, score=0.565 total time=   0.0s\n",
            "[CV 4/5] END criterion=entropy, max_depth=3, max_features=auto, n_estimators=10;, score=0.612 total time=   0.0s\n",
            "[CV 5/5] END criterion=entropy, max_depth=3, max_features=auto, n_estimators=10;, score=0.540 total time=   0.0s\n"
          ]
        },
        {
          "output_type": "stream",
          "name": "stderr",
          "text": [
            "/usr/local/lib/python3.10/dist-packages/sklearn/ensemble/_forest.py:424: FutureWarning: `max_features='auto'` has been deprecated in 1.1 and will be removed in 1.3. To keep the past behaviour, explicitly set `max_features='sqrt'` or remove this parameter as it is also the default value for RandomForestClassifiers and ExtraTreesClassifiers.\n",
            "  warn(\n",
            "/usr/local/lib/python3.10/dist-packages/sklearn/ensemble/_forest.py:424: FutureWarning: `max_features='auto'` has been deprecated in 1.1 and will be removed in 1.3. To keep the past behaviour, explicitly set `max_features='sqrt'` or remove this parameter as it is also the default value for RandomForestClassifiers and ExtraTreesClassifiers.\n",
            "  warn(\n",
            "/usr/local/lib/python3.10/dist-packages/sklearn/ensemble/_forest.py:424: FutureWarning: `max_features='auto'` has been deprecated in 1.1 and will be removed in 1.3. To keep the past behaviour, explicitly set `max_features='sqrt'` or remove this parameter as it is also the default value for RandomForestClassifiers and ExtraTreesClassifiers.\n",
            "  warn(\n",
            "/usr/local/lib/python3.10/dist-packages/sklearn/ensemble/_forest.py:424: FutureWarning: `max_features='auto'` has been deprecated in 1.1 and will be removed in 1.3. To keep the past behaviour, explicitly set `max_features='sqrt'` or remove this parameter as it is also the default value for RandomForestClassifiers and ExtraTreesClassifiers.\n",
            "  warn(\n",
            "/usr/local/lib/python3.10/dist-packages/sklearn/ensemble/_forest.py:424: FutureWarning: `max_features='auto'` has been deprecated in 1.1 and will be removed in 1.3. To keep the past behaviour, explicitly set `max_features='sqrt'` or remove this parameter as it is also the default value for RandomForestClassifiers and ExtraTreesClassifiers.\n",
            "  warn(\n",
            "/usr/local/lib/python3.10/dist-packages/sklearn/ensemble/_forest.py:424: FutureWarning: `max_features='auto'` has been deprecated in 1.1 and will be removed in 1.3. To keep the past behaviour, explicitly set `max_features='sqrt'` or remove this parameter as it is also the default value for RandomForestClassifiers and ExtraTreesClassifiers.\n",
            "  warn(\n"
          ]
        },
        {
          "output_type": "stream",
          "name": "stdout",
          "text": [
            "[CV 1/5] END criterion=entropy, max_depth=3, max_features=auto, n_estimators=50;, score=0.567 total time=   0.1s\n",
            "[CV 2/5] END criterion=entropy, max_depth=3, max_features=auto, n_estimators=50;, score=0.621 total time=   0.1s\n"
          ]
        },
        {
          "output_type": "stream",
          "name": "stderr",
          "text": [
            "/usr/local/lib/python3.10/dist-packages/sklearn/ensemble/_forest.py:424: FutureWarning: `max_features='auto'` has been deprecated in 1.1 and will be removed in 1.3. To keep the past behaviour, explicitly set `max_features='sqrt'` or remove this parameter as it is also the default value for RandomForestClassifiers and ExtraTreesClassifiers.\n",
            "  warn(\n",
            "/usr/local/lib/python3.10/dist-packages/sklearn/ensemble/_forest.py:424: FutureWarning: `max_features='auto'` has been deprecated in 1.1 and will be removed in 1.3. To keep the past behaviour, explicitly set `max_features='sqrt'` or remove this parameter as it is also the default value for RandomForestClassifiers and ExtraTreesClassifiers.\n",
            "  warn(\n"
          ]
        },
        {
          "output_type": "stream",
          "name": "stdout",
          "text": [
            "[CV 3/5] END criterion=entropy, max_depth=3, max_features=auto, n_estimators=50;, score=0.575 total time=   0.1s\n",
            "[CV 4/5] END criterion=entropy, max_depth=3, max_features=auto, n_estimators=50;, score=0.573 total time=   0.1s\n"
          ]
        },
        {
          "output_type": "stream",
          "name": "stderr",
          "text": [
            "/usr/local/lib/python3.10/dist-packages/sklearn/ensemble/_forest.py:424: FutureWarning: `max_features='auto'` has been deprecated in 1.1 and will be removed in 1.3. To keep the past behaviour, explicitly set `max_features='sqrt'` or remove this parameter as it is also the default value for RandomForestClassifiers and ExtraTreesClassifiers.\n",
            "  warn(\n",
            "/usr/local/lib/python3.10/dist-packages/sklearn/ensemble/_forest.py:424: FutureWarning: `max_features='auto'` has been deprecated in 1.1 and will be removed in 1.3. To keep the past behaviour, explicitly set `max_features='sqrt'` or remove this parameter as it is also the default value for RandomForestClassifiers and ExtraTreesClassifiers.\n",
            "  warn(\n"
          ]
        },
        {
          "output_type": "stream",
          "name": "stdout",
          "text": [
            "[CV 5/5] END criterion=entropy, max_depth=3, max_features=auto, n_estimators=50;, score=0.558 total time=   0.1s\n"
          ]
        },
        {
          "output_type": "stream",
          "name": "stderr",
          "text": [
            "/usr/local/lib/python3.10/dist-packages/sklearn/ensemble/_forest.py:424: FutureWarning: `max_features='auto'` has been deprecated in 1.1 and will be removed in 1.3. To keep the past behaviour, explicitly set `max_features='sqrt'` or remove this parameter as it is also the default value for RandomForestClassifiers and ExtraTreesClassifiers.\n",
            "  warn(\n"
          ]
        },
        {
          "output_type": "stream",
          "name": "stdout",
          "text": [
            "[CV 1/5] END criterion=entropy, max_depth=3, max_features=auto, n_estimators=100;, score=0.565 total time=   0.2s\n"
          ]
        },
        {
          "output_type": "stream",
          "name": "stderr",
          "text": [
            "/usr/local/lib/python3.10/dist-packages/sklearn/ensemble/_forest.py:424: FutureWarning: `max_features='auto'` has been deprecated in 1.1 and will be removed in 1.3. To keep the past behaviour, explicitly set `max_features='sqrt'` or remove this parameter as it is also the default value for RandomForestClassifiers and ExtraTreesClassifiers.\n",
            "  warn(\n"
          ]
        },
        {
          "output_type": "stream",
          "name": "stdout",
          "text": [
            "[CV 2/5] END criterion=entropy, max_depth=3, max_features=auto, n_estimators=100;, score=0.564 total time=   0.2s\n"
          ]
        },
        {
          "output_type": "stream",
          "name": "stderr",
          "text": [
            "/usr/local/lib/python3.10/dist-packages/sklearn/ensemble/_forest.py:424: FutureWarning: `max_features='auto'` has been deprecated in 1.1 and will be removed in 1.3. To keep the past behaviour, explicitly set `max_features='sqrt'` or remove this parameter as it is also the default value for RandomForestClassifiers and ExtraTreesClassifiers.\n",
            "  warn(\n"
          ]
        },
        {
          "output_type": "stream",
          "name": "stdout",
          "text": [
            "[CV 3/5] END criterion=entropy, max_depth=3, max_features=auto, n_estimators=100;, score=0.630 total time=   0.2s\n"
          ]
        },
        {
          "output_type": "stream",
          "name": "stderr",
          "text": [
            "/usr/local/lib/python3.10/dist-packages/sklearn/ensemble/_forest.py:424: FutureWarning: `max_features='auto'` has been deprecated in 1.1 and will be removed in 1.3. To keep the past behaviour, explicitly set `max_features='sqrt'` or remove this parameter as it is also the default value for RandomForestClassifiers and ExtraTreesClassifiers.\n",
            "  warn(\n"
          ]
        },
        {
          "output_type": "stream",
          "name": "stdout",
          "text": [
            "[CV 4/5] END criterion=entropy, max_depth=3, max_features=auto, n_estimators=100;, score=0.581 total time=   0.2s\n"
          ]
        },
        {
          "output_type": "stream",
          "name": "stderr",
          "text": [
            "/usr/local/lib/python3.10/dist-packages/sklearn/ensemble/_forest.py:424: FutureWarning: `max_features='auto'` has been deprecated in 1.1 and will be removed in 1.3. To keep the past behaviour, explicitly set `max_features='sqrt'` or remove this parameter as it is also the default value for RandomForestClassifiers and ExtraTreesClassifiers.\n",
            "  warn(\n"
          ]
        },
        {
          "output_type": "stream",
          "name": "stdout",
          "text": [
            "[CV 5/5] END criterion=entropy, max_depth=3, max_features=auto, n_estimators=100;, score=0.547 total time=   0.2s\n"
          ]
        },
        {
          "output_type": "stream",
          "name": "stderr",
          "text": [
            "/usr/local/lib/python3.10/dist-packages/sklearn/ensemble/_forest.py:424: FutureWarning: `max_features='auto'` has been deprecated in 1.1 and will be removed in 1.3. To keep the past behaviour, explicitly set `max_features='sqrt'` or remove this parameter as it is also the default value for RandomForestClassifiers and ExtraTreesClassifiers.\n",
            "  warn(\n"
          ]
        },
        {
          "output_type": "stream",
          "name": "stdout",
          "text": [
            "[CV 1/5] END criterion=entropy, max_depth=3, max_features=auto, n_estimators=130;, score=0.575 total time=   0.3s\n"
          ]
        },
        {
          "output_type": "stream",
          "name": "stderr",
          "text": [
            "/usr/local/lib/python3.10/dist-packages/sklearn/ensemble/_forest.py:424: FutureWarning: `max_features='auto'` has been deprecated in 1.1 and will be removed in 1.3. To keep the past behaviour, explicitly set `max_features='sqrt'` or remove this parameter as it is also the default value for RandomForestClassifiers and ExtraTreesClassifiers.\n",
            "  warn(\n"
          ]
        },
        {
          "output_type": "stream",
          "name": "stdout",
          "text": [
            "[CV 2/5] END criterion=entropy, max_depth=3, max_features=auto, n_estimators=130;, score=0.572 total time=   0.4s\n"
          ]
        },
        {
          "output_type": "stream",
          "name": "stderr",
          "text": [
            "/usr/local/lib/python3.10/dist-packages/sklearn/ensemble/_forest.py:424: FutureWarning: `max_features='auto'` has been deprecated in 1.1 and will be removed in 1.3. To keep the past behaviour, explicitly set `max_features='sqrt'` or remove this parameter as it is also the default value for RandomForestClassifiers and ExtraTreesClassifiers.\n",
            "  warn(\n"
          ]
        },
        {
          "output_type": "stream",
          "name": "stdout",
          "text": [
            "[CV 3/5] END criterion=entropy, max_depth=3, max_features=auto, n_estimators=130;, score=0.584 total time=   0.4s\n"
          ]
        },
        {
          "output_type": "stream",
          "name": "stderr",
          "text": [
            "/usr/local/lib/python3.10/dist-packages/sklearn/ensemble/_forest.py:424: FutureWarning: `max_features='auto'` has been deprecated in 1.1 and will be removed in 1.3. To keep the past behaviour, explicitly set `max_features='sqrt'` or remove this parameter as it is also the default value for RandomForestClassifiers and ExtraTreesClassifiers.\n",
            "  warn(\n"
          ]
        },
        {
          "output_type": "stream",
          "name": "stdout",
          "text": [
            "[CV 4/5] END criterion=entropy, max_depth=3, max_features=auto, n_estimators=130;, score=0.579 total time=   0.4s\n"
          ]
        },
        {
          "output_type": "stream",
          "name": "stderr",
          "text": [
            "/usr/local/lib/python3.10/dist-packages/sklearn/ensemble/_forest.py:424: FutureWarning: `max_features='auto'` has been deprecated in 1.1 and will be removed in 1.3. To keep the past behaviour, explicitly set `max_features='sqrt'` or remove this parameter as it is also the default value for RandomForestClassifiers and ExtraTreesClassifiers.\n",
            "  warn(\n"
          ]
        },
        {
          "output_type": "stream",
          "name": "stdout",
          "text": [
            "[CV 5/5] END criterion=entropy, max_depth=3, max_features=auto, n_estimators=130;, score=0.567 total time=   0.4s\n",
            "[CV 1/5] END criterion=entropy, max_depth=3, max_features=log2, n_estimators=10;, score=0.555 total time=   0.1s\n",
            "[CV 2/5] END criterion=entropy, max_depth=3, max_features=log2, n_estimators=10;, score=0.600 total time=   0.1s\n",
            "[CV 3/5] END criterion=entropy, max_depth=3, max_features=log2, n_estimators=10;, score=0.570 total time=   0.1s\n",
            "[CV 4/5] END criterion=entropy, max_depth=3, max_features=log2, n_estimators=10;, score=0.562 total time=   0.1s\n",
            "[CV 5/5] END criterion=entropy, max_depth=3, max_features=log2, n_estimators=10;, score=0.552 total time=   0.1s\n",
            "[CV 1/5] END criterion=entropy, max_depth=3, max_features=log2, n_estimators=50;, score=0.576 total time=   0.2s\n",
            "[CV 2/5] END criterion=entropy, max_depth=3, max_features=log2, n_estimators=50;, score=0.573 total time=   0.1s\n",
            "[CV 3/5] END criterion=entropy, max_depth=3, max_features=log2, n_estimators=50;, score=0.573 total time=   0.1s\n",
            "[CV 4/5] END criterion=entropy, max_depth=3, max_features=log2, n_estimators=50;, score=0.617 total time=   0.1s\n",
            "[CV 5/5] END criterion=entropy, max_depth=3, max_features=log2, n_estimators=50;, score=0.551 total time=   0.1s\n",
            "[CV 1/5] END criterion=entropy, max_depth=3, max_features=log2, n_estimators=100;, score=0.563 total time=   0.2s\n",
            "[CV 2/5] END criterion=entropy, max_depth=3, max_features=log2, n_estimators=100;, score=0.626 total time=   0.2s\n",
            "[CV 3/5] END criterion=entropy, max_depth=3, max_features=log2, n_estimators=100;, score=0.581 total time=   0.2s\n",
            "[CV 4/5] END criterion=entropy, max_depth=3, max_features=log2, n_estimators=100;, score=0.568 total time=   0.2s\n",
            "[CV 5/5] END criterion=entropy, max_depth=3, max_features=log2, n_estimators=100;, score=0.547 total time=   0.2s\n",
            "[CV 1/5] END criterion=entropy, max_depth=3, max_features=log2, n_estimators=130;, score=0.567 total time=   0.3s\n",
            "[CV 2/5] END criterion=entropy, max_depth=3, max_features=log2, n_estimators=130;, score=0.574 total time=   0.3s\n",
            "[CV 3/5] END criterion=entropy, max_depth=3, max_features=log2, n_estimators=130;, score=0.598 total time=   0.3s\n",
            "[CV 4/5] END criterion=entropy, max_depth=3, max_features=log2, n_estimators=130;, score=0.577 total time=   0.3s\n",
            "[CV 5/5] END criterion=entropy, max_depth=3, max_features=log2, n_estimators=130;, score=0.600 total time=   0.3s\n",
            "Random Forest best params: {'criterion': 'entropy', 'max_depth': 3, 'max_features': 'log2', 'n_estimators': 130}\n",
            "Exited the get_best_params_for_random_forest method\n"
          ]
        }
      ]
    },
    {
      "cell_type": "code",
      "source": [
        "#checking for accuracy parameters\n",
        "from sklearn.metrics import accuracy_score\n",
        "\n",
        "# Assuming you have a trained classifier 'clf', training data 'train_x' and 'train_y',\n",
        "# and test data 'test_x' and 'test_y'\n",
        "clf = RandomForestClassifier()\n",
        "# Fit the classifier with the training data\n",
        "clf.fit(X_train, y_train)\n",
        "\n",
        "# Make predictions on the test set\n",
        "predictions = clf.predict(X_test)\n",
        "\n",
        "# Calculate accuracy\n",
        "accuracy = accuracy_score(y_test, predictions)\n",
        "\n",
        "# Print the accuracy\n",
        "print(\"Accuracy:\", accuracy)"
      ],
      "metadata": {
        "colab": {
          "base_uri": "https://localhost:8080/"
        },
        "id": "-dgPi1EfenTc",
        "outputId": "c44cf576-c5e5-4226-de96-a8a0e21791a1"
      },
      "execution_count": null,
      "outputs": [
        {
          "output_type": "stream",
          "name": "stdout",
          "text": [
            "Accuracy: 0.8950124688279302\n"
          ]
        }
      ]
    },
    {
      "cell_type": "markdown",
      "source": [
        "The purpose of the given code snippet is to utilize Random Forest for hyperparameter tuning. Hyperparameter tuning aims to find the best combination of hyperparameters for the Random Forest classifier, resulting in the highest accuracy.\n",
        "\n",
        "Random Forest is a popular choice for hyperparameter tuning due to several advantages it offers:\n",
        "\n",
        "Ensemble Learning: Random Forest is an ensemble learning algorithm that combines multiple decision trees. By aggregating the predictions of these trees, Random Forest can provide more accurate and robust predictions compared to a single decision tree.\n",
        "\n",
        "Flexibility: Random Forest provides flexibility in selecting hyperparameters, such as the number of trees (n_estimators), splitting criterion (criterion), maximum tree depth (max_depth), and maximum number of features to consider (max_features). This flexibility allows for fine-tuning the model to discover the best combination of hyperparameters.\n",
        "\n",
        "Overfitting Reduction: Random Forest is less susceptible to overfitting than individual decision trees. It achieves this by randomly selecting subsets of features and data during training, resulting in a more generalized model that performs well on unseen data.\n",
        "\n",
        "Feature Importance: Random Forest provides a measure of feature importance, which indicates the relevance of each feature in making predictions. This information can be valuable for feature selection and gaining insights into the underlying patterns in the dataset.\n",
        "\n",
        "By employing Random Forest for hyperparameter tuning, the get_best_params_for_random_forest function aims to identify the optimal combination of hyperparameters that maximizes the classifier's accuracy on the given dataset\n"
      ],
      "metadata": {
        "id": "snUQMYqfhlLr"
      }
    },
    {
      "cell_type": "code",
      "source": [
        "X_test.columns"
      ],
      "metadata": {
        "id": "ieH9sZXswRHY",
        "outputId": "2faeca1c-3aa3-43b8-9830-11bde8025473",
        "colab": {
          "base_uri": "https://localhost:8080/"
        }
      },
      "execution_count": null,
      "outputs": [
        {
          "output_type": "execute_result",
          "data": {
            "text/plain": [
              "Index(['age', 'sex', 'on_thyroxine', 'query_on_thyroxine',\n",
              "       'on_antithyroid_medication', 'sick', 'pregnant', 'thyroid_surgery',\n",
              "       'I131_treatment', 'query_hypothyroid', 'query_hyperthyroid', 'lithium',\n",
              "       'goitre', 'tumor', 'hypopituitary', 'psych', 'TSH_measured',\n",
              "       'T3_measured', 'TT4_measured', 'T4U_measured', 'FTI_measured',\n",
              "       'TBG_measured', 'referral_source_STMW', 'referral_source_SVHC',\n",
              "       'referral_source_SVHD', 'referral_source_SVI', 'referral_source_other'],\n",
              "      dtype='object')"
            ]
          },
          "metadata": {},
          "execution_count": 140
        }
      ]
    },
    {
      "cell_type": "code",
      "source": [
        "df.columns"
      ],
      "metadata": {
        "colab": {
          "base_uri": "https://localhost:8080/"
        },
        "id": "g_5JP0LThpp2",
        "outputId": "f85f469a-9d3f-4540-c142-6f23e6476f31"
      },
      "execution_count": null,
      "outputs": [
        {
          "output_type": "execute_result",
          "data": {
            "text/plain": [
              "Index(['age', 'sex', 'on_thyroxine', 'query_on_thyroxine',\n",
              "       'on_antithyroid_medication', 'sick', 'pregnant', 'thyroid_surgery',\n",
              "       'I131_treatment', 'query_hypothyroid', 'query_hyperthyroid', 'lithium',\n",
              "       'goitre', 'tumor', 'hypopituitary', 'psych', 'TSH_measured',\n",
              "       'T3_measured', 'TT4_measured', 'T4U_measured', 'FTI_measured',\n",
              "       'TBG_measured', 'Class', 'referral_source_STMW', 'referral_source_SVHC',\n",
              "       'referral_source_SVHD', 'referral_source_SVI', 'referral_source_other'],\n",
              "      dtype='object')"
            ]
          },
          "metadata": {},
          "execution_count": 141
        }
      ]
    },
    {
      "cell_type": "code",
      "source": [
        "  xy = ['age', 'sex', 'on_thyroxine', 'query_on_thyroxine',\n",
        "          'on_antithyroid_medication', 'sick', 'pregnant', 'thyroid_surgery',\n",
        "          'I131_treatment', 'query_hypothyroid', 'query_hyperthyroid', 'lithium',\n",
        "          'goitre', 'tumor', 'hypopituitary', 'psych', 'TSH_measured',\n",
        "          'T3_measured', 'TT4_measured', 'T4U_measured', 'FTI_measured',\n",
        "          'TBG_measured', 'referral_source_STMW', 'referral_source_SVHC',\n",
        "          'referral_source_SVHD', 'referral_source_SVI', 'referral_source_other']"
      ],
      "metadata": {
        "id": "15vuRY94CfCk"
      },
      "execution_count": null,
      "outputs": []
    },
    {
      "cell_type": "code",
      "source": [
        "for i in xy:\n",
        "  print(x_sampled[i].value_counts())"
      ],
      "metadata": {
        "colab": {
          "base_uri": "https://localhost:8080/"
        },
        "id": "Ffz_l2wxCmDi",
        "outputId": "60277c77-8e8f-403e-8e0d-5bdbb883bae8"
      },
      "execution_count": null,
      "outputs": [
        {
          "output_type": "stream",
          "name": "stdout",
          "text": [
            "41     1776\n",
            "46     1721\n",
            "60      551\n",
            "50      323\n",
            "63      323\n",
            "       ... \n",
            "10        1\n",
            "4         1\n",
            "5         1\n",
            "455       1\n",
            "6         1\n",
            "Name: age, Length: 93, dtype: int64\n",
            "0    9046\n",
            "1    4318\n",
            "Name: sex, dtype: int64\n",
            "0    12602\n",
            "1      762\n",
            "Name: on_thyroxine, dtype: int64\n",
            "0    13262\n",
            "1      102\n",
            "Name: query_on_thyroxine, dtype: int64\n",
            "0    13304\n",
            "1       60\n",
            "Name: on_antithyroid_medication, dtype: int64\n",
            "0    13046\n",
            "1      318\n",
            "Name: sick, dtype: int64\n",
            "0    13313\n",
            "1       51\n",
            "Name: pregnant, dtype: int64\n",
            "0    13231\n",
            "1      133\n",
            "Name: thyroid_surgery, dtype: int64\n",
            "0    13211\n",
            "1      153\n",
            "Name: I131_treatment, dtype: int64\n",
            "0    10514\n",
            "1     2850\n",
            "Name: query_hypothyroid, dtype: int64\n",
            "0    12842\n",
            "1      522\n",
            "Name: query_hyperthyroid, dtype: int64\n",
            "0    13325\n",
            "1       39\n",
            "Name: lithium, dtype: int64\n",
            "0    13330\n",
            "1       34\n",
            "Name: goitre, dtype: int64\n",
            "0    13108\n",
            "1      256\n",
            "Name: tumor, dtype: int64\n",
            "0    13363\n",
            "1        1\n",
            "Name: hypopituitary, dtype: int64\n",
            "0    13063\n",
            "1      301\n",
            "Name: psych, dtype: int64\n",
            "1    13012\n",
            "0      352\n",
            "Name: TSH_measured, dtype: int64\n",
            "1    11752\n",
            "0     1612\n",
            "Name: T3_measured, dtype: int64\n",
            "1    13059\n",
            "0      305\n",
            "Name: TT4_measured, dtype: int64\n",
            "1    10789\n",
            "0     2575\n",
            "Name: T4U_measured, dtype: int64\n",
            "1    10791\n",
            "0     2573\n",
            "Name: FTI_measured, dtype: int64\n",
            "0    13364\n",
            "Name: TBG_measured, dtype: int64\n",
            "0    13198\n",
            "1      166\n",
            "Name: referral_source_STMW, dtype: int64\n",
            "0    12802\n",
            "1      562\n",
            "Name: referral_source_SVHC, dtype: int64\n",
            "0    13272\n",
            "1       92\n",
            "Name: referral_source_SVHD, dtype: int64\n",
            "0    10097\n",
            "1     3267\n",
            "Name: referral_source_SVI, dtype: int64\n",
            "1    9277\n",
            "0    4087\n",
            "Name: referral_source_other, dtype: int64\n"
          ]
        }
      ]
    },
    {
      "cell_type": "code",
      "source": [
        "X_test.head(1).value_counts()"
      ],
      "metadata": {
        "colab": {
          "base_uri": "https://localhost:8080/"
        },
        "id": "d26nzhPRMgeY",
        "outputId": "3b6758f1-37cf-43ad-e098-0010e93e0af9"
      },
      "execution_count": null,
      "outputs": [
        {
          "output_type": "execute_result",
          "data": {
            "text/plain": [
              "age  sex  on_thyroxine  query_on_thyroxine  on_antithyroid_medication  sick  pregnant  thyroid_surgery  I131_treatment  query_hypothyroid  query_hyperthyroid  lithium  goitre  tumor  hypopituitary  psych  TSH_measured  T3_measured  TT4_measured  T4U_measured  FTI_measured  TBG_measured  referral_source_STMW  referral_source_SVHC  referral_source_SVHD  referral_source_SVI  referral_source_other\n",
              "57   0    0             0                   0                          0     0         0                0               0                  0                   0        0       0      0              0      1             0            1             1             1             0             0                     0                     0                     0                    1                        1\n",
              "dtype: int64"
            ]
          },
          "metadata": {},
          "execution_count": 144
        }
      ]
    },
    {
      "cell_type": "code",
      "source": [
        "y_test.value_counts()"
      ],
      "metadata": {
        "colab": {
          "base_uri": "https://localhost:8080/"
        },
        "id": "D-ClEe4_NprU",
        "outputId": "f8237dd6-3e11-4454-9b28-1e58d675aef6"
      },
      "execution_count": null,
      "outputs": [
        {
          "output_type": "execute_result",
          "data": {
            "text/plain": [
              "1    1032\n",
              "3    1005\n",
              "0     996\n",
              "2     977\n",
              "Name: Class, dtype: int64"
            ]
          },
          "metadata": {},
          "execution_count": 145
        }
      ]
    },
    {
      "cell_type": "code",
      "source": [
        "y_train.value_counts()"
      ],
      "metadata": {
        "colab": {
          "base_uri": "https://localhost:8080/"
        },
        "id": "5IADwOsrPADD",
        "outputId": "2173243a-4bd0-4688-959f-15947f14e360"
      },
      "execution_count": null,
      "outputs": [
        {
          "output_type": "execute_result",
          "data": {
            "text/plain": [
              "2    2364\n",
              "0    2345\n",
              "3    2336\n",
              "1    2309\n",
              "Name: Class, dtype: int64"
            ]
          },
          "metadata": {},
          "execution_count": 146
        }
      ]
    },
    {
      "cell_type": "code",
      "source": [
        "y_train.value_counts().sum()"
      ],
      "metadata": {
        "colab": {
          "base_uri": "https://localhost:8080/"
        },
        "id": "rFa_7leOPHXC",
        "outputId": "802ca252-8198-4c73-aa3c-01ab2414c43d"
      },
      "execution_count": null,
      "outputs": [
        {
          "output_type": "execute_result",
          "data": {
            "text/plain": [
              "9354"
            ]
          },
          "metadata": {},
          "execution_count": 147
        }
      ]
    },
    {
      "cell_type": "code",
      "source": [
        "y_test.value_counts().sum()"
      ],
      "metadata": {
        "colab": {
          "base_uri": "https://localhost:8080/"
        },
        "id": "0vdQgN6IOvnG",
        "outputId": "3558d5bd-563e-49f0-e854-1a0af9ddf7ac"
      },
      "execution_count": null,
      "outputs": [
        {
          "output_type": "execute_result",
          "data": {
            "text/plain": [
              "4010"
            ]
          },
          "metadata": {},
          "execution_count": 148
        }
      ]
    },
    {
      "cell_type": "code",
      "source": [
        "y_test.value_counts().sum() + y_train.value_counts().sum()"
      ],
      "metadata": {
        "colab": {
          "base_uri": "https://localhost:8080/"
        },
        "id": "mdDYKwmGPUCK",
        "outputId": "08c478d5-4ae2-4033-df9d-035bb078af7d"
      },
      "execution_count": null,
      "outputs": [
        {
          "output_type": "execute_result",
          "data": {
            "text/plain": [
              "13364"
            ]
          },
          "metadata": {},
          "execution_count": 149
        }
      ]
    },
    {
      "cell_type": "code",
      "source": [
        "y_train.head(1)"
      ],
      "metadata": {
        "colab": {
          "base_uri": "https://localhost:8080/"
        },
        "id": "O6OY6684QtKK",
        "outputId": "2f5d7d73-c1ff-40a1-cf0c-9c33a9654e76"
      },
      "execution_count": null,
      "outputs": [
        {
          "output_type": "execute_result",
          "data": {
            "text/plain": [
              "20    1\n",
              "Name: Class, dtype: int64"
            ]
          },
          "metadata": {},
          "execution_count": 150
        }
      ]
    },
    {
      "cell_type": "markdown",
      "source": [
        "70   1    0             0                   0                          0     0         0                0               0                  1                   0        0       0      0              0      0             0            0             0             0             0             0                     0                     0                     0                    1                        1"
      ],
      "metadata": {
        "id": "oN-6Ki00M2rF"
      }
    },
    {
      "cell_type": "code",
      "source": [
        "result = clf.predict([[70,1, 0, 0, 0, 0, 0, 0, 0, 0, 1, 0, 0, 0, 0, 0, 0, 0, 0, 0, 0, 0, 0, 0, 0, 1, 1]])"
      ],
      "metadata": {
        "id": "IKJGZW_lCrV2",
        "colab": {
          "base_uri": "https://localhost:8080/"
        },
        "outputId": "586107db-46e7-447a-a815-6642dcc4f2ee"
      },
      "execution_count": null,
      "outputs": [
        {
          "output_type": "stream",
          "name": "stderr",
          "text": [
            "/usr/local/lib/python3.10/dist-packages/sklearn/base.py:439: UserWarning: X does not have valid feature names, but RandomForestClassifier was fitted with feature names\n",
            "  warnings.warn(\n"
          ]
        }
      ]
    },
    {
      "cell_type": "code",
      "source": [
        "result"
      ],
      "metadata": {
        "colab": {
          "base_uri": "https://localhost:8080/"
        },
        "id": "wFQNKit0NKev",
        "outputId": "287f9b87-3c02-4103-b7f9-d0ea908bf366"
      },
      "execution_count": null,
      "outputs": [
        {
          "output_type": "execute_result",
          "data": {
            "text/plain": [
              "array([1])"
            ]
          },
          "metadata": {},
          "execution_count": 152
        }
      ]
    },
    {
      "cell_type": "code",
      "source": [
        "y_train"
      ],
      "metadata": {
        "colab": {
          "base_uri": "https://localhost:8080/"
        },
        "id": "xW6BH6ZKNmZP",
        "outputId": "186b75fa-468b-4fe2-8142-a677eb3222b6"
      },
      "execution_count": null,
      "outputs": [
        {
          "output_type": "execute_result",
          "data": {
            "text/plain": [
              "20       1\n",
              "9028     2\n",
              "5127     0\n",
              "12054    3\n",
              "441      1\n",
              "        ..\n",
              "2514     1\n",
              "11798    3\n",
              "6637     0\n",
              "2575     1\n",
              "7336     2\n",
              "Name: Class, Length: 9354, dtype: int64"
            ]
          },
          "metadata": {},
          "execution_count": 153
        }
      ]
    },
    {
      "cell_type": "code",
      "source": [
        "second_row = X_train.iloc[1]"
      ],
      "metadata": {
        "id": "dxHa2PK-qyK1"
      },
      "execution_count": null,
      "outputs": []
    },
    {
      "cell_type": "code",
      "source": [
        "X_train"
      ],
      "metadata": {
        "colab": {
          "base_uri": "https://localhost:8080/",
          "height": 488
        },
        "id": "65hx2K-irqjt",
        "outputId": "848eb869-bd98-496d-a301-bafcd053aa62"
      },
      "execution_count": null,
      "outputs": [
        {
          "output_type": "execute_result",
          "data": {
            "text/plain": [
              "      age  sex  on_thyroxine  query_on_thyroxine  on_antithyroid_medication  \\\n",
              "20     46    1             0                   0                          0   \n",
              "9028   73    0             0                   0                          0   \n",
              "5127   50    0             0                   0                          0   \n",
              "12054  41    1             0                   0                          0   \n",
              "441    73    0             0                   0                          0   \n",
              "...    ..  ...           ...                 ...                        ...   \n",
              "2514   59    0             0                   0                          0   \n",
              "11798  46    0             0                   0                          0   \n",
              "6637   52    0             0                   0                          0   \n",
              "2575   66    0             0                   0                          0   \n",
              "7336   84    0             0                   0                          0   \n",
              "\n",
              "       sick  pregnant  thyroid_surgery  I131_treatment  query_hypothyroid  \\\n",
              "20        0         0                0               0                  0   \n",
              "9028      0         0                0               0                  0   \n",
              "5127      0         0                0               0                  0   \n",
              "12054     0         0                0               0                  1   \n",
              "441       0         0                0               0                  0   \n",
              "...     ...       ...              ...             ...                ...   \n",
              "2514      0         0                0               0                  0   \n",
              "11798     0         0                0               0                  0   \n",
              "6637      0         0                0               0                  1   \n",
              "2575      0         0                0               0                  0   \n",
              "7336      0         0                0               0                  0   \n",
              "\n",
              "       ...  T3_measured  TT4_measured  T4U_measured  FTI_measured  \\\n",
              "20     ...            1             1             1             1   \n",
              "9028   ...            1             1             1             1   \n",
              "5127   ...            1             1             1             1   \n",
              "12054  ...            1             1             0             0   \n",
              "441    ...            1             1             1             1   \n",
              "...    ...          ...           ...           ...           ...   \n",
              "2514   ...            1             1             1             1   \n",
              "11798  ...            1             1             1             1   \n",
              "6637   ...            1             1             1             1   \n",
              "2575   ...            1             0             0             0   \n",
              "7336   ...            1             1             1             1   \n",
              "\n",
              "       TBG_measured  referral_source_STMW  referral_source_SVHC  \\\n",
              "20                0                     0                     0   \n",
              "9028              0                     0                     0   \n",
              "5127              0                     0                     0   \n",
              "12054             0                     0                     0   \n",
              "441               0                     0                     0   \n",
              "...             ...                   ...                   ...   \n",
              "2514              0                     0                     0   \n",
              "11798             0                     0                     0   \n",
              "6637              0                     0                     0   \n",
              "2575              0                     0                     0   \n",
              "7336              0                     0                     0   \n",
              "\n",
              "       referral_source_SVHD  referral_source_SVI  referral_source_other  \n",
              "20                        0                    0                      1  \n",
              "9028                      0                    0                      1  \n",
              "5127                      0                    0                      1  \n",
              "12054                     0                    0                      1  \n",
              "441                       0                    0                      1  \n",
              "...                     ...                  ...                    ...  \n",
              "2514                      1                    0                      0  \n",
              "11798                     0                    0                      1  \n",
              "6637                      0                    0                      1  \n",
              "2575                      0                    0                      1  \n",
              "7336                      0                    1                      0  \n",
              "\n",
              "[9354 rows x 27 columns]"
            ],
            "text/html": [
              "\n",
              "  <div id=\"df-52949f1e-b1fd-4988-a2dc-9d651aff6e65\">\n",
              "    <div class=\"colab-df-container\">\n",
              "      <div>\n",
              "<style scoped>\n",
              "    .dataframe tbody tr th:only-of-type {\n",
              "        vertical-align: middle;\n",
              "    }\n",
              "\n",
              "    .dataframe tbody tr th {\n",
              "        vertical-align: top;\n",
              "    }\n",
              "\n",
              "    .dataframe thead th {\n",
              "        text-align: right;\n",
              "    }\n",
              "</style>\n",
              "<table border=\"1\" class=\"dataframe\">\n",
              "  <thead>\n",
              "    <tr style=\"text-align: right;\">\n",
              "      <th></th>\n",
              "      <th>age</th>\n",
              "      <th>sex</th>\n",
              "      <th>on_thyroxine</th>\n",
              "      <th>query_on_thyroxine</th>\n",
              "      <th>on_antithyroid_medication</th>\n",
              "      <th>sick</th>\n",
              "      <th>pregnant</th>\n",
              "      <th>thyroid_surgery</th>\n",
              "      <th>I131_treatment</th>\n",
              "      <th>query_hypothyroid</th>\n",
              "      <th>...</th>\n",
              "      <th>T3_measured</th>\n",
              "      <th>TT4_measured</th>\n",
              "      <th>T4U_measured</th>\n",
              "      <th>FTI_measured</th>\n",
              "      <th>TBG_measured</th>\n",
              "      <th>referral_source_STMW</th>\n",
              "      <th>referral_source_SVHC</th>\n",
              "      <th>referral_source_SVHD</th>\n",
              "      <th>referral_source_SVI</th>\n",
              "      <th>referral_source_other</th>\n",
              "    </tr>\n",
              "  </thead>\n",
              "  <tbody>\n",
              "    <tr>\n",
              "      <th>20</th>\n",
              "      <td>46</td>\n",
              "      <td>1</td>\n",
              "      <td>0</td>\n",
              "      <td>0</td>\n",
              "      <td>0</td>\n",
              "      <td>0</td>\n",
              "      <td>0</td>\n",
              "      <td>0</td>\n",
              "      <td>0</td>\n",
              "      <td>0</td>\n",
              "      <td>...</td>\n",
              "      <td>1</td>\n",
              "      <td>1</td>\n",
              "      <td>1</td>\n",
              "      <td>1</td>\n",
              "      <td>0</td>\n",
              "      <td>0</td>\n",
              "      <td>0</td>\n",
              "      <td>0</td>\n",
              "      <td>0</td>\n",
              "      <td>1</td>\n",
              "    </tr>\n",
              "    <tr>\n",
              "      <th>9028</th>\n",
              "      <td>73</td>\n",
              "      <td>0</td>\n",
              "      <td>0</td>\n",
              "      <td>0</td>\n",
              "      <td>0</td>\n",
              "      <td>0</td>\n",
              "      <td>0</td>\n",
              "      <td>0</td>\n",
              "      <td>0</td>\n",
              "      <td>0</td>\n",
              "      <td>...</td>\n",
              "      <td>1</td>\n",
              "      <td>1</td>\n",
              "      <td>1</td>\n",
              "      <td>1</td>\n",
              "      <td>0</td>\n",
              "      <td>0</td>\n",
              "      <td>0</td>\n",
              "      <td>0</td>\n",
              "      <td>0</td>\n",
              "      <td>1</td>\n",
              "    </tr>\n",
              "    <tr>\n",
              "      <th>5127</th>\n",
              "      <td>50</td>\n",
              "      <td>0</td>\n",
              "      <td>0</td>\n",
              "      <td>0</td>\n",
              "      <td>0</td>\n",
              "      <td>0</td>\n",
              "      <td>0</td>\n",
              "      <td>0</td>\n",
              "      <td>0</td>\n",
              "      <td>0</td>\n",
              "      <td>...</td>\n",
              "      <td>1</td>\n",
              "      <td>1</td>\n",
              "      <td>1</td>\n",
              "      <td>1</td>\n",
              "      <td>0</td>\n",
              "      <td>0</td>\n",
              "      <td>0</td>\n",
              "      <td>0</td>\n",
              "      <td>0</td>\n",
              "      <td>1</td>\n",
              "    </tr>\n",
              "    <tr>\n",
              "      <th>12054</th>\n",
              "      <td>41</td>\n",
              "      <td>1</td>\n",
              "      <td>0</td>\n",
              "      <td>0</td>\n",
              "      <td>0</td>\n",
              "      <td>0</td>\n",
              "      <td>0</td>\n",
              "      <td>0</td>\n",
              "      <td>0</td>\n",
              "      <td>1</td>\n",
              "      <td>...</td>\n",
              "      <td>1</td>\n",
              "      <td>1</td>\n",
              "      <td>0</td>\n",
              "      <td>0</td>\n",
              "      <td>0</td>\n",
              "      <td>0</td>\n",
              "      <td>0</td>\n",
              "      <td>0</td>\n",
              "      <td>0</td>\n",
              "      <td>1</td>\n",
              "    </tr>\n",
              "    <tr>\n",
              "      <th>441</th>\n",
              "      <td>73</td>\n",
              "      <td>0</td>\n",
              "      <td>0</td>\n",
              "      <td>0</td>\n",
              "      <td>0</td>\n",
              "      <td>0</td>\n",
              "      <td>0</td>\n",
              "      <td>0</td>\n",
              "      <td>0</td>\n",
              "      <td>0</td>\n",
              "      <td>...</td>\n",
              "      <td>1</td>\n",
              "      <td>1</td>\n",
              "      <td>1</td>\n",
              "      <td>1</td>\n",
              "      <td>0</td>\n",
              "      <td>0</td>\n",
              "      <td>0</td>\n",
              "      <td>0</td>\n",
              "      <td>0</td>\n",
              "      <td>1</td>\n",
              "    </tr>\n",
              "    <tr>\n",
              "      <th>...</th>\n",
              "      <td>...</td>\n",
              "      <td>...</td>\n",
              "      <td>...</td>\n",
              "      <td>...</td>\n",
              "      <td>...</td>\n",
              "      <td>...</td>\n",
              "      <td>...</td>\n",
              "      <td>...</td>\n",
              "      <td>...</td>\n",
              "      <td>...</td>\n",
              "      <td>...</td>\n",
              "      <td>...</td>\n",
              "      <td>...</td>\n",
              "      <td>...</td>\n",
              "      <td>...</td>\n",
              "      <td>...</td>\n",
              "      <td>...</td>\n",
              "      <td>...</td>\n",
              "      <td>...</td>\n",
              "      <td>...</td>\n",
              "      <td>...</td>\n",
              "    </tr>\n",
              "    <tr>\n",
              "      <th>2514</th>\n",
              "      <td>59</td>\n",
              "      <td>0</td>\n",
              "      <td>0</td>\n",
              "      <td>0</td>\n",
              "      <td>0</td>\n",
              "      <td>0</td>\n",
              "      <td>0</td>\n",
              "      <td>0</td>\n",
              "      <td>0</td>\n",
              "      <td>0</td>\n",
              "      <td>...</td>\n",
              "      <td>1</td>\n",
              "      <td>1</td>\n",
              "      <td>1</td>\n",
              "      <td>1</td>\n",
              "      <td>0</td>\n",
              "      <td>0</td>\n",
              "      <td>0</td>\n",
              "      <td>1</td>\n",
              "      <td>0</td>\n",
              "      <td>0</td>\n",
              "    </tr>\n",
              "    <tr>\n",
              "      <th>11798</th>\n",
              "      <td>46</td>\n",
              "      <td>0</td>\n",
              "      <td>0</td>\n",
              "      <td>0</td>\n",
              "      <td>0</td>\n",
              "      <td>0</td>\n",
              "      <td>0</td>\n",
              "      <td>0</td>\n",
              "      <td>0</td>\n",
              "      <td>0</td>\n",
              "      <td>...</td>\n",
              "      <td>1</td>\n",
              "      <td>1</td>\n",
              "      <td>1</td>\n",
              "      <td>1</td>\n",
              "      <td>0</td>\n",
              "      <td>0</td>\n",
              "      <td>0</td>\n",
              "      <td>0</td>\n",
              "      <td>0</td>\n",
              "      <td>1</td>\n",
              "    </tr>\n",
              "    <tr>\n",
              "      <th>6637</th>\n",
              "      <td>52</td>\n",
              "      <td>0</td>\n",
              "      <td>0</td>\n",
              "      <td>0</td>\n",
              "      <td>0</td>\n",
              "      <td>0</td>\n",
              "      <td>0</td>\n",
              "      <td>0</td>\n",
              "      <td>0</td>\n",
              "      <td>1</td>\n",
              "      <td>...</td>\n",
              "      <td>1</td>\n",
              "      <td>1</td>\n",
              "      <td>1</td>\n",
              "      <td>1</td>\n",
              "      <td>0</td>\n",
              "      <td>0</td>\n",
              "      <td>0</td>\n",
              "      <td>0</td>\n",
              "      <td>0</td>\n",
              "      <td>1</td>\n",
              "    </tr>\n",
              "    <tr>\n",
              "      <th>2575</th>\n",
              "      <td>66</td>\n",
              "      <td>0</td>\n",
              "      <td>0</td>\n",
              "      <td>0</td>\n",
              "      <td>0</td>\n",
              "      <td>0</td>\n",
              "      <td>0</td>\n",
              "      <td>0</td>\n",
              "      <td>0</td>\n",
              "      <td>0</td>\n",
              "      <td>...</td>\n",
              "      <td>1</td>\n",
              "      <td>0</td>\n",
              "      <td>0</td>\n",
              "      <td>0</td>\n",
              "      <td>0</td>\n",
              "      <td>0</td>\n",
              "      <td>0</td>\n",
              "      <td>0</td>\n",
              "      <td>0</td>\n",
              "      <td>1</td>\n",
              "    </tr>\n",
              "    <tr>\n",
              "      <th>7336</th>\n",
              "      <td>84</td>\n",
              "      <td>0</td>\n",
              "      <td>0</td>\n",
              "      <td>0</td>\n",
              "      <td>0</td>\n",
              "      <td>0</td>\n",
              "      <td>0</td>\n",
              "      <td>0</td>\n",
              "      <td>0</td>\n",
              "      <td>0</td>\n",
              "      <td>...</td>\n",
              "      <td>1</td>\n",
              "      <td>1</td>\n",
              "      <td>1</td>\n",
              "      <td>1</td>\n",
              "      <td>0</td>\n",
              "      <td>0</td>\n",
              "      <td>0</td>\n",
              "      <td>0</td>\n",
              "      <td>1</td>\n",
              "      <td>0</td>\n",
              "    </tr>\n",
              "  </tbody>\n",
              "</table>\n",
              "<p>9354 rows × 27 columns</p>\n",
              "</div>\n",
              "      <button class=\"colab-df-convert\" onclick=\"convertToInteractive('df-52949f1e-b1fd-4988-a2dc-9d651aff6e65')\"\n",
              "              title=\"Convert this dataframe to an interactive table.\"\n",
              "              style=\"display:none;\">\n",
              "        \n",
              "  <svg xmlns=\"http://www.w3.org/2000/svg\" height=\"24px\"viewBox=\"0 0 24 24\"\n",
              "       width=\"24px\">\n",
              "    <path d=\"M0 0h24v24H0V0z\" fill=\"none\"/>\n",
              "    <path d=\"M18.56 5.44l.94 2.06.94-2.06 2.06-.94-2.06-.94-.94-2.06-.94 2.06-2.06.94zm-11 1L8.5 8.5l.94-2.06 2.06-.94-2.06-.94L8.5 2.5l-.94 2.06-2.06.94zm10 10l.94 2.06.94-2.06 2.06-.94-2.06-.94-.94-2.06-.94 2.06-2.06.94z\"/><path d=\"M17.41 7.96l-1.37-1.37c-.4-.4-.92-.59-1.43-.59-.52 0-1.04.2-1.43.59L10.3 9.45l-7.72 7.72c-.78.78-.78 2.05 0 2.83L4 21.41c.39.39.9.59 1.41.59.51 0 1.02-.2 1.41-.59l7.78-7.78 2.81-2.81c.8-.78.8-2.07 0-2.86zM5.41 20L4 18.59l7.72-7.72 1.47 1.35L5.41 20z\"/>\n",
              "  </svg>\n",
              "      </button>\n",
              "      \n",
              "  <style>\n",
              "    .colab-df-container {\n",
              "      display:flex;\n",
              "      flex-wrap:wrap;\n",
              "      gap: 12px;\n",
              "    }\n",
              "\n",
              "    .colab-df-convert {\n",
              "      background-color: #E8F0FE;\n",
              "      border: none;\n",
              "      border-radius: 50%;\n",
              "      cursor: pointer;\n",
              "      display: none;\n",
              "      fill: #1967D2;\n",
              "      height: 32px;\n",
              "      padding: 0 0 0 0;\n",
              "      width: 32px;\n",
              "    }\n",
              "\n",
              "    .colab-df-convert:hover {\n",
              "      background-color: #E2EBFA;\n",
              "      box-shadow: 0px 1px 2px rgba(60, 64, 67, 0.3), 0px 1px 3px 1px rgba(60, 64, 67, 0.15);\n",
              "      fill: #174EA6;\n",
              "    }\n",
              "\n",
              "    [theme=dark] .colab-df-convert {\n",
              "      background-color: #3B4455;\n",
              "      fill: #D2E3FC;\n",
              "    }\n",
              "\n",
              "    [theme=dark] .colab-df-convert:hover {\n",
              "      background-color: #434B5C;\n",
              "      box-shadow: 0px 1px 3px 1px rgba(0, 0, 0, 0.15);\n",
              "      filter: drop-shadow(0px 1px 2px rgba(0, 0, 0, 0.3));\n",
              "      fill: #FFFFFF;\n",
              "    }\n",
              "  </style>\n",
              "\n",
              "      <script>\n",
              "        const buttonEl =\n",
              "          document.querySelector('#df-52949f1e-b1fd-4988-a2dc-9d651aff6e65 button.colab-df-convert');\n",
              "        buttonEl.style.display =\n",
              "          google.colab.kernel.accessAllowed ? 'block' : 'none';\n",
              "\n",
              "        async function convertToInteractive(key) {\n",
              "          const element = document.querySelector('#df-52949f1e-b1fd-4988-a2dc-9d651aff6e65');\n",
              "          const dataTable =\n",
              "            await google.colab.kernel.invokeFunction('convertToInteractive',\n",
              "                                                     [key], {});\n",
              "          if (!dataTable) return;\n",
              "\n",
              "          const docLinkHtml = 'Like what you see? Visit the ' +\n",
              "            '<a target=\"_blank\" href=https://colab.research.google.com/notebooks/data_table.ipynb>data table notebook</a>'\n",
              "            + ' to learn more about interactive tables.';\n",
              "          element.innerHTML = '';\n",
              "          dataTable['output_type'] = 'display_data';\n",
              "          await google.colab.output.renderOutput(dataTable, element);\n",
              "          const docLink = document.createElement('div');\n",
              "          docLink.innerHTML = docLinkHtml;\n",
              "          element.appendChild(docLink);\n",
              "        }\n",
              "      </script>\n",
              "    </div>\n",
              "  </div>\n",
              "  "
            ]
          },
          "metadata": {},
          "execution_count": 155
        }
      ]
    },
    {
      "cell_type": "code",
      "source": [
        "y_train"
      ],
      "metadata": {
        "colab": {
          "base_uri": "https://localhost:8080/"
        },
        "id": "6TaCBfWtsCim",
        "outputId": "71703521-bdf4-430f-903f-0fe8c57d512e"
      },
      "execution_count": null,
      "outputs": [
        {
          "output_type": "execute_result",
          "data": {
            "text/plain": [
              "20       1\n",
              "9028     2\n",
              "5127     0\n",
              "12054    3\n",
              "441      1\n",
              "        ..\n",
              "2514     1\n",
              "11798    3\n",
              "6637     0\n",
              "2575     1\n",
              "7336     2\n",
              "Name: Class, Length: 9354, dtype: int64"
            ]
          },
          "metadata": {},
          "execution_count": 158
        }
      ]
    },
    {
      "cell_type": "code",
      "source": [
        "second_row"
      ],
      "metadata": {
        "colab": {
          "base_uri": "https://localhost:8080/"
        },
        "id": "um3KQWKgq5p1",
        "outputId": "70024284-f4c4-45cb-9997-33e8be838d0b"
      },
      "execution_count": null,
      "outputs": [
        {
          "output_type": "execute_result",
          "data": {
            "text/plain": [
              "age                          73\n",
              "sex                           0\n",
              "on_thyroxine                  0\n",
              "query_on_thyroxine            0\n",
              "on_antithyroid_medication     0\n",
              "sick                          0\n",
              "pregnant                      0\n",
              "thyroid_surgery               0\n",
              "I131_treatment                0\n",
              "query_hypothyroid             0\n",
              "query_hyperthyroid            0\n",
              "lithium                       0\n",
              "goitre                        0\n",
              "tumor                         0\n",
              "hypopituitary                 0\n",
              "psych                         0\n",
              "TSH_measured                  1\n",
              "T3_measured                   1\n",
              "TT4_measured                  1\n",
              "T4U_measured                  1\n",
              "FTI_measured                  1\n",
              "TBG_measured                  0\n",
              "referral_source_STMW          0\n",
              "referral_source_SVHC          0\n",
              "referral_source_SVHD          0\n",
              "referral_source_SVI           0\n",
              "referral_source_other         1\n",
              "Name: 9028, dtype: object"
            ]
          },
          "metadata": {},
          "execution_count": 159
        }
      ]
    },
    {
      "cell_type": "markdown",
      "source": [
        "1 - negative                   \n",
        "0 - compensated_hypothyroid    \n",
        "2 - primary_hypothyroid         \n",
        "3 - secondary_hypothyroid      "
      ],
      "metadata": {
        "id": "r6yFrM5iucU7"
      }
    },
    {
      "cell_type": "code",
      "source": [],
      "metadata": {
        "id": "l9zxQbG8rnn-"
      },
      "execution_count": null,
      "outputs": []
    }
  ]
}
